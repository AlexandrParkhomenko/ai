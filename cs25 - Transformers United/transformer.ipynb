{
 "cells": [
  {
   "cell_type": "markdown",
   "metadata": {
    "id": "s_qNSzzyaCbD"
   },
   "source": [
    "##### Copyright 2019 The TensorFlow Authors.\n",
    "\n",
    "Пархоменко Александр"
   ]
  },
  {
   "cell_type": "code",
   "execution_count": 57,
   "metadata": {
    "cellView": "form",
    "execution": {
     "iopub.execute_input": "2022-08-23T14:19:19.183073Z",
     "iopub.status.busy": "2022-08-23T14:19:19.182534Z",
     "iopub.status.idle": "2022-08-23T14:19:19.212694Z",
     "shell.execute_reply": "2022-08-23T14:19:19.211509Z",
     "shell.execute_reply.started": "2022-08-23T14:19:19.182978Z"
    },
    "id": "jmjh290raIky"
   },
   "outputs": [],
   "source": [
    "#@title Licensed under the Apache License, Version 2.0 (the \"License\");\n",
    "# you may not use this file except in compliance with the License.\n",
    "# You may obtain a copy of the License at\n",
    "#\n",
    "# https://www.apache.org/licenses/LICENSE-2.0\n",
    "#\n",
    "# Unless required by applicable law or agreed to in writing, software\n",
    "# distributed under the License is distributed on an \"AS IS\" BASIS,\n",
    "# WITHOUT WARRANTIES OR CONDITIONS OF ANY KIND, either express or implied.\n",
    "# See the License for the specific language governing permissions and\n",
    "# limitations under the License."
   ]
  },
  {
   "cell_type": "markdown",
   "metadata": {
    "id": "J0Qjg6vuaHNt"
   },
   "source": [
    "# Модель-трансформер для понимания языка"
   ]
  },
  {
   "cell_type": "markdown",
   "metadata": {
    "id": "M-f8TnGpE_ex"
   },
   "source": [
    "В этом руководстве <a href=\"https://arxiv.org/abs/1706.03762\" class=\"external\">модель Transformer</a> обучается переводу используя [набор данных Русско-Английского перевода](https://www.tensorflow.org/datasets/catalog/ted_hrlr_translate#ted_hrlr_translateru_to_en).\n",
    "\n",
    "Это расширенный пример, который предполагает знание [генерации текста](https://www.tensorflow.org/text/tutorials/text_generation) а также [внимания](https://www.tensorflow.org/text/tutorials/nmt_with_attention).\n",
    "\n",
    "Этот учебник демонстрирует, как построить модель трансформера и большинство ее компонентов *с нуля* с использованием низкоуровневых функций Tensorflow и Keras. Некоторые из них могут быть сведены к минимуму, если вы воспользуетесь встроенными API, как `tf.keras.layers.MultiHeadAttention`.\n",
    "\n",
    "Основной идея модели трансформера — это *самовнимание* — способность обращать внимание на различные позиции входной последовательности для вычисления представления этой последовательности. Трансформер создает стек слоев собственного внимания и объясняется ниже в разделах *Масштабированное скалярное произведение внимания* и *Внимание с несколькими головками*.\n",
    "\n",
    "Модель трансформера обрабатывает входные данные переменного размера, используя стеки уровней внутреннего внимания вместо [РНС](https://www.tensorflow.org/text/tutorials/text_classification_rnn) или [СНС](https://www.tensorflow.org/tutorials/images/cnn). Эта общая архитектура имеет ряд преимуществ:\n",
    "\n",
    "* Она не делает предположений о временных/пространственных отношениях между данными. Это идеально подходит для обработки набора объектов.\n",
    "* Выходы слоя могут быть рассчитаны параллельно, а не серией, как в архитектуре РНС.\n",
    "* Отдаленные элементы могут влиять на выход друг друга, не проходя через множество шагов РНС или слои свертки (см., например: [Scene Memory Transformer](https://arxiv.org/pdf/1903.03878.pdf)).\n",
    "* Она может изучать долгосрочные зависимости. Это проблема во многих задачах с последовательным принятием решений.\n",
    "\n",
    "Недостатки этой архитектуры:\n",
    "\n",
    "* Для временного ряда выходные данные для временного шага рассчитываются из *всей истории* вместо только из входных данных и текущего скрытого состояния. Это *может* быть менее эффективным.   \n",
    "* Если входные данные *имеют* временные/пространственные отношения, например, текст, необходимо добавить некоторое позиционное кодирование, иначе модель фактически увидит набор слов. \n",
    "\n",
    "После обучения модели в этом руководстве вы сможете ввести английское предложение и вернуть русский перевод.\n",
    "\n",
    "<img src=\"https://github.com/AlexandrParkhomenko/ai/raw/main/cs25/attention_map_portuguese.png\" width=\"800\" alt=\"Attention heatmap\">"
   ]
  },
  {
   "cell_type": "markdown",
   "metadata": {
    "id": "swymtxpl7W7w"
   },
   "source": [
    "## Настройка"
   ]
  },
  {
   "cell_type": "code",
   "execution_count": 58,
   "metadata": {
    "execution": {
     "iopub.execute_input": "2022-08-23T14:19:19.216121Z",
     "iopub.status.busy": "2022-08-23T14:19:19.215597Z",
     "iopub.status.idle": "2022-08-23T14:21:28.385877Z",
     "shell.execute_reply": "2022-08-23T14:21:28.384189Z",
     "shell.execute_reply.started": "2022-08-23T14:19:19.216081Z"
    },
    "id": "XFG0NDRu5mYQ"
   },
   "outputs": [],
   "source": [
    "#!pip install tensorflow_datasets\n",
    " #!pip install libclang\n",
    " #!pip install tensorflow-io-gcs-filesystem\n",
    "#!pip install -U tensorflow-text"
   ]
  },
  {
   "cell_type": "code",
   "execution_count": 59,
   "metadata": {
    "execution": {
     "iopub.execute_input": "2022-08-24T05:30:17.261486Z",
     "iopub.status.busy": "2022-08-24T05:30:17.261005Z",
     "iopub.status.idle": "2022-08-24T05:30:17.269963Z",
     "shell.execute_reply": "2022-08-24T05:30:17.268436Z",
     "shell.execute_reply.started": "2022-08-24T05:30:17.261450Z"
    },
    "id": "JjJJyJTZYebt"
   },
   "outputs": [],
   "source": [
    "import logging\n",
    "import time\n",
    "\n",
    "import numpy as np\n",
    "import matplotlib.pyplot as plt\n",
    "\n",
    "import tensorflow_datasets as tfds\n",
    "import tensorflow as tf\n",
    "\n",
    "# Import tf_text to load the ops used by the tokenizer saved model\n",
    "import tensorflow_text  # pylint: disable=unused-import"
   ]
  },
  {
   "cell_type": "code",
   "execution_count": 60,
   "metadata": {
    "execution": {
     "iopub.execute_input": "2022-08-24T05:30:21.737900Z",
     "iopub.status.busy": "2022-08-24T05:30:21.737437Z",
     "iopub.status.idle": "2022-08-24T05:30:21.745679Z",
     "shell.execute_reply": "2022-08-24T05:30:21.744017Z",
     "shell.execute_reply.started": "2022-08-24T05:30:21.737866Z"
    },
    "id": "pXzVhU34zWEU"
   },
   "outputs": [],
   "source": [
    "logging.getLogger('tensorflow').setLevel(logging.ERROR)  # suppress warnings"
   ]
  },
  {
   "cell_type": "markdown",
   "metadata": {
    "id": "-cCvXbPkccV1"
   },
   "source": [
    "## Загрузка набора данных"
   ]
  },
  {
   "cell_type": "markdown",
   "metadata": {
    "id": "t4_Qt8W1hJE_"
   },
   "source": [
    "Используйте [TensorFlow datasets](https://www.tensorflow.org/datasets) чтобы загрузить [набор данных Русско-Английского перевода](https://github.com/neulab/word-embeddings-for-nmt) из проекта [Открытого перевода TED](https://www.ted.com/participate/translate)."
   ]
  },
  {
   "cell_type": "code",
   "execution_count": 61,
   "metadata": {
    "execution": {
     "iopub.execute_input": "2022-08-24T05:30:28.768121Z",
     "iopub.status.busy": "2022-08-24T05:30:28.766929Z",
     "iopub.status.idle": "2022-08-24T05:30:28.919089Z",
     "shell.execute_reply": "2022-08-24T05:30:28.917375Z",
     "shell.execute_reply.started": "2022-08-24T05:30:28.768011Z"
    },
    "id": "8q9t4FmN96eN"
   },
   "outputs": [],
   "source": [
    "examples, metadata = tfds.load('ted_hrlr_translate/ru_to_en', with_info=True,\n",
    "                               as_supervised=True)\n",
    "train_examples, val_examples, val_test = examples['train'], examples['validation'], examples['test']"
   ]
  },
  {
   "cell_type": "code",
   "execution_count": 62,
   "metadata": {},
   "outputs": [
    {
     "name": "stdout",
     "output_type": "stream",
     "text": [
      "Этот набор данных содержит 208106 примеров обучения, 4805 примеров валидации и тестовых примеров 5476.\n"
     ]
    }
   ],
   "source": [
    "len(examples['train'].batch(1).take(208106))\n",
    "print('Этот набор данных содержит %s примеров обучения, %s примеров валидации и тестовых примеров %s.' \\\n",
    "% (len(train_examples), len(val_examples), len(val_test)))"
   ]
  },
  {
   "cell_type": "markdown",
   "metadata": {
    "id": "1OnwQZ2IpTbl"
   },
   "source": [
    "Объект `tf.data.Dataset`, возвращаемый наборами данных TensorFlow, дает пары текстовых примеров:"
   ]
  },
  {
   "cell_type": "code",
   "execution_count": 63,
   "metadata": {
    "execution": {
     "iopub.execute_input": "2022-08-24T05:30:33.891246Z",
     "iopub.status.busy": "2022-08-24T05:30:33.890392Z",
     "iopub.status.idle": "2022-08-24T05:30:34.060639Z",
     "shell.execute_reply": "2022-08-24T05:30:34.055605Z",
     "shell.execute_reply.started": "2022-08-24T05:30:33.891211Z"
    },
    "id": "AtuMLTQGlHZ1"
   },
   "outputs": [
    {
     "name": "stdout",
     "output_type": "stream",
     "text": [
      "к : успех , перемены возможны только с оружием в руках .\n",
      "документация и методика практического обучения также доступна и выпущена creative commons .\n",
      "( видео ) диди пиклз : сейчас четыре часа утра .\n",
      "\n",
      "c : success , the change is only coming through the barrel of the gun .\n",
      "the documentation and the hands-on teaching methodology is also open-source and released as the creative commons .\n",
      "( video ) didi pickles : it 's four o'clock in the morning .\n"
     ]
    },
    {
     "name": "stderr",
     "output_type": "stream",
     "text": [
      "2023-10-11 21:19:39.136851: W tensorflow/core/kernels/data/cache_dataset_ops.cc:856] The calling iterator did not fully read the dataset being cached. In order to avoid unexpected truncation of the dataset, the partially cached contents of the dataset  will be discarded. This can happen if you have an input pipeline similar to `dataset.cache().take(k).repeat()`. You should use `dataset.take(k).cache().repeat()` instead.\n"
     ]
    }
   ],
   "source": [
    "for ru_examples, en_examples in train_examples.batch(3).take(1):\n",
    "  for ru in ru_examples.numpy():\n",
    "    print(ru.decode('utf-8'))\n",
    "\n",
    "  print()\n",
    "\n",
    "  for en in en_examples.numpy():\n",
    "    print(en.decode('utf-8'))"
   ]
  },
  {
   "cell_type": "markdown",
   "metadata": {
    "id": "eJxTd6aVnZyh"
   },
   "source": [
    "## Текст - токенизация и детокенизация"
   ]
  },
  {
   "cell_type": "markdown",
   "metadata": {
    "id": "WlHAFNaopq6U"
   },
   "source": [
    "Вы не можете тренировать модель непосредственно на тексте. Сначала текст необходимо преобразовать в числовое представление. Как правило, вы конвертируете текст в последовательности идентификаторов токенов, которые используются в качестве индексов во встраивании."
   ]
  },
  {
   "cell_type": "markdown",
   "metadata": {
    "id": "2sPvbCEePzOC"
   },
   "source": [
    "Одна популярная реализация демонстрируется в учебнике [Токенизаторы на уровне слов](https://github.com/AlexandrParkhomenko/ai/blob/main/cs25/subwords_tokenizer.ipynb) строит токенизаторы (`text.BertTokenizer`) оптимизированные для этого набора данных и экспортирует их в [saved_model](https://www.tensorflow.org/guide/saved_model).\n",
    "\n",
    "Загрузите, распакуйте и импортируйте `saved_model`:"
   ]
  },
  {
   "cell_type": "code",
   "execution_count": 64,
   "metadata": {
    "execution": {
     "iopub.execute_input": "2022-08-24T05:30:37.998328Z",
     "iopub.status.busy": "2022-08-24T05:30:37.997357Z",
     "iopub.status.idle": "2022-08-24T05:30:38.031647Z",
     "shell.execute_reply": "2022-08-24T05:30:38.030104Z",
     "shell.execute_reply.started": "2022-08-24T05:30:37.998292Z"
    },
    "id": "QToMl0NanZPr"
   },
   "outputs": [
    {
     "data": {
      "text/plain": [
       "'./ted_hrlr_translate_ru_en_converter.zip'"
      ]
     },
     "execution_count": 64,
     "metadata": {},
     "output_type": "execute_result"
    }
   ],
   "source": [
    "model_name = 'ted_hrlr_translate_ru_en_converter'\n",
    "tf.keras.utils.get_file(\n",
    "    f'{model_name}.zip',\n",
    "    f'https://github.com/AlexandrParkhomenko/ai/raw/main/cs25/{model_name}.zip',\n",
    "    cache_dir='.', cache_subdir='', extract=True\n",
    ")"
   ]
  },
  {
   "cell_type": "code",
   "execution_count": 65,
   "metadata": {
    "execution": {
     "iopub.execute_input": "2022-08-24T05:30:41.513062Z",
     "iopub.status.busy": "2022-08-24T05:30:41.512081Z",
     "iopub.status.idle": "2022-08-24T05:30:43.182937Z",
     "shell.execute_reply": "2022-08-24T05:30:43.181402Z",
     "shell.execute_reply.started": "2022-08-24T05:30:41.513027Z"
    },
    "id": "h5dbGnPXnuI1"
   },
   "outputs": [],
   "source": [
    "tokenizers = tf.saved_model.load(model_name)"
   ]
  },
  {
   "cell_type": "markdown",
   "metadata": {
    "id": "KQYc0CJTpnvg"
   },
   "source": [
    "Объект `tokenizers` содержит два текстовых токенизатора, один для английского и один для русского. Оба имеют одинаковые методы:"
   ]
  },
  {
   "cell_type": "code",
   "execution_count": 66,
   "metadata": {
    "execution": {
     "iopub.execute_input": "2022-08-24T05:30:45.273822Z",
     "iopub.status.busy": "2022-08-24T05:30:45.273326Z",
     "iopub.status.idle": "2022-08-24T05:30:45.285618Z",
     "shell.execute_reply": "2022-08-24T05:30:45.283629Z",
     "shell.execute_reply.started": "2022-08-24T05:30:45.273788Z"
    },
    "id": "s-PCJijfcZ9_"
   },
   "outputs": [
    {
     "data": {
      "text/plain": [
       "['detokenize',\n",
       " 'get_reserved_tokens',\n",
       " 'get_vocab_path',\n",
       " 'get_vocab_size',\n",
       " 'lookup',\n",
       " 'tokenize',\n",
       " 'tokenizer',\n",
       " 'vocab']"
      ]
     },
     "execution_count": 66,
     "metadata": {},
     "output_type": "execute_result"
    }
   ],
   "source": [
    "[item for item in dir(tokenizers.en) if not item.startswith('_')]"
   ]
  },
  {
   "cell_type": "markdown",
   "metadata": {
    "id": "-pv_nc5lrAiD"
   },
   "source": [
    "Метод `tokenize` преобразует партию строк в дополнительную партию токен-идентификаторов. разделяет знаки препинания, строчные буквы и нормализует входные данные перед токенизацией. Эта стандартизация здесь не видна, потому что входные данные уже стандартизированы."
   ]
  },
  {
   "cell_type": "code",
   "execution_count": 67,
   "metadata": {
    "execution": {
     "iopub.execute_input": "2022-08-24T05:30:49.301329Z",
     "iopub.status.busy": "2022-08-24T05:30:49.300173Z",
     "iopub.status.idle": "2022-08-24T05:30:49.311537Z",
     "shell.execute_reply": "2022-08-24T05:30:49.309810Z",
     "shell.execute_reply.started": "2022-08-24T05:30:49.301292Z"
    },
    "id": "0GV-smAAQJtM"
   },
   "outputs": [
    {
     "name": "stdout",
     "output_type": "stream",
     "text": [
      "c : success , the change is only coming through the barrel of the gun .\n",
      "the documentation and the hands-on teaching methodology is also open-source and released as the creative commons .\n",
      "( video ) didi pickles : it 's four o'clock in the morning .\n"
     ]
    }
   ],
   "source": [
    "for en in en_examples.numpy():\n",
    "  print(en.decode('utf-8'))"
   ]
  },
  {
   "cell_type": "code",
   "execution_count": 68,
   "metadata": {
    "execution": {
     "iopub.execute_input": "2022-08-24T05:30:51.904853Z",
     "iopub.status.busy": "2022-08-24T05:30:51.903757Z",
     "iopub.status.idle": "2022-08-24T05:30:52.311385Z",
     "shell.execute_reply": "2022-08-24T05:30:52.309809Z",
     "shell.execute_reply.started": "2022-08-24T05:30:51.904817Z"
    },
    "id": "2fQJq1xB-tOn"
   },
   "outputs": [
    {
     "name": "stdout",
     "output_type": "stream",
     "text": [
      "[2, 41, 28, 1103, 14, 84, 243, 93, 200, 389, 218, 84, 6405, 87, 84, 2473, 16, 3]\n",
      "[2, 84, 3914, 464, 85, 84, 702, 15, 104, 1495, 2346, 2024, 93, 187, 435, 15, 942, 85, 2533, 111, 84, 1068, 5725, 16, 3]\n",
      "[2, 10, 400, 11, 168, 379, 1026, 1125, 28, 90, 9, 57, 316, 53, 9, 2501, 89, 84, 813, 16, 3]\n"
     ]
    }
   ],
   "source": [
    "encoded = tokenizers.en.tokenize(en_examples)\n",
    "\n",
    "for row in encoded.to_list():\n",
    "  print(row)"
   ]
  },
  {
   "cell_type": "markdown",
   "metadata": {
    "id": "dBRlikwDR2Lu"
   },
   "source": [
    "Метод `detokenize` пытается преобразовать эти идентификаторы токенов обратно в человекочитаемый текст: "
   ]
  },
  {
   "cell_type": "code",
   "execution_count": 69,
   "metadata": {
    "execution": {
     "iopub.execute_input": "2022-08-24T05:30:56.120493Z",
     "iopub.status.busy": "2022-08-24T05:30:56.120036Z",
     "iopub.status.idle": "2022-08-24T05:30:56.295536Z",
     "shell.execute_reply": "2022-08-24T05:30:56.294084Z",
     "shell.execute_reply.started": "2022-08-24T05:30:56.120458Z"
    },
    "id": "Tpqx1aug3W31"
   },
   "outputs": [
    {
     "name": "stdout",
     "output_type": "stream",
     "text": [
      "c : success , the change is only coming through the barrel of the gun .\n",
      "the documentation and the hands - on teaching methodology is also open - source and released as the creative commons .\n",
      "( video ) didi pickles : it ' s four o ' clock in the morning .\n"
     ]
    }
   ],
   "source": [
    "round_trip = tokenizers.en.detokenize(encoded)\n",
    "for line in round_trip.numpy():\n",
    "  print(line.decode('utf-8'))"
   ]
  },
  {
   "cell_type": "markdown",
   "metadata": {
    "id": "e5mGvytArL9g"
   },
   "source": [
    "Низкоуровневый метод `lookup` преобразует токен-идентификаторы в текст:"
   ]
  },
  {
   "cell_type": "code",
   "execution_count": 70,
   "metadata": {
    "execution": {
     "iopub.execute_input": "2022-08-24T05:30:59.576107Z",
     "iopub.status.busy": "2022-08-24T05:30:59.575061Z",
     "iopub.status.idle": "2022-08-24T05:30:59.625747Z",
     "shell.execute_reply": "2022-08-24T05:30:59.624330Z",
     "shell.execute_reply.started": "2022-08-24T05:30:59.576068Z"
    },
    "id": "RpzRLzvIuN3R"
   },
   "outputs": [
    {
     "data": {
      "text/plain": [
       "<tf.RaggedTensor [[b'[START]', b'c', b':', b'success', b',', b'the', b'change', b'is',\n",
       "  b'only', b'coming', b'through', b'the', b'barrel', b'of', b'the', b'gun',\n",
       "  b'.', b'[END]']                                                          ,\n",
       " [b'[START]', b'the', b'document', b'##ation', b'and', b'the', b'hands',\n",
       "  b'-', b'on', b'teaching', b'method', b'##ology', b'is', b'also', b'open',\n",
       "  b'-', b'source', b'and', b'released', b'as', b'the', b'creative',\n",
       "  b'commons', b'.', b'[END]']                                              ,\n",
       " [b'[START]', b'(', b'video', b')', b'did', b'##i', b'pick', b'##les', b':',\n",
       "  b'it', b\"'\", b's', b'four', b'o', b\"'\", b'clock', b'in', b'the',\n",
       "  b'morning', b'.', b'[END]']                                               ]>"
      ]
     },
     "execution_count": 70,
     "metadata": {},
     "output_type": "execute_result"
    }
   ],
   "source": [
    "tokens = tokenizers.en.lookup(encoded)\n",
    "tokens"
   ]
  },
  {
   "cell_type": "markdown",
   "metadata": {
    "id": "5V8Ix_PNSfhV"
   },
   "source": [
    "Здесь вы можете увидеть аспект «разбора слов» в токенизаторах. Слово \"searchability\" разлагается на \"search ##ability\" и слово \"serendipity\" в \"s ##ere ##nd ##ip ##ity\""
   ]
  },
  {
   "cell_type": "markdown",
   "metadata": {
    "id": "VhW8Gc8wJ98T"
   },
   "source": [
    "Теперь уделите минуту, чтобы исследовать распределение токенов примера в наборе данных:"
   ]
  },
  {
   "cell_type": "code",
   "execution_count": 71,
   "metadata": {
    "execution": {
     "iopub.execute_input": "2022-08-24T05:31:41.239876Z",
     "iopub.status.busy": "2022-08-24T05:31:41.238795Z",
     "iopub.status.idle": "2022-08-24T05:33:03.219757Z",
     "shell.execute_reply": "2022-08-24T05:33:03.218230Z",
     "shell.execute_reply.started": "2022-08-24T05:31:41.239840Z"
    },
    "id": "egIny1M8HX0w"
   },
   "outputs": [
    {
     "name": "stdout",
     "output_type": "stream",
     "text": [
      "............................................................................................................................................................................................................"
     ]
    }
   ],
   "source": [
    "lengths = []\n",
    "\n",
    "for ru_examples, en_examples in train_examples.batch(1024):\n",
    "  ru_tokens = tokenizers.ru.tokenize(ru_examples)\n",
    "  lengths.append(ru_tokens.row_lengths())\n",
    "\n",
    "  en_tokens = tokenizers.en.tokenize(en_examples)\n",
    "  lengths.append(en_tokens.row_lengths())\n",
    "  print('.', end='', flush=True)"
   ]
  },
  {
   "cell_type": "code",
   "execution_count": 72,
   "metadata": {
    "execution": {
     "iopub.execute_input": "2022-08-24T05:33:06.337243Z",
     "iopub.status.busy": "2022-08-24T05:33:06.336796Z",
     "iopub.status.idle": "2022-08-24T05:33:06.888463Z",
     "shell.execute_reply": "2022-08-24T05:33:06.886132Z",
     "shell.execute_reply.started": "2022-08-24T05:33:06.337209Z"
    },
    "id": "IIAV663YH3P3"
   },
   "outputs": [
    {
     "data": {
      "image/png": "[encoded data removed]",
      "text/plain": [
       "<Figure size 640x480 with 1 Axes>"
      ]
     },
     "metadata": {},
     "output_type": "display_data"
    }
   ],
   "source": [
    "all_lengths = np.concatenate(lengths)\n",
    "\n",
    "plt.hist(all_lengths, np.linspace(0, 500, 101))\n",
    "plt.ylim(plt.ylim())\n",
    "max_length = max(all_lengths)\n",
    "plt.plot([max_length, max_length], plt.ylim())\n",
    "plt.title(f'Max tokens per example: {max_length}');"
   ]
  },
  {
   "cell_type": "code",
   "execution_count": 73,
   "metadata": {
    "execution": {
     "iopub.execute_input": "2022-08-24T05:33:11.610804Z",
     "iopub.status.busy": "2022-08-24T05:33:11.609679Z",
     "iopub.status.idle": "2022-08-24T05:33:11.619917Z",
     "shell.execute_reply": "2022-08-24T05:33:11.618291Z",
     "shell.execute_reply.started": "2022-08-24T05:33:11.610768Z"
    },
    "id": "1v_e7nu3SISr"
   },
   "outputs": [],
   "source": [
    "MAX_TOKENS = 128"
   ]
  },
  {
   "cell_type": "markdown",
   "metadata": {
    "id": "fd1NWMxjfsDd"
   },
   "source": [
    "## Настройка входного конвейера"
   ]
  },
  {
   "cell_type": "markdown",
   "metadata": {
    "id": "E7JHK7N7tNZy"
   },
   "source": [
    "Чтобы построить входной конвейер, подходящий для обучения, определите некоторые функции для преобразования набора данных."
   ]
  },
  {
   "cell_type": "markdown",
   "metadata": {
    "id": "_F1tg9BMSTva"
   },
   "source": [
    "Определите функцию, чтобы отбрасывать примеры длиннее, чем `MAX_TOKENS`:"
   ]
  },
  {
   "cell_type": "code",
   "execution_count": 74,
   "metadata": {
    "execution": {
     "iopub.execute_input": "2022-08-24T05:33:14.468618Z",
     "iopub.status.busy": "2022-08-24T05:33:14.468136Z",
     "iopub.status.idle": "2022-08-24T05:33:14.477511Z",
     "shell.execute_reply": "2022-08-24T05:33:14.475651Z",
     "shell.execute_reply.started": "2022-08-24T05:33:14.468565Z"
    },
    "id": "81fPafMpSVJ-"
   },
   "outputs": [],
   "source": [
    "def filter_max_tokens(ru, en):\n",
    "  num_tokens = tf.maximum(tf.shape(ru)[1],tf.shape(en)[1])\n",
    "  return num_tokens < MAX_TOKENS"
   ]
  },
  {
   "cell_type": "markdown",
   "metadata": {
    "id": "0eHuRZ_rTD7i"
   },
   "source": [
    "Определите функцию, которая токенизирует партии необработанного текста:"
   ]
  },
  {
   "cell_type": "code",
   "execution_count": 75,
   "metadata": {
    "execution": {
     "iopub.execute_input": "2022-08-24T05:33:17.266656Z",
     "iopub.status.busy": "2022-08-24T05:33:17.266123Z",
     "iopub.status.idle": "2022-08-24T05:33:17.276833Z",
     "shell.execute_reply": "2022-08-24T05:33:17.275228Z",
     "shell.execute_reply.started": "2022-08-24T05:33:17.266615Z"
    },
    "id": "6shgzEck3FiV"
   },
   "outputs": [],
   "source": [
    "def tokenize_pairs(ru, en):\n",
    "    ru = tokenizers.ru.tokenize(ru)\n",
    "    # Convert from ragged to dense, padding with zeros.\n",
    "    ru = ru.to_tensor()\n",
    "\n",
    "    en = tokenizers.en.tokenize(en)\n",
    "    # Convert from ragged to dense, padding with zeros.\n",
    "    en = en.to_tensor()\n",
    "    return ru, en"
   ]
  },
  {
   "cell_type": "markdown",
   "metadata": {
    "id": "cf2HwC_0wG0v"
   },
   "source": [
    "Вот простой входной конвейер, который обрабатывает, перемешивает и формирует партии данных:"
   ]
  },
  {
   "cell_type": "code",
   "execution_count": 76,
   "metadata": {
    "execution": {
     "iopub.execute_input": "2022-08-24T05:33:19.956607Z",
     "iopub.status.busy": "2022-08-24T05:33:19.956161Z",
     "iopub.status.idle": "2022-08-24T05:33:19.966358Z",
     "shell.execute_reply": "2022-08-24T05:33:19.964681Z",
     "shell.execute_reply.started": "2022-08-24T05:33:19.956532Z"
    },
    "id": "bcRp7VcQ5m6g"
   },
   "outputs": [],
   "source": [
    "BUFFER_SIZE = 20000\n",
    "BATCH_SIZE = 64"
   ]
  },
  {
   "cell_type": "code",
   "execution_count": 77,
   "metadata": {
    "execution": {
     "iopub.execute_input": "2022-08-24T05:33:22.240154Z",
     "iopub.status.busy": "2022-08-24T05:33:22.239077Z",
     "iopub.status.idle": "2022-08-24T05:33:22.800879Z",
     "shell.execute_reply": "2022-08-24T05:33:22.799472Z",
     "shell.execute_reply.started": "2022-08-24T05:33:22.240118Z"
    },
    "id": "BUN_jLBTwNxk"
   },
   "outputs": [],
   "source": [
    "def make_batches(ds):\n",
    "  return (\n",
    "      ds\n",
    "      .cache()\n",
    "      .shuffle(BUFFER_SIZE)\n",
    "      .batch(BATCH_SIZE)\n",
    "      .map(tokenize_pairs, num_parallel_calls=tf.data.AUTOTUNE)\n",
    "      .filter(filter_max_tokens)\n",
    "      .prefetch(tf.data.AUTOTUNE))\n",
    "\n",
    "\n",
    "train_batches = make_batches(train_examples)\n",
    "val_batches = make_batches(val_examples)"
   ]
  },
  {
   "cell_type": "markdown",
   "metadata": {
    "id": "nBQuibYA4n0n"
   },
   "source": [
    "## Позиционное кодирование\n",
    "\n",
    "Слои внимания видят свои входные данные как набор векторов без последовательного порядка. Эта модель также не содержит никаких рекуррентных или сверточных слоев. Из-за этого добавляется «позиционное кодирование», чтобы дать модели некоторую информацию об относительной позиции токенов в предложении. \n",
    "\n",
    "Вектор позиционного кодирования добавляется к [вектору отпечатков](https://ru.coursera.org/lecture/nlp-sequence-models/learning-word-embeddings-APM5s). Отпечатки представляют собой токен в D-размерном пространстве, где токены с одинаковым значением будут ближе друг к другу. Но отпечатки не кодируют относительное положение токенов в предложении. Таким образом, после добавления позиционного кодирования токены будут ближе друг к другу, на основе *схожести их значения и их положения в предложении*, в D-размерном пространстве.\n",
    "\n",
    "Формула для расчета позиционного кодирования заключается в следующем:\n",
    "\n",
    "$${PE_{(pos, 2i)} = \\sin(pos / 10000^{2i / d_{model}})} $$\n",
    "$${PE_{(pos, 2i+1)} = \\cos(pos / 10000^{2i / d_{model}})} $$"
   ]
  },
  {
   "cell_type": "code",
   "execution_count": 78,
   "metadata": {
    "execution": {
     "iopub.execute_input": "2022-08-24T05:33:25.931352Z",
     "iopub.status.busy": "2022-08-24T05:33:25.930350Z",
     "iopub.status.idle": "2022-08-24T05:33:25.939423Z",
     "shell.execute_reply": "2022-08-24T05:33:25.937840Z",
     "shell.execute_reply.started": "2022-08-24T05:33:25.931315Z"
    },
    "id": "WhIOZjMNKujn"
   },
   "outputs": [],
   "source": [
    "def get_angles(pos, i, d_model):\n",
    "  angle_rates = 1 / np.power(10000, (2 * (i//2)) / np.float32(d_model))\n",
    "  return pos * angle_rates"
   ]
  },
  {
   "cell_type": "code",
   "execution_count": 79,
   "metadata": {
    "execution": {
     "iopub.execute_input": "2022-08-24T05:33:27.614554Z",
     "iopub.status.busy": "2022-08-24T05:33:27.614095Z",
     "iopub.status.idle": "2022-08-24T05:33:27.630968Z",
     "shell.execute_reply": "2022-08-24T05:33:27.629406Z",
     "shell.execute_reply.started": "2022-08-24T05:33:27.614512Z"
    },
    "id": "1Rz82wEs5biZ"
   },
   "outputs": [],
   "source": [
    "def positional_encoding(position, d_model):\n",
    "  angle_rads = get_angles(np.arange(position)[:, np.newaxis],\n",
    "                          np.arange(d_model)[np.newaxis, :],\n",
    "                          d_model)\n",
    "\n",
    "  # apply sin to even indices in the array; 2i\n",
    "  angle_rads[:, 0::2] = np.sin(angle_rads[:, 0::2])\n",
    "\n",
    "  # apply cos to odd indices in the array; 2i+1\n",
    "  angle_rads[:, 1::2] = np.cos(angle_rads[:, 1::2])\n",
    "\n",
    "  pos_encoding = angle_rads[np.newaxis, ...]\n",
    "\n",
    "  return tf.cast(pos_encoding, dtype=tf.float32)"
   ]
  },
  {
   "cell_type": "code",
   "execution_count": 80,
   "metadata": {
    "execution": {
     "iopub.execute_input": "2022-08-24T05:33:30.324675Z",
     "iopub.status.busy": "2022-08-24T05:33:30.323474Z",
     "iopub.status.idle": "2022-08-24T05:33:31.472959Z",
     "shell.execute_reply": "2022-08-24T05:33:31.469624Z",
     "shell.execute_reply.started": "2022-08-24T05:33:30.324639Z"
    },
    "id": "1kLCla68EloE"
   },
   "outputs": [
    {
     "name": "stdout",
     "output_type": "stream",
     "text": [
      "(1, 2048, 512)\n"
     ]
    },
    {
     "data": {
      "image/png": "[encoded data removed]",
      "text/plain": [
       "<Figure size 640x480 with 2 Axes>"
      ]
     },
     "metadata": {},
     "output_type": "display_data"
    }
   ],
   "source": [
    "n, d = 2048, 512\n",
    "pos_encoding = positional_encoding(n, d)\n",
    "print(pos_encoding.shape)\n",
    "pos_encoding = pos_encoding[0]\n",
    "\n",
    "# Juggle the dimensions for the plot\n",
    "pos_encoding = tf.reshape(pos_encoding, (n, d//2, 2))\n",
    "pos_encoding = tf.transpose(pos_encoding, (2, 1, 0))\n",
    "pos_encoding = tf.reshape(pos_encoding, (d, n))\n",
    "\n",
    "plt.pcolormesh(pos_encoding, cmap='RdBu')\n",
    "plt.ylabel('Depth')\n",
    "plt.xlabel('Position')\n",
    "plt.colorbar()\n",
    "plt.show()"
   ]
  },
  {
   "cell_type": "markdown",
   "metadata": {
    "id": "a_b4ou4TYqUN"
   },
   "source": [
    "## Маскировка"
   ]
  },
  {
   "cell_type": "markdown",
   "metadata": {
    "id": "s42Uydjkv0hF"
   },
   "source": [
    "Замаскируйте все токены заполнения в пакете последовательности. Это гарантирует, что модель не рассматривает заполнения как вход. Маска указывает, где присутствует значение заполнения `0`: она выводит `1` в этих местах, и `0` в противном случае."
   ]
  },
  {
   "cell_type": "code",
   "execution_count": 81,
   "metadata": {
    "execution": {
     "iopub.execute_input": "2022-08-24T05:33:37.968392Z",
     "iopub.status.busy": "2022-08-24T05:33:37.967055Z",
     "iopub.status.idle": "2022-08-24T05:33:37.977710Z",
     "shell.execute_reply": "2022-08-24T05:33:37.976213Z",
     "shell.execute_reply.started": "2022-08-24T05:33:37.968356Z"
    },
    "id": "U2i8-e1s8ti9"
   },
   "outputs": [],
   "source": [
    "def create_padding_mask(seq):\n",
    "  seq = tf.cast(tf.math.equal(seq, 0), tf.float32)\n",
    "\n",
    "  # добавить дополнительные размерности, чтобы добавить отступ\n",
    "  # к логитам внимания.\n",
    "  return seq[:, tf.newaxis, tf.newaxis, :]  # (batch_size, 1, 1, seq_len)"
   ]
  },
  {
   "cell_type": "code",
   "execution_count": 82,
   "metadata": {
    "execution": {
     "iopub.execute_input": "2022-08-24T05:33:41.275510Z",
     "iopub.status.busy": "2022-08-24T05:33:41.275060Z",
     "iopub.status.idle": "2022-08-24T05:33:41.290834Z",
     "shell.execute_reply": "2022-08-24T05:33:41.289095Z",
     "shell.execute_reply.started": "2022-08-24T05:33:41.275476Z"
    },
    "id": "A7BYeBCNvi7n"
   },
   "outputs": [
    {
     "data": {
      "text/plain": [
       "<tf.Tensor: shape=(3, 1, 1, 5), dtype=float32, numpy=\n",
       "array([[[[0., 0., 1., 1., 0.]]],\n",
       "\n",
       "\n",
       "       [[[0., 0., 0., 1., 1.]]],\n",
       "\n",
       "\n",
       "       [[[1., 1., 1., 0., 0.]]]], dtype=float32)>"
      ]
     },
     "execution_count": 82,
     "metadata": {},
     "output_type": "execute_result"
    }
   ],
   "source": [
    "x = tf.constant([[7, 6, 0, 0, 1], [1, 2, 3, 0, 0], [0, 0, 0, 4, 5]])\n",
    "create_padding_mask(x)"
   ]
  },
  {
   "cell_type": "markdown",
   "metadata": {
    "id": "Z0hzukDBgVom"
   },
   "source": [
    "Упреждающая маска используется для маскировки будущих токенов в последовательности. Другими словами, маска указывает, какие записи не следует использовать.\n",
    "\n",
    "Это означает, что для прогнозирования третьего токена будет использоваться только первый и второй токен. Точно так же, чтобы предсказать четвертый токен, будут использоваться только первый, второй и третий токены и так далее."
   ]
  },
  {
   "cell_type": "code",
   "execution_count": 83,
   "metadata": {
    "execution": {
     "iopub.execute_input": "2022-08-24T05:33:43.875561Z",
     "iopub.status.busy": "2022-08-24T05:33:43.875074Z",
     "iopub.status.idle": "2022-08-24T05:33:43.882801Z",
     "shell.execute_reply": "2022-08-24T05:33:43.881339Z",
     "shell.execute_reply.started": "2022-08-24T05:33:43.875511Z"
    },
    "id": "dVxS8OPI9uI0"
   },
   "outputs": [],
   "source": [
    "def create_look_ahead_mask(size):\n",
    "  mask = 1 - tf.linalg.band_part(tf.ones((size, size)), -1, 0)\n",
    "  return mask  # (seq_len, seq_len)"
   ]
  },
  {
   "cell_type": "code",
   "execution_count": 84,
   "metadata": {
    "execution": {
     "iopub.execute_input": "2022-08-24T05:33:46.047025Z",
     "iopub.status.busy": "2022-08-24T05:33:46.046588Z",
     "iopub.status.idle": "2022-08-24T05:33:46.061521Z",
     "shell.execute_reply": "2022-08-24T05:33:46.059879Z",
     "shell.execute_reply.started": "2022-08-24T05:33:46.046983Z"
    },
    "id": "yxKGuXxaBeeE"
   },
   "outputs": [
    {
     "data": {
      "text/plain": [
       "<tf.Tensor: shape=(3, 3), dtype=float32, numpy=\n",
       "array([[0., 1., 1.],\n",
       "       [0., 0., 1.],\n",
       "       [0., 0., 0.]], dtype=float32)>"
      ]
     },
     "execution_count": 84,
     "metadata": {},
     "output_type": "execute_result"
    }
   ],
   "source": [
    "x = tf.random.uniform((1, 3))\n",
    "temp = create_look_ahead_mask(x.shape[1])\n",
    "temp"
   ]
  },
  {
   "cell_type": "markdown",
   "metadata": {
    "id": "p1d-ftmdL4tU"
   },
   "source": [
    "Примечание: Эта маска указывает, какие записи *не* принимают во внимание. Тем не менее, слой MultiHeadAttention в Керасе, который был добавлен после создания этого руководства, рассматривает перевернутую маску, где 1 - токен, который следует принять и 0 следует игнорировать. Если вы используете `tf.keras.layers.MultiHeadAttention` вместо MultiHeadAttention слоя в этом руководстве, определенном ниже, используйте следующий прокомментированный метод для генерации маски. Вам нужно будет `pip install tensorflow-probability` и `import tensorflow_probability as tfp`."
   ]
  },
  {
   "cell_type": "code",
   "execution_count": 85,
   "metadata": {
    "execution": {
     "iopub.execute_input": "2022-08-23T14:23:55.939390Z",
     "iopub.status.busy": "2022-08-23T14:23:55.938881Z",
     "iopub.status.idle": "2022-08-23T14:23:55.945644Z",
     "shell.execute_reply": "2022-08-23T14:23:55.944133Z",
     "shell.execute_reply.started": "2022-08-23T14:23:55.939347Z"
    },
    "id": "5lLVSWvTL_oA"
   },
   "outputs": [],
   "source": [
    "# def create_look_ahead_mask(size):\n",
    "#     n = int(size * (size+1) / 2)\n",
    "#     mask = tfp.math.fill_triangular(tf.ones((n,), dtype=tf.int32), upper=False)"
   ]
  },
  {
   "cell_type": "markdown",
   "metadata": {
    "id": "xluDl5cXYy4y"
   },
   "source": [
    "## Внимание масштабированного скалярного произведения"
   ]
  },
  {
   "cell_type": "markdown",
   "metadata": {
    "id": "vsxEE_-Wa1gF"
   },
   "source": [
    "<img src=\"https://github.com/AlexandrParkhomenko/ai/raw/main/cs25/scaled_attention.png\" width=\"500\" alt=\"scaled_dot_product_attention\">\n",
    "\n",
    "Функция внимания, используемая трансформером, принимает три входа: Q (query/запрос), K (key/ключ), V (value/значение). Уравнение, используемое для расчета весов внимания, выглядит следующим образом:\n",
    "\n",
    "$$\\Large{Attention(Q, K, V) = softmax_k\\left(\\frac{QK^T}{\\sqrt{d_k}}\\right) V} $$\n",
    "\n",
    "Скалярное произведение внимания масштабируется коэффициентом квадратного корня из глубины. Это делается потому, что для больших значений глубины скалярное произведение становится большим по величине, подталкивая функцию softmax, где она имеет небольшие градиенты, что приводит к очень жесткому softmax.\n",
    "\n",
    "Например, предположим, что `Q` и `K` имеют среднее значение 0 и дисперсию 1. Их матричное умножение будет иметь среднее значение 0 и дисперсию `dk`. \n",
    "Таким образом, *квадратный корень из `dk`* используется для масштабирования, поэтому вы получаете постоянную дисперсию независимо от значения` dk`. Если дисперсия слишком низкая, выход может быть слишком плоскими для эффективной оптимизации. Если дисперсия слишком высока, softmax может насыщать при инициализации, что затрудняет обучение.\n",
    "\n",
    "Маска умножается на -1e9 (близко к минус бесконечности). Это делается потому, что маска суммируется с масштабированным матричным умножением Q и K и применяется непосредственно перед softmax. Цель состоит в том, чтобы обнулить эти ячейки, а большие отрицательные входные данные для softmax близки к нулю на выходе."
   ]
  },
  {
   "cell_type": "code",
   "execution_count": 86,
   "metadata": {
    "execution": {
     "iopub.execute_input": "2022-08-24T05:33:52.789444Z",
     "iopub.status.busy": "2022-08-24T05:33:52.789012Z",
     "iopub.status.idle": "2022-08-24T05:33:52.800018Z",
     "shell.execute_reply": "2022-08-24T05:33:52.798596Z",
     "shell.execute_reply.started": "2022-08-24T05:33:52.789401Z"
    },
    "id": "LazzUq3bJ5SH"
   },
   "outputs": [],
   "source": [
    "def scaled_dot_product_attention(q, k, v, mask):\n",
    "  \"\"\"Calculate the attention weights.\n",
    "  q, k, v must have matching leading dimensions.\n",
    "  k, v must have matching penultimate dimension, i.e.: seq_len_k = seq_len_v.\n",
    "  The mask has different shapes depending on its type(padding or look ahead)\n",
    "  but it must be broadcastable for addition.\n",
    "\n",
    "  Args:\n",
    "    q: query shape == (..., seq_len_q, depth)\n",
    "    k: key shape == (..., seq_len_k, depth)\n",
    "    v: value shape == (..., seq_len_v, depth_v)\n",
    "    mask: Float tensor with shape broadcastable\n",
    "          to (..., seq_len_q, seq_len_k). Defaults to None.\n",
    "\n",
    "  Returns:\n",
    "    output, attention_weights\n",
    "  \"\"\"\n",
    "\n",
    "  matmul_qk = tf.matmul(q, k, transpose_b=True)  # (..., seq_len_q, seq_len_k)\n",
    "\n",
    "  # scale matmul_qk\n",
    "  dk = tf.cast(tf.shape(k)[-1], tf.float32)\n",
    "  scaled_attention_logits = matmul_qk / tf.math.sqrt(dk)\n",
    "\n",
    "  # add the mask to the scaled tensor.\n",
    "  if mask is not None:\n",
    "    scaled_attention_logits += (mask * -1e9)\n",
    "\n",
    "  # softmax is normalized on the last axis (seq_len_k) so that the scores\n",
    "  # add up to 1.\n",
    "  attention_weights = tf.nn.softmax(scaled_attention_logits, axis=-1)  # (..., seq_len_q, seq_len_k)\n",
    "\n",
    "  output = tf.matmul(attention_weights, v)  # (..., seq_len_q, depth_v)\n",
    "\n",
    "  return output, attention_weights"
   ]
  },
  {
   "cell_type": "markdown",
   "metadata": {
    "id": "FiqETnhCkoXh"
   },
   "source": [
    "Поскольку нормализация softmax выполняется по размерности ключей `K`, значения `V` внимания определяют степень важности, придаваемой ключам для каждого запроса `Q`.\n",
    "\n",
    "Выход представляет умножение веса внимания и вектор `V` (значение). Это гарантирует, что токены, на которых вы хотите сосредоточиться, хранятся как есть, а нерелевантные токены удаляются."
   ]
  },
  {
   "cell_type": "code",
   "execution_count": 87,
   "metadata": {
    "execution": {
     "iopub.execute_input": "2022-08-24T05:33:56.086602Z",
     "iopub.status.busy": "2022-08-24T05:33:56.086159Z",
     "iopub.status.idle": "2022-08-24T05:33:56.096244Z",
     "shell.execute_reply": "2022-08-24T05:33:56.094584Z",
     "shell.execute_reply.started": "2022-08-24T05:33:56.086566Z"
    },
    "id": "n90YjClyInFy"
   },
   "outputs": [],
   "source": [
    "def print_out(q, k, v):\n",
    "  temp_out, temp_attn = scaled_dot_product_attention(\n",
    "      q, k, v, None)\n",
    "  print('Attention weights are:')\n",
    "  print(temp_attn)\n",
    "  print('Output is:')\n",
    "  print(temp_out)"
   ]
  },
  {
   "cell_type": "code",
   "execution_count": 88,
   "metadata": {
    "execution": {
     "iopub.execute_input": "2022-08-24T05:33:58.863917Z",
     "iopub.status.busy": "2022-08-24T05:33:58.861519Z",
     "iopub.status.idle": "2022-08-24T05:33:58.884041Z",
     "shell.execute_reply": "2022-08-24T05:33:58.882148Z",
     "shell.execute_reply.started": "2022-08-24T05:33:58.863853Z"
    },
    "id": "yAzUAf2DPlNt"
   },
   "outputs": [
    {
     "name": "stdout",
     "output_type": "stream",
     "text": [
      "Attention weights are:\n",
      "tf.Tensor([[0. 1. 0. 0.]], shape=(1, 4), dtype=float32)\n",
      "Output is:\n",
      "tf.Tensor([[10.  0.]], shape=(1, 2), dtype=float32)\n"
     ]
    }
   ],
   "source": [
    "np.set_printoptions(suppress=True)\n",
    "\n",
    "temp_k = tf.constant([[10, 0, 0],\n",
    "                      [0, 10, 0],\n",
    "                      [0, 0, 10],\n",
    "                      [0, 0, 10]], dtype=tf.float32)  # (4, 3)\n",
    "\n",
    "temp_v = tf.constant([[1, 0],\n",
    "                      [10, 0],\n",
    "                      [100, 5],\n",
    "                      [1000, 6]], dtype=tf.float32)  # (4, 2)\n",
    "\n",
    "# This `query` aligns with the second `key`,\n",
    "# so the second `value` is returned.\n",
    "temp_q = tf.constant([[0, 10, 0]], dtype=tf.float32)  # (1, 3)\n",
    "print_out(temp_q, temp_k, temp_v)"
   ]
  },
  {
   "cell_type": "code",
   "execution_count": 89,
   "metadata": {
    "execution": {
     "iopub.execute_input": "2022-08-24T05:34:01.766076Z",
     "iopub.status.busy": "2022-08-24T05:34:01.765612Z",
     "iopub.status.idle": "2022-08-24T05:34:01.786736Z",
     "shell.execute_reply": "2022-08-24T05:34:01.784868Z",
     "shell.execute_reply.started": "2022-08-24T05:34:01.766042Z"
    },
    "id": "zg6k-fGhgXra"
   },
   "outputs": [
    {
     "name": "stdout",
     "output_type": "stream",
     "text": [
      "Attention weights are:\n",
      "tf.Tensor([[0.  0.  0.5 0.5]], shape=(1, 4), dtype=float32)\n",
      "Output is:\n",
      "tf.Tensor([[550.    5.5]], shape=(1, 2), dtype=float32)\n"
     ]
    }
   ],
   "source": [
    "# This query aligns with a repeated key (third and fourth),\n",
    "# so all associated values get averaged.\n",
    "temp_q = tf.constant([[0, 0, 10]], dtype=tf.float32)  # (1, 3)\n",
    "print_out(temp_q, temp_k, temp_v)"
   ]
  },
  {
   "cell_type": "code",
   "execution_count": 90,
   "metadata": {
    "execution": {
     "iopub.execute_input": "2022-08-24T05:34:04.158057Z",
     "iopub.status.busy": "2022-08-24T05:34:04.157618Z",
     "iopub.status.idle": "2022-08-24T05:34:04.173673Z",
     "shell.execute_reply": "2022-08-24T05:34:04.171283Z",
     "shell.execute_reply.started": "2022-08-24T05:34:04.158007Z"
    },
    "id": "UAq3YOzUgXhb"
   },
   "outputs": [
    {
     "name": "stdout",
     "output_type": "stream",
     "text": [
      "Attention weights are:\n",
      "tf.Tensor([[0.5 0.5 0.  0. ]], shape=(1, 4), dtype=float32)\n",
      "Output is:\n",
      "tf.Tensor([[5.5 0. ]], shape=(1, 2), dtype=float32)\n"
     ]
    }
   ],
   "source": [
    "# This query aligns equally with the first and second key,\n",
    "# so their values get averaged.\n",
    "temp_q = tf.constant([[10, 10, 0]], dtype=tf.float32)  # (1, 3)\n",
    "print_out(temp_q, temp_k, temp_v)"
   ]
  },
  {
   "cell_type": "markdown",
   "metadata": {
    "id": "aOz-4_XIhaTP"
   },
   "source": [
    " Передайте все запросы вместе."
   ]
  },
  {
   "cell_type": "code",
   "execution_count": 91,
   "metadata": {
    "execution": {
     "iopub.execute_input": "2022-08-24T05:34:06.679081Z",
     "iopub.status.busy": "2022-08-24T05:34:06.678662Z",
     "iopub.status.idle": "2022-08-24T05:34:06.696909Z",
     "shell.execute_reply": "2022-08-24T05:34:06.694932Z",
     "shell.execute_reply.started": "2022-08-24T05:34:06.679048Z"
    },
    "id": "6dlU8Tm-hYrF"
   },
   "outputs": [
    {
     "name": "stdout",
     "output_type": "stream",
     "text": [
      "Attention weights are:\n",
      "tf.Tensor(\n",
      "[[0.  0.  0.5 0.5]\n",
      " [0.  1.  0.  0. ]\n",
      " [0.5 0.5 0.  0. ]], shape=(3, 4), dtype=float32)\n",
      "Output is:\n",
      "tf.Tensor(\n",
      "[[550.    5.5]\n",
      " [ 10.    0. ]\n",
      " [  5.5   0. ]], shape=(3, 2), dtype=float32)\n"
     ]
    }
   ],
   "source": [
    "temp_q = tf.constant([[0, 0, 10],\n",
    "                      [0, 10, 0],\n",
    "                      [10, 10, 0]], dtype=tf.float32)  # (3, 3)\n",
    "print_out(temp_q, temp_k, temp_v)"
   ]
  },
  {
   "cell_type": "markdown",
   "metadata": {
    "id": "kmzGPEy64qmA"
   },
   "source": [
    "## Многоголовое внимание"
   ]
  },
  {
   "cell_type": "markdown",
   "metadata": {
    "id": "fz5BMC8Kaoqo"
   },
   "source": [
    "<img src=\"https://github.com/AlexandrParkhomenko/ai/raw/main/cs25/multi_head_attention.png\" width=\"500\" alt=\"multi-head attention\">\n",
    "\n",
    "\n",
    "Многоголовое внимание состоит из четырех частей:\n",
    "*    Полносвязные слои.\n",
    "*    Слои масштабированного скалярного произведения внимания.\n",
    "*    Соединение каскадов \n",
    "*    Последний линейный слой."
   ]
  },
  {
   "cell_type": "markdown",
   "metadata": {
    "id": "JPmbr6F1C-v_"
   },
   "source": [
    "Каждый многоголовый блок внимания получает три входа; Q (query/запрос), K (key/ключ), V (value/значение). Они проводятся через линейные (`Dense`) слои перед функцией внимания с несколькими головками.\n",
    "\n",
    "На приведенной выше диаграмме `(K,Q,V)` проходят через отдельные линейные (`Dense`) слои для каждой головы внимания. Для простоты/эффективности код ниже реализует это с помощью одного плотного слоя с с числом выходов, умноженным на `num_heads`. Выход преобразуется в форму `(batch, num_heads, ...)` перед применением функции внимания.\n",
    "\n",
    "Функция `scaled_dot_product_attention`, определенная выше, применяется в одном вызове, транслируемой для эффективности. Соответствующая маска должна использоваться на шаге внимания.  Вывод внимания для каждой головы затем объединяется (с помощью `tf.transpose`, и `tf.reshape`) и проходит финальный `Dense` слой.\n",
    "\n",
    "Вместо одной головки внимания Q, K и V разделены на несколько голов, поскольку она позволяет модели обращать внимание на информацию из разных подпространств представления в разных позициях. После разделения каждая голова имеет уменьшенную размерность, поэтому общая стоимость вычисления одинакова, что и внимание на одной головке с полной размерностью."
   ]
  },
  {
   "cell_type": "code",
   "execution_count": 92,
   "metadata": {
    "execution": {
     "iopub.execute_input": "2022-08-24T05:34:12.864211Z",
     "iopub.status.busy": "2022-08-24T05:34:12.863515Z",
     "iopub.status.idle": "2022-08-24T05:34:12.885460Z",
     "shell.execute_reply": "2022-08-24T05:34:12.883873Z",
     "shell.execute_reply.started": "2022-08-24T05:34:12.864175Z"
    },
    "id": "BSV3PPKsYecw"
   },
   "outputs": [],
   "source": [
    "class MultiHeadAttention(tf.keras.layers.Layer):\n",
    "  def __init__(self,*, d_model, num_heads):\n",
    "    super(MultiHeadAttention, self).__init__()\n",
    "    self.num_heads = num_heads\n",
    "    self.d_model = d_model\n",
    "\n",
    "    assert d_model % self.num_heads == 0\n",
    "\n",
    "    self.depth = d_model // self.num_heads\n",
    "\n",
    "    self.wq = tf.keras.layers.Dense(d_model)\n",
    "    self.wk = tf.keras.layers.Dense(d_model)\n",
    "    self.wv = tf.keras.layers.Dense(d_model)\n",
    "\n",
    "    self.dense = tf.keras.layers.Dense(d_model)\n",
    "\n",
    "  def split_heads(self, x, batch_size):\n",
    "    \"\"\"Split the last dimension into (num_heads, depth).\n",
    "    Transpose the result such that the shape is (batch_size, num_heads, seq_len, depth)\n",
    "    \"\"\"\n",
    "    x = tf.reshape(x, (batch_size, -1, self.num_heads, self.depth))\n",
    "    return tf.transpose(x, perm=[0, 2, 1, 3])\n",
    "\n",
    "  def call(self, v, k, q, mask):\n",
    "    batch_size = tf.shape(q)[0]\n",
    "\n",
    "    q = self.wq(q)  # (batch_size, seq_len, d_model)\n",
    "    k = self.wk(k)  # (batch_size, seq_len, d_model)\n",
    "    v = self.wv(v)  # (batch_size, seq_len, d_model)\n",
    "\n",
    "    q = self.split_heads(q, batch_size)  # (batch_size, num_heads, seq_len_q, depth)\n",
    "    k = self.split_heads(k, batch_size)  # (batch_size, num_heads, seq_len_k, depth)\n",
    "    v = self.split_heads(v, batch_size)  # (batch_size, num_heads, seq_len_v, depth)\n",
    "\n",
    "    # scaled_attention.shape == (batch_size, num_heads, seq_len_q, depth)\n",
    "    # attention_weights.shape == (batch_size, num_heads, seq_len_q, seq_len_k)\n",
    "    scaled_attention, attention_weights = scaled_dot_product_attention(\n",
    "        q, k, v, mask)\n",
    "\n",
    "    scaled_attention = tf.transpose(scaled_attention, perm=[0, 2, 1, 3])  # (batch_size, seq_len_q, num_heads, depth)\n",
    "\n",
    "    concat_attention = tf.reshape(scaled_attention,\n",
    "                                  (batch_size, -1, self.d_model))  # (batch_size, seq_len_q, d_model)\n",
    "\n",
    "    output = self.dense(concat_attention)  # (batch_size, seq_len_q, d_model)\n",
    "\n",
    "    return output, attention_weights"
   ]
  },
  {
   "cell_type": "markdown",
   "metadata": {
    "id": "0D8FJue5lDyZ"
   },
   "source": [
    "`MultiHeadAttention` Создайте слой, чтобы попробовать. В каждом месте в последовательности, `y`, `MultiHeadAttention` запускает все 8 головок внимания во всех других местах в последовательности, возвращая новый вектор одинаковой длины в каждом месте."
   ]
  },
  {
   "cell_type": "code",
   "execution_count": 93,
   "metadata": {
    "execution": {
     "iopub.execute_input": "2022-08-24T05:34:16.830369Z",
     "iopub.status.busy": "2022-08-24T05:34:16.829400Z",
     "iopub.status.idle": "2022-08-24T05:34:16.879360Z",
     "shell.execute_reply": "2022-08-24T05:34:16.877796Z",
     "shell.execute_reply.started": "2022-08-24T05:34:16.830332Z"
    },
    "id": "Hu94p-_-2_BX"
   },
   "outputs": [
    {
     "data": {
      "text/plain": [
       "(TensorShape([1, 60, 512]), TensorShape([1, 8, 60, 60]))"
      ]
     },
     "execution_count": 93,
     "metadata": {},
     "output_type": "execute_result"
    }
   ],
   "source": [
    "temp_mha = MultiHeadAttention(d_model=512, num_heads=8)\n",
    "y = tf.random.uniform((1, 60, 512))  # (batch_size, encoder_sequence, d_model)\n",
    "out, attn = temp_mha(y, k=y, q=y, mask=None)\n",
    "out.shape, attn.shape"
   ]
  },
  {
   "cell_type": "markdown",
   "metadata": {
    "id": "RdDqGayx67vv"
   },
   "source": [
    "## Полносвязные слои"
   ]
  },
  {
   "cell_type": "markdown",
   "metadata": {
    "id": "gBqzJXGfHK3X"
   },
   "source": [
    "Сеть точечной прямой связи состоит из двух полностью связанных слоев с активацией ReLU между ними."
   ]
  },
  {
   "cell_type": "code",
   "execution_count": 94,
   "metadata": {
    "execution": {
     "iopub.execute_input": "2022-08-24T05:34:20.001407Z",
     "iopub.status.busy": "2022-08-24T05:34:20.000687Z",
     "iopub.status.idle": "2022-08-24T05:34:20.013925Z",
     "shell.execute_reply": "2022-08-24T05:34:20.010039Z",
     "shell.execute_reply.started": "2022-08-24T05:34:20.001361Z"
    },
    "id": "ET7xLt0yCT6Z"
   },
   "outputs": [],
   "source": [
    "def point_wise_feed_forward_network(d_model, dff):\n",
    "  return tf.keras.Sequential([\n",
    "      tf.keras.layers.Dense(dff, activation='relu'),  # (batch_size, seq_len, dff)\n",
    "      tf.keras.layers.Dense(d_model)  # (batch_size, seq_len, d_model)\n",
    "  ])"
   ]
  },
  {
   "cell_type": "code",
   "execution_count": 95,
   "metadata": {
    "execution": {
     "iopub.execute_input": "2022-08-24T05:34:22.383558Z",
     "iopub.status.busy": "2022-08-24T05:34:22.383041Z",
     "iopub.status.idle": "2022-08-24T05:34:22.489039Z",
     "shell.execute_reply": "2022-08-24T05:34:22.482756Z",
     "shell.execute_reply.started": "2022-08-24T05:34:22.383497Z"
    },
    "id": "mytb1lPyOHLB"
   },
   "outputs": [
    {
     "data": {
      "text/plain": [
       "TensorShape([64, 50, 512])"
      ]
     },
     "execution_count": 95,
     "metadata": {},
     "output_type": "execute_result"
    }
   ],
   "source": [
    "sample_ffn = point_wise_feed_forward_network(512, 2048)\n",
    "sample_ffn(tf.random.uniform((64, 50, 512))).shape"
   ]
  },
  {
   "cell_type": "markdown",
   "metadata": {
    "id": "7e7hKcxn6-zd"
   },
   "source": [
    "## Энкодер и декодер"
   ]
  },
  {
   "cell_type": "markdown",
   "metadata": {
    "id": "yScbC0MUH8dS"
   },
   "source": [
    "<img src=\"https://github.com/AlexandrParkhomenko/ai/raw/main/cs25/transformer.png\" width=\"600\" alt=\"transformer\">"
   ]
  },
  {
   "cell_type": "markdown",
   "metadata": {
    "id": "MfYJG-Kvgwy2"
   },
   "source": [
    "Модель трансформера следует тому же общему шаблону, что и стандарт [последовательность в последовательности с моделью внимания](https://www.tensorflow.org/text/tutorials/nmt_with_attention.ipynb). \n",
    "\n",
    "* Входное предложение передается через `N` слоев кодировщика, который генерирует выходные данные для каждого токена в последовательности.\n",
    "* Декодер обращается к выходу энкодера и его собственным входу (самовнимание), чтобы предсказать следующее слово. "
   ]
  },
  {
   "cell_type": "markdown",
   "metadata": {
    "id": "QFv-FNYUmvpn"
   },
   "source": [
    "### Слой энкодера\n",
    "\n",
    "Каждый слой энкодера состоит из подслоев:\n",
    "\n",
    "1.   Многоголовоцное внимание (с маской заполнения)\n",
    "2.   Полносвязные сети прямого распространения.\n",
    "\n",
    "Каждый из этих подслоев имеет остаточную связь вокруг него с последующей нормализацией слоя. Остаточные соединения помогают избежать проблемы исчезновения градиента в глубоких сетях.\n",
    "\n",
    "Вывод каждого подслоя `LayerNorm(x + Sublayer(x))`. Нормализация проводится на (последней) оси `d_model`. В трансформере есть N слоев кодировщика."
   ]
  },
  {
   "cell_type": "code",
   "execution_count": 96,
   "metadata": {
    "execution": {
     "iopub.execute_input": "2022-08-24T05:34:27.400761Z",
     "iopub.status.busy": "2022-08-24T05:34:27.400311Z",
     "iopub.status.idle": "2022-08-24T05:34:27.413459Z",
     "shell.execute_reply": "2022-08-24T05:34:27.411884Z",
     "shell.execute_reply.started": "2022-08-24T05:34:27.400726Z"
    },
    "id": "ncyS-Ms3i2x_"
   },
   "outputs": [],
   "source": [
    "class EncoderLayer(tf.keras.layers.Layer):\n",
    "  def __init__(self,*, d_model, num_heads, dff, rate=0.1):\n",
    "    super(EncoderLayer, self).__init__()\n",
    "\n",
    "    self.mha = MultiHeadAttention(d_model=d_model, num_heads=num_heads)\n",
    "    self.ffn = point_wise_feed_forward_network(d_model, dff)\n",
    "\n",
    "    self.layernorm1 = tf.keras.layers.LayerNormalization(epsilon=1e-6)\n",
    "    self.layernorm2 = tf.keras.layers.LayerNormalization(epsilon=1e-6)\n",
    "\n",
    "    self.dropout1 = tf.keras.layers.Dropout(rate)\n",
    "    self.dropout2 = tf.keras.layers.Dropout(rate)\n",
    "\n",
    "  def call(self, x, training, mask):\n",
    "\n",
    "    attn_output, _ = self.mha(x, x, x, mask)  # (batch_size, input_seq_len, d_model)\n",
    "    attn_output = self.dropout1(attn_output, training=training)\n",
    "    out1 = self.layernorm1(x + attn_output)  # (batch_size, input_seq_len, d_model)\n",
    "\n",
    "    ffn_output = self.ffn(out1)  # (batch_size, input_seq_len, d_model)\n",
    "    ffn_output = self.dropout2(ffn_output, training=training)\n",
    "    out2 = self.layernorm2(out1 + ffn_output)  # (batch_size, input_seq_len, d_model)\n",
    "\n",
    "    return out2"
   ]
  },
  {
   "cell_type": "code",
   "execution_count": 97,
   "metadata": {
    "execution": {
     "iopub.execute_input": "2022-08-24T05:34:30.554566Z",
     "iopub.status.busy": "2022-08-24T05:34:30.554145Z",
     "iopub.status.idle": "2022-08-24T05:34:30.648888Z",
     "shell.execute_reply": "2022-08-24T05:34:30.647376Z",
     "shell.execute_reply.started": "2022-08-24T05:34:30.554512Z"
    },
    "id": "AzZRXdO0mI48"
   },
   "outputs": [
    {
     "data": {
      "text/plain": [
       "TensorShape([64, 43, 512])"
      ]
     },
     "execution_count": 97,
     "metadata": {},
     "output_type": "execute_result"
    }
   ],
   "source": [
    "sample_encoder_layer = EncoderLayer(d_model=512, num_heads=8, dff=2048)\n",
    "\n",
    "sample_encoder_layer_output = sample_encoder_layer(\n",
    "    tf.random.uniform((64, 43, 512)), False, None)\n",
    "\n",
    "sample_encoder_layer_output.shape  # (batch_size, input_seq_len, d_model)"
   ]
  },
  {
   "cell_type": "markdown",
   "metadata": {
    "id": "6LO_48Owmx_o"
   },
   "source": [
    "### Слой декодера\n",
    "\n",
    "Каждый слой декодера состоит из подслоев:\n",
    "\n",
    "1.   Маскированное многоголовое внимание (с маской упреждения и маской заполнения)\n",
    "2.   Многоголовое внимание (с маской заполнения). V (value/значение) и K (key/ключ) получают *выходные данные энкодера* в качестве входов. Q (query/запрос) получает *вывод от маскированного многоголового подслоя внимания*.\n",
    "3.   Полносвязные сети прямого распространения.\n",
    "\n",
    "Каждый из этих подслоев имеет остаточную связь вокруг него с последующей нормализацией слоя. Вывод каждого подслоя `LayerNorm(x + Sublayer(x))`. Нормализация проводится на (последней) оси `d_model`. \n",
    "\n",
    "В трансформере есть N слоев декодера.\n",
    "\n",
    "Поскольку Q получает выходной сигнал от первого блока внимания декодера, а K получает выходной сигнал энкодера, веса внимания представляют важность, придаваемое входу декодера на основе вывода энкодера. Другими словами, декодер предсказывает следующий токен, глядя на вывод энкодера и самостоятельно обращаясь к своим собственным выводам. См. Демонстрацию выше в разделе «Внимание масштабированного скалярного произведения»."
   ]
  },
  {
   "cell_type": "code",
   "execution_count": 98,
   "metadata": {
    "execution": {
     "iopub.execute_input": "2022-08-24T05:34:33.972039Z",
     "iopub.status.busy": "2022-08-24T05:34:33.971609Z",
     "iopub.status.idle": "2022-08-24T05:34:33.989194Z",
     "shell.execute_reply": "2022-08-24T05:34:33.987482Z",
     "shell.execute_reply.started": "2022-08-24T05:34:33.972004Z"
    },
    "id": "9SoX0-vd1hue"
   },
   "outputs": [],
   "source": [
    "class DecoderLayer(tf.keras.layers.Layer):\n",
    "  def __init__(self,*, d_model, num_heads, dff, rate=0.1):\n",
    "    super(DecoderLayer, self).__init__()\n",
    "\n",
    "    self.mha1 = MultiHeadAttention(d_model=d_model, num_heads=num_heads)\n",
    "    self.mha2 = MultiHeadAttention(d_model=d_model, num_heads=num_heads)\n",
    "\n",
    "    self.ffn = point_wise_feed_forward_network(d_model, dff)\n",
    "\n",
    "    self.layernorm1 = tf.keras.layers.LayerNormalization(epsilon=1e-6)\n",
    "    self.layernorm2 = tf.keras.layers.LayerNormalization(epsilon=1e-6)\n",
    "    self.layernorm3 = tf.keras.layers.LayerNormalization(epsilon=1e-6)\n",
    "\n",
    "    self.dropout1 = tf.keras.layers.Dropout(rate)\n",
    "    self.dropout2 = tf.keras.layers.Dropout(rate)\n",
    "    self.dropout3 = tf.keras.layers.Dropout(rate)\n",
    "\n",
    "  def call(self, x, enc_output, training,\n",
    "           look_ahead_mask, padding_mask):\n",
    "    # enc_output.shape == (batch_size, input_seq_len, d_model)\n",
    "\n",
    "    attn1, attn_weights_block1 = self.mha1(x, x, x, look_ahead_mask)  # (batch_size, target_seq_len, d_model)\n",
    "    attn1 = self.dropout1(attn1, training=training)\n",
    "    out1 = self.layernorm1(attn1 + x)\n",
    "\n",
    "    attn2, attn_weights_block2 = self.mha2(\n",
    "        enc_output, enc_output, out1, padding_mask)  # (batch_size, target_seq_len, d_model)\n",
    "    attn2 = self.dropout2(attn2, training=training)\n",
    "    out2 = self.layernorm2(attn2 + out1)  # (batch_size, target_seq_len, d_model)\n",
    "\n",
    "    ffn_output = self.ffn(out2)  # (batch_size, target_seq_len, d_model)\n",
    "    ffn_output = self.dropout3(ffn_output, training=training)\n",
    "    out3 = self.layernorm3(ffn_output + out2)  # (batch_size, target_seq_len, d_model)\n",
    "\n",
    "    return out3, attn_weights_block1, attn_weights_block2"
   ]
  },
  {
   "cell_type": "code",
   "execution_count": 99,
   "metadata": {
    "execution": {
     "iopub.execute_input": "2022-08-24T05:34:37.093776Z",
     "iopub.status.busy": "2022-08-24T05:34:37.093288Z",
     "iopub.status.idle": "2022-08-24T05:34:37.214382Z",
     "shell.execute_reply": "2022-08-24T05:34:37.212917Z",
     "shell.execute_reply.started": "2022-08-24T05:34:37.093741Z"
    },
    "id": "Ne2Bqx8k71l0"
   },
   "outputs": [
    {
     "data": {
      "text/plain": [
       "TensorShape([64, 50, 512])"
      ]
     },
     "execution_count": 99,
     "metadata": {},
     "output_type": "execute_result"
    }
   ],
   "source": [
    "sample_decoder_layer = DecoderLayer(d_model=512, num_heads=8, dff=2048)\n",
    "\n",
    "sample_decoder_layer_output, _, _ = sample_decoder_layer(\n",
    "    tf.random.uniform((64, 50, 512)), sample_encoder_layer_output,\n",
    "    False, None, None)\n",
    "\n",
    "sample_decoder_layer_output.shape  # (batch_size, target_seq_len, d_model)"
   ]
  },
  {
   "cell_type": "markdown",
   "metadata": {
    "id": "SE1H51Ajm0q1"
   },
   "source": [
    "### Энкодер\n",
    "\n",
    "`Encoder` состоит из:\n",
    "1.   Входные Отпечатки (Embedding)\n",
    "2.   Позиционное кодирование\n",
    "3.   N слоев энкодера\n",
    "\n",
    "Ввод пропускается через слой отпечатков, который суммируется с позиционным кодированием. Выход этого суммирования является входом в слои энкодера. Выход энкодера является входом в декодер."
   ]
  },
  {
   "cell_type": "code",
   "execution_count": 100,
   "metadata": {
    "execution": {
     "iopub.execute_input": "2022-08-24T05:34:41.035902Z",
     "iopub.status.busy": "2022-08-24T05:34:41.034823Z",
     "iopub.status.idle": "2022-08-24T05:34:41.063886Z",
     "shell.execute_reply": "2022-08-24T05:34:41.055353Z",
     "shell.execute_reply.started": "2022-08-24T05:34:41.035866Z"
    },
    "id": "jpEox7gJ8FCI"
   },
   "outputs": [],
   "source": [
    "class Encoder(tf.keras.layers.Layer):\n",
    "  def __init__(self,*, num_layers, d_model, num_heads, dff, input_vocab_size,\n",
    "               rate=0.1):\n",
    "    super(Encoder, self).__init__()\n",
    "\n",
    "    self.d_model = d_model\n",
    "    self.num_layers = num_layers\n",
    "\n",
    "    self.embedding = tf.keras.layers.Embedding(input_vocab_size, d_model)\n",
    "    self.pos_encoding = positional_encoding(MAX_TOKENS, self.d_model)\n",
    "\n",
    "    self.enc_layers = [\n",
    "        EncoderLayer(d_model=d_model, num_heads=num_heads, dff=dff, rate=rate)\n",
    "        for _ in range(num_layers)]\n",
    "\n",
    "    self.dropout = tf.keras.layers.Dropout(rate)\n",
    "\n",
    "  def call(self, x, training, mask):\n",
    "\n",
    "    seq_len = tf.shape(x)[1]\n",
    "\n",
    "    # adding embedding and position encoding.\n",
    "    x = self.embedding(x)  # (batch_size, input_seq_len, d_model)\n",
    "    x *= tf.math.sqrt(tf.cast(self.d_model, tf.float32))\n",
    "    x += self.pos_encoding[:, :seq_len, :]\n",
    "\n",
    "    x = self.dropout(x, training=training)\n",
    "\n",
    "    for i in range(self.num_layers):\n",
    "      x = self.enc_layers[i](x, training, mask)\n",
    "\n",
    "    return x  # (batch_size, input_seq_len, d_model)"
   ]
  },
  {
   "cell_type": "code",
   "execution_count": 101,
   "metadata": {
    "execution": {
     "iopub.execute_input": "2022-08-24T05:34:44.054910Z",
     "iopub.status.busy": "2022-08-24T05:34:44.053133Z",
     "iopub.status.idle": "2022-08-24T05:34:44.342505Z",
     "shell.execute_reply": "2022-08-24T05:34:44.340737Z",
     "shell.execute_reply.started": "2022-08-24T05:34:44.054840Z"
    },
    "id": "8QG9nueFQKXx"
   },
   "outputs": [
    {
     "name": "stdout",
     "output_type": "stream",
     "text": [
      "(64, 62, 512)\n"
     ]
    }
   ],
   "source": [
    "sample_encoder = Encoder(num_layers=2, d_model=512, num_heads=8,\n",
    "                         dff=2048, input_vocab_size=8500)\n",
    "temp_input = tf.random.uniform((64, 62), dtype=tf.int64, minval=0, maxval=200)\n",
    "\n",
    "sample_encoder_output = sample_encoder(temp_input, training=False, mask=None)\n",
    "\n",
    "print(sample_encoder_output.shape)  # (batch_size, input_seq_len, d_model)"
   ]
  },
  {
   "cell_type": "markdown",
   "metadata": {
    "id": "p-uO6ls8m2O5"
   },
   "source": [
    "### Декодер"
   ]
  },
  {
   "cell_type": "markdown",
   "metadata": {
    "id": "ZtT7PKzrXkNr"
   },
   "source": [
    "`Decoder` состоит из:\n",
    "1.   Выходные Отпечатки (Embedding)\n",
    "2.   Позиционное кодирование\n",
    "3.   N слоев декодера\n",
    "\n",
    "Цель проходит через слой отпечатков, которые суммируется с позиционным кодированием. Выход этого суммирования является входом для слоев декодера. Выход декодера является входом для конечного линейного слоя."
   ]
  },
  {
   "cell_type": "code",
   "execution_count": 102,
   "metadata": {
    "execution": {
     "iopub.execute_input": "2022-08-24T05:34:47.215806Z",
     "iopub.status.busy": "2022-08-24T05:34:47.215305Z",
     "iopub.status.idle": "2022-08-24T05:34:47.231230Z",
     "shell.execute_reply": "2022-08-24T05:34:47.229414Z",
     "shell.execute_reply.started": "2022-08-24T05:34:47.215771Z"
    },
    "id": "d5_d5-PLQXwY"
   },
   "outputs": [],
   "source": [
    "class Decoder(tf.keras.layers.Layer):\n",
    "  def __init__(self,*, num_layers, d_model, num_heads, dff, target_vocab_size,\n",
    "               rate=0.1):\n",
    "    super(Decoder, self).__init__()\n",
    "\n",
    "    self.d_model = d_model\n",
    "    self.num_layers = num_layers\n",
    "\n",
    "    self.embedding = tf.keras.layers.Embedding(target_vocab_size, d_model)\n",
    "    self.pos_encoding = positional_encoding(MAX_TOKENS, d_model)\n",
    "\n",
    "    self.dec_layers = [\n",
    "        DecoderLayer(d_model=d_model, num_heads=num_heads, dff=dff, rate=rate)\n",
    "        for _ in range(num_layers)]\n",
    "    self.dropout = tf.keras.layers.Dropout(rate)\n",
    "\n",
    "  def call(self, x, enc_output, training,\n",
    "           look_ahead_mask, padding_mask):\n",
    "\n",
    "    seq_len = tf.shape(x)[1]\n",
    "    attention_weights = {}\n",
    "\n",
    "    x = self.embedding(x)  # (batch_size, target_seq_len, d_model)\n",
    "    x *= tf.math.sqrt(tf.cast(self.d_model, tf.float32))\n",
    "    x += self.pos_encoding[:, :seq_len, :]\n",
    "\n",
    "    x = self.dropout(x, training=training)\n",
    "\n",
    "    for i in range(self.num_layers):\n",
    "      x, block1, block2 = self.dec_layers[i](x, enc_output, training,\n",
    "                                             look_ahead_mask, padding_mask)\n",
    "\n",
    "      attention_weights[f'decoder_layer{i+1}_block1'] = block1\n",
    "      attention_weights[f'decoder_layer{i+1}_block2'] = block2\n",
    "\n",
    "    # x.shape == (batch_size, target_seq_len, d_model)\n",
    "    return x, attention_weights"
   ]
  },
  {
   "cell_type": "code",
   "execution_count": 103,
   "metadata": {
    "execution": {
     "iopub.execute_input": "2022-08-24T05:34:51.336674Z",
     "iopub.status.busy": "2022-08-24T05:34:51.336172Z",
     "iopub.status.idle": "2022-08-24T05:34:51.593907Z",
     "shell.execute_reply": "2022-08-24T05:34:51.592315Z",
     "shell.execute_reply.started": "2022-08-24T05:34:51.336639Z"
    },
    "id": "a1jXoAMRZyvu"
   },
   "outputs": [
    {
     "data": {
      "text/plain": [
       "(TensorShape([64, 26, 512]), TensorShape([64, 8, 26, 62]))"
      ]
     },
     "execution_count": 103,
     "metadata": {},
     "output_type": "execute_result"
    }
   ],
   "source": [
    "sample_decoder = Decoder(num_layers=2, d_model=512, num_heads=8,\n",
    "                         dff=2048, target_vocab_size=8000)\n",
    "temp_input = tf.random.uniform((64, 26), dtype=tf.int64, minval=0, maxval=200)\n",
    "\n",
    "output, attn = sample_decoder(temp_input,\n",
    "                              enc_output=sample_encoder_output,\n",
    "                              training=False,\n",
    "                              look_ahead_mask=None,\n",
    "                              padding_mask=None)\n",
    "\n",
    "output.shape, attn['decoder_layer2_block2'].shape"
   ]
  },
  {
   "cell_type": "markdown",
   "metadata": {
    "id": "y54xnJnuYgJ7"
   },
   "source": [
    "## Создание модели трансформера"
   ]
  },
  {
   "cell_type": "markdown",
   "metadata": {
    "id": "uERO1y54cOKq"
   },
   "source": [
    "Трансформер состоит из энкодера, декодера и завершающего линейного слоя. Выход декодера является входом для линейного слоя, и его выход возвращается."
   ]
  },
  {
   "cell_type": "code",
   "execution_count": 104,
   "metadata": {
    "execution": {
     "iopub.execute_input": "2022-08-24T05:34:54.693761Z",
     "iopub.status.busy": "2022-08-24T05:34:54.693258Z",
     "iopub.status.idle": "2022-08-24T05:34:54.707235Z",
     "shell.execute_reply": "2022-08-24T05:34:54.705606Z",
     "shell.execute_reply.started": "2022-08-24T05:34:54.693726Z"
    },
    "id": "PED3bIpOYkBu"
   },
   "outputs": [],
   "source": [
    "class Transformer(tf.keras.Model):\n",
    "  def __init__(self,*, num_layers, d_model, num_heads, dff, input_vocab_size,\n",
    "               target_vocab_size, rate=0.1):\n",
    "    super().__init__()\n",
    "    self.encoder = Encoder(num_layers=num_layers, d_model=d_model,\n",
    "                           num_heads=num_heads, dff=dff,\n",
    "                           input_vocab_size=input_vocab_size, rate=rate)\n",
    "\n",
    "    self.decoder = Decoder(num_layers=num_layers, d_model=d_model,\n",
    "                           num_heads=num_heads, dff=dff,\n",
    "                           target_vocab_size=target_vocab_size, rate=rate)\n",
    "\n",
    "    self.final_layer = tf.keras.layers.Dense(target_vocab_size)\n",
    "\n",
    "  def call(self, inputs, training):\n",
    "    # Keras models prefer if you pass all your inputs in the first argument\n",
    "    inp, tar = inputs\n",
    "\n",
    "    padding_mask, look_ahead_mask = self.create_masks(inp, tar)\n",
    "\n",
    "    enc_output = self.encoder(inp, training, padding_mask)  # (batch_size, inp_seq_len, d_model)\n",
    "\n",
    "    # dec_output.shape == (batch_size, tar_seq_len, d_model)\n",
    "    dec_output, attention_weights = self.decoder(\n",
    "        tar, enc_output, training, look_ahead_mask, padding_mask)\n",
    "\n",
    "    final_output = self.final_layer(dec_output)  # (batch_size, tar_seq_len, target_vocab_size)\n",
    "\n",
    "    return final_output, attention_weights\n",
    "\n",
    "  def create_masks(self, inp, tar):\n",
    "    # Encoder padding mask (Used in the 2nd attention block in the decoder too.)\n",
    "    padding_mask = create_padding_mask(inp)\n",
    "\n",
    "    # Used in the 1st attention block in the decoder.\n",
    "    # It is used to pad and mask future tokens in the input received by\n",
    "    # the decoder.\n",
    "    look_ahead_mask = create_look_ahead_mask(tf.shape(tar)[1])\n",
    "    dec_target_padding_mask = create_padding_mask(tar)\n",
    "    look_ahead_mask = tf.maximum(dec_target_padding_mask, look_ahead_mask)\n",
    "\n",
    "    return padding_mask, look_ahead_mask"
   ]
  },
  {
   "cell_type": "code",
   "execution_count": 105,
   "metadata": {
    "execution": {
     "iopub.execute_input": "2022-08-24T05:34:58.767377Z",
     "iopub.status.busy": "2022-08-24T05:34:58.766942Z",
     "iopub.status.idle": "2022-08-24T05:34:59.140005Z",
     "shell.execute_reply": "2022-08-24T05:34:59.138540Z",
     "shell.execute_reply.started": "2022-08-24T05:34:58.767328Z"
    },
    "id": "tJ4fbQcIkHW1"
   },
   "outputs": [
    {
     "data": {
      "text/plain": [
       "TensorShape([64, 36, 8000])"
      ]
     },
     "execution_count": 105,
     "metadata": {},
     "output_type": "execute_result"
    }
   ],
   "source": [
    "sample_transformer = Transformer(\n",
    "    num_layers=2, d_model=512, num_heads=8, dff=2048,\n",
    "    input_vocab_size=8500, target_vocab_size=8000)\n",
    "\n",
    "temp_input = tf.random.uniform((64, 38), dtype=tf.int64, minval=0, maxval=200)\n",
    "temp_target = tf.random.uniform((64, 36), dtype=tf.int64, minval=0, maxval=200)\n",
    "\n",
    "fn_out, _ = sample_transformer([temp_input, temp_target], training=False)\n",
    "\n",
    "fn_out.shape  # (batch_size, tar_seq_len, target_vocab_size)"
   ]
  },
  {
   "cell_type": "markdown",
   "metadata": {
    "id": "wsINyf1VEQLC"
   },
   "source": [
    "## Установка гиперпараметров"
   ]
  },
  {
   "cell_type": "markdown",
   "metadata": {
    "id": "zVjWCxFNcgbt"
   },
   "source": [
    "ACHTUNG!\n",
    "\n",
    "Чтобы сохранить этот пример небольшим и относительно быстрым, значения для `num_layers, d_model, dff` были уменьшены. \n",
    "\n",
    "Базовая модель, описанная в [paper](https://arxiv.org/abs/1706.03762) использовала: `num_layers=6, d_model=512, dff=2048`."
   ]
  },
  {
   "cell_type": "code",
   "execution_count": 106,
   "metadata": {
    "execution": {
     "iopub.execute_input": "2022-08-24T05:35:01.434340Z",
     "iopub.status.busy": "2022-08-24T05:35:01.433914Z",
     "iopub.status.idle": "2022-08-24T05:35:01.443081Z",
     "shell.execute_reply": "2022-08-24T05:35:01.440630Z",
     "shell.execute_reply.started": "2022-08-24T05:35:01.434307Z"
    },
    "id": "lnJn5SLA2ahP"
   },
   "outputs": [],
   "source": [
    "num_layers = 4\n",
    "d_model = 128\n",
    "dff = 512\n",
    "num_heads = 8\n",
    "dropout_rate = 0.1"
   ]
  },
  {
   "cell_type": "markdown",
   "metadata": {
    "id": "xYEGhEOtzn5W"
   },
   "source": [
    "## Оптимизатор"
   ]
  },
  {
   "cell_type": "markdown",
   "metadata": {
    "id": "GOmWW--yP3zx"
   },
   "source": [
    "Используйте оптимизатор Adam с настраиваемым планировщиком скорости обучения в соответствии с формулой в [работе](https://arxiv.org/abs/1706.03762).\n",
    "\n",
    "$$\\Large{lrate = d_{model}^{-0.5} * \\min(step{\\_}num^{-0.5}, step{\\_}num \\cdot warmup{\\_}steps^{-1.5})}$$\n"
   ]
  },
  {
   "cell_type": "code",
   "execution_count": 128,
   "metadata": {
    "execution": {
     "iopub.execute_input": "2022-08-24T05:35:05.599002Z",
     "iopub.status.busy": "2022-08-24T05:35:05.598554Z",
     "iopub.status.idle": "2022-08-24T05:35:05.609249Z",
     "shell.execute_reply": "2022-08-24T05:35:05.607240Z",
     "shell.execute_reply.started": "2022-08-24T05:35:05.598968Z"
    },
    "id": "iYQdOO1axwEI"
   },
   "outputs": [],
   "source": [
    "class CustomSchedule(tf.keras.optimizers.schedules.LearningRateSchedule):\n",
    "  def __init__(self, d_model, warmup_steps=4000):\n",
    "    super(CustomSchedule, self).__init__()\n",
    "\n",
    "    self.d_model = d_model\n",
    "    self.d_model = tf.cast(self.d_model, tf.float32)\n",
    "\n",
    "    self.warmup_steps = warmup_steps\n",
    "\n",
    "  def __call__(self, step):\n",
    "    arg1 = tf.math.rsqrt(step)\n",
    "    arg2 = step * (self.warmup_steps ** -1.5)\n",
    "\n",
    "    return tf.math.rsqrt(self.d_model) * tf.math.minimum(arg1, arg2)"
   ]
  },
  {
   "cell_type": "code",
   "execution_count": 129,
   "metadata": {
    "execution": {
     "iopub.execute_input": "2022-08-24T05:35:08.550412Z",
     "iopub.status.busy": "2022-08-24T05:35:08.549957Z",
     "iopub.status.idle": "2022-08-24T05:35:08.560472Z",
     "shell.execute_reply": "2022-08-24T05:35:08.558864Z",
     "shell.execute_reply.started": "2022-08-24T05:35:08.550374Z"
    },
    "id": "7r4scdulztRx"
   },
   "outputs": [],
   "source": [
    "learning_rate = 0.001 #CustomSchedule(d_model)\n",
    "\n",
    "optimizer = tf.keras.optimizers.Adam(learning_rate, beta_1=0.9, beta_2=0.98,\n",
    "                                     epsilon=1e-9)"
   ]
  },
  {
   "cell_type": "code",
   "execution_count": 130,
   "metadata": {
    "execution": {
     "iopub.execute_input": "2022-08-24T05:35:11.683352Z",
     "iopub.status.busy": "2022-08-24T05:35:11.682910Z",
     "iopub.status.idle": "2022-08-24T05:35:11.970708Z",
     "shell.execute_reply": "2022-08-24T05:35:11.969285Z",
     "shell.execute_reply.started": "2022-08-24T05:35:11.683301Z"
    },
    "id": "f33ZCgvHpPdG"
   },
   "outputs": [
    {
     "data": {
      "text/plain": [
       "Text(0.5, 0, 'Train Step')"
      ]
     },
     "execution_count": 130,
     "metadata": {},
     "output_type": "execute_result"
    },
    {
     "data": {
      "image/png": "[encoded data removed]",
      "text/plain": [
       "<Figure size 640x480 with 1 Axes>"
      ]
     },
     "metadata": {},
     "output_type": "display_data"
    }
   ],
   "source": [
    "temp_learning_rate_schedule = CustomSchedule(d_model)\n",
    "\n",
    "plt.plot(temp_learning_rate_schedule(tf.range(40000, dtype=tf.float32)))\n",
    "plt.ylabel('Learning Rate')\n",
    "plt.xlabel('Train Step')"
   ]
  },
  {
   "cell_type": "markdown",
   "metadata": {
    "id": "YgkDE7hzo8r5"
   },
   "source": [
    "## Функция потерь и метрики"
   ]
  },
  {
   "cell_type": "markdown",
   "metadata": {
    "id": "oxGJtoDuYIHL"
   },
   "source": [
    "Поскольку целевые последовательности дополняются, важно применить маску заполнения при расчете потерь."
   ]
  },
  {
   "cell_type": "code",
   "execution_count": 131,
   "metadata": {
    "execution": {
     "iopub.execute_input": "2022-08-24T05:35:15.224962Z",
     "iopub.status.busy": "2022-08-24T05:35:15.223881Z",
     "iopub.status.idle": "2022-08-24T05:35:15.235383Z",
     "shell.execute_reply": "2022-08-24T05:35:15.233633Z",
     "shell.execute_reply.started": "2022-08-24T05:35:15.224925Z"
    },
    "id": "MlhsJMm0TW_B"
   },
   "outputs": [],
   "source": [
    "loss_object = tf.keras.losses.SparseCategoricalCrossentropy(\n",
    "    from_logits=True, reduction='none')"
   ]
  },
  {
   "cell_type": "code",
   "execution_count": 132,
   "metadata": {
    "execution": {
     "iopub.execute_input": "2022-08-24T05:35:17.009736Z",
     "iopub.status.busy": "2022-08-24T05:35:17.009284Z",
     "iopub.status.idle": "2022-08-24T05:35:17.023646Z",
     "shell.execute_reply": "2022-08-24T05:35:17.020831Z",
     "shell.execute_reply.started": "2022-08-24T05:35:17.009703Z"
    },
    "id": "67oqVHiT0Eiu"
   },
   "outputs": [],
   "source": [
    "def loss_function(real, pred):\n",
    "  mask = tf.math.logical_not(tf.math.equal(real, 0))\n",
    "  loss_ = loss_object(real, pred)\n",
    "\n",
    "  mask = tf.cast(mask, dtype=loss_.dtype)\n",
    "  loss_ *= mask\n",
    "\n",
    "  return tf.reduce_sum(loss_)/tf.reduce_sum(mask)\n",
    "\n",
    "\n",
    "def accuracy_function(real, pred):\n",
    "  accuracies = tf.equal(real, tf.argmax(pred, axis=2))\n",
    "\n",
    "  mask = tf.math.logical_not(tf.math.equal(real, 0))\n",
    "  accuracies = tf.math.logical_and(mask, accuracies)\n",
    "\n",
    "  accuracies = tf.cast(accuracies, dtype=tf.float32)\n",
    "  mask = tf.cast(mask, dtype=tf.float32)\n",
    "  return tf.reduce_sum(accuracies)/tf.reduce_sum(mask)"
   ]
  },
  {
   "cell_type": "code",
   "execution_count": 133,
   "metadata": {
    "execution": {
     "iopub.execute_input": "2022-08-24T05:35:19.609316Z",
     "iopub.status.busy": "2022-08-24T05:35:19.608825Z",
     "iopub.status.idle": "2022-08-24T05:35:19.631927Z",
     "shell.execute_reply": "2022-08-24T05:35:19.630215Z",
     "shell.execute_reply.started": "2022-08-24T05:35:19.609268Z"
    },
    "id": "phlyxMnm-Tpx"
   },
   "outputs": [],
   "source": [
    "train_loss = tf.keras.metrics.Mean(name='train_loss')\n",
    "train_accuracy = tf.keras.metrics.Mean(name='train_accuracy')"
   ]
  },
  {
   "cell_type": "markdown",
   "metadata": {
    "id": "aeHumfr7zmMa"
   },
   "source": [
    "## Тренировка и контрольные точки"
   ]
  },
  {
   "cell_type": "code",
   "execution_count": 134,
   "metadata": {
    "execution": {
     "iopub.execute_input": "2022-08-24T05:35:21.847289Z",
     "iopub.status.busy": "2022-08-24T05:35:21.846151Z",
     "iopub.status.idle": "2022-08-24T05:35:22.019704Z",
     "shell.execute_reply": "2022-08-24T05:35:22.018210Z",
     "shell.execute_reply.started": "2022-08-24T05:35:21.847252Z"
    },
    "id": "UiysUa--4tOU"
   },
   "outputs": [],
   "source": [
    "transformer = Transformer(\n",
    "    num_layers=num_layers,\n",
    "    d_model=d_model,\n",
    "    num_heads=num_heads,\n",
    "    dff=dff,\n",
    "    input_vocab_size=tokenizers.ru.get_vocab_size().numpy(),\n",
    "    target_vocab_size=tokenizers.en.get_vocab_size().numpy(),\n",
    "    rate=dropout_rate)"
   ]
  },
  {
   "cell_type": "markdown",
   "metadata": {
    "id": "Fzuf06YZp66w"
   },
   "source": [
    "Создайте путь к контрольной точке и менеджер контрольных точек. Это будет использоваться для сохранения контрольных точек каждые `n` эпох."
   ]
  },
  {
   "cell_type": "code",
   "execution_count": 135,
   "metadata": {
    "execution": {
     "iopub.execute_input": "2022-08-24T05:35:24.580490Z",
     "iopub.status.busy": "2022-08-24T05:35:24.579365Z",
     "iopub.status.idle": "2022-08-24T05:35:24.594129Z",
     "shell.execute_reply": "2022-08-24T05:35:24.592215Z",
     "shell.execute_reply.started": "2022-08-24T05:35:24.580454Z"
    },
    "id": "hNhuYfllndLZ"
   },
   "outputs": [],
   "source": [
    "checkpoint_path = './checkpoints/train'\n",
    "\n",
    "ckpt = tf.train.Checkpoint(transformer=transformer,\n",
    "                           optimizer=optimizer)\n",
    "\n",
    "ckpt_manager = tf.train.CheckpointManager(ckpt, checkpoint_path, max_to_keep=5)\n",
    "\n",
    "# if a checkpoint exists, restore the latest checkpoint.\n",
    "if ckpt_manager.latest_checkpoint:\n",
    "  ckpt.restore(ckpt_manager.latest_checkpoint)\n",
    "  print('Latest checkpoint restored!!')"
   ]
  },
  {
   "cell_type": "markdown",
   "metadata": {
    "id": "0Di_Yaa1gf9r"
   },
   "source": [
    "Цель делится на tar_inp и tar_real. tar_inp передается в качестве входных данных в декодер. `tar_real` — это тот же вход смещенный на 1: в каждом месте в `tar_input`, `tar_real` содержит следующий токен, который должен быть предсказан.\n",
    "\n",
    "Например, `sentence = 'SOS Лев спит в джунглях EOS'` становится:\n",
    "\n",
    "* `tar_inp =  'SOS Лев спит в джунглях'`\n",
    "* `tar_real = 'Лев спит в джунглях EOS'`\n",
    "\n",
    "Трансформер — это авторегрессивная модель: она делает прогнозы по одной части за раз и использует свой выход, чтобы решить, что делать дальше.\n",
    "\n",
    "Во время обучения в этом примере используется усиление учителем (как, например, в руководстве по [генерации текста](https://www.tensorflow.org/text/tutorials/text_generation)). Усиление учителем передает истинный выход на следующий временной шаг, независимо от того, что модель предсказывает на настоящем временном шаге.\n",
    "\n",
    "Поскольку модель предсказывает каждый токен, *внутреннее внимание* позволяет ей смотреть на предыдущие токены во входной последовательности, чтобы лучше предсказать следующий токен.\n",
    "\n",
    "Чтобы модель не заглядывала на ожидаемый вывод, модель использует упреждающую маску."
   ]
  },
  {
   "cell_type": "code",
   "execution_count": 136,
   "metadata": {
    "execution": {
     "iopub.execute_input": "2022-08-24T05:35:27.645907Z",
     "iopub.status.busy": "2022-08-24T05:35:27.642034Z",
     "iopub.status.idle": "2022-08-24T05:35:27.653452Z",
     "shell.execute_reply": "2022-08-24T05:35:27.651996Z",
     "shell.execute_reply.started": "2022-08-24T05:35:27.645854Z"
    },
    "id": "LKpoA6q1sJFj"
   },
   "outputs": [],
   "source": [
    "EPOCHS = 20"
   ]
  },
  {
   "cell_type": "code",
   "execution_count": 137,
   "metadata": {
    "execution": {
     "iopub.execute_input": "2022-08-24T05:35:32.437117Z",
     "iopub.status.busy": "2022-08-24T05:35:32.436692Z",
     "iopub.status.idle": "2022-08-24T05:35:32.448850Z",
     "shell.execute_reply": "2022-08-24T05:35:32.447138Z",
     "shell.execute_reply.started": "2022-08-24T05:35:32.437083Z"
    },
    "id": "iJwmp9OE29oj"
   },
   "outputs": [],
   "source": [
    "# The @tf.function trace-compiles train_step into a TF graph for faster\n",
    "# execution. The function specializes to the precise shape of the argument\n",
    "# tensors. To avoid re-tracing due to the variable sequence lengths or variable\n",
    "# batch sizes (the last batch is smaller), use input_signature to specify\n",
    "# more generic shapes.\n",
    "\n",
    "train_step_signature = [\n",
    "    tf.TensorSpec(shape=(None, None), dtype=tf.int64),\n",
    "    tf.TensorSpec(shape=(None, None), dtype=tf.int64),\n",
    "]\n",
    "\n",
    "\n",
    "@tf.function(input_signature=train_step_signature)\n",
    "def train_step(inp, tar):\n",
    "  tar_inp = tar[:, :-1]\n",
    "  tar_real = tar[:, 1:]\n",
    "\n",
    "  with tf.GradientTape() as tape:\n",
    "    predictions, _ = transformer([inp, tar_inp],\n",
    "                                 training = True)\n",
    "    loss = loss_function(tar_real, predictions)\n",
    "\n",
    "  gradients = tape.gradient(loss, transformer.trainable_variables)\n",
    "  optimizer.apply_gradients(zip(gradients, transformer.trainable_variables))\n",
    "\n",
    "  train_loss(loss)\n",
    "  train_accuracy(accuracy_function(tar_real, predictions))"
   ]
  },
  {
   "cell_type": "markdown",
   "metadata": {
    "id": "qM2PDWGDJ_8V"
   },
   "source": [
    "Русский язык используется в качестве языка ввода, а английский язык является целевым языком."
   ]
  },
  {
   "cell_type": "code",
   "execution_count": null,
   "metadata": {
    "execution": {
     "iopub.execute_input": "2022-08-24T05:35:40.435206Z",
     "iopub.status.busy": "2022-08-24T05:35:40.434276Z",
     "iopub.status.idle": "2022-08-24T07:19:09.409777Z",
     "shell.execute_reply": "2022-08-24T07:19:09.408295Z",
     "shell.execute_reply.started": "2022-08-24T05:35:40.435173Z"
    },
    "id": "bbvmaKNiznHZ"
   },
   "outputs": [
    {
     "name": "stdout",
     "output_type": "stream",
     "text": [
      "Epoch 1 Batch 0 Loss 8.9895 Accuracy 0.0000\n",
      "Epoch 1 Batch 50 Loss 6.9586 Accuracy 0.0438\n",
      "Epoch 1 Batch 100 Loss 6.6099 Accuracy 0.0516\n",
      "Epoch 1 Batch 150 Loss 6.4847 Accuracy 0.0537\n",
      "Epoch 1 Batch 200 Loss 6.4066 Accuracy 0.0580\n",
      "Epoch 1 Batch 250 Loss 6.3473 Accuracy 0.0636\n",
      "Epoch 1 Batch 300 Loss 6.2997 Accuracy 0.0676\n",
      "Epoch 1 Batch 350 Loss 6.2720 Accuracy 0.0696\n",
      "Epoch 1 Batch 400 Loss 6.2541 Accuracy 0.0708\n",
      "Epoch 1 Batch 450 Loss 6.2390 Accuracy 0.0715\n",
      "Epoch 1 Batch 500 Loss 6.2424 Accuracy 0.0689\n",
      "Epoch 1 Batch 550 Loss 6.2429 Accuracy 0.0670\n",
      "Epoch 1 Batch 600 Loss 6.2384 Accuracy 0.0659\n",
      "Epoch 1 Batch 650 Loss 6.2332 Accuracy 0.0652\n",
      "Epoch 1 Batch 700 Loss 6.2291 Accuracy 0.0649\n",
      "Epoch 1 Batch 750 Loss 6.2240 Accuracy 0.0650\n",
      "Epoch 1 Batch 800 Loss 6.2174 Accuracy 0.0653\n",
      "Epoch 1 Batch 850 Loss 6.2091 Accuracy 0.0660\n",
      "Epoch 1 Batch 900 Loss 6.1971 Accuracy 0.0675\n",
      "Epoch 1 Batch 950 Loss 6.1880 Accuracy 0.0689\n",
      "Epoch 1 Batch 1000 Loss 6.1876 Accuracy 0.0685\n",
      "Epoch 1 Batch 1050 Loss 6.1870 Accuracy 0.0683\n",
      "Epoch 1 Batch 1100 Loss 6.1845 Accuracy 0.0683\n",
      "Epoch 1 Batch 1150 Loss 6.1817 Accuracy 0.0682\n",
      "Epoch 1 Batch 1200 Loss 6.1801 Accuracy 0.0682\n",
      "Epoch 1 Batch 1250 Loss 6.1772 Accuracy 0.0685\n",
      "Epoch 1 Batch 1300 Loss 6.1742 Accuracy 0.0689\n",
      "Epoch 1 Batch 1350 Loss 6.1723 Accuracy 0.0692\n",
      "Epoch 1 Batch 1400 Loss 6.1703 Accuracy 0.0695\n",
      "Epoch 1 Batch 1450 Loss 6.1685 Accuracy 0.0699\n",
      "Epoch 1 Batch 1500 Loss 6.1662 Accuracy 0.0702\n",
      "Epoch 1 Batch 1550 Loss 6.1627 Accuracy 0.0706\n",
      "Epoch 1 Batch 1600 Loss 6.1596 Accuracy 0.0712\n",
      "Epoch 1 Batch 1650 Loss 6.1540 Accuracy 0.0724\n",
      "Epoch 1 Batch 1700 Loss 6.1475 Accuracy 0.0736\n",
      "Epoch 1 Batch 1750 Loss 6.1411 Accuracy 0.0749\n",
      "Epoch 1 Batch 1800 Loss 6.1355 Accuracy 0.0760\n",
      "Epoch 1 Batch 1850 Loss 6.1296 Accuracy 0.0772\n",
      "Epoch 1 Batch 1900 Loss 6.1229 Accuracy 0.0784\n",
      "Epoch 1 Batch 1950 Loss 6.1154 Accuracy 0.0797\n",
      "Epoch 1 Batch 2000 Loss 6.1081 Accuracy 0.0810\n",
      "Epoch 1 Batch 2050 Loss 6.1008 Accuracy 0.0823\n",
      "Epoch 1 Batch 2100 Loss 6.0938 Accuracy 0.0835\n",
      "Epoch 1 Batch 2150 Loss 6.0874 Accuracy 0.0846\n",
      "Epoch 1 Batch 2200 Loss 6.0805 Accuracy 0.0858\n",
      "Epoch 1 Batch 2250 Loss 6.0737 Accuracy 0.0869\n",
      "Epoch 1 Batch 2300 Loss 6.0679 Accuracy 0.0879\n",
      "Epoch 1 Batch 2350 Loss 6.0621 Accuracy 0.0889\n",
      "Epoch 1 Batch 2400 Loss 6.0567 Accuracy 0.0899\n",
      "Epoch 1 Batch 2450 Loss 6.0515 Accuracy 0.0907\n",
      "Epoch 1 Batch 2500 Loss 6.0459 Accuracy 0.0917\n",
      "Epoch 1 Batch 2550 Loss 6.0405 Accuracy 0.0925\n",
      "Epoch 1 Batch 2600 Loss 6.0353 Accuracy 0.0934\n",
      "Epoch 1 Batch 2650 Loss 6.0301 Accuracy 0.0943\n",
      "Epoch 1 Loss 6.0256 Accuracy 0.0951\n",
      "Time taken for 1 epoch: 321.10 secs\n",
      "\n",
      "Epoch 2 Batch 0 Loss 5.8485 Accuracy 0.1197\n",
      "Epoch 2 Batch 50 Loss 5.7486 Accuracy 0.1381\n",
      "Epoch 2 Batch 100 Loss 5.7298 Accuracy 0.1404\n",
      "Epoch 2 Batch 150 Loss 5.7189 Accuracy 0.1423\n",
      "Epoch 2 Batch 200 Loss 5.6993 Accuracy 0.1459\n",
      "Epoch 2 Batch 250 Loss 5.6808 Accuracy 0.1490\n",
      "Epoch 2 Batch 300 Loss 5.6619 Accuracy 0.1515\n",
      "Epoch 2 Batch 350 Loss 5.6416 Accuracy 0.1541\n",
      "Epoch 2 Batch 400 Loss 5.6231 Accuracy 0.1567\n",
      "Epoch 2 Batch 450 Loss 5.6074 Accuracy 0.1587\n",
      "Epoch 2 Batch 500 Loss 5.5896 Accuracy 0.1608\n",
      "Epoch 2 Batch 550 Loss 5.5753 Accuracy 0.1624\n",
      "Epoch 2 Batch 600 Loss 5.5590 Accuracy 0.1637\n",
      "Epoch 2 Batch 650 Loss 5.5423 Accuracy 0.1649\n",
      "Epoch 2 Batch 700 Loss 5.5290 Accuracy 0.1662\n",
      "Epoch 2 Batch 750 Loss 5.5129 Accuracy 0.1674\n",
      "Epoch 2 Batch 800 Loss 5.4986 Accuracy 0.1684\n",
      "Epoch 2 Batch 850 Loss 5.4834 Accuracy 0.1696\n",
      "Epoch 2 Batch 900 Loss 5.4702 Accuracy 0.1705\n",
      "Epoch 2 Batch 950 Loss 5.4590 Accuracy 0.1714\n",
      "Epoch 2 Batch 1000 Loss 5.4474 Accuracy 0.1722\n",
      "Epoch 2 Batch 1050 Loss 5.4372 Accuracy 0.1729\n",
      "Epoch 2 Batch 1100 Loss 5.4262 Accuracy 0.1737\n",
      "Epoch 2 Batch 1150 Loss 5.4171 Accuracy 0.1743\n",
      "Epoch 2 Batch 1200 Loss 5.4071 Accuracy 0.1749\n",
      "Epoch 2 Batch 1250 Loss 5.3976 Accuracy 0.1756\n",
      "Epoch 2 Batch 1300 Loss 5.3871 Accuracy 0.1764\n",
      "Epoch 2 Batch 1350 Loss 5.3797 Accuracy 0.1770\n",
      "Epoch 2 Batch 1400 Loss 5.3711 Accuracy 0.1776\n",
      "Epoch 2 Batch 1450 Loss 5.3640 Accuracy 0.1781\n",
      "Epoch 2 Batch 1500 Loss 5.3567 Accuracy 0.1787\n",
      "Epoch 2 Batch 1550 Loss 5.3492 Accuracy 0.1792\n",
      "Epoch 2 Batch 1600 Loss 5.3421 Accuracy 0.1797\n",
      "Epoch 2 Batch 1650 Loss 5.3348 Accuracy 0.1803\n",
      "Epoch 2 Batch 1700 Loss 5.3289 Accuracy 0.1807\n",
      "Epoch 2 Batch 1750 Loss 5.3224 Accuracy 0.1812\n",
      "Epoch 2 Batch 1800 Loss 5.3164 Accuracy 0.1816\n",
      "Epoch 2 Batch 1850 Loss 5.3105 Accuracy 0.1820\n",
      "Epoch 2 Batch 1900 Loss 5.3051 Accuracy 0.1823\n",
      "Epoch 2 Batch 1950 Loss 5.2993 Accuracy 0.1827\n",
      "Epoch 2 Batch 2000 Loss 5.2939 Accuracy 0.1831\n",
      "Epoch 2 Batch 2050 Loss 5.2889 Accuracy 0.1834\n",
      "Epoch 2 Batch 2100 Loss 5.2835 Accuracy 0.1838\n",
      "Epoch 2 Batch 2150 Loss 5.2784 Accuracy 0.1841\n",
      "Epoch 2 Batch 2200 Loss 5.2726 Accuracy 0.1845\n",
      "Epoch 2 Batch 2250 Loss 5.2673 Accuracy 0.1849\n",
      "Epoch 2 Batch 2300 Loss 5.2625 Accuracy 0.1853\n",
      "Epoch 2 Batch 2350 Loss 5.2580 Accuracy 0.1856\n",
      "Epoch 2 Batch 2400 Loss 5.2533 Accuracy 0.1859\n",
      "Epoch 2 Batch 2450 Loss 5.2490 Accuracy 0.1862\n",
      "Epoch 2 Batch 2500 Loss 5.2445 Accuracy 0.1865\n",
      "Epoch 2 Batch 2550 Loss 5.2404 Accuracy 0.1868\n",
      "Epoch 2 Batch 2600 Loss 5.2356 Accuracy 0.1872\n",
      "Epoch 2 Batch 2650 Loss 5.2315 Accuracy 0.1875\n",
      "Epoch 2 Loss 5.2272 Accuracy 0.1878\n",
      "Time taken for 1 epoch: 279.39 secs\n",
      "\n",
      "Epoch 3 Batch 0 Loss 5.1852 Accuracy 0.1862\n",
      "Epoch 3 Batch 50 Loss 5.0163 Accuracy 0.2003\n",
      "Epoch 3 Batch 100 Loss 5.0136 Accuracy 0.2035\n",
      "Epoch 3 Batch 150 Loss 5.0089 Accuracy 0.2044\n",
      "Epoch 3 Batch 200 Loss 5.0045 Accuracy 0.2047\n",
      "Epoch 3 Batch 250 Loss 5.0042 Accuracy 0.2047\n",
      "Epoch 3 Batch 300 Loss 5.0020 Accuracy 0.2048\n",
      "Epoch 3 Batch 350 Loss 5.0027 Accuracy 0.2048\n",
      "Epoch 3 Batch 400 Loss 4.9984 Accuracy 0.2051\n",
      "Epoch 3 Batch 450 Loss 4.9994 Accuracy 0.2052\n",
      "Epoch 3 Batch 500 Loss 4.9989 Accuracy 0.2050\n",
      "Epoch 3 Batch 550 Loss 4.9934 Accuracy 0.2053\n",
      "Epoch 3 Batch 600 Loss 4.9933 Accuracy 0.2053\n",
      "Epoch 3 Batch 650 Loss 4.9893 Accuracy 0.2058\n",
      "Epoch 3 Batch 700 Loss 4.9867 Accuracy 0.2060\n",
      "Epoch 3 Batch 750 Loss 4.9827 Accuracy 0.2066\n",
      "Epoch 3 Batch 800 Loss 4.9813 Accuracy 0.2068\n",
      "Epoch 3 Batch 850 Loss 4.9777 Accuracy 0.2071\n",
      "Epoch 3 Batch 900 Loss 4.9771 Accuracy 0.2071\n",
      "Epoch 3 Batch 950 Loss 4.9773 Accuracy 0.2071\n",
      "Epoch 3 Batch 1000 Loss 4.9752 Accuracy 0.2073\n",
      "Epoch 3 Batch 1050 Loss 4.9732 Accuracy 0.2074\n",
      "Epoch 3 Batch 1100 Loss 4.9700 Accuracy 0.2078\n",
      "Epoch 3 Batch 1150 Loss 4.9678 Accuracy 0.2080\n",
      "Epoch 3 Batch 1200 Loss 4.9656 Accuracy 0.2082\n",
      "Epoch 3 Batch 1250 Loss 4.9634 Accuracy 0.2085\n",
      "Epoch 3 Batch 1300 Loss 4.9610 Accuracy 0.2087\n",
      "Epoch 3 Batch 1350 Loss 4.9589 Accuracy 0.2089\n",
      "Epoch 3 Batch 1400 Loss 4.9566 Accuracy 0.2092\n",
      "Epoch 3 Batch 1450 Loss 4.9553 Accuracy 0.2094\n",
      "Epoch 3 Batch 1500 Loss 4.9542 Accuracy 0.2096\n",
      "Epoch 3 Batch 1550 Loss 4.9527 Accuracy 0.2098\n",
      "Epoch 3 Batch 1600 Loss 4.9503 Accuracy 0.2100\n",
      "Epoch 3 Batch 1650 Loss 4.9487 Accuracy 0.2102\n",
      "Epoch 3 Batch 1700 Loss 4.9482 Accuracy 0.2104\n",
      "Epoch 3 Batch 1750 Loss 4.9481 Accuracy 0.2105\n",
      "Epoch 3 Batch 1800 Loss 4.9477 Accuracy 0.2106\n",
      "Epoch 3 Batch 1850 Loss 4.9470 Accuracy 0.2107\n",
      "Epoch 3 Batch 1900 Loss 4.9461 Accuracy 0.2108\n",
      "Epoch 3 Batch 1950 Loss 4.9446 Accuracy 0.2110\n",
      "Epoch 3 Batch 2000 Loss 4.9439 Accuracy 0.2112\n",
      "Epoch 3 Batch 2050 Loss 4.9423 Accuracy 0.2113\n",
      "Epoch 3 Batch 2100 Loss 4.9412 Accuracy 0.2115\n",
      "Epoch 3 Batch 2150 Loss 4.9398 Accuracy 0.2116\n",
      "Epoch 3 Batch 2200 Loss 4.9383 Accuracy 0.2118\n",
      "Epoch 3 Batch 2250 Loss 4.9359 Accuracy 0.2120\n",
      "Epoch 3 Batch 2300 Loss 4.9338 Accuracy 0.2122\n",
      "Epoch 3 Batch 2350 Loss 4.9323 Accuracy 0.2123\n",
      "Epoch 3 Batch 2400 Loss 4.9303 Accuracy 0.2125\n",
      "Epoch 3 Batch 2450 Loss 4.9290 Accuracy 0.2127\n",
      "Epoch 3 Batch 2500 Loss 4.9272 Accuracy 0.2129\n",
      "Epoch 3 Batch 2550 Loss 4.9256 Accuracy 0.2130\n",
      "Epoch 3 Batch 2600 Loss 4.9237 Accuracy 0.2132\n",
      "Epoch 3 Batch 2650 Loss 4.9214 Accuracy 0.2135\n",
      "Epoch 3 Loss 4.9201 Accuracy 0.2137\n",
      "Time taken for 1 epoch: 278.01 secs\n",
      "\n",
      "Epoch 4 Batch 0 Loss 4.8002 Accuracy 0.2205\n",
      "Epoch 4 Batch 50 Loss 4.8372 Accuracy 0.2235\n",
      "Epoch 4 Batch 100 Loss 4.8227 Accuracy 0.2259\n",
      "Epoch 4 Batch 150 Loss 4.8180 Accuracy 0.2253\n",
      "Epoch 4 Batch 200 Loss 4.8056 Accuracy 0.2267\n",
      "Epoch 4 Batch 250 Loss 4.7998 Accuracy 0.2271\n",
      "Epoch 4 Batch 300 Loss 4.7965 Accuracy 0.2277\n",
      "Epoch 4 Batch 350 Loss 4.7952 Accuracy 0.2276\n",
      "Epoch 4 Batch 400 Loss 4.7924 Accuracy 0.2279\n",
      "Epoch 4 Batch 450 Loss 4.7903 Accuracy 0.2285\n"
     ]
    },
    {
     "name": "stdout",
     "output_type": "stream",
     "text": [
      "Epoch 4 Batch 500 Loss 4.7904 Accuracy 0.2285\n",
      "Epoch 4 Batch 550 Loss 4.7891 Accuracy 0.2287\n",
      "Epoch 4 Batch 600 Loss 4.7876 Accuracy 0.2290\n",
      "Epoch 4 Batch 650 Loss 4.7856 Accuracy 0.2293\n",
      "Epoch 4 Batch 700 Loss 4.7825 Accuracy 0.2294\n",
      "Epoch 4 Batch 750 Loss 4.7801 Accuracy 0.2298\n",
      "Epoch 4 Batch 800 Loss 4.7789 Accuracy 0.2299\n",
      "Epoch 4 Batch 850 Loss 4.7759 Accuracy 0.2302\n",
      "Epoch 4 Batch 900 Loss 4.7704 Accuracy 0.2309\n",
      "Epoch 4 Batch 950 Loss 4.7663 Accuracy 0.2315\n",
      "Epoch 4 Batch 1000 Loss 4.7635 Accuracy 0.2318\n",
      "Epoch 4 Batch 1050 Loss 4.7609 Accuracy 0.2322\n",
      "Epoch 4 Batch 1100 Loss 4.7600 Accuracy 0.2323\n",
      "Epoch 4 Batch 1150 Loss 4.7573 Accuracy 0.2325\n",
      "Epoch 4 Batch 1200 Loss 4.7548 Accuracy 0.2328\n",
      "Epoch 4 Batch 1250 Loss 4.7531 Accuracy 0.2330\n",
      "Epoch 4 Batch 1300 Loss 4.7512 Accuracy 0.2331\n",
      "Epoch 4 Batch 1350 Loss 4.7494 Accuracy 0.2334\n",
      "Epoch 4 Batch 1400 Loss 4.7478 Accuracy 0.2335\n",
      "Epoch 4 Batch 1450 Loss 4.7463 Accuracy 0.2337\n",
      "Epoch 4 Batch 1500 Loss 4.7442 Accuracy 0.2339\n",
      "Epoch 4 Batch 1550 Loss 4.7426 Accuracy 0.2341\n",
      "Epoch 4 Batch 1600 Loss 4.7407 Accuracy 0.2343\n",
      "Epoch 4 Batch 1650 Loss 4.7391 Accuracy 0.2345\n",
      "Epoch 4 Batch 1700 Loss 4.7370 Accuracy 0.2347\n",
      "Epoch 4 Batch 1750 Loss 4.7356 Accuracy 0.2349\n",
      "Epoch 4 Batch 1800 Loss 4.7334 Accuracy 0.2352\n",
      "Epoch 4 Batch 1850 Loss 4.7305 Accuracy 0.2354\n",
      "Epoch 4 Batch 1900 Loss 4.7283 Accuracy 0.2356\n",
      "Epoch 4 Batch 1950 Loss 4.7268 Accuracy 0.2357\n",
      "Epoch 4 Batch 2000 Loss 4.7250 Accuracy 0.2359\n",
      "Epoch 4 Batch 2050 Loss 4.7230 Accuracy 0.2361\n",
      "Epoch 4 Batch 2100 Loss 4.7211 Accuracy 0.2363\n",
      "Epoch 4 Batch 2150 Loss 4.7183 Accuracy 0.2365\n",
      "Epoch 4 Batch 2200 Loss 4.7161 Accuracy 0.2367\n",
      "Epoch 4 Batch 2250 Loss 4.7142 Accuracy 0.2369\n",
      "Epoch 4 Batch 2300 Loss 4.7124 Accuracy 0.2371\n",
      "Epoch 4 Batch 2350 Loss 4.7097 Accuracy 0.2373\n",
      "Epoch 4 Batch 2400 Loss 4.7083 Accuracy 0.2375\n",
      "Epoch 4 Batch 2450 Loss 4.7063 Accuracy 0.2377\n",
      "Epoch 4 Batch 2500 Loss 4.7047 Accuracy 0.2378\n",
      "Epoch 4 Batch 2550 Loss 4.7026 Accuracy 0.2380\n",
      "Epoch 4 Batch 2600 Loss 4.7006 Accuracy 0.2382\n",
      "Epoch 4 Batch 2650 Loss 4.6991 Accuracy 0.2383\n",
      "Epoch 4 Batch 2700 Loss 4.6977 Accuracy 0.2385\n",
      "Epoch 4 Loss 4.6977 Accuracy 0.2385\n",
      "Time taken for 1 epoch: 282.88 secs\n",
      "\n",
      "Epoch 5 Batch 0 Loss 4.5911 Accuracy 0.2617\n",
      "Epoch 5 Batch 50 Loss 4.5897 Accuracy 0.2497\n",
      "Epoch 5 Batch 100 Loss 4.5938 Accuracy 0.2484\n",
      "Epoch 5 Batch 150 Loss 4.5975 Accuracy 0.2484\n",
      "Epoch 5 Batch 200 Loss 4.5952 Accuracy 0.2485\n",
      "Epoch 5 Batch 250 Loss 4.5909 Accuracy 0.2489\n",
      "Epoch 5 Batch 300 Loss 4.5925 Accuracy 0.2486\n",
      "Epoch 5 Batch 350 Loss 4.5875 Accuracy 0.2488\n",
      "Epoch 5 Batch 400 Loss 4.5861 Accuracy 0.2492\n",
      "Epoch 5 Batch 450 Loss 4.5859 Accuracy 0.2490\n",
      "Epoch 5 Batch 500 Loss 4.5863 Accuracy 0.2491\n",
      "Epoch 5 Batch 550 Loss 4.5825 Accuracy 0.2496\n",
      "Epoch 5 Batch 600 Loss 4.5819 Accuracy 0.2496\n",
      "Epoch 5 Batch 650 Loss 4.5800 Accuracy 0.2497\n",
      "Epoch 5 Batch 700 Loss 4.5775 Accuracy 0.2501\n",
      "Epoch 5 Batch 750 Loss 4.5772 Accuracy 0.2501\n",
      "Epoch 5 Batch 800 Loss 4.5758 Accuracy 0.2502\n",
      "Epoch 5 Batch 850 Loss 4.5728 Accuracy 0.2504\n",
      "Epoch 5 Batch 900 Loss 4.5712 Accuracy 0.2505\n",
      "Epoch 5 Batch 950 Loss 4.5704 Accuracy 0.2507\n",
      "Epoch 5 Batch 1000 Loss 4.5697 Accuracy 0.2508\n",
      "Epoch 5 Batch 1050 Loss 4.5687 Accuracy 0.2509\n",
      "Epoch 5 Batch 1100 Loss 4.5689 Accuracy 0.2510\n",
      "Epoch 5 Batch 1150 Loss 4.5655 Accuracy 0.2513\n",
      "Epoch 5 Batch 1200 Loss 4.5645 Accuracy 0.2513\n",
      "Epoch 5 Batch 1250 Loss 4.5642 Accuracy 0.2513\n",
      "Epoch 5 Batch 1300 Loss 4.5631 Accuracy 0.2514\n",
      "Epoch 5 Batch 1350 Loss 4.5608 Accuracy 0.2516\n",
      "Epoch 5 Batch 1400 Loss 4.5600 Accuracy 0.2516\n",
      "Epoch 5 Batch 1450 Loss 4.5585 Accuracy 0.2517\n",
      "Epoch 5 Batch 1500 Loss 4.5582 Accuracy 0.2517\n",
      "Epoch 5 Batch 1550 Loss 4.5563 Accuracy 0.2518\n",
      "Epoch 5 Batch 1600 Loss 4.5552 Accuracy 0.2519\n",
      "Epoch 5 Batch 1650 Loss 4.5545 Accuracy 0.2520\n",
      "Epoch 5 Batch 1700 Loss 4.5532 Accuracy 0.2521\n",
      "Epoch 5 Batch 1750 Loss 4.5510 Accuracy 0.2523\n",
      "Epoch 5 Batch 1800 Loss 4.5496 Accuracy 0.2524\n",
      "Epoch 5 Batch 1850 Loss 4.5485 Accuracy 0.2525\n",
      "Epoch 5 Batch 1900 Loss 4.5472 Accuracy 0.2525\n",
      "Epoch 5 Batch 1950 Loss 4.5466 Accuracy 0.2526\n",
      "Epoch 5 Batch 2000 Loss 4.5451 Accuracy 0.2527\n",
      "Epoch 5 Batch 2050 Loss 4.5442 Accuracy 0.2528\n",
      "Epoch 5 Batch 2100 Loss 4.5429 Accuracy 0.2528\n",
      "Epoch 5 Batch 2150 Loss 4.5415 Accuracy 0.2529\n",
      "Epoch 5 Batch 2200 Loss 4.5399 Accuracy 0.2531\n",
      "Epoch 5 Batch 2250 Loss 4.5385 Accuracy 0.2531\n",
      "Epoch 5 Batch 2300 Loss 4.5372 Accuracy 0.2532\n",
      "Epoch 5 Batch 2350 Loss 4.5362 Accuracy 0.2533\n",
      "Epoch 5 Batch 2400 Loss 4.5349 Accuracy 0.2533\n",
      "Epoch 5 Batch 2450 Loss 4.5341 Accuracy 0.2533\n",
      "Epoch 5 Batch 2500 Loss 4.5323 Accuracy 0.2535\n",
      "Epoch 5 Batch 2550 Loss 4.5314 Accuracy 0.2535\n",
      "Epoch 5 Batch 2600 Loss 4.5304 Accuracy 0.2536\n",
      "Epoch 5 Batch 2650 Loss 4.5298 Accuracy 0.2536\n",
      "Epoch 5 Batch 2700 Loss 4.5290 Accuracy 0.2537\n",
      "Saving checkpoint for epoch 5 at ./checkpoints/train/ckpt-1\n",
      "Epoch 5 Loss 4.5290 Accuracy 0.2537\n",
      "Time taken for 1 epoch: 284.26 secs\n",
      "\n",
      "Epoch 6 Batch 0 Loss 4.5034 Accuracy 0.2464\n",
      "Epoch 6 Batch 50 Loss 4.4636 Accuracy 0.2585\n",
      "Epoch 6 Batch 100 Loss 4.4538 Accuracy 0.2598\n",
      "Epoch 6 Batch 150 Loss 4.4600 Accuracy 0.2591\n",
      "Epoch 6 Batch 200 Loss 4.4558 Accuracy 0.2599\n",
      "Epoch 6 Batch 250 Loss 4.4566 Accuracy 0.2597\n",
      "Epoch 6 Batch 300 Loss 4.4566 Accuracy 0.2594\n",
      "Epoch 6 Batch 350 Loss 4.4559 Accuracy 0.2592\n",
      "Epoch 6 Batch 400 Loss 4.4573 Accuracy 0.2591\n",
      "Epoch 6 Batch 450 Loss 4.4556 Accuracy 0.2593\n",
      "Epoch 6 Batch 500 Loss 4.4529 Accuracy 0.2597\n",
      "Epoch 6 Batch 550 Loss 4.4504 Accuracy 0.2600\n",
      "Epoch 6 Batch 600 Loss 4.4485 Accuracy 0.2600\n",
      "Epoch 6 Batch 650 Loss 4.4487 Accuracy 0.2601\n",
      "Epoch 6 Batch 700 Loss 4.4487 Accuracy 0.2601\n",
      "Epoch 6 Batch 750 Loss 4.4481 Accuracy 0.2602\n",
      "Epoch 6 Batch 800 Loss 4.4479 Accuracy 0.2602\n",
      "Epoch 6 Batch 850 Loss 4.4479 Accuracy 0.2602\n",
      "Epoch 6 Batch 900 Loss 4.4458 Accuracy 0.2604\n",
      "Epoch 6 Batch 950 Loss 4.4443 Accuracy 0.2604\n",
      "Epoch 6 Batch 1000 Loss 4.4430 Accuracy 0.2606\n",
      "Epoch 6 Batch 1050 Loss 4.4411 Accuracy 0.2609\n",
      "Epoch 6 Batch 1100 Loss 4.4409 Accuracy 0.2609\n",
      "Epoch 6 Batch 1150 Loss 4.4402 Accuracy 0.2610\n",
      "Epoch 6 Batch 1200 Loss 4.4404 Accuracy 0.2609\n",
      "Epoch 6 Batch 1250 Loss 4.4394 Accuracy 0.2610\n",
      "Epoch 6 Batch 1300 Loss 4.4397 Accuracy 0.2608\n",
      "Epoch 6 Batch 1350 Loss 4.4378 Accuracy 0.2610\n",
      "Epoch 6 Batch 1400 Loss 4.4366 Accuracy 0.2612\n",
      "Epoch 6 Batch 1450 Loss 4.4362 Accuracy 0.2612\n",
      "Epoch 6 Batch 1500 Loss 4.4362 Accuracy 0.2612\n",
      "Epoch 6 Batch 1550 Loss 4.4352 Accuracy 0.2613\n",
      "Epoch 6 Batch 1600 Loss 4.4358 Accuracy 0.2612\n",
      "Epoch 6 Batch 1650 Loss 4.4348 Accuracy 0.2613\n",
      "Epoch 6 Batch 1700 Loss 4.4342 Accuracy 0.2614\n",
      "Epoch 6 Batch 1750 Loss 4.4342 Accuracy 0.2614\n",
      "Epoch 6 Batch 1800 Loss 4.4332 Accuracy 0.2616\n",
      "Epoch 6 Batch 1850 Loss 4.4330 Accuracy 0.2616\n",
      "Epoch 6 Batch 1900 Loss 4.4322 Accuracy 0.2616\n",
      "Epoch 6 Batch 1950 Loss 4.4318 Accuracy 0.2616\n",
      "Epoch 6 Batch 2000 Loss 4.4307 Accuracy 0.2617\n",
      "Epoch 6 Batch 2050 Loss 4.4299 Accuracy 0.2618\n",
      "Epoch 6 Batch 2100 Loss 4.4287 Accuracy 0.2619\n",
      "Epoch 6 Batch 2150 Loss 4.4284 Accuracy 0.2619\n",
      "Epoch 6 Batch 2200 Loss 4.4277 Accuracy 0.2620\n",
      "Epoch 6 Batch 2250 Loss 4.4263 Accuracy 0.2621\n",
      "Epoch 6 Batch 2300 Loss 4.4260 Accuracy 0.2621\n",
      "Epoch 6 Batch 2350 Loss 4.4249 Accuracy 0.2621\n",
      "Epoch 6 Batch 2400 Loss 4.4243 Accuracy 0.2622\n",
      "Epoch 6 Batch 2450 Loss 4.4242 Accuracy 0.2622\n",
      "Epoch 6 Batch 2500 Loss 4.4237 Accuracy 0.2622\n",
      "Epoch 6 Batch 2550 Loss 4.4236 Accuracy 0.2622\n",
      "Epoch 6 Batch 2600 Loss 4.4229 Accuracy 0.2622\n",
      "Epoch 6 Batch 2650 Loss 4.4227 Accuracy 0.2622\n",
      "Epoch 6 Batch 2700 Loss 4.4224 Accuracy 0.2622\n",
      "Epoch 6 Loss 4.4224 Accuracy 0.2622\n",
      "Time taken for 1 epoch: 284.77 secs\n",
      "\n",
      "Epoch 7 Batch 0 Loss 4.6500 Accuracy 0.2413\n",
      "Epoch 7 Batch 50 Loss 4.3651 Accuracy 0.2662\n",
      "Epoch 7 Batch 100 Loss 4.3774 Accuracy 0.2639\n",
      "Epoch 7 Batch 150 Loss 4.3844 Accuracy 0.2639\n",
      "Epoch 7 Batch 200 Loss 4.3893 Accuracy 0.2637\n",
      "Epoch 7 Batch 250 Loss 4.3889 Accuracy 0.2639\n",
      "Epoch 7 Batch 300 Loss 4.3901 Accuracy 0.2638\n",
      "Epoch 7 Batch 350 Loss 4.3922 Accuracy 0.2636\n",
      "Epoch 7 Batch 400 Loss 4.3916 Accuracy 0.2637\n",
      "Epoch 7 Batch 450 Loss 4.3931 Accuracy 0.2638\n",
      "Epoch 7 Batch 500 Loss 4.3919 Accuracy 0.2640\n",
      "Epoch 7 Batch 550 Loss 4.3929 Accuracy 0.2641\n",
      "Epoch 7 Batch 600 Loss 4.3915 Accuracy 0.2644\n",
      "Epoch 7 Batch 650 Loss 4.3883 Accuracy 0.2648\n",
      "Epoch 7 Batch 700 Loss 4.3867 Accuracy 0.2651\n"
     ]
    },
    {
     "name": "stdout",
     "output_type": "stream",
     "text": [
      "Epoch 7 Batch 750 Loss 4.3840 Accuracy 0.2655\n",
      "Epoch 7 Batch 800 Loss 4.3835 Accuracy 0.2656\n",
      "Epoch 7 Batch 850 Loss 4.3845 Accuracy 0.2654\n",
      "Epoch 7 Batch 900 Loss 4.3822 Accuracy 0.2656\n",
      "Epoch 7 Batch 950 Loss 4.3813 Accuracy 0.2657\n",
      "Epoch 7 Batch 1000 Loss 4.3800 Accuracy 0.2658\n",
      "Epoch 7 Batch 1050 Loss 4.3794 Accuracy 0.2659\n",
      "Epoch 7 Batch 1100 Loss 4.3792 Accuracy 0.2658\n",
      "Epoch 7 Batch 1150 Loss 4.3794 Accuracy 0.2658\n",
      "Epoch 7 Batch 1200 Loss 4.3787 Accuracy 0.2660\n",
      "Epoch 7 Batch 1250 Loss 4.3782 Accuracy 0.2660\n",
      "Epoch 7 Batch 1300 Loss 4.3781 Accuracy 0.2660\n",
      "Epoch 7 Batch 1350 Loss 4.3782 Accuracy 0.2659\n",
      "Epoch 7 Batch 1400 Loss 4.3774 Accuracy 0.2660\n",
      "Epoch 7 Batch 1450 Loss 4.3773 Accuracy 0.2661\n",
      "Epoch 7 Batch 1500 Loss 4.3768 Accuracy 0.2662\n",
      "Epoch 7 Batch 1550 Loss 4.3758 Accuracy 0.2663\n",
      "Epoch 7 Batch 1600 Loss 4.3750 Accuracy 0.2664\n",
      "Epoch 7 Batch 1650 Loss 4.3749 Accuracy 0.2664\n",
      "Epoch 7 Batch 1700 Loss 4.3742 Accuracy 0.2665\n",
      "Epoch 7 Batch 1750 Loss 4.3736 Accuracy 0.2665\n",
      "Epoch 7 Batch 1800 Loss 4.3736 Accuracy 0.2665\n",
      "Epoch 7 Batch 1850 Loss 4.3728 Accuracy 0.2666\n",
      "Epoch 7 Batch 1900 Loss 4.3726 Accuracy 0.2666\n",
      "Epoch 7 Batch 1950 Loss 4.3718 Accuracy 0.2666\n",
      "Epoch 7 Batch 2000 Loss 4.3707 Accuracy 0.2667\n",
      "Epoch 7 Batch 2050 Loss 4.3695 Accuracy 0.2668\n",
      "Epoch 7 Batch 2100 Loss 4.3692 Accuracy 0.2669\n",
      "Epoch 7 Batch 2150 Loss 4.3695 Accuracy 0.2668\n",
      "Epoch 7 Batch 2200 Loss 4.3688 Accuracy 0.2669\n",
      "Epoch 7 Batch 2250 Loss 4.3686 Accuracy 0.2669\n",
      "Epoch 7 Batch 2300 Loss 4.3687 Accuracy 0.2669\n",
      "Epoch 7 Batch 2350 Loss 4.3693 Accuracy 0.2667\n",
      "Epoch 7 Batch 2400 Loss 4.3693 Accuracy 0.2667\n",
      "Epoch 7 Batch 2450 Loss 4.3696 Accuracy 0.2667\n",
      "Epoch 7 Batch 2500 Loss 4.3693 Accuracy 0.2667\n",
      "Epoch 7 Batch 2550 Loss 4.3687 Accuracy 0.2667\n",
      "Epoch 7 Batch 2600 Loss 4.3684 Accuracy 0.2667\n",
      "Epoch 7 Batch 2650 Loss 4.3680 Accuracy 0.2668\n",
      "Epoch 7 Batch 2700 Loss 4.3677 Accuracy 0.2668\n",
      "Epoch 7 Loss 4.3677 Accuracy 0.2668\n",
      "Time taken for 1 epoch: 287.60 secs\n",
      "\n",
      "Epoch 8 Batch 0 Loss 4.2166 Accuracy 0.2877\n",
      "Epoch 8 Batch 50 Loss 4.3365 Accuracy 0.2671\n",
      "Epoch 8 Batch 100 Loss 4.3327 Accuracy 0.2690\n",
      "Epoch 8 Batch 150 Loss 4.3298 Accuracy 0.2700\n",
      "Epoch 8 Batch 200 Loss 4.3338 Accuracy 0.2692\n",
      "Epoch 8 Batch 250 Loss 4.3416 Accuracy 0.2689\n",
      "Epoch 8 Batch 300 Loss 4.3385 Accuracy 0.2691\n",
      "Epoch 8 Batch 350 Loss 4.3392 Accuracy 0.2690\n",
      "Epoch 8 Batch 400 Loss 4.3393 Accuracy 0.2689\n",
      "Epoch 8 Batch 450 Loss 4.3411 Accuracy 0.2686\n",
      "Epoch 8 Batch 500 Loss 4.3396 Accuracy 0.2688\n",
      "Epoch 8 Batch 550 Loss 4.3383 Accuracy 0.2690\n",
      "Epoch 8 Batch 600 Loss 4.3369 Accuracy 0.2691\n",
      "Epoch 8 Batch 650 Loss 4.3377 Accuracy 0.2690\n",
      "Epoch 8 Batch 700 Loss 4.3361 Accuracy 0.2692\n",
      "Epoch 8 Batch 750 Loss 4.3354 Accuracy 0.2695\n",
      "Epoch 8 Batch 800 Loss 4.3365 Accuracy 0.2694\n",
      "Epoch 8 Batch 850 Loss 4.3360 Accuracy 0.2695\n",
      "Epoch 8 Batch 900 Loss 4.3354 Accuracy 0.2695\n",
      "Epoch 8 Batch 950 Loss 4.3345 Accuracy 0.2695\n",
      "Epoch 8 Batch 1000 Loss 4.3334 Accuracy 0.2696\n",
      "Epoch 8 Batch 1050 Loss 4.3329 Accuracy 0.2697\n",
      "Epoch 8 Batch 1100 Loss 4.3337 Accuracy 0.2696\n",
      "Epoch 8 Batch 1150 Loss 4.3327 Accuracy 0.2697\n",
      "Epoch 8 Batch 1200 Loss 4.3314 Accuracy 0.2698\n",
      "Epoch 8 Batch 1250 Loss 4.3295 Accuracy 0.2701\n",
      "Epoch 8 Batch 1300 Loss 4.3290 Accuracy 0.2701\n",
      "Epoch 8 Batch 1350 Loss 4.3279 Accuracy 0.2702\n",
      "Epoch 8 Batch 1400 Loss 4.3269 Accuracy 0.2704\n",
      "Epoch 8 Batch 1450 Loss 4.3262 Accuracy 0.2704\n",
      "Epoch 8 Batch 1500 Loss 4.3260 Accuracy 0.2705\n",
      "Epoch 8 Batch 1550 Loss 4.3258 Accuracy 0.2705\n",
      "Epoch 8 Batch 1600 Loss 4.3257 Accuracy 0.2706\n",
      "Epoch 8 Batch 1650 Loss 4.3252 Accuracy 0.2707\n",
      "Epoch 8 Batch 1700 Loss 4.3238 Accuracy 0.2708\n",
      "Epoch 8 Batch 1750 Loss 4.3238 Accuracy 0.2708\n",
      "Epoch 8 Batch 1800 Loss 4.3229 Accuracy 0.2709\n",
      "Epoch 8 Batch 1850 Loss 4.3224 Accuracy 0.2709\n",
      "Epoch 8 Batch 1900 Loss 4.3221 Accuracy 0.2710\n",
      "Epoch 8 Batch 1950 Loss 4.3218 Accuracy 0.2709\n",
      "Epoch 8 Batch 2000 Loss 4.3214 Accuracy 0.2710\n",
      "Epoch 8 Batch 2050 Loss 4.3206 Accuracy 0.2711\n",
      "Epoch 8 Batch 2100 Loss 4.3202 Accuracy 0.2711\n",
      "Epoch 8 Batch 2150 Loss 4.3199 Accuracy 0.2712\n",
      "Epoch 8 Batch 2200 Loss 4.3195 Accuracy 0.2712\n",
      "Epoch 8 Batch 2250 Loss 4.3190 Accuracy 0.2713\n",
      "Epoch 8 Batch 2300 Loss 4.3191 Accuracy 0.2713\n",
      "Epoch 8 Batch 2350 Loss 4.3189 Accuracy 0.2712\n",
      "Epoch 8 Batch 2400 Loss 4.3178 Accuracy 0.2713\n",
      "Epoch 8 Batch 2450 Loss 4.3175 Accuracy 0.2714\n",
      "Epoch 8 Batch 2500 Loss 4.3172 Accuracy 0.2714\n",
      "Epoch 8 Batch 2550 Loss 4.3164 Accuracy 0.2715\n",
      "Epoch 8 Batch 2600 Loss 4.3161 Accuracy 0.2716\n",
      "Epoch 8 Batch 2650 Loss 4.3161 Accuracy 0.2716\n",
      "Epoch 8 Loss 4.3157 Accuracy 0.2716\n",
      "Time taken for 1 epoch: 283.66 secs\n",
      "\n",
      "Epoch 9 Batch 0 Loss 4.2553 Accuracy 0.2738\n",
      "Epoch 9 Batch 50 Loss 4.3007 Accuracy 0.2731\n",
      "Epoch 9 Batch 100 Loss 4.2930 Accuracy 0.2736\n",
      "Epoch 9 Batch 150 Loss 4.2954 Accuracy 0.2731\n",
      "Epoch 9 Batch 200 Loss 4.2865 Accuracy 0.2745\n",
      "Epoch 9 Batch 250 Loss 4.2844 Accuracy 0.2746\n",
      "Epoch 9 Batch 300 Loss 4.2905 Accuracy 0.2738\n",
      "Epoch 9 Batch 350 Loss 4.2851 Accuracy 0.2744\n",
      "Epoch 9 Batch 400 Loss 4.2849 Accuracy 0.2743\n",
      "Epoch 9 Batch 450 Loss 4.2866 Accuracy 0.2741\n",
      "Epoch 9 Batch 500 Loss 4.2826 Accuracy 0.2746\n",
      "Epoch 9 Batch 550 Loss 4.2842 Accuracy 0.2744\n",
      "Epoch 9 Batch 600 Loss 4.2808 Accuracy 0.2747\n",
      "Epoch 9 Batch 650 Loss 4.2806 Accuracy 0.2749\n",
      "Epoch 9 Batch 700 Loss 4.2805 Accuracy 0.2749\n",
      "Epoch 9 Batch 750 Loss 4.2787 Accuracy 0.2751\n",
      "Epoch 9 Batch 800 Loss 4.2785 Accuracy 0.2752\n",
      "Epoch 9 Batch 850 Loss 4.2773 Accuracy 0.2753\n",
      "Epoch 9 Batch 900 Loss 4.2754 Accuracy 0.2755\n",
      "Epoch 9 Batch 950 Loss 4.2752 Accuracy 0.2755\n",
      "Epoch 9 Batch 1000 Loss 4.2750 Accuracy 0.2755\n",
      "Epoch 9 Batch 1050 Loss 4.2761 Accuracy 0.2753\n",
      "Epoch 9 Batch 1100 Loss 4.2757 Accuracy 0.2752\n",
      "Epoch 9 Batch 1150 Loss 4.2757 Accuracy 0.2753\n",
      "Epoch 9 Batch 1200 Loss 4.2749 Accuracy 0.2753\n",
      "Epoch 9 Batch 1250 Loss 4.2754 Accuracy 0.2752\n",
      "Epoch 9 Batch 1300 Loss 4.2765 Accuracy 0.2752\n",
      "Epoch 9 Batch 1350 Loss 4.2768 Accuracy 0.2752\n",
      "Epoch 9 Batch 1400 Loss 4.2763 Accuracy 0.2753\n",
      "Epoch 9 Batch 1450 Loss 4.2759 Accuracy 0.2754\n",
      "Epoch 9 Batch 1500 Loss 4.2756 Accuracy 0.2754\n",
      "Epoch 9 Batch 1550 Loss 4.2752 Accuracy 0.2755\n",
      "Epoch 9 Batch 1600 Loss 4.2752 Accuracy 0.2755\n",
      "Epoch 9 Batch 1650 Loss 4.2756 Accuracy 0.2754\n",
      "Epoch 9 Batch 1700 Loss 4.2753 Accuracy 0.2754\n",
      "Epoch 9 Batch 1750 Loss 4.2755 Accuracy 0.2754\n",
      "Epoch 9 Batch 1800 Loss 4.2751 Accuracy 0.2754\n",
      "Epoch 9 Batch 1850 Loss 4.2753 Accuracy 0.2754\n",
      "Epoch 9 Batch 1900 Loss 4.2745 Accuracy 0.2754\n",
      "Epoch 9 Batch 1950 Loss 4.2746 Accuracy 0.2754\n",
      "Epoch 9 Batch 2000 Loss 4.2741 Accuracy 0.2754\n",
      "Epoch 9 Batch 2050 Loss 4.2741 Accuracy 0.2754\n",
      "Epoch 9 Batch 2100 Loss 4.2734 Accuracy 0.2755\n",
      "Epoch 9 Batch 2150 Loss 4.2726 Accuracy 0.2755\n",
      "Epoch 9 Batch 2200 Loss 4.2732 Accuracy 0.2755\n",
      "Epoch 9 Batch 2250 Loss 4.2726 Accuracy 0.2755\n",
      "Epoch 9 Batch 2300 Loss 4.2718 Accuracy 0.2756\n",
      "Epoch 9 Batch 2350 Loss 4.2715 Accuracy 0.2757\n",
      "Epoch 9 Batch 2400 Loss 4.2711 Accuracy 0.2756\n",
      "Epoch 9 Batch 2450 Loss 4.2716 Accuracy 0.2756\n",
      "Epoch 9 Batch 2500 Loss 4.2706 Accuracy 0.2757\n",
      "Epoch 9 Batch 2550 Loss 4.2702 Accuracy 0.2758\n",
      "Epoch 9 Batch 2600 Loss 4.2700 Accuracy 0.2758\n",
      "Epoch 9 Batch 2650 Loss 4.2695 Accuracy 0.2759\n",
      "Epoch 9 Loss 4.2696 Accuracy 0.2759\n",
      "Time taken for 1 epoch: 288.29 secs\n",
      "\n",
      "Epoch 10 Batch 0 Loss 4.3238 Accuracy 0.2662\n",
      "Epoch 10 Batch 50 Loss 4.2571 Accuracy 0.2754\n",
      "Epoch 10 Batch 100 Loss 4.2631 Accuracy 0.2749\n",
      "Epoch 10 Batch 150 Loss 4.2513 Accuracy 0.2767\n",
      "Epoch 10 Batch 200 Loss 4.2536 Accuracy 0.2764\n",
      "Epoch 10 Batch 250 Loss 4.2508 Accuracy 0.2769\n",
      "Epoch 10 Batch 300 Loss 4.2459 Accuracy 0.2776\n",
      "Epoch 10 Batch 350 Loss 4.2451 Accuracy 0.2777\n",
      "Epoch 10 Batch 400 Loss 4.2435 Accuracy 0.2778\n",
      "Epoch 10 Batch 450 Loss 4.2417 Accuracy 0.2778\n",
      "Epoch 10 Batch 500 Loss 4.2397 Accuracy 0.2780\n",
      "Epoch 10 Batch 550 Loss 4.2410 Accuracy 0.2778\n",
      "Epoch 10 Batch 600 Loss 4.2416 Accuracy 0.2779\n",
      "Epoch 10 Batch 650 Loss 4.2422 Accuracy 0.2780\n",
      "Epoch 10 Batch 700 Loss 4.2442 Accuracy 0.2777\n",
      "Epoch 10 Batch 750 Loss 4.2428 Accuracy 0.2778\n",
      "Epoch 10 Batch 800 Loss 4.2421 Accuracy 0.2780\n",
      "Epoch 10 Batch 850 Loss 4.2424 Accuracy 0.2779\n",
      "Epoch 10 Batch 900 Loss 4.2426 Accuracy 0.2780\n",
      "Epoch 10 Batch 950 Loss 4.2423 Accuracy 0.2780\n",
      "Epoch 10 Batch 1000 Loss 4.2410 Accuracy 0.2782\n",
      "Epoch 10 Batch 1050 Loss 4.2406 Accuracy 0.2783\n",
      "Epoch 10 Batch 1100 Loss 4.2405 Accuracy 0.2783\n"
     ]
    },
    {
     "name": "stdout",
     "output_type": "stream",
     "text": [
      "Epoch 10 Batch 1150 Loss 4.2395 Accuracy 0.2785\n",
      "Epoch 10 Batch 1200 Loss 4.2389 Accuracy 0.2786\n",
      "Epoch 10 Batch 1250 Loss 4.2394 Accuracy 0.2786\n",
      "Epoch 10 Batch 1300 Loss 4.2388 Accuracy 0.2787\n",
      "Epoch 10 Batch 1350 Loss 4.2388 Accuracy 0.2788\n",
      "Epoch 10 Batch 1400 Loss 4.2400 Accuracy 0.2786\n",
      "Epoch 10 Batch 1450 Loss 4.2398 Accuracy 0.2785\n",
      "Epoch 10 Batch 1500 Loss 4.2402 Accuracy 0.2786\n",
      "Epoch 10 Batch 1550 Loss 4.2397 Accuracy 0.2786\n",
      "Epoch 10 Batch 1600 Loss 4.2394 Accuracy 0.2787\n",
      "Epoch 10 Batch 1650 Loss 4.2396 Accuracy 0.2787\n",
      "Epoch 10 Batch 1700 Loss 4.2405 Accuracy 0.2786\n",
      "Epoch 10 Batch 1750 Loss 4.2402 Accuracy 0.2786\n",
      "Epoch 10 Batch 1800 Loss 4.2402 Accuracy 0.2785\n",
      "Epoch 10 Batch 1850 Loss 4.2394 Accuracy 0.2786\n",
      "Epoch 10 Batch 1900 Loss 4.2392 Accuracy 0.2786\n",
      "Epoch 10 Batch 1950 Loss 4.2380 Accuracy 0.2787\n",
      "Epoch 10 Batch 2000 Loss 4.2375 Accuracy 0.2787\n",
      "Epoch 10 Batch 2050 Loss 4.2377 Accuracy 0.2788\n",
      "Epoch 10 Batch 2100 Loss 4.2377 Accuracy 0.2788\n",
      "Epoch 10 Batch 2150 Loss 4.2377 Accuracy 0.2788\n",
      "Epoch 10 Batch 2200 Loss 4.2372 Accuracy 0.2788\n",
      "Epoch 10 Batch 2250 Loss 4.2366 Accuracy 0.2789\n",
      "Epoch 10 Batch 2300 Loss 4.2366 Accuracy 0.2789\n",
      "Epoch 10 Batch 2350 Loss 4.2369 Accuracy 0.2788\n",
      "Epoch 10 Batch 2400 Loss 4.2371 Accuracy 0.2788\n",
      "Epoch 10 Batch 2450 Loss 4.2371 Accuracy 0.2787\n",
      "Epoch 10 Batch 2500 Loss 4.2372 Accuracy 0.2787\n",
      "Epoch 10 Batch 2550 Loss 4.2362 Accuracy 0.2788\n",
      "Epoch 10 Batch 2600 Loss 4.2359 Accuracy 0.2788\n",
      "Epoch 10 Batch 2650 Loss 4.2355 Accuracy 0.2788\n",
      "Saving checkpoint for epoch 10 at ./checkpoints/train/ckpt-2\n",
      "Epoch 10 Loss 4.2353 Accuracy 0.2788\n",
      "Time taken for 1 epoch: 298.48 secs\n",
      "\n",
      "Epoch 11 Batch 0 Loss 4.1736 Accuracy 0.2769\n",
      "Epoch 11 Batch 50 Loss 4.2323 Accuracy 0.2770\n",
      "Epoch 11 Batch 100 Loss 4.2239 Accuracy 0.2784\n",
      "Epoch 11 Batch 150 Loss 4.2257 Accuracy 0.2784\n",
      "Epoch 11 Batch 200 Loss 4.2165 Accuracy 0.2797\n",
      "Epoch 11 Batch 250 Loss 4.2130 Accuracy 0.2802\n",
      "Epoch 11 Batch 300 Loss 4.2168 Accuracy 0.2800\n",
      "Epoch 11 Batch 350 Loss 4.2199 Accuracy 0.2796\n",
      "Epoch 11 Batch 400 Loss 4.2188 Accuracy 0.2799\n",
      "Epoch 11 Batch 450 Loss 4.2142 Accuracy 0.2805\n",
      "Epoch 11 Batch 500 Loss 4.2154 Accuracy 0.2806\n",
      "Epoch 11 Batch 550 Loss 4.2151 Accuracy 0.2807\n",
      "Epoch 11 Batch 600 Loss 4.2169 Accuracy 0.2805\n",
      "Epoch 11 Batch 650 Loss 4.2164 Accuracy 0.2805\n",
      "Epoch 11 Batch 700 Loss 4.2171 Accuracy 0.2805\n",
      "Epoch 11 Batch 750 Loss 4.2176 Accuracy 0.2804\n",
      "Epoch 11 Batch 800 Loss 4.2172 Accuracy 0.2805\n",
      "Epoch 11 Batch 850 Loss 4.2187 Accuracy 0.2803\n",
      "Epoch 11 Batch 900 Loss 4.2186 Accuracy 0.2803\n",
      "Epoch 11 Batch 950 Loss 4.2208 Accuracy 0.2801\n",
      "Epoch 11 Batch 1000 Loss 4.2208 Accuracy 0.2801\n",
      "Epoch 11 Batch 1050 Loss 4.2201 Accuracy 0.2801\n",
      "Epoch 11 Batch 1100 Loss 4.2202 Accuracy 0.2802\n",
      "Epoch 11 Batch 1150 Loss 4.2199 Accuracy 0.2802\n",
      "Epoch 11 Batch 1200 Loss 4.2190 Accuracy 0.2803\n",
      "Epoch 11 Batch 1250 Loss 4.2186 Accuracy 0.2804\n",
      "Epoch 11 Batch 1300 Loss 4.2191 Accuracy 0.2804\n",
      "Epoch 11 Batch 1350 Loss 4.2195 Accuracy 0.2804\n",
      "Epoch 11 Batch 1400 Loss 4.2188 Accuracy 0.2805\n",
      "Epoch 11 Batch 1450 Loss 4.2175 Accuracy 0.2806\n",
      "Epoch 11 Batch 1500 Loss 4.2177 Accuracy 0.2806\n",
      "Epoch 11 Batch 1550 Loss 4.2169 Accuracy 0.2807\n",
      "Epoch 11 Batch 1600 Loss 4.2164 Accuracy 0.2808\n",
      "Epoch 11 Batch 1650 Loss 4.2155 Accuracy 0.2809\n",
      "Epoch 11 Batch 1700 Loss 4.2147 Accuracy 0.2810\n",
      "Epoch 11 Batch 1750 Loss 4.2143 Accuracy 0.2810\n",
      "Epoch 11 Batch 1800 Loss 4.2142 Accuracy 0.2810\n",
      "Epoch 11 Batch 1850 Loss 4.2142 Accuracy 0.2809\n",
      "Epoch 11 Batch 1900 Loss 4.2134 Accuracy 0.2810\n",
      "Epoch 11 Batch 1950 Loss 4.2131 Accuracy 0.2811\n",
      "Epoch 11 Batch 2000 Loss 4.2122 Accuracy 0.2812\n",
      "Epoch 11 Batch 2050 Loss 4.2117 Accuracy 0.2813\n",
      "Epoch 11 Batch 2100 Loss 4.2112 Accuracy 0.2813\n",
      "Epoch 11 Batch 2150 Loss 4.2109 Accuracy 0.2813\n",
      "Epoch 11 Batch 2200 Loss 4.2112 Accuracy 0.2813\n",
      "Epoch 11 Batch 2250 Loss 4.2107 Accuracy 0.2813\n",
      "Epoch 11 Batch 2300 Loss 4.2108 Accuracy 0.2813\n",
      "Epoch 11 Batch 2350 Loss 4.2103 Accuracy 0.2813\n",
      "Epoch 11 Batch 2400 Loss 4.2101 Accuracy 0.2814\n",
      "Epoch 11 Batch 2450 Loss 4.2101 Accuracy 0.2813\n",
      "Epoch 11 Batch 2500 Loss 4.2095 Accuracy 0.2814\n",
      "Epoch 11 Batch 2550 Loss 4.2091 Accuracy 0.2815\n",
      "Epoch 11 Batch 2600 Loss 4.2095 Accuracy 0.2814\n",
      "Epoch 11 Batch 2650 Loss 4.2097 Accuracy 0.2813\n",
      "Epoch 11 Loss 4.2095 Accuracy 0.2814\n",
      "Time taken for 1 epoch: 290.82 secs\n",
      "\n",
      "Epoch 12 Batch 0 Loss 4.1865 Accuracy 0.2742\n",
      "Epoch 12 Batch 50 Loss 4.1934 Accuracy 0.2830\n",
      "Epoch 12 Batch 100 Loss 4.1905 Accuracy 0.2835\n",
      "Epoch 12 Batch 150 Loss 4.1825 Accuracy 0.2849\n",
      "Epoch 12 Batch 200 Loss 4.1790 Accuracy 0.2850\n",
      "Epoch 12 Batch 250 Loss 4.1836 Accuracy 0.2841\n",
      "Epoch 12 Batch 300 Loss 4.1859 Accuracy 0.2838\n",
      "Epoch 12 Batch 350 Loss 4.1854 Accuracy 0.2839\n",
      "Epoch 12 Batch 400 Loss 4.1878 Accuracy 0.2836\n",
      "Epoch 12 Batch 450 Loss 4.1910 Accuracy 0.2833\n",
      "Epoch 12 Batch 500 Loss 4.1889 Accuracy 0.2833\n",
      "Epoch 12 Batch 550 Loss 4.1910 Accuracy 0.2831\n",
      "Epoch 12 Batch 600 Loss 4.1895 Accuracy 0.2833\n",
      "Epoch 12 Batch 650 Loss 4.1863 Accuracy 0.2836\n",
      "Epoch 12 Batch 700 Loss 4.1860 Accuracy 0.2835\n",
      "Epoch 12 Batch 750 Loss 4.1857 Accuracy 0.2836\n",
      "Epoch 12 Batch 800 Loss 4.1856 Accuracy 0.2836\n",
      "Epoch 12 Batch 850 Loss 4.1868 Accuracy 0.2835\n",
      "Epoch 12 Batch 900 Loss 4.1884 Accuracy 0.2834\n",
      "Epoch 12 Batch 950 Loss 4.1875 Accuracy 0.2835\n",
      "Epoch 12 Batch 1000 Loss 4.1864 Accuracy 0.2836\n",
      "Epoch 12 Batch 1050 Loss 4.1856 Accuracy 0.2838\n",
      "Epoch 12 Batch 1100 Loss 4.1858 Accuracy 0.2838\n",
      "Epoch 12 Batch 1150 Loss 4.1854 Accuracy 0.2838\n",
      "Epoch 12 Batch 1200 Loss 4.1852 Accuracy 0.2839\n",
      "Epoch 12 Batch 1250 Loss 4.1856 Accuracy 0.2839\n",
      "Epoch 12 Batch 1300 Loss 4.1852 Accuracy 0.2840\n",
      "Epoch 12 Batch 1350 Loss 4.1851 Accuracy 0.2840\n",
      "Epoch 12 Batch 1400 Loss 4.1851 Accuracy 0.2839\n",
      "Epoch 12 Batch 1450 Loss 4.1841 Accuracy 0.2841\n",
      "Epoch 12 Batch 1500 Loss 4.1838 Accuracy 0.2841\n",
      "Epoch 12 Batch 1550 Loss 4.1837 Accuracy 0.2841\n",
      "Epoch 12 Batch 1600 Loss 4.1826 Accuracy 0.2842\n",
      "Epoch 12 Batch 1650 Loss 4.1827 Accuracy 0.2843\n",
      "Epoch 12 Batch 1700 Loss 4.1820 Accuracy 0.2843\n",
      "Epoch 12 Batch 1750 Loss 4.1828 Accuracy 0.2842\n",
      "Epoch 12 Batch 1800 Loss 4.1820 Accuracy 0.2843\n",
      "Epoch 12 Batch 1850 Loss 4.1821 Accuracy 0.2843\n",
      "Epoch 12 Batch 1900 Loss 4.1826 Accuracy 0.2843\n",
      "Epoch 12 Batch 1950 Loss 4.1826 Accuracy 0.2843\n",
      "Epoch 12 Batch 2000 Loss 4.1824 Accuracy 0.2843\n",
      "Epoch 12 Batch 2050 Loss 4.1818 Accuracy 0.2843\n",
      "Epoch 12 Batch 2100 Loss 4.1815 Accuracy 0.2843\n",
      "Epoch 12 Batch 2150 Loss 4.1817 Accuracy 0.2842\n",
      "Epoch 12 Batch 2200 Loss 4.1811 Accuracy 0.2842\n",
      "Epoch 12 Batch 2250 Loss 4.1805 Accuracy 0.2842\n",
      "Epoch 12 Batch 2300 Loss 4.1802 Accuracy 0.2842\n",
      "Epoch 12 Batch 2350 Loss 4.1796 Accuracy 0.2843\n",
      "Epoch 12 Batch 2400 Loss 4.1795 Accuracy 0.2843\n",
      "Epoch 12 Batch 2450 Loss 4.1798 Accuracy 0.2842\n",
      "Epoch 12 Batch 2500 Loss 4.1802 Accuracy 0.2842\n",
      "Epoch 12 Batch 2550 Loss 4.1804 Accuracy 0.2842\n",
      "Epoch 12 Batch 2600 Loss 4.1804 Accuracy 0.2842\n",
      "Epoch 12 Batch 2650 Loss 4.1808 Accuracy 0.2841\n",
      "Epoch 12 Batch 2700 Loss 4.1805 Accuracy 0.2842\n",
      "Epoch 12 Loss 4.1804 Accuracy 0.2842\n",
      "Time taken for 1 epoch: 285.65 secs\n",
      "\n",
      "Epoch 13 Batch 0 Loss 4.1769 Accuracy 0.2747\n",
      "Epoch 13 Batch 50 Loss 4.1673 Accuracy 0.2858\n",
      "Epoch 13 Batch 100 Loss 4.1653 Accuracy 0.2859\n",
      "Epoch 13 Batch 150 Loss 4.1679 Accuracy 0.2839\n",
      "Epoch 13 Batch 200 Loss 4.1717 Accuracy 0.2839\n",
      "Epoch 13 Batch 250 Loss 4.1708 Accuracy 0.2841\n",
      "Epoch 13 Batch 300 Loss 4.1704 Accuracy 0.2844\n",
      "Epoch 13 Batch 350 Loss 4.1700 Accuracy 0.2844\n",
      "Epoch 13 Batch 400 Loss 4.1694 Accuracy 0.2844\n",
      "Epoch 13 Batch 450 Loss 4.1709 Accuracy 0.2844\n",
      "Epoch 13 Batch 500 Loss 4.1709 Accuracy 0.2843\n",
      "Epoch 13 Batch 550 Loss 4.1712 Accuracy 0.2843\n",
      "Epoch 13 Batch 600 Loss 4.1708 Accuracy 0.2844\n",
      "Epoch 13 Batch 650 Loss 4.1717 Accuracy 0.2844\n",
      "Epoch 13 Batch 700 Loss 4.1715 Accuracy 0.2844\n",
      "Epoch 13 Batch 750 Loss 4.1702 Accuracy 0.2847\n",
      "Epoch 13 Batch 800 Loss 4.1690 Accuracy 0.2847\n",
      "Epoch 13 Batch 850 Loss 4.1685 Accuracy 0.2849\n",
      "Epoch 13 Batch 900 Loss 4.1680 Accuracy 0.2851\n",
      "Epoch 13 Batch 950 Loss 4.1672 Accuracy 0.2853\n",
      "Epoch 13 Batch 1000 Loss 4.1666 Accuracy 0.2854\n",
      "Epoch 13 Batch 1050 Loss 4.1654 Accuracy 0.2855\n",
      "Epoch 13 Batch 1100 Loss 4.1656 Accuracy 0.2855\n",
      "Epoch 13 Batch 1150 Loss 4.1667 Accuracy 0.2854\n",
      "Epoch 13 Batch 1200 Loss 4.1653 Accuracy 0.2855\n",
      "Epoch 13 Batch 1250 Loss 4.1651 Accuracy 0.2855\n",
      "Epoch 13 Batch 1300 Loss 4.1643 Accuracy 0.2856\n"
     ]
    },
    {
     "name": "stdout",
     "output_type": "stream",
     "text": [
      "Epoch 13 Batch 1350 Loss 4.1647 Accuracy 0.2855\n",
      "Epoch 13 Batch 1400 Loss 4.1652 Accuracy 0.2855\n",
      "Epoch 13 Batch 1450 Loss 4.1646 Accuracy 0.2856\n",
      "Epoch 13 Batch 1500 Loss 4.1646 Accuracy 0.2855\n",
      "Epoch 13 Batch 1550 Loss 4.1641 Accuracy 0.2856\n",
      "Epoch 13 Batch 1600 Loss 4.1647 Accuracy 0.2856\n",
      "Epoch 13 Batch 1650 Loss 4.1644 Accuracy 0.2857\n",
      "Epoch 13 Batch 1700 Loss 4.1643 Accuracy 0.2857\n",
      "Epoch 13 Batch 1750 Loss 4.1638 Accuracy 0.2858\n",
      "Epoch 13 Batch 1800 Loss 4.1643 Accuracy 0.2857\n",
      "Epoch 13 Batch 1850 Loss 4.1648 Accuracy 0.2857\n",
      "Epoch 13 Batch 1900 Loss 4.1644 Accuracy 0.2857\n",
      "Epoch 13 Batch 1950 Loss 4.1638 Accuracy 0.2858\n",
      "Epoch 13 Batch 2000 Loss 4.1642 Accuracy 0.2858\n",
      "Epoch 13 Batch 2050 Loss 4.1638 Accuracy 0.2858\n",
      "Epoch 13 Batch 2100 Loss 4.1635 Accuracy 0.2858\n",
      "Epoch 13 Batch 2150 Loss 4.1632 Accuracy 0.2858\n",
      "Epoch 13 Batch 2200 Loss 4.1632 Accuracy 0.2858\n",
      "Epoch 13 Batch 2250 Loss 4.1626 Accuracy 0.2858\n",
      "Epoch 13 Batch 2300 Loss 4.1623 Accuracy 0.2858\n",
      "Epoch 13 Batch 2350 Loss 4.1621 Accuracy 0.2858\n",
      "Epoch 13 Batch 2400 Loss 4.1624 Accuracy 0.2858\n",
      "Epoch 13 Batch 2450 Loss 4.1625 Accuracy 0.2858\n",
      "Epoch 13 Batch 2500 Loss 4.1623 Accuracy 0.2858\n",
      "Epoch 13 Batch 2550 Loss 4.1625 Accuracy 0.2858\n",
      "Epoch 13 Batch 2600 Loss 4.1629 Accuracy 0.2858\n",
      "Epoch 13 Batch 2650 Loss 4.1630 Accuracy 0.2857\n",
      "Epoch 13 Loss 4.1631 Accuracy 0.2857\n",
      "Time taken for 1 epoch: 286.21 secs\n",
      "\n",
      "Epoch 14 Batch 0 Loss 4.3654 Accuracy 0.2716\n",
      "Epoch 14 Batch 50 Loss 4.1784 Accuracy 0.2819\n",
      "Epoch 14 Batch 100 Loss 4.1713 Accuracy 0.2832\n",
      "Epoch 14 Batch 150 Loss 4.1670 Accuracy 0.2844\n",
      "Epoch 14 Batch 200 Loss 4.1686 Accuracy 0.2842\n",
      "Epoch 14 Batch 250 Loss 4.1688 Accuracy 0.2843\n",
      "Epoch 14 Batch 300 Loss 4.1658 Accuracy 0.2845\n",
      "Epoch 14 Batch 350 Loss 4.1644 Accuracy 0.2850\n",
      "Epoch 14 Batch 400 Loss 4.1616 Accuracy 0.2848\n",
      "Epoch 14 Batch 450 Loss 4.1608 Accuracy 0.2848\n",
      "Epoch 14 Batch 500 Loss 4.1645 Accuracy 0.2843\n",
      "Epoch 14 Batch 550 Loss 4.1624 Accuracy 0.2847\n",
      "Epoch 14 Batch 600 Loss 4.1603 Accuracy 0.2847\n",
      "Epoch 14 Batch 650 Loss 4.1594 Accuracy 0.2849\n",
      "Epoch 14 Batch 700 Loss 4.1585 Accuracy 0.2852\n",
      "Epoch 14 Batch 750 Loss 4.1581 Accuracy 0.2853\n",
      "Epoch 14 Batch 800 Loss 4.1578 Accuracy 0.2853\n",
      "Epoch 14 Batch 850 Loss 4.1569 Accuracy 0.2854\n",
      "Epoch 14 Batch 900 Loss 4.1559 Accuracy 0.2856\n",
      "Epoch 14 Batch 950 Loss 4.1553 Accuracy 0.2857\n",
      "Epoch 14 Batch 1000 Loss 4.1542 Accuracy 0.2859\n",
      "Epoch 14 Batch 1050 Loss 4.1535 Accuracy 0.2859\n",
      "Epoch 14 Batch 1100 Loss 4.1528 Accuracy 0.2859\n",
      "Epoch 14 Batch 1150 Loss 4.1530 Accuracy 0.2860\n",
      "Epoch 14 Batch 1200 Loss 4.1526 Accuracy 0.2861\n",
      "Epoch 14 Batch 1250 Loss 4.1523 Accuracy 0.2861\n",
      "Epoch 14 Batch 1300 Loss 4.1528 Accuracy 0.2860\n",
      "Epoch 14 Batch 1350 Loss 4.1524 Accuracy 0.2861\n",
      "Epoch 14 Batch 1400 Loss 4.1515 Accuracy 0.2862\n",
      "Epoch 14 Batch 1450 Loss 4.1507 Accuracy 0.2863\n",
      "Epoch 14 Batch 1500 Loss 4.1503 Accuracy 0.2865\n",
      "Epoch 14 Batch 1550 Loss 4.1508 Accuracy 0.2865\n",
      "Epoch 14 Batch 1600 Loss 4.1503 Accuracy 0.2866\n",
      "Epoch 14 Batch 1650 Loss 4.1493 Accuracy 0.2867\n",
      "Epoch 14 Batch 1700 Loss 4.1494 Accuracy 0.2867\n",
      "Epoch 14 Batch 1750 Loss 4.1490 Accuracy 0.2868\n",
      "Epoch 14 Batch 1800 Loss 4.1487 Accuracy 0.2867\n",
      "Epoch 14 Batch 1850 Loss 4.1486 Accuracy 0.2867\n",
      "Epoch 14 Batch 1900 Loss 4.1491 Accuracy 0.2866\n",
      "Epoch 14 Batch 1950 Loss 4.1494 Accuracy 0.2866\n",
      "Epoch 14 Batch 2000 Loss 4.1495 Accuracy 0.2866\n",
      "Epoch 14 Batch 2050 Loss 4.1492 Accuracy 0.2866\n",
      "Epoch 14 Batch 2100 Loss 4.1492 Accuracy 0.2867\n",
      "Epoch 14 Batch 2150 Loss 4.1494 Accuracy 0.2866\n",
      "Epoch 14 Batch 2200 Loss 4.1491 Accuracy 0.2866\n",
      "Epoch 14 Batch 2250 Loss 4.1493 Accuracy 0.2866\n",
      "Epoch 14 Batch 2300 Loss 4.1490 Accuracy 0.2866\n",
      "Epoch 14 Batch 2350 Loss 4.1490 Accuracy 0.2866\n",
      "Epoch 14 Batch 2400 Loss 4.1492 Accuracy 0.2865\n",
      "Epoch 14 Batch 2450 Loss 4.1494 Accuracy 0.2865\n",
      "Epoch 14 Batch 2500 Loss 4.1488 Accuracy 0.2866\n",
      "Epoch 14 Batch 2550 Loss 4.1482 Accuracy 0.2866\n",
      "Epoch 14 Batch 2600 Loss 4.1478 Accuracy 0.2867\n",
      "Epoch 14 Batch 2650 Loss 4.1474 Accuracy 0.2867\n",
      "Epoch 14 Loss 4.1476 Accuracy 0.2867\n",
      "Time taken for 1 epoch: 283.92 secs\n",
      "\n",
      "Epoch 15 Batch 0 Loss 4.1466 Accuracy 0.2784\n",
      "Epoch 15 Batch 50 Loss 4.1563 Accuracy 0.2854\n",
      "Epoch 15 Batch 100 Loss 4.1359 Accuracy 0.2875\n",
      "Epoch 15 Batch 150 Loss 4.1353 Accuracy 0.2876\n",
      "Epoch 15 Batch 200 Loss 4.1289 Accuracy 0.2884\n",
      "Epoch 15 Batch 250 Loss 4.1232 Accuracy 0.2895\n",
      "Epoch 15 Batch 300 Loss 4.1239 Accuracy 0.2896\n",
      "Epoch 15 Batch 350 Loss 4.1266 Accuracy 0.2895\n",
      "Epoch 15 Batch 400 Loss 4.1283 Accuracy 0.2891\n",
      "Epoch 15 Batch 450 Loss 4.1301 Accuracy 0.2889\n",
      "Epoch 15 Batch 500 Loss 4.1307 Accuracy 0.2887\n",
      "Epoch 15 Batch 550 Loss 4.1297 Accuracy 0.2889\n",
      "Epoch 15 Batch 600 Loss 4.1285 Accuracy 0.2889\n",
      "Epoch 15 Batch 650 Loss 4.1288 Accuracy 0.2890\n",
      "Epoch 15 Batch 700 Loss 4.1275 Accuracy 0.2890\n",
      "Epoch 15 Batch 750 Loss 4.1273 Accuracy 0.2891\n",
      "Epoch 15 Batch 800 Loss 4.1261 Accuracy 0.2892\n",
      "Epoch 15 Batch 850 Loss 4.1264 Accuracy 0.2892\n",
      "Epoch 15 Batch 900 Loss 4.1257 Accuracy 0.2892\n",
      "Epoch 15 Batch 950 Loss 4.1257 Accuracy 0.2893\n",
      "Epoch 15 Batch 1000 Loss 4.1242 Accuracy 0.2894\n",
      "Epoch 15 Batch 1050 Loss 4.1242 Accuracy 0.2895\n",
      "Epoch 15 Batch 1100 Loss 4.1233 Accuracy 0.2896\n",
      "Epoch 15 Batch 1150 Loss 4.1240 Accuracy 0.2895\n",
      "Epoch 15 Batch 1200 Loss 4.1244 Accuracy 0.2895\n",
      "Epoch 15 Batch 1250 Loss 4.1251 Accuracy 0.2894\n",
      "Epoch 15 Batch 1300 Loss 4.1242 Accuracy 0.2896\n",
      "Epoch 15 Batch 1350 Loss 4.1240 Accuracy 0.2896\n",
      "Epoch 15 Batch 1400 Loss 4.1238 Accuracy 0.2896\n",
      "Epoch 15 Batch 1450 Loss 4.1237 Accuracy 0.2897\n",
      "Epoch 15 Batch 1500 Loss 4.1240 Accuracy 0.2896\n",
      "Epoch 15 Batch 1550 Loss 4.1240 Accuracy 0.2896\n",
      "Epoch 15 Batch 1600 Loss 4.1244 Accuracy 0.2895\n",
      "Epoch 15 Batch 1650 Loss 4.1247 Accuracy 0.2895\n",
      "Epoch 15 Batch 1700 Loss 4.1235 Accuracy 0.2897\n",
      "Epoch 15 Batch 1750 Loss 4.1238 Accuracy 0.2897\n",
      "Epoch 15 Batch 1800 Loss 4.1246 Accuracy 0.2896\n",
      "Epoch 15 Batch 1850 Loss 4.1244 Accuracy 0.2896\n",
      "Epoch 15 Batch 1900 Loss 4.1240 Accuracy 0.2896\n",
      "Epoch 15 Batch 1950 Loss 4.1238 Accuracy 0.2895\n",
      "Epoch 15 Batch 2000 Loss 4.1235 Accuracy 0.2896\n",
      "Epoch 15 Batch 2050 Loss 4.1228 Accuracy 0.2896\n",
      "Epoch 15 Batch 2100 Loss 4.1228 Accuracy 0.2896\n",
      "Epoch 15 Batch 2150 Loss 4.1231 Accuracy 0.2896\n",
      "Epoch 15 Batch 2200 Loss 4.1224 Accuracy 0.2896\n",
      "Epoch 15 Batch 2250 Loss 4.1222 Accuracy 0.2896\n",
      "Epoch 15 Batch 2300 Loss 4.1220 Accuracy 0.2897\n",
      "Epoch 15 Batch 2350 Loss 4.1220 Accuracy 0.2897\n",
      "Epoch 15 Batch 2400 Loss 4.1219 Accuracy 0.2896\n",
      "Epoch 15 Batch 2450 Loss 4.1223 Accuracy 0.2896\n",
      "Epoch 15 Batch 2500 Loss 4.1221 Accuracy 0.2896\n",
      "Epoch 15 Batch 2550 Loss 4.1221 Accuracy 0.2896\n",
      "Epoch 15 Batch 2600 Loss 4.1218 Accuracy 0.2897\n",
      "Epoch 15 Batch 2650 Loss 4.1216 Accuracy 0.2897\n",
      "Epoch 15 Batch 2700 Loss 4.1215 Accuracy 0.2897\n",
      "Saving checkpoint for epoch 15 at ./checkpoints/train/ckpt-3\n",
      "Epoch 15 Loss 4.1215 Accuracy 0.2897\n",
      "Time taken for 1 epoch: 284.98 secs\n",
      "\n",
      "Epoch 16 Batch 0 Loss 4.2012 Accuracy 0.2783\n",
      "Epoch 16 Batch 50 Loss 4.1047 Accuracy 0.2922\n",
      "Epoch 16 Batch 100 Loss 4.1178 Accuracy 0.2903\n",
      "Epoch 16 Batch 150 Loss 4.1182 Accuracy 0.2897\n",
      "Epoch 16 Batch 200 Loss 4.1130 Accuracy 0.2902\n",
      "Epoch 16 Batch 250 Loss 4.1131 Accuracy 0.2903\n",
      "Epoch 16 Batch 300 Loss 4.1102 Accuracy 0.2908\n",
      "Epoch 16 Batch 350 Loss 4.1099 Accuracy 0.2912\n",
      "Epoch 16 Batch 400 Loss 4.1127 Accuracy 0.2907\n",
      "Epoch 16 Batch 450 Loss 4.1137 Accuracy 0.2904\n",
      "Epoch 16 Batch 500 Loss 4.1137 Accuracy 0.2906\n",
      "Epoch 16 Batch 550 Loss 4.1132 Accuracy 0.2907\n",
      "Epoch 16 Batch 600 Loss 4.1129 Accuracy 0.2907\n",
      "Epoch 16 Batch 650 Loss 4.1128 Accuracy 0.2906\n",
      "Epoch 16 Batch 700 Loss 4.1114 Accuracy 0.2908\n",
      "Epoch 16 Batch 750 Loss 4.1113 Accuracy 0.2908\n",
      "Epoch 16 Batch 800 Loss 4.1118 Accuracy 0.2907\n",
      "Epoch 16 Batch 850 Loss 4.1130 Accuracy 0.2905\n",
      "Epoch 16 Batch 900 Loss 4.1122 Accuracy 0.2908\n",
      "Epoch 16 Batch 950 Loss 4.1123 Accuracy 0.2908\n",
      "Epoch 16 Batch 1000 Loss 4.1107 Accuracy 0.2910\n",
      "Epoch 16 Batch 1050 Loss 4.1099 Accuracy 0.2910\n",
      "Epoch 16 Batch 1100 Loss 4.1097 Accuracy 0.2911\n",
      "Epoch 16 Batch 1150 Loss 4.1097 Accuracy 0.2911\n",
      "Epoch 16 Batch 1200 Loss 4.1115 Accuracy 0.2909\n",
      "Epoch 16 Batch 1250 Loss 4.1119 Accuracy 0.2909\n",
      "Epoch 16 Batch 1300 Loss 4.1116 Accuracy 0.2909\n",
      "Epoch 16 Batch 1350 Loss 4.1117 Accuracy 0.2910\n",
      "Epoch 16 Batch 1400 Loss 4.1124 Accuracy 0.2909\n",
      "Epoch 16 Batch 1450 Loss 4.1118 Accuracy 0.2909\n",
      "Epoch 16 Batch 1500 Loss 4.1123 Accuracy 0.2908\n"
     ]
    },
    {
     "name": "stdout",
     "output_type": "stream",
     "text": [
      "Epoch 16 Batch 1550 Loss 4.1125 Accuracy 0.2909\n",
      "Epoch 16 Batch 1600 Loss 4.1114 Accuracy 0.2911\n",
      "Epoch 16 Batch 1650 Loss 4.1122 Accuracy 0.2911\n",
      "Epoch 16 Batch 1700 Loss 4.1110 Accuracy 0.2911\n",
      "Epoch 16 Batch 1750 Loss 4.1104 Accuracy 0.2911\n",
      "Epoch 16 Batch 1800 Loss 4.1101 Accuracy 0.2911\n",
      "Epoch 16 Batch 1850 Loss 4.1094 Accuracy 0.2912\n",
      "Epoch 16 Batch 1900 Loss 4.1087 Accuracy 0.2913\n",
      "Epoch 16 Batch 1950 Loss 4.1083 Accuracy 0.2914\n",
      "Epoch 16 Batch 2000 Loss 4.1073 Accuracy 0.2915\n",
      "Epoch 16 Batch 2050 Loss 4.1067 Accuracy 0.2916\n",
      "Epoch 16 Batch 2100 Loss 4.1068 Accuracy 0.2916\n",
      "Epoch 16 Batch 2150 Loss 4.1068 Accuracy 0.2916\n",
      "Epoch 16 Batch 2200 Loss 4.1063 Accuracy 0.2916\n",
      "Epoch 16 Batch 2250 Loss 4.1068 Accuracy 0.2915\n",
      "Epoch 16 Batch 2300 Loss 4.1070 Accuracy 0.2915\n",
      "Epoch 16 Batch 2350 Loss 4.1071 Accuracy 0.2915\n",
      "Epoch 16 Batch 2400 Loss 4.1068 Accuracy 0.2915\n",
      "Epoch 16 Batch 2450 Loss 4.1066 Accuracy 0.2916\n",
      "Epoch 16 Batch 2500 Loss 4.1070 Accuracy 0.2915\n",
      "Epoch 16 Batch 2550 Loss 4.1073 Accuracy 0.2914\n",
      "Epoch 16 Batch 2600 Loss 4.1075 Accuracy 0.2914\n",
      "Epoch 16 Batch 2650 Loss 4.1071 Accuracy 0.2914\n",
      "Epoch 16 Batch 2700 Loss 4.1067 Accuracy 0.2915\n",
      "Epoch 16 Loss 4.1067 Accuracy 0.2915\n",
      "Time taken for 1 epoch: 284.47 secs\n",
      "\n",
      "Epoch 17 Batch 0 Loss 4.2115 Accuracy 0.2804\n",
      "Epoch 17 Batch 50 Loss 4.0885 Accuracy 0.2943\n",
      "Epoch 17 Batch 100 Loss 4.0956 Accuracy 0.2918\n",
      "Epoch 17 Batch 150 Loss 4.0920 Accuracy 0.2925\n",
      "Epoch 17 Batch 200 Loss 4.0929 Accuracy 0.2926\n",
      "Epoch 17 Batch 250 Loss 4.0918 Accuracy 0.2927\n",
      "Epoch 17 Batch 300 Loss 4.0934 Accuracy 0.2930\n",
      "Epoch 17 Batch 350 Loss 4.0954 Accuracy 0.2927\n",
      "Epoch 17 Batch 400 Loss 4.0961 Accuracy 0.2925\n",
      "Epoch 17 Batch 450 Loss 4.0970 Accuracy 0.2923\n",
      "Epoch 17 Batch 500 Loss 4.0951 Accuracy 0.2928\n",
      "Epoch 17 Batch 550 Loss 4.0949 Accuracy 0.2927\n",
      "Epoch 17 Batch 600 Loss 4.0926 Accuracy 0.2930\n",
      "Epoch 17 Batch 650 Loss 4.0924 Accuracy 0.2931\n",
      "Epoch 17 Batch 700 Loss 4.0914 Accuracy 0.2934\n",
      "Epoch 17 Batch 750 Loss 4.0936 Accuracy 0.2931\n",
      "Epoch 17 Batch 800 Loss 4.0925 Accuracy 0.2932\n",
      "Epoch 17 Batch 850 Loss 4.0922 Accuracy 0.2934\n",
      "Epoch 17 Batch 900 Loss 4.0939 Accuracy 0.2932\n",
      "Epoch 17 Batch 950 Loss 4.0945 Accuracy 0.2930\n",
      "Epoch 17 Batch 1000 Loss 4.0924 Accuracy 0.2933\n",
      "Epoch 17 Batch 1050 Loss 4.0912 Accuracy 0.2934\n",
      "Epoch 17 Batch 1100 Loss 4.0914 Accuracy 0.2934\n",
      "Epoch 17 Batch 1150 Loss 4.0913 Accuracy 0.2934\n",
      "Epoch 17 Batch 1200 Loss 4.0904 Accuracy 0.2936\n",
      "Epoch 17 Batch 1250 Loss 4.0907 Accuracy 0.2936\n",
      "Epoch 17 Batch 1300 Loss 4.0915 Accuracy 0.2935\n",
      "Epoch 17 Batch 1350 Loss 4.0910 Accuracy 0.2935\n",
      "Epoch 17 Batch 1400 Loss 4.0904 Accuracy 0.2936\n",
      "Epoch 17 Batch 1450 Loss 4.0904 Accuracy 0.2936\n",
      "Epoch 17 Batch 1500 Loss 4.0901 Accuracy 0.2936\n",
      "Epoch 17 Batch 1550 Loss 4.0901 Accuracy 0.2936\n",
      "Epoch 17 Batch 1600 Loss 4.0904 Accuracy 0.2936\n",
      "Epoch 17 Batch 1650 Loss 4.0904 Accuracy 0.2936\n",
      "Epoch 17 Batch 1700 Loss 4.0903 Accuracy 0.2937\n",
      "Epoch 17 Batch 1750 Loss 4.0904 Accuracy 0.2936\n",
      "Epoch 17 Batch 1800 Loss 4.0900 Accuracy 0.2937\n",
      "Epoch 17 Batch 1850 Loss 4.0899 Accuracy 0.2937\n",
      "Epoch 17 Batch 1900 Loss 4.0895 Accuracy 0.2937\n",
      "Epoch 17 Batch 1950 Loss 4.0893 Accuracy 0.2937\n",
      "Epoch 17 Batch 2000 Loss 4.0893 Accuracy 0.2937\n",
      "Epoch 17 Batch 2050 Loss 4.0889 Accuracy 0.2937\n",
      "Epoch 17 Batch 2100 Loss 4.0885 Accuracy 0.2938\n",
      "Epoch 17 Batch 2150 Loss 4.0879 Accuracy 0.2938\n",
      "Epoch 17 Batch 2200 Loss 4.0875 Accuracy 0.2939\n",
      "Epoch 17 Batch 2250 Loss 4.0871 Accuracy 0.2938\n",
      "Epoch 17 Batch 2300 Loss 4.0871 Accuracy 0.2938\n",
      "Epoch 17 Batch 2350 Loss 4.0869 Accuracy 0.2938\n",
      "Epoch 17 Batch 2400 Loss 4.0872 Accuracy 0.2938\n",
      "Epoch 17 Batch 2450 Loss 4.0872 Accuracy 0.2938\n",
      "Epoch 17 Batch 2500 Loss 4.0873 Accuracy 0.2937\n",
      "Epoch 17 Batch 2550 Loss 4.0870 Accuracy 0.2938\n",
      "Epoch 17 Batch 2600 Loss 4.0873 Accuracy 0.2937\n",
      "Epoch 17 Batch 2650 Loss 4.0878 Accuracy 0.2937\n",
      "Epoch 17 Loss 4.0879 Accuracy 0.2937\n",
      "Time taken for 1 epoch: 283.99 secs\n",
      "\n",
      "Epoch 18 Batch 0 Loss 3.8786 Accuracy 0.3155\n",
      "Epoch 18 Batch 50 Loss 4.0586 Accuracy 0.2944\n",
      "Epoch 18 Batch 100 Loss 4.0740 Accuracy 0.2939\n",
      "Epoch 18 Batch 150 Loss 4.0660 Accuracy 0.2951\n",
      "Epoch 18 Batch 200 Loss 4.0780 Accuracy 0.2939\n",
      "Epoch 18 Batch 250 Loss 4.0756 Accuracy 0.2943\n",
      "Epoch 18 Batch 300 Loss 4.0794 Accuracy 0.2942\n",
      "Epoch 18 Batch 350 Loss 4.0796 Accuracy 0.2942\n",
      "Epoch 18 Batch 400 Loss 4.0797 Accuracy 0.2943\n",
      "Epoch 18 Batch 450 Loss 4.0780 Accuracy 0.2943\n",
      "Epoch 18 Batch 500 Loss 4.0771 Accuracy 0.2943\n",
      "Epoch 18 Batch 550 Loss 4.0799 Accuracy 0.2941\n",
      "Epoch 18 Batch 600 Loss 4.0771 Accuracy 0.2943\n",
      "Epoch 18 Batch 650 Loss 4.0751 Accuracy 0.2946\n",
      "Epoch 18 Batch 700 Loss 4.0736 Accuracy 0.2947\n",
      "Epoch 18 Batch 750 Loss 4.0738 Accuracy 0.2948\n",
      "Epoch 18 Batch 800 Loss 4.0732 Accuracy 0.2948\n",
      "Epoch 18 Batch 850 Loss 4.0723 Accuracy 0.2950\n",
      "Epoch 18 Batch 900 Loss 4.0715 Accuracy 0.2952\n",
      "Epoch 18 Batch 950 Loss 4.0718 Accuracy 0.2952\n",
      "Epoch 18 Batch 1000 Loss 4.0719 Accuracy 0.2952\n",
      "Epoch 18 Batch 1050 Loss 4.0728 Accuracy 0.2950\n",
      "Epoch 18 Batch 1100 Loss 4.0737 Accuracy 0.2949\n",
      "Epoch 18 Batch 1150 Loss 4.0732 Accuracy 0.2951\n",
      "Epoch 18 Batch 1200 Loss 4.0737 Accuracy 0.2950\n",
      "Epoch 18 Batch 1250 Loss 4.0740 Accuracy 0.2951\n",
      "Epoch 18 Batch 1300 Loss 4.0749 Accuracy 0.2949\n",
      "Epoch 18 Batch 1350 Loss 4.0743 Accuracy 0.2950\n",
      "Epoch 18 Batch 1400 Loss 4.0744 Accuracy 0.2950\n",
      "Epoch 18 Batch 1450 Loss 4.0740 Accuracy 0.2950\n",
      "Epoch 18 Batch 1500 Loss 4.0752 Accuracy 0.2949\n",
      "Epoch 18 Batch 1550 Loss 4.0756 Accuracy 0.2949\n",
      "Epoch 18 Batch 1600 Loss 4.0763 Accuracy 0.2948\n",
      "Epoch 18 Batch 1650 Loss 4.0765 Accuracy 0.2948\n",
      "Epoch 18 Batch 1700 Loss 4.0765 Accuracy 0.2948\n",
      "Epoch 18 Batch 1750 Loss 4.0763 Accuracy 0.2949\n",
      "Epoch 18 Batch 1800 Loss 4.0758 Accuracy 0.2949\n",
      "Epoch 18 Batch 1850 Loss 4.0757 Accuracy 0.2949\n",
      "Epoch 18 Batch 1900 Loss 4.0759 Accuracy 0.2949\n",
      "Epoch 18 Batch 1950 Loss 4.0758 Accuracy 0.2949\n",
      "Epoch 18 Batch 2000 Loss 4.0757 Accuracy 0.2949\n",
      "Epoch 18 Batch 2050 Loss 4.0756 Accuracy 0.2948\n",
      "Epoch 18 Batch 2100 Loss 4.0753 Accuracy 0.2948\n",
      "Epoch 18 Batch 2150 Loss 4.0748 Accuracy 0.2948\n",
      "Epoch 18 Batch 2200 Loss 4.0737 Accuracy 0.2949\n",
      "Epoch 18 Batch 2250 Loss 4.0739 Accuracy 0.2949\n",
      "Epoch 18 Batch 2300 Loss 4.0736 Accuracy 0.2949\n",
      "Epoch 18 Batch 2350 Loss 4.0736 Accuracy 0.2949\n",
      "Epoch 18 Batch 2400 Loss 4.0733 Accuracy 0.2949\n",
      "Epoch 18 Batch 2450 Loss 4.0730 Accuracy 0.2949\n",
      "Epoch 18 Batch 2500 Loss 4.0736 Accuracy 0.2948\n",
      "Epoch 18 Batch 2550 Loss 4.0735 Accuracy 0.2949\n",
      "Epoch 18 Batch 2600 Loss 4.0740 Accuracy 0.2948\n",
      "Epoch 18 Batch 2650 Loss 4.0738 Accuracy 0.2948\n",
      "Epoch 18 Loss 4.0739 Accuracy 0.2948\n",
      "Time taken for 1 epoch: 284.54 secs\n",
      "\n",
      "Epoch 19 Batch 0 Loss 4.1813 Accuracy 0.2920\n",
      "Epoch 19 Batch 50 Loss 4.0702 Accuracy 0.2943\n",
      "Epoch 19 Batch 100 Loss 4.0637 Accuracy 0.2952\n",
      "Epoch 19 Batch 150 Loss 4.0573 Accuracy 0.2955\n",
      "Epoch 19 Batch 200 Loss 4.0591 Accuracy 0.2949\n",
      "Epoch 19 Batch 250 Loss 4.0613 Accuracy 0.2949\n",
      "Epoch 19 Batch 300 Loss 4.0613 Accuracy 0.2953\n",
      "Epoch 19 Batch 350 Loss 4.0643 Accuracy 0.2953\n",
      "Epoch 19 Batch 400 Loss 4.0649 Accuracy 0.2955\n",
      "Epoch 19 Batch 450 Loss 4.0623 Accuracy 0.2956\n",
      "Epoch 19 Batch 500 Loss 4.0663 Accuracy 0.2950\n",
      "Epoch 19 Batch 550 Loss 4.0674 Accuracy 0.2951\n",
      "Epoch 19 Batch 600 Loss 4.0651 Accuracy 0.2953\n",
      "Epoch 19 Batch 650 Loss 4.0638 Accuracy 0.2954\n",
      "Epoch 19 Batch 700 Loss 4.0650 Accuracy 0.2952\n",
      "Epoch 19 Batch 750 Loss 4.0629 Accuracy 0.2957\n",
      "Epoch 19 Batch 800 Loss 4.0626 Accuracy 0.2959\n",
      "Epoch 19 Batch 850 Loss 4.0620 Accuracy 0.2959\n",
      "Epoch 19 Batch 900 Loss 4.0615 Accuracy 0.2959\n",
      "Epoch 19 Batch 950 Loss 4.0620 Accuracy 0.2960\n",
      "Epoch 19 Batch 1000 Loss 4.0620 Accuracy 0.2961\n",
      "Epoch 19 Batch 1050 Loss 4.0619 Accuracy 0.2961\n",
      "Epoch 19 Batch 1100 Loss 4.0604 Accuracy 0.2962\n",
      "Epoch 19 Batch 1150 Loss 4.0612 Accuracy 0.2961\n",
      "Epoch 19 Batch 1200 Loss 4.0613 Accuracy 0.2960\n",
      "Epoch 19 Batch 1250 Loss 4.0601 Accuracy 0.2960\n",
      "Epoch 19 Batch 1300 Loss 4.0612 Accuracy 0.2959\n",
      "Epoch 19 Batch 1350 Loss 4.0614 Accuracy 0.2959\n",
      "Epoch 19 Batch 1400 Loss 4.0612 Accuracy 0.2959\n",
      "Epoch 19 Batch 1450 Loss 4.0616 Accuracy 0.2959\n",
      "Epoch 19 Batch 1500 Loss 4.0619 Accuracy 0.2958\n",
      "Epoch 19 Batch 1550 Loss 4.0617 Accuracy 0.2959\n",
      "Epoch 19 Batch 1600 Loss 4.0616 Accuracy 0.2959\n",
      "Epoch 19 Batch 1650 Loss 4.0614 Accuracy 0.2960\n",
      "Epoch 19 Batch 1700 Loss 4.0615 Accuracy 0.2960\n",
      "Epoch 19 Batch 1750 Loss 4.0615 Accuracy 0.2960\n"
     ]
    },
    {
     "name": "stdout",
     "output_type": "stream",
     "text": [
      "Epoch 19 Batch 1800 Loss 4.0615 Accuracy 0.2960\n",
      "Epoch 19 Batch 1850 Loss 4.0616 Accuracy 0.2960\n",
      "Epoch 19 Batch 1900 Loss 4.0615 Accuracy 0.2960\n",
      "Epoch 19 Batch 1950 Loss 4.0612 Accuracy 0.2961\n",
      "Epoch 19 Batch 2000 Loss 4.0607 Accuracy 0.2961\n",
      "Epoch 19 Batch 2050 Loss 4.0599 Accuracy 0.2961\n",
      "Epoch 19 Batch 2100 Loss 4.0598 Accuracy 0.2961\n",
      "Epoch 19 Batch 2150 Loss 4.0593 Accuracy 0.2962\n",
      "Epoch 19 Batch 2200 Loss 4.0596 Accuracy 0.2961\n",
      "Epoch 19 Batch 2250 Loss 4.0589 Accuracy 0.2962\n",
      "Epoch 19 Batch 2300 Loss 4.0591 Accuracy 0.2961\n",
      "Epoch 19 Batch 2350 Loss 4.0592 Accuracy 0.2961\n",
      "Epoch 19 Batch 2400 Loss 4.0590 Accuracy 0.2961\n",
      "Epoch 19 Batch 2450 Loss 4.0592 Accuracy 0.2961\n",
      "Epoch 19 Batch 2500 Loss 4.0593 Accuracy 0.2961\n",
      "Epoch 19 Batch 2550 Loss 4.0585 Accuracy 0.2962\n",
      "Epoch 19 Batch 2600 Loss 4.0588 Accuracy 0.2962\n",
      "Epoch 19 Batch 2650 Loss 4.0596 Accuracy 0.2961\n",
      "Epoch 19 Loss 4.0595 Accuracy 0.2961\n",
      "Time taken for 1 epoch: 284.57 secs\n",
      "\n",
      "Epoch 20 Batch 0 Loss 4.2552 Accuracy 0.2712\n",
      "Epoch 20 Batch 50 Loss 4.0550 Accuracy 0.2946\n",
      "Epoch 20 Batch 100 Loss 4.0502 Accuracy 0.2943\n",
      "Epoch 20 Batch 150 Loss 4.0506 Accuracy 0.2951\n",
      "Epoch 20 Batch 200 Loss 4.0551 Accuracy 0.2951\n",
      "Epoch 20 Batch 250 Loss 4.0464 Accuracy 0.2959\n",
      "Epoch 20 Batch 300 Loss 4.0446 Accuracy 0.2966\n",
      "Epoch 20 Batch 350 Loss 4.0461 Accuracy 0.2966\n",
      "Epoch 20 Batch 400 Loss 4.0455 Accuracy 0.2968\n",
      "Epoch 20 Batch 450 Loss 4.0479 Accuracy 0.2964\n",
      "Epoch 20 Batch 500 Loss 4.0469 Accuracy 0.2965\n",
      "Epoch 20 Batch 550 Loss 4.0486 Accuracy 0.2963\n",
      "Epoch 20 Batch 600 Loss 4.0477 Accuracy 0.2967\n",
      "Epoch 20 Batch 650 Loss 4.0482 Accuracy 0.2967\n",
      "Epoch 20 Batch 700 Loss 4.0490 Accuracy 0.2967\n",
      "Epoch 20 Batch 750 Loss 4.0475 Accuracy 0.2969\n"
     ]
    }
   ],
   "source": [
    "for epoch in range(EPOCHS):\n",
    "  start = time.time()\n",
    "\n",
    "  train_loss.reset_states()\n",
    "  train_accuracy.reset_states()\n",
    "\n",
    "  # inp -> Русский, tar -> English\n",
    "  for (batch, (inp, tar)) in enumerate(train_batches):\n",
    "    train_step(inp, tar)\n",
    "\n",
    "    if batch % 50 == 0:\n",
    "      print(f'Epoch {epoch + 1} Batch {batch} Loss {train_loss.result():.4f} Accuracy {train_accuracy.result():.4f}')\n",
    "\n",
    "  if (epoch + 1) % 5 == 0:\n",
    "    ckpt_save_path = ckpt_manager.save()\n",
    "    print(f'Saving checkpoint for epoch {epoch+1} at {ckpt_save_path}')\n",
    "\n",
    "  print(f'Epoch {epoch + 1} Loss {train_loss.result():.4f} Accuracy {train_accuracy.result():.4f}')\n",
    "\n",
    "  print(f'Time taken for 1 epoch: {time.time() - start:.2f} secs\\n')"
   ]
  },
  {
   "cell_type": "markdown",
   "metadata": {
    "id": "QfcsSWswSdGV"
   },
   "source": [
    "### Запуск вывода"
   ]
  },
  {
   "cell_type": "markdown",
   "metadata": {
    "id": "y6APsFrgImLW"
   },
   "source": [
    "Для вывода используются следующие шаги:\n",
    "\n",
    "* Кодируйте входное предложение, используя русский токенизатор (`tokenizers.ru`). Это вход энкодера.\n",
    "* Вход декодера инициализируется токеном `[START]`.\n",
    "* Рассчитайте маски заполнения и упреждающие маски.\n",
    "* `Декодер` затем выводит прогнозы, глядя на `encoder output` и свой собственный вывод (самовнимание).\n",
    "* Объедините прогнозируемый токен с входом декодера и передайте его декодеру.\n",
    "* При таком подходе декодер предсказывает следующий токен на основе предыдущих токенов, которые он предсказывал."
   ]
  },
  {
   "cell_type": "markdown",
   "metadata": {
    "id": "-FQmQwtv9-kk"
   },
   "source": [
    "Примечание: Модель оптимизирована для эффективного обучения и делает предсказание следующего токена для каждого токена в выходных данных одновременно. Это избыточно во время вывода, и используется только последний прогноз.  Эту модель можно сделать более эффективной для вывода, если вы рассчитываете только последнее предсказание при запуске в режиме вывода (`training=False`)."
   ]
  },
  {
   "cell_type": "code",
   "execution_count": null,
   "metadata": {
    "execution": {
     "iopub.execute_input": "2022-08-24T07:20:56.944140Z",
     "iopub.status.busy": "2022-08-24T07:20:56.943695Z",
     "iopub.status.idle": "2022-08-24T07:20:56.959050Z",
     "shell.execute_reply": "2022-08-24T07:20:56.957593Z",
     "shell.execute_reply.started": "2022-08-24T07:20:56.944095Z"
    },
    "id": "5buvMlnvyrFm"
   },
   "outputs": [],
   "source": [
    "class Translator(tf.Module):\n",
    "  def __init__(self, tokenizers, transformer):\n",
    "    self.tokenizers = tokenizers\n",
    "    self.transformer = transformer\n",
    "\n",
    "  def __call__(self, sentence, max_length=MAX_TOKENS):\n",
    "    # input sentence is portuguese, hence adding the start and end token\n",
    "    assert isinstance(sentence, tf.Tensor)\n",
    "    if len(sentence.shape) == 0:\n",
    "      sentence = sentence[tf.newaxis]\n",
    "\n",
    "    sentence = self.tokenizers.ru.tokenize(sentence).to_tensor()\n",
    "\n",
    "    encoder_input = sentence\n",
    "\n",
    "    # As the output language is english, initialize the output with the\n",
    "    # english start token.\n",
    "    start_end = self.tokenizers.en.tokenize([''])[0]\n",
    "    start = start_end[0][tf.newaxis]\n",
    "    end = start_end[1][tf.newaxis]\n",
    "\n",
    "    # `tf.TensorArray` is required here (instead of a python list) so that the\n",
    "    # dynamic-loop can be traced by `tf.function`.\n",
    "    output_array = tf.TensorArray(dtype=tf.int64, size=0, dynamic_size=True)\n",
    "    output_array = output_array.write(0, start)\n",
    "\n",
    "    for i in tf.range(max_length):\n",
    "      output = tf.transpose(output_array.stack())\n",
    "      predictions, _ = self.transformer([encoder_input, output], training=False)\n",
    "\n",
    "      # select the last token from the seq_len dimension\n",
    "      predictions = predictions[:, -1:, :]  # (batch_size, 1, vocab_size)\n",
    "\n",
    "      predicted_id = tf.argmax(predictions, axis=-1)\n",
    "\n",
    "      # concatentate the predicted_id to the output which is given to the decoder\n",
    "      # as its input.\n",
    "      output_array = output_array.write(i+1, predicted_id[0])\n",
    "\n",
    "      if predicted_id == end:\n",
    "        break\n",
    "\n",
    "    output = tf.transpose(output_array.stack())\n",
    "    # output.shape (1, tokens)\n",
    "    text = tokenizers.en.detokenize(output)[0]  # shape: ()\n",
    "\n",
    "    tokens = tokenizers.en.lookup(output)[0]\n",
    "\n",
    "    # `tf.function` prevents us from using the attention_weights that were\n",
    "    # calculated on the last iteration of the loop. So recalculate them outside\n",
    "    # the loop.\n",
    "    _, attention_weights = self.transformer([encoder_input, output[:,:-1]], training=False)\n",
    "\n",
    "    return text, tokens, attention_weights"
   ]
  },
  {
   "cell_type": "markdown",
   "metadata": {
    "id": "FXGLLJulaq_-"
   },
   "source": [
    "Примечание: Эта функция использует развернутый цикл, а не динамический цикл. Он генерирует при каждом вызове. Смотрите пример [Нейронный машинный перевод с вниманием](https://www.tensorflow.org/text/tutorials/nmt_with_attention) реализации с динамическим циклом, который может быть гораздо более эффективным."
   ]
  },
  {
   "cell_type": "markdown",
   "metadata": {
    "id": "ofUWszmY3szZ"
   },
   "source": [
    "Создайте экземпляр этого `Translator` класса и попробуйте несколько раз:"
   ]
  },
  {
   "cell_type": "code",
   "execution_count": null,
   "metadata": {
    "execution": {
     "iopub.execute_input": "2022-08-24T07:21:09.449305Z",
     "iopub.status.busy": "2022-08-24T07:21:09.448846Z",
     "iopub.status.idle": "2022-08-24T07:21:09.456404Z",
     "shell.execute_reply": "2022-08-24T07:21:09.454646Z",
     "shell.execute_reply.started": "2022-08-24T07:21:09.449271Z"
    },
    "id": "4OR2D4EXeIRY"
   },
   "outputs": [],
   "source": [
    "translator = Translator(tokenizers, transformer)"
   ]
  },
  {
   "cell_type": "code",
   "execution_count": null,
   "metadata": {
    "execution": {
     "iopub.execute_input": "2022-08-24T07:21:13.338349Z",
     "iopub.status.busy": "2022-08-24T07:21:13.337884Z",
     "iopub.status.idle": "2022-08-24T07:21:13.347118Z",
     "shell.execute_reply": "2022-08-24T07:21:13.345339Z",
     "shell.execute_reply.started": "2022-08-24T07:21:13.338317Z"
    },
    "id": "lU2_yG_vBGza"
   },
   "outputs": [],
   "source": [
    "def print_translation(sentence, tokens, ground_truth):\n",
    "  print(f'{\"Input:\":15s}: {sentence}')\n",
    "  print(f'{\"Prediction\":15s}: {tokens.numpy().decode(\"utf-8\")}')\n",
    "  print(f'{\"Ground truth\":15s}: {ground_truth}')"
   ]
  },
  {
   "cell_type": "code",
   "execution_count": null,
   "metadata": {
    "execution": {
     "iopub.execute_input": "2022-08-24T07:21:19.956280Z",
     "iopub.status.busy": "2022-08-24T07:21:19.955822Z",
     "iopub.status.idle": "2022-08-24T07:21:23.352970Z",
     "shell.execute_reply": "2022-08-24T07:21:23.351564Z",
     "shell.execute_reply.started": "2022-08-24T07:21:19.956247Z"
    },
    "id": "YsxrAlvFG8SZ"
   },
   "outputs": [],
   "source": [
    "sentence = 'это проблема, которую мы должны решить.'\n",
    "ground_truth = 'this is a problem we have to solve .'\n",
    "\n",
    "translated_text, translated_tokens, attention_weights = translator(\n",
    "    tf.constant(sentence))\n",
    "print_translation(sentence, translated_text, ground_truth)"
   ]
  },
  {
   "cell_type": "code",
   "execution_count": null,
   "metadata": {
    "execution": {
     "iopub.execute_input": "2022-08-24T07:22:11.329239Z",
     "iopub.status.busy": "2022-08-24T07:22:11.328787Z",
     "iopub.status.idle": "2022-08-24T07:22:13.817596Z",
     "shell.execute_reply": "2022-08-24T07:22:13.816065Z",
     "shell.execute_reply.started": "2022-08-24T07:22:11.329206Z"
    },
    "id": "7EH5y_aqI4t1"
   },
   "outputs": [],
   "source": [
    "sentence = 'и мои соседи слышали об этой идее.'\n",
    "ground_truth = 'and my neighboring homes heard about this idea .'\n",
    "\n",
    "translated_text, translated_tokens, attention_weights = translator(\n",
    "    tf.constant(sentence))\n",
    "print_translation(sentence, translated_text, ground_truth)"
   ]
  },
  {
   "cell_type": "code",
   "execution_count": null,
   "metadata": {
    "execution": {
     "iopub.execute_input": "2022-08-24T07:22:27.070293Z",
     "iopub.status.busy": "2022-08-24T07:22:27.069866Z",
     "iopub.status.idle": "2022-08-24T07:22:31.667534Z",
     "shell.execute_reply": "2022-08-24T07:22:31.665403Z",
     "shell.execute_reply.started": "2022-08-24T07:22:27.070258Z"
    },
    "id": "J-hVCTSUMlkb"
   },
   "outputs": [],
   "source": [
    "sentence = 'так что я собираюсь очень быстро поделиться с вами некоторыми историями о некоторых волшебных вещах, которые произошли.'\n",
    "ground_truth = \"so i'll just share with you some stories very quickly of some magical things that have happened.\"\n",
    "\n",
    "translated_text, translated_tokens, attention_weights = translator(\n",
    "    tf.constant(sentence))\n",
    "print_translation(sentence, translated_text, ground_truth)"
   ]
  },
  {
   "cell_type": "markdown",
   "metadata": {
    "id": "S3EQiFUC--Ds"
   },
   "source": [
    "## Участки внимания"
   ]
  },
  {
   "cell_type": "markdown",
   "metadata": {
    "id": "hHV2pdXHGz-0"
   },
   "source": [
    "Класс `Translator` возвращает словарь карт внимания, которые вы можете использовать для визуализации внутренней работы модели:"
   ]
  },
  {
   "cell_type": "code",
   "execution_count": null,
   "metadata": {
    "execution": {
     "iopub.execute_input": "2022-08-24T07:22:48.493934Z",
     "iopub.status.busy": "2022-08-24T07:22:48.493490Z",
     "iopub.status.idle": "2022-08-24T07:22:50.382223Z",
     "shell.execute_reply": "2022-08-24T07:22:50.380613Z",
     "shell.execute_reply.started": "2022-08-24T07:22:48.493900Z"
    },
    "id": "t-kFyiOLH0xg"
   },
   "outputs": [],
   "source": [
    "sentence = 'это первая книга, которую я сделал.'\n",
    "ground_truth = \"this is the first book i've ever done.\"\n",
    "\n",
    "translated_text, translated_tokens, attention_weights = translator(\n",
    "    tf.constant(sentence))\n",
    "print_translation(sentence, translated_text, ground_truth)"
   ]
  },
  {
   "cell_type": "code",
   "execution_count": null,
   "metadata": {
    "execution": {
     "iopub.execute_input": "2022-08-24T07:26:50.437227Z",
     "iopub.status.busy": "2022-08-24T07:26:50.436779Z",
     "iopub.status.idle": "2022-08-24T07:26:52.824065Z",
     "shell.execute_reply": "2022-08-24T07:26:52.822478Z",
     "shell.execute_reply.started": "2022-08-24T07:26:50.437154Z"
    }
   },
   "outputs": [],
   "source": [
    "sentence = 'Доброе утро. Что мы планируем на сегодня?'\n",
    "ground_truth = \"Good morning. What are we planning for today?\"\n",
    "\n",
    "translated_text, translated_tokens, attention_weights = translator(\n",
    "    tf.constant(sentence))\n",
    "print_translation(sentence, translated_text, ground_truth)"
   ]
  },
  {
   "cell_type": "code",
   "execution_count": null,
   "metadata": {
    "execution": {
     "iopub.execute_input": "2022-08-24T07:23:06.965797Z",
     "iopub.status.busy": "2022-08-24T07:23:06.965354Z",
     "iopub.status.idle": "2022-08-24T07:23:06.976288Z",
     "shell.execute_reply": "2022-08-24T07:23:06.973990Z",
     "shell.execute_reply.started": "2022-08-24T07:23:06.965763Z"
    },
    "id": "CcI4DxAK5EHY"
   },
   "outputs": [],
   "source": [
    "def plot_attention_head(in_tokens, translated_tokens, attention):\n",
    "  # The plot is of the attention when a token was generated.\n",
    "  # The model didn't generate `<START>` in the output. Skip it.\n",
    "  translated_tokens = translated_tokens[1:]\n",
    "\n",
    "  ax = plt.gca()\n",
    "  ax.matshow(attention)\n",
    "  ax.set_xticks(range(len(in_tokens)))\n",
    "  ax.set_yticks(range(len(translated_tokens)))\n",
    "\n",
    "  labels = [label.decode('utf-8') for label in in_tokens.numpy()]\n",
    "  ax.set_xticklabels(\n",
    "      labels, rotation=90)\n",
    "\n",
    "  labels = [label.decode('utf-8') for label in translated_tokens.numpy()]\n",
    "  ax.set_yticklabels(labels)"
   ]
  },
  {
   "cell_type": "code",
   "execution_count": null,
   "metadata": {
    "execution": {
     "iopub.execute_input": "2022-08-24T07:23:09.318523Z",
     "iopub.status.busy": "2022-08-24T07:23:09.317454Z",
     "iopub.status.idle": "2022-08-24T07:23:09.334235Z",
     "shell.execute_reply": "2022-08-24T07:23:09.332562Z",
     "shell.execute_reply.started": "2022-08-24T07:23:09.318487Z"
    },
    "id": "_KY4c2cryuxY"
   },
   "outputs": [],
   "source": [
    "head = 0\n",
    "# shape: (batch=1, num_heads, seq_len_q, seq_len_k)\n",
    "attention_heads = tf.squeeze(\n",
    "  attention_weights['decoder_layer4_block2'], 0)\n",
    "attention = attention_heads[head]\n",
    "attention.shape"
   ]
  },
  {
   "cell_type": "code",
   "execution_count": null,
   "metadata": {
    "execution": {
     "iopub.execute_input": "2022-08-24T07:23:11.900058Z",
     "iopub.status.busy": "2022-08-24T07:23:11.899416Z",
     "iopub.status.idle": "2022-08-24T07:23:11.954268Z",
     "shell.execute_reply": "2022-08-24T07:23:11.952600Z",
     "shell.execute_reply.started": "2022-08-24T07:23:11.900023Z"
    },
    "id": "XdxmakWE6Om3"
   },
   "outputs": [],
   "source": [
    "in_tokens = tf.convert_to_tensor([sentence])\n",
    "in_tokens = tokenizers.ru.tokenize(in_tokens).to_tensor()\n",
    "in_tokens = tokenizers.ru.lookup(in_tokens)[0]\n",
    "in_tokens"
   ]
  },
  {
   "cell_type": "code",
   "execution_count": null,
   "metadata": {
    "execution": {
     "iopub.execute_input": "2022-08-24T07:23:18.884076Z",
     "iopub.status.busy": "2022-08-24T07:23:18.883522Z",
     "iopub.status.idle": "2022-08-24T07:23:18.895425Z",
     "shell.execute_reply": "2022-08-24T07:23:18.893303Z",
     "shell.execute_reply.started": "2022-08-24T07:23:18.884043Z"
    },
    "id": "hVdPSfecmrpj"
   },
   "outputs": [],
   "source": [
    "translated_tokens"
   ]
  },
  {
   "cell_type": "code",
   "execution_count": null,
   "metadata": {
    "execution": {
     "iopub.execute_input": "2022-08-24T07:23:21.064596Z",
     "iopub.status.busy": "2022-08-24T07:23:21.063515Z",
     "iopub.status.idle": "2022-08-24T07:23:21.460094Z",
     "shell.execute_reply": "2022-08-24T07:23:21.458630Z",
     "shell.execute_reply.started": "2022-08-24T07:23:21.064558Z"
    },
    "id": "XtzyKCFamm4N"
   },
   "outputs": [],
   "source": [
    "plot_attention_head(in_tokens, translated_tokens, attention)"
   ]
  },
  {
   "cell_type": "code",
   "execution_count": null,
   "metadata": {
    "execution": {
     "iopub.execute_input": "2022-08-24T07:23:27.996772Z",
     "iopub.status.busy": "2022-08-24T07:23:27.996264Z",
     "iopub.status.idle": "2022-08-24T07:23:28.006215Z",
     "shell.execute_reply": "2022-08-24T07:23:28.004393Z",
     "shell.execute_reply.started": "2022-08-24T07:23:27.996736Z"
    },
    "id": "MBliB-PCzNK3"
   },
   "outputs": [],
   "source": [
    "def plot_attention_weights(sentence, translated_tokens, attention_heads):\n",
    "  in_tokens = tf.convert_to_tensor([sentence])\n",
    "  in_tokens = tokenizers.ru.tokenize(in_tokens).to_tensor()\n",
    "  in_tokens = tokenizers.ru.lookup(in_tokens)[0]\n",
    "  in_tokens\n",
    "\n",
    "  fig = plt.figure(figsize=(16, 8))\n",
    "\n",
    "  for h, head in enumerate(attention_heads):\n",
    "    ax = fig.add_subplot(2, 4, h+1)\n",
    "\n",
    "    plot_attention_head(in_tokens, translated_tokens, head)\n",
    "\n",
    "    ax.set_xlabel(f'Head {h+1}')\n",
    "\n",
    "  plt.tight_layout()\n",
    "  plt.show()"
   ]
  },
  {
   "cell_type": "code",
   "execution_count": null,
   "metadata": {
    "execution": {
     "iopub.execute_input": "2022-08-24T07:23:33.452463Z",
     "iopub.status.busy": "2022-08-24T07:23:33.452015Z",
     "iopub.status.idle": "2022-08-24T07:23:36.350079Z",
     "shell.execute_reply": "2022-08-24T07:23:36.348367Z",
     "shell.execute_reply.started": "2022-08-24T07:23:33.452413Z"
    },
    "id": "pyRQi7944wru"
   },
   "outputs": [],
   "source": [
    "plot_attention_weights(sentence, translated_tokens,\n",
    "                       attention_weights['decoder_layer4_block2'][0])"
   ]
  },
  {
   "cell_type": "markdown",
   "metadata": {
    "id": "MZJirKUtikTt"
   },
   "source": [
    "Модель хорошо справляется с незнакомыми словами. Слова «трицератопс», «энциклопедия» не были введены в наборе данных, и модель учится переводить их, даже без общего словаря:"
   ]
  },
  {
   "cell_type": "code",
   "execution_count": null,
   "metadata": {
    "execution": {
     "iopub.execute_input": "2022-08-24T07:24:06.558095Z",
     "iopub.status.busy": "2022-08-24T07:24:06.557510Z",
     "iopub.status.idle": "2022-08-24T07:24:15.403412Z",
     "shell.execute_reply": "2022-08-24T07:24:15.401926Z",
     "shell.execute_reply.started": "2022-08-24T07:24:06.558057Z"
    },
    "id": "9cxysY7uh3jg"
   },
   "outputs": [],
   "source": [
    "sentence = 'Я читал о трицератопсе в энциклопедии.'\n",
    "ground_truth = 'I read about triceratops in the encyclopedia.'\n",
    "\n",
    "translated_text, translated_tokens, attention_weights = translator(\n",
    "    tf.constant(sentence))\n",
    "print_translation(sentence, translated_text, ground_truth)\n",
    "\n",
    "plot_attention_weights(sentence, translated_tokens,\n",
    "                       attention_weights['decoder_layer4_block2'][0])"
   ]
  },
  {
   "cell_type": "markdown",
   "metadata": {
    "id": "mOyiOetL2l60"
   },
   "source": [
    "## Экспорт"
   ]
  },
  {
   "cell_type": "markdown",
   "metadata": {
    "id": "YTK3g2UL2oMc"
   },
   "source": [
    "Эта модель вывода работает, поэтому теперь экспортируйте её как `tf.saved_model`.\n",
    "\n",
    "Для этого оберните её еще одним подклассом `tf.Module`, на этот раз с `tf.function` в методе `__call__`:"
   ]
  },
  {
   "cell_type": "code",
   "execution_count": null,
   "metadata": {
    "execution": {
     "iopub.execute_input": "2022-08-24T07:27:14.177087Z",
     "iopub.status.busy": "2022-08-24T07:27:14.176572Z",
     "iopub.status.idle": "2022-08-24T07:27:14.186831Z",
     "shell.execute_reply": "2022-08-24T07:27:14.185262Z",
     "shell.execute_reply.started": "2022-08-24T07:27:14.177053Z"
    },
    "id": "GRmzkibLusQi"
   },
   "outputs": [],
   "source": [
    "class ExportTranslator(tf.Module):\n",
    "  def __init__(self, translator):\n",
    "    self.translator = translator\n",
    "\n",
    "  @tf.function(input_signature=[tf.TensorSpec(shape=[], dtype=tf.string)])\n",
    "  def __call__(self, sentence):\n",
    "    (result,\n",
    "     tokens,\n",
    "     attention_weights) = self.translator(sentence, max_length=MAX_TOKENS)\n",
    "\n",
    "    return result"
   ]
  },
  {
   "cell_type": "markdown",
   "metadata": {
    "id": "O9f_pmEA4kql"
   },
   "source": [
    "В приведенной выше `tf.function` тлько выходное предложение возвращается. Благодаря [non-strict execution](https://tensorflow.org/guide/intro_to_graphs) в `tf.function` любые ненужные значения никогда не вычисляются."
   ]
  },
  {
   "cell_type": "code",
   "execution_count": null,
   "metadata": {
    "execution": {
     "iopub.execute_input": "2022-08-24T07:27:41.303005Z",
     "iopub.status.busy": "2022-08-24T07:27:41.302576Z",
     "iopub.status.idle": "2022-08-24T07:27:41.309799Z",
     "shell.execute_reply": "2022-08-24T07:27:41.308246Z",
     "shell.execute_reply.started": "2022-08-24T07:27:41.302963Z"
    },
    "id": "EfomoJDP2n5n"
   },
   "outputs": [],
   "source": [
    "translator = ExportTranslator(translator)"
   ]
  },
  {
   "cell_type": "markdown",
   "metadata": {
    "id": "SUfoCWPS9LuB"
   },
   "source": [
    "Поскольку модель декодирует прогнозы с использованием `tf.argmax`, предсказания детерминированные. Оригинальная модель и загруженная из `SavedModel` модель должны дать идентичные прогнозы:"
   ]
  },
  {
   "cell_type": "code",
   "execution_count": null,
   "metadata": {
    "execution": {
     "iopub.execute_input": "2022-08-24T07:27:49.654355Z",
     "iopub.status.busy": "2022-08-24T07:27:49.653895Z",
     "iopub.status.idle": "2022-08-24T07:27:58.282997Z",
     "shell.execute_reply": "2022-08-24T07:27:58.281613Z",
     "shell.execute_reply.started": "2022-08-24T07:27:49.654321Z"
    },
    "id": "hAlqyycz3IYL"
   },
   "outputs": [],
   "source": [
    "translator('это первая книга, которую я сделал.').numpy()"
   ]
  },
  {
   "cell_type": "code",
   "execution_count": null,
   "metadata": {
    "execution": {
     "iopub.execute_input": "2022-08-24T07:28:03.798401Z",
     "iopub.status.busy": "2022-08-24T07:28:03.797941Z",
     "iopub.status.idle": "2022-08-24T07:28:43.373239Z",
     "shell.execute_reply": "2022-08-24T07:28:43.371743Z",
     "shell.execute_reply.started": "2022-08-24T07:28:03.798368Z"
    },
    "id": "ar3LO-Vuvlnv"
   },
   "outputs": [],
   "source": [
    "tf.saved_model.save(translator, export_dir='translator')"
   ]
  },
  {
   "cell_type": "code",
   "execution_count": null,
   "metadata": {
    "execution": {
     "iopub.execute_input": "2022-08-24T07:34:32.064315Z",
     "iopub.status.busy": "2022-08-24T07:34:32.063881Z",
     "iopub.status.idle": "2022-08-24T07:34:33.612995Z",
     "shell.execute_reply": "2022-08-24T07:34:33.611200Z",
     "shell.execute_reply.started": "2022-08-24T07:34:32.064277Z"
    }
   },
   "outputs": [],
   "source": [
    "!ls -l translator/*\n",
    "#!zip -r translator_ru_en.zip translator\n"
   ]
  },
  {
   "cell_type": "code",
   "execution_count": null,
   "metadata": {
    "execution": {
     "iopub.execute_input": "2022-08-24T07:35:15.107747Z",
     "iopub.status.busy": "2022-08-24T07:35:15.107246Z",
     "iopub.status.idle": "2022-08-24T07:35:29.568526Z",
     "shell.execute_reply": "2022-08-24T07:35:29.566861Z",
     "shell.execute_reply.started": "2022-08-24T07:35:15.107707Z"
    },
    "id": "8WUflwyT1SEF"
   },
   "outputs": [],
   "source": [
    "reloaded = tf.saved_model.load('translator')"
   ]
  },
  {
   "cell_type": "code",
   "execution_count": null,
   "metadata": {
    "execution": {
     "iopub.execute_input": "2022-08-24T07:38:20.279820Z",
     "iopub.status.busy": "2022-08-24T07:38:20.278890Z",
     "iopub.status.idle": "2022-08-24T07:38:20.641055Z",
     "shell.execute_reply": "2022-08-24T07:38:20.639620Z",
     "shell.execute_reply.started": "2022-08-24T07:38:20.279779Z"
    },
    "id": "-sBTBWwR1XMr"
   },
   "outputs": [],
   "source": [
    "reloaded('это первая книга, которую я сделал.').numpy()"
   ]
  },
  {
   "cell_type": "markdown",
   "metadata": {
    "id": "RqQ1fIsLwkGE"
   },
   "source": [
    "## Резюме\n",
    "\n",
    "В этом уроке вы узнали:\n",
    "\n",
    "* позиционное кодирование\n",
    "* многоголовое внимание\n",
    "* важность маскировки \n",
    "* и как собрать все это вместе, чтобы построить трансформатор.\n",
    "\n",
    "Эта реализация попыталась придерживаться реализации \n",
    "[original paper](https://arxiv.org/abs/1706.03762). Если вы хотите попрактиковаться, есть много вещей, которые вы можете попробовать. Например: \n",
    "\n",
    "* Используйте другой набор данных для обучения трансформера.\n",
    "* Создать конфигурацию «базовый трансформер» или «трансформер XL» из исходной статьи, изменив гиперпараметры.\n",
    "* Используйте слои, определенные здесь, для создания реализации [BERT](https://arxiv.org/abs/1810.04805).\n",
    "* Реализуйте лучевой поиск, чтобы получить лучшие прогнозы."
   ]
  }
 ],
 "metadata": {
  "kernelspec": {
   "display_name": "Python 3 (ipykernel)",
   "language": "python",
   "name": "python3"
  },
  "language_info": {
   "codemirror_mode": {
    "name": "ipython",
    "version": 3
   },
   "file_extension": ".py",
   "mimetype": "text/x-python",
   "name": "python",
   "nbconvert_exporter": "python",
   "pygments_lexer": "ipython3",
   "version": "3.10.10"
  }
 },
 "nbformat": 4,
 "nbformat_minor": 4
}
