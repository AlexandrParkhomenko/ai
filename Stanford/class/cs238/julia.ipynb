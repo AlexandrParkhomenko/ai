{
 "cells": [
  {
   "cell_type": "markdown",
   "id": "9663ca90",
   "metadata": {},
   "source": [
    "# Algorithms for Decision Making\n",
    " - Mykel J. Kochenderfer\n",
    " - Tim A. Wheeler\n",
    " - Kyle H. Wray\n",
    " \n",
    " Document created by\n",
    " - Alexandr V. Parkhomenko\n",
    "\n",
    "\n",
    "# Appendix G. Julia.\n",
    "\n",
    "- **Julia** is a scientific programming language that is free and open source.\n",
    "\n",
    "- It is a relatively new language that borrows inspiration from languages like Python, MATLAB, and R.\n",
    "\n",
    "- It was selected for use in this book because it is sufficiently high level so that the algorithms can be compactly expressed and readable while also being fast."
   ]
  },
  {
   "cell_type": "markdown",
   "id": "d0d2c1f2",
   "metadata": {},
   "source": [
    "## G.1 Types"
   ]
  },
  {
   "cell_type": "markdown",
   "id": "08011083",
   "metadata": {},
   "source": [
    "### G.1.1 Booleans"
   ]
  },
  {
   "cell_type": "code",
   "execution_count": 1,
   "id": "e6c94885",
   "metadata": {},
   "outputs": [],
   "source": [
    "x = true\n",
    "y = false; # semicolon suppresses the console output"
   ]
  },
  {
   "cell_type": "code",
   "execution_count": 2,
   "id": "6b3a3839",
   "metadata": {},
   "outputs": [
    {
     "data": {
      "text/plain": [
       "Bool"
      ]
     },
     "execution_count": 2,
     "metadata": {},
     "output_type": "execute_result"
    }
   ],
   "source": [
    "typeof(x)"
   ]
  },
  {
   "cell_type": "code",
   "execution_count": 3,
   "id": "77386615",
   "metadata": {},
   "outputs": [
    {
     "data": {
      "text/plain": [
       "false"
      ]
     },
     "execution_count": 3,
     "metadata": {},
     "output_type": "execute_result"
    }
   ],
   "source": [
    "x == y # test for equality"
   ]
  },
  {
   "cell_type": "markdown",
   "id": "efeae501",
   "metadata": {},
   "source": [
    "The standard Boolean operators are supported:"
   ]
  },
  {
   "cell_type": "code",
   "execution_count": 4,
   "id": "3b2cd702",
   "metadata": {},
   "outputs": [
    {
     "data": {
      "text/plain": [
       "false"
      ]
     },
     "execution_count": 4,
     "metadata": {},
     "output_type": "execute_result"
    }
   ],
   "source": [
    "!x # not"
   ]
  },
  {
   "cell_type": "code",
   "execution_count": 5,
   "id": "0b31419b",
   "metadata": {},
   "outputs": [
    {
     "data": {
      "text/plain": [
       "false"
      ]
     },
     "execution_count": 5,
     "metadata": {},
     "output_type": "execute_result"
    }
   ],
   "source": [
    "x && y # short-circuiting and  #//"
   ]
  },
  {
   "cell_type": "code",
   "execution_count": 6,
   "id": "07185496",
   "metadata": {},
   "outputs": [
    {
     "data": {
      "text/plain": [
       "true"
      ]
     },
     "execution_count": 6,
     "metadata": {},
     "output_type": "execute_result"
    }
   ],
   "source": [
    "x || y # short-circuiting or"
   ]
  },
  {
   "cell_type": "markdown",
   "id": "43c4dbe3",
   "metadata": {},
   "source": [
    "### G.1.2 Numbers"
   ]
  },
  {
   "cell_type": "code",
   "execution_count": 7,
   "id": "e07c7201",
   "metadata": {},
   "outputs": [
    {
     "data": {
      "text/plain": [
       "Int64"
      ]
     },
     "execution_count": 7,
     "metadata": {},
     "output_type": "execute_result"
    }
   ],
   "source": [
    "typeof(42)"
   ]
  },
  {
   "cell_type": "code",
   "execution_count": 8,
   "id": "b72daffe",
   "metadata": {},
   "outputs": [
    {
     "data": {
      "text/plain": [
       "Float64"
      ]
     },
     "execution_count": 8,
     "metadata": {},
     "output_type": "execute_result"
    }
   ],
   "source": [
    "typeof(42.0)"
   ]
  },
  {
   "cell_type": "code",
   "execution_count": 9,
   "id": "18dd1eb0",
   "metadata": {},
   "outputs": [
    {
     "data": {
      "text/plain": [
       "4"
      ]
     },
     "execution_count": 9,
     "metadata": {},
     "output_type": "execute_result"
    }
   ],
   "source": [
    "x = 4"
   ]
  },
  {
   "cell_type": "code",
   "execution_count": 10,
   "id": "40e09a1c",
   "metadata": {},
   "outputs": [
    {
     "data": {
      "text/plain": [
       "2"
      ]
     },
     "execution_count": 10,
     "metadata": {},
     "output_type": "execute_result"
    }
   ],
   "source": [
    "y = 2"
   ]
  },
  {
   "cell_type": "code",
   "execution_count": 11,
   "id": "a4ef16e0",
   "metadata": {},
   "outputs": [
    {
     "data": {
      "text/plain": [
       "6"
      ]
     },
     "execution_count": 11,
     "metadata": {},
     "output_type": "execute_result"
    }
   ],
   "source": [
    "x + y"
   ]
  },
  {
   "cell_type": "code",
   "execution_count": 12,
   "id": "18f00146",
   "metadata": {},
   "outputs": [
    {
     "data": {
      "text/plain": [
       "2"
      ]
     },
     "execution_count": 12,
     "metadata": {},
     "output_type": "execute_result"
    }
   ],
   "source": [
    "x - y"
   ]
  },
  {
   "cell_type": "code",
   "execution_count": 13,
   "id": "7b81345c",
   "metadata": {},
   "outputs": [
    {
     "data": {
      "text/plain": [
       "8"
      ]
     },
     "execution_count": 13,
     "metadata": {},
     "output_type": "execute_result"
    }
   ],
   "source": [
    "x * y"
   ]
  },
  {
   "cell_type": "code",
   "execution_count": 14,
   "id": "cc1096aa",
   "metadata": {},
   "outputs": [
    {
     "data": {
      "text/plain": [
       "2.0"
      ]
     },
     "execution_count": 14,
     "metadata": {},
     "output_type": "execute_result"
    }
   ],
   "source": [
    "x / y"
   ]
  },
  {
   "cell_type": "code",
   "execution_count": 15,
   "id": "64fe1453",
   "metadata": {},
   "outputs": [
    {
     "data": {
      "text/plain": [
       "16"
      ]
     },
     "execution_count": 15,
     "metadata": {},
     "output_type": "execute_result"
    }
   ],
   "source": [
    "x ^ y # exponentiation"
   ]
  },
  {
   "cell_type": "code",
   "execution_count": 16,
   "id": "4977e7aa",
   "metadata": {},
   "outputs": [
    {
     "data": {
      "text/plain": [
       "0"
      ]
     },
     "execution_count": 16,
     "metadata": {},
     "output_type": "execute_result"
    }
   ],
   "source": [
    "x % y # remainder from division"
   ]
  },
  {
   "cell_type": "code",
   "execution_count": 17,
   "id": "5b80c37b",
   "metadata": {},
   "outputs": [
    {
     "data": {
      "text/plain": [
       "2"
      ]
     },
     "execution_count": 17,
     "metadata": {},
     "output_type": "execute_result"
    }
   ],
   "source": [
    "div(x, y) # truncated division returns an integer"
   ]
  },
  {
   "cell_type": "code",
   "execution_count": 18,
   "id": "12c6150f",
   "metadata": {},
   "outputs": [
    {
     "data": {
      "text/plain": [
       "5"
      ]
     },
     "execution_count": 18,
     "metadata": {},
     "output_type": "execute_result"
    }
   ],
   "source": [
    "x += 1 # is shorthand for x = x + 1"
   ]
  },
  {
   "cell_type": "code",
   "execution_count": 19,
   "id": "fe710ec4",
   "metadata": {},
   "outputs": [
    {
     "data": {
      "text/plain": [
       "false"
      ]
     },
     "execution_count": 19,
     "metadata": {},
     "output_type": "execute_result"
    }
   ],
   "source": [
    "3 > 4"
   ]
  },
  {
   "cell_type": "code",
   "execution_count": 20,
   "id": "91a19df7",
   "metadata": {},
   "outputs": [
    {
     "data": {
      "text/plain": [
       "false"
      ]
     },
     "execution_count": 20,
     "metadata": {},
     "output_type": "execute_result"
    }
   ],
   "source": [
    "3 >= 4"
   ]
  },
  {
   "cell_type": "code",
   "execution_count": 21,
   "id": "e9d5d2a5",
   "metadata": {},
   "outputs": [
    {
     "data": {
      "text/plain": [
       "false"
      ]
     },
     "execution_count": 21,
     "metadata": {},
     "output_type": "execute_result"
    }
   ],
   "source": [
    "3 ≥ 4 # unicode also works, use \\ge[tab] in console"
   ]
  },
  {
   "cell_type": "code",
   "execution_count": 22,
   "id": "b9138abc",
   "metadata": {},
   "outputs": [
    {
     "data": {
      "text/plain": [
       "true"
      ]
     },
     "execution_count": 22,
     "metadata": {},
     "output_type": "execute_result"
    }
   ],
   "source": [
    "3 < 4"
   ]
  },
  {
   "cell_type": "code",
   "execution_count": 23,
   "id": "b3286a5c",
   "metadata": {},
   "outputs": [
    {
     "data": {
      "text/plain": [
       "true"
      ]
     },
     "execution_count": 23,
     "metadata": {},
     "output_type": "execute_result"
    }
   ],
   "source": [
    "3 <= 4"
   ]
  },
  {
   "cell_type": "code",
   "execution_count": 24,
   "id": "05e3e71c",
   "metadata": {},
   "outputs": [
    {
     "data": {
      "text/plain": [
       "true"
      ]
     },
     "execution_count": 24,
     "metadata": {},
     "output_type": "execute_result"
    }
   ],
   "source": [
    "3 ≤ 4 # unicode also works, use \\le[tab] in console"
   ]
  },
  {
   "cell_type": "code",
   "execution_count": 25,
   "id": "0549783f",
   "metadata": {},
   "outputs": [
    {
     "data": {
      "text/plain": [
       "false"
      ]
     },
     "execution_count": 25,
     "metadata": {},
     "output_type": "execute_result"
    }
   ],
   "source": [
    "3 == 4"
   ]
  },
  {
   "cell_type": "code",
   "execution_count": 26,
   "id": "578bf7ab",
   "metadata": {},
   "outputs": [
    {
     "data": {
      "text/plain": [
       "true"
      ]
     },
     "execution_count": 26,
     "metadata": {},
     "output_type": "execute_result"
    }
   ],
   "source": [
    "3 < 4 < 5"
   ]
  },
  {
   "cell_type": "markdown",
   "id": "65ca80eb",
   "metadata": {},
   "source": [
    "### G.1.3 Strings\n",
    "\n",
    "A string is an array of characters. Strings are not used very much in this textbook except to report certain errors. An object of type String can be constructed using\n",
    "\" characters. For example:"
   ]
  },
  {
   "cell_type": "code",
   "execution_count": 27,
   "id": "ff01aa0a",
   "metadata": {},
   "outputs": [
    {
     "data": {
      "text/plain": [
       "\"optimal\""
      ]
     },
     "execution_count": 27,
     "metadata": {},
     "output_type": "execute_result"
    }
   ],
   "source": [
    "x = \"optimal\""
   ]
  },
  {
   "cell_type": "code",
   "execution_count": 28,
   "id": "1acfd0bf",
   "metadata": {},
   "outputs": [
    {
     "data": {
      "text/plain": [
       "String"
      ]
     },
     "execution_count": 28,
     "metadata": {},
     "output_type": "execute_result"
    }
   ],
   "source": [
    "typeof(x)"
   ]
  },
  {
   "cell_type": "markdown",
   "id": "483ef45e",
   "metadata": {},
   "source": [
    "### G.1.4 Symbols\n",
    "\n",
    "A symbol represents an identifier. \n",
    "It can be written using the : operator or constructed from strings:"
   ]
  },
  {
   "cell_type": "code",
   "execution_count": 29,
   "id": "72b3f37b",
   "metadata": {},
   "outputs": [
    {
     "data": {
      "text/plain": [
       ":A"
      ]
     },
     "execution_count": 29,
     "metadata": {},
     "output_type": "execute_result"
    }
   ],
   "source": [
    ":A"
   ]
  },
  {
   "cell_type": "code",
   "execution_count": 30,
   "id": "8dfd7c4d",
   "metadata": {},
   "outputs": [
    {
     "data": {
      "text/plain": [
       ":Battery"
      ]
     },
     "execution_count": 30,
     "metadata": {},
     "output_type": "execute_result"
    }
   ],
   "source": [
    ":Battery"
   ]
  },
  {
   "cell_type": "code",
   "execution_count": 31,
   "id": "5681278e",
   "metadata": {},
   "outputs": [
    {
     "data": {
      "text/plain": [
       ":Failure"
      ]
     },
     "execution_count": 31,
     "metadata": {},
     "output_type": "execute_result"
    }
   ],
   "source": [
    "Symbol(\"Failure\")"
   ]
  },
  {
   "cell_type": "markdown",
   "id": "ea0b6231",
   "metadata": {},
   "source": [
    "### G.1.5 Vectors\n",
    "\n",
    "A vector is a one-dimensional array that stores a sequence of values. We can construct a vector using square brackets, separating elements by commas:"
   ]
  },
  {
   "cell_type": "code",
   "execution_count": 32,
   "id": "da2edfc4",
   "metadata": {},
   "outputs": [
    {
     "data": {
      "text/plain": [
       "Any[]"
      ]
     },
     "execution_count": 32,
     "metadata": {},
     "output_type": "execute_result"
    }
   ],
   "source": [
    "x = []        # empty vector"
   ]
  },
  {
   "cell_type": "code",
   "execution_count": 33,
   "id": "75c2ffa4",
   "metadata": {},
   "outputs": [
    {
     "data": {
      "text/plain": [
       "3-element BitVector:\n",
       " 1\n",
       " 1\n",
       " 1"
      ]
     },
     "execution_count": 33,
     "metadata": {},
     "output_type": "execute_result"
    }
   ],
   "source": [
    "x = trues(3)  # Boolean vector containing three trues"
   ]
  },
  {
   "cell_type": "code",
   "execution_count": 34,
   "id": "dcbc4873",
   "metadata": {},
   "outputs": [
    {
     "data": {
      "text/plain": [
       "3-element Vector{Float64}:\n",
       " 1.0\n",
       " 1.0\n",
       " 1.0"
      ]
     },
     "execution_count": 34,
     "metadata": {},
     "output_type": "execute_result"
    }
   ],
   "source": [
    "x = ones(3)   # vector of three ones"
   ]
  },
  {
   "cell_type": "code",
   "execution_count": 35,
   "id": "a05ff66c",
   "metadata": {},
   "outputs": [
    {
     "data": {
      "text/plain": [
       "3-element Vector{Float64}:\n",
       " 0.0\n",
       " 0.0\n",
       " 0.0"
      ]
     },
     "execution_count": 35,
     "metadata": {},
     "output_type": "execute_result"
    }
   ],
   "source": [
    "x = zeros(3)  # vector of three zeros"
   ]
  },
  {
   "cell_type": "code",
   "execution_count": 36,
   "id": "62c1d75c",
   "metadata": {},
   "outputs": [
    {
     "data": {
      "text/plain": [
       "3-element Vector{Float64}:\n",
       " 0.4768367923070328\n",
       " 0.6133630603023481\n",
       " 0.17758003317972781"
      ]
     },
     "execution_count": 36,
     "metadata": {},
     "output_type": "execute_result"
    }
   ],
   "source": [
    "x = rand(3)   # vector of three random numbers between 0 and 1"
   ]
  },
  {
   "cell_type": "code",
   "execution_count": 37,
   "id": "4ec16136",
   "metadata": {},
   "outputs": [
    {
     "data": {
      "text/plain": [
       "3-element Vector{Int64}:\n",
       " 3\n",
       " 1\n",
       " 4"
      ]
     },
     "execution_count": 37,
     "metadata": {},
     "output_type": "execute_result"
    }
   ],
   "source": [
    "x = [3, 1, 4] # vector of integers"
   ]
  },
  {
   "cell_type": "code",
   "execution_count": 38,
   "id": "116f93bb",
   "metadata": {},
   "outputs": [
    {
     "data": {
      "text/plain": [
       "3-element Vector{Float64}:\n",
       " 3.1415\n",
       " 1.618\n",
       " 2.7182"
      ]
     },
     "execution_count": 38,
     "metadata": {},
     "output_type": "execute_result"
    }
   ],
   "source": [
    "x = [3.1415, 1.618, 2.7182] # vector of floats"
   ]
  },
  {
   "cell_type": "markdown",
   "id": "02078a7f",
   "metadata": {},
   "source": [
    "An array comprehension can be used to create vectors:"
   ]
  },
  {
   "cell_type": "code",
   "execution_count": 39,
   "id": "cf523cf0",
   "metadata": {},
   "outputs": [
    {
     "data": {
      "text/plain": [
       "5-element Vector{Float64}:\n",
       "  0.8414709848078965\n",
       "  0.9092974268256817\n",
       "  0.1411200080598672\n",
       " -0.7568024953079282\n",
       " -0.9589242746631385"
      ]
     },
     "execution_count": 39,
     "metadata": {},
     "output_type": "execute_result"
    }
   ],
   "source": [
    "[sin(x) for x in 1:5]"
   ]
  },
  {
   "cell_type": "markdown",
   "id": "8e70aee7",
   "metadata": {},
   "source": [
    "We can inspect the type of a vector:"
   ]
  },
  {
   "cell_type": "code",
   "execution_count": 40,
   "id": "ef4b9306",
   "metadata": {},
   "outputs": [
    {
     "data": {
      "text/plain": [
       "Vector{Int64} (alias for Array{Int64, 1})"
      ]
     },
     "execution_count": 40,
     "metadata": {},
     "output_type": "execute_result"
    }
   ],
   "source": [
    "typeof([3, 1, 4])               # 1-dimensional array of Int64s"
   ]
  },
  {
   "cell_type": "code",
   "execution_count": 41,
   "id": "1ed05604",
   "metadata": {},
   "outputs": [
    {
     "data": {
      "text/plain": [
       "Vector{Float64} (alias for Array{Float64, 1})"
      ]
     },
     "execution_count": 41,
     "metadata": {},
     "output_type": "execute_result"
    }
   ],
   "source": [
    "typeof([3.1415, 1.618, 2.7182]) # 1-dimensional array of Float64s"
   ]
  },
  {
   "cell_type": "code",
   "execution_count": 42,
   "id": "a41bf49a",
   "metadata": {},
   "outputs": [
    {
     "data": {
      "text/plain": [
       "Vector{Float64} (alias for Array{Float64, 1})"
      ]
     },
     "execution_count": 42,
     "metadata": {},
     "output_type": "execute_result"
    }
   ],
   "source": [
    "Vector{Float64}                 # alias for a 1-dimensional array"
   ]
  },
  {
   "cell_type": "markdown",
   "id": "8e15af64",
   "metadata": {},
   "source": [
    "We index into vectors using square brackets:"
   ]
  },
  {
   "cell_type": "code",
   "execution_count": 43,
   "id": "e9bdc28f",
   "metadata": {},
   "outputs": [
    {
     "data": {
      "text/plain": [
       "3.1415"
      ]
     },
     "execution_count": 43,
     "metadata": {},
     "output_type": "execute_result"
    }
   ],
   "source": [
    "x[1]        # first element is indexed by 1"
   ]
  },
  {
   "cell_type": "code",
   "execution_count": 44,
   "id": "e138fe5c",
   "metadata": {},
   "outputs": [
    {
     "data": {
      "text/plain": [
       "2.7182"
      ]
     },
     "execution_count": 44,
     "metadata": {},
     "output_type": "execute_result"
    }
   ],
   "source": [
    "x[3]        # third element"
   ]
  },
  {
   "cell_type": "code",
   "execution_count": 45,
   "id": "9334dff4",
   "metadata": {},
   "outputs": [
    {
     "data": {
      "text/plain": [
       "2.7182"
      ]
     },
     "execution_count": 45,
     "metadata": {},
     "output_type": "execute_result"
    }
   ],
   "source": [
    "x[end]      # use end to reference the end of the array"
   ]
  },
  {
   "cell_type": "code",
   "execution_count": 46,
   "id": "d793eb83",
   "metadata": {},
   "outputs": [
    {
     "data": {
      "text/plain": [
       "1.618"
      ]
     },
     "execution_count": 46,
     "metadata": {},
     "output_type": "execute_result"
    }
   ],
   "source": [
    "x[end-1]    # this returns the second to last element"
   ]
  },
  {
   "cell_type": "markdown",
   "id": "024defdc",
   "metadata": {},
   "source": [
    "We can pull out a range of elements from an array. \n",
    "Ranges are specified using a colon notation:"
   ]
  },
  {
   "cell_type": "code",
   "execution_count": 47,
   "id": "fee66112",
   "metadata": {},
   "outputs": [
    {
     "data": {
      "text/plain": [
       "7-element Vector{Int64}:\n",
       " 1\n",
       " 4\n",
       " 5\n",
       " 3\n",
       " 2\n",
       " 6\n",
       " 7"
      ]
     },
     "execution_count": 47,
     "metadata": {},
     "output_type": "execute_result"
    }
   ],
   "source": [
    "x = [1, 4, 5, 3, 2, 6, 7]"
   ]
  },
  {
   "cell_type": "code",
   "execution_count": 48,
   "id": "919ebc70",
   "metadata": {},
   "outputs": [
    {
     "data": {
      "text/plain": [
       "3-element Vector{Int64}:\n",
       " 1\n",
       " 4\n",
       " 5"
      ]
     },
     "execution_count": 48,
     "metadata": {},
     "output_type": "execute_result"
    }
   ],
   "source": [
    "x[1:3]        # pull out the first three elements"
   ]
  },
  {
   "cell_type": "code",
   "execution_count": 49,
   "id": "b234b5c1",
   "metadata": {},
   "outputs": [
    {
     "data": {
      "text/plain": [
       "4-element Vector{Int64}:\n",
       " 1\n",
       " 5\n",
       " 2\n",
       " 7"
      ]
     },
     "execution_count": 49,
     "metadata": {},
     "output_type": "execute_result"
    }
   ],
   "source": [
    "x[1:2:end]    # pull out every other element"
   ]
  },
  {
   "cell_type": "code",
   "execution_count": 50,
   "id": "4d9b5161",
   "metadata": {},
   "outputs": [
    {
     "data": {
      "text/plain": [
       "7-element Vector{Int64}:\n",
       " 7\n",
       " 6\n",
       " 2\n",
       " 3\n",
       " 5\n",
       " 4\n",
       " 1"
      ]
     },
     "execution_count": 50,
     "metadata": {},
     "output_type": "execute_result"
    }
   ],
   "source": [
    "x[end:-1:1]   # pull out all the elements in reverse order"
   ]
  },
  {
   "cell_type": "markdown",
   "id": "e7e5f8e8",
   "metadata": {},
   "source": [
    "We can perform a variety of operations on arrays.\n",
    "The exclamation mark at the end of function names is used to indicate that the function mutates (i.e., changes) the input:"
   ]
  },
  {
   "cell_type": "code",
   "execution_count": 51,
   "id": "60f00bc7",
   "metadata": {},
   "outputs": [
    {
     "data": {
      "text/plain": [
       "7"
      ]
     },
     "execution_count": 51,
     "metadata": {},
     "output_type": "execute_result"
    }
   ],
   "source": [
    "length(x)"
   ]
  },
  {
   "cell_type": "code",
   "execution_count": 52,
   "id": "c8331656",
   "metadata": {},
   "outputs": [
    {
     "data": {
      "text/plain": [
       "2-element Vector{Vector{Int64}}:\n",
       " [1, 4, 5, 3, 2, 6, 7]\n",
       " [1, 4, 5, 3, 2, 6, 7]"
      ]
     },
     "execution_count": 52,
     "metadata": {},
     "output_type": "execute_result"
    }
   ],
   "source": [
    "[x, x]        # concatenation"
   ]
  },
  {
   "cell_type": "code",
   "execution_count": 53,
   "id": "9f4f1da1",
   "metadata": {},
   "outputs": [
    {
     "data": {
      "text/plain": [
       "8-element Vector{Int64}:\n",
       "  1\n",
       "  4\n",
       "  5\n",
       "  3\n",
       "  2\n",
       "  6\n",
       "  7\n",
       " -1"
      ]
     },
     "execution_count": 53,
     "metadata": {},
     "output_type": "execute_result"
    }
   ],
   "source": [
    "push!(x, -1)  # add an element to the end"
   ]
  },
  {
   "cell_type": "code",
   "execution_count": 54,
   "id": "8189f188",
   "metadata": {},
   "outputs": [
    {
     "data": {
      "text/plain": [
       "-1"
      ]
     },
     "execution_count": 54,
     "metadata": {},
     "output_type": "execute_result"
    }
   ],
   "source": [
    "pop!(x)      # remove an element from the end"
   ]
  },
  {
   "cell_type": "code",
   "execution_count": 55,
   "id": "857bceb9",
   "metadata": {},
   "outputs": [
    {
     "data": {
      "text/plain": [
       "9-element Vector{Int64}:\n",
       " 1\n",
       " 4\n",
       " 5\n",
       " 3\n",
       " 2\n",
       " 6\n",
       " 7\n",
       " 2\n",
       " 3"
      ]
     },
     "execution_count": 55,
     "metadata": {},
     "output_type": "execute_result"
    }
   ],
   "source": [
    "append!(x, [2, 3]) # append [2, 3] to the end of x"
   ]
  },
  {
   "cell_type": "code",
   "execution_count": 56,
   "id": "6a25a2e9",
   "metadata": {},
   "outputs": [
    {
     "name": "stdout",
     "output_type": "stream",
     "text": [
      "[1, 2, 2, 3, 3, 4, 5, 6, 7][1, 4, 5, 3, 2, 6, 7, 2, 3]"
     ]
    }
   ],
   "source": [
    "print(\n",
    "    sort(x)  # sort the elements as a new vector\n",
    "    )\n",
    "print(x)"
   ]
  },
  {
   "cell_type": "code",
   "execution_count": 57,
   "id": "4caf7471",
   "metadata": {},
   "outputs": [
    {
     "data": {
      "text/plain": [
       "9-element Vector{Int64}:\n",
       " 1\n",
       " 2\n",
       " 2\n",
       " 3\n",
       " 3\n",
       " 4\n",
       " 5\n",
       " 6\n",
       " 7"
      ]
     },
     "execution_count": 57,
     "metadata": {},
     "output_type": "execute_result"
    }
   ],
   "source": [
    "sort!(x)        # sort the elements, altering the same vector"
   ]
  },
  {
   "cell_type": "code",
   "execution_count": 58,
   "id": "b8f47177",
   "metadata": {},
   "outputs": [
    {
     "name": "stdout",
     "output_type": "stream",
     "text": [
      "[2, 2, 2, 3, 3, 4, 5, 6, 7]"
     ]
    }
   ],
   "source": [
    "x[1] = 2; print(x) # change the first element to 2"
   ]
  },
  {
   "cell_type": "code",
   "execution_count": 59,
   "id": "9a53f348",
   "metadata": {},
   "outputs": [
    {
     "data": {
      "text/plain": [
       "2-element Vector{Int64}:\n",
       " 4\n",
       " 6"
      ]
     },
     "execution_count": 59,
     "metadata": {},
     "output_type": "execute_result"
    }
   ],
   "source": [
    "x = [1, 2]; y = [3, 4]; x + y  # add vectors"
   ]
  },
  {
   "cell_type": "code",
   "execution_count": 60,
   "id": "0c16514d",
   "metadata": {},
   "outputs": [
    {
     "data": {
      "image/svg+xml": [
       "<?xml version=\"1.0\" encoding=\"utf-8\"?>\n",
       "<svg xmlns=\"http://www.w3.org/2000/svg\" xmlns:xlink=\"http://www.w3.org/1999/xlink\" width=\"600\" height=\"400\" viewBox=\"0 0 2400 1600\">\n",
       "<defs>\n",
       "  <clipPath id=\"clip960\">\n",
       "    <rect x=\"0\" y=\"0\" width=\"2400\" height=\"1600\"/>\n",
       "  </clipPath>\n",
       "</defs>\n",
       "<path clip-path=\"url(#clip960)\" d=\"\n",
       "M0 1600 L2400 1600 L2400 0 L0 0  Z\n",
       "  \" fill=\"#ffffff\" fill-rule=\"evenodd\" fill-opacity=\"1\"/>\n",
       "<defs>\n",
       "  <clipPath id=\"clip961\">\n",
       "    <rect x=\"480\" y=\"0\" width=\"1681\" height=\"1600\"/>\n",
       "  </clipPath>\n",
       "</defs>\n",
       "<path clip-path=\"url(#clip960)\" d=\"\n",
       "M112.177 1486.45 L2352.76 1486.45 L2352.76 123.472 L112.177 123.472  Z\n",
       "  \" fill=\"#ffffff\" fill-rule=\"evenodd\" fill-opacity=\"1\"/>\n",
       "<defs>\n",
       "  <clipPath id=\"clip962\">\n",
       "    <rect x=\"112\" y=\"123\" width=\"2242\" height=\"1364\"/>\n",
       "  </clipPath>\n",
       "</defs>\n",
       "<polyline clip-path=\"url(#clip962)\" style=\"stroke:#000000; stroke-linecap:butt; stroke-linejoin:round; stroke-width:2; stroke-opacity:0.1; fill:none\" points=\"\n",
       "  175.59,1486.45 175.59,123.472 \n",
       "  \"/>\n",
       "<polyline clip-path=\"url(#clip962)\" style=\"stroke:#000000; stroke-linecap:butt; stroke-linejoin:round; stroke-width:2; stroke-opacity:0.1; fill:none\" points=\"\n",
       "  880.174,1486.45 880.174,123.472 \n",
       "  \"/>\n",
       "<polyline clip-path=\"url(#clip962)\" style=\"stroke:#000000; stroke-linecap:butt; stroke-linejoin:round; stroke-width:2; stroke-opacity:0.1; fill:none\" points=\"\n",
       "  1584.76,1486.45 1584.76,123.472 \n",
       "  \"/>\n",
       "<polyline clip-path=\"url(#clip962)\" style=\"stroke:#000000; stroke-linecap:butt; stroke-linejoin:round; stroke-width:2; stroke-opacity:0.1; fill:none\" points=\"\n",
       "  2289.34,1486.45 2289.34,123.472 \n",
       "  \"/>\n",
       "<polyline clip-path=\"url(#clip960)\" style=\"stroke:#000000; stroke-linecap:butt; stroke-linejoin:round; stroke-width:4; stroke-opacity:1; fill:none\" points=\"\n",
       "  112.177,1486.45 2352.76,1486.45 \n",
       "  \"/>\n",
       "<polyline clip-path=\"url(#clip960)\" style=\"stroke:#000000; stroke-linecap:butt; stroke-linejoin:round; stroke-width:4; stroke-opacity:1; fill:none\" points=\"\n",
       "  175.59,1486.45 175.59,1467.55 \n",
       "  \"/>\n",
       "<polyline clip-path=\"url(#clip960)\" style=\"stroke:#000000; stroke-linecap:butt; stroke-linejoin:round; stroke-width:4; stroke-opacity:1; fill:none\" points=\"\n",
       "  880.174,1486.45 880.174,1467.55 \n",
       "  \"/>\n",
       "<polyline clip-path=\"url(#clip960)\" style=\"stroke:#000000; stroke-linecap:butt; stroke-linejoin:round; stroke-width:4; stroke-opacity:1; fill:none\" points=\"\n",
       "  1584.76,1486.45 1584.76,1467.55 \n",
       "  \"/>\n",
       "<polyline clip-path=\"url(#clip960)\" style=\"stroke:#000000; stroke-linecap:butt; stroke-linejoin:round; stroke-width:4; stroke-opacity:1; fill:none\" points=\"\n",
       "  2289.34,1486.45 2289.34,1467.55 \n",
       "  \"/>\n",
       "<path clip-path=\"url(#clip960)\" d=\"M175.59 1517.37 Q171.979 1517.37 170.15 1520.93 Q168.344 1524.47 168.344 1531.6 Q168.344 1538.71 170.15 1542.27 Q171.979 1545.82 175.59 1545.82 Q179.224 1545.82 181.03 1542.27 Q182.858 1538.71 182.858 1531.6 Q182.858 1524.47 181.03 1520.93 Q179.224 1517.37 175.59 1517.37 M175.59 1513.66 Q181.4 1513.66 184.455 1518.27 Q187.534 1522.85 187.534 1531.6 Q187.534 1540.33 184.455 1544.94 Q181.4 1549.52 175.59 1549.52 Q169.78 1549.52 166.701 1544.94 Q163.645 1540.33 163.645 1531.6 Q163.645 1522.85 166.701 1518.27 Q169.78 1513.66 175.59 1513.66 Z\" fill=\"#000000\" fill-rule=\"evenodd\" fill-opacity=\"1\" /><path clip-path=\"url(#clip960)\" d=\"M870.556 1544.91 L878.195 1544.91 L878.195 1518.55 L869.885 1520.21 L869.885 1515.95 L878.149 1514.29 L882.825 1514.29 L882.825 1544.91 L890.464 1544.91 L890.464 1548.85 L870.556 1548.85 L870.556 1544.91 Z\" fill=\"#000000\" fill-rule=\"evenodd\" fill-opacity=\"1\" /><path clip-path=\"url(#clip960)\" d=\"M1579.41 1544.91 L1595.73 1544.91 L1595.73 1548.85 L1573.79 1548.85 L1573.79 1544.91 Q1576.45 1542.16 1581.03 1537.53 Q1585.64 1532.88 1586.82 1531.53 Q1589.06 1529.01 1589.94 1527.27 Q1590.85 1525.51 1590.85 1523.82 Q1590.85 1521.07 1588.9 1519.33 Q1586.98 1517.6 1583.88 1517.6 Q1581.68 1517.6 1579.23 1518.36 Q1576.8 1519.13 1574.02 1520.68 L1574.02 1515.95 Q1576.84 1514.82 1579.3 1514.24 Q1581.75 1513.66 1583.79 1513.66 Q1589.16 1513.66 1592.35 1516.35 Q1595.55 1519.03 1595.55 1523.52 Q1595.55 1525.65 1594.74 1527.57 Q1593.95 1529.47 1591.84 1532.07 Q1591.26 1532.74 1588.16 1535.95 Q1585.06 1539.15 1579.41 1544.91 Z\" fill=\"#000000\" fill-rule=\"evenodd\" fill-opacity=\"1\" /><path clip-path=\"url(#clip960)\" d=\"M2293.59 1530.21 Q2296.95 1530.93 2298.82 1533.2 Q2300.72 1535.47 2300.72 1538.8 Q2300.72 1543.92 2297.2 1546.72 Q2293.68 1549.52 2287.2 1549.52 Q2285.03 1549.52 2282.71 1549.08 Q2280.42 1548.66 2277.97 1547.81 L2277.97 1543.29 Q2279.91 1544.43 2282.23 1545.01 Q2284.54 1545.58 2287.06 1545.58 Q2291.46 1545.58 2293.75 1543.85 Q2296.07 1542.11 2296.07 1538.8 Q2296.07 1535.75 2293.92 1534.03 Q2291.79 1532.3 2287.97 1532.3 L2283.94 1532.3 L2283.94 1528.45 L2288.15 1528.45 Q2291.6 1528.45 2293.43 1527.09 Q2295.26 1525.7 2295.26 1523.11 Q2295.26 1520.45 2293.36 1519.03 Q2291.48 1517.6 2287.97 1517.6 Q2286.04 1517.6 2283.85 1518.01 Q2281.65 1518.43 2279.01 1519.31 L2279.01 1515.14 Q2281.67 1514.4 2283.98 1514.03 Q2286.32 1513.66 2288.38 1513.66 Q2293.71 1513.66 2296.81 1516.09 Q2299.91 1518.5 2299.91 1522.62 Q2299.91 1525.49 2298.27 1527.48 Q2296.62 1529.45 2293.59 1530.21 Z\" fill=\"#000000\" fill-rule=\"evenodd\" fill-opacity=\"1\" /><polyline clip-path=\"url(#clip962)\" style=\"stroke:#000000; stroke-linecap:butt; stroke-linejoin:round; stroke-width:2; stroke-opacity:0.1; fill:none\" points=\"\n",
       "  112.177,1447.87 2352.76,1447.87 \n",
       "  \"/>\n",
       "<polyline clip-path=\"url(#clip962)\" style=\"stroke:#000000; stroke-linecap:butt; stroke-linejoin:round; stroke-width:2; stroke-opacity:0.1; fill:none\" points=\"\n",
       "  112.177,1126.42 2352.76,1126.42 \n",
       "  \"/>\n",
       "<polyline clip-path=\"url(#clip962)\" style=\"stroke:#000000; stroke-linecap:butt; stroke-linejoin:round; stroke-width:2; stroke-opacity:0.1; fill:none\" points=\"\n",
       "  112.177,804.96 2352.76,804.96 \n",
       "  \"/>\n",
       "<polyline clip-path=\"url(#clip962)\" style=\"stroke:#000000; stroke-linecap:butt; stroke-linejoin:round; stroke-width:2; stroke-opacity:0.1; fill:none\" points=\"\n",
       "  112.177,483.503 2352.76,483.503 \n",
       "  \"/>\n",
       "<polyline clip-path=\"url(#clip962)\" style=\"stroke:#000000; stroke-linecap:butt; stroke-linejoin:round; stroke-width:2; stroke-opacity:0.1; fill:none\" points=\"\n",
       "  112.177,162.047 2352.76,162.047 \n",
       "  \"/>\n",
       "<polyline clip-path=\"url(#clip960)\" style=\"stroke:#000000; stroke-linecap:butt; stroke-linejoin:round; stroke-width:4; stroke-opacity:1; fill:none\" points=\"\n",
       "  112.177,1486.45 112.177,123.472 \n",
       "  \"/>\n",
       "<polyline clip-path=\"url(#clip960)\" style=\"stroke:#000000; stroke-linecap:butt; stroke-linejoin:round; stroke-width:4; stroke-opacity:1; fill:none\" points=\"\n",
       "  112.177,1447.87 131.075,1447.87 \n",
       "  \"/>\n",
       "<polyline clip-path=\"url(#clip960)\" style=\"stroke:#000000; stroke-linecap:butt; stroke-linejoin:round; stroke-width:4; stroke-opacity:1; fill:none\" points=\"\n",
       "  112.177,1126.42 131.075,1126.42 \n",
       "  \"/>\n",
       "<polyline clip-path=\"url(#clip960)\" style=\"stroke:#000000; stroke-linecap:butt; stroke-linejoin:round; stroke-width:4; stroke-opacity:1; fill:none\" points=\"\n",
       "  112.177,804.96 131.075,804.96 \n",
       "  \"/>\n",
       "<polyline clip-path=\"url(#clip960)\" style=\"stroke:#000000; stroke-linecap:butt; stroke-linejoin:round; stroke-width:4; stroke-opacity:1; fill:none\" points=\"\n",
       "  112.177,483.503 131.075,483.503 \n",
       "  \"/>\n",
       "<polyline clip-path=\"url(#clip960)\" style=\"stroke:#000000; stroke-linecap:butt; stroke-linejoin:round; stroke-width:4; stroke-opacity:1; fill:none\" points=\"\n",
       "  112.177,162.047 131.075,162.047 \n",
       "  \"/>\n",
       "<path clip-path=\"url(#clip960)\" d=\"M64.2328 1433.67 Q60.6217 1433.67 58.793 1437.24 Q56.9875 1440.78 56.9875 1447.91 Q56.9875 1455.01 58.793 1458.58 Q60.6217 1462.12 64.2328 1462.12 Q67.867 1462.12 69.6726 1458.58 Q71.5013 1455.01 71.5013 1447.91 Q71.5013 1440.78 69.6726 1437.24 Q67.867 1433.67 64.2328 1433.67 M64.2328 1429.97 Q70.0429 1429.97 73.0985 1434.57 Q76.1772 1439.16 76.1772 1447.91 Q76.1772 1456.63 73.0985 1461.24 Q70.0429 1465.82 64.2328 1465.82 Q58.4226 1465.82 55.344 1461.24 Q52.2884 1456.63 52.2884 1447.91 Q52.2884 1439.16 55.344 1434.57 Q58.4226 1429.97 64.2328 1429.97 Z\" fill=\"#000000\" fill-rule=\"evenodd\" fill-opacity=\"1\" /><path clip-path=\"url(#clip960)\" d=\"M56.2699 1139.76 L63.9087 1139.76 L63.9087 1113.4 L55.5986 1115.06 L55.5986 1110.8 L63.8624 1109.14 L68.5383 1109.14 L68.5383 1139.76 L76.1772 1139.76 L76.1772 1143.7 L56.2699 1143.7 L56.2699 1139.76 Z\" fill=\"#000000\" fill-rule=\"evenodd\" fill-opacity=\"1\" /><path clip-path=\"url(#clip960)\" d=\"M59.8578 818.305 L76.1772 818.305 L76.1772 822.24 L54.2328 822.24 L54.2328 818.305 Q56.8949 815.55 61.4782 810.921 Q66.0846 806.268 67.2652 804.925 Q69.5105 802.402 70.3902 800.666 Q71.2929 798.907 71.2929 797.217 Q71.2929 794.462 69.3485 792.726 Q67.4272 790.99 64.3254 790.99 Q62.1263 790.99 59.6726 791.754 Q57.2421 792.518 54.4643 794.069 L54.4643 789.347 Q57.2884 788.212 59.7421 787.634 Q62.1958 787.055 64.2328 787.055 Q69.6031 787.055 72.7976 789.74 Q75.992 792.425 75.992 796.916 Q75.992 799.046 75.1818 800.967 Q74.3948 802.865 72.2883 805.458 Q71.7096 806.129 68.6078 809.347 Q65.5059 812.541 59.8578 818.305 Z\" fill=\"#000000\" fill-rule=\"evenodd\" fill-opacity=\"1\" /><path clip-path=\"url(#clip960)\" d=\"M69.0476 482.149 Q72.404 482.867 74.279 485.135 Q76.1772 487.404 76.1772 490.737 Q76.1772 495.853 72.6587 498.654 Q69.1402 501.455 62.6587 501.455 Q60.4828 501.455 58.168 501.015 Q55.8764 500.598 53.4227 499.742 L53.4227 495.228 Q55.3671 496.362 57.6819 496.941 Q59.9967 497.52 62.5198 497.52 Q66.918 497.52 69.2096 495.783 Q71.5244 494.047 71.5244 490.737 Q71.5244 487.682 69.3717 485.969 Q67.242 484.233 63.4226 484.233 L59.3949 484.233 L59.3949 480.39 L63.6078 480.39 Q67.0569 480.39 68.8855 479.024 Q70.7142 477.635 70.7142 475.043 Q70.7142 472.381 68.8161 470.969 Q66.9411 469.534 63.4226 469.534 Q61.5013 469.534 59.3023 469.95 Q57.1032 470.367 54.4643 471.247 L54.4643 467.08 Q57.1264 466.339 59.4412 465.969 Q61.7791 465.598 63.8393 465.598 Q69.1633 465.598 72.2652 468.029 Q75.367 470.436 75.367 474.557 Q75.367 477.427 73.7235 479.418 Q72.08 481.385 69.0476 482.149 Z\" fill=\"#000000\" fill-rule=\"evenodd\" fill-opacity=\"1\" /><path clip-path=\"url(#clip960)\" d=\"M66.5939 148.841 L54.7884 167.29 L66.5939 167.29 L66.5939 148.841 M65.367 144.767 L71.2466 144.767 L71.2466 167.29 L76.1772 167.29 L76.1772 171.179 L71.2466 171.179 L71.2466 179.327 L66.5939 179.327 L66.5939 171.179 L50.9921 171.179 L50.9921 166.665 L65.367 144.767 Z\" fill=\"#000000\" fill-rule=\"evenodd\" fill-opacity=\"1\" /><path clip-path=\"url(#clip960)\" d=\"M848.805 12.096 L899.968 12.096 L899.968 18.9825 L878.499 18.9825 L878.499 72.576 L870.275 72.576 L870.275 18.9825 L848.805 18.9825 L848.805 12.096 Z\" fill=\"#000000\" fill-rule=\"evenodd\" fill-opacity=\"1\" /><path clip-path=\"url(#clip960)\" d=\"M889.476 27.2059 L896.93 27.2059 L906.247 62.6108 L915.524 27.2059 L924.314 27.2059 L933.631 62.6108 L942.908 27.2059 L950.362 27.2059 L938.492 72.576 L929.702 72.576 L919.939 35.3887 L910.136 72.576 L901.346 72.576 L889.476 27.2059 Z\" fill=\"#000000\" fill-rule=\"evenodd\" fill-opacity=\"1\" /><path clip-path=\"url(#clip960)\" d=\"M979.245 32.4315 Q973.249 32.4315 969.765 37.1306 Q966.282 41.7891 966.282 49.9314 Q966.282 58.0738 969.725 62.7728 Q973.209 67.4314 979.245 67.4314 Q985.199 67.4314 988.683 62.7323 Q992.167 58.0333 992.167 49.9314 Q992.167 41.8701 988.683 37.1711 Q985.199 32.4315 979.245 32.4315 M979.245 26.1121 Q988.967 26.1121 994.516 32.4315 Q1000.07 38.7509 1000.07 49.9314 Q1000.07 61.0714 994.516 67.4314 Q988.967 73.7508 979.245 73.7508 Q969.482 73.7508 963.932 67.4314 Q958.423 61.0714 958.423 49.9314 Q958.423 38.7509 963.932 32.4315 Q969.482 26.1121 979.245 26.1121 Z\" fill=\"#000000\" fill-rule=\"evenodd\" fill-opacity=\"1\" /><path clip-path=\"url(#clip960)\" d=\"M1065.08 34.1734 Q1063.83 33.4443 1062.33 33.1202 Q1060.87 32.7556 1059.09 32.7556 Q1052.77 32.7556 1049.37 36.8875 Q1046 40.9789 1046 48.6757 L1046 72.576 L1038.51 72.576 L1038.51 27.2059 L1046 27.2059 L1046 34.2544 Q1048.35 30.1225 1052.12 28.1376 Q1055.89 26.1121 1061.28 26.1121 Q1062.05 26.1121 1062.98 26.2337 Q1063.91 26.3147 1065.04 26.5172 L1065.08 34.1734 Z\" fill=\"#000000\" fill-rule=\"evenodd\" fill-opacity=\"1\" /><path clip-path=\"url(#clip960)\" d=\"M1093.52 49.7694 Q1084.49 49.7694 1081 51.8354 Q1077.52 53.9013 1077.52 58.8839 Q1077.52 62.8538 1080.11 65.2034 Q1082.75 67.5124 1087.24 67.5124 Q1093.44 67.5124 1097.17 63.1374 Q1100.93 58.7219 1100.93 51.4303 L1100.93 49.7694 L1093.52 49.7694 M1108.39 46.6907 L1108.39 72.576 L1100.93 72.576 L1100.93 65.6895 Q1098.38 69.8214 1094.57 71.8063 Q1090.77 73.7508 1085.26 73.7508 Q1078.29 73.7508 1074.16 69.8619 Q1070.07 65.9325 1070.07 59.3701 Q1070.07 51.7138 1075.17 47.825 Q1080.31 43.9361 1090.48 43.9361 L1100.93 43.9361 L1100.93 43.2069 Q1100.93 38.0623 1097.53 35.2672 Q1094.17 32.4315 1088.05 32.4315 Q1084.16 32.4315 1080.48 33.3632 Q1076.79 34.295 1073.39 36.1584 L1073.39 29.2718 Q1077.48 27.692 1081.33 26.9223 Q1085.18 26.1121 1088.82 26.1121 Q1098.67 26.1121 1103.53 31.2163 Q1108.39 36.3204 1108.39 46.6907 Z\" fill=\"#000000\" fill-rule=\"evenodd\" fill-opacity=\"1\" /><path clip-path=\"url(#clip960)\" d=\"M1153.6 34.0924 L1153.6 9.54393 L1161.05 9.54393 L1161.05 72.576 L1153.6 72.576 L1153.6 65.7705 Q1151.25 69.8214 1147.64 71.8063 Q1144.08 73.7508 1139.05 73.7508 Q1130.83 73.7508 1125.64 67.1883 Q1120.5 60.6258 1120.5 49.9314 Q1120.5 39.2371 1125.64 32.6746 Q1130.83 26.1121 1139.05 26.1121 Q1144.08 26.1121 1147.64 28.0971 Q1151.25 30.0415 1153.6 34.0924 M1128.2 49.9314 Q1128.2 58.1548 1131.56 62.8538 Q1134.96 67.5124 1140.88 67.5124 Q1146.79 67.5124 1150.19 62.8538 Q1153.6 58.1548 1153.6 49.9314 Q1153.6 41.7081 1150.19 37.0496 Q1146.79 32.3505 1140.88 32.3505 Q1134.96 32.3505 1131.56 37.0496 Q1128.2 41.7081 1128.2 49.9314 Z\" fill=\"#000000\" fill-rule=\"evenodd\" fill-opacity=\"1\" /><path clip-path=\"url(#clip960)\" d=\"M1176.4 27.2059 L1183.86 27.2059 L1183.86 72.576 L1176.4 72.576 L1176.4 27.2059 M1176.4 9.54393 L1183.86 9.54393 L1183.86 18.9825 L1176.4 18.9825 L1176.4 9.54393 Z\" fill=\"#000000\" fill-rule=\"evenodd\" fill-opacity=\"1\" /><path clip-path=\"url(#clip960)\" d=\"M1198.68 54.671 L1198.68 27.2059 L1206.14 27.2059 L1206.14 54.3874 Q1206.14 60.8284 1208.65 64.0691 Q1211.16 67.2693 1216.18 67.2693 Q1222.22 67.2693 1225.7 63.421 Q1229.23 59.5726 1229.23 52.9291 L1229.23 27.2059 L1236.68 27.2059 L1236.68 72.576 L1229.23 72.576 L1229.23 65.6084 Q1226.51 69.7404 1222.91 71.7658 Q1219.34 73.7508 1214.6 73.7508 Q1206.78 73.7508 1202.73 68.8897 Q1198.68 64.0286 1198.68 54.671 M1217.44 26.1121 L1217.44 26.1121 Z\" fill=\"#000000\" fill-rule=\"evenodd\" fill-opacity=\"1\" /><path clip-path=\"url(#clip960)\" d=\"M1280.96 28.5427 L1280.96 35.5912 Q1277.8 33.9709 1274.39 33.1607 Q1270.99 32.3505 1267.34 32.3505 Q1261.8 32.3505 1259 34.0519 Q1256.25 35.7533 1256.25 39.156 Q1256.25 41.7486 1258.23 43.2475 Q1260.22 44.7058 1266.21 46.0426 L1268.76 46.6097 Q1276.7 48.3111 1280.02 51.4303 Q1283.39 54.509 1283.39 60.0587 Q1283.39 66.3781 1278.36 70.0644 Q1273.38 73.7508 1264.63 73.7508 Q1260.98 73.7508 1257.02 73.0216 Q1253.09 72.3329 1248.71 70.9151 L1248.71 63.2184 Q1252.84 65.3654 1256.85 66.4591 Q1260.86 67.5124 1264.79 67.5124 Q1270.06 67.5124 1272.89 65.73 Q1275.73 63.9071 1275.73 60.6258 Q1275.73 57.5877 1273.66 55.9673 Q1271.64 54.3469 1264.71 52.8481 L1262.12 52.2405 Q1255.19 50.7821 1252.11 47.7845 Q1249.03 44.7463 1249.03 39.4801 Q1249.03 33.0797 1253.57 29.5959 Q1258.11 26.1121 1266.45 26.1121 Q1270.59 26.1121 1274.23 26.7198 Q1277.88 27.3274 1280.96 28.5427 Z\" fill=\"#000000\" fill-rule=\"evenodd\" fill-opacity=\"1\" /><path clip-path=\"url(#clip960)\" d=\"M1316.28 27.2059 L1324.18 27.2059 L1338.36 65.2844 L1352.54 27.2059 L1360.43 27.2059 L1343.42 72.576 L1333.29 72.576 L1316.28 27.2059 Z\" fill=\"#000000\" fill-rule=\"evenodd\" fill-opacity=\"1\" /><path clip-path=\"url(#clip960)\" d=\"M1409.53 48.0275 L1409.53 51.6733 L1375.26 51.6733 Q1375.75 59.3701 1379.88 63.421 Q1384.05 67.4314 1391.46 67.4314 Q1395.76 67.4314 1399.77 66.3781 Q1403.82 65.3249 1407.79 63.2184 L1407.79 70.267 Q1403.78 71.9684 1399.57 72.8596 Q1395.35 73.7508 1391.02 73.7508 Q1380.16 73.7508 1373.8 67.4314 Q1367.48 61.1119 1367.48 50.3365 Q1367.48 39.1965 1373.48 32.6746 Q1379.51 26.1121 1389.72 26.1121 Q1398.88 26.1121 1404.18 32.0264 Q1409.53 37.9003 1409.53 48.0275 M1402.08 45.84 Q1402 39.7232 1398.63 36.0774 Q1395.31 32.4315 1389.8 32.4315 Q1383.57 32.4315 1379.8 35.9558 Q1376.07 39.4801 1375.5 45.8805 L1402.08 45.84 Z\" fill=\"#000000\" fill-rule=\"evenodd\" fill-opacity=\"1\" /><path clip-path=\"url(#clip960)\" d=\"M1454.42 28.9478 L1454.42 35.9153 Q1451.26 34.1734 1448.06 33.3227 Q1444.9 32.4315 1441.66 32.4315 Q1434.4 32.4315 1430.39 37.0496 Q1426.38 41.6271 1426.38 49.9314 Q1426.38 58.2358 1430.39 62.8538 Q1434.4 67.4314 1441.66 67.4314 Q1444.9 67.4314 1448.06 66.5807 Q1451.26 65.6895 1454.42 63.9476 L1454.42 70.8341 Q1451.3 72.2924 1447.93 73.0216 Q1444.61 73.7508 1440.85 73.7508 Q1430.6 73.7508 1424.56 67.3098 Q1418.52 60.8689 1418.52 49.9314 Q1418.52 38.832 1424.6 32.472 Q1430.72 26.1121 1441.33 26.1121 Q1444.77 26.1121 1448.06 26.8413 Q1451.34 27.5299 1454.42 28.9478 Z\" fill=\"#000000\" fill-rule=\"evenodd\" fill-opacity=\"1\" /><path clip-path=\"url(#clip960)\" d=\"M1474.75 14.324 L1474.75 27.2059 L1490.1 27.2059 L1490.1 32.9987 L1474.75 32.9987 L1474.75 57.6282 Q1474.75 63.1779 1476.25 64.7578 Q1477.79 66.3376 1482.45 66.3376 L1490.1 66.3376 L1490.1 72.576 L1482.45 72.576 Q1473.82 72.576 1470.54 69.3758 Q1467.26 66.1351 1467.26 57.6282 L1467.26 32.9987 L1461.79 32.9987 L1461.79 27.2059 L1467.26 27.2059 L1467.26 14.324 L1474.75 14.324 Z\" fill=\"#000000\" fill-rule=\"evenodd\" fill-opacity=\"1\" /><path clip-path=\"url(#clip960)\" d=\"M1517.49 32.4315 Q1511.49 32.4315 1508.01 37.1306 Q1504.53 41.7891 1504.53 49.9314 Q1504.53 58.0738 1507.97 62.7728 Q1511.45 67.4314 1517.49 67.4314 Q1523.44 67.4314 1526.93 62.7323 Q1530.41 58.0333 1530.41 49.9314 Q1530.41 41.8701 1526.93 37.1711 Q1523.44 32.4315 1517.49 32.4315 M1517.49 26.1121 Q1527.21 26.1121 1532.76 32.4315 Q1538.31 38.7509 1538.31 49.9314 Q1538.31 61.0714 1532.76 67.4314 Q1527.21 73.7508 1517.49 73.7508 Q1507.73 73.7508 1502.18 67.4314 Q1496.67 61.0714 1496.67 49.9314 Q1496.67 38.7509 1502.18 32.4315 Q1507.73 26.1121 1517.49 26.1121 Z\" fill=\"#000000\" fill-rule=\"evenodd\" fill-opacity=\"1\" /><path clip-path=\"url(#clip960)\" d=\"M1576.96 34.1734 Q1575.7 33.4443 1574.2 33.1202 Q1572.74 32.7556 1570.96 32.7556 Q1564.64 32.7556 1561.24 36.8875 Q1557.88 40.9789 1557.88 48.6757 L1557.88 72.576 L1550.38 72.576 L1550.38 27.2059 L1557.88 27.2059 L1557.88 34.2544 Q1560.23 30.1225 1563.99 28.1376 Q1567.76 26.1121 1573.15 26.1121 Q1573.92 26.1121 1574.85 26.2337 Q1575.78 26.3147 1576.91 26.5172 L1576.96 34.1734 Z\" fill=\"#000000\" fill-rule=\"evenodd\" fill-opacity=\"1\" /><path clip-path=\"url(#clip960)\" d=\"M1613.7 28.5427 L1613.7 35.5912 Q1610.54 33.9709 1607.13 33.1607 Q1603.73 32.3505 1600.09 32.3505 Q1594.54 32.3505 1591.74 34.0519 Q1588.99 35.7533 1588.99 39.156 Q1588.99 41.7486 1590.97 43.2475 Q1592.96 44.7058 1598.95 46.0426 L1601.5 46.6097 Q1609.44 48.3111 1612.77 51.4303 Q1616.13 54.509 1616.13 60.0587 Q1616.13 66.3781 1611.1 70.0644 Q1606.12 73.7508 1597.37 73.7508 Q1593.73 73.7508 1589.76 73.0216 Q1585.83 72.3329 1581.45 70.9151 L1581.45 63.2184 Q1585.58 65.3654 1589.59 66.4591 Q1593.6 67.5124 1597.53 67.5124 Q1602.8 67.5124 1605.64 65.73 Q1608.47 63.9071 1608.47 60.6258 Q1608.47 57.5877 1606.41 55.9673 Q1604.38 54.3469 1597.45 52.8481 L1594.86 52.2405 Q1587.93 50.7821 1584.85 47.7845 Q1581.78 44.7463 1581.78 39.4801 Q1581.78 33.0797 1586.31 29.5959 Q1590.85 26.1121 1599.19 26.1121 Q1603.33 26.1121 1606.97 26.7198 Q1610.62 27.3274 1613.7 28.5427 Z\" fill=\"#000000\" fill-rule=\"evenodd\" fill-opacity=\"1\" /><polyline clip-path=\"url(#clip962)\" style=\"stroke:#009af9; stroke-linecap:butt; stroke-linejoin:round; stroke-width:12; stroke-opacity:1; fill:none\" points=\"\n",
       "  175.59,1447.87 880.174,804.96 \n",
       "  \"/>\n",
       "<polyline clip-path=\"url(#clip962)\" style=\"stroke:#e26f46; stroke-linecap:butt; stroke-linejoin:round; stroke-width:12; stroke-opacity:1; fill:none\" points=\"\n",
       "  175.59,1447.87 2289.34,162.047 \n",
       "  \"/>\n",
       "<path clip-path=\"url(#clip960)\" d=\"\n",
       "M2003.89 324.425 L2278.07 324.425 L2278.07 168.905 L2003.89 168.905  Z\n",
       "  \" fill=\"#ffffff\" fill-rule=\"evenodd\" fill-opacity=\"1\"/>\n",
       "<polyline clip-path=\"url(#clip960)\" style=\"stroke:#000000; stroke-linecap:butt; stroke-linejoin:round; stroke-width:4; stroke-opacity:1; fill:none\" points=\"\n",
       "  2003.89,324.425 2278.07,324.425 2278.07,168.905 2003.89,168.905 2003.89,324.425 \n",
       "  \"/>\n",
       "<polyline clip-path=\"url(#clip960)\" style=\"stroke:#009af9; stroke-linecap:butt; stroke-linejoin:round; stroke-width:4; stroke-opacity:1; fill:none\" points=\"\n",
       "  2028.78,220.745 2178.15,220.745 \n",
       "  \"/>\n",
       "<path clip-path=\"url(#clip960)\" d=\"M2227.7 212.099 L2218.33 224.715 L2228.19 238.025 L2223.16 238.025 L2215.62 227.84 L2208.07 238.025 L2203.05 238.025 L2213.12 224.46 L2203.9 212.099 L2208.93 212.099 L2215.8 221.335 L2222.68 212.099 L2227.7 212.099 Z\" fill=\"#000000\" fill-rule=\"evenodd\" fill-opacity=\"1\" /><polyline clip-path=\"url(#clip960)\" style=\"stroke:#e26f46; stroke-linecap:butt; stroke-linejoin:round; stroke-width:4; stroke-opacity:1; fill:none\" points=\"\n",
       "  2028.78,272.585 2178.15,272.585 \n",
       "  \"/>\n",
       "<path clip-path=\"url(#clip960)\" d=\"M2216.89 292.272 Q2215.08 296.902 2213.37 298.314 Q2211.66 299.726 2208.79 299.726 L2205.39 299.726 L2205.39 296.161 L2207.89 296.161 Q2209.65 296.161 2210.62 295.328 Q2211.59 294.494 2212.77 291.392 L2213.53 289.448 L2203.05 263.939 L2207.56 263.939 L2215.66 284.217 L2223.77 263.939 L2228.28 263.939 L2216.89 292.272 Z\" fill=\"#000000\" fill-rule=\"evenodd\" fill-opacity=\"1\" /></svg>\n"
      ]
     },
     "execution_count": 60,
     "metadata": {},
     "output_type": "execute_result"
    }
   ],
   "source": [
    "using Plots\n",
    "\n",
    "# https://docs.juliaplots.org/latest/tutorial/\n",
    "plot([0 0.; 1 3],[0 0.; 2 4], \n",
    "    title = \"Two radius vectors\", label = [\"x\" \"y\"], lw = 3)\n",
    "#savefig(\"myplot.png\") "
   ]
  },
  {
   "cell_type": "code",
   "execution_count": 61,
   "id": "80bbe0fd",
   "metadata": {},
   "outputs": [
    {
     "data": {
      "text/plain": [
       "2-element Vector{Int64}:\n",
       " 2\n",
       " 4"
      ]
     },
     "execution_count": 61,
     "metadata": {},
     "output_type": "execute_result"
    }
   ],
   "source": [
    "3x - [1, 2]    # multiply by a scalar and subtract"
   ]
  },
  {
   "cell_type": "code",
   "execution_count": 62,
   "id": "ef17eda0",
   "metadata": {},
   "outputs": [],
   "source": [
    "using LinearAlgebra"
   ]
  },
  {
   "cell_type": "code",
   "execution_count": 63,
   "id": "2e545197",
   "metadata": {},
   "outputs": [
    {
     "data": {
      "text/plain": [
       "11"
      ]
     },
     "execution_count": 63,
     "metadata": {},
     "output_type": "execute_result"
    }
   ],
   "source": [
    "dot(x, y)    # dot product available after using LinearAlgebra"
   ]
  },
  {
   "cell_type": "code",
   "execution_count": 64,
   "id": "2101875d",
   "metadata": {},
   "outputs": [
    {
     "data": {
      "text/plain": [
       "11"
      ]
     },
     "execution_count": 64,
     "metadata": {},
     "output_type": "execute_result"
    }
   ],
   "source": [
    "x⋅y  # dot product using unicode character, use \\cdot[tab] in console"
   ]
  },
  {
   "cell_type": "code",
   "execution_count": 65,
   "id": "8c101c29",
   "metadata": {},
   "outputs": [
    {
     "data": {
      "text/plain": [
       "12"
      ]
     },
     "execution_count": 65,
     "metadata": {},
     "output_type": "execute_result"
    }
   ],
   "source": [
    "prod(y)    # product of all the elements in y"
   ]
  },
  {
   "cell_type": "markdown",
   "id": "70f87a02",
   "metadata": {},
   "source": [
    "It is often useful to apply various functions elementwise to vectors. This is a form of *broadcasting*. With infix operators (e.g., **+**, **\\***, and **^**), a dot is prefixed to indicate elementwise broadcasting. With functions like **sqrt** and **sin**, the dot is\n",
    "postfixed:"
   ]
  },
  {
   "cell_type": "code",
   "execution_count": 66,
   "id": "56d0ed79",
   "metadata": {},
   "outputs": [
    {
     "data": {
      "text/plain": [
       "2-element Vector{Int64}:\n",
       " 3\n",
       " 8"
      ]
     },
     "execution_count": 66,
     "metadata": {},
     "output_type": "execute_result"
    }
   ],
   "source": [
    "x .* y    # elementwise multiplication"
   ]
  },
  {
   "cell_type": "code",
   "execution_count": 67,
   "id": "7171bae4",
   "metadata": {},
   "outputs": [
    {
     "data": {
      "text/plain": [
       "2-element Vector{Int64}:\n",
       " 1\n",
       " 4"
      ]
     },
     "execution_count": 67,
     "metadata": {},
     "output_type": "execute_result"
    }
   ],
   "source": [
    "x .^ 2    # elementwise squaring"
   ]
  },
  {
   "cell_type": "code",
   "execution_count": 68,
   "id": "ae5a8156",
   "metadata": {},
   "outputs": [
    {
     "data": {
      "text/plain": [
       "2-element Vector{Float64}:\n",
       " 0.8414709848078965\n",
       " 0.9092974268256817"
      ]
     },
     "execution_count": 68,
     "metadata": {},
     "output_type": "execute_result"
    }
   ],
   "source": [
    "sin.(x)   # elementwise application of sin"
   ]
  },
  {
   "cell_type": "code",
   "execution_count": 69,
   "id": "8962a01a",
   "metadata": {},
   "outputs": [
    {
     "data": {
      "text/plain": [
       "2-element Vector{Float64}:\n",
       " 1.0\n",
       " 1.4142135623730951"
      ]
     },
     "execution_count": 69,
     "metadata": {},
     "output_type": "execute_result"
    }
   ],
   "source": [
    "sqrt.(x)  # elementwise application of sqrt"
   ]
  },
  {
   "cell_type": "markdown",
   "id": "b750627d",
   "metadata": {},
   "source": [
    "### G.1.6 Matrices\n",
    "\n",
    "A matrix is a two-dimensional array. Like a vector, it is constructed using square brackets. We use spaces to delimit elements in the same row and semicolons to delimit rows. We can also index into the matrix and output submatrices using ranges:"
   ]
  },
  {
   "cell_type": "code",
   "execution_count": 70,
   "id": "1305fc66",
   "metadata": {},
   "outputs": [],
   "source": [
    "X = [1 2 3; 4 5 6; 7 8 9; 10 11 12];"
   ]
  },
  {
   "cell_type": "code",
   "execution_count": 71,
   "id": "d53a7e5c",
   "metadata": {},
   "outputs": [
    {
     "data": {
      "text/plain": [
       "Matrix{Int64} (alias for Array{Int64, 2})"
      ]
     },
     "execution_count": 71,
     "metadata": {},
     "output_type": "execute_result"
    }
   ],
   "source": [
    "typeof(X)"
   ]
  },
  {
   "cell_type": "code",
   "execution_count": 72,
   "id": "c67739f2",
   "metadata": {},
   "outputs": [
    {
     "data": {
      "text/plain": [
       "7"
      ]
     },
     "execution_count": 72,
     "metadata": {},
     "output_type": "execute_result"
    }
   ],
   "source": [
    "X[3]        # second element using column-major ordering"
   ]
  },
  {
   "cell_type": "code",
   "execution_count": 73,
   "id": "4f69078a",
   "metadata": {},
   "outputs": [
    {
     "data": {
      "text/plain": [
       "8"
      ]
     },
     "execution_count": 73,
     "metadata": {},
     "output_type": "execute_result"
    }
   ],
   "source": [
    "X[3,2]      # element in third row and second column"
   ]
  },
  {
   "cell_type": "code",
   "execution_count": 74,
   "id": "55cfff95",
   "metadata": {},
   "outputs": [
    {
     "data": {
      "text/plain": [
       "3-element Vector{Int64}:\n",
       " 1\n",
       " 2\n",
       " 3"
      ]
     },
     "execution_count": 74,
     "metadata": {},
     "output_type": "execute_result"
    }
   ],
   "source": [
    "X[1,:]      # extract the first row"
   ]
  },
  {
   "cell_type": "code",
   "execution_count": 75,
   "id": "635b357a",
   "metadata": {},
   "outputs": [
    {
     "data": {
      "text/plain": [
       "4-element Vector{Int64}:\n",
       "  2\n",
       "  5\n",
       "  8\n",
       " 11"
      ]
     },
     "execution_count": 75,
     "metadata": {},
     "output_type": "execute_result"
    }
   ],
   "source": [
    "X[:,2]      # extract the second column"
   ]
  },
  {
   "cell_type": "code",
   "execution_count": 76,
   "id": "339ae1d6",
   "metadata": {},
   "outputs": [
    {
     "data": {
      "text/plain": [
       "4×2 Matrix{Int64}:\n",
       "  1   2\n",
       "  4   5\n",
       "  7   8\n",
       " 10  11"
      ]
     },
     "execution_count": 76,
     "metadata": {},
     "output_type": "execute_result"
    }
   ],
   "source": [
    "X[:,1:2]    # extract the first two columns"
   ]
  },
  {
   "cell_type": "code",
   "execution_count": 77,
   "id": "a4a150a0",
   "metadata": {},
   "outputs": [
    {
     "data": {
      "text/plain": [
       "2×2 Matrix{Int64}:\n",
       " 1  2\n",
       " 4  5"
      ]
     },
     "execution_count": 77,
     "metadata": {},
     "output_type": "execute_result"
    }
   ],
   "source": [
    "X[1:2,1:2]  # extract a 2x2 submatrix from the top left of x"
   ]
  },
  {
   "cell_type": "code",
   "execution_count": 78,
   "id": "ea485ec0",
   "metadata": {},
   "outputs": [
    {
     "data": {
      "text/plain": [
       "Matrix{Float64} (alias for Array{Float64, 2})"
      ]
     },
     "execution_count": 78,
     "metadata": {},
     "output_type": "execute_result"
    }
   ],
   "source": [
    "Matrix{Float64} # alias for a 2-dimensional array"
   ]
  },
  {
   "cell_type": "markdown",
   "id": "9c933ceb",
   "metadata": {},
   "source": [
    "We can also construct a variety of special matrices and use array comprehensions:"
   ]
  },
  {
   "cell_type": "code",
   "execution_count": 79,
   "id": "e8b3950a",
   "metadata": {},
   "outputs": [
    {
     "data": {
      "text/plain": [
       "3×3 Matrix{Float64}:\n",
       " 1.0  0.0  0.0\n",
       " 0.0  1.0  0.0\n",
       " 0.0  0.0  1.0"
      ]
     },
     "execution_count": 79,
     "metadata": {},
     "output_type": "execute_result"
    }
   ],
   "source": [
    "Matrix(1.0I, 3, 3)  # 3x3 identity matrix"
   ]
  },
  {
   "cell_type": "code",
   "execution_count": 80,
   "id": "9df219e6",
   "metadata": {},
   "outputs": [
    {
     "data": {
      "text/plain": [
       "3×3 Matrix{Int64}:\n",
       " 3  0  0\n",
       " 0  2  0\n",
       " 0  0  1"
      ]
     },
     "execution_count": 80,
     "metadata": {},
     "output_type": "execute_result"
    }
   ],
   "source": [
    "Matrix(Diagonal([3, 2, 1])) # 3x3 diagonal matrix with 3, 2, 1 on diagonal"
   ]
  },
  {
   "cell_type": "code",
   "execution_count": 81,
   "id": "2a1ad313",
   "metadata": {},
   "outputs": [
    {
     "data": {
      "text/plain": [
       "3×2 Matrix{Float64}:\n",
       " 0.0  0.0\n",
       " 0.0  0.0\n",
       " 0.0  0.0"
      ]
     },
     "execution_count": 81,
     "metadata": {},
     "output_type": "execute_result"
    }
   ],
   "source": [
    "zeros(3,2) # 3x2 matrix of zeros"
   ]
  },
  {
   "cell_type": "code",
   "execution_count": 82,
   "id": "8bdfd03c",
   "metadata": {},
   "outputs": [
    {
     "data": {
      "text/plain": [
       "3×2 Matrix{Float64}:\n",
       " 0.327804  0.123392\n",
       " 0.628691  0.921782\n",
       " 0.692277  0.833387"
      ]
     },
     "execution_count": 82,
     "metadata": {},
     "output_type": "execute_result"
    }
   ],
   "source": [
    "rand(3,2) # 3x2 random matrix"
   ]
  },
  {
   "cell_type": "code",
   "execution_count": 83,
   "id": "7be751c5",
   "metadata": {},
   "outputs": [
    {
     "data": {
      "text/plain": [
       "3×2 Matrix{Float64}:\n",
       "  0.909297   0.14112\n",
       "  0.14112   -0.756802\n",
       " -0.756802  -0.958924"
      ]
     },
     "execution_count": 83,
     "metadata": {},
     "output_type": "execute_result"
    }
   ],
   "source": [
    "[sin(a + b) for a in 1:3, b in 1:2] # array comprehension #//"
   ]
  },
  {
   "cell_type": "markdown",
   "id": "87574d88",
   "metadata": {},
   "source": [
    "Matrix operations include the following:"
   ]
  },
  {
   "cell_type": "code",
   "execution_count": 84,
   "id": "05bf66b6",
   "metadata": {},
   "outputs": [
    {
     "data": {
      "text/plain": [
       "3×4 adjoint(::Matrix{Int64}) with eltype Int64:\n",
       " 1  4  7  10\n",
       " 2  5  8  11\n",
       " 3  6  9  12"
      ]
     },
     "execution_count": 84,
     "metadata": {},
     "output_type": "execute_result"
    }
   ],
   "source": [
    "X'              # complex conjugate transpose"
   ]
  },
  {
   "cell_type": "code",
   "execution_count": 85,
   "id": "af33e1d9",
   "metadata": {},
   "outputs": [
    {
     "data": {
      "text/plain": [
       "4×3 Matrix{Int64}:\n",
       "  5   8  11\n",
       " 14  17  20\n",
       " 23  26  29\n",
       " 32  35  38"
      ]
     },
     "execution_count": 85,
     "metadata": {},
     "output_type": "execute_result"
    }
   ],
   "source": [
    "3X .+ 2         # multiplying by scalar and adding scalar"
   ]
  },
  {
   "cell_type": "code",
   "execution_count": 86,
   "id": "f83ab56c",
   "metadata": {},
   "outputs": [
    {
     "data": {
      "text/plain": [
       "2×2 Matrix{Int64}:\n",
       " 1  3\n",
       " 3  1"
      ]
     },
     "execution_count": 86,
     "metadata": {},
     "output_type": "execute_result"
    }
   ],
   "source": [
    "X = [1 3; 3 1] # create an invertible matrix"
   ]
  },
  {
   "cell_type": "code",
   "execution_count": 87,
   "id": "30619371",
   "metadata": {},
   "outputs": [
    {
     "data": {
      "text/plain": [
       "2×2 Matrix{Float64}:\n",
       " -0.125   0.375\n",
       "  0.375  -0.125"
      ]
     },
     "execution_count": 87,
     "metadata": {},
     "output_type": "execute_result"
    }
   ],
   "source": [
    "inv(X)         # inversion"
   ]
  },
  {
   "cell_type": "code",
   "execution_count": 88,
   "id": "37944ff9",
   "metadata": {},
   "outputs": [
    {
     "data": {
      "text/plain": [
       "2×2 Matrix{Float64}:\n",
       " -0.125   0.375\n",
       "  0.375  -0.125"
      ]
     },
     "execution_count": 88,
     "metadata": {},
     "output_type": "execute_result"
    }
   ],
   "source": [
    "pinv(X)        # pseudoinverse (requires LinearAlgebra)"
   ]
  },
  {
   "cell_type": "code",
   "execution_count": 89,
   "id": "c76bad41",
   "metadata": {},
   "outputs": [
    {
     "data": {
      "text/plain": [
       "-8.0"
      ]
     },
     "execution_count": 89,
     "metadata": {},
     "output_type": "execute_result"
    }
   ],
   "source": [
    "det(X)         # determinant (requires LinearAlgebra)"
   ]
  },
  {
   "cell_type": "code",
   "execution_count": 90,
   "id": "a0f33eb0",
   "metadata": {},
   "outputs": [
    {
     "data": {
      "text/plain": [
       "2×4 Matrix{Int64}:\n",
       " 1  3  1  3\n",
       " 3  1  3  1"
      ]
     },
     "execution_count": 90,
     "metadata": {},
     "output_type": "execute_result"
    }
   ],
   "source": [
    "[X X]          # horizontal concatenation, same as hcat(X, X)"
   ]
  },
  {
   "cell_type": "code",
   "execution_count": 91,
   "id": "3cbba694",
   "metadata": {},
   "outputs": [
    {
     "data": {
      "text/plain": [
       "4×2 Matrix{Int64}:\n",
       " 1  3\n",
       " 3  1\n",
       " 1  3\n",
       " 3  1"
      ]
     },
     "execution_count": 91,
     "metadata": {},
     "output_type": "execute_result"
    }
   ],
   "source": [
    "[X; X]         # vertical concatenation, same as vcat(X, X)"
   ]
  },
  {
   "cell_type": "code",
   "execution_count": 92,
   "id": "1b446fa5",
   "metadata": {},
   "outputs": [
    {
     "data": {
      "text/plain": [
       "2×2 Matrix{Float64}:\n",
       " 0.841471  0.14112\n",
       " 0.14112   0.841471"
      ]
     },
     "execution_count": 92,
     "metadata": {},
     "output_type": "execute_result"
    }
   ],
   "source": [
    "sin.(X)        # elementwise application of sin"
   ]
  },
  {
   "cell_type": "code",
   "execution_count": 93,
   "id": "43ff9eda",
   "metadata": {},
   "outputs": [
    {
     "data": {
      "text/plain": [
       "2×2 Matrix{Float64}:\n",
       " 0.841471  0.14112\n",
       " 0.14112   0.841471"
      ]
     },
     "execution_count": 93,
     "metadata": {},
     "output_type": "execute_result"
    }
   ],
   "source": [
    "map(sin, X)    # elementwise application of sin"
   ]
  },
  {
   "cell_type": "code",
   "execution_count": 94,
   "id": "c4ea57fc",
   "metadata": {},
   "outputs": [
    {
     "data": {
      "text/plain": [
       "4-element Vector{Int64}:\n",
       " 1\n",
       " 3\n",
       " 3\n",
       " 1"
      ]
     },
     "execution_count": 94,
     "metadata": {},
     "output_type": "execute_result"
    }
   ],
   "source": [
    "vec(X)         # reshape an array as a vector"
   ]
  },
  {
   "cell_type": "markdown",
   "id": "da03f93a",
   "metadata": {},
   "source": [
    "### G.1.7 Tuples"
   ]
  },
  {
   "cell_type": "code",
   "execution_count": 95,
   "id": "e4896557",
   "metadata": {},
   "outputs": [
    {
     "data": {
      "text/plain": [
       "()"
      ]
     },
     "execution_count": 95,
     "metadata": {},
     "output_type": "execute_result"
    }
   ],
   "source": [
    "x = () # the empty tuple"
   ]
  },
  {
   "cell_type": "code",
   "execution_count": 96,
   "id": "f60ed1e8",
   "metadata": {},
   "outputs": [
    {
     "data": {
      "text/plain": [
       "true"
      ]
     },
     "execution_count": 96,
     "metadata": {},
     "output_type": "execute_result"
    }
   ],
   "source": [
    "isempty(x)"
   ]
  },
  {
   "cell_type": "code",
   "execution_count": 97,
   "id": "8ebb010a",
   "metadata": {},
   "outputs": [
    {
     "data": {
      "text/plain": [
       "Tuple{}"
      ]
     },
     "execution_count": 97,
     "metadata": {},
     "output_type": "execute_result"
    }
   ],
   "source": [
    "typeof(x)"
   ]
  },
  {
   "cell_type": "code",
   "execution_count": 98,
   "id": "365fe839",
   "metadata": {},
   "outputs": [
    {
     "data": {
      "text/plain": [
       "(1, 0, [1, 2], 2.5029, 4.6692)"
      ]
     },
     "execution_count": 98,
     "metadata": {},
     "output_type": "execute_result"
    }
   ],
   "source": [
    "x = (1, 0, [1, 2], 2.5029, 4.6692) # third element is a vector"
   ]
  },
  {
   "cell_type": "code",
   "execution_count": 99,
   "id": "373f265d",
   "metadata": {},
   "outputs": [
    {
     "data": {
      "text/plain": [
       "Tuple{Int64, Int64, Vector{Int64}, Float64, Float64}"
      ]
     },
     "execution_count": 99,
     "metadata": {},
     "output_type": "execute_result"
    }
   ],
   "source": [
    "typeof(x)"
   ]
  },
  {
   "cell_type": "code",
   "execution_count": 100,
   "id": "49b9c7a2",
   "metadata": {},
   "outputs": [
    {
     "data": {
      "text/plain": [
       "0"
      ]
     },
     "execution_count": 100,
     "metadata": {},
     "output_type": "execute_result"
    }
   ],
   "source": [
    "x[2]"
   ]
  },
  {
   "cell_type": "code",
   "execution_count": 101,
   "id": "33feaaf6",
   "metadata": {},
   "outputs": [
    {
     "data": {
      "text/plain": [
       "4.6692"
      ]
     },
     "execution_count": 101,
     "metadata": {},
     "output_type": "execute_result"
    }
   ],
   "source": [
    "x[end]"
   ]
  },
  {
   "cell_type": "code",
   "execution_count": 102,
   "id": "fd60b22a",
   "metadata": {},
   "outputs": [
    {
     "data": {
      "text/plain": [
       "(2.5029, 4.6692)"
      ]
     },
     "execution_count": 102,
     "metadata": {},
     "output_type": "execute_result"
    }
   ],
   "source": [
    "x[4:end]"
   ]
  },
  {
   "cell_type": "code",
   "execution_count": 103,
   "id": "da00f957",
   "metadata": {},
   "outputs": [
    {
     "data": {
      "text/plain": [
       "5"
      ]
     },
     "execution_count": 103,
     "metadata": {},
     "output_type": "execute_result"
    }
   ],
   "source": [
    "length(x)"
   ]
  },
  {
   "cell_type": "code",
   "execution_count": 104,
   "id": "869f434f",
   "metadata": {},
   "outputs": [
    {
     "data": {
      "text/plain": [
       "(1, 2)"
      ]
     },
     "execution_count": 104,
     "metadata": {},
     "output_type": "execute_result"
    }
   ],
   "source": [
    "x = (1, 2)"
   ]
  },
  {
   "cell_type": "code",
   "execution_count": 105,
   "id": "178ecf89",
   "metadata": {},
   "outputs": [
    {
     "name": "stdout",
     "output_type": "stream",
     "text": [
      "a = 1, b = 2"
     ]
    }
   ],
   "source": [
    "a, b = x; print(\"a = \", a,\", b = \",b)"
   ]
  },
  {
   "cell_type": "code",
   "execution_count": 106,
   "id": "02b9cf59",
   "metadata": {},
   "outputs": [
    {
     "data": {
      "text/plain": [
       "(a = 1, b = -Inf)"
      ]
     },
     "execution_count": 106,
     "metadata": {},
     "output_type": "execute_result"
    }
   ],
   "source": [
    "x = (a=1, b=-Inf)"
   ]
  },
  {
   "cell_type": "code",
   "execution_count": 107,
   "id": "493c845f",
   "metadata": {},
   "outputs": [
    {
     "data": {
      "text/plain": [
       "true"
      ]
     },
     "execution_count": 107,
     "metadata": {},
     "output_type": "execute_result"
    }
   ],
   "source": [
    "x isa NamedTuple"
   ]
  },
  {
   "cell_type": "code",
   "execution_count": 108,
   "id": "83aac44a",
   "metadata": {},
   "outputs": [
    {
     "data": {
      "text/plain": [
       "1"
      ]
     },
     "execution_count": 108,
     "metadata": {},
     "output_type": "execute_result"
    }
   ],
   "source": [
    "x.a"
   ]
  },
  {
   "cell_type": "code",
   "execution_count": 109,
   "id": "e2af89b2",
   "metadata": {},
   "outputs": [
    {
     "name": "stdout",
     "output_type": "stream",
     "text": [
      "1"
     ]
    }
   ],
   "source": [
    "a, b = x; print(a)"
   ]
  },
  {
   "cell_type": "code",
   "execution_count": 110,
   "id": "030c034a",
   "metadata": {},
   "outputs": [
    {
     "data": {
      "text/plain": [
       "(a = 10,)"
      ]
     },
     "execution_count": 110,
     "metadata": {},
     "output_type": "execute_result"
    }
   ],
   "source": [
    "(; :a=>10)"
   ]
  },
  {
   "cell_type": "code",
   "execution_count": 111,
   "id": "2ce0e68f",
   "metadata": {},
   "outputs": [
    {
     "data": {
      "text/plain": [
       "(a = 10, b = 11)"
      ]
     },
     "execution_count": 111,
     "metadata": {},
     "output_type": "execute_result"
    }
   ],
   "source": [
    "(; :a=>10, :b=>11)"
   ]
  },
  {
   "cell_type": "code",
   "execution_count": 112,
   "id": "b902a451",
   "metadata": {},
   "outputs": [
    {
     "data": {
      "text/plain": [
       "(a = 1, b = -Inf, d = 3, e = 10)"
      ]
     },
     "execution_count": 112,
     "metadata": {},
     "output_type": "execute_result"
    }
   ],
   "source": [
    "merge(x, (d=3, e=10)) # merge two named tuples"
   ]
  },
  {
   "cell_type": "markdown",
   "id": "b37180fb",
   "metadata": {},
   "source": [
    "### G.1.9 Dictionaries\n",
    "\n",
    "A dictionary is a collection of key-value pairs. Key-value pairs are indicated with a double arrow operator =>. \n",
    "We can index into a dictionary using square brackets,\n",
    "just as with arrays and tuples:"
   ]
  },
  {
   "cell_type": "code",
   "execution_count": 113,
   "id": "53d76852",
   "metadata": {},
   "outputs": [],
   "source": [
    "x = Dict();    # empty dictionary"
   ]
  },
  {
   "cell_type": "code",
   "execution_count": 114,
   "id": "21433351",
   "metadata": {},
   "outputs": [
    {
     "data": {
      "text/plain": [
       "4"
      ]
     },
     "execution_count": 114,
     "metadata": {},
     "output_type": "execute_result"
    }
   ],
   "source": [
    "x[3] = 4       # associate key 3 with value 4"
   ]
  },
  {
   "cell_type": "code",
   "execution_count": 115,
   "id": "d529ec30",
   "metadata": {},
   "outputs": [
    {
     "data": {
      "text/plain": [
       "Dict{Int64, Int64} with 2 entries:\n",
       "  5 => 1\n",
       "  3 => 4"
      ]
     },
     "execution_count": 115,
     "metadata": {},
     "output_type": "execute_result"
    }
   ],
   "source": [
    "x = Dict(3=>4, 5=>1) # create a dictionary with two key-value pairs"
   ]
  },
  {
   "cell_type": "code",
   "execution_count": 116,
   "id": "aa93538f",
   "metadata": {},
   "outputs": [
    {
     "data": {
      "text/plain": [
       "1"
      ]
     },
     "execution_count": 116,
     "metadata": {},
     "output_type": "execute_result"
    }
   ],
   "source": [
    "x[5]           # return the value associated with key 5"
   ]
  },
  {
   "cell_type": "code",
   "execution_count": 117,
   "id": "5ead96b1",
   "metadata": {},
   "outputs": [
    {
     "data": {
      "text/plain": [
       "true"
      ]
     },
     "execution_count": 117,
     "metadata": {},
     "output_type": "execute_result"
    }
   ],
   "source": [
    "haskey(x, 3)   # check whether dictionary has key 3"
   ]
  },
  {
   "cell_type": "code",
   "execution_count": 118,
   "id": "d9868274",
   "metadata": {},
   "outputs": [
    {
     "data": {
      "text/plain": [
       "false"
      ]
     },
     "execution_count": 118,
     "metadata": {},
     "output_type": "execute_result"
    }
   ],
   "source": [
    "haskey(x, 4)   # check whether dictionary has key 4"
   ]
  },
  {
   "cell_type": "markdown",
   "id": "c2e881b0",
   "metadata": {},
   "source": [
    "### G.1.10 Composite Types\n",
    "\n",
    "A composite type is a collection of named fields. By default, an instance of a composite type is immutable (i.e., it cannot change). We use the struct keyword and then give the new type a name and list the names of the fields:"
   ]
  },
  {
   "cell_type": "code",
   "execution_count": 119,
   "id": "c041f52b",
   "metadata": {},
   "outputs": [],
   "source": [
    "struct A\n",
    "  a\n",
    "  b\n",
    "end"
   ]
  },
  {
   "cell_type": "markdown",
   "id": "f560e3b2",
   "metadata": {},
   "source": [
    "Adding the keyword mutable makes it so that an instance can change:"
   ]
  },
  {
   "cell_type": "code",
   "execution_count": 120,
   "id": "d0313de0",
   "metadata": {},
   "outputs": [],
   "source": [
    "mutable struct B \n",
    "  a\n",
    "  b\n",
    "end"
   ]
  },
  {
   "cell_type": "markdown",
   "id": "6cabd485",
   "metadata": {},
   "source": [
    "Composite types are constructed using parentheses, between which we pass in values for each field:"
   ]
  },
  {
   "cell_type": "code",
   "execution_count": 121,
   "id": "2e46460b",
   "metadata": {},
   "outputs": [
    {
     "data": {
      "text/plain": [
       "A(1.414, 1.732)"
      ]
     },
     "execution_count": 121,
     "metadata": {},
     "output_type": "execute_result"
    }
   ],
   "source": [
    "x = A(1.414, 1.732)"
   ]
  },
  {
   "cell_type": "markdown",
   "id": "0af80ec9",
   "metadata": {},
   "source": [
    "The double-colon operator can be used to specify the type for any field:"
   ]
  },
  {
   "cell_type": "code",
   "execution_count": 122,
   "id": "5d521241",
   "metadata": {},
   "outputs": [],
   "source": [
    "struct S        #//\n",
    "  a::Int64\n",
    "  b::Float64\n",
    "end"
   ]
  },
  {
   "cell_type": "markdown",
   "id": "3895b12a",
   "metadata": {},
   "source": [
    "These type annotations require that we pass in an **Int64** for the first field and a **Float64** for the second field. For compactness, this book does not use type annotations, but it is at the expense of performance. Type annotations allow Julia to improve runtime performance because the compiler can optimize the underlying code for specific types."
   ]
  },
  {
   "cell_type": "markdown",
   "id": "58869c48",
   "metadata": {},
   "source": [
    "### G.1.11 Abstract Types\n",
    "\n",
    "So far we have discussed concrete types, which are types that we can construct.\n",
    "However, concrete types are only part of the type hierarchy. There are also abstract types, which are supertypes of concrete types and other abstract types.\n",
    "\n",
    "We can explore the type hierarchy of the **Float64** type shown in figure G.1 using the **supertype** and **subtypes** functions:"
   ]
  },
  {
   "cell_type": "code",
   "execution_count": 123,
   "id": "ccaa29f1",
   "metadata": {},
   "outputs": [
    {
     "data": {
      "image/svg+xml": [
       "<?xml version=\"1.0\" encoding=\"utf-8\"?>\n",
       "<svg xmlns=\"http://www.w3.org/2000/svg\" xmlns:xlink=\"http://www.w3.org/1999/xlink\" width=\"500\" height=\"500\" viewBox=\"0 0 2000 2000\">\n",
       "<defs>\n",
       "  <clipPath id=\"clip000\">\n",
       "    <rect x=\"0\" y=\"0\" width=\"2000\" height=\"2000\"/>\n",
       "  </clipPath>\n",
       "</defs>\n",
       "<path clip-path=\"url(#clip000)\" d=\"\n",
       "M0 2000 L2000 2000 L2000 0 L0 0  Z\n",
       "  \" fill=\"#ffffff\" fill-rule=\"evenodd\" fill-opacity=\"1\"/>\n",
       "<defs>\n",
       "  <clipPath id=\"clip001\">\n",
       "    <rect x=\"400\" y=\"200\" width=\"1401\" height=\"1401\"/>\n",
       "  </clipPath>\n",
       "</defs>\n",
       "<path clip-path=\"url(#clip000)\" d=\"\n",
       "M100.478 1952.76 L1899.52 1952.76 L1899.52 153.712 L100.478 153.712  Z\n",
       "  \" fill=\"#ffffff\" fill-rule=\"evenodd\" fill-opacity=\"1\"/>\n",
       "<defs>\n",
       "  <clipPath id=\"clip002\">\n",
       "    <rect x=\"100\" y=\"153\" width=\"1800\" height=\"1800\"/>\n",
       "  </clipPath>\n",
       "</defs>\n",
       "<path clip-path=\"url(#clip000)\" d=\"M796.341 12.096 L831.098 12.096 L831.098 18.9825 L804.524 18.9825 L804.524 36.8065 L828.505 36.8065 L828.505 43.6931 L804.524 43.6931 L804.524 72.576 L796.341 72.576 L796.341 12.096 Z\" fill=\"#000000\" fill-rule=\"evenodd\" fill-opacity=\"1\" /><path clip-path=\"url(#clip000)\" d=\"M837.701 27.2059 L845.154 27.2059 L845.154 72.576 L837.701 72.576 L837.701 27.2059 M837.701 9.54393 L845.154 9.54393 L845.154 18.9825 L837.701 18.9825 L837.701 9.54393 Z\" fill=\"#000000\" fill-rule=\"evenodd\" fill-opacity=\"1\" /><path clip-path=\"url(#clip000)\" d=\"M890.605 49.3643 Q890.605 41.2625 887.243 36.8065 Q883.921 32.3505 877.885 32.3505 Q871.89 32.3505 868.528 36.8065 Q865.206 41.2625 865.206 49.3643 Q865.206 57.4256 868.528 61.8816 Q871.89 66.3376 877.885 66.3376 Q883.921 66.3376 887.243 61.8816 Q890.605 57.4256 890.605 49.3643 M898.059 66.9452 Q898.059 78.5308 892.914 84.1616 Q887.77 89.8329 877.156 89.8329 Q873.227 89.8329 869.743 89.2252 Q866.259 88.6581 862.978 87.4428 L862.978 80.1917 Q866.259 81.9741 869.46 82.8248 Q872.66 83.6755 875.982 83.6755 Q883.314 83.6755 886.96 79.8271 Q890.605 76.0193 890.605 68.282 L890.605 64.5957 Q888.296 68.6061 884.691 70.5911 Q881.086 72.576 876.063 72.576 Q867.718 72.576 862.614 66.2161 Q857.509 59.8562 857.509 49.3643 Q857.509 38.832 862.614 32.472 Q867.718 26.1121 876.063 26.1121 Q881.086 26.1121 884.691 28.0971 Q888.296 30.082 890.605 34.0924 L890.605 27.2059 L898.059 27.2059 L898.059 66.9452 Z\" fill=\"#000000\" fill-rule=\"evenodd\" fill-opacity=\"1\" /><path clip-path=\"url(#clip000)\" d=\"M912.642 54.671 L912.642 27.2059 L920.096 27.2059 L920.096 54.3874 Q920.096 60.8284 922.607 64.0691 Q925.119 67.2693 930.142 67.2693 Q936.178 67.2693 939.662 63.421 Q943.186 59.5726 943.186 52.9291 L943.186 27.2059 L950.64 27.2059 L950.64 72.576 L943.186 72.576 L943.186 65.6084 Q940.472 69.7404 936.867 71.7658 Q933.302 73.7508 928.562 73.7508 Q920.744 73.7508 916.693 68.8897 Q912.642 64.0286 912.642 54.671 M931.398 26.1121 L931.398 26.1121 Z\" fill=\"#000000\" fill-rule=\"evenodd\" fill-opacity=\"1\" /><path clip-path=\"url(#clip000)\" d=\"M992.283 34.1734 Q991.027 33.4443 989.528 33.1202 Q988.07 32.7556 986.288 32.7556 Q979.968 32.7556 976.566 36.8875 Q973.203 40.9789 973.203 48.6757 L973.203 72.576 L965.709 72.576 L965.709 27.2059 L973.203 27.2059 L973.203 34.2544 Q975.553 30.1225 979.32 28.1376 Q983.087 26.1121 988.475 26.1121 Q989.245 26.1121 990.177 26.2337 Q991.108 26.3147 992.243 26.5172 L992.283 34.1734 Z\" fill=\"#000000\" fill-rule=\"evenodd\" fill-opacity=\"1\" /><path clip-path=\"url(#clip000)\" d=\"M1037.09 48.0275 L1037.09 51.6733 L1002.82 51.6733 Q1003.3 59.3701 1007.43 63.421 Q1011.61 67.4314 1019.02 67.4314 Q1023.31 67.4314 1027.32 66.3781 Q1031.37 65.3249 1035.34 63.2184 L1035.34 70.267 Q1031.33 71.9684 1027.12 72.8596 Q1022.91 73.7508 1018.57 73.7508 Q1007.72 73.7508 1001.36 67.4314 Q995.038 61.1119 995.038 50.3365 Q995.038 39.1965 1001.03 32.6746 Q1007.07 26.1121 1017.28 26.1121 Q1026.43 26.1121 1031.74 32.0264 Q1037.09 37.9003 1037.09 48.0275 M1029.63 45.84 Q1029.55 39.7232 1026.19 36.0774 Q1022.87 32.4315 1017.36 32.4315 Q1011.12 32.4315 1007.35 35.9558 Q1003.63 39.4801 1003.06 45.8805 L1029.63 45.84 Z\" fill=\"#000000\" fill-rule=\"evenodd\" fill-opacity=\"1\" /><path clip-path=\"url(#clip000)\" d=\"M1117.25 63.9476 L1117.25 47.7034 L1103.89 47.7034 L1103.89 40.9789 L1125.36 40.9789 L1125.36 66.9452 Q1120.62 70.3075 1114.9 72.0494 Q1109.19 73.7508 1102.71 73.7508 Q1088.53 73.7508 1080.51 65.4869 Q1072.53 57.1826 1072.53 42.3968 Q1072.53 27.5705 1080.51 19.3066 Q1088.53 11.0023 1102.71 11.0023 Q1108.62 11.0023 1113.93 12.4606 Q1119.28 13.9189 1123.78 16.7545 L1123.78 25.464 Q1119.24 21.6156 1114.13 19.6712 Q1109.03 17.7268 1103.4 17.7268 Q1092.3 17.7268 1086.71 23.9246 Q1081.16 30.1225 1081.16 42.3968 Q1081.16 54.6305 1086.71 60.8284 Q1092.3 67.0263 1103.4 67.0263 Q1107.73 67.0263 1111.14 66.2971 Q1114.54 65.5274 1117.25 63.9476 Z\" fill=\"#000000\" fill-rule=\"evenodd\" fill-opacity=\"1\" /><path clip-path=\"url(#clip000)\" d=\"M1141.03 62.2867 L1149.58 62.2867 L1149.58 72.576 L1141.03 72.576 L1141.03 62.2867 Z\" fill=\"#000000\" fill-rule=\"evenodd\" fill-opacity=\"1\" /><path clip-path=\"url(#clip000)\" d=\"M1168.82 65.6895 L1182.19 65.6895 L1182.19 19.5497 L1167.65 22.4663 L1167.65 15.0127 L1182.11 12.096 L1190.29 12.096 L1190.29 65.6895 L1203.66 65.6895 L1203.66 72.576 L1168.82 72.576 L1168.82 65.6895 Z\" fill=\"#000000\" fill-rule=\"evenodd\" fill-opacity=\"1\" /><polyline clip-path=\"url(#clip002)\" style=\"stroke:#000000; stroke-linecap:butt; stroke-linejoin:round; stroke-width:4; stroke-opacity:1; fill:none\" points=\"\n",
       "  357.484,1053.23 368.562,1053.23 379.64,1053.23 390.718,1053.23 401.796,1053.23 412.874,1053.23 423.951,1053.23 435.029,1053.23 446.107,1053.23 457.185,1053.23 \n",
       "  468.263,1053.23 479.341,1053.23 490.419,1053.23 501.496,1053.23 512.574,1053.23 523.652,1053.23 534.73,1053.23 545.808,1053.23 556.886,1053.23 567.964,1053.23 \n",
       "  579.041,1053.23 590.119,1053.23 601.197,1053.23 612.275,1053.23 623.353,1053.23 634.431,1053.23 645.509,1053.23 656.586,1053.23 667.664,1053.23 678.742,1053.23 \n",
       "  \n",
       "  \"/>\n",
       "<polyline clip-path=\"url(#clip002)\" style=\"stroke:#000000; stroke-linecap:butt; stroke-linejoin:round; stroke-width:4; stroke-opacity:1; fill:none\" points=\"\n",
       "  678.742,1053.23 689.82,1053.23 700.898,1053.23 711.976,1053.23 723.054,1053.23 734.131,1053.23 745.209,1053.23 756.287,1053.23 767.365,1053.23 778.443,1053.23 \n",
       "  789.521,1053.23 800.599,1053.23 811.676,1053.23 822.754,1053.23 833.832,1053.23 844.91,1053.23 855.988,1053.23 867.066,1053.23 878.144,1053.23 889.221,1053.23 \n",
       "  900.299,1053.23 911.377,1053.23 922.455,1053.23 933.533,1053.23 944.611,1053.23 955.689,1053.23 966.766,1053.23 977.844,1053.23 988.922,1053.23 1000,1053.23 \n",
       "  \n",
       "  \"/>\n",
       "<polyline clip-path=\"url(#clip002)\" style=\"stroke:#000000; stroke-linecap:butt; stroke-linejoin:round; stroke-width:4; stroke-opacity:1; fill:none\" points=\"\n",
       "  1000,1053.23 1011.08,1053.23 1022.16,1053.23 1033.23,1053.23 1044.31,1053.23 1055.39,1053.23 1066.47,1053.23 1077.54,1053.23 1088.62,1053.23 1099.7,1053.23 \n",
       "  1110.78,1053.23 1121.86,1053.23 1132.93,1053.23 1144.01,1053.23 1155.09,1053.23 1166.17,1053.23 1177.25,1053.23 1188.32,1053.23 1199.4,1053.23 1210.48,1053.23 \n",
       "  1221.56,1053.23 1232.63,1053.23 1243.71,1053.23 1254.79,1053.23 1265.87,1053.23 1276.95,1053.23 1288.02,1053.23 1299.1,1053.23 1310.18,1053.23 1321.26,1053.23 \n",
       "  \n",
       "  \"/>\n",
       "<polyline clip-path=\"url(#clip002)\" style=\"stroke:#000000; stroke-linecap:butt; stroke-linejoin:round; stroke-width:4; stroke-opacity:1; fill:none\" points=\"\n",
       "  1321.26,1053.23 1332.34,1031.08 1343.41,1008.92 1354.49,986.767 1365.57,964.611 1376.65,942.455 1387.72,920.3 1398.8,898.144 1409.88,875.988 1420.96,853.833 \n",
       "  1432.04,831.677 1443.11,809.521 1454.19,787.365 1465.27,765.21 1476.35,743.054 1487.43,720.898 1498.5,698.743 1509.58,676.587 1520.66,654.431 1531.74,632.275 \n",
       "  1542.81,610.12 1553.89,587.964 1564.97,565.808 1576.05,543.653 1587.13,521.497 1598.2,499.341 1609.28,477.186 1620.36,455.03 1631.44,432.874 1642.52,410.718 \n",
       "  \n",
       "  \"/>\n",
       "<polyline clip-path=\"url(#clip002)\" style=\"stroke:#000000; stroke-linecap:butt; stroke-linejoin:round; stroke-width:4; stroke-opacity:1; fill:none\" points=\"\n",
       "  1321.26,1053.23 1332.34,1045.85 1343.41,1038.46 1354.49,1031.08 1365.57,1023.69 1376.65,1016.31 1387.72,1008.92 1398.8,1001.54 1409.88,994.152 1420.96,986.767 \n",
       "  1432.04,979.382 1443.11,971.996 1454.19,964.611 1465.27,957.226 1476.35,949.841 1487.43,942.455 1498.5,935.07 1509.58,927.685 1520.66,920.3 1531.74,912.915 \n",
       "  1542.81,905.529 1553.89,898.144 1564.97,890.759 1576.05,883.374 1587.13,875.988 1598.2,868.603 1609.28,861.218 1620.36,853.833 1631.44,846.447 1642.52,839.062 \n",
       "  \n",
       "  \"/>\n",
       "<polyline clip-path=\"url(#clip002)\" style=\"stroke:#000000; stroke-linecap:butt; stroke-linejoin:round; stroke-width:4; stroke-opacity:1; fill:none\" points=\"\n",
       "  1321.26,1053.23 1332.34,1060.62 1343.41,1068 1354.49,1075.39 1365.57,1082.77 1376.65,1090.16 1387.72,1097.55 1398.8,1104.93 1409.88,1112.32 1420.96,1119.7 \n",
       "  1432.04,1127.09 1443.11,1134.47 1454.19,1141.86 1465.27,1149.24 1476.35,1156.63 1487.43,1164.01 1498.5,1171.4 1509.58,1178.78 1520.66,1186.17 1531.74,1193.55 \n",
       "  1542.81,1200.94 1553.89,1208.32 1564.97,1215.71 1576.05,1223.09 1587.13,1230.48 1598.2,1237.86 1609.28,1245.25 1620.36,1252.64 1631.44,1260.02 1642.52,1267.41 \n",
       "  \n",
       "  \"/>\n",
       "<polyline clip-path=\"url(#clip002)\" style=\"stroke:#000000; stroke-linecap:butt; stroke-linejoin:round; stroke-width:4; stroke-opacity:1; fill:none\" points=\"\n",
       "  1321.26,1053.23 1332.34,1075.39 1343.41,1097.55 1354.49,1119.7 1365.57,1141.86 1376.65,1164.01 1387.72,1186.17 1398.8,1208.32 1409.88,1230.48 1420.96,1252.64 \n",
       "  1432.04,1274.79 1443.11,1296.95 1454.19,1319.1 1465.27,1341.26 1476.35,1363.41 1487.43,1385.57 1498.5,1407.73 1509.58,1429.88 1520.66,1452.04 1531.74,1474.19 \n",
       "  1542.81,1496.35 1553.89,1518.5 1564.97,1540.66 1576.05,1562.82 1587.13,1584.97 1598.2,1607.13 1609.28,1629.28 1620.36,1651.44 1631.44,1673.59 1642.52,1695.75 \n",
       "  \n",
       "  \"/>\n",
       "<path clip-path=\"url(#clip002)\" d=\"\n",
       "M290.64 1097.64 L424.329 1097.64 L424.329 1008.82 L290.64 1008.82 L290.64 1097.64 L290.64 1097.64  Z\n",
       "  \" fill=\"#c271d2\" fill-rule=\"evenodd\" fill-opacity=\"1\"/>\n",
       "<polyline clip-path=\"url(#clip002)\" style=\"stroke:#000000; stroke-linecap:butt; stroke-linejoin:round; stroke-width:4; stroke-opacity:1; fill:none\" points=\"\n",
       "  290.64,1097.64 424.329,1097.64 424.329,1008.82 290.64,1008.82 290.64,1097.64 \n",
       "  \"/>\n",
       "<path clip-path=\"url(#clip002)\" d=\"\n",
       "M562.359 1097.64 L795.125 1097.64 L795.125 1008.82 L562.359 1008.82 L562.359 1097.64 L562.359 1097.64  Z\n",
       "  \" fill=\"#c271d2\" fill-rule=\"evenodd\" fill-opacity=\"1\"/>\n",
       "<polyline clip-path=\"url(#clip002)\" style=\"stroke:#000000; stroke-linecap:butt; stroke-linejoin:round; stroke-width:4; stroke-opacity:1; fill:none\" points=\"\n",
       "  562.359,1097.64 795.125,1097.64 795.125,1008.82 562.359,1008.82 562.359,1097.64 \n",
       "  \"/>\n",
       "<path clip-path=\"url(#clip002)\" d=\"\n",
       "M915.857 1097.64 L1084.14 1097.64 L1084.14 1008.82 L915.857 1008.82 L915.857 1097.64 L915.857 1097.64  Z\n",
       "  \" fill=\"#c271d2\" fill-rule=\"evenodd\" fill-opacity=\"1\"/>\n",
       "<polyline clip-path=\"url(#clip002)\" style=\"stroke:#000000; stroke-linecap:butt; stroke-linejoin:round; stroke-width:4; stroke-opacity:1; fill:none\" points=\"\n",
       "  915.857,1097.64 1084.14,1097.64 1084.14,1008.82 915.857,1008.82 915.857,1097.64 \n",
       "  \"/>\n",
       "<path clip-path=\"url(#clip002)\" d=\"\n",
       "M1105.22 1097.64 L1537.29 1097.64 L1537.29 1008.82 L1105.22 1008.82 L1105.22 1097.64 L1105.22 1097.64  Z\n",
       "  \" fill=\"#c271d2\" fill-rule=\"evenodd\" fill-opacity=\"1\"/>\n",
       "<polyline clip-path=\"url(#clip002)\" style=\"stroke:#000000; stroke-linecap:butt; stroke-linejoin:round; stroke-width:4; stroke-opacity:1; fill:none\" points=\"\n",
       "  1105.22,1097.64 1537.29,1097.64 1537.29,1008.82 1105.22,1008.82 1105.22,1097.64 \n",
       "  \"/>\n",
       "<path clip-path=\"url(#clip002)\" d=\"\n",
       "M1496.02 455.129 L1789.02 455.129 L1789.02 366.308 L1496.02 366.308 L1496.02 455.129 L1496.02 455.129  Z\n",
       "  \" fill=\"#c271d2\" fill-rule=\"evenodd\" fill-opacity=\"1\"/>\n",
       "<polyline clip-path=\"url(#clip002)\" style=\"stroke:#000000; stroke-linecap:butt; stroke-linejoin:round; stroke-width:4; stroke-opacity:1; fill:none\" points=\"\n",
       "  1496.02,455.129 1789.02,455.129 1789.02,366.308 1496.02,366.308 1496.02,455.129 \n",
       "  \"/>\n",
       "<path clip-path=\"url(#clip002)\" d=\"\n",
       "M1510.86 883.473 L1774.17 883.473 L1774.17 794.651 L1510.86 794.651 L1510.86 883.473 L1510.86 883.473  Z\n",
       "  \" fill=\"#c271d2\" fill-rule=\"evenodd\" fill-opacity=\"1\"/>\n",
       "<polyline clip-path=\"url(#clip002)\" style=\"stroke:#000000; stroke-linecap:butt; stroke-linejoin:round; stroke-width:4; stroke-opacity:1; fill:none\" points=\"\n",
       "  1510.86,883.473 1774.17,883.473 1774.17,794.651 1510.86,794.651 1510.86,883.473 \n",
       "  \"/>\n",
       "<path clip-path=\"url(#clip002)\" d=\"\n",
       "M1510.86 1311.82 L1774.17 1311.82 L1774.17 1223 L1510.86 1223 L1510.86 1311.82 L1510.86 1311.82  Z\n",
       "  \" fill=\"#c271d2\" fill-rule=\"evenodd\" fill-opacity=\"1\"/>\n",
       "<polyline clip-path=\"url(#clip002)\" style=\"stroke:#000000; stroke-linecap:butt; stroke-linejoin:round; stroke-width:4; stroke-opacity:1; fill:none\" points=\"\n",
       "  1510.86,1311.82 1774.17,1311.82 1774.17,1223 1510.86,1223 1510.86,1311.82 \n",
       "  \"/>\n",
       "<path clip-path=\"url(#clip002)\" d=\"\n",
       "M1510.86 1740.16 L1774.17 1740.16 L1774.17 1651.34 L1510.86 1651.34 L1510.86 1740.16 L1510.86 1740.16  Z\n",
       "  \" fill=\"#c271d2\" fill-rule=\"evenodd\" fill-opacity=\"1\"/>\n",
       "<polyline clip-path=\"url(#clip002)\" style=\"stroke:#000000; stroke-linecap:butt; stroke-linejoin:round; stroke-width:4; stroke-opacity:1; fill:none\" points=\"\n",
       "  1510.86,1740.16 1774.17,1740.16 1774.17,1651.34 1510.86,1651.34 1510.86,1740.16 \n",
       "  \"/>\n",
       "<circle clip-path=\"url(#clip002)\" style=\"fill:#c271d2; stroke:none; fill-opacity:1\" cx=\"357.484\" cy=\"1053.23\" r=\"2\"/>\n",
       "<circle clip-path=\"url(#clip002)\" style=\"fill:#c271d2; stroke:none; fill-opacity:1\" cx=\"678.742\" cy=\"1053.23\" r=\"2\"/>\n",
       "<circle clip-path=\"url(#clip002)\" style=\"fill:#c271d2; stroke:none; fill-opacity:1\" cx=\"1000\" cy=\"1053.23\" r=\"2\"/>\n",
       "<circle clip-path=\"url(#clip002)\" style=\"fill:#c271d2; stroke:none; fill-opacity:1\" cx=\"1321.26\" cy=\"1053.23\" r=\"2\"/>\n",
       "<circle clip-path=\"url(#clip002)\" style=\"fill:#c271d2; stroke:none; fill-opacity:1\" cx=\"1642.52\" cy=\"410.718\" r=\"2\"/>\n",
       "<circle clip-path=\"url(#clip002)\" style=\"fill:#c271d2; stroke:none; fill-opacity:1\" cx=\"1642.52\" cy=\"839.062\" r=\"2\"/>\n",
       "<circle clip-path=\"url(#clip002)\" style=\"fill:#c271d2; stroke:none; fill-opacity:1\" cx=\"1642.52\" cy=\"1267.41\" r=\"2\"/>\n",
       "<circle clip-path=\"url(#clip002)\" style=\"fill:#c271d2; stroke:none; fill-opacity:1\" cx=\"1642.52\" cy=\"1695.75\" r=\"2\"/>\n",
       "<path clip-path=\"url(#clip000)\" d=\"M328.943 1040.56 L322.6 1057.76 L335.309 1057.76 L328.943 1040.56 M326.304 1035.95 L331.605 1035.95 L344.776 1070.51 L339.915 1070.51 L336.767 1061.65 L321.188 1061.65 L318.04 1070.51 L313.11 1070.51 L326.304 1035.95 Z\" fill=\"#000000\" fill-rule=\"evenodd\" fill-opacity=\"1\" /><path clip-path=\"url(#clip000)\" d=\"M371.188 1054.87 L371.188 1070.51 L366.929 1070.51 L366.929 1055 Q366.929 1051.32 365.494 1049.5 Q364.058 1047.67 361.188 1047.67 Q357.739 1047.67 355.748 1049.87 Q353.758 1052.07 353.758 1055.86 L353.758 1070.51 L349.475 1070.51 L349.475 1044.59 L353.758 1044.59 L353.758 1048.62 Q355.285 1046.28 357.345 1045.12 Q359.429 1043.96 362.137 1043.96 Q366.605 1043.96 368.896 1046.74 Q371.188 1049.5 371.188 1054.87 Z\" fill=\"#000000\" fill-rule=\"evenodd\" fill-opacity=\"1\" /><path clip-path=\"url(#clip000)\" d=\"M390.47 1072.92 Q388.665 1077.55 386.952 1078.96 Q385.239 1080.38 382.368 1080.38 L378.966 1080.38 L378.966 1076.81 L381.466 1076.81 Q383.225 1076.81 384.197 1075.98 Q385.169 1075.14 386.35 1072.04 L387.114 1070.1 L376.628 1044.59 L381.142 1044.59 L389.243 1064.87 L397.345 1044.59 L401.859 1044.59 L390.47 1072.92 Z\" fill=\"#000000\" fill-rule=\"evenodd\" fill-opacity=\"1\" /><path clip-path=\"url(#clip000)\" d=\"M585.849 1035.95 L592.145 1035.95 L607.469 1064.87 L607.469 1035.95 L612.006 1035.95 L612.006 1070.51 L605.71 1070.51 L590.386 1041.6 L590.386 1070.51 L585.849 1070.51 L585.849 1035.95 Z\" fill=\"#000000\" fill-rule=\"evenodd\" fill-opacity=\"1\" /><path clip-path=\"url(#clip000)\" d=\"M620.687 1060.28 L620.687 1044.59 L624.946 1044.59 L624.946 1060.12 Q624.946 1063.8 626.381 1065.65 Q627.817 1067.48 630.687 1067.48 Q634.136 1067.48 636.127 1065.28 Q638.141 1063.08 638.141 1059.29 L638.141 1044.59 L642.4 1044.59 L642.4 1070.51 L638.141 1070.51 L638.141 1066.53 Q636.59 1068.89 634.529 1070.05 Q632.492 1071.19 629.784 1071.19 Q625.317 1071.19 623.002 1068.41 Q620.687 1065.63 620.687 1060.28 M631.404 1043.96 L631.404 1043.96 Z\" fill=\"#000000\" fill-rule=\"evenodd\" fill-opacity=\"1\" /><path clip-path=\"url(#clip000)\" d=\"M671.358 1049.57 Q672.955 1046.69 675.177 1045.33 Q677.4 1043.96 680.409 1043.96 Q684.46 1043.96 686.659 1046.81 Q688.858 1049.63 688.858 1054.87 L688.858 1070.51 L684.575 1070.51 L684.575 1055 Q684.575 1051.28 683.256 1049.47 Q681.937 1047.67 679.228 1047.67 Q675.918 1047.67 673.997 1049.87 Q672.076 1052.07 672.076 1055.86 L672.076 1070.51 L667.793 1070.51 L667.793 1055 Q667.793 1051.25 666.474 1049.47 Q665.154 1047.67 662.4 1047.67 Q659.136 1047.67 657.215 1049.89 Q655.293 1052.09 655.293 1055.86 L655.293 1070.51 L651.011 1070.51 L651.011 1044.59 L655.293 1044.59 L655.293 1048.62 Q656.752 1046.23 658.789 1045.1 Q660.826 1043.96 663.627 1043.96 Q666.451 1043.96 668.418 1045.4 Q670.409 1046.83 671.358 1049.57 Z\" fill=\"#000000\" fill-rule=\"evenodd\" fill-opacity=\"1\" /><path clip-path=\"url(#clip000)\" d=\"M715.964 1057.57 Q715.964 1052.88 714.02 1050.21 Q712.098 1047.53 708.719 1047.53 Q705.339 1047.53 703.395 1050.21 Q701.474 1052.88 701.474 1057.57 Q701.474 1062.27 703.395 1064.96 Q705.339 1067.62 708.719 1067.62 Q712.098 1067.62 714.02 1064.96 Q715.964 1062.27 715.964 1057.57 M701.474 1048.52 Q702.816 1046.21 704.853 1045.1 Q706.913 1043.96 709.761 1043.96 Q714.483 1043.96 717.423 1047.71 Q720.385 1051.46 720.385 1057.57 Q720.385 1063.69 717.423 1067.44 Q714.483 1071.19 709.761 1071.19 Q706.913 1071.19 704.853 1070.07 Q702.816 1068.94 701.474 1066.63 L701.474 1070.51 L697.191 1070.51 L697.191 1034.5 L701.474 1034.5 L701.474 1048.52 Z\" fill=\"#000000\" fill-rule=\"evenodd\" fill-opacity=\"1\" /><path clip-path=\"url(#clip000)\" d=\"M749.621 1056.49 L749.621 1058.57 L730.038 1058.57 Q730.316 1062.97 732.677 1065.28 Q735.061 1067.57 739.297 1067.57 Q741.751 1067.57 744.043 1066.97 Q746.358 1066.37 748.626 1065.17 L748.626 1069.19 Q746.334 1070.17 743.927 1070.68 Q741.52 1071.19 739.043 1071.19 Q732.839 1071.19 729.205 1067.57 Q725.594 1063.96 725.594 1057.81 Q725.594 1051.44 729.02 1047.71 Q732.469 1043.96 738.302 1043.96 Q743.534 1043.96 746.566 1047.34 Q749.621 1050.7 749.621 1056.49 M745.362 1055.24 Q745.316 1051.74 743.395 1049.66 Q741.496 1047.57 738.348 1047.57 Q734.784 1047.57 732.631 1049.59 Q730.501 1051.6 730.177 1055.26 L745.362 1055.24 Z\" fill=\"#000000\" fill-rule=\"evenodd\" fill-opacity=\"1\" /><path clip-path=\"url(#clip000)\" d=\"M771.635 1048.57 Q770.918 1048.15 770.061 1047.97 Q769.228 1047.76 768.209 1047.76 Q764.598 1047.76 762.654 1050.12 Q760.732 1052.46 760.732 1056.86 L760.732 1070.51 L756.45 1070.51 L756.45 1044.59 L760.732 1044.59 L760.732 1048.62 Q762.075 1046.25 764.228 1045.12 Q766.381 1043.96 769.459 1043.96 Q769.899 1043.96 770.432 1044.03 Q770.964 1044.08 771.612 1044.19 L771.635 1048.57 Z\" fill=\"#000000\" fill-rule=\"evenodd\" fill-opacity=\"1\" /><path clip-path=\"url(#clip000)\" d=\"M969.838 1054.31 Q971.343 1054.82 972.755 1056.49 Q974.19 1058.15 975.625 1061.07 L980.37 1070.51 L975.347 1070.51 L970.926 1061.65 Q969.213 1058.18 967.593 1057.04 Q965.996 1055.91 963.218 1055.91 L958.125 1055.91 L958.125 1070.51 L953.449 1070.51 L953.449 1035.95 L964.005 1035.95 Q969.931 1035.95 972.847 1038.43 Q975.764 1040.91 975.764 1045.91 Q975.764 1049.17 974.236 1051.32 Q972.732 1053.48 969.838 1054.31 M958.125 1039.8 L958.125 1052.07 L964.005 1052.07 Q967.384 1052.07 969.097 1050.51 Q970.833 1048.94 970.833 1045.91 Q970.833 1042.88 969.097 1041.35 Q967.384 1039.8 964.005 1039.8 L958.125 1039.8 Z\" fill=\"#000000\" fill-rule=\"evenodd\" fill-opacity=\"1\" /><path clip-path=\"url(#clip000)\" d=\"M1006.25 1056.49 L1006.25 1058.57 L986.667 1058.57 Q986.945 1062.97 989.306 1065.28 Q991.69 1067.57 995.926 1067.57 Q998.38 1067.57 1000.67 1066.97 Q1002.99 1066.37 1005.25 1065.17 L1005.25 1069.19 Q1002.96 1070.17 1000.56 1070.68 Q998.148 1071.19 995.671 1071.19 Q989.468 1071.19 985.833 1067.57 Q982.222 1063.96 982.222 1057.81 Q982.222 1051.44 985.648 1047.71 Q989.097 1043.96 994.931 1043.96 Q1000.16 1043.96 1003.19 1047.34 Q1006.25 1050.7 1006.25 1056.49 M1001.99 1055.24 Q1001.94 1051.74 1000.02 1049.66 Q998.125 1047.57 994.977 1047.57 Q991.412 1047.57 989.259 1049.59 Q987.13 1051.6 986.806 1055.26 L1001.99 1055.24 Z\" fill=\"#000000\" fill-rule=\"evenodd\" fill-opacity=\"1\" /><path clip-path=\"url(#clip000)\" d=\"M1025.02 1057.48 Q1019.86 1057.48 1017.87 1058.66 Q1015.88 1059.84 1015.88 1062.69 Q1015.88 1064.96 1017.36 1066.3 Q1018.87 1067.62 1021.44 1067.62 Q1024.98 1067.62 1027.11 1065.12 Q1029.26 1062.6 1029.26 1058.43 L1029.26 1057.48 L1025.02 1057.48 M1033.52 1055.72 L1033.52 1070.51 L1029.26 1070.51 L1029.26 1066.58 Q1027.8 1068.94 1025.62 1070.07 Q1023.45 1071.19 1020.3 1071.19 Q1016.32 1071.19 1013.96 1068.96 Q1011.62 1066.72 1011.62 1062.97 Q1011.62 1058.59 1014.54 1056.37 Q1017.48 1054.15 1023.29 1054.15 L1029.26 1054.15 L1029.26 1053.73 Q1029.26 1050.79 1027.31 1049.19 Q1025.39 1047.57 1021.9 1047.57 Q1019.68 1047.57 1017.57 1048.11 Q1015.46 1048.64 1013.52 1049.7 L1013.52 1045.77 Q1015.86 1044.87 1018.06 1044.43 Q1020.25 1043.96 1022.34 1043.96 Q1027.96 1043.96 1030.74 1046.88 Q1033.52 1049.8 1033.52 1055.72 Z\" fill=\"#000000\" fill-rule=\"evenodd\" fill-opacity=\"1\" /><path clip-path=\"url(#clip000)\" d=\"M1042.29 1034.5 L1046.55 1034.5 L1046.55 1070.51 L1042.29 1070.51 L1042.29 1034.5 Z\" fill=\"#000000\" fill-rule=\"evenodd\" fill-opacity=\"1\" /><path clip-path=\"url(#clip000)\" d=\"M1179.8 1040.56 L1173.46 1057.76 L1186.17 1057.76 L1179.8 1040.56 M1177.16 1035.95 L1182.46 1035.95 L1195.63 1070.51 L1190.77 1070.51 L1187.62 1061.65 L1172.05 1061.65 L1168.9 1070.51 L1163.97 1070.51 L1177.16 1035.95 Z\" fill=\"#000000\" fill-rule=\"evenodd\" fill-opacity=\"1\" /><path clip-path=\"url(#clip000)\" d=\"M1219.11 1057.57 Q1219.11 1052.88 1217.16 1050.21 Q1215.24 1047.53 1211.86 1047.53 Q1208.48 1047.53 1206.54 1050.21 Q1204.61 1052.88 1204.61 1057.57 Q1204.61 1062.27 1206.54 1064.96 Q1208.48 1067.62 1211.86 1067.62 Q1215.24 1067.62 1217.16 1064.96 Q1219.11 1062.27 1219.11 1057.57 M1204.61 1048.52 Q1205.96 1046.21 1207.99 1045.1 Q1210.05 1043.96 1212.9 1043.96 Q1217.62 1043.96 1220.56 1047.71 Q1223.53 1051.46 1223.53 1057.57 Q1223.53 1063.69 1220.56 1067.44 Q1217.62 1071.19 1212.9 1071.19 Q1210.05 1071.19 1207.99 1070.07 Q1205.96 1068.94 1204.61 1066.63 L1204.61 1070.51 L1200.33 1070.51 L1200.33 1034.5 L1204.61 1034.5 L1204.61 1048.52 Z\" fill=\"#000000\" fill-rule=\"evenodd\" fill-opacity=\"1\" /><path clip-path=\"url(#clip000)\" d=\"M1247.11 1045.35 L1247.11 1049.38 Q1245.31 1048.45 1243.36 1047.99 Q1241.42 1047.53 1239.34 1047.53 Q1236.17 1047.53 1234.57 1048.5 Q1232.99 1049.47 1232.99 1051.42 Q1232.99 1052.9 1234.13 1053.75 Q1235.26 1054.59 1238.69 1055.35 L1240.15 1055.68 Q1244.68 1056.65 1246.58 1058.43 Q1248.5 1060.19 1248.5 1063.36 Q1248.5 1066.97 1245.63 1069.08 Q1242.79 1071.19 1237.79 1071.19 Q1235.7 1071.19 1233.43 1070.77 Q1231.19 1070.38 1228.69 1069.56 L1228.69 1065.17 Q1231.05 1066.39 1233.34 1067.02 Q1235.63 1067.62 1237.88 1067.62 Q1240.89 1067.62 1242.51 1066.6 Q1244.13 1065.56 1244.13 1063.69 Q1244.13 1061.95 1242.95 1061.02 Q1241.79 1060.1 1237.83 1059.24 L1236.35 1058.89 Q1232.39 1058.06 1230.63 1056.35 Q1228.87 1054.61 1228.87 1051.6 Q1228.87 1047.94 1231.47 1045.95 Q1234.06 1043.96 1238.83 1043.96 Q1241.19 1043.96 1243.27 1044.31 Q1245.36 1044.66 1247.11 1045.35 Z\" fill=\"#000000\" fill-rule=\"evenodd\" fill-opacity=\"1\" /><path clip-path=\"url(#clip000)\" d=\"M1259.5 1037.23 L1259.5 1044.59 L1268.27 1044.59 L1268.27 1047.9 L1259.5 1047.9 L1259.5 1061.97 Q1259.5 1065.14 1260.36 1066.05 Q1261.23 1066.95 1263.9 1066.95 L1268.27 1066.95 L1268.27 1070.51 L1263.9 1070.51 Q1258.97 1070.51 1257.09 1068.69 Q1255.22 1066.83 1255.22 1061.97 L1255.22 1047.9 L1252.09 1047.9 L1252.09 1044.59 L1255.22 1044.59 L1255.22 1037.23 L1259.5 1037.23 Z\" fill=\"#000000\" fill-rule=\"evenodd\" fill-opacity=\"1\" /><path clip-path=\"url(#clip000)\" d=\"M1288.9 1048.57 Q1288.18 1048.15 1287.32 1047.97 Q1286.49 1047.76 1285.47 1047.76 Q1281.86 1047.76 1279.92 1050.12 Q1277.99 1052.46 1277.99 1056.86 L1277.99 1070.51 L1273.71 1070.51 L1273.71 1044.59 L1277.99 1044.59 L1277.99 1048.62 Q1279.34 1046.25 1281.49 1045.12 Q1283.64 1043.96 1286.72 1043.96 Q1287.16 1043.96 1287.69 1044.03 Q1288.23 1044.08 1288.87 1044.19 L1288.9 1048.57 Z\" fill=\"#000000\" fill-rule=\"evenodd\" fill-opacity=\"1\" /><path clip-path=\"url(#clip000)\" d=\"M1305.15 1057.48 Q1299.98 1057.48 1297.99 1058.66 Q1296 1059.84 1296 1062.69 Q1296 1064.96 1297.48 1066.3 Q1298.99 1067.62 1301.56 1067.62 Q1305.1 1067.62 1307.23 1065.12 Q1309.38 1062.6 1309.38 1058.43 L1309.38 1057.48 L1305.15 1057.48 M1313.64 1055.72 L1313.64 1070.51 L1309.38 1070.51 L1309.38 1066.58 Q1307.92 1068.94 1305.75 1070.07 Q1303.57 1071.19 1300.42 1071.19 Q1296.44 1071.19 1294.08 1068.96 Q1291.74 1066.72 1291.74 1062.97 Q1291.74 1058.59 1294.66 1056.37 Q1297.6 1054.15 1303.41 1054.15 L1309.38 1054.15 L1309.38 1053.73 Q1309.38 1050.79 1307.44 1049.19 Q1305.52 1047.57 1302.02 1047.57 Q1299.8 1047.57 1297.69 1048.11 Q1295.59 1048.64 1293.64 1049.7 L1293.64 1045.77 Q1295.98 1044.87 1298.18 1044.43 Q1300.38 1043.96 1302.46 1043.96 Q1308.09 1043.96 1310.86 1046.88 Q1313.64 1049.8 1313.64 1055.72 Z\" fill=\"#000000\" fill-rule=\"evenodd\" fill-opacity=\"1\" /><path clip-path=\"url(#clip000)\" d=\"M1341.07 1045.58 L1341.07 1049.57 Q1339.27 1048.57 1337.44 1048.08 Q1335.63 1047.57 1333.78 1047.57 Q1329.64 1047.57 1327.35 1050.21 Q1325.05 1052.83 1325.05 1057.57 Q1325.05 1062.32 1327.35 1064.96 Q1329.64 1067.57 1333.78 1067.57 Q1335.63 1067.57 1337.44 1067.09 Q1339.27 1066.58 1341.07 1065.58 L1341.07 1069.52 Q1339.29 1070.35 1337.37 1070.77 Q1335.47 1071.19 1333.32 1071.19 Q1327.46 1071.19 1324.01 1067.5 Q1320.56 1063.82 1320.56 1057.57 Q1320.56 1051.23 1324.04 1047.6 Q1327.53 1043.96 1333.6 1043.96 Q1335.56 1043.96 1337.44 1044.38 Q1339.31 1044.77 1341.07 1045.58 Z\" fill=\"#000000\" fill-rule=\"evenodd\" fill-opacity=\"1\" /><path clip-path=\"url(#clip000)\" d=\"M1352.69 1037.23 L1352.69 1044.59 L1361.47 1044.59 L1361.47 1047.9 L1352.69 1047.9 L1352.69 1061.97 Q1352.69 1065.14 1353.55 1066.05 Q1354.43 1066.95 1357.09 1066.95 L1361.47 1066.95 L1361.47 1070.51 L1357.09 1070.51 Q1352.16 1070.51 1350.29 1068.69 Q1348.41 1066.83 1348.41 1061.97 L1348.41 1047.9 L1345.29 1047.9 L1345.29 1044.59 L1348.41 1044.59 L1348.41 1037.23 L1352.69 1037.23 Z\" fill=\"#000000\" fill-rule=\"evenodd\" fill-opacity=\"1\" /><path clip-path=\"url(#clip000)\" d=\"M1367.25 1035.95 L1387.11 1035.95 L1387.11 1039.89 L1371.93 1039.89 L1371.93 1050.07 L1385.63 1050.07 L1385.63 1054.01 L1371.93 1054.01 L1371.93 1070.51 L1367.25 1070.51 L1367.25 1035.95 Z\" fill=\"#000000\" fill-rule=\"evenodd\" fill-opacity=\"1\" /><path clip-path=\"url(#clip000)\" d=\"M1394.34 1034.5 L1398.6 1034.5 L1398.6 1070.51 L1394.34 1070.51 L1394.34 1034.5 Z\" fill=\"#000000\" fill-rule=\"evenodd\" fill-opacity=\"1\" /><path clip-path=\"url(#clip000)\" d=\"M1417.55 1047.57 Q1414.13 1047.57 1412.14 1050.26 Q1410.15 1052.92 1410.15 1057.57 Q1410.15 1062.23 1412.11 1064.91 Q1414.1 1067.57 1417.55 1067.57 Q1420.96 1067.57 1422.95 1064.89 Q1424.94 1062.2 1424.94 1057.57 Q1424.94 1052.97 1422.95 1050.28 Q1420.96 1047.57 1417.55 1047.57 M1417.55 1043.96 Q1423.11 1043.96 1426.28 1047.57 Q1429.45 1051.19 1429.45 1057.57 Q1429.45 1063.94 1426.28 1067.57 Q1423.11 1071.19 1417.55 1071.19 Q1411.97 1071.19 1408.8 1067.57 Q1405.66 1063.94 1405.66 1057.57 Q1405.66 1051.19 1408.8 1047.57 Q1411.97 1043.96 1417.55 1043.96 Z\" fill=\"#000000\" fill-rule=\"evenodd\" fill-opacity=\"1\" /><path clip-path=\"url(#clip000)\" d=\"M1448.29 1057.48 Q1443.13 1057.48 1441.14 1058.66 Q1439.15 1059.84 1439.15 1062.69 Q1439.15 1064.96 1440.63 1066.3 Q1442.14 1067.62 1444.71 1067.62 Q1448.25 1067.62 1450.38 1065.12 Q1452.53 1062.6 1452.53 1058.43 L1452.53 1057.48 L1448.29 1057.48 M1456.79 1055.72 L1456.79 1070.51 L1452.53 1070.51 L1452.53 1066.58 Q1451.07 1068.94 1448.9 1070.07 Q1446.72 1071.19 1443.57 1071.19 Q1439.59 1071.19 1437.23 1068.96 Q1434.89 1066.72 1434.89 1062.97 Q1434.89 1058.59 1437.81 1056.37 Q1440.75 1054.15 1446.56 1054.15 L1452.53 1054.15 L1452.53 1053.73 Q1452.53 1050.79 1450.59 1049.19 Q1448.66 1047.57 1445.17 1047.57 Q1442.95 1047.57 1440.84 1048.11 Q1438.73 1048.64 1436.79 1049.7 L1436.79 1045.77 Q1439.13 1044.87 1441.33 1044.43 Q1443.53 1043.96 1445.61 1043.96 Q1451.23 1043.96 1454.01 1046.88 Q1456.79 1049.8 1456.79 1055.72 Z\" fill=\"#000000\" fill-rule=\"evenodd\" fill-opacity=\"1\" /><path clip-path=\"url(#clip000)\" d=\"M1469.78 1037.23 L1469.78 1044.59 L1478.55 1044.59 L1478.55 1047.9 L1469.78 1047.9 L1469.78 1061.97 Q1469.78 1065.14 1470.63 1066.05 Q1471.51 1066.95 1474.17 1066.95 L1478.55 1066.95 L1478.55 1070.51 L1474.17 1070.51 Q1469.24 1070.51 1467.37 1068.69 Q1465.49 1066.83 1465.49 1061.97 L1465.49 1047.9 L1462.37 1047.9 L1462.37 1044.59 L1465.49 1044.59 L1465.49 1037.23 L1469.78 1037.23 Z\" fill=\"#000000\" fill-rule=\"evenodd\" fill-opacity=\"1\" /><path clip-path=\"url(#clip000)\" d=\"M1553.65 411.494 L1553.65 424.156 L1561.15 424.156 Q1564.92 424.156 1566.73 422.605 Q1568.56 421.031 1568.56 417.813 Q1568.56 414.573 1566.73 413.045 Q1564.92 411.494 1561.15 411.494 L1553.65 411.494 M1553.65 397.281 L1553.65 407.698 L1560.57 407.698 Q1564 407.698 1565.66 406.424 Q1567.35 405.128 1567.35 402.489 Q1567.35 399.874 1565.66 398.577 Q1564 397.281 1560.57 397.281 L1553.65 397.281 M1548.97 393.438 L1560.92 393.438 Q1566.27 393.438 1569.16 395.661 Q1572.05 397.883 1572.05 401.98 Q1572.05 405.151 1570.57 407.026 Q1569.09 408.901 1566.22 409.364 Q1569.67 410.105 1571.57 412.466 Q1573.49 414.804 1573.49 418.323 Q1573.49 422.952 1570.34 425.475 Q1567.19 427.998 1561.38 427.998 L1548.97 427.998 L1548.97 393.438 Z\" fill=\"#000000\" fill-rule=\"evenodd\" fill-opacity=\"1\" /><path clip-path=\"url(#clip000)\" d=\"M1581.31 402.073 L1585.57 402.073 L1585.57 427.998 L1581.31 427.998 L1581.31 402.073 M1581.31 391.98 L1585.57 391.98 L1585.57 397.374 L1581.31 397.374 L1581.31 391.98 Z\" fill=\"#000000\" fill-rule=\"evenodd\" fill-opacity=\"1\" /><path clip-path=\"url(#clip000)\" d=\"M1611.54 414.735 Q1611.54 410.105 1609.62 407.559 Q1607.72 405.012 1604.28 405.012 Q1600.85 405.012 1598.93 407.559 Q1597.03 410.105 1597.03 414.735 Q1597.03 419.341 1598.93 421.887 Q1600.85 424.434 1604.28 424.434 Q1607.72 424.434 1609.62 421.887 Q1611.54 419.341 1611.54 414.735 M1615.8 424.781 Q1615.8 431.401 1612.86 434.619 Q1609.92 437.859 1603.86 437.859 Q1601.61 437.859 1599.62 437.512 Q1597.63 437.188 1595.76 436.494 L1595.76 432.35 Q1597.63 433.369 1599.46 433.855 Q1601.29 434.341 1603.19 434.341 Q1607.38 434.341 1609.46 432.142 Q1611.54 429.966 1611.54 425.545 L1611.54 423.438 Q1610.22 425.73 1608.16 426.864 Q1606.1 427.998 1603.23 427.998 Q1598.46 427.998 1595.55 424.364 Q1592.63 420.73 1592.63 414.735 Q1592.63 408.716 1595.55 405.082 Q1598.46 401.448 1603.23 401.448 Q1606.1 401.448 1608.16 402.582 Q1610.22 403.716 1611.54 406.008 L1611.54 402.073 L1615.8 402.073 L1615.8 424.781 Z\" fill=\"#000000\" fill-rule=\"evenodd\" fill-opacity=\"1\" /><path clip-path=\"url(#clip000)\" d=\"M1624.76 393.438 L1644.62 393.438 L1644.62 397.374 L1629.44 397.374 L1629.44 407.559 L1643.14 407.559 L1643.14 411.494 L1629.44 411.494 L1629.44 427.998 L1624.76 427.998 L1624.76 393.438 Z\" fill=\"#000000\" fill-rule=\"evenodd\" fill-opacity=\"1\" /><path clip-path=\"url(#clip000)\" d=\"M1651.84 391.98 L1656.1 391.98 L1656.1 427.998 L1651.84 427.998 L1651.84 391.98 Z\" fill=\"#000000\" fill-rule=\"evenodd\" fill-opacity=\"1\" /><path clip-path=\"url(#clip000)\" d=\"M1675.06 405.059 Q1671.64 405.059 1669.65 407.744 Q1667.65 410.406 1667.65 415.059 Q1667.65 419.711 1669.62 422.397 Q1671.61 425.059 1675.06 425.059 Q1678.46 425.059 1680.46 422.373 Q1682.45 419.688 1682.45 415.059 Q1682.45 410.452 1680.46 407.767 Q1678.46 405.059 1675.06 405.059 M1675.06 401.448 Q1680.62 401.448 1683.79 405.059 Q1686.96 408.67 1686.96 415.059 Q1686.96 421.424 1683.79 425.059 Q1680.62 428.67 1675.06 428.67 Q1669.48 428.67 1666.31 425.059 Q1663.16 421.424 1663.16 415.059 Q1663.16 408.67 1666.31 405.059 Q1669.48 401.448 1675.06 401.448 Z\" fill=\"#000000\" fill-rule=\"evenodd\" fill-opacity=\"1\" /><path clip-path=\"url(#clip000)\" d=\"M1705.8 414.966 Q1700.64 414.966 1698.65 416.147 Q1696.66 417.327 1696.66 420.174 Q1696.66 422.443 1698.14 423.785 Q1699.64 425.105 1702.21 425.105 Q1705.76 425.105 1707.89 422.605 Q1710.04 420.082 1710.04 415.915 L1710.04 414.966 L1705.8 414.966 M1714.3 413.207 L1714.3 427.998 L1710.04 427.998 L1710.04 424.063 Q1708.58 426.424 1706.4 427.559 Q1704.23 428.67 1701.08 428.67 Q1697.1 428.67 1694.74 426.447 Q1692.4 424.202 1692.4 420.452 Q1692.4 416.077 1695.32 413.855 Q1698.26 411.633 1704.07 411.633 L1710.04 411.633 L1710.04 411.216 Q1710.04 408.276 1708.09 406.679 Q1706.17 405.059 1702.68 405.059 Q1700.46 405.059 1698.35 405.591 Q1696.24 406.123 1694.3 407.188 L1694.3 403.253 Q1696.64 402.35 1698.83 401.911 Q1701.03 401.448 1703.12 401.448 Q1708.74 401.448 1711.52 404.364 Q1714.3 407.281 1714.3 413.207 Z\" fill=\"#000000\" fill-rule=\"evenodd\" fill-opacity=\"1\" /><path clip-path=\"url(#clip000)\" d=\"M1727.28 394.712 L1727.28 402.073 L1736.06 402.073 L1736.06 405.383 L1727.28 405.383 L1727.28 419.457 Q1727.28 422.628 1728.14 423.531 Q1729.02 424.434 1731.68 424.434 L1736.06 424.434 L1736.06 427.998 L1731.68 427.998 Q1726.75 427.998 1724.88 426.17 Q1723 424.318 1723 419.457 L1723 405.383 L1719.88 405.383 L1719.88 402.073 L1723 402.073 L1723 394.712 L1727.28 394.712 Z\" fill=\"#000000\" fill-rule=\"evenodd\" fill-opacity=\"1\" /><path clip-path=\"url(#clip000)\" d=\"M1557.63 821.782 L1577.49 821.782 L1577.49 825.717 L1562.31 825.717 L1562.31 835.902 L1576.01 835.902 L1576.01 839.838 L1562.31 839.838 L1562.31 856.342 L1557.63 856.342 L1557.63 821.782 Z\" fill=\"#000000\" fill-rule=\"evenodd\" fill-opacity=\"1\" /><path clip-path=\"url(#clip000)\" d=\"M1584.72 820.324 L1588.97 820.324 L1588.97 856.342 L1584.72 856.342 L1584.72 820.324 Z\" fill=\"#000000\" fill-rule=\"evenodd\" fill-opacity=\"1\" /><path clip-path=\"url(#clip000)\" d=\"M1607.93 833.402 Q1604.51 833.402 1602.52 836.088 Q1600.53 838.75 1600.53 843.402 Q1600.53 848.055 1602.49 850.74 Q1604.48 853.402 1607.93 853.402 Q1611.34 853.402 1613.33 850.717 Q1615.32 848.032 1615.32 843.402 Q1615.32 838.796 1613.33 836.111 Q1611.34 833.402 1607.93 833.402 M1607.93 829.791 Q1613.49 829.791 1616.66 833.402 Q1619.83 837.014 1619.83 843.402 Q1619.83 849.768 1616.66 853.402 Q1613.49 857.013 1607.93 857.013 Q1602.35 857.013 1599.18 853.402 Q1596.03 849.768 1596.03 843.402 Q1596.03 837.014 1599.18 833.402 Q1602.35 829.791 1607.93 829.791 Z\" fill=\"#000000\" fill-rule=\"evenodd\" fill-opacity=\"1\" /><path clip-path=\"url(#clip000)\" d=\"M1638.67 843.31 Q1633.51 843.31 1631.52 844.49 Q1629.53 845.671 1629.53 848.518 Q1629.53 850.787 1631.01 852.129 Q1632.52 853.449 1635.09 853.449 Q1638.63 853.449 1640.76 850.949 Q1642.91 848.426 1642.91 844.259 L1642.91 843.31 L1638.67 843.31 M1647.17 841.551 L1647.17 856.342 L1642.91 856.342 L1642.91 852.407 Q1641.45 854.768 1639.27 855.902 Q1637.1 857.013 1633.95 857.013 Q1629.97 857.013 1627.61 854.791 Q1625.27 852.546 1625.27 848.796 Q1625.27 844.421 1628.19 842.199 Q1631.13 839.976 1636.94 839.976 L1642.91 839.976 L1642.91 839.56 Q1642.91 836.62 1640.96 835.023 Q1639.04 833.402 1635.55 833.402 Q1633.33 833.402 1631.22 833.935 Q1629.11 834.467 1627.17 835.532 L1627.17 831.597 Q1629.51 830.694 1631.71 830.254 Q1633.9 829.791 1635.99 829.791 Q1641.61 829.791 1644.39 832.708 Q1647.17 835.625 1647.17 841.551 Z\" fill=\"#000000\" fill-rule=\"evenodd\" fill-opacity=\"1\" /><path clip-path=\"url(#clip000)\" d=\"M1660.15 823.055 L1660.15 830.416 L1668.93 830.416 L1668.93 833.727 L1660.15 833.727 L1660.15 847.801 Q1660.15 850.972 1661.01 851.875 Q1661.89 852.777 1664.55 852.777 L1668.93 852.777 L1668.93 856.342 L1664.55 856.342 Q1659.62 856.342 1657.75 854.513 Q1655.87 852.662 1655.87 847.801 L1655.87 833.727 L1652.75 833.727 L1652.75 830.416 L1655.87 830.416 L1655.87 823.055 L1660.15 823.055 Z\" fill=\"#000000\" fill-rule=\"evenodd\" fill-opacity=\"1\" /><path clip-path=\"url(#clip000)\" d=\"M1675.94 852.407 L1683.58 852.407 L1683.58 826.041 L1675.27 827.708 L1675.27 823.449 L1683.53 821.782 L1688.21 821.782 L1688.21 852.407 L1695.85 852.407 L1695.85 856.342 L1675.94 856.342 L1675.94 852.407 Z\" fill=\"#000000\" fill-rule=\"evenodd\" fill-opacity=\"1\" /><path clip-path=\"url(#clip000)\" d=\"M1715.87 837.199 Q1712.72 837.199 1710.87 839.351 Q1709.04 841.504 1709.04 845.254 Q1709.04 848.981 1710.87 851.157 Q1712.72 853.31 1715.87 853.31 Q1719.02 853.31 1720.85 851.157 Q1722.7 848.981 1722.7 845.254 Q1722.7 841.504 1720.85 839.351 Q1719.02 837.199 1715.87 837.199 M1725.15 822.546 L1725.15 826.805 Q1723.39 825.972 1721.59 825.532 Q1719.81 825.092 1718.05 825.092 Q1713.42 825.092 1710.96 828.217 Q1708.53 831.342 1708.19 837.662 Q1709.55 835.648 1711.61 834.583 Q1713.67 833.495 1716.15 833.495 Q1721.36 833.495 1724.37 836.666 Q1727.4 839.814 1727.4 845.254 Q1727.4 850.578 1724.25 853.796 Q1721.1 857.013 1715.87 857.013 Q1709.88 857.013 1706.71 852.43 Q1703.53 847.824 1703.53 839.097 Q1703.53 830.902 1707.42 826.041 Q1711.31 821.157 1717.86 821.157 Q1719.62 821.157 1721.4 821.504 Q1723.21 821.852 1725.15 822.546 Z\" fill=\"#000000\" fill-rule=\"evenodd\" fill-opacity=\"1\" /><path clip-path=\"url(#clip000)\" d=\"M1558.51 1250.13 L1578.37 1250.13 L1578.37 1254.06 L1563.19 1254.06 L1563.19 1264.25 L1576.89 1264.25 L1576.89 1268.18 L1563.19 1268.18 L1563.19 1284.69 L1558.51 1284.69 L1558.51 1250.13 Z\" fill=\"#000000\" fill-rule=\"evenodd\" fill-opacity=\"1\" /><path clip-path=\"url(#clip000)\" d=\"M1585.59 1248.67 L1589.85 1248.67 L1589.85 1284.69 L1585.59 1284.69 L1585.59 1248.67 Z\" fill=\"#000000\" fill-rule=\"evenodd\" fill-opacity=\"1\" /><path clip-path=\"url(#clip000)\" d=\"M1608.81 1261.75 Q1605.39 1261.75 1603.4 1264.43 Q1601.4 1267.09 1601.4 1271.75 Q1601.4 1276.4 1603.37 1279.08 Q1605.36 1281.75 1608.81 1281.75 Q1612.21 1281.75 1614.21 1279.06 Q1616.2 1276.38 1616.2 1271.75 Q1616.2 1267.14 1614.21 1264.45 Q1612.21 1261.75 1608.81 1261.75 M1608.81 1258.14 Q1614.37 1258.14 1617.54 1261.75 Q1620.71 1265.36 1620.71 1271.75 Q1620.71 1278.11 1617.54 1281.75 Q1614.37 1285.36 1608.81 1285.36 Q1603.23 1285.36 1600.06 1281.75 Q1596.91 1278.11 1596.91 1271.75 Q1596.91 1265.36 1600.06 1261.75 Q1603.23 1258.14 1608.81 1258.14 Z\" fill=\"#000000\" fill-rule=\"evenodd\" fill-opacity=\"1\" /><path clip-path=\"url(#clip000)\" d=\"M1639.55 1271.65 Q1634.39 1271.65 1632.4 1272.83 Q1630.41 1274.01 1630.41 1276.86 Q1630.41 1279.13 1631.89 1280.47 Q1633.4 1281.79 1635.96 1281.79 Q1639.51 1281.79 1641.64 1279.29 Q1643.79 1276.77 1643.79 1272.6 L1643.79 1271.65 L1639.55 1271.65 M1648.05 1269.89 L1648.05 1284.69 L1643.79 1284.69 L1643.79 1280.75 Q1642.33 1283.11 1640.15 1284.25 Q1637.98 1285.36 1634.83 1285.36 Q1630.85 1285.36 1628.49 1283.13 Q1626.15 1280.89 1626.15 1277.14 Q1626.15 1272.76 1629.07 1270.54 Q1632.01 1268.32 1637.82 1268.32 L1643.79 1268.32 L1643.79 1267.9 Q1643.79 1264.96 1641.84 1263.37 Q1639.92 1261.75 1636.43 1261.75 Q1634.21 1261.75 1632.1 1262.28 Q1629.99 1262.81 1628.05 1263.88 L1628.05 1259.94 Q1630.39 1259.04 1632.59 1258.6 Q1634.78 1258.14 1636.87 1258.14 Q1642.49 1258.14 1645.27 1261.05 Q1648.05 1263.97 1648.05 1269.89 Z\" fill=\"#000000\" fill-rule=\"evenodd\" fill-opacity=\"1\" /><path clip-path=\"url(#clip000)\" d=\"M1661.03 1251.4 L1661.03 1258.76 L1669.81 1258.76 L1669.81 1262.07 L1661.03 1262.07 L1661.03 1276.14 Q1661.03 1279.32 1661.89 1280.22 Q1662.77 1281.12 1665.43 1281.12 L1669.81 1281.12 L1669.81 1284.69 L1665.43 1284.69 Q1660.5 1284.69 1658.63 1282.86 Q1656.75 1281.01 1656.75 1276.14 L1656.75 1262.07 L1653.63 1262.07 L1653.63 1258.76 L1656.75 1258.76 L1656.75 1251.4 L1661.03 1251.4 Z\" fill=\"#000000\" fill-rule=\"evenodd\" fill-opacity=\"1\" /><path clip-path=\"url(#clip000)\" d=\"M1690.18 1266.05 Q1693.53 1266.77 1695.41 1269.04 Q1697.31 1271.31 1697.31 1274.64 Q1697.31 1279.76 1693.79 1282.56 Q1690.27 1285.36 1683.79 1285.36 Q1681.61 1285.36 1679.3 1284.92 Q1677.01 1284.5 1674.55 1283.64 L1674.55 1279.13 Q1676.5 1280.26 1678.81 1280.84 Q1681.13 1281.42 1683.65 1281.42 Q1688.05 1281.42 1690.34 1279.69 Q1692.65 1277.95 1692.65 1274.64 Q1692.65 1271.58 1690.5 1269.87 Q1688.37 1268.14 1684.55 1268.14 L1680.52 1268.14 L1680.52 1264.29 L1684.74 1264.29 Q1688.19 1264.29 1690.02 1262.93 Q1691.84 1261.54 1691.84 1258.95 Q1691.84 1256.28 1689.95 1254.87 Q1688.07 1253.44 1684.55 1253.44 Q1682.63 1253.44 1680.43 1253.85 Q1678.23 1254.27 1675.59 1255.15 L1675.59 1250.98 Q1678.26 1250.24 1680.57 1249.87 Q1682.91 1249.5 1684.97 1249.5 Q1690.29 1249.5 1693.39 1251.93 Q1696.5 1254.34 1696.5 1258.46 Q1696.5 1261.33 1694.85 1263.32 Q1693.21 1265.29 1690.18 1266.05 Z\" fill=\"#000000\" fill-rule=\"evenodd\" fill-opacity=\"1\" /><path clip-path=\"url(#clip000)\" d=\"M1710.2 1280.75 L1726.52 1280.75 L1726.52 1284.69 L1704.58 1284.69 L1704.58 1280.75 Q1707.24 1278 1711.82 1273.37 Q1716.43 1268.71 1717.61 1267.37 Q1719.85 1264.85 1720.73 1263.11 Q1721.64 1261.35 1721.64 1259.66 Q1721.64 1256.91 1719.69 1255.17 Q1717.77 1253.44 1714.67 1253.44 Q1712.47 1253.44 1710.02 1254.2 Q1707.58 1254.96 1704.81 1256.51 L1704.81 1251.79 Q1707.63 1250.66 1710.08 1250.08 Q1712.54 1249.5 1714.58 1249.5 Q1719.95 1249.5 1723.14 1252.19 Q1726.33 1254.87 1726.33 1259.36 Q1726.33 1261.49 1725.52 1263.41 Q1724.74 1265.31 1722.63 1267.9 Q1722.05 1268.57 1718.95 1271.79 Q1715.85 1274.99 1710.2 1280.75 Z\" fill=\"#000000\" fill-rule=\"evenodd\" fill-opacity=\"1\" /><path clip-path=\"url(#clip000)\" d=\"M1557.47 1678.47 L1577.33 1678.47 L1577.33 1682.4 L1562.15 1682.4 L1562.15 1692.59 L1575.85 1692.59 L1575.85 1696.53 L1562.15 1696.53 L1562.15 1713.03 L1557.47 1713.03 L1557.47 1678.47 Z\" fill=\"#000000\" fill-rule=\"evenodd\" fill-opacity=\"1\" /><path clip-path=\"url(#clip000)\" d=\"M1584.55 1677.01 L1588.81 1677.01 L1588.81 1713.03 L1584.55 1713.03 L1584.55 1677.01 Z\" fill=\"#000000\" fill-rule=\"evenodd\" fill-opacity=\"1\" /><path clip-path=\"url(#clip000)\" d=\"M1607.77 1690.09 Q1604.34 1690.09 1602.35 1692.78 Q1600.36 1695.44 1600.36 1700.09 Q1600.36 1704.74 1602.33 1707.43 Q1604.32 1710.09 1607.77 1710.09 Q1611.17 1710.09 1613.16 1707.4 Q1615.15 1704.72 1615.15 1700.09 Q1615.15 1695.48 1613.16 1692.8 Q1611.17 1690.09 1607.77 1690.09 M1607.77 1686.48 Q1613.33 1686.48 1616.5 1690.09 Q1619.67 1693.7 1619.67 1700.09 Q1619.67 1706.46 1616.5 1710.09 Q1613.33 1713.7 1607.77 1713.7 Q1602.19 1713.7 1599.02 1710.09 Q1595.87 1706.46 1595.87 1700.09 Q1595.87 1693.7 1599.02 1690.09 Q1602.19 1686.48 1607.77 1686.48 Z\" fill=\"#000000\" fill-rule=\"evenodd\" fill-opacity=\"1\" /><path clip-path=\"url(#clip000)\" d=\"M1638.51 1700 Q1633.35 1700 1631.36 1701.18 Q1629.37 1702.36 1629.37 1705.21 Q1629.37 1707.47 1630.85 1708.82 Q1632.35 1710.14 1634.92 1710.14 Q1638.46 1710.14 1640.59 1707.64 Q1642.75 1705.11 1642.75 1700.95 L1642.75 1700 L1638.51 1700 M1647.01 1698.24 L1647.01 1713.03 L1642.75 1713.03 L1642.75 1709.09 Q1641.29 1711.46 1639.11 1712.59 Q1636.94 1713.7 1633.79 1713.7 Q1629.81 1713.7 1627.45 1711.48 Q1625.11 1709.23 1625.11 1705.48 Q1625.11 1701.11 1628.02 1698.89 Q1630.96 1696.66 1636.77 1696.66 L1642.75 1696.66 L1642.75 1696.25 Q1642.75 1693.31 1640.8 1691.71 Q1638.88 1690.09 1635.39 1690.09 Q1633.16 1690.09 1631.06 1690.62 Q1628.95 1691.15 1627.01 1692.22 L1627.01 1688.28 Q1629.34 1687.38 1631.54 1686.94 Q1633.74 1686.48 1635.83 1686.48 Q1641.45 1686.48 1644.23 1689.4 Q1647.01 1692.31 1647.01 1698.24 Z\" fill=\"#000000\" fill-rule=\"evenodd\" fill-opacity=\"1\" /><path clip-path=\"url(#clip000)\" d=\"M1659.99 1679.74 L1659.99 1687.1 L1668.77 1687.1 L1668.77 1690.41 L1659.99 1690.41 L1659.99 1704.49 Q1659.99 1707.66 1660.85 1708.56 Q1661.73 1709.46 1664.39 1709.46 L1668.77 1709.46 L1668.77 1713.03 L1664.39 1713.03 Q1659.46 1713.03 1657.58 1711.2 Q1655.71 1709.35 1655.71 1704.49 L1655.71 1690.41 L1652.59 1690.41 L1652.59 1687.1 L1655.71 1687.1 L1655.71 1679.74 L1659.99 1679.74 Z\" fill=\"#000000\" fill-rule=\"evenodd\" fill-opacity=\"1\" /><path clip-path=\"url(#clip000)\" d=\"M1685.55 1693.89 Q1682.4 1693.89 1680.55 1696.04 Q1678.72 1698.19 1678.72 1701.94 Q1678.72 1705.67 1680.55 1707.84 Q1682.4 1710 1685.55 1710 Q1688.7 1710 1690.52 1707.84 Q1692.38 1705.67 1692.38 1701.94 Q1692.38 1698.19 1690.52 1696.04 Q1688.7 1693.89 1685.55 1693.89 M1694.83 1679.23 L1694.83 1683.49 Q1693.07 1682.66 1691.27 1682.22 Q1689.48 1681.78 1687.72 1681.78 Q1683.09 1681.78 1680.64 1684.9 Q1678.21 1688.03 1677.86 1694.35 Q1679.23 1692.34 1681.29 1691.27 Q1683.35 1690.18 1685.83 1690.18 Q1691.03 1690.18 1694.04 1693.35 Q1697.08 1696.5 1697.08 1701.94 Q1697.08 1707.27 1693.93 1710.48 Q1690.78 1713.7 1685.55 1713.7 Q1679.55 1713.7 1676.38 1709.12 Q1673.21 1704.51 1673.21 1695.78 Q1673.21 1687.59 1677.1 1682.73 Q1680.99 1677.84 1687.54 1677.84 Q1689.3 1677.84 1691.08 1678.19 Q1692.89 1678.54 1694.83 1679.23 Z\" fill=\"#000000\" fill-rule=\"evenodd\" fill-opacity=\"1\" /><path clip-path=\"url(#clip000)\" d=\"M1717.98 1682.54 L1706.17 1700.99 L1717.98 1700.99 L1717.98 1682.54 M1716.75 1678.47 L1722.63 1678.47 L1722.63 1700.99 L1727.56 1700.99 L1727.56 1704.88 L1722.63 1704.88 L1722.63 1713.03 L1717.98 1713.03 L1717.98 1704.88 L1702.38 1704.88 L1702.38 1700.37 L1716.75 1678.47 Z\" fill=\"#000000\" fill-rule=\"evenodd\" fill-opacity=\"1\" /></svg>\n"
      ]
     },
     "execution_count": 123,
     "metadata": {},
     "output_type": "execute_result"
    }
   ],
   "source": [
    "using GraphRecipes\n",
    "using Plots\n",
    "default(size=(500, 500))\n",
    "\n",
    "# https://docs.juliaplots.org/latest/generated/graph_attributes/\n",
    "plot(AbstractFloat, title=\"Figure G.1\",\n",
    "    root=:left, curves=false, nodesize=0.10, edge_label_box=true,\n",
    "    nodecolor=4,\n",
    "    method=:buchheim, fontsize=8, nodeshape=:rect)"
   ]
  },
  {
   "cell_type": "code",
   "execution_count": 124,
   "id": "e91a94ca",
   "metadata": {},
   "outputs": [
    {
     "data": {
      "text/plain": [
       "AbstractFloat"
      ]
     },
     "execution_count": 124,
     "metadata": {},
     "output_type": "execute_result"
    }
   ],
   "source": [
    "supertype(Float64)"
   ]
  },
  {
   "cell_type": "code",
   "execution_count": 125,
   "id": "bb755353",
   "metadata": {},
   "outputs": [
    {
     "data": {
      "text/plain": [
       "Real"
      ]
     },
     "execution_count": 125,
     "metadata": {},
     "output_type": "execute_result"
    }
   ],
   "source": [
    "supertype(AbstractFloat)"
   ]
  },
  {
   "cell_type": "code",
   "execution_count": 126,
   "id": "6c068d81",
   "metadata": {},
   "outputs": [
    {
     "data": {
      "text/plain": [
       "Number"
      ]
     },
     "execution_count": 126,
     "metadata": {},
     "output_type": "execute_result"
    }
   ],
   "source": [
    "supertype(Real)"
   ]
  },
  {
   "cell_type": "code",
   "execution_count": 127,
   "id": "43f37ab1",
   "metadata": {},
   "outputs": [
    {
     "data": {
      "text/plain": [
       "Any"
      ]
     },
     "execution_count": 127,
     "metadata": {},
     "output_type": "execute_result"
    }
   ],
   "source": [
    "supertype(Number)"
   ]
  },
  {
   "cell_type": "code",
   "execution_count": 128,
   "id": "4e77c582",
   "metadata": {},
   "outputs": [
    {
     "data": {
      "text/plain": [
       "Any"
      ]
     },
     "execution_count": 128,
     "metadata": {},
     "output_type": "execute_result"
    }
   ],
   "source": [
    "supertype(Any)     # Any is at the top of the hierarchy"
   ]
  },
  {
   "cell_type": "code",
   "execution_count": 129,
   "id": "65597ba4",
   "metadata": {},
   "outputs": [
    {
     "data": {
      "text/plain": [
       "4-element Vector{Any}:\n",
       " BigFloat\n",
       " Float16\n",
       " Float32\n",
       " Float64"
      ]
     },
     "execution_count": 129,
     "metadata": {},
     "output_type": "execute_result"
    }
   ],
   "source": [
    "using InteractiveUtils # required for using subtypes in scripts\n",
    "subtypes(AbstractFloat) # different types of AbstractFloats"
   ]
  },
  {
   "cell_type": "code",
   "execution_count": 130,
   "id": "e7f3a644",
   "metadata": {},
   "outputs": [
    {
     "data": {
      "text/plain": [
       "Type[]"
      ]
     },
     "execution_count": 130,
     "metadata": {},
     "output_type": "execute_result"
    }
   ],
   "source": [
    "subtypes(Float64)"
   ]
  },
  {
   "cell_type": "markdown",
   "id": "d77a84ea",
   "metadata": {},
   "source": [
    "We can define our own abstract types:"
   ]
  },
  {
   "cell_type": "code",
   "execution_count": 131,
   "id": "0d7b5677",
   "metadata": {},
   "outputs": [],
   "source": [
    "abstract type C end\n",
    "abstract type D <: C end # D is an abstract subtype of C\n",
    "struct E <: D # E is a composite type that is a subtype of D\n",
    "  a\n",
    "end"
   ]
  },
  {
   "cell_type": "markdown",
   "id": "9f9d8288",
   "metadata": {},
   "source": [
    "### G.1.12 Parametric Types\n",
    "\n",
    "Julia supports parametric types, which are types that take parameters. The parameters to a parametric type are given within braces and delimited by commas. We have already seen a parametric type with our dictionary example:"
   ]
  },
  {
   "cell_type": "code",
   "execution_count": 132,
   "id": "deb113d0",
   "metadata": {},
   "outputs": [
    {
     "data": {
      "text/plain": [
       "Dict{Int64, Float64} with 2 entries:\n",
       "  3 => 1.4\n",
       "  1 => 5.9"
      ]
     },
     "execution_count": 132,
     "metadata": {},
     "output_type": "execute_result"
    }
   ],
   "source": [
    "x = Dict(3=>1.4, 1=>5.9)"
   ]
  },
  {
   "cell_type": "markdown",
   "id": "975109cc",
   "metadata": {},
   "source": [
    "## G.2 Functions\n",
    "\n",
    "A function maps its arguments, given as a tuple, to a result that is returned.\n",
    "\n",
    "### G.2.1 Named Functions\n",
    "\n",
    "One way to define a named function is to use the function keyword, followed by the name of the function and a tuple of names of arguments:"
   ]
  },
  {
   "cell_type": "code",
   "execution_count": 133,
   "id": "72f7aebd",
   "metadata": {},
   "outputs": [
    {
     "data": {
      "text/plain": [
       "f (generic function with 1 method)"
      ]
     },
     "execution_count": 133,
     "metadata": {},
     "output_type": "execute_result"
    }
   ],
   "source": [
    "function f(x, y)\n",
    "  return x + y\n",
    "end"
   ]
  },
  {
   "cell_type": "markdown",
   "id": "9b1109f4",
   "metadata": {},
   "source": [
    "We can also define functions compactly using assignment form:"
   ]
  },
  {
   "cell_type": "code",
   "execution_count": 134,
   "id": "69abf5c4",
   "metadata": {},
   "outputs": [
    {
     "data": {
      "text/plain": [
       "3.1415"
      ]
     },
     "execution_count": 134,
     "metadata": {},
     "output_type": "execute_result"
    }
   ],
   "source": [
    "f(x, y) = x + y;\n",
    "f(3, 0.1415)"
   ]
  },
  {
   "cell_type": "markdown",
   "id": "ac7bd399",
   "metadata": {},
   "source": [
    "### G.2.2 Anonymous Functions\n",
    "\n",
    "An anonymous function is not given a name, though it can be assigned to a named variable. One way to define an anonymous function is to use the arrow operator:"
   ]
  },
  {
   "cell_type": "code",
   "execution_count": 135,
   "id": "15502fe7",
   "metadata": {},
   "outputs": [
    {
     "data": {
      "text/plain": [
       "#5 (generic function with 1 method)"
      ]
     },
     "execution_count": 135,
     "metadata": {},
     "output_type": "execute_result"
    }
   ],
   "source": [
    "# assign anonymous function with input x to a variable h\n",
    "h = x -> x^2 + 1"
   ]
  },
  {
   "cell_type": "code",
   "execution_count": 136,
   "id": "873cee00",
   "metadata": {},
   "outputs": [
    {
     "data": {
      "text/plain": [
       "10"
      ]
     },
     "execution_count": 136,
     "metadata": {},
     "output_type": "execute_result"
    }
   ],
   "source": [
    "h(3)"
   ]
  },
  {
   "cell_type": "code",
   "execution_count": 137,
   "id": "815be181",
   "metadata": {},
   "outputs": [
    {
     "data": {
      "text/plain": [
       "2-element Vector{Int64}:\n",
       "  26\n",
       " 101"
      ]
     },
     "execution_count": 137,
     "metadata": {},
     "output_type": "execute_result"
    }
   ],
   "source": [
    "# applies function f to a and b and returns array\n",
    "g(f, a, b) = [f(a), f(b)];\n",
    "g(h, 5, 10)"
   ]
  },
  {
   "cell_type": "code",
   "execution_count": 138,
   "id": "c3e1dc7a",
   "metadata": {},
   "outputs": [
    {
     "data": {
      "text/plain": [
       "2-element Vector{Float64}:\n",
       " 0.4559788891106302\n",
       " 1.9129452507276277"
      ]
     },
     "execution_count": 138,
     "metadata": {},
     "output_type": "execute_result"
    }
   ],
   "source": [
    "g(x->sin(x)+1, 10, 20)"
   ]
  },
  {
   "cell_type": "markdown",
   "id": "4994cce7",
   "metadata": {},
   "source": [
    "### G.2.3 Callable Objects\n",
    "\n",
    "We can define a type and associate functions with it, allowing objects of that type to be **callable**:"
   ]
  },
  {
   "cell_type": "code",
   "execution_count": 139,
   "id": "a6f91487",
   "metadata": {},
   "outputs": [],
   "source": [
    "# adding a zero-argument function to the type A defined earlier\n",
    "(x::A)() = x.a + x.b"
   ]
  },
  {
   "cell_type": "code",
   "execution_count": 140,
   "id": "80d4a2aa",
   "metadata": {},
   "outputs": [],
   "source": [
    "(x::A)(y) = y*x.a + x.b # adding a single-argument function"
   ]
  },
  {
   "cell_type": "code",
   "execution_count": 141,
   "id": "1cf3dcaf",
   "metadata": {},
   "outputs": [],
   "source": [
    "x = A(22, 8);"
   ]
  },
  {
   "cell_type": "code",
   "execution_count": 142,
   "id": "d446b07b",
   "metadata": {},
   "outputs": [
    {
     "data": {
      "text/plain": [
       "30"
      ]
     },
     "execution_count": 142,
     "metadata": {},
     "output_type": "execute_result"
    }
   ],
   "source": [
    "x()"
   ]
  },
  {
   "cell_type": "code",
   "execution_count": 143,
   "id": "0c2d0721",
   "metadata": {},
   "outputs": [
    {
     "data": {
      "text/plain": [
       "52"
      ]
     },
     "execution_count": 143,
     "metadata": {},
     "output_type": "execute_result"
    }
   ],
   "source": [
    "x(2)"
   ]
  },
  {
   "cell_type": "markdown",
   "id": "34e37323",
   "metadata": {},
   "source": [
    "### G.2.4 Optional Arguments\n",
    "\n",
    "We can assign a default value to an argument, making the specification of that argument optional:"
   ]
  },
  {
   "cell_type": "code",
   "execution_count": 144,
   "id": "67f6aba6",
   "metadata": {},
   "outputs": [
    {
     "data": {
      "text/plain": [
       "100"
      ]
     },
     "execution_count": 144,
     "metadata": {},
     "output_type": "execute_result"
    }
   ],
   "source": [
    "f(x=10) = x^2;\n",
    "f()"
   ]
  },
  {
   "cell_type": "code",
   "execution_count": 145,
   "id": "5dcc237a",
   "metadata": {},
   "outputs": [
    {
     "data": {
      "text/plain": [
       "9"
      ]
     },
     "execution_count": 145,
     "metadata": {},
     "output_type": "execute_result"
    }
   ],
   "source": [
    "f(3)"
   ]
  },
  {
   "cell_type": "code",
   "execution_count": 146,
   "id": "621670a3",
   "metadata": {},
   "outputs": [
    {
     "data": {
      "text/plain": [
       "5"
      ]
     },
     "execution_count": 146,
     "metadata": {},
     "output_type": "execute_result"
    }
   ],
   "source": [
    "f(x, y, z=1) = x*y + z;\n",
    "f(1, 2, 3)"
   ]
  },
  {
   "cell_type": "code",
   "execution_count": 147,
   "id": "43113f7a",
   "metadata": {},
   "outputs": [
    {
     "data": {
      "text/plain": [
       "3"
      ]
     },
     "execution_count": 147,
     "metadata": {},
     "output_type": "execute_result"
    }
   ],
   "source": [
    "f(1, 2)"
   ]
  },
  {
   "cell_type": "markdown",
   "id": "7dfeba78",
   "metadata": {},
   "source": [
    "### G.2.5 Keyword Arguments\n",
    "\n",
    "Functions may use keyword arguments, which are arguments that are named when the function is called. Keyword arguments are given after all the positional arguments. A semicolon is placed before any keywords, separating them from the other arguments:"
   ]
  },
  {
   "cell_type": "code",
   "execution_count": 148,
   "id": "cdd901b2",
   "metadata": {},
   "outputs": [
    {
     "data": {
      "text/plain": [
       "1"
      ]
     },
     "execution_count": 148,
     "metadata": {},
     "output_type": "execute_result"
    }
   ],
   "source": [
    "f(; x = 0) = x + 1;\n",
    "f()"
   ]
  },
  {
   "cell_type": "code",
   "execution_count": 149,
   "id": "78a0e1ea",
   "metadata": {},
   "outputs": [
    {
     "data": {
      "text/plain": [
       "11"
      ]
     },
     "execution_count": 149,
     "metadata": {},
     "output_type": "execute_result"
    }
   ],
   "source": [
    "f(x = 10)"
   ]
  },
  {
   "cell_type": "code",
   "execution_count": 150,
   "id": "45263a03",
   "metadata": {},
   "outputs": [
    {
     "data": {
      "text/plain": [
       "22"
      ]
     },
     "execution_count": 150,
     "metadata": {},
     "output_type": "execute_result"
    }
   ],
   "source": [
    "f(x, y = 10; z = 2) = (x + y)*z;\n",
    "f(1)"
   ]
  },
  {
   "cell_type": "code",
   "execution_count": 151,
   "id": "99f73d97",
   "metadata": {},
   "outputs": [
    {
     "data": {
      "text/plain": [
       "36"
      ]
     },
     "execution_count": 151,
     "metadata": {},
     "output_type": "execute_result"
    }
   ],
   "source": [
    "f(2, z = 3)"
   ]
  },
  {
   "cell_type": "code",
   "execution_count": 152,
   "id": "54cfb423",
   "metadata": {},
   "outputs": [
    {
     "data": {
      "text/plain": [
       "10"
      ]
     },
     "execution_count": 152,
     "metadata": {},
     "output_type": "execute_result"
    }
   ],
   "source": [
    "f(2, 3)"
   ]
  },
  {
   "cell_type": "code",
   "execution_count": 153,
   "id": "8206dd09",
   "metadata": {},
   "outputs": [
    {
     "data": {
      "text/plain": [
       "5"
      ]
     },
     "execution_count": 153,
     "metadata": {},
     "output_type": "execute_result"
    }
   ],
   "source": [
    "f(2, 3, z = 1)"
   ]
  },
  {
   "cell_type": "markdown",
   "id": "13c0db2d",
   "metadata": {},
   "source": [
    "### G.2.6 Dispatch\n",
    "\n",
    "The types of the arguments passed to a function can be specified using the double colon operator. If multiple methods of the same function are provided, Julia will execute the appropriate method. The mechanism for choosing which method to execute is called *dispatch*:"
   ]
  },
  {
   "cell_type": "code",
   "execution_count": 154,
   "id": "7a15e1c0",
   "metadata": {},
   "outputs": [],
   "source": [
    "f(x::Int64) = x + 10;\n",
    "f(x::Float64) = x + 3.1415;"
   ]
  },
  {
   "cell_type": "code",
   "execution_count": 155,
   "id": "4892c45d",
   "metadata": {},
   "outputs": [
    {
     "data": {
      "text/plain": [
       "11"
      ]
     },
     "execution_count": 155,
     "metadata": {},
     "output_type": "execute_result"
    }
   ],
   "source": [
    "f(1)"
   ]
  },
  {
   "cell_type": "code",
   "execution_count": 156,
   "id": "dff5618f",
   "metadata": {},
   "outputs": [
    {
     "data": {
      "text/plain": [
       "4.141500000000001"
      ]
     },
     "execution_count": 156,
     "metadata": {},
     "output_type": "execute_result"
    }
   ],
   "source": [
    "f(1.0)"
   ]
  },
  {
   "cell_type": "markdown",
   "id": "3a5e3298",
   "metadata": {},
   "source": [
    "The method with a type signature that best matches the types of the arguments given will be used:"
   ]
  },
  {
   "cell_type": "code",
   "execution_count": 157,
   "id": "a1b5a317",
   "metadata": {},
   "outputs": [],
   "source": [
    "f(x) = 5;\n",
    "f(x::Float64) = 3.1415;"
   ]
  },
  {
   "cell_type": "code",
   "execution_count": 158,
   "id": "f114d688",
   "metadata": {},
   "outputs": [
    {
     "data": {
      "text/plain": [
       "5"
      ]
     },
     "execution_count": 158,
     "metadata": {},
     "output_type": "execute_result"
    }
   ],
   "source": [
    "f([3, 2, 1])"
   ]
  },
  {
   "cell_type": "code",
   "execution_count": 159,
   "id": "8b9dd6b7",
   "metadata": {},
   "outputs": [
    {
     "data": {
      "text/plain": [
       "3.1415"
      ]
     },
     "execution_count": 159,
     "metadata": {},
     "output_type": "execute_result"
    }
   ],
   "source": [
    "f(0.00787499699)"
   ]
  },
  {
   "cell_type": "markdown",
   "id": "a6a55cc0",
   "metadata": {},
   "source": [
    "### G.2.7 Splatting\n",
    "\n",
    "It is often useful to *splat* the elements of a vector or a tuple into the arguments to a function using the ***...*** operator:"
   ]
  },
  {
   "cell_type": "code",
   "execution_count": 160,
   "id": "c4101dc6",
   "metadata": {},
   "outputs": [
    {
     "data": {
      "text/plain": [
       "2"
      ]
     },
     "execution_count": 160,
     "metadata": {},
     "output_type": "execute_result"
    }
   ],
   "source": [
    "f(x,y,z) = x + y - z;\n",
    "a = [3, 1, 2];\n",
    "f(a...)"
   ]
  },
  {
   "cell_type": "code",
   "execution_count": 161,
   "id": "db9769e4",
   "metadata": {},
   "outputs": [
    {
     "data": {
      "text/plain": [
       "4"
      ]
     },
     "execution_count": 161,
     "metadata": {},
     "output_type": "execute_result"
    }
   ],
   "source": [
    "b = (2, 2, 0);\n",
    "f(b...)"
   ]
  },
  {
   "cell_type": "code",
   "execution_count": 162,
   "id": "b1cf9760",
   "metadata": {},
   "outputs": [
    {
     "data": {
      "text/plain": [
       "2-element Vector{Int64}:\n",
       " 1\n",
       " 1"
      ]
     },
     "execution_count": 162,
     "metadata": {},
     "output_type": "execute_result"
    }
   ],
   "source": [
    "c = ([0,0],[1,1]);\n",
    "f([2,2], c...)"
   ]
  },
  {
   "cell_type": "markdown",
   "id": "36e1c980",
   "metadata": {},
   "source": [
    "## G.3 Control Flow\n",
    "\n",
    "We can control the flow of our programs using conditional evaluation and loops. This section provides some of the syntax used in the book.\n",
    "\n",
    "### G.3.1 Conditional Evaluation\n",
    "\n",
    "Conditional evaluation will check the value of a Boolean expression and then evaluate the appropriate block of code. One of the most common ways to do this is with an if statement:"
   ]
  },
  {
   "cell_type": "code",
   "execution_count": 163,
   "id": "a4825132",
   "metadata": {},
   "outputs": [],
   "source": [
    "n = 2; m = 3;\n",
    "\n",
    "if n < m\n",
    "  # run this if n < m\n",
    "elseif n > m\n",
    "  # run this if n > m\n",
    "else\n",
    "  # run this if n == m\n",
    "end"
   ]
  },
  {
   "cell_type": "markdown",
   "id": "10485729",
   "metadata": {},
   "source": [
    "We can also use the ternary operator with its question mark and colon syntax.\n",
    "It checks the Boolean expression before the question mark. If the expression evaluates to true, then it returns what comes before the colon; otherwise, it returns what comes after the colon:"
   ]
  },
  {
   "cell_type": "code",
   "execution_count": 164,
   "id": "67700f9c",
   "metadata": {},
   "outputs": [],
   "source": [
    "f(x) = x > 0 ? x : 0;"
   ]
  },
  {
   "cell_type": "code",
   "execution_count": 165,
   "id": "56fdfc04",
   "metadata": {},
   "outputs": [
    {
     "data": {
      "text/plain": [
       "0"
      ]
     },
     "execution_count": 165,
     "metadata": {},
     "output_type": "execute_result"
    }
   ],
   "source": [
    "f(-10)"
   ]
  },
  {
   "cell_type": "code",
   "execution_count": 166,
   "id": "8976ac34",
   "metadata": {},
   "outputs": [
    {
     "data": {
      "text/plain": [
       "20"
      ]
     },
     "execution_count": 166,
     "metadata": {},
     "output_type": "execute_result"
    }
   ],
   "source": [
    "f(10)"
   ]
  },
  {
   "cell_type": "markdown",
   "id": "a1f96574",
   "metadata": {},
   "source": [
    "### G.3.2 Loops\n",
    "\n",
    "A *loop* allows for repeated evaluation of expressions. One type of loop is the while loop, which repeatedly evaluates a block of expressions until the specified condition after the **while** keyword is met. The following example sums the values in the array **x**:"
   ]
  },
  {
   "cell_type": "code",
   "execution_count": 167,
   "id": "7d6a7619",
   "metadata": {},
   "outputs": [
    {
     "name": "stdout",
     "output_type": "stream",
     "text": [
      "[1, 2, 3, 4, 6, 8, 11, 13, 16, 18] 0\n",
      "[1, 2, 3, 4, 6, 8, 11, 13, 16] 18\n",
      "[1, 2, 3, 4, 6, 8, 11, 13] 34\n",
      "[1, 2, 3, 4, 6, 8, 11] 47\n",
      "[1, 2, 3, 4, 6, 8] 58\n",
      "[1, 2, 3, 4, 6] 66\n",
      "[1, 2, 3, 4] 72\n",
      "[1, 2, 3] 76\n",
      "[1, 2] 79\n",
      "[1] 81\n",
      "82"
     ]
    }
   ],
   "source": [
    "X = [1, 2, 3, 4, 6, 8, 11, 13, 16, 18]\n",
    "s = 0\n",
    "while !isempty(X)\n",
    "  print(X,\" \", s, \"\\n\")\n",
    "  s += pop!(X)\n",
    "end\n",
    "print(s)"
   ]
  },
  {
   "cell_type": "markdown",
   "id": "b369e51c",
   "metadata": {},
   "source": [
    "Another type of loop is the **for** loop, which uses the for keyword. The following example will also sum over the values in the array **x** but will not modify **x**:"
   ]
  },
  {
   "cell_type": "code",
   "execution_count": 168,
   "id": "2ad0233e",
   "metadata": {},
   "outputs": [],
   "source": [
    "X = [1, 2, 3, 4, 6, 8, 11, 13, 16, 18]\n",
    "s = 0\n",
    "for y in X\n",
    "  s += y\n",
    "end"
   ]
  },
  {
   "cell_type": "markdown",
   "id": "41f08610",
   "metadata": {},
   "source": [
    "The in keyword can be replaced by **=** or **∈**. The following code block is equivalent:"
   ]
  },
  {
   "cell_type": "code",
   "execution_count": 169,
   "id": "a893c00c",
   "metadata": {},
   "outputs": [],
   "source": [
    "X = [1, 2, 3, 4, 6, 8, 11, 13, 16, 18]\n",
    "s = 0\n",
    "for i = 1:length(X)\n",
    "  s += X[i]\n",
    "end"
   ]
  },
  {
   "cell_type": "markdown",
   "id": "d6e28739",
   "metadata": {},
   "source": [
    "### G.3.3 Iterators\n",
    "\n",
    "We can iterate over collections in contexts such as for loops and array comprehensions. To demonstrate various iterators, we will use the **collect** function, which returns an array of all items generated by an iterator:"
   ]
  },
  {
   "cell_type": "code",
   "execution_count": 170,
   "id": "dae7e443",
   "metadata": {},
   "outputs": [
    {
     "data": {
      "text/plain": [
       "3-element Vector{Tuple{Int64, String}}:\n",
       " (1, \"feed\")\n",
       " (2, \"sing\")\n",
       " (3, \"ignore\")"
      ]
     },
     "execution_count": 170,
     "metadata": {},
     "output_type": "execute_result"
    }
   ],
   "source": [
    "X = [\"feed\", \"sing\", \"ignore\"];\n",
    "collect(enumerate(X)) # return the count and the element"
   ]
  },
  {
   "cell_type": "code",
   "execution_count": 171,
   "id": "d0ad4fe4",
   "metadata": {},
   "outputs": [
    {
     "data": {
      "text/plain": [
       "3-element Vector{Int64}:\n",
       " 1\n",
       " 2\n",
       " 3"
      ]
     },
     "execution_count": 171,
     "metadata": {},
     "output_type": "execute_result"
    }
   ],
   "source": [
    "collect(eachindex(X)) # equivalent to 1:length(X)"
   ]
  },
  {
   "cell_type": "code",
   "execution_count": 172,
   "id": "04c7ea39",
   "metadata": {},
   "outputs": [],
   "source": [
    "Y = [-5, -0.5, 0];"
   ]
  },
  {
   "cell_type": "code",
   "execution_count": 173,
   "id": "b5c71bf0",
   "metadata": {},
   "outputs": [
    {
     "data": {
      "text/plain": [
       "3-element Vector{Tuple{String, Float64}}:\n",
       " (\"feed\", -5.0)\n",
       " (\"sing\", -0.5)\n",
       " (\"ignore\", 0.0)"
      ]
     },
     "execution_count": 173,
     "metadata": {},
     "output_type": "execute_result"
    }
   ],
   "source": [
    "collect(zip(X, Y)) # iterate over multiple iterators simultaneously"
   ]
  },
  {
   "cell_type": "code",
   "execution_count": 174,
   "id": "dba4b4f5",
   "metadata": {},
   "outputs": [],
   "source": [
    "import IterTools: subsets"
   ]
  },
  {
   "cell_type": "code",
   "execution_count": 175,
   "id": "8f72bb77",
   "metadata": {},
   "outputs": [
    {
     "data": {
      "text/plain": [
       "8-element Vector{Vector{String}}:\n",
       " []\n",
       " [\"feed\"]\n",
       " [\"sing\"]\n",
       " [\"feed\", \"sing\"]\n",
       " [\"ignore\"]\n",
       " [\"feed\", \"ignore\"]\n",
       " [\"sing\", \"ignore\"]\n",
       " [\"feed\", \"sing\", \"ignore\"]"
      ]
     },
     "execution_count": 175,
     "metadata": {},
     "output_type": "execute_result"
    }
   ],
   "source": [
    "collect(subsets(X))  # iterate over all subsets"
   ]
  },
  {
   "cell_type": "code",
   "execution_count": 176,
   "id": "bf2c7a43",
   "metadata": {},
   "outputs": [
    {
     "data": {
      "text/plain": [
       "3-element Vector{Int64}:\n",
       " 1\n",
       " 2\n",
       " 3"
      ]
     },
     "execution_count": 176,
     "metadata": {},
     "output_type": "execute_result"
    }
   ],
   "source": [
    "collect(eachindex(X)) # iterate over indices into a collection"
   ]
  },
  {
   "cell_type": "code",
   "execution_count": 177,
   "id": "3b5f04c3",
   "metadata": {},
   "outputs": [
    {
     "data": {
      "text/plain": [
       "3×3 Matrix{Tuple{String, Float64}}:\n",
       " (\"feed\", -5.0)    (\"feed\", -0.5)    (\"feed\", 0.0)\n",
       " (\"sing\", -5.0)    (\"sing\", -0.5)    (\"sing\", 0.0)\n",
       " (\"ignore\", -5.0)  (\"ignore\", -0.5)  (\"ignore\", 0.0)"
      ]
     },
     "execution_count": 177,
     "metadata": {},
     "output_type": "execute_result"
    }
   ],
   "source": [
    "Z = [1 2; 3 4; 5 6];\n",
    "import Base.Iterators: product\n",
    "collect(product(X,Y)) # iterate over Cartesian product of multiple iterators"
   ]
  },
  {
   "cell_type": "markdown",
   "id": "3ca7a903",
   "metadata": {},
   "source": [
    "## G.4 Packages\n",
    "\n",
    "A package is a collection of Julia code and possibly other external libraries that can be imported to provide additional functionality. This section briefly reviews a few of the key packages that we build upon in this book. To add a registered package like Distributions.jl, we can run"
   ]
  },
  {
   "cell_type": "code",
   "execution_count": 178,
   "id": "7bcb8f1f",
   "metadata": {},
   "outputs": [
    {
     "name": "stderr",
     "output_type": "stream",
     "text": [
      "\u001b[32m\u001b[1m    Updating\u001b[22m\u001b[39m registry at `~/.julia/registries/General.toml`\n",
      "\u001b[32m\u001b[1m   Resolving\u001b[22m\u001b[39m package versions...\n",
      "\u001b[32m\u001b[1m  No Changes\u001b[22m\u001b[39m to `~/.julia/environments/v1.7/Project.toml`\n",
      "\u001b[32m\u001b[1m  No Changes\u001b[22m\u001b[39m to `~/.julia/environments/v1.7/Manifest.toml`\n"
     ]
    }
   ],
   "source": [
    "using Pkg\n",
    "Pkg.add(\"Distributions\")"
   ]
  },
  {
   "cell_type": "markdown",
   "id": "434b320b",
   "metadata": {},
   "source": [
    "To update packages, we use"
   ]
  },
  {
   "cell_type": "code",
   "execution_count": 179,
   "id": "d00f7af4",
   "metadata": {},
   "outputs": [
    {
     "name": "stderr",
     "output_type": "stream",
     "text": [
      "\u001b[32m\u001b[1m    Updating\u001b[22m\u001b[39m registry at `~/.julia/registries/General.toml`\n",
      "\u001b[32m\u001b[1m   Installed\u001b[22m\u001b[39m StatsPlots ─ v0.14.34\n",
      "\u001b[32m\u001b[1m    Updating\u001b[22m\u001b[39m `~/.julia/environments/v1.7/Project.toml`\n",
      " \u001b[90m [f3b207a7] \u001b[39m\u001b[93m↑ StatsPlots v0.14.33 ⇒ v0.14.34\u001b[39m\n",
      "\u001b[32m\u001b[1m    Updating\u001b[22m\u001b[39m `~/.julia/environments/v1.7/Manifest.toml`\n",
      " \u001b[90m [f3b207a7] \u001b[39m\u001b[93m↑ StatsPlots v0.14.33 ⇒ v0.14.34\u001b[39m\n",
      "\u001b[32m\u001b[1mPrecompiling\u001b[22m\u001b[39m project...\n",
      "\u001b[32m  ✓ \u001b[39mStatsPlots\n",
      "  1 dependency successfully precompiled in 16 seconds (248 already precompiled)\n"
     ]
    }
   ],
   "source": [
    "Pkg.update()"
   ]
  },
  {
   "cell_type": "markdown",
   "id": "d52cbdf7",
   "metadata": {},
   "source": [
    "To use a package, we use the keyword using as follows:"
   ]
  },
  {
   "cell_type": "code",
   "execution_count": 180,
   "id": "e28f290f",
   "metadata": {},
   "outputs": [],
   "source": [
    "using Distributions"
   ]
  },
  {
   "cell_type": "markdown",
   "id": "5975d52b",
   "metadata": {},
   "source": [
    "### G.4.1 Graphs.jl\n",
    "\n",
    "We use the Graphs.jl package (version 1.7 #// ) to represent graphs and perform operations on them:"
   ]
  },
  {
   "cell_type": "code",
   "execution_count": 224,
   "id": "7183b583",
   "metadata": {},
   "outputs": [
    {
     "data": {
      "text/plain": [
       "{3, 0} directed simple Int64 graph"
      ]
     },
     "execution_count": 224,
     "metadata": {},
     "output_type": "execute_result"
    }
   ],
   "source": [
    "using Graphs\n",
    "G = SimpleDiGraph(3)  # create a directed graph with three nodes"
   ]
  },
  {
   "cell_type": "code",
   "execution_count": 225,
   "id": "bc7696b2",
   "metadata": {},
   "outputs": [],
   "source": [
    "add_edge!(G, 1, 3);  # add edge from node 1 to 3\n",
    "add_edge!(G, 1, 2);  # add edge from node 1 to 2\n",
    "rem_edge!(G, 1, 3);  # remove edge from node 1 to 3\n",
    "add_edge!(G, 1, 3);  \n",
    "add_edge!(G, 2, 3);  # add edge from node 2 to 3"
   ]
  },
  {
   "cell_type": "code",
   "execution_count": 226,
   "id": "ff3d5067",
   "metadata": {},
   "outputs": [
    {
     "data": {
      "image/svg+xml": [
       "<?xml version=\"1.0\" encoding=\"utf-8\"?>\n",
       "<svg xmlns=\"http://www.w3.org/2000/svg\" xmlns:xlink=\"http://www.w3.org/1999/xlink\" width=\"500\" height=\"500\" viewBox=\"0 0 2000 2000\">\n",
       "<defs>\n",
       "  <clipPath id=\"clip230\">\n",
       "    <rect x=\"0\" y=\"0\" width=\"2000\" height=\"2000\"/>\n",
       "  </clipPath>\n",
       "</defs>\n",
       "<path clip-path=\"url(#clip230)\" d=\"\n",
       "M0 2000 L2000 2000 L2000 0 L0 0  Z\n",
       "  \" fill=\"#ffffff\" fill-rule=\"evenodd\" fill-opacity=\"1\"/>\n",
       "<defs>\n",
       "  <clipPath id=\"clip231\">\n",
       "    <rect x=\"400\" y=\"200\" width=\"1401\" height=\"1401\"/>\n",
       "  </clipPath>\n",
       "</defs>\n",
       "<path clip-path=\"url(#clip230)\" d=\"\n",
       "M47.2441 1952.76 L1952.76 1952.76 L1952.76 47.2441 L47.2441 47.2441  Z\n",
       "  \" fill=\"#ffffff\" fill-rule=\"evenodd\" fill-opacity=\"1\"/>\n",
       "<defs>\n",
       "  <clipPath id=\"clip232\">\n",
       "    <rect x=\"47\" y=\"47\" width=\"1907\" height=\"1907\"/>\n",
       "  </clipPath>\n",
       "</defs>\n",
       "<polyline clip-path=\"url(#clip232)\" style=\"stroke:#000000; stroke-linecap:butt; stroke-linejoin:round; stroke-width:4; stroke-opacity:1; fill:none\" points=\"\n",
       "  1145.07,1680.54 1124.52,1658.31 1103.97,1636.09 1083.46,1613.85 1062.99,1591.61 1042.57,1569.36 1022.23,1547.09 1001.98,1524.81 981.821,1502.51 961.78,1480.18 \n",
       "  941.868,1457.84 922.1,1435.46 902.489,1413.05 883.05,1390.61 863.797,1368.14 844.745,1345.62 825.908,1323.07 807.3,1300.47 788.936,1277.83 770.83,1255.13 \n",
       "  752.996,1232.38 735.449,1209.58 718.203,1186.72 701.272,1163.8 684.671,1140.82 668.413,1117.77 652.499,1094.65 636.914,1071.48 621.645,1048.24 606.676,1024.94 \n",
       "  591.995,1001.59 577.585,978.188 563.434,954.735 549.526,931.236 535.847,907.692 522.384,884.108 509.121,860.485 496.044,836.826 483.14,813.134 470.393,789.413 \n",
       "  457.789,765.663 445.315,741.889 432.955,718.093 420.695,694.278 408.522,670.446 396.42,646.601 384.375,622.744 372.374,598.879 360.401,575.009 348.442,551.136 \n",
       "  \n",
       "  \"/>\n",
       "<polyline clip-path=\"url(#clip232)\" style=\"stroke:#000000; stroke-linecap:butt; stroke-linejoin:round; stroke-width:4; stroke-opacity:1; fill:none\" points=\"\n",
       "  348.467,584.677 348.442,551.136 375.29,571.241 \n",
       "  \"/>\n",
       "<polyline clip-path=\"url(#clip232)\" style=\"stroke:#000000; stroke-linecap:butt; stroke-linejoin:round; stroke-width:4; stroke-opacity:1; fill:none\" points=\"\n",
       "  348.442,551.136 360.401,575.009 \n",
       "  \"/>\n",
       "<polyline clip-path=\"url(#clip232)\" style=\"stroke:#000000; stroke-linecap:butt; stroke-linejoin:round; stroke-width:4; stroke-opacity:1; fill:none\" points=\"\n",
       "  1145.07,1680.54 1160.03,1653.77 1174.97,1626.99 1189.88,1600.22 1204.74,1573.45 1219.55,1546.68 1234.29,1519.91 1248.94,1493.14 1263.49,1466.37 1277.93,1439.6 \n",
       "  1292.23,1412.83 1306.39,1386.07 1320.39,1359.3 1334.22,1332.54 1347.86,1305.78 1361.3,1279.02 1374.52,1252.26 1387.51,1225.5 1400.26,1198.75 1412.75,1172 \n",
       "  1424.96,1145.25 1436.88,1118.5 1448.5,1091.76 1459.81,1065.02 1470.78,1038.28 1481.4,1011.55 1491.69,984.816 1501.63,958.087 1511.26,931.361 1520.59,904.638 \n",
       "  1529.63,877.917 1538.4,851.199 1546.9,824.483 1555.16,797.769 1563.19,771.057 1571,744.347 1578.62,717.639 1586.04,690.933 1593.29,664.228 1600.38,637.524 \n",
       "  1607.33,610.822 1614.14,584.121 1620.85,557.421 1627.45,530.722 1633.96,504.023 1640.4,477.326 1646.79,450.628 1653.13,423.932 1659.44,397.235 1665.74,370.538 \n",
       "  \n",
       "  \"/>\n",
       "<polyline clip-path=\"url(#clip232)\" style=\"stroke:#000000; stroke-linecap:butt; stroke-linejoin:round; stroke-width:4; stroke-opacity:1; fill:none\" points=\"\n",
       "  1644.25,396.293 1665.74,370.538 1673.45,403.181 \n",
       "  \"/>\n",
       "<polyline clip-path=\"url(#clip232)\" style=\"stroke:#000000; stroke-linecap:butt; stroke-linejoin:round; stroke-width:4; stroke-opacity:1; fill:none\" points=\"\n",
       "  1665.74,370.538 1659.44,397.235 \n",
       "  \"/>\n",
       "<polyline clip-path=\"url(#clip232)\" style=\"stroke:#000000; stroke-linecap:butt; stroke-linejoin:round; stroke-width:4; stroke-opacity:1; fill:none\" points=\"\n",
       "  319.46,500.058 348.314,500.376 377.161,500.682 405.993,500.962 434.805,501.205 463.587,501.398 492.335,501.529 521.039,501.584 549.693,501.552 578.291,501.419 \n",
       "  606.824,501.174 635.286,500.803 663.67,500.295 691.969,499.637 720.174,498.816 748.28,497.82 776.28,496.636 804.165,495.252 831.929,493.654 859.565,491.832 \n",
       "  887.065,489.772 914.423,487.461 941.632,484.888 968.683,482.039 995.571,478.902 1022.29,475.465 1048.83,471.729 1075.22,467.704 1101.44,463.404 1127.52,458.842 \n",
       "  1153.45,454.028 1179.25,448.978 1204.92,443.701 1230.47,438.212 1255.91,432.523 1281.24,426.646 1306.46,420.593 1331.6,414.378 1356.65,408.013 1381.62,401.51 \n",
       "  1406.52,394.882 1431.36,388.141 1456.14,381.3 1480.87,374.371 1505.56,367.367 1530.21,360.301 1554.83,353.185 1579.44,346.031 1604.02,338.852 1628.6,331.66 \n",
       "  \n",
       "  \"/>\n",
       "<polyline clip-path=\"url(#clip232)\" style=\"stroke:#000000; stroke-linecap:butt; stroke-linejoin:round; stroke-width:4; stroke-opacity:1; fill:none\" points=\"\n",
       "  1595.6,325.688 1628.6,331.66 1604.02,354.481 \n",
       "  \"/>\n",
       "<polyline clip-path=\"url(#clip232)\" style=\"stroke:#000000; stroke-linecap:butt; stroke-linejoin:round; stroke-width:4; stroke-opacity:1; fill:none\" points=\"\n",
       "  1628.6,331.66 1604.02,338.852 \n",
       "  \"/>\n",
       "<path clip-path=\"url(#clip232)\" d=\"\n",
       "M1204.05 1680.54 L1174.56 1629.46 L1115.58 1629.46 L1086.09 1680.54 L1115.58 1731.62 L1174.56 1731.62 L1204.05 1680.54 L1204.05 1680.54  Z\n",
       "  \" fill=\"#009af9\" fill-rule=\"evenodd\" fill-opacity=\"1\"/>\n",
       "<polyline clip-path=\"url(#clip232)\" style=\"stroke:#000000; stroke-linecap:butt; stroke-linejoin:round; stroke-width:4; stroke-opacity:1; fill:none\" points=\"\n",
       "  1204.05,1680.54 1174.56,1629.46 1115.58,1629.46 1086.09,1680.54 1115.58,1731.62 1174.56,1731.62 1204.05,1680.54 \n",
       "  \"/>\n",
       "<path clip-path=\"url(#clip232)\" d=\"\n",
       "M378.44 500.058 L348.95 448.98 L289.97 448.98 L260.48 500.058 L289.97 551.136 L348.95 551.136 L378.44 500.058 L378.44 500.058  Z\n",
       "  \" fill=\"#009af9\" fill-rule=\"evenodd\" fill-opacity=\"1\"/>\n",
       "<polyline clip-path=\"url(#clip232)\" style=\"stroke:#000000; stroke-linecap:butt; stroke-linejoin:round; stroke-width:4; stroke-opacity:1; fill:none\" points=\"\n",
       "  378.44,500.058 348.95,448.98 289.97,448.98 260.48,500.058 289.97,551.136 348.95,551.136 378.44,500.058 \n",
       "  \"/>\n",
       "<path clip-path=\"url(#clip232)\" d=\"\n",
       "M1739.52 319.46 L1710.03 268.382 L1651.05 268.382 L1621.56 319.46 L1651.05 370.538 L1710.03 370.538 L1739.52 319.46 L1739.52 319.46  Z\n",
       "  \" fill=\"#009af9\" fill-rule=\"evenodd\" fill-opacity=\"1\"/>\n",
       "<polyline clip-path=\"url(#clip232)\" style=\"stroke:#000000; stroke-linecap:butt; stroke-linejoin:round; stroke-width:4; stroke-opacity:1; fill:none\" points=\"\n",
       "  1739.52,319.46 1710.03,268.382 1651.05,268.382 1621.56,319.46 1651.05,370.538 1710.03,370.538 1739.52,319.46 \n",
       "  \"/>\n",
       "<circle clip-path=\"url(#clip232)\" style=\"fill:#009af9; stroke:none; fill-opacity:1\" cx=\"1145.07\" cy=\"1680.54\" r=\"2\"/>\n",
       "<circle clip-path=\"url(#clip232)\" style=\"fill:#009af9; stroke:none; fill-opacity:1\" cx=\"319.46\" cy=\"500.058\" r=\"2\"/>\n",
       "<circle clip-path=\"url(#clip232)\" style=\"fill:#009af9; stroke:none; fill-opacity:1\" cx=\"1680.54\" cy=\"319.46\" r=\"2\"/>\n",
       "</svg>\n"
      ]
     },
     "execution_count": 226,
     "metadata": {},
     "output_type": "execute_result"
    }
   ],
   "source": [
    "plot(G)"
   ]
  },
  {
   "cell_type": "code",
   "execution_count": 227,
   "id": "dfa79bd5",
   "metadata": {},
   "outputs": [
    {
     "data": {
      "text/plain": [
       "SimpleDiGraph{Int64}"
      ]
     },
     "execution_count": 227,
     "metadata": {},
     "output_type": "execute_result"
    }
   ],
   "source": [
    "typeof(G)"
   ]
  },
  {
   "cell_type": "code",
   "execution_count": 228,
   "id": "c26f924e",
   "metadata": {},
   "outputs": [
    {
     "data": {
      "text/plain": [
       "3"
      ]
     },
     "execution_count": 228,
     "metadata": {},
     "output_type": "execute_result"
    }
   ],
   "source": [
    "nv(G)  # number of nodes (also called vertices)"
   ]
  },
  {
   "cell_type": "code",
   "execution_count": 229,
   "id": "df843fd2",
   "metadata": {},
   "outputs": [
    {
     "data": {
      "text/plain": [
       "2-element Vector{Int64}:\n",
       " 2\n",
       " 3"
      ]
     },
     "execution_count": 229,
     "metadata": {},
     "output_type": "execute_result"
    }
   ],
   "source": [
    "outneighbors(G, 1)  # list of outgoing neighbors for node 1"
   ]
  },
  {
   "cell_type": "code",
   "execution_count": 230,
   "id": "170a9371",
   "metadata": {},
   "outputs": [
    {
     "data": {
      "text/plain": [
       "Int64[]"
      ]
     },
     "execution_count": 230,
     "metadata": {},
     "output_type": "execute_result"
    }
   ],
   "source": [
    "inneighbors(G, 1)  # list of incoming neighbors for node 1"
   ]
  },
  {
   "cell_type": "code",
   "execution_count": 231,
   "id": "b409e7a6",
   "metadata": {},
   "outputs": [
    {
     "data": {
      "image/svg+xml": [
       "<?xml version=\"1.0\" encoding=\"utf-8\"?>\n",
       "<svg xmlns=\"http://www.w3.org/2000/svg\" xmlns:xlink=\"http://www.w3.org/1999/xlink\" width=\"500\" height=\"500\" viewBox=\"0 0 2000 2000\">\n",
       "<defs>\n",
       "  <clipPath id=\"clip260\">\n",
       "    <rect x=\"0\" y=\"0\" width=\"2000\" height=\"2000\"/>\n",
       "  </clipPath>\n",
       "</defs>\n",
       "<path clip-path=\"url(#clip260)\" d=\"\n",
       "M0 2000 L2000 2000 L2000 0 L0 0  Z\n",
       "  \" fill=\"#ffffff\" fill-rule=\"evenodd\" fill-opacity=\"1\"/>\n",
       "<defs>\n",
       "  <clipPath id=\"clip261\">\n",
       "    <rect x=\"400\" y=\"200\" width=\"1401\" height=\"1401\"/>\n",
       "  </clipPath>\n",
       "</defs>\n",
       "<path clip-path=\"url(#clip260)\" d=\"\n",
       "M47.2441 1952.76 L1952.76 1952.76 L1952.76 47.2441 L47.2441 47.2441  Z\n",
       "  \" fill=\"#ffffff\" fill-rule=\"evenodd\" fill-opacity=\"1\"/>\n",
       "<defs>\n",
       "  <clipPath id=\"clip262\">\n",
       "    <rect x=\"47\" y=\"47\" width=\"1907\" height=\"1907\"/>\n",
       "  </clipPath>\n",
       "</defs>\n",
       "<polyline clip-path=\"url(#clip262)\" style=\"stroke:#000000; stroke-linecap:butt; stroke-linejoin:round; stroke-width:4; stroke-opacity:1; fill:none\" points=\"\n",
       "  999.906,1000.97 999.906,1000.97 \n",
       "  \"/>\n",
       "<polyline clip-path=\"url(#clip262)\" style=\"stroke:#000000; stroke-linecap:butt; stroke-linejoin:round; stroke-width:4; stroke-opacity:1; fill:none\" points=\"\n",
       "  -nan,-nan -nan,-nan -nan,-nan \n",
       "  \"/>\n",
       "<polyline clip-path=\"url(#clip262)\" style=\"stroke:#000000; stroke-linecap:butt; stroke-linejoin:round; stroke-width:4; stroke-opacity:1; fill:none\" points=\"\n",
       "  -nan,-nan -nan,-nan \n",
       "  \"/>\n",
       "<polyline clip-path=\"url(#clip262)\" style=\"stroke:#000000; stroke-linecap:butt; stroke-linejoin:round; stroke-width:4; stroke-opacity:1; fill:none\" points=\"\n",
       "  1008.47,989.869 996.393,1013.93 \n",
       "  \"/>\n",
       "<polyline clip-path=\"url(#clip262)\" style=\"stroke:#000000; stroke-linecap:butt; stroke-linejoin:round; stroke-width:4; stroke-opacity:1; fill:none\" points=\"\n",
       "  1023.26,993.848 996.393,1013.93 996.444,980.392 \n",
       "  \"/>\n",
       "<polyline clip-path=\"url(#clip262)\" style=\"stroke:#000000; stroke-linecap:butt; stroke-linejoin:round; stroke-width:4; stroke-opacity:1; fill:none\" points=\"\n",
       "  996.393,1013.93 1008.47,989.869 \n",
       "  \"/>\n",
       "<polyline clip-path=\"url(#clip262)\" style=\"stroke:#000000; stroke-linecap:butt; stroke-linejoin:round; stroke-width:4; stroke-opacity:1; fill:none\" points=\"\n",
       "  999.906,1000.97 1581.07,1331.19 \n",
       "  \"/>\n",
       "<polyline clip-path=\"url(#clip262)\" style=\"stroke:#000000; stroke-linecap:butt; stroke-linejoin:round; stroke-width:4; stroke-opacity:1; fill:none\" points=\"\n",
       "  1562.4,1303.32 1581.07,1331.19 1547.58,1329.41 \n",
       "  \"/>\n",
       "<polyline clip-path=\"url(#clip262)\" style=\"stroke:#000000; stroke-linecap:butt; stroke-linejoin:round; stroke-width:4; stroke-opacity:1; fill:none\" points=\"\n",
       "  1581.07,1331.19 999.906,1000.97 \n",
       "  \"/>\n",
       "<polyline clip-path=\"url(#clip262)\" style=\"stroke:#000000; stroke-linecap:butt; stroke-linejoin:round; stroke-width:4; stroke-opacity:1; fill:none\" points=\"\n",
       "  999.906,1000.97 1130.41,1653.97 \n",
       "  \"/>\n",
       "<polyline clip-path=\"url(#clip262)\" style=\"stroke:#000000; stroke-linecap:butt; stroke-linejoin:round; stroke-width:4; stroke-opacity:1; fill:none\" points=\"\n",
       "  1139.24,1621.61 1130.41,1653.97 1109.82,1627.49 \n",
       "  \"/>\n",
       "<polyline clip-path=\"url(#clip262)\" style=\"stroke:#000000; stroke-linecap:butt; stroke-linejoin:round; stroke-width:4; stroke-opacity:1; fill:none\" points=\"\n",
       "  1130.41,1653.97 999.906,1000.97 \n",
       "  \"/>\n",
       "<polyline clip-path=\"url(#clip262)\" style=\"stroke:#000000; stroke-linecap:butt; stroke-linejoin:round; stroke-width:4; stroke-opacity:1; fill:none\" points=\"\n",
       "  999.906,1000.97 411.478,688.767 \n",
       "  \"/>\n",
       "<polyline clip-path=\"url(#clip262)\" style=\"stroke:#000000; stroke-linecap:butt; stroke-linejoin:round; stroke-width:4; stroke-opacity:1; fill:none\" points=\"\n",
       "  430.949,716.078 411.478,688.767 445.009,689.577 \n",
       "  \"/>\n",
       "<polyline clip-path=\"url(#clip262)\" style=\"stroke:#000000; stroke-linecap:butt; stroke-linejoin:round; stroke-width:4; stroke-opacity:1; fill:none\" points=\"\n",
       "  411.478,688.767 999.906,1000.97 \n",
       "  \"/>\n",
       "<polyline clip-path=\"url(#clip262)\" style=\"stroke:#000000; stroke-linecap:butt; stroke-linejoin:round; stroke-width:4; stroke-opacity:1; fill:none\" points=\"\n",
       "  999.906,1000.97 1667.62,956.156 \n",
       "  \"/>\n",
       "<polyline clip-path=\"url(#clip262)\" style=\"stroke:#000000; stroke-linecap:butt; stroke-linejoin:round; stroke-width:4; stroke-opacity:1; fill:none\" points=\"\n",
       "  1636.68,943.199 1667.62,956.156 1638.69,973.132 \n",
       "  \"/>\n",
       "<polyline clip-path=\"url(#clip262)\" style=\"stroke:#000000; stroke-linecap:butt; stroke-linejoin:round; stroke-width:4; stroke-opacity:1; fill:none\" points=\"\n",
       "  1667.62,956.156 999.906,1000.97 \n",
       "  \"/>\n",
       "<polyline clip-path=\"url(#clip262)\" style=\"stroke:#000000; stroke-linecap:butt; stroke-linejoin:round; stroke-width:4; stroke-opacity:1; fill:none\" points=\"\n",
       "  999.906,1000.97 345.386,860.315 \n",
       "  \"/>\n",
       "<polyline clip-path=\"url(#clip262)\" style=\"stroke:#000000; stroke-linecap:butt; stroke-linejoin:round; stroke-width:4; stroke-opacity:1; fill:none\" points=\"\n",
       "  371.565,881.283 345.386,860.315 377.868,851.953 \n",
       "  \"/>\n",
       "<polyline clip-path=\"url(#clip262)\" style=\"stroke:#000000; stroke-linecap:butt; stroke-linejoin:round; stroke-width:4; stroke-opacity:1; fill:none\" points=\"\n",
       "  345.386,860.315 999.906,1000.97 \n",
       "  \"/>\n",
       "<polyline clip-path=\"url(#clip262)\" style=\"stroke:#000000; stroke-linecap:butt; stroke-linejoin:round; stroke-width:4; stroke-opacity:1; fill:none\" points=\"\n",
       "  999.906,1000.97 521.481,1246.2 \n",
       "  \"/>\n",
       "<polyline clip-path=\"url(#clip262)\" style=\"stroke:#000000; stroke-linecap:butt; stroke-linejoin:round; stroke-width:4; stroke-opacity:1; fill:none\" points=\"\n",
       "  555.02,1245.86 521.481,1246.2 541.336,1219.17 \n",
       "  \"/>\n",
       "<polyline clip-path=\"url(#clip262)\" style=\"stroke:#000000; stroke-linecap:butt; stroke-linejoin:round; stroke-width:4; stroke-opacity:1; fill:none\" points=\"\n",
       "  521.481,1246.2 999.906,1000.97 \n",
       "  \"/>\n",
       "<polyline clip-path=\"url(#clip262)\" style=\"stroke:#000000; stroke-linecap:butt; stroke-linejoin:round; stroke-width:4; stroke-opacity:1; fill:none\" points=\"\n",
       "  999.906,1000.97 847.109,1649.24 \n",
       "  \"/>\n",
       "<polyline clip-path=\"url(#clip262)\" style=\"stroke:#000000; stroke-linecap:butt; stroke-linejoin:round; stroke-width:4; stroke-opacity:1; fill:none\" points=\"\n",
       "  868.591,1623.48 847.109,1649.24 839.391,1616.6 \n",
       "  \"/>\n",
       "<polyline clip-path=\"url(#clip262)\" style=\"stroke:#000000; stroke-linecap:butt; stroke-linejoin:round; stroke-width:4; stroke-opacity:1; fill:none\" points=\"\n",
       "  847.109,1649.24 999.906,1000.97 \n",
       "  \"/>\n",
       "<polyline clip-path=\"url(#clip262)\" style=\"stroke:#000000; stroke-linecap:butt; stroke-linejoin:round; stroke-width:4; stroke-opacity:1; fill:none\" points=\"\n",
       "  999.906,1000.97 1034.89,1667.57 \n",
       "  \"/>\n",
       "<polyline clip-path=\"url(#clip262)\" style=\"stroke:#000000; stroke-linecap:butt; stroke-linejoin:round; stroke-width:4; stroke-opacity:1; fill:none\" points=\"\n",
       "  1048.3,1636.83 1034.89,1667.57 1018.34,1638.4 \n",
       "  \"/>\n",
       "<polyline clip-path=\"url(#clip262)\" style=\"stroke:#000000; stroke-linecap:butt; stroke-linejoin:round; stroke-width:4; stroke-opacity:1; fill:none\" points=\"\n",
       "  1034.89,1667.57 999.906,1000.97 \n",
       "  \"/>\n",
       "<polyline clip-path=\"url(#clip262)\" style=\"stroke:#000000; stroke-linecap:butt; stroke-linejoin:round; stroke-width:4; stroke-opacity:1; fill:none\" points=\"\n",
       "  999.906,1000.97 584.06,475.313 \n",
       "  \"/>\n",
       "<polyline clip-path=\"url(#clip262)\" style=\"stroke:#000000; stroke-linecap:butt; stroke-linejoin:round; stroke-width:4; stroke-opacity:1; fill:none\" points=\"\n",
       "  590.909,508.147 584.06,475.313 614.437,489.534 \n",
       "  \"/>\n",
       "<polyline clip-path=\"url(#clip262)\" style=\"stroke:#000000; stroke-linecap:butt; stroke-linejoin:round; stroke-width:4; stroke-opacity:1; fill:none\" points=\"\n",
       "  584.06,475.313 999.906,1000.97 \n",
       "  \"/>\n",
       "<polyline clip-path=\"url(#clip262)\" style=\"stroke:#000000; stroke-linecap:butt; stroke-linejoin:round; stroke-width:4; stroke-opacity:1; fill:none\" points=\"\n",
       "  999.906,1000.97 1664.83,1050.32 \n",
       "  \"/>\n",
       "<polyline clip-path=\"url(#clip262)\" style=\"stroke:#000000; stroke-linecap:butt; stroke-linejoin:round; stroke-width:4; stroke-opacity:1; fill:none\" points=\"\n",
       "  1636.02,1033.14 1664.83,1050.32 1633.8,1063.06 \n",
       "  \"/>\n",
       "<polyline clip-path=\"url(#clip262)\" style=\"stroke:#000000; stroke-linecap:butt; stroke-linejoin:round; stroke-width:4; stroke-opacity:1; fill:none\" points=\"\n",
       "  1664.83,1050.32 999.906,1000.97 \n",
       "  \"/>\n",
       "<polyline clip-path=\"url(#clip262)\" style=\"stroke:#000000; stroke-linecap:butt; stroke-linejoin:round; stroke-width:4; stroke-opacity:1; fill:none\" points=\"\n",
       "  999.906,1000.97 1384.32,1545.34 \n",
       "  \"/>\n",
       "<polyline clip-path=\"url(#clip262)\" style=\"stroke:#000000; stroke-linecap:butt; stroke-linejoin:round; stroke-width:4; stroke-opacity:1; fill:none\" points=\"\n",
       "  1379.27,1512.18 1384.32,1545.34 1354.76,1529.48 \n",
       "  \"/>\n",
       "<polyline clip-path=\"url(#clip262)\" style=\"stroke:#000000; stroke-linecap:butt; stroke-linejoin:round; stroke-width:4; stroke-opacity:1; fill:none\" points=\"\n",
       "  1384.32,1545.34 999.906,1000.97 \n",
       "  \"/>\n",
       "<polyline clip-path=\"url(#clip262)\" style=\"stroke:#000000; stroke-linecap:butt; stroke-linejoin:round; stroke-width:4; stroke-opacity:1; fill:none\" points=\"\n",
       "  999.906,1000.97 516.109,1466.43 \n",
       "  \"/>\n",
       "<polyline clip-path=\"url(#clip262)\" style=\"stroke:#000000; stroke-linecap:butt; stroke-linejoin:round; stroke-width:4; stroke-opacity:1; fill:none\" points=\"\n",
       "  548.128,1456.44 516.109,1466.43 527.328,1434.82 \n",
       "  \"/>\n",
       "<polyline clip-path=\"url(#clip262)\" style=\"stroke:#000000; stroke-linecap:butt; stroke-linejoin:round; stroke-width:4; stroke-opacity:1; fill:none\" points=\"\n",
       "  516.109,1466.43 999.906,1000.97 \n",
       "  \"/>\n",
       "<polyline clip-path=\"url(#clip262)\" style=\"stroke:#000000; stroke-linecap:butt; stroke-linejoin:round; stroke-width:4; stroke-opacity:1; fill:none\" points=\"\n",
       "  999.906,1000.97 1628.24,1240.52 \n",
       "  \"/>\n",
       "<polyline clip-path=\"url(#clip262)\" style=\"stroke:#000000; stroke-linecap:butt; stroke-linejoin:round; stroke-width:4; stroke-opacity:1; fill:none\" points=\"\n",
       "  1605.55,1215.82 1628.24,1240.52 1594.87,1243.85 \n",
       "  \"/>\n",
       "<polyline clip-path=\"url(#clip262)\" style=\"stroke:#000000; stroke-linecap:butt; stroke-linejoin:round; stroke-width:4; stroke-opacity:1; fill:none\" points=\"\n",
       "  1628.24,1240.52 999.906,1000.97 \n",
       "  \"/>\n",
       "<polyline clip-path=\"url(#clip262)\" style=\"stroke:#000000; stroke-linecap:butt; stroke-linejoin:round; stroke-width:4; stroke-opacity:1; fill:none\" points=\"\n",
       "  999.906,1000.97 1464.43,1485.9 \n",
       "  \"/>\n",
       "<polyline clip-path=\"url(#clip262)\" style=\"stroke:#000000; stroke-linecap:butt; stroke-linejoin:round; stroke-width:4; stroke-opacity:1; fill:none\" points=\"\n",
       "  1454.51,1453.86 1464.43,1485.9 1432.85,1474.61 \n",
       "  \"/>\n",
       "<polyline clip-path=\"url(#clip262)\" style=\"stroke:#000000; stroke-linecap:butt; stroke-linejoin:round; stroke-width:4; stroke-opacity:1; fill:none\" points=\"\n",
       "  1464.43,1485.9 999.906,1000.97 \n",
       "  \"/>\n",
       "<polyline clip-path=\"url(#clip262)\" style=\"stroke:#000000; stroke-linecap:butt; stroke-linejoin:round; stroke-width:4; stroke-opacity:1; fill:none\" points=\"\n",
       "  999.906,1000.97 789.395,1534.73 \n",
       "  \"/>\n",
       "<polyline clip-path=\"url(#clip262)\" style=\"stroke:#000000; stroke-linecap:butt; stroke-linejoin:round; stroke-width:4; stroke-opacity:1; fill:none\" points=\"\n",
       "  814.355,1512.33 789.395,1534.73 786.447,1501.32 \n",
       "  \"/>\n",
       "<polyline clip-path=\"url(#clip262)\" style=\"stroke:#000000; stroke-linecap:butt; stroke-linejoin:round; stroke-width:4; stroke-opacity:1; fill:none\" points=\"\n",
       "  789.395,1534.73 999.906,1000.97 \n",
       "  \"/>\n",
       "<polyline clip-path=\"url(#clip262)\" style=\"stroke:#000000; stroke-linecap:butt; stroke-linejoin:round; stroke-width:4; stroke-opacity:1; fill:none\" points=\"\n",
       "  999.906,1000.97 1527.82,1411.11 \n",
       "  \"/>\n",
       "<polyline clip-path=\"url(#clip262)\" style=\"stroke:#000000; stroke-linecap:butt; stroke-linejoin:round; stroke-width:4; stroke-opacity:1; fill:none\" points=\"\n",
       "  1513.33,1380.86 1527.82,1411.11 1494.93,1404.55 \n",
       "  \"/>\n",
       "<polyline clip-path=\"url(#clip262)\" style=\"stroke:#000000; stroke-linecap:butt; stroke-linejoin:round; stroke-width:4; stroke-opacity:1; fill:none\" points=\"\n",
       "  1527.82,1411.11 999.906,1000.97 \n",
       "  \"/>\n",
       "<polyline clip-path=\"url(#clip262)\" style=\"stroke:#000000; stroke-linecap:butt; stroke-linejoin:round; stroke-width:4; stroke-opacity:1; fill:none\" points=\"\n",
       "  999.906,1000.97 1145.45,1358.25 \n",
       "  \"/>\n",
       "<polyline clip-path=\"url(#clip262)\" style=\"stroke:#000000; stroke-linecap:butt; stroke-linejoin:round; stroke-width:4; stroke-opacity:1; fill:none\" points=\"\n",
       "  1148.02,1324.81 1145.45,1358.25 1120.24,1336.13 \n",
       "  \"/>\n",
       "<polyline clip-path=\"url(#clip262)\" style=\"stroke:#000000; stroke-linecap:butt; stroke-linejoin:round; stroke-width:4; stroke-opacity:1; fill:none\" points=\"\n",
       "  1145.45,1358.25 999.906,1000.97 \n",
       "  \"/>\n",
       "<polyline clip-path=\"url(#clip262)\" style=\"stroke:#000000; stroke-linecap:butt; stroke-linejoin:round; stroke-width:4; stroke-opacity:1; fill:none\" points=\"\n",
       "  999.906,1000.97 1235.28,1093.64 \n",
       "  \"/>\n",
       "<polyline clip-path=\"url(#clip262)\" style=\"stroke:#000000; stroke-linecap:butt; stroke-linejoin:round; stroke-width:4; stroke-opacity:1; fill:none\" points=\"\n",
       "  1212.86,1068.7 1235.28,1093.64 1201.87,1096.61 \n",
       "  \"/>\n",
       "<polyline clip-path=\"url(#clip262)\" style=\"stroke:#000000; stroke-linecap:butt; stroke-linejoin:round; stroke-width:4; stroke-opacity:1; fill:none\" points=\"\n",
       "  1235.28,1093.64 999.906,1000.97 \n",
       "  \"/>\n",
       "<polyline clip-path=\"url(#clip262)\" style=\"stroke:#000000; stroke-linecap:butt; stroke-linejoin:round; stroke-width:4; stroke-opacity:1; fill:none\" points=\"\n",
       "  999.906,1000.97 662.957,1574.91 \n",
       "  \"/>\n",
       "<polyline clip-path=\"url(#clip262)\" style=\"stroke:#000000; stroke-linecap:butt; stroke-linejoin:round; stroke-width:4; stroke-opacity:1; fill:none\" points=\"\n",
       "  691.081,1556.63 662.957,1574.91 665.209,1541.44 \n",
       "  \"/>\n",
       "<polyline clip-path=\"url(#clip262)\" style=\"stroke:#000000; stroke-linecap:butt; stroke-linejoin:round; stroke-width:4; stroke-opacity:1; fill:none\" points=\"\n",
       "  662.957,1574.91 999.906,1000.97 \n",
       "  \"/>\n",
       "<polyline clip-path=\"url(#clip262)\" style=\"stroke:#000000; stroke-linecap:butt; stroke-linejoin:round; stroke-width:4; stroke-opacity:1; fill:none\" points=\"\n",
       "  999.906,1000.97 862.367,702.141 \n",
       "  \"/>\n",
       "<polyline clip-path=\"url(#clip262)\" style=\"stroke:#000000; stroke-linecap:butt; stroke-linejoin:round; stroke-width:4; stroke-opacity:1; fill:none\" points=\"\n",
       "  861.285,735.665 862.367,702.141 888.536,723.122 \n",
       "  \"/>\n",
       "<polyline clip-path=\"url(#clip262)\" style=\"stroke:#000000; stroke-linecap:butt; stroke-linejoin:round; stroke-width:4; stroke-opacity:1; fill:none\" points=\"\n",
       "  862.367,702.141 999.906,1000.97 \n",
       "  \"/>\n",
       "<polyline clip-path=\"url(#clip262)\" style=\"stroke:#000000; stroke-linecap:butt; stroke-linejoin:round; stroke-width:4; stroke-opacity:1; fill:none\" points=\"\n",
       "  999.906,1000.97 588.781,1522.33 \n",
       "  \"/>\n",
       "<polyline clip-path=\"url(#clip262)\" style=\"stroke:#000000; stroke-linecap:butt; stroke-linejoin:round; stroke-width:4; stroke-opacity:1; fill:none\" points=\"\n",
       "  619.136,1508.06 588.781,1522.33 595.579,1489.49 \n",
       "  \"/>\n",
       "<polyline clip-path=\"url(#clip262)\" style=\"stroke:#000000; stroke-linecap:butt; stroke-linejoin:round; stroke-width:4; stroke-opacity:1; fill:none\" points=\"\n",
       "  588.781,1522.33 999.906,1000.97 \n",
       "  \"/>\n",
       "<polyline clip-path=\"url(#clip262)\" style=\"stroke:#000000; stroke-linecap:butt; stroke-linejoin:round; stroke-width:4; stroke-opacity:1; fill:none\" points=\"\n",
       "  999.906,1000.97 1305.56,1589.59 \n",
       "  \"/>\n",
       "<polyline clip-path=\"url(#clip262)\" style=\"stroke:#000000; stroke-linecap:butt; stroke-linejoin:round; stroke-width:4; stroke-opacity:1; fill:none\" points=\"\n",
       "  1305.04,1556.05 1305.56,1589.59 1278.42,1569.87 \n",
       "  \"/>\n",
       "<polyline clip-path=\"url(#clip262)\" style=\"stroke:#000000; stroke-linecap:butt; stroke-linejoin:round; stroke-width:4; stroke-opacity:1; fill:none\" points=\"\n",
       "  1305.56,1589.59 999.906,1000.97 \n",
       "  \"/>\n",
       "<polyline clip-path=\"url(#clip262)\" style=\"stroke:#000000; stroke-linecap:butt; stroke-linejoin:round; stroke-width:4; stroke-opacity:1; fill:none\" points=\"\n",
       "  999.906,1000.97 332.343,952.154 \n",
       "  \"/>\n",
       "<polyline clip-path=\"url(#clip262)\" style=\"stroke:#000000; stroke-linecap:butt; stroke-linejoin:round; stroke-width:4; stroke-opacity:1; fill:none\" points=\"\n",
       "  361.17,969.302 332.343,952.154 363.357,939.382 \n",
       "  \"/>\n",
       "<polyline clip-path=\"url(#clip262)\" style=\"stroke:#000000; stroke-linecap:butt; stroke-linejoin:round; stroke-width:4; stroke-opacity:1; fill:none\" points=\"\n",
       "  332.343,952.154 999.906,1000.97 \n",
       "  \"/>\n",
       "<polyline clip-path=\"url(#clip262)\" style=\"stroke:#000000; stroke-linecap:butt; stroke-linejoin:round; stroke-width:4; stroke-opacity:1; fill:none\" points=\"\n",
       "  999.906,1000.97 451.972,1385.08 \n",
       "  \"/>\n",
       "<polyline clip-path=\"url(#clip262)\" style=\"stroke:#000000; stroke-linecap:butt; stroke-linejoin:round; stroke-width:4; stroke-opacity:1; fill:none\" points=\"\n",
       "  485.147,1380.15 451.972,1385.08 467.926,1355.58 \n",
       "  \"/>\n",
       "<polyline clip-path=\"url(#clip262)\" style=\"stroke:#000000; stroke-linecap:butt; stroke-linejoin:round; stroke-width:4; stroke-opacity:1; fill:none\" points=\"\n",
       "  451.972,1385.08 999.906,1000.97 \n",
       "  \"/>\n",
       "<polyline clip-path=\"url(#clip262)\" style=\"stroke:#000000; stroke-linecap:butt; stroke-linejoin:round; stroke-width:4; stroke-opacity:1; fill:none\" points=\"\n",
       "  999.906,1000.97 1402.7,466.699 \n",
       "  \"/>\n",
       "<polyline clip-path=\"url(#clip262)\" style=\"stroke:#000000; stroke-linecap:butt; stroke-linejoin:round; stroke-width:4; stroke-opacity:1; fill:none\" points=\"\n",
       "  1372.67,481.624 1402.7,466.699 1396.62,499.684 \n",
       "  \"/>\n",
       "<polyline clip-path=\"url(#clip262)\" style=\"stroke:#000000; stroke-linecap:butt; stroke-linejoin:round; stroke-width:4; stroke-opacity:1; fill:none\" points=\"\n",
       "  1402.7,466.699 999.906,1000.97 \n",
       "  \"/>\n",
       "<polyline clip-path=\"url(#clip262)\" style=\"stroke:#000000; stroke-linecap:butt; stroke-linejoin:round; stroke-width:4; stroke-opacity:1; fill:none\" points=\"\n",
       "  999.906,1000.97 809.212,495.945 \n",
       "  \"/>\n",
       "<polyline clip-path=\"url(#clip262)\" style=\"stroke:#000000; stroke-linecap:butt; stroke-linejoin:round; stroke-width:4; stroke-opacity:1; fill:none\" points=\"\n",
       "  805.776,529.31 809.212,495.945 833.842,518.712 \n",
       "  \"/>\n",
       "<polyline clip-path=\"url(#clip262)\" style=\"stroke:#000000; stroke-linecap:butt; stroke-linejoin:round; stroke-width:4; stroke-opacity:1; fill:none\" points=\"\n",
       "  809.212,495.945 999.906,1000.97 \n",
       "  \"/>\n",
       "<polyline clip-path=\"url(#clip262)\" style=\"stroke:#000000; stroke-linecap:butt; stroke-linejoin:round; stroke-width:4; stroke-opacity:1; fill:none\" points=\"\n",
       "  999.906,1000.97 1651.39,1144.58 \n",
       "  \"/>\n",
       "<polyline clip-path=\"url(#clip262)\" style=\"stroke:#000000; stroke-linecap:butt; stroke-linejoin:round; stroke-width:4; stroke-opacity:1; fill:none\" points=\"\n",
       "  1625.32,1123.48 1651.39,1144.58 1618.86,1152.77 \n",
       "  \"/>\n",
       "<polyline clip-path=\"url(#clip262)\" style=\"stroke:#000000; stroke-linecap:butt; stroke-linejoin:round; stroke-width:4; stroke-opacity:1; fill:none\" points=\"\n",
       "  1651.39,1144.58 999.906,1000.97 \n",
       "  \"/>\n",
       "<polyline clip-path=\"url(#clip262)\" style=\"stroke:#000000; stroke-linecap:butt; stroke-linejoin:round; stroke-width:4; stroke-opacity:1; fill:none\" points=\"\n",
       "  999.906,1000.97 1532.08,601.581 \n",
       "  \"/>\n",
       "<polyline clip-path=\"url(#clip262)\" style=\"stroke:#000000; stroke-linecap:butt; stroke-linejoin:round; stroke-width:4; stroke-opacity:1; fill:none\" points=\"\n",
       "  1499.08,607.591 1532.08,601.581 1517.09,631.585 \n",
       "  \"/>\n",
       "<polyline clip-path=\"url(#clip262)\" style=\"stroke:#000000; stroke-linecap:butt; stroke-linejoin:round; stroke-width:4; stroke-opacity:1; fill:none\" points=\"\n",
       "  1532.08,601.581 999.906,1000.97 \n",
       "  \"/>\n",
       "<polyline clip-path=\"url(#clip262)\" style=\"stroke:#000000; stroke-linecap:butt; stroke-linejoin:round; stroke-width:4; stroke-opacity:1; fill:none\" points=\"\n",
       "  999.906,1000.97 1052.12,338.04 \n",
       "  \"/>\n",
       "<polyline clip-path=\"url(#clip262)\" style=\"stroke:#000000; stroke-linecap:butt; stroke-linejoin:round; stroke-width:4; stroke-opacity:1; fill:none\" points=\"\n",
       "  1034.81,366.77 1052.12,338.04 1064.72,369.126 \n",
       "  \"/>\n",
       "<polyline clip-path=\"url(#clip262)\" style=\"stroke:#000000; stroke-linecap:butt; stroke-linejoin:round; stroke-width:4; stroke-opacity:1; fill:none\" points=\"\n",
       "  1052.12,338.04 999.906,1000.97 \n",
       "  \"/>\n",
       "<polyline clip-path=\"url(#clip262)\" style=\"stroke:#000000; stroke-linecap:butt; stroke-linejoin:round; stroke-width:4; stroke-opacity:1; fill:none\" points=\"\n",
       "  999.906,1000.97 346.165,1137.69 \n",
       "  \"/>\n",
       "<polyline clip-path=\"url(#clip262)\" style=\"stroke:#000000; stroke-linecap:butt; stroke-linejoin:round; stroke-width:4; stroke-opacity:1; fill:none\" points=\"\n",
       "  378.6,1146.23 346.165,1137.69 372.459,1116.86 \n",
       "  \"/>\n",
       "<polyline clip-path=\"url(#clip262)\" style=\"stroke:#000000; stroke-linecap:butt; stroke-linejoin:round; stroke-width:4; stroke-opacity:1; fill:none\" points=\"\n",
       "  346.165,1137.69 999.906,1000.97 \n",
       "  \"/>\n",
       "<polyline clip-path=\"url(#clip262)\" style=\"stroke:#000000; stroke-linecap:butt; stroke-linejoin:round; stroke-width:4; stroke-opacity:1; fill:none\" points=\"\n",
       "  999.906,1000.97 1222.81,1628.92 \n",
       "  \"/>\n",
       "<polyline clip-path=\"url(#clip262)\" style=\"stroke:#000000; stroke-linecap:butt; stroke-linejoin:round; stroke-width:4; stroke-opacity:1; fill:none\" points=\"\n",
       "  1226.91,1595.63 1222.81,1628.92 1198.64,1605.67 \n",
       "  \"/>\n",
       "<polyline clip-path=\"url(#clip262)\" style=\"stroke:#000000; stroke-linecap:butt; stroke-linejoin:round; stroke-width:4; stroke-opacity:1; fill:none\" points=\"\n",
       "  1222.81,1628.92 999.906,1000.97 \n",
       "  \"/>\n",
       "<polyline clip-path=\"url(#clip262)\" style=\"stroke:#000000; stroke-linecap:butt; stroke-linejoin:round; stroke-width:4; stroke-opacity:1; fill:none\" points=\"\n",
       "  999.906,1000.97 373.815,1227.17 \n",
       "  \"/>\n",
       "<polyline clip-path=\"url(#clip262)\" style=\"stroke:#000000; stroke-linecap:butt; stroke-linejoin:round; stroke-width:4; stroke-opacity:1; fill:none\" points=\"\n",
       "  407.127,1231.08 373.815,1227.17 396.933,1202.87 \n",
       "  \"/>\n",
       "<polyline clip-path=\"url(#clip262)\" style=\"stroke:#000000; stroke-linecap:butt; stroke-linejoin:round; stroke-width:4; stroke-opacity:1; fill:none\" points=\"\n",
       "  373.815,1227.17 999.906,1000.97 \n",
       "  \"/>\n",
       "<polyline clip-path=\"url(#clip262)\" style=\"stroke:#000000; stroke-linecap:butt; stroke-linejoin:round; stroke-width:4; stroke-opacity:1; fill:none\" points=\"\n",
       "  999.906,1000.97 1166.4,1529.26 \n",
       "  \"/>\n",
       "<polyline clip-path=\"url(#clip262)\" style=\"stroke:#000000; stroke-linecap:butt; stroke-linejoin:round; stroke-width:4; stroke-opacity:1; fill:none\" points=\"\n",
       "  1171.69,1496.13 1166.4,1529.26 1143.07,1505.15 \n",
       "  \"/>\n",
       "<polyline clip-path=\"url(#clip262)\" style=\"stroke:#000000; stroke-linecap:butt; stroke-linejoin:round; stroke-width:4; stroke-opacity:1; fill:none\" points=\"\n",
       "  1166.4,1529.26 999.906,1000.97 \n",
       "  \"/>\n",
       "<polyline clip-path=\"url(#clip262)\" style=\"stroke:#000000; stroke-linecap:butt; stroke-linejoin:round; stroke-width:4; stroke-opacity:1; fill:none\" points=\"\n",
       "  999.906,1000.97 1403.09,888.805 \n",
       "  \"/>\n",
       "<polyline clip-path=\"url(#clip262)\" style=\"stroke:#000000; stroke-linecap:butt; stroke-linejoin:round; stroke-width:4; stroke-opacity:1; fill:none\" points=\"\n",
       "  1370.16,882.394 1403.09,888.805 1378.2,911.297 \n",
       "  \"/>\n",
       "<polyline clip-path=\"url(#clip262)\" style=\"stroke:#000000; stroke-linecap:butt; stroke-linejoin:round; stroke-width:4; stroke-opacity:1; fill:none\" points=\"\n",
       "  1403.09,888.805 999.906,1000.97 \n",
       "  \"/>\n",
       "<polyline clip-path=\"url(#clip262)\" style=\"stroke:#000000; stroke-linecap:butt; stroke-linejoin:round; stroke-width:4; stroke-opacity:1; fill:none\" points=\"\n",
       "  999.906,1000.97 749.268,1623.56 \n",
       "  \"/>\n",
       "<polyline clip-path=\"url(#clip262)\" style=\"stroke:#000000; stroke-linecap:butt; stroke-linejoin:round; stroke-width:4; stroke-opacity:1; fill:none\" points=\"\n",
       "  774.386,1601.33 749.268,1623.56 746.557,1590.13 \n",
       "  \"/>\n",
       "<polyline clip-path=\"url(#clip262)\" style=\"stroke:#000000; stroke-linecap:butt; stroke-linejoin:round; stroke-width:4; stroke-opacity:1; fill:none\" points=\"\n",
       "  749.268,1623.56 999.906,1000.97 \n",
       "  \"/>\n",
       "<polyline clip-path=\"url(#clip262)\" style=\"stroke:#000000; stroke-linecap:butt; stroke-linejoin:round; stroke-width:4; stroke-opacity:1; fill:none\" points=\"\n",
       "  999.906,1000.97 410.441,1306.5 \n",
       "  \"/>\n",
       "<polyline clip-path=\"url(#clip262)\" style=\"stroke:#000000; stroke-linecap:butt; stroke-linejoin:round; stroke-width:4; stroke-opacity:1; fill:none\" points=\"\n",
       "  443.979,1306.01 410.441,1306.5 430.173,1279.37 \n",
       "  \"/>\n",
       "<polyline clip-path=\"url(#clip262)\" style=\"stroke:#000000; stroke-linecap:butt; stroke-linejoin:round; stroke-width:4; stroke-opacity:1; fill:none\" points=\"\n",
       "  410.441,1306.5 999.906,1000.97 \n",
       "  \"/>\n",
       "<polyline clip-path=\"url(#clip262)\" style=\"stroke:#000000; stroke-linecap:butt; stroke-linejoin:round; stroke-width:4; stroke-opacity:1; fill:none\" points=\"\n",
       "  999.906,1000.97 851.189,349.871 \n",
       "  \"/>\n",
       "<polyline clip-path=\"url(#clip262)\" style=\"stroke:#000000; stroke-linecap:butt; stroke-linejoin:round; stroke-width:4; stroke-opacity:1; fill:none\" points=\"\n",
       "  843.246,382.458 851.189,349.871 872.493,375.777 \n",
       "  \"/>\n",
       "<polyline clip-path=\"url(#clip262)\" style=\"stroke:#000000; stroke-linecap:butt; stroke-linejoin:round; stroke-width:4; stroke-opacity:1; fill:none\" points=\"\n",
       "  851.189,349.871 999.906,1000.97 \n",
       "  \"/>\n",
       "<polyline clip-path=\"url(#clip262)\" style=\"stroke:#000000; stroke-linecap:butt; stroke-linejoin:round; stroke-width:4; stroke-opacity:1; fill:none\" points=\"\n",
       "  999.906,1000.97 571.922,1047.1 \n",
       "  \"/>\n",
       "<polyline clip-path=\"url(#clip262)\" style=\"stroke:#000000; stroke-linecap:butt; stroke-linejoin:round; stroke-width:4; stroke-opacity:1; fill:none\" points=\"\n",
       "  603.357,1058.8 571.922,1047.1 600.142,1028.97 \n",
       "  \"/>\n",
       "<polyline clip-path=\"url(#clip262)\" style=\"stroke:#000000; stroke-linecap:butt; stroke-linejoin:round; stroke-width:4; stroke-opacity:1; fill:none\" points=\"\n",
       "  571.922,1047.1 999.906,1000.97 \n",
       "  \"/>\n",
       "<polyline clip-path=\"url(#clip262)\" style=\"stroke:#000000; stroke-linecap:butt; stroke-linejoin:round; stroke-width:4; stroke-opacity:1; fill:none\" points=\"\n",
       "  999.906,1000.97 1530.89,1217.09 \n",
       "  \"/>\n",
       "<polyline clip-path=\"url(#clip262)\" style=\"stroke:#000000; stroke-linecap:butt; stroke-linejoin:round; stroke-width:4; stroke-opacity:1; fill:none\" points=\"\n",
       "  1508.76,1191.89 1530.89,1217.09 1497.45,1219.67 \n",
       "  \"/>\n",
       "<polyline clip-path=\"url(#clip262)\" style=\"stroke:#000000; stroke-linecap:butt; stroke-linejoin:round; stroke-width:4; stroke-opacity:1; fill:none\" points=\"\n",
       "  1530.89,1217.09 999.906,1000.97 \n",
       "  \"/>\n",
       "<polyline clip-path=\"url(#clip262)\" style=\"stroke:#000000; stroke-linecap:butt; stroke-linejoin:round; stroke-width:4; stroke-opacity:1; fill:none\" points=\"\n",
       "  999.906,1000.97 1010.31,1407.14 \n",
       "  \"/>\n",
       "<polyline clip-path=\"url(#clip262)\" style=\"stroke:#000000; stroke-linecap:butt; stroke-linejoin:round; stroke-width:4; stroke-opacity:1; fill:none\" points=\"\n",
       "  1024.53,1376.77 1010.31,1407.14 994.542,1377.53 \n",
       "  \"/>\n",
       "<polyline clip-path=\"url(#clip262)\" style=\"stroke:#000000; stroke-linecap:butt; stroke-linejoin:round; stroke-width:4; stroke-opacity:1; fill:none\" points=\"\n",
       "  1010.31,1407.14 999.906,1000.97 \n",
       "  \"/>\n",
       "<polyline clip-path=\"url(#clip262)\" style=\"stroke:#000000; stroke-linecap:butt; stroke-linejoin:round; stroke-width:4; stroke-opacity:1; fill:none\" points=\"\n",
       "  999.906,1000.97 517.274,541.449 \n",
       "  \"/>\n",
       "<polyline clip-path=\"url(#clip262)\" style=\"stroke:#000000; stroke-linecap:butt; stroke-linejoin:round; stroke-width:4; stroke-opacity:1; fill:none\" points=\"\n",
       "  528.658,572.999 517.274,541.449 549.344,551.272 \n",
       "  \"/>\n",
       "<polyline clip-path=\"url(#clip262)\" style=\"stroke:#000000; stroke-linecap:butt; stroke-linejoin:round; stroke-width:4; stroke-opacity:1; fill:none\" points=\"\n",
       "  517.274,541.449 999.906,1000.97 \n",
       "  \"/>\n",
       "<polyline clip-path=\"url(#clip262)\" style=\"stroke:#000000; stroke-linecap:butt; stroke-linejoin:round; stroke-width:4; stroke-opacity:1; fill:none\" points=\"\n",
       "  999.906,1000.97 1655.37,861.102 \n",
       "  \"/>\n",
       "<polyline clip-path=\"url(#clip262)\" style=\"stroke:#000000; stroke-linecap:butt; stroke-linejoin:round; stroke-width:4; stroke-opacity:1; fill:none\" points=\"\n",
       "  1622.9,852.693 1655.37,861.102 1629.16,882.033 \n",
       "  \"/>\n",
       "<polyline clip-path=\"url(#clip262)\" style=\"stroke:#000000; stroke-linecap:butt; stroke-linejoin:round; stroke-width:4; stroke-opacity:1; fill:none\" points=\"\n",
       "  1655.37,861.102 999.906,1000.97 \n",
       "  \"/>\n",
       "<polyline clip-path=\"url(#clip262)\" style=\"stroke:#000000; stroke-linecap:butt; stroke-linejoin:round; stroke-width:4; stroke-opacity:1; fill:none\" points=\"\n",
       "  999.906,1000.97 944.401,1666.99 \n",
       "  \"/>\n",
       "<polyline clip-path=\"url(#clip262)\" style=\"stroke:#000000; stroke-linecap:butt; stroke-linejoin:round; stroke-width:4; stroke-opacity:1; fill:none\" points=\"\n",
       "  961.84,1638.34 944.401,1666.99 931.944,1635.85 \n",
       "  \"/>\n",
       "<polyline clip-path=\"url(#clip262)\" style=\"stroke:#000000; stroke-linecap:butt; stroke-linejoin:round; stroke-width:4; stroke-opacity:1; fill:none\" points=\"\n",
       "  944.401,1666.99 999.906,1000.97 \n",
       "  \"/>\n",
       "<polyline clip-path=\"url(#clip262)\" style=\"stroke:#000000; stroke-linecap:butt; stroke-linejoin:round; stroke-width:4; stroke-opacity:1; fill:none\" points=\"\n",
       "  999.906,1000.97 842.192,1123.44 \n",
       "  \"/>\n",
       "<polyline clip-path=\"url(#clip262)\" style=\"stroke:#000000; stroke-linecap:butt; stroke-linejoin:round; stroke-width:4; stroke-opacity:1; fill:none\" points=\"\n",
       "  875.087,1116.88 842.192,1123.44 856.687,1093.19 \n",
       "  \"/>\n",
       "<polyline clip-path=\"url(#clip262)\" style=\"stroke:#000000; stroke-linecap:butt; stroke-linejoin:round; stroke-width:4; stroke-opacity:1; fill:none\" points=\"\n",
       "  842.192,1123.44 999.906,1000.97 \n",
       "  \"/>\n",
       "<polyline clip-path=\"url(#clip262)\" style=\"stroke:#000000; stroke-linecap:butt; stroke-linejoin:round; stroke-width:4; stroke-opacity:1; fill:none\" points=\"\n",
       "  999.906,1000.97 830.868,871.167 \n",
       "  \"/>\n",
       "<polyline clip-path=\"url(#clip262)\" style=\"stroke:#000000; stroke-linecap:butt; stroke-linejoin:round; stroke-width:4; stroke-opacity:1; fill:none\" points=\"\n",
       "  845.527,901.336 830.868,871.167 863.798,877.541 \n",
       "  \"/>\n",
       "<polyline clip-path=\"url(#clip262)\" style=\"stroke:#000000; stroke-linecap:butt; stroke-linejoin:round; stroke-width:4; stroke-opacity:1; fill:none\" points=\"\n",
       "  830.868,871.167 999.906,1000.97 \n",
       "  \"/>\n",
       "<polyline clip-path=\"url(#clip262)\" style=\"stroke:#000000; stroke-linecap:butt; stroke-linejoin:round; stroke-width:4; stroke-opacity:1; fill:none\" points=\"\n",
       "  999.906,1000.97 1316.13,523.083 \n",
       "  \"/>\n",
       "<polyline clip-path=\"url(#clip262)\" style=\"stroke:#000000; stroke-linecap:butt; stroke-linejoin:round; stroke-width:4; stroke-opacity:1; fill:none\" points=\"\n",
       "  1287.07,539.824 1316.13,523.083 1312.08,556.38 \n",
       "  \"/>\n",
       "<polyline clip-path=\"url(#clip262)\" style=\"stroke:#000000; stroke-linecap:butt; stroke-linejoin:round; stroke-width:4; stroke-opacity:1; fill:none\" points=\"\n",
       "  1316.13,523.083 999.906,1000.97 \n",
       "  \"/>\n",
       "<polyline clip-path=\"url(#clip262)\" style=\"stroke:#000000; stroke-linecap:butt; stroke-linejoin:round; stroke-width:4; stroke-opacity:1; fill:none\" points=\"\n",
       "  999.906,1000.97 438.009,990.43 \n",
       "  \"/>\n",
       "<polyline clip-path=\"url(#clip262)\" style=\"stroke:#000000; stroke-linecap:butt; stroke-linejoin:round; stroke-width:4; stroke-opacity:1; fill:none\" points=\"\n",
       "  467.722,1005.99 438.009,990.43 468.285,975.996 \n",
       "  \"/>\n",
       "<polyline clip-path=\"url(#clip262)\" style=\"stroke:#000000; stroke-linecap:butt; stroke-linejoin:round; stroke-width:4; stroke-opacity:1; fill:none\" points=\"\n",
       "  438.009,990.43 999.906,1000.97 \n",
       "  \"/>\n",
       "<polyline clip-path=\"url(#clip262)\" style=\"stroke:#000000; stroke-linecap:butt; stroke-linejoin:round; stroke-width:4; stroke-opacity:1; fill:none\" points=\"\n",
       "  999.906,1000.97 665.281,1161.08 \n",
       "  \"/>\n",
       "<polyline clip-path=\"url(#clip262)\" style=\"stroke:#000000; stroke-linecap:butt; stroke-linejoin:round; stroke-width:4; stroke-opacity:1; fill:none\" points=\"\n",
       "  698.817,1161.67 665.281,1161.08 685.868,1134.6 \n",
       "  \"/>\n",
       "<polyline clip-path=\"url(#clip262)\" style=\"stroke:#000000; stroke-linecap:butt; stroke-linejoin:round; stroke-width:4; stroke-opacity:1; fill:none\" points=\"\n",
       "  665.281,1161.08 999.906,1000.97 \n",
       "  \"/>\n",
       "<polyline clip-path=\"url(#clip262)\" style=\"stroke:#000000; stroke-linecap:butt; stroke-linejoin:round; stroke-width:4; stroke-opacity:1; fill:none\" points=\"\n",
       "  999.906,1000.97 1229.22,376.396 \n",
       "  \"/>\n",
       "<polyline clip-path=\"url(#clip262)\" style=\"stroke:#000000; stroke-linecap:butt; stroke-linejoin:round; stroke-width:4; stroke-opacity:1; fill:none\" points=\"\n",
       "  1204.8,399.388 1229.22,376.396 1232.96,409.728 \n",
       "  \"/>\n",
       "<polyline clip-path=\"url(#clip262)\" style=\"stroke:#000000; stroke-linecap:butt; stroke-linejoin:round; stroke-width:4; stroke-opacity:1; fill:none\" points=\"\n",
       "  1229.22,376.396 999.906,1000.97 \n",
       "  \"/>\n",
       "<polyline clip-path=\"url(#clip262)\" style=\"stroke:#000000; stroke-linecap:butt; stroke-linejoin:round; stroke-width:4; stroke-opacity:1; fill:none\" points=\"\n",
       "  999.906,1000.97 766.155,380.552 \n",
       "  \"/>\n",
       "<polyline clip-path=\"url(#clip262)\" style=\"stroke:#000000; stroke-linecap:butt; stroke-linejoin:round; stroke-width:4; stroke-opacity:1; fill:none\" points=\"\n",
       "  762.695,413.914 766.155,380.552 790.769,403.337 \n",
       "  \"/>\n",
       "<polyline clip-path=\"url(#clip262)\" style=\"stroke:#000000; stroke-linecap:butt; stroke-linejoin:round; stroke-width:4; stroke-opacity:1; fill:none\" points=\"\n",
       "  766.155,380.552 999.906,1000.97 \n",
       "  \"/>\n",
       "<polyline clip-path=\"url(#clip262)\" style=\"stroke:#000000; stroke-linecap:butt; stroke-linejoin:round; stroke-width:4; stroke-opacity:1; fill:none\" points=\"\n",
       "  999.906,1000.97 521.837,741.409 \n",
       "  \"/>\n",
       "<polyline clip-path=\"url(#clip262)\" style=\"stroke:#000000; stroke-linecap:butt; stroke-linejoin:round; stroke-width:4; stroke-opacity:1; fill:none\" points=\"\n",
       "  541.045,768.905 521.837,741.409 555.359,742.54 \n",
       "  \"/>\n",
       "<polyline clip-path=\"url(#clip262)\" style=\"stroke:#000000; stroke-linecap:butt; stroke-linejoin:round; stroke-width:4; stroke-opacity:1; fill:none\" points=\"\n",
       "  521.837,741.409 999.906,1000.97 \n",
       "  \"/>\n",
       "<polyline clip-path=\"url(#clip262)\" style=\"stroke:#000000; stroke-linecap:butt; stroke-linejoin:round; stroke-width:4; stroke-opacity:1; fill:none\" points=\"\n",
       "  999.906,1000.97 1547.21,1091.79 \n",
       "  \"/>\n",
       "<polyline clip-path=\"url(#clip262)\" style=\"stroke:#000000; stroke-linecap:butt; stroke-linejoin:round; stroke-width:4; stroke-opacity:1; fill:none\" points=\"\n",
       "  1520.07,1072.08 1547.21,1091.79 1515.16,1101.68 \n",
       "  \"/>\n",
       "<polyline clip-path=\"url(#clip262)\" style=\"stroke:#000000; stroke-linecap:butt; stroke-linejoin:round; stroke-width:4; stroke-opacity:1; fill:none\" points=\"\n",
       "  1547.21,1091.79 999.906,1000.97 \n",
       "  \"/>\n",
       "<polyline clip-path=\"url(#clip262)\" style=\"stroke:#000000; stroke-linecap:butt; stroke-linejoin:round; stroke-width:4; stroke-opacity:1; fill:none\" points=\"\n",
       "  999.906,1000.97 1556.28,964.596 \n",
       "  \"/>\n",
       "<polyline clip-path=\"url(#clip262)\" style=\"stroke:#000000; stroke-linecap:butt; stroke-linejoin:round; stroke-width:4; stroke-opacity:1; fill:none\" points=\"\n",
       "  1525.37,951.585 1556.28,964.596 1527.33,981.521 \n",
       "  \"/>\n",
       "<polyline clip-path=\"url(#clip262)\" style=\"stroke:#000000; stroke-linecap:butt; stroke-linejoin:round; stroke-width:4; stroke-opacity:1; fill:none\" points=\"\n",
       "  1556.28,964.596 999.906,1000.97 \n",
       "  \"/>\n",
       "<polyline clip-path=\"url(#clip262)\" style=\"stroke:#000000; stroke-linecap:butt; stroke-linejoin:round; stroke-width:4; stroke-opacity:1; fill:none\" points=\"\n",
       "  999.906,1000.97 1047.35,1555.46 \n",
       "  \"/>\n",
       "<polyline clip-path=\"url(#clip262)\" style=\"stroke:#000000; stroke-linecap:butt; stroke-linejoin:round; stroke-width:4; stroke-opacity:1; fill:none\" points=\"\n",
       "  1059.74,1524.29 1047.35,1555.46 1029.85,1526.85 \n",
       "  \"/>\n",
       "<polyline clip-path=\"url(#clip262)\" style=\"stroke:#000000; stroke-linecap:butt; stroke-linejoin:round; stroke-width:4; stroke-opacity:1; fill:none\" points=\"\n",
       "  1047.35,1555.46 999.906,1000.97 \n",
       "  \"/>\n",
       "<polyline clip-path=\"url(#clip262)\" style=\"stroke:#000000; stroke-linecap:butt; stroke-linejoin:round; stroke-width:4; stroke-opacity:1; fill:none\" points=\"\n",
       "  999.906,1000.97 457.646,1134.9 \n",
       "  \"/>\n",
       "<polyline clip-path=\"url(#clip262)\" style=\"stroke:#000000; stroke-linecap:butt; stroke-linejoin:round; stroke-width:4; stroke-opacity:1; fill:none\" points=\"\n",
       "  490.368,1142.27 457.646,1134.9 483.174,1113.14 \n",
       "  \"/>\n",
       "<polyline clip-path=\"url(#clip262)\" style=\"stroke:#000000; stroke-linecap:butt; stroke-linejoin:round; stroke-width:4; stroke-opacity:1; fill:none\" points=\"\n",
       "  457.646,1134.9 999.906,1000.97 \n",
       "  \"/>\n",
       "<polyline clip-path=\"url(#clip262)\" style=\"stroke:#000000; stroke-linecap:butt; stroke-linejoin:round; stroke-width:4; stroke-opacity:1; fill:none\" points=\"\n",
       "  999.906,1000.97 926.159,1559.34 \n",
       "  \"/>\n",
       "<polyline clip-path=\"url(#clip262)\" style=\"stroke:#000000; stroke-linecap:butt; stroke-linejoin:round; stroke-width:4; stroke-opacity:1; fill:none\" points=\"\n",
       "  944.958,1531.57 926.159,1559.34 915.217,1527.64 \n",
       "  \"/>\n",
       "<polyline clip-path=\"url(#clip262)\" style=\"stroke:#000000; stroke-linecap:butt; stroke-linejoin:round; stroke-width:4; stroke-opacity:1; fill:none\" points=\"\n",
       "  926.159,1559.34 999.906,1000.97 \n",
       "  \"/>\n",
       "<polyline clip-path=\"url(#clip262)\" style=\"stroke:#000000; stroke-linecap:butt; stroke-linejoin:round; stroke-width:4; stroke-opacity:1; fill:none\" points=\"\n",
       "  999.906,1000.97 335.435,1047.65 \n",
       "  \"/>\n",
       "<polyline clip-path=\"url(#clip262)\" style=\"stroke:#000000; stroke-linecap:butt; stroke-linejoin:round; stroke-width:4; stroke-opacity:1; fill:none\" points=\"\n",
       "  366.412,1060.51 335.435,1047.65 364.309,1030.59 \n",
       "  \"/>\n",
       "<polyline clip-path=\"url(#clip262)\" style=\"stroke:#000000; stroke-linecap:butt; stroke-linejoin:round; stroke-width:4; stroke-opacity:1; fill:none\" points=\"\n",
       "  335.435,1047.65 999.906,1000.97 \n",
       "  \"/>\n",
       "<polyline clip-path=\"url(#clip262)\" style=\"stroke:#000000; stroke-linecap:butt; stroke-linejoin:round; stroke-width:4; stroke-opacity:1; fill:none\" points=\"\n",
       "  999.906,1000.97 561.68,1375.49 \n",
       "  \"/>\n",
       "<polyline clip-path=\"url(#clip262)\" style=\"stroke:#000000; stroke-linecap:butt; stroke-linejoin:round; stroke-width:4; stroke-opacity:1; fill:none\" points=\"\n",
       "  594.231,1367.4 561.68,1375.49 574.74,1344.6 \n",
       "  \"/>\n",
       "<polyline clip-path=\"url(#clip262)\" style=\"stroke:#000000; stroke-linecap:butt; stroke-linejoin:round; stroke-width:4; stroke-opacity:1; fill:none\" points=\"\n",
       "  561.68,1375.49 999.906,1000.97 \n",
       "  \"/>\n",
       "<polyline clip-path=\"url(#clip262)\" style=\"stroke:#000000; stroke-linecap:butt; stroke-linejoin:round; stroke-width:4; stroke-opacity:1; fill:none\" points=\"\n",
       "  999.906,1000.97 1066.02,457.461 \n",
       "  \"/>\n",
       "<polyline clip-path=\"url(#clip262)\" style=\"stroke:#000000; stroke-linecap:butt; stroke-linejoin:round; stroke-width:4; stroke-opacity:1; fill:none\" points=\"\n",
       "  1047.51,485.43 1066.02,457.461 1077.29,489.053 \n",
       "  \"/>\n",
       "<polyline clip-path=\"url(#clip262)\" style=\"stroke:#000000; stroke-linecap:butt; stroke-linejoin:round; stroke-width:4; stroke-opacity:1; fill:none\" points=\"\n",
       "  1066.02,457.461 999.906,1000.97 \n",
       "  \"/>\n",
       "<polyline clip-path=\"url(#clip262)\" style=\"stroke:#000000; stroke-linecap:butt; stroke-linejoin:round; stroke-width:4; stroke-opacity:1; fill:none\" points=\"\n",
       "  999.906,1000.97 947.299,575.066 \n",
       "  \"/>\n",
       "<polyline clip-path=\"url(#clip262)\" style=\"stroke:#000000; stroke-linecap:butt; stroke-linejoin:round; stroke-width:4; stroke-opacity:1; fill:none\" points=\"\n",
       "  936.09,606.678 947.299,575.066 965.863,603.001 \n",
       "  \"/>\n",
       "<polyline clip-path=\"url(#clip262)\" style=\"stroke:#000000; stroke-linecap:butt; stroke-linejoin:round; stroke-width:4; stroke-opacity:1; fill:none\" points=\"\n",
       "  947.299,575.066 999.906,1000.97 \n",
       "  \"/>\n",
       "<polyline clip-path=\"url(#clip262)\" style=\"stroke:#000000; stroke-linecap:butt; stroke-linejoin:round; stroke-width:4; stroke-opacity:1; fill:none\" points=\"\n",
       "  999.906,1000.97 1239.2,647.194 \n",
       "  \"/>\n",
       "<polyline clip-path=\"url(#clip262)\" style=\"stroke:#000000; stroke-linecap:butt; stroke-linejoin:round; stroke-width:4; stroke-opacity:1; fill:none\" points=\"\n",
       "  1209.97,663.64 1239.2,647.194 1234.82,680.448 \n",
       "  \"/>\n",
       "<polyline clip-path=\"url(#clip262)\" style=\"stroke:#000000; stroke-linecap:butt; stroke-linejoin:round; stroke-width:4; stroke-opacity:1; fill:none\" points=\"\n",
       "  1239.2,647.194 999.906,1000.97 \n",
       "  \"/>\n",
       "<polyline clip-path=\"url(#clip262)\" style=\"stroke:#000000; stroke-linecap:butt; stroke-linejoin:round; stroke-width:4; stroke-opacity:1; fill:none\" points=\"\n",
       "  999.906,1000.97 458.969,613.52 \n",
       "  \"/>\n",
       "<polyline clip-path=\"url(#clip262)\" style=\"stroke:#000000; stroke-linecap:butt; stroke-linejoin:round; stroke-width:4; stroke-opacity:1; fill:none\" points=\"\n",
       "  474.624,643.183 458.969,613.52 492.092,618.794 \n",
       "  \"/>\n",
       "<polyline clip-path=\"url(#clip262)\" style=\"stroke:#000000; stroke-linecap:butt; stroke-linejoin:round; stroke-width:4; stroke-opacity:1; fill:none\" points=\"\n",
       "  458.969,613.52 999.906,1000.97 \n",
       "  \"/>\n",
       "<polyline clip-path=\"url(#clip262)\" style=\"stroke:#000000; stroke-linecap:butt; stroke-linejoin:round; stroke-width:4; stroke-opacity:1; fill:none\" points=\"\n",
       "  999.906,1000.97 1322.31,772.941 \n",
       "  \"/>\n",
       "<polyline clip-path=\"url(#clip262)\" style=\"stroke:#000000; stroke-linecap:butt; stroke-linejoin:round; stroke-width:4; stroke-opacity:1; fill:none\" points=\"\n",
       "  1289.16,778.017 1322.31,772.941 1306.48,802.51 \n",
       "  \"/>\n",
       "<polyline clip-path=\"url(#clip262)\" style=\"stroke:#000000; stroke-linecap:butt; stroke-linejoin:round; stroke-width:4; stroke-opacity:1; fill:none\" points=\"\n",
       "  1322.31,772.941 999.906,1000.97 \n",
       "  \"/>\n",
       "<polyline clip-path=\"url(#clip262)\" style=\"stroke:#000000; stroke-linecap:butt; stroke-linejoin:round; stroke-width:4; stroke-opacity:1; fill:none\" points=\"\n",
       "  999.906,1000.97 741.115,993.999 \n",
       "  \"/>\n",
       "<polyline clip-path=\"url(#clip262)\" style=\"stroke:#000000; stroke-linecap:butt; stroke-linejoin:round; stroke-width:4; stroke-opacity:1; fill:none\" points=\"\n",
       "  770.7,1009.8 741.115,993.999 771.508,979.812 \n",
       "  \"/>\n",
       "<polyline clip-path=\"url(#clip262)\" style=\"stroke:#000000; stroke-linecap:butt; stroke-linejoin:round; stroke-width:4; stroke-opacity:1; fill:none\" points=\"\n",
       "  741.115,993.999 999.906,1000.97 \n",
       "  \"/>\n",
       "<polyline clip-path=\"url(#clip262)\" style=\"stroke:#000000; stroke-linecap:butt; stroke-linejoin:round; stroke-width:4; stroke-opacity:1; fill:none\" points=\"\n",
       "  999.906,1000.97 373.958,769.459 \n",
       "  \"/>\n",
       "<polyline clip-path=\"url(#clip262)\" style=\"stroke:#000000; stroke-linecap:butt; stroke-linejoin:round; stroke-width:4; stroke-opacity:1; fill:none\" points=\"\n",
       "  396.892,793.934 373.958,769.459 407.298,765.797 \n",
       "  \"/>\n",
       "<polyline clip-path=\"url(#clip262)\" style=\"stroke:#000000; stroke-linecap:butt; stroke-linejoin:round; stroke-width:4; stroke-opacity:1; fill:none\" points=\"\n",
       "  373.958,769.459 999.906,1000.97 \n",
       "  \"/>\n",
       "<polyline clip-path=\"url(#clip262)\" style=\"stroke:#000000; stroke-linecap:butt; stroke-linejoin:round; stroke-width:4; stroke-opacity:1; fill:none\" points=\"\n",
       "  999.906,1000.97 1008.9,789.352 \n",
       "  \"/>\n",
       "<polyline clip-path=\"url(#clip262)\" style=\"stroke:#000000; stroke-linecap:butt; stroke-linejoin:round; stroke-width:4; stroke-opacity:1; fill:none\" points=\"\n",
       "  992.642,818.688 1008.9,789.352 1022.61,819.962 \n",
       "  \"/>\n",
       "<polyline clip-path=\"url(#clip262)\" style=\"stroke:#000000; stroke-linecap:butt; stroke-linejoin:round; stroke-width:4; stroke-opacity:1; fill:none\" points=\"\n",
       "  1008.9,789.352 999.906,1000.97 \n",
       "  \"/>\n",
       "<polyline clip-path=\"url(#clip262)\" style=\"stroke:#000000; stroke-linecap:butt; stroke-linejoin:round; stroke-width:4; stroke-opacity:1; fill:none\" points=\"\n",
       "  999.906,1000.97 679.419,411.613 \n",
       "  \"/>\n",
       "<polyline clip-path=\"url(#clip262)\" style=\"stroke:#000000; stroke-linecap:butt; stroke-linejoin:round; stroke-width:4; stroke-opacity:1; fill:none\" points=\"\n",
       "  680.573,445.134 679.419,411.613 706.929,430.803 \n",
       "  \"/>\n",
       "<polyline clip-path=\"url(#clip262)\" style=\"stroke:#000000; stroke-linecap:butt; stroke-linejoin:round; stroke-width:4; stroke-opacity:1; fill:none\" points=\"\n",
       "  679.419,411.613 999.906,1000.97 \n",
       "  \"/>\n",
       "<polyline clip-path=\"url(#clip262)\" style=\"stroke:#000000; stroke-linecap:butt; stroke-linejoin:round; stroke-width:4; stroke-opacity:1; fill:none\" points=\"\n",
       "  999.906,1000.97 1142.34,352.064 \n",
       "  \"/>\n",
       "<polyline clip-path=\"url(#clip262)\" style=\"stroke:#000000; stroke-linecap:butt; stroke-linejoin:round; stroke-width:4; stroke-opacity:1; fill:none\" points=\"\n",
       "  1121.26,378.15 1142.34,352.064 1150.56,384.582 \n",
       "  \"/>\n",
       "<polyline clip-path=\"url(#clip262)\" style=\"stroke:#000000; stroke-linecap:butt; stroke-linejoin:round; stroke-width:4; stroke-opacity:1; fill:none\" points=\"\n",
       "  1142.34,352.064 999.906,1000.97 \n",
       "  \"/>\n",
       "<polyline clip-path=\"url(#clip262)\" style=\"stroke:#000000; stroke-linecap:butt; stroke-linejoin:round; stroke-width:4; stroke-opacity:1; fill:none\" points=\"\n",
       "  999.906,1000.97 1401.46,1031.49 \n",
       "  \"/>\n",
       "<polyline clip-path=\"url(#clip262)\" style=\"stroke:#000000; stroke-linecap:butt; stroke-linejoin:round; stroke-width:4; stroke-opacity:1; fill:none\" points=\"\n",
       "  1372.68,1014.26 1401.46,1031.49 1370.41,1044.17 \n",
       "  \"/>\n",
       "<polyline clip-path=\"url(#clip262)\" style=\"stroke:#000000; stroke-linecap:butt; stroke-linejoin:round; stroke-width:4; stroke-opacity:1; fill:none\" points=\"\n",
       "  1401.46,1031.49 999.906,1000.97 \n",
       "  \"/>\n",
       "<polyline clip-path=\"url(#clip262)\" style=\"stroke:#000000; stroke-linecap:butt; stroke-linejoin:round; stroke-width:4; stroke-opacity:1; fill:none\" points=\"\n",
       "  999.906,1000.97 684.831,779.288 \n",
       "  \"/>\n",
       "<polyline clip-path=\"url(#clip262)\" style=\"stroke:#000000; stroke-linecap:butt; stroke-linejoin:round; stroke-width:4; stroke-opacity:1; fill:none\" points=\"\n",
       "  700.735,808.819 684.831,779.288 717.998,784.283 \n",
       "  \"/>\n",
       "<polyline clip-path=\"url(#clip262)\" style=\"stroke:#000000; stroke-linecap:butt; stroke-linejoin:round; stroke-width:4; stroke-opacity:1; fill:none\" points=\"\n",
       "  684.831,779.288 999.906,1000.97 \n",
       "  \"/>\n",
       "<polyline clip-path=\"url(#clip262)\" style=\"stroke:#000000; stroke-linecap:butt; stroke-linejoin:round; stroke-width:4; stroke-opacity:1; fill:none\" points=\"\n",
       "  999.906,1000.97 673.008,510.564 \n",
       "  \"/>\n",
       "<polyline clip-path=\"url(#clip262)\" style=\"stroke:#000000; stroke-linecap:butt; stroke-linejoin:round; stroke-width:4; stroke-opacity:1; fill:none\" points=\"\n",
       "  677.167,543.846 673.008,510.564 702.129,527.206 \n",
       "  \"/>\n",
       "<polyline clip-path=\"url(#clip262)\" style=\"stroke:#000000; stroke-linecap:butt; stroke-linejoin:round; stroke-width:4; stroke-opacity:1; fill:none\" points=\"\n",
       "  673.008,510.564 999.906,1000.97 \n",
       "  \"/>\n",
       "<polyline clip-path=\"url(#clip262)\" style=\"stroke:#000000; stroke-linecap:butt; stroke-linejoin:round; stroke-width:4; stroke-opacity:1; fill:none\" points=\"\n",
       "  999.906,1000.97 689.42,1450.98 \n",
       "  \"/>\n",
       "<polyline clip-path=\"url(#clip262)\" style=\"stroke:#000000; stroke-linecap:butt; stroke-linejoin:round; stroke-width:4; stroke-opacity:1; fill:none\" points=\"\n",
       "  718.803,1434.81 689.42,1450.98 694.11,1417.77 \n",
       "  \"/>\n",
       "<polyline clip-path=\"url(#clip262)\" style=\"stroke:#000000; stroke-linecap:butt; stroke-linejoin:round; stroke-width:4; stroke-opacity:1; fill:none\" points=\"\n",
       "  689.42,1450.98 999.906,1000.97 \n",
       "  \"/>\n",
       "<polyline clip-path=\"url(#clip262)\" style=\"stroke:#000000; stroke-linecap:butt; stroke-linejoin:round; stroke-width:4; stroke-opacity:1; fill:none\" points=\"\n",
       "  999.906,1000.97 1547.1,836.032 \n",
       "  \"/>\n",
       "<polyline clip-path=\"url(#clip262)\" style=\"stroke:#000000; stroke-linecap:butt; stroke-linejoin:round; stroke-width:4; stroke-opacity:1; fill:none\" points=\"\n",
       "  1514.05,830.328 1547.1,836.032 1522.71,859.052 \n",
       "  \"/>\n",
       "<polyline clip-path=\"url(#clip262)\" style=\"stroke:#000000; stroke-linecap:butt; stroke-linejoin:round; stroke-width:4; stroke-opacity:1; fill:none\" points=\"\n",
       "  1547.1,836.032 999.906,1000.97 \n",
       "  \"/>\n",
       "<polyline clip-path=\"url(#clip262)\" style=\"stroke:#000000; stroke-linecap:butt; stroke-linejoin:round; stroke-width:4; stroke-opacity:1; fill:none\" points=\"\n",
       "  999.906,1000.97 1383.7,1180.53 \n",
       "  \"/>\n",
       "<polyline clip-path=\"url(#clip262)\" style=\"stroke:#000000; stroke-linecap:butt; stroke-linejoin:round; stroke-width:4; stroke-opacity:1; fill:none\" points=\"\n",
       "  1362.89,1154.23 1383.7,1180.53 1350.18,1181.4 \n",
       "  \"/>\n",
       "<polyline clip-path=\"url(#clip262)\" style=\"stroke:#000000; stroke-linecap:butt; stroke-linejoin:round; stroke-width:4; stroke-opacity:1; fill:none\" points=\"\n",
       "  1383.7,1180.53 999.906,1000.97 \n",
       "  \"/>\n",
       "<polyline clip-path=\"url(#clip262)\" style=\"stroke:#000000; stroke-linecap:butt; stroke-linejoin:round; stroke-width:4; stroke-opacity:1; fill:none\" points=\"\n",
       "  999.906,1000.97 599.581,896.475 \n",
       "  \"/>\n",
       "<polyline clip-path=\"url(#clip262)\" style=\"stroke:#000000; stroke-linecap:butt; stroke-linejoin:round; stroke-width:4; stroke-opacity:1; fill:none\" points=\"\n",
       "  624.82,918.565 599.581,896.475 632.397,889.538 \n",
       "  \"/>\n",
       "<polyline clip-path=\"url(#clip262)\" style=\"stroke:#000000; stroke-linecap:butt; stroke-linejoin:round; stroke-width:4; stroke-opacity:1; fill:none\" points=\"\n",
       "  599.581,896.475 999.906,1000.97 \n",
       "  \"/>\n",
       "<polyline clip-path=\"url(#clip262)\" style=\"stroke:#000000; stroke-linecap:butt; stroke-linejoin:round; stroke-width:4; stroke-opacity:1; fill:none\" points=\"\n",
       "  999.906,1000.97 1092.73,630.708 \n",
       "  \"/>\n",
       "<polyline clip-path=\"url(#clip262)\" style=\"stroke:#000000; stroke-linecap:butt; stroke-linejoin:round; stroke-width:4; stroke-opacity:1; fill:none\" points=\"\n",
       "  1070.89,656.16 1092.73,630.708 1099.99,663.455 \n",
       "  \"/>\n",
       "<polyline clip-path=\"url(#clip262)\" style=\"stroke:#000000; stroke-linecap:butt; stroke-linejoin:round; stroke-width:4; stroke-opacity:1; fill:none\" points=\"\n",
       "  1092.73,630.708 999.906,1000.97 \n",
       "  \"/>\n",
       "<polyline clip-path=\"url(#clip262)\" style=\"stroke:#000000; stroke-linecap:butt; stroke-linejoin:round; stroke-width:4; stroke-opacity:1; fill:none\" points=\"\n",
       "  999.906,1000.97 866.802,1419.9 \n",
       "  \"/>\n",
       "<polyline clip-path=\"url(#clip262)\" style=\"stroke:#000000; stroke-linecap:butt; stroke-linejoin:round; stroke-width:4; stroke-opacity:1; fill:none\" points=\"\n",
       "  890.182,1395.85 866.802,1419.9 861.59,1386.77 \n",
       "  \"/>\n",
       "<polyline clip-path=\"url(#clip262)\" style=\"stroke:#000000; stroke-linecap:butt; stroke-linejoin:round; stroke-width:4; stroke-opacity:1; fill:none\" points=\"\n",
       "  866.802,1419.9 999.906,1000.97 \n",
       "  \"/>\n",
       "<polyline clip-path=\"url(#clip262)\" style=\"stroke:#000000; stroke-linecap:butt; stroke-linejoin:round; stroke-width:4; stroke-opacity:1; fill:none\" points=\"\n",
       "  999.906,1000.97 1584.34,677.805 \n",
       "  \"/>\n",
       "<polyline clip-path=\"url(#clip262)\" style=\"stroke:#000000; stroke-linecap:butt; stroke-linejoin:round; stroke-width:4; stroke-opacity:1; fill:none\" points=\"\n",
       "  1550.83,679.195 1584.34,677.805 1565.34,705.448 \n",
       "  \"/>\n",
       "<polyline clip-path=\"url(#clip262)\" style=\"stroke:#000000; stroke-linecap:butt; stroke-linejoin:round; stroke-width:4; stroke-opacity:1; fill:none\" points=\"\n",
       "  1584.34,677.805 999.906,1000.97 \n",
       "  \"/>\n",
       "<polyline clip-path=\"url(#clip262)\" style=\"stroke:#000000; stroke-linecap:butt; stroke-linejoin:round; stroke-width:4; stroke-opacity:1; fill:none\" points=\"\n",
       "  999.906,1000.97 586.428,630.659 \n",
       "  \"/>\n",
       "<polyline clip-path=\"url(#clip262)\" style=\"stroke:#000000; stroke-linecap:butt; stroke-linejoin:round; stroke-width:4; stroke-opacity:1; fill:none\" points=\"\n",
       "  598.768,661.847 586.428,630.659 618.783,639.499 \n",
       "  \"/>\n",
       "<polyline clip-path=\"url(#clip262)\" style=\"stroke:#000000; stroke-linecap:butt; stroke-linejoin:round; stroke-width:4; stroke-opacity:1; fill:none\" points=\"\n",
       "  586.428,630.659 999.906,1000.97 \n",
       "  \"/>\n",
       "<polyline clip-path=\"url(#clip262)\" style=\"stroke:#000000; stroke-linecap:butt; stroke-linejoin:round; stroke-width:4; stroke-opacity:1; fill:none\" points=\"\n",
       "  999.906,1000.97 833.842,1280.71 \n",
       "  \"/>\n",
       "<polyline clip-path=\"url(#clip262)\" style=\"stroke:#000000; stroke-linecap:butt; stroke-linejoin:round; stroke-width:4; stroke-opacity:1; fill:none\" points=\"\n",
       "  862.055,1262.57 833.842,1280.71 836.257,1247.26 \n",
       "  \"/>\n",
       "<polyline clip-path=\"url(#clip262)\" style=\"stroke:#000000; stroke-linecap:butt; stroke-linejoin:round; stroke-width:4; stroke-opacity:1; fill:none\" points=\"\n",
       "  833.842,1280.71 999.906,1000.97 \n",
       "  \"/>\n",
       "<polyline clip-path=\"url(#clip262)\" style=\"stroke:#000000; stroke-linecap:butt; stroke-linejoin:round; stroke-width:4; stroke-opacity:1; fill:none\" points=\"\n",
       "  999.906,1000.97 953.396,332.426 \n",
       "  \"/>\n",
       "<polyline clip-path=\"url(#clip262)\" style=\"stroke:#000000; stroke-linecap:butt; stroke-linejoin:round; stroke-width:4; stroke-opacity:1; fill:none\" points=\"\n",
       "  940.514,363.395 953.396,332.426 970.441,361.313 \n",
       "  \"/>\n",
       "<polyline clip-path=\"url(#clip262)\" style=\"stroke:#000000; stroke-linecap:butt; stroke-linejoin:round; stroke-width:4; stroke-opacity:1; fill:none\" points=\"\n",
       "  953.396,332.426 999.906,1000.97 \n",
       "  \"/>\n",
       "<polyline clip-path=\"url(#clip262)\" style=\"stroke:#000000; stroke-linecap:butt; stroke-linejoin:round; stroke-width:4; stroke-opacity:1; fill:none\" points=\"\n",
       "  999.906,1000.97 1156.79,811.223 \n",
       "  \"/>\n",
       "<polyline clip-path=\"url(#clip262)\" style=\"stroke:#000000; stroke-linecap:butt; stroke-linejoin:round; stroke-width:4; stroke-opacity:1; fill:none\" points=\"\n",
       "  1126.11,824.786 1156.79,811.223 1149.23,843.902 \n",
       "  \"/>\n",
       "<polyline clip-path=\"url(#clip262)\" style=\"stroke:#000000; stroke-linecap:butt; stroke-linejoin:round; stroke-width:4; stroke-opacity:1; fill:none\" points=\"\n",
       "  1156.79,811.223 999.906,1000.97 \n",
       "  \"/>\n",
       "<polyline clip-path=\"url(#clip262)\" style=\"stroke:#000000; stroke-linecap:butt; stroke-linejoin:round; stroke-width:4; stroke-opacity:1; fill:none\" points=\"\n",
       "  999.906,1000.97 1314.41,411.87 \n",
       "  \"/>\n",
       "<polyline clip-path=\"url(#clip262)\" style=\"stroke:#000000; stroke-linecap:butt; stroke-linejoin:round; stroke-width:4; stroke-opacity:1; fill:none\" points=\"\n",
       "  1287.05,431.271 1314.41,411.87 1313.51,445.399 \n",
       "  \"/>\n",
       "<polyline clip-path=\"url(#clip262)\" style=\"stroke:#000000; stroke-linecap:butt; stroke-linejoin:round; stroke-width:4; stroke-opacity:1; fill:none\" points=\"\n",
       "  1314.41,411.87 999.906,1000.97 \n",
       "  \"/>\n",
       "<polyline clip-path=\"url(#clip262)\" style=\"stroke:#000000; stroke-linecap:butt; stroke-linejoin:round; stroke-width:4; stroke-opacity:1; fill:none\" points=\"\n",
       "  999.906,1000.97 926.429,431.743 \n",
       "  \"/>\n",
       "<polyline clip-path=\"url(#clip262)\" style=\"stroke:#000000; stroke-linecap:butt; stroke-linejoin:round; stroke-width:4; stroke-opacity:1; fill:none\" points=\"\n",
       "  915.393,463.416 926.429,431.743 945.146,459.576 \n",
       "  \"/>\n",
       "<polyline clip-path=\"url(#clip262)\" style=\"stroke:#000000; stroke-linecap:butt; stroke-linejoin:round; stroke-width:4; stroke-opacity:1; fill:none\" points=\"\n",
       "  926.429,431.743 999.906,1000.97 \n",
       "  \"/>\n",
       "<polyline clip-path=\"url(#clip262)\" style=\"stroke:#000000; stroke-linecap:butt; stroke-linejoin:round; stroke-width:4; stroke-opacity:1; fill:none\" points=\"\n",
       "  999.906,1000.97 1269.11,1464.01 \n",
       "  \"/>\n",
       "<polyline clip-path=\"url(#clip262)\" style=\"stroke:#000000; stroke-linecap:butt; stroke-linejoin:round; stroke-width:4; stroke-opacity:1; fill:none\" points=\"\n",
       "  1267,1430.53 1269.11,1464.01 1241.07,1445.61 \n",
       "  \"/>\n",
       "<polyline clip-path=\"url(#clip262)\" style=\"stroke:#000000; stroke-linecap:butt; stroke-linejoin:round; stroke-width:4; stroke-opacity:1; fill:none\" points=\"\n",
       "  1269.11,1464.01 999.906,1000.97 \n",
       "  \"/>\n",
       "<polyline clip-path=\"url(#clip262)\" style=\"stroke:#000000; stroke-linecap:butt; stroke-linejoin:round; stroke-width:4; stroke-opacity:1; fill:none\" points=\"\n",
       "  999.906,1000.97 1403.09,624.857 \n",
       "  \"/>\n",
       "<polyline clip-path=\"url(#clip262)\" style=\"stroke:#000000; stroke-linecap:butt; stroke-linejoin:round; stroke-width:4; stroke-opacity:1; fill:none\" points=\"\n",
       "  1370.92,634.353 1403.09,624.857 1391.39,656.29 \n",
       "  \"/>\n",
       "<polyline clip-path=\"url(#clip262)\" style=\"stroke:#000000; stroke-linecap:butt; stroke-linejoin:round; stroke-width:4; stroke-opacity:1; fill:none\" points=\"\n",
       "  1403.09,624.857 999.906,1000.97 \n",
       "  \"/>\n",
       "<polyline clip-path=\"url(#clip262)\" style=\"stroke:#000000; stroke-linecap:butt; stroke-linejoin:round; stroke-width:4; stroke-opacity:1; fill:none\" points=\"\n",
       "  999.906,1000.97 1188.34,488.247 \n",
       "  \"/>\n",
       "<polyline clip-path=\"url(#clip262)\" style=\"stroke:#000000; stroke-linecap:butt; stroke-linejoin:round; stroke-width:4; stroke-opacity:1; fill:none\" points=\"\n",
       "  1163.91,511.231 1188.34,488.247 1192.07,521.58 \n",
       "  \"/>\n",
       "<polyline clip-path=\"url(#clip262)\" style=\"stroke:#000000; stroke-linecap:butt; stroke-linejoin:round; stroke-width:4; stroke-opacity:1; fill:none\" points=\"\n",
       "  1188.34,488.247 999.906,1000.97 \n",
       "  \"/>\n",
       "<polyline clip-path=\"url(#clip262)\" style=\"stroke:#000000; stroke-linecap:butt; stroke-linejoin:round; stroke-width:4; stroke-opacity:1; fill:none\" points=\"\n",
       "  999.906,1000.97 1121,1186.2 \n",
       "  \"/>\n",
       "<polyline clip-path=\"url(#clip262)\" style=\"stroke:#000000; stroke-linecap:butt; stroke-linejoin:round; stroke-width:4; stroke-opacity:1; fill:none\" points=\"\n",
       "  1117.14,1152.88 1121,1186.2 1092.03,1169.29 \n",
       "  \"/>\n",
       "<polyline clip-path=\"url(#clip262)\" style=\"stroke:#000000; stroke-linecap:butt; stroke-linejoin:round; stroke-width:4; stroke-opacity:1; fill:none\" points=\"\n",
       "  1121,1186.2 999.906,1000.97 \n",
       "  \"/>\n",
       "<polyline clip-path=\"url(#clip262)\" style=\"stroke:#000000; stroke-linecap:butt; stroke-linejoin:round; stroke-width:4; stroke-opacity:1; fill:none\" points=\"\n",
       "  999.906,1000.97 1626.67,762.364 \n",
       "  \"/>\n",
       "<polyline clip-path=\"url(#clip262)\" style=\"stroke:#000000; stroke-linecap:butt; stroke-linejoin:round; stroke-width:4; stroke-opacity:1; fill:none\" points=\"\n",
       "  1593.29,759.019 1626.67,762.364 1603.97,787.056 \n",
       "  \"/>\n",
       "<polyline clip-path=\"url(#clip262)\" style=\"stroke:#000000; stroke-linecap:butt; stroke-linejoin:round; stroke-width:4; stroke-opacity:1; fill:none\" points=\"\n",
       "  1626.67,762.364 999.906,1000.97 \n",
       "  \"/>\n",
       "<polyline clip-path=\"url(#clip262)\" style=\"stroke:#000000; stroke-linecap:butt; stroke-linejoin:round; stroke-width:4; stroke-opacity:1; fill:none\" points=\"\n",
       "  999.906,1000.97 1479.69,726.943 \n",
       "  \"/>\n",
       "<polyline clip-path=\"url(#clip262)\" style=\"stroke:#000000; stroke-linecap:butt; stroke-linejoin:round; stroke-width:4; stroke-opacity:1; fill:none\" points=\"\n",
       "  1446.2,728.796 1479.69,726.943 1461.08,754.847 \n",
       "  \"/>\n",
       "<polyline clip-path=\"url(#clip262)\" style=\"stroke:#000000; stroke-linecap:butt; stroke-linejoin:round; stroke-width:4; stroke-opacity:1; fill:none\" points=\"\n",
       "  1479.69,726.943 999.906,1000.97 \n",
       "  \"/>\n",
       "<polyline clip-path=\"url(#clip262)\" style=\"stroke:#000000; stroke-linecap:butt; stroke-linejoin:round; stroke-width:4; stroke-opacity:1; fill:none\" points=\"\n",
       "  999.906,1000.97 457.552,857.143 \n",
       "  \"/>\n",
       "<polyline clip-path=\"url(#clip262)\" style=\"stroke:#000000; stroke-linecap:butt; stroke-linejoin:round; stroke-width:4; stroke-opacity:1; fill:none\" points=\"\n",
       "  482.705,879.332 457.552,857.143 490.395,850.334 \n",
       "  \"/>\n",
       "<polyline clip-path=\"url(#clip262)\" style=\"stroke:#000000; stroke-linecap:butt; stroke-linejoin:round; stroke-width:4; stroke-opacity:1; fill:none\" points=\"\n",
       "  457.552,857.143 999.906,1000.97 \n",
       "  \"/>\n",
       "<polyline clip-path=\"url(#clip262)\" style=\"stroke:#000000; stroke-linecap:butt; stroke-linejoin:round; stroke-width:4; stroke-opacity:1; fill:none\" points=\"\n",
       "  999.906,1000.97 1382.24,1420.34 \n",
       "  \"/>\n",
       "<polyline clip-path=\"url(#clip262)\" style=\"stroke:#000000; stroke-linecap:butt; stroke-linejoin:round; stroke-width:4; stroke-opacity:1; fill:none\" points=\"\n",
       "  1373.12,1388.07 1382.24,1420.34 1350.95,1408.28 \n",
       "  \"/>\n",
       "<polyline clip-path=\"url(#clip262)\" style=\"stroke:#000000; stroke-linecap:butt; stroke-linejoin:round; stroke-width:4; stroke-opacity:1; fill:none\" points=\"\n",
       "  1382.24,1420.34 999.906,1000.97 \n",
       "  \"/>\n",
       "<polyline clip-path=\"url(#clip262)\" style=\"stroke:#000000; stroke-linecap:butt; stroke-linejoin:round; stroke-width:4; stroke-opacity:1; fill:none\" points=\"\n",
       "  999.906,1000.97 733.396,632.841 \n",
       "  \"/>\n",
       "<polyline clip-path=\"url(#clip262)\" style=\"stroke:#000000; stroke-linecap:butt; stroke-linejoin:round; stroke-width:4; stroke-opacity:1; fill:none\" points=\"\n",
       "  738.838,665.937 733.396,632.841 763.139,648.345 \n",
       "  \"/>\n",
       "<polyline clip-path=\"url(#clip262)\" style=\"stroke:#000000; stroke-linecap:butt; stroke-linejoin:round; stroke-width:4; stroke-opacity:1; fill:none\" points=\"\n",
       "  733.396,632.841 999.906,1000.97 \n",
       "  \"/>\n",
       "<polyline clip-path=\"url(#clip262)\" style=\"stroke:#000000; stroke-linecap:butt; stroke-linejoin:round; stroke-width:4; stroke-opacity:1; fill:none\" points=\"\n",
       "  999.906,1000.97 1279.75,1287.7 \n",
       "  \"/>\n",
       "<polyline clip-path=\"url(#clip262)\" style=\"stroke:#000000; stroke-linecap:butt; stroke-linejoin:round; stroke-width:4; stroke-opacity:1; fill:none\" points=\"\n",
       "  1269.54,1255.75 1279.75,1287.7 1248.07,1276.7 \n",
       "  \"/>\n",
       "<polyline clip-path=\"url(#clip262)\" style=\"stroke:#000000; stroke-linecap:butt; stroke-linejoin:round; stroke-width:4; stroke-opacity:1; fill:none\" points=\"\n",
       "  1279.75,1287.7 999.906,1000.97 \n",
       "  \"/>\n",
       "<polyline clip-path=\"url(#clip262)\" style=\"stroke:#000000; stroke-linecap:butt; stroke-linejoin:round; stroke-width:4; stroke-opacity:1; fill:none\" points=\"\n",
       "  999.906,1000.97 992.559,1234.23 \n",
       "  \"/>\n",
       "<polyline clip-path=\"url(#clip262)\" style=\"stroke:#000000; stroke-linecap:butt; stroke-linejoin:round; stroke-width:4; stroke-opacity:1; fill:none\" points=\"\n",
       "  1008.5,1204.72 992.559,1234.23 978.511,1203.78 \n",
       "  \"/>\n",
       "<polyline clip-path=\"url(#clip262)\" style=\"stroke:#000000; stroke-linecap:butt; stroke-linejoin:round; stroke-width:4; stroke-opacity:1; fill:none\" points=\"\n",
       "  992.559,1234.23 999.906,1000.97 \n",
       "  \"/>\n",
       "<polyline clip-path=\"url(#clip262)\" style=\"stroke:#000000; stroke-linecap:butt; stroke-linejoin:round; stroke-width:4; stroke-opacity:1; fill:none\" points=\"\n",
       "  999.906,1000.97 1471.67,531.309 \n",
       "  \"/>\n",
       "<polyline clip-path=\"url(#clip262)\" style=\"stroke:#000000; stroke-linecap:butt; stroke-linejoin:round; stroke-width:4; stroke-opacity:1; fill:none\" points=\"\n",
       "  1439.82,541.844 1471.67,531.309 1460.99,563.105 \n",
       "  \"/>\n",
       "<polyline clip-path=\"url(#clip262)\" style=\"stroke:#000000; stroke-linecap:butt; stroke-linejoin:round; stroke-width:4; stroke-opacity:1; fill:none\" points=\"\n",
       "  1471.67,531.309 999.906,1000.97 \n",
       "  \"/>\n",
       "<polyline clip-path=\"url(#clip262)\" style=\"stroke:#000000; stroke-linecap:butt; stroke-linejoin:round; stroke-width:4; stroke-opacity:1; fill:none\" points=\"\n",
       "  999.906,1000.97 1222.05,947.063 \n",
       "  \"/>\n",
       "<polyline clip-path=\"url(#clip262)\" style=\"stroke:#000000; stroke-linecap:butt; stroke-linejoin:round; stroke-width:4; stroke-opacity:1; fill:none\" points=\"\n",
       "  1189.36,939.561 1222.05,947.063 1196.44,968.715 \n",
       "  \"/>\n",
       "<polyline clip-path=\"url(#clip262)\" style=\"stroke:#000000; stroke-linecap:butt; stroke-linejoin:round; stroke-width:4; stroke-opacity:1; fill:none\" points=\"\n",
       "  1222.05,947.063 999.906,1000.97 \n",
       "  \"/>\n",
       "<polyline clip-path=\"url(#clip262)\" style=\"stroke:#000000; stroke-linecap:butt; stroke-linejoin:round; stroke-width:4; stroke-opacity:1; fill:none\" points=\"\n",
       "  999.906,1000.97 1453.72,1320.61 \n",
       "  \"/>\n",
       "<polyline clip-path=\"url(#clip262)\" style=\"stroke:#000000; stroke-linecap:butt; stroke-linejoin:round; stroke-width:4; stroke-opacity:1; fill:none\" points=\"\n",
       "  1437.83,1291.08 1453.72,1320.61 1420.56,1315.6 \n",
       "  \"/>\n",
       "<polyline clip-path=\"url(#clip262)\" style=\"stroke:#000000; stroke-linecap:butt; stroke-linejoin:round; stroke-width:4; stroke-opacity:1; fill:none\" points=\"\n",
       "  1453.72,1320.61 999.906,1000.97 \n",
       "  \"/>\n",
       "<polyline clip-path=\"url(#clip262)\" style=\"stroke:#000000; stroke-linecap:butt; stroke-linejoin:round; stroke-width:4; stroke-opacity:1; fill:none\" points=\"\n",
       "  999.906,1000.97 683.039,1308.67 \n",
       "  \"/>\n",
       "<polyline clip-path=\"url(#clip262)\" style=\"stroke:#000000; stroke-linecap:butt; stroke-linejoin:round; stroke-width:4; stroke-opacity:1; fill:none\" points=\"\n",
       "  715.011,1298.53 683.039,1308.67 694.111,1277.01 \n",
       "  \"/>\n",
       "<polyline clip-path=\"url(#clip262)\" style=\"stroke:#000000; stroke-linecap:butt; stroke-linejoin:round; stroke-width:4; stroke-opacity:1; fill:none\" points=\"\n",
       "  683.039,1308.67 999.906,1000.97 \n",
       "  \"/>\n",
       "<path clip-path=\"url(#clip262)\" d=\"\n",
       "M1014.88 1000.97 L1007.39 988.001 L992.42 988.001 L984.934 1000.97 L992.42 1013.93 L1007.39 1013.93 L1014.88 1000.97 L1014.88 1000.97  Z\n",
       "  \" fill=\"#009af9\" fill-rule=\"evenodd\" fill-opacity=\"1\"/>\n",
       "<polyline clip-path=\"url(#clip262)\" style=\"stroke:#000000; stroke-linecap:butt; stroke-linejoin:round; stroke-width:4; stroke-opacity:1; fill:none\" points=\"\n",
       "  1014.88,1000.97 1007.39,988.001 992.42,988.001 984.934,1000.97 992.42,1013.93 1007.39,1013.93 1014.88,1000.97 \n",
       "  \"/>\n",
       "<path clip-path=\"url(#clip262)\" d=\"\n",
       "M1608.64 1335.3 L1601.16 1322.33 L1586.18 1322.33 L1578.7 1335.3 L1586.18 1348.27 L1601.16 1348.27 L1608.64 1335.3 L1608.64 1335.3  Z\n",
       "  \" fill=\"#009af9\" fill-rule=\"evenodd\" fill-opacity=\"1\"/>\n",
       "<polyline clip-path=\"url(#clip262)\" style=\"stroke:#000000; stroke-linecap:butt; stroke-linejoin:round; stroke-width:4; stroke-opacity:1; fill:none\" points=\"\n",
       "  1608.64,1335.3 1601.16,1322.33 1586.18,1322.33 1578.7,1335.3 1586.18,1348.27 1601.16,1348.27 1608.64,1335.3 \n",
       "  \"/>\n",
       "<path clip-path=\"url(#clip262)\" d=\"\n",
       "M1150.85 1666.94 L1143.36 1653.97 L1128.39 1653.97 L1120.91 1666.94 L1128.39 1679.9 L1143.36 1679.9 L1150.85 1666.94 L1150.85 1666.94  Z\n",
       "  \" fill=\"#009af9\" fill-rule=\"evenodd\" fill-opacity=\"1\"/>\n",
       "<polyline clip-path=\"url(#clip262)\" style=\"stroke:#000000; stroke-linecap:butt; stroke-linejoin:round; stroke-width:4; stroke-opacity:1; fill:none\" points=\"\n",
       "  1150.85,1666.94 1143.36,1653.97 1128.39,1653.97 1120.91,1666.94 1128.39,1679.9 1143.36,1679.9 1150.85,1666.94 \n",
       "  \"/>\n",
       "<path clip-path=\"url(#clip262)\" d=\"\n",
       "M416.306 680.404 L408.82 667.438 L393.848 667.438 L386.363 680.404 L393.848 693.37 L408.82 693.37 L416.306 680.404 L416.306 680.404  Z\n",
       "  \" fill=\"#009af9\" fill-rule=\"evenodd\" fill-opacity=\"1\"/>\n",
       "<polyline clip-path=\"url(#clip262)\" style=\"stroke:#000000; stroke-linecap:butt; stroke-linejoin:round; stroke-width:4; stroke-opacity:1; fill:none\" points=\"\n",
       "  416.306,680.404 408.82,667.438 393.848,667.438 386.363,680.404 393.848,693.37 408.82,693.37 416.306,680.404 \n",
       "  \"/>\n",
       "<path clip-path=\"url(#clip262)\" d=\"\n",
       "M1695.51 952.61 L1688.03 939.644 L1673.05 939.644 L1665.57 952.61 L1673.05 965.576 L1688.03 965.576 L1695.51 952.61 L1695.51 952.61  Z\n",
       "  \" fill=\"#009af9\" fill-rule=\"evenodd\" fill-opacity=\"1\"/>\n",
       "<polyline clip-path=\"url(#clip262)\" style=\"stroke:#000000; stroke-linecap:butt; stroke-linejoin:round; stroke-width:4; stroke-opacity:1; fill:none\" points=\"\n",
       "  1695.51,952.61 1688.03,939.644 1673.05,939.644 1665.57,952.61 1673.05,965.576 1688.03,965.576 1695.51,952.61 \n",
       "  \"/>\n",
       "<path clip-path=\"url(#clip262)\" d=\"\n",
       "M348.405 855.086 L340.919 842.12 L325.947 842.12 L318.461 855.086 L325.947 868.052 L340.919 868.052 L348.405 855.086 L348.405 855.086  Z\n",
       "  \" fill=\"#009af9\" fill-rule=\"evenodd\" fill-opacity=\"1\"/>\n",
       "<polyline clip-path=\"url(#clip262)\" style=\"stroke:#000000; stroke-linecap:butt; stroke-linejoin:round; stroke-width:4; stroke-opacity:1; fill:none\" points=\"\n",
       "  348.405,855.086 340.919,842.12 325.947,842.12 318.461,855.086 325.947,868.052 340.919,868.052 348.405,855.086 \n",
       "  \"/>\n",
       "<path clip-path=\"url(#clip262)\" d=\"\n",
       "M523.231 1249.23 L515.745 1236.26 L500.773 1236.26 L493.287 1249.23 L500.773 1262.2 L515.745 1262.2 L523.231 1249.23 L523.231 1249.23  Z\n",
       "  \" fill=\"#009af9\" fill-rule=\"evenodd\" fill-opacity=\"1\"/>\n",
       "<polyline clip-path=\"url(#clip262)\" style=\"stroke:#000000; stroke-linecap:butt; stroke-linejoin:round; stroke-width:4; stroke-opacity:1; fill:none\" points=\"\n",
       "  523.231,1249.23 515.745,1236.26 500.773,1236.26 493.287,1249.23 500.773,1262.2 515.745,1262.2 523.231,1249.23 \n",
       "  \"/>\n",
       "<path clip-path=\"url(#clip262)\" d=\"\n",
       "M856.083 1662.21 L848.598 1649.24 L833.626 1649.24 L826.14 1662.21 L833.626 1675.17 L848.598 1675.17 L856.083 1662.21 L856.083 1662.21  Z\n",
       "  \" fill=\"#009af9\" fill-rule=\"evenodd\" fill-opacity=\"1\"/>\n",
       "<polyline clip-path=\"url(#clip262)\" style=\"stroke:#000000; stroke-linecap:butt; stroke-linejoin:round; stroke-width:4; stroke-opacity:1; fill:none\" points=\"\n",
       "  856.083,1662.21 848.598,1649.24 833.626,1649.24 826.14,1662.21 833.626,1675.17 848.598,1675.17 856.083,1662.21 \n",
       "  \"/>\n",
       "<path clip-path=\"url(#clip262)\" d=\"\n",
       "M1053.23 1680.54 L1045.74 1667.57 L1030.77 1667.57 L1023.28 1680.54 L1030.77 1693.51 L1045.74 1693.51 L1053.23 1680.54 L1053.23 1680.54  Z\n",
       "  \" fill=\"#009af9\" fill-rule=\"evenodd\" fill-opacity=\"1\"/>\n",
       "<polyline clip-path=\"url(#clip262)\" style=\"stroke:#000000; stroke-linecap:butt; stroke-linejoin:round; stroke-width:4; stroke-opacity:1; fill:none\" points=\"\n",
       "  1053.23,1680.54 1045.74,1667.57 1030.77,1667.57 1023.28,1680.54 1030.77,1693.51 1045.74,1693.51 1053.23,1680.54 \n",
       "  \"/>\n",
       "<path clip-path=\"url(#clip262)\" d=\"\n",
       "M592.466 462.347 L584.98 449.381 L570.008 449.381 L562.522 462.347 L570.008 475.313 L584.98 475.313 L592.466 462.347 L592.466 462.347  Z\n",
       "  \" fill=\"#009af9\" fill-rule=\"evenodd\" fill-opacity=\"1\"/>\n",
       "<polyline clip-path=\"url(#clip262)\" style=\"stroke:#000000; stroke-linecap:butt; stroke-linejoin:round; stroke-width:4; stroke-opacity:1; fill:none\" points=\"\n",
       "  592.466,462.347 584.98,449.381 570.008,449.381 562.522,462.347 570.008,475.313 584.98,475.313 592.466,462.347 \n",
       "  \"/>\n",
       "<path clip-path=\"url(#clip262)\" d=\"\n",
       "M1693.74 1048.53 L1686.25 1035.57 L1671.28 1035.57 L1663.8 1048.53 L1671.28 1061.5 L1686.25 1061.5 L1693.74 1048.53 L1693.74 1048.53  Z\n",
       "  \" fill=\"#009af9\" fill-rule=\"evenodd\" fill-opacity=\"1\"/>\n",
       "<polyline clip-path=\"url(#clip262)\" style=\"stroke:#000000; stroke-linecap:butt; stroke-linejoin:round; stroke-width:4; stroke-opacity:1; fill:none\" points=\"\n",
       "  1693.74,1048.53 1686.25,1035.57 1671.28,1035.57 1663.8,1048.53 1671.28,1061.5 1686.25,1061.5 1693.74,1048.53 \n",
       "  \"/>\n",
       "<path clip-path=\"url(#clip262)\" d=\"\n",
       "M1409 1554.46 L1401.51 1541.49 L1386.54 1541.49 L1379.05 1554.46 L1386.54 1567.42 L1401.51 1567.42 L1409 1554.46 L1409 1554.46  Z\n",
       "  \" fill=\"#009af9\" fill-rule=\"evenodd\" fill-opacity=\"1\"/>\n",
       "<polyline clip-path=\"url(#clip262)\" style=\"stroke:#000000; stroke-linecap:butt; stroke-linejoin:round; stroke-width:4; stroke-opacity:1; fill:none\" points=\"\n",
       "  1409,1554.46 1401.51,1541.49 1386.54,1541.49 1379.05,1554.46 1386.54,1567.42 1401.51,1567.42 1409,1554.46 \n",
       "  \"/>\n",
       "<path clip-path=\"url(#clip262)\" d=\"\n",
       "M520.127 1473.39 L512.641 1460.42 L497.669 1460.42 L490.183 1473.39 L497.669 1486.36 L512.641 1486.36 L520.127 1473.39 L520.127 1473.39  Z\n",
       "  \" fill=\"#009af9\" fill-rule=\"evenodd\" fill-opacity=\"1\"/>\n",
       "<polyline clip-path=\"url(#clip262)\" style=\"stroke:#000000; stroke-linecap:butt; stroke-linejoin:round; stroke-width:4; stroke-opacity:1; fill:none\" points=\"\n",
       "  520.127,1473.39 512.641,1460.42 497.669,1460.42 490.183,1473.39 497.669,1486.36 512.641,1486.36 520.127,1473.39 \n",
       "  \"/>\n",
       "<path clip-path=\"url(#clip262)\" d=\"\n",
       "M1656.88 1242.79 L1649.39 1229.82 L1634.42 1229.82 L1626.93 1242.79 L1634.42 1255.76 L1649.39 1255.76 L1656.88 1242.79 L1656.88 1242.79  Z\n",
       "  \" fill=\"#009af9\" fill-rule=\"evenodd\" fill-opacity=\"1\"/>\n",
       "<polyline clip-path=\"url(#clip262)\" style=\"stroke:#000000; stroke-linecap:butt; stroke-linejoin:round; stroke-width:4; stroke-opacity:1; fill:none\" points=\"\n",
       "  1656.88,1242.79 1649.39,1229.82 1634.42,1229.82 1626.93,1242.79 1634.42,1255.76 1649.39,1255.76 1656.88,1242.79 \n",
       "  \"/>\n",
       "<path clip-path=\"url(#clip262)\" d=\"\n",
       "M1490.09 1493.32 L1482.61 1480.35 L1467.63 1480.35 L1460.15 1493.32 L1467.63 1506.28 L1482.61 1506.28 L1490.09 1493.32 L1490.09 1493.32  Z\n",
       "  \" fill=\"#009af9\" fill-rule=\"evenodd\" fill-opacity=\"1\"/>\n",
       "<polyline clip-path=\"url(#clip262)\" style=\"stroke:#000000; stroke-linecap:butt; stroke-linejoin:round; stroke-width:4; stroke-opacity:1; fill:none\" points=\"\n",
       "  1490.09,1493.32 1482.61,1480.35 1467.63,1480.35 1460.15,1493.32 1467.63,1506.28 1482.61,1506.28 1490.09,1493.32 \n",
       "  \"/>\n",
       "<path clip-path=\"url(#clip262)\" d=\"\n",
       "M796.176 1546.48 L788.691 1533.51 L773.719 1533.51 L766.233 1546.48 L773.719 1559.44 L788.691 1559.44 L796.176 1546.48 L796.176 1546.48  Z\n",
       "  \" fill=\"#009af9\" fill-rule=\"evenodd\" fill-opacity=\"1\"/>\n",
       "<polyline clip-path=\"url(#clip262)\" style=\"stroke:#000000; stroke-linecap:butt; stroke-linejoin:round; stroke-width:4; stroke-opacity:1; fill:none\" points=\"\n",
       "  796.176,1546.48 788.691,1533.51 773.719,1533.51 766.233,1546.48 773.719,1559.44 788.691,1559.44 796.176,1546.48 \n",
       "  \"/>\n",
       "<path clip-path=\"url(#clip262)\" d=\"\n",
       "M1554.44 1416.87 L1546.95 1403.91 L1531.98 1403.91 L1524.5 1416.87 L1531.98 1429.84 L1546.95 1429.84 L1554.44 1416.87 L1554.44 1416.87  Z\n",
       "  \" fill=\"#009af9\" fill-rule=\"evenodd\" fill-opacity=\"1\"/>\n",
       "<polyline clip-path=\"url(#clip262)\" style=\"stroke:#000000; stroke-linecap:butt; stroke-linejoin:round; stroke-width:4; stroke-opacity:1; fill:none\" points=\"\n",
       "  1554.44,1416.87 1546.95,1403.91 1531.98,1403.91 1524.5,1416.87 1531.98,1429.84 1546.95,1429.84 1554.44,1416.87 \n",
       "  \"/>\n",
       "<path clip-path=\"url(#clip262)\" d=\"\n",
       "M1169.5 1368.46 L1162.01 1355.49 L1147.04 1355.49 L1139.56 1368.46 L1147.04 1381.42 L1162.01 1381.42 L1169.5 1368.46 L1169.5 1368.46  Z\n",
       "  \" fill=\"#009af9\" fill-rule=\"evenodd\" fill-opacity=\"1\"/>\n",
       "<polyline clip-path=\"url(#clip262)\" style=\"stroke:#000000; stroke-linecap:butt; stroke-linejoin:round; stroke-width:4; stroke-opacity:1; fill:none\" points=\"\n",
       "  1169.5,1368.46 1162.01,1355.49 1147.04,1355.49 1139.56,1368.46 1147.04,1381.42 1162.01,1381.42 1169.5,1368.46 \n",
       "  \"/>\n",
       "<path clip-path=\"url(#clip262)\" d=\"\n",
       "M1264.21 1091.9 L1256.73 1078.93 L1241.76 1078.93 L1234.27 1091.9 L1241.76 1104.87 L1256.73 1104.87 L1264.21 1091.9 L1264.21 1091.9  Z\n",
       "  \" fill=\"#009af9\" fill-rule=\"evenodd\" fill-opacity=\"1\"/>\n",
       "<polyline clip-path=\"url(#clip262)\" style=\"stroke:#000000; stroke-linecap:butt; stroke-linejoin:round; stroke-width:4; stroke-opacity:1; fill:none\" points=\"\n",
       "  1264.21,1091.9 1256.73,1078.93 1241.76,1078.93 1234.27,1091.9 1241.76,1104.87 1256.73,1104.87 1264.21,1091.9 \n",
       "  \"/>\n",
       "<path clip-path=\"url(#clip262)\" d=\"\n",
       "M668.808 1585.04 L661.322 1572.08 L646.35 1572.08 L638.864 1585.04 L646.35 1598.01 L661.322 1598.01 L668.808 1585.04 L668.808 1585.04  Z\n",
       "  \" fill=\"#009af9\" fill-rule=\"evenodd\" fill-opacity=\"1\"/>\n",
       "<polyline clip-path=\"url(#clip262)\" style=\"stroke:#000000; stroke-linecap:butt; stroke-linejoin:round; stroke-width:4; stroke-opacity:1; fill:none\" points=\"\n",
       "  668.808,1585.04 661.322,1572.08 646.35,1572.08 638.864,1585.04 646.35,1598.01 661.322,1598.01 668.808,1585.04 \n",
       "  \"/>\n",
       "<path clip-path=\"url(#clip262)\" d=\"\n",
       "M876.86 689.175 L869.374 676.209 L854.402 676.209 L846.916 689.175 L854.402 702.141 L869.374 702.141 L876.86 689.175 L876.86 689.175  Z\n",
       "  \" fill=\"#009af9\" fill-rule=\"evenodd\" fill-opacity=\"1\"/>\n",
       "<polyline clip-path=\"url(#clip262)\" style=\"stroke:#000000; stroke-linecap:butt; stroke-linejoin:round; stroke-width:4; stroke-opacity:1; fill:none\" points=\"\n",
       "  876.86,689.175 869.374,676.209 854.402,676.209 846.916,689.175 854.402,702.141 869.374,702.141 876.86,689.175 \n",
       "  \"/>\n",
       "<path clip-path=\"url(#clip262)\" d=\"\n",
       "M593.685 1530.82 L586.199 1517.86 L571.227 1517.86 L563.741 1530.82 L571.227 1543.79 L586.199 1543.79 L593.685 1530.82 L593.685 1530.82  Z\n",
       "  \" fill=\"#009af9\" fill-rule=\"evenodd\" fill-opacity=\"1\"/>\n",
       "<polyline clip-path=\"url(#clip262)\" style=\"stroke:#000000; stroke-linecap:butt; stroke-linejoin:round; stroke-width:4; stroke-opacity:1; fill:none\" points=\"\n",
       "  593.685,1530.82 586.199,1517.86 571.227,1517.86 563.741,1530.82 571.227,1543.79 586.199,1543.79 593.685,1530.82 \n",
       "  \"/>\n",
       "<path clip-path=\"url(#clip262)\" d=\"\n",
       "M1329.28 1600.37 L1321.79 1587.4 L1306.82 1587.4 L1299.33 1600.37 L1306.82 1613.33 L1321.79 1613.33 L1329.28 1600.37 L1329.28 1600.37  Z\n",
       "  \" fill=\"#009af9\" fill-rule=\"evenodd\" fill-opacity=\"1\"/>\n",
       "<polyline clip-path=\"url(#clip262)\" style=\"stroke:#000000; stroke-linecap:butt; stroke-linejoin:round; stroke-width:4; stroke-opacity:1; fill:none\" points=\"\n",
       "  1329.28,1600.37 1321.79,1587.4 1306.82,1587.4 1299.33,1600.37 1306.82,1613.33 1321.79,1613.33 1329.28,1600.37 \n",
       "  \"/>\n",
       "<path clip-path=\"url(#clip262)\" d=\"\n",
       "M334.432 948.536 L326.946 935.57 L311.974 935.57 L304.488 948.536 L311.974 961.502 L326.946 961.502 L334.432 948.536 L334.432 948.536  Z\n",
       "  \" fill=\"#009af9\" fill-rule=\"evenodd\" fill-opacity=\"1\"/>\n",
       "<polyline clip-path=\"url(#clip262)\" style=\"stroke:#000000; stroke-linecap:butt; stroke-linejoin:round; stroke-width:4; stroke-opacity:1; fill:none\" points=\"\n",
       "  334.432,948.536 326.946,935.57 311.974,935.57 304.488,948.536 311.974,961.502 326.946,961.502 334.432,948.536 \n",
       "  \"/>\n",
       "<path clip-path=\"url(#clip262)\" d=\"\n",
       "M454.979 1390.29 L447.493 1377.33 L432.521 1377.33 L425.035 1390.29 L432.521 1403.26 L447.493 1403.26 L454.979 1390.29 L454.979 1390.29  Z\n",
       "  \" fill=\"#009af9\" fill-rule=\"evenodd\" fill-opacity=\"1\"/>\n",
       "<polyline clip-path=\"url(#clip262)\" style=\"stroke:#000000; stroke-linecap:butt; stroke-linejoin:round; stroke-width:4; stroke-opacity:1; fill:none\" points=\"\n",
       "  454.979,1390.29 447.493,1377.33 432.521,1377.33 425.035,1390.29 432.521,1403.26 447.493,1403.26 454.979,1390.29 \n",
       "  \"/>\n",
       "<path clip-path=\"url(#clip262)\" d=\"\n",
       "M1423.86 453.733 L1416.38 440.767 L1401.4 440.767 L1393.92 453.733 L1401.4 466.699 L1416.38 466.699 L1423.86 453.733 L1423.86 453.733  Z\n",
       "  \" fill=\"#009af9\" fill-rule=\"evenodd\" fill-opacity=\"1\"/>\n",
       "<polyline clip-path=\"url(#clip262)\" style=\"stroke:#000000; stroke-linecap:butt; stroke-linejoin:round; stroke-width:4; stroke-opacity:1; fill:none\" points=\"\n",
       "  1423.86,453.733 1416.38,440.767 1401.4,440.767 1393.92,453.733 1401.4,466.699 1416.38,466.699 1423.86,453.733 \n",
       "  \"/>\n",
       "<path clip-path=\"url(#clip262)\" d=\"\n",
       "M822.703 482.979 L815.217 470.013 L800.245 470.013 L792.759 482.979 L800.245 495.945 L815.217 495.945 L822.703 482.979 L822.703 482.979  Z\n",
       "  \" fill=\"#009af9\" fill-rule=\"evenodd\" fill-opacity=\"1\"/>\n",
       "<polyline clip-path=\"url(#clip262)\" style=\"stroke:#000000; stroke-linecap:butt; stroke-linejoin:round; stroke-width:4; stroke-opacity:1; fill:none\" points=\"\n",
       "  822.703,482.979 815.217,470.013 800.245,470.013 792.759,482.979 800.245,495.945 815.217,495.945 822.703,482.979 \n",
       "  \"/>\n",
       "<path clip-path=\"url(#clip262)\" d=\"\n",
       "M1681.2 1144.81 L1673.71 1131.85 L1658.74 1131.85 L1651.25 1144.81 L1658.74 1157.78 L1673.71 1157.78 L1681.2 1144.81 L1681.2 1144.81  Z\n",
       "  \" fill=\"#009af9\" fill-rule=\"evenodd\" fill-opacity=\"1\"/>\n",
       "<polyline clip-path=\"url(#clip262)\" style=\"stroke:#000000; stroke-linecap:butt; stroke-linejoin:round; stroke-width:4; stroke-opacity:1; fill:none\" points=\"\n",
       "  1681.2,1144.81 1673.71,1131.85 1658.74,1131.85 1651.25,1144.81 1658.74,1157.78 1673.71,1157.78 1681.2,1144.81 \n",
       "  \"/>\n",
       "<path clip-path=\"url(#clip262)\" d=\"\n",
       "M1556.11 591.35 L1548.63 578.384 L1533.66 578.384 L1526.17 591.35 L1533.66 604.316 L1548.63 604.316 L1556.11 591.35 L1556.11 591.35  Z\n",
       "  \" fill=\"#009af9\" fill-rule=\"evenodd\" fill-opacity=\"1\"/>\n",
       "<polyline clip-path=\"url(#clip262)\" style=\"stroke:#000000; stroke-linecap:butt; stroke-linejoin:round; stroke-width:4; stroke-opacity:1; fill:none\" points=\"\n",
       "  1556.11,591.35 1548.63,578.384 1533.66,578.384 1526.17,591.35 1533.66,604.316 1548.63,604.316 1556.11,591.35 \n",
       "  \"/>\n",
       "<path clip-path=\"url(#clip262)\" d=\"\n",
       "M1065.48 325.074 L1058 312.108 L1043.02 312.108 L1035.54 325.074 L1043.02 338.04 L1058 338.04 L1065.48 325.074 L1065.48 325.074  Z\n",
       "  \" fill=\"#009af9\" fill-rule=\"evenodd\" fill-opacity=\"1\"/>\n",
       "<polyline clip-path=\"url(#clip262)\" style=\"stroke:#000000; stroke-linecap:butt; stroke-linejoin:round; stroke-width:4; stroke-opacity:1; fill:none\" points=\"\n",
       "  1065.48,325.074 1058,312.108 1043.02,312.108 1035.54,325.074 1043.02,338.04 1058,338.04 1065.48,325.074 \n",
       "  \"/>\n",
       "<path clip-path=\"url(#clip262)\" d=\"\n",
       "M346.208 1137.76 L338.722 1124.8 L323.75 1124.8 L316.264 1137.76 L323.75 1150.73 L338.722 1150.73 L346.208 1137.76 L346.208 1137.76  Z\n",
       "  \" fill=\"#009af9\" fill-rule=\"evenodd\" fill-opacity=\"1\"/>\n",
       "<polyline clip-path=\"url(#clip262)\" style=\"stroke:#000000; stroke-linecap:butt; stroke-linejoin:round; stroke-width:4; stroke-opacity:1; fill:none\" points=\"\n",
       "  346.208,1137.76 338.722,1124.8 323.75,1124.8 316.264,1137.76 323.75,1150.73 338.722,1150.73 346.208,1137.76 \n",
       "  \"/>\n",
       "<path clip-path=\"url(#clip262)\" d=\"\n",
       "M1245.43 1641.6 L1237.94 1628.64 L1222.97 1628.64 L1215.49 1641.6 L1222.97 1654.57 L1237.94 1654.57 L1245.43 1641.6 L1245.43 1641.6  Z\n",
       "  \" fill=\"#009af9\" fill-rule=\"evenodd\" fill-opacity=\"1\"/>\n",
       "<polyline clip-path=\"url(#clip262)\" style=\"stroke:#000000; stroke-linecap:butt; stroke-linejoin:round; stroke-width:4; stroke-opacity:1; fill:none\" points=\"\n",
       "  1245.43,1641.6 1237.94,1628.64 1222.97,1628.64 1215.49,1641.6 1222.97,1654.57 1237.94,1654.57 1245.43,1641.6 \n",
       "  \"/>\n",
       "<path clip-path=\"url(#clip262)\" d=\"\n",
       "M374.979 1229.19 L367.493 1216.22 L352.521 1216.22 L345.035 1229.19 L352.521 1242.15 L367.493 1242.15 L374.979 1229.19 L374.979 1229.19  Z\n",
       "  \" fill=\"#009af9\" fill-rule=\"evenodd\" fill-opacity=\"1\"/>\n",
       "<polyline clip-path=\"url(#clip262)\" style=\"stroke:#000000; stroke-linecap:butt; stroke-linejoin:round; stroke-width:4; stroke-opacity:1; fill:none\" points=\"\n",
       "  374.979,1229.19 367.493,1216.22 352.521,1216.22 345.035,1229.19 352.521,1242.15 367.493,1242.15 374.979,1229.19 \n",
       "  \"/>\n",
       "<path clip-path=\"url(#clip262)\" d=\"\n",
       "M1189.05 1541.88 L1181.56 1528.92 L1166.59 1528.92 L1159.11 1541.88 L1166.59 1554.85 L1181.56 1554.85 L1189.05 1541.88 L1189.05 1541.88  Z\n",
       "  \" fill=\"#009af9\" fill-rule=\"evenodd\" fill-opacity=\"1\"/>\n",
       "<polyline clip-path=\"url(#clip262)\" style=\"stroke:#000000; stroke-linecap:butt; stroke-linejoin:round; stroke-width:4; stroke-opacity:1; fill:none\" points=\"\n",
       "  1189.05,1541.88 1181.56,1528.92 1166.59,1528.92 1159.11,1541.88 1166.59,1554.85 1181.56,1554.85 1189.05,1541.88 \n",
       "  \"/>\n",
       "<path clip-path=\"url(#clip262)\" d=\"\n",
       "M1428.88 881.613 L1421.39 868.647 L1406.42 868.647 L1398.93 881.613 L1406.42 894.579 L1421.39 894.579 L1428.88 881.613 L1428.88 881.613  Z\n",
       "  \" fill=\"#009af9\" fill-rule=\"evenodd\" fill-opacity=\"1\"/>\n",
       "<polyline clip-path=\"url(#clip262)\" style=\"stroke:#000000; stroke-linecap:butt; stroke-linejoin:round; stroke-width:4; stroke-opacity:1; fill:none\" points=\"\n",
       "  1428.88,881.613 1421.39,868.647 1406.42,868.647 1398.93,881.613 1406.42,894.579 1421.39,894.579 1428.88,881.613 \n",
       "  \"/>\n",
       "<path clip-path=\"url(#clip262)\" d=\"\n",
       "M756.257 1635.66 L748.771 1622.7 L733.8 1622.7 L726.314 1635.66 L733.8 1648.63 L748.771 1648.63 L756.257 1635.66 L756.257 1635.66  Z\n",
       "  \" fill=\"#009af9\" fill-rule=\"evenodd\" fill-opacity=\"1\"/>\n",
       "<polyline clip-path=\"url(#clip262)\" style=\"stroke:#000000; stroke-linecap:butt; stroke-linejoin:round; stroke-width:4; stroke-opacity:1; fill:none\" points=\"\n",
       "  756.257,1635.66 748.771,1622.7 733.8,1622.7 726.314,1635.66 733.8,1648.63 748.771,1648.63 756.257,1635.66 \n",
       "  \"/>\n",
       "<path clip-path=\"url(#clip262)\" d=\"\n",
       "M412.544 1310.14 L405.058 1297.17 L390.087 1297.17 L382.601 1310.14 L390.087 1323.11 L405.058 1323.11 L412.544 1310.14 L412.544 1310.14  Z\n",
       "  \" fill=\"#009af9\" fill-rule=\"evenodd\" fill-opacity=\"1\"/>\n",
       "<polyline clip-path=\"url(#clip262)\" style=\"stroke:#000000; stroke-linecap:butt; stroke-linejoin:round; stroke-width:4; stroke-opacity:1; fill:none\" points=\"\n",
       "  412.544,1310.14 405.058,1297.17 390.087,1297.17 382.601,1310.14 390.087,1323.11 405.058,1323.11 412.544,1310.14 \n",
       "  \"/>\n",
       "<path clip-path=\"url(#clip262)\" d=\"\n",
       "M865.858 336.905 L858.372 323.939 L843.4 323.939 L835.914 336.905 L843.4 349.871 L858.372 349.871 L865.858 336.905 L865.858 336.905  Z\n",
       "  \" fill=\"#009af9\" fill-rule=\"evenodd\" fill-opacity=\"1\"/>\n",
       "<polyline clip-path=\"url(#clip262)\" style=\"stroke:#000000; stroke-linecap:butt; stroke-linejoin:round; stroke-width:4; stroke-opacity:1; fill:none\" points=\"\n",
       "  865.858,336.905 858.372,323.939 843.4,323.939 835.914,336.905 843.4,349.871 858.372,349.871 865.858,336.905 \n",
       "  \"/>\n",
       "<path clip-path=\"url(#clip262)\" d=\"\n",
       "M573.489 1044.39 L566.003 1031.42 L551.031 1031.42 L543.545 1044.39 L551.031 1057.36 L566.003 1057.36 L573.489 1044.39 L573.489 1044.39  Z\n",
       "  \" fill=\"#009af9\" fill-rule=\"evenodd\" fill-opacity=\"1\"/>\n",
       "<polyline clip-path=\"url(#clip262)\" style=\"stroke:#000000; stroke-linecap:butt; stroke-linejoin:round; stroke-width:4; stroke-opacity:1; fill:none\" points=\"\n",
       "  573.489,1044.39 566.003,1031.42 551.031,1031.42 543.545,1044.39 551.031,1057.36 566.003,1057.36 573.489,1044.39 \n",
       "  \"/>\n",
       "<path clip-path=\"url(#clip262)\" d=\"\n",
       "M1559.61 1219.21 L1552.12 1206.24 L1537.15 1206.24 L1529.67 1219.21 L1537.15 1232.18 L1552.12 1232.18 L1559.61 1219.21 L1559.61 1219.21  Z\n",
       "  \" fill=\"#009af9\" fill-rule=\"evenodd\" fill-opacity=\"1\"/>\n",
       "<polyline clip-path=\"url(#clip262)\" style=\"stroke:#000000; stroke-linecap:butt; stroke-linejoin:round; stroke-width:4; stroke-opacity:1; fill:none\" points=\"\n",
       "  1559.61,1219.21 1552.12,1206.24 1537.15,1206.24 1529.67,1219.21 1537.15,1232.18 1552.12,1232.18 1559.61,1219.21 \n",
       "  \"/>\n",
       "<path clip-path=\"url(#clip262)\" d=\"\n",
       "M1030.01 1420.11 L1022.52 1407.14 L1007.55 1407.14 L1000.06 1420.11 L1007.55 1433.07 L1022.52 1433.07 L1030.01 1420.11 L1030.01 1420.11  Z\n",
       "  \" fill=\"#009af9\" fill-rule=\"evenodd\" fill-opacity=\"1\"/>\n",
       "<polyline clip-path=\"url(#clip262)\" style=\"stroke:#000000; stroke-linecap:butt; stroke-linejoin:round; stroke-width:4; stroke-opacity:1; fill:none\" points=\"\n",
       "  1030.01,1420.11 1022.52,1407.14 1007.55,1407.14 1000.06,1420.11 1007.55,1433.07 1022.52,1433.07 1030.01,1420.11 \n",
       "  \"/>\n",
       "<path clip-path=\"url(#clip262)\" d=\"\n",
       "M524.06 529.694 L516.574 516.728 L501.603 516.728 L494.117 529.694 L501.603 542.66 L516.574 542.66 L524.06 529.694 L524.06 529.694  Z\n",
       "  \" fill=\"#009af9\" fill-rule=\"evenodd\" fill-opacity=\"1\"/>\n",
       "<polyline clip-path=\"url(#clip262)\" style=\"stroke:#000000; stroke-linecap:butt; stroke-linejoin:round; stroke-width:4; stroke-opacity:1; fill:none\" points=\"\n",
       "  524.06,529.694 516.574,516.728 501.603,516.728 494.117,529.694 501.603,542.66 516.574,542.66 524.06,529.694 \n",
       "  \"/>\n",
       "<path clip-path=\"url(#clip262)\" d=\"\n",
       "M1682.31 855.892 L1674.82 842.926 L1659.85 842.926 L1652.36 855.892 L1659.85 868.858 L1674.82 868.858 L1682.31 855.892 L1682.31 855.892  Z\n",
       "  \" fill=\"#009af9\" fill-rule=\"evenodd\" fill-opacity=\"1\"/>\n",
       "<polyline clip-path=\"url(#clip262)\" style=\"stroke:#000000; stroke-linecap:butt; stroke-linejoin:round; stroke-width:4; stroke-opacity:1; fill:none\" points=\"\n",
       "  1682.31,855.892 1674.82,842.926 1659.85,842.926 1652.36,855.892 1659.85,868.858 1674.82,868.858 1682.31,855.892 \n",
       "  \"/>\n",
       "<path clip-path=\"url(#clip262)\" d=\"\n",
       "M955.585 1679.96 L948.099 1666.99 L933.127 1666.99 L925.641 1679.96 L933.127 1692.93 L948.099 1692.93 L955.585 1679.96 L955.585 1679.96  Z\n",
       "  \" fill=\"#009af9\" fill-rule=\"evenodd\" fill-opacity=\"1\"/>\n",
       "<polyline clip-path=\"url(#clip262)\" style=\"stroke:#000000; stroke-linecap:butt; stroke-linejoin:round; stroke-width:4; stroke-opacity:1; fill:none\" points=\"\n",
       "  955.585,1679.96 948.099,1666.99 933.127,1666.99 925.641,1679.96 933.127,1692.93 948.099,1692.93 955.585,1679.96 \n",
       "  \"/>\n",
       "<path clip-path=\"url(#clip262)\" d=\"\n",
       "M842.609 1124.16 L835.123 1111.19 L820.151 1111.19 L812.665 1124.16 L820.151 1137.13 L835.123 1137.13 L842.609 1124.16 L842.609 1124.16  Z\n",
       "  \" fill=\"#009af9\" fill-rule=\"evenodd\" fill-opacity=\"1\"/>\n",
       "<polyline clip-path=\"url(#clip262)\" style=\"stroke:#000000; stroke-linecap:butt; stroke-linejoin:round; stroke-width:4; stroke-opacity:1; fill:none\" points=\"\n",
       "  842.609,1124.16 835.123,1111.19 820.151,1111.19 812.665,1124.16 820.151,1137.13 835.123,1137.13 842.609,1124.16 \n",
       "  \"/>\n",
       "<path clip-path=\"url(#clip262)\" d=\"\n",
       "M841.282 858.201 L833.796 845.235 L818.824 845.235 L811.338 858.201 L818.824 871.167 L833.796 871.167 L841.282 858.201 L841.282 858.201  Z\n",
       "  \" fill=\"#009af9\" fill-rule=\"evenodd\" fill-opacity=\"1\"/>\n",
       "<polyline clip-path=\"url(#clip262)\" style=\"stroke:#000000; stroke-linecap:butt; stroke-linejoin:round; stroke-width:4; stroke-opacity:1; fill:none\" points=\"\n",
       "  841.282,858.201 833.796,845.235 818.824,845.235 811.338,858.201 818.824,871.167 833.796,871.167 841.282,858.201 \n",
       "  \"/>\n",
       "<path clip-path=\"url(#clip262)\" d=\"\n",
       "M1335.85 510.117 L1328.36 497.151 L1313.39 497.151 L1305.91 510.117 L1313.39 523.083 L1328.36 523.083 L1335.85 510.117 L1335.85 510.117  Z\n",
       "  \" fill=\"#009af9\" fill-rule=\"evenodd\" fill-opacity=\"1\"/>\n",
       "<polyline clip-path=\"url(#clip262)\" style=\"stroke:#000000; stroke-linecap:butt; stroke-linejoin:round; stroke-width:4; stroke-opacity:1; fill:none\" points=\"\n",
       "  1335.85,510.117 1328.36,497.151 1313.39,497.151 1305.91,510.117 1313.39,523.083 1328.36,523.083 1335.85,510.117 \n",
       "  \"/>\n",
       "<path clip-path=\"url(#clip262)\" d=\"\n",
       "M439.979 987.018 L432.493 974.052 L417.521 974.052 L410.035 987.018 L417.521 999.984 L432.493 999.984 L439.979 987.018 L439.979 987.018  Z\n",
       "  \" fill=\"#009af9\" fill-rule=\"evenodd\" fill-opacity=\"1\"/>\n",
       "<polyline clip-path=\"url(#clip262)\" style=\"stroke:#000000; stroke-linecap:butt; stroke-linejoin:round; stroke-width:4; stroke-opacity:1; fill:none\" points=\"\n",
       "  439.979,987.018 432.493,974.052 417.521,974.052 410.035,987.018 417.521,999.984 432.493,999.984 439.979,987.018 \n",
       "  \"/>\n",
       "<path clip-path=\"url(#clip262)\" d=\"\n",
       "M666.047 1162.41 L658.561 1149.45 L643.589 1149.45 L636.103 1162.41 L643.589 1175.38 L658.561 1175.38 L666.047 1162.41 L666.047 1162.41  Z\n",
       "  \" fill=\"#009af9\" fill-rule=\"evenodd\" fill-opacity=\"1\"/>\n",
       "<polyline clip-path=\"url(#clip262)\" style=\"stroke:#000000; stroke-linecap:butt; stroke-linejoin:round; stroke-width:4; stroke-opacity:1; fill:none\" points=\"\n",
       "  666.047,1162.41 658.561,1149.45 643.589,1149.45 636.103,1162.41 643.589,1175.38 658.561,1175.38 666.047,1162.41 \n",
       "  \"/>\n",
       "<path clip-path=\"url(#clip262)\" d=\"\n",
       "M1246.15 363.43 L1238.66 350.464 L1223.69 350.464 L1216.2 363.43 L1223.69 376.396 L1238.66 376.396 L1246.15 363.43 L1246.15 363.43  Z\n",
       "  \" fill=\"#009af9\" fill-rule=\"evenodd\" fill-opacity=\"1\"/>\n",
       "<polyline clip-path=\"url(#clip262)\" style=\"stroke:#000000; stroke-linecap:butt; stroke-linejoin:round; stroke-width:4; stroke-opacity:1; fill:none\" points=\"\n",
       "  1246.15,363.43 1238.66,350.464 1223.69,350.464 1216.2,363.43 1223.69,376.396 1238.66,376.396 1246.15,363.43 \n",
       "  \"/>\n",
       "<path clip-path=\"url(#clip262)\" d=\"\n",
       "M779.065 367.586 L771.579 354.62 L756.607 354.62 L749.121 367.586 L756.607 380.552 L771.579 380.552 L779.065 367.586 L779.065 367.586  Z\n",
       "  \" fill=\"#009af9\" fill-rule=\"evenodd\" fill-opacity=\"1\"/>\n",
       "<polyline clip-path=\"url(#clip262)\" style=\"stroke:#000000; stroke-linecap:butt; stroke-linejoin:round; stroke-width:4; stroke-opacity:1; fill:none\" points=\"\n",
       "  779.065,367.586 771.579,354.62 756.607,354.62 749.121,367.586 756.607,380.552 771.579,380.552 779.065,367.586 \n",
       "  \"/>\n",
       "<path clip-path=\"url(#clip262)\" d=\"\n",
       "M527.025 732.423 L519.539 719.457 L504.567 719.457 L497.081 732.423 L504.567 745.389 L519.539 745.389 L527.025 732.423 L527.025 732.423  Z\n",
       "  \" fill=\"#009af9\" fill-rule=\"evenodd\" fill-opacity=\"1\"/>\n",
       "<polyline clip-path=\"url(#clip262)\" style=\"stroke:#000000; stroke-linecap:butt; stroke-linejoin:round; stroke-width:4; stroke-opacity:1; fill:none\" points=\"\n",
       "  527.025,732.423 519.539,719.457 504.567,719.457 497.081,732.423 504.567,745.389 519.539,745.389 527.025,732.423 \n",
       "  \"/>\n",
       "<path clip-path=\"url(#clip262)\" d=\"\n",
       "M1576.52 1090.69 L1569.04 1077.73 L1554.06 1077.73 L1546.58 1090.69 L1554.06 1103.66 L1569.04 1103.66 L1576.52 1090.69 L1576.52 1090.69  Z\n",
       "  \" fill=\"#009af9\" fill-rule=\"evenodd\" fill-opacity=\"1\"/>\n",
       "<polyline clip-path=\"url(#clip262)\" style=\"stroke:#000000; stroke-linecap:butt; stroke-linejoin:round; stroke-width:4; stroke-opacity:1; fill:none\" points=\"\n",
       "  1576.52,1090.69 1569.04,1077.73 1554.06,1077.73 1546.58,1090.69 1554.06,1103.66 1569.04,1103.66 1576.52,1090.69 \n",
       "  \"/>\n",
       "<path clip-path=\"url(#clip262)\" d=\"\n",
       "M1583.92 960.607 L1576.44 947.641 L1561.47 947.641 L1553.98 960.607 L1561.47 973.573 L1576.44 973.573 L1583.92 960.607 L1583.92 960.607  Z\n",
       "  \" fill=\"#009af9\" fill-rule=\"evenodd\" fill-opacity=\"1\"/>\n",
       "<polyline clip-path=\"url(#clip262)\" style=\"stroke:#000000; stroke-linecap:butt; stroke-linejoin:round; stroke-width:4; stroke-opacity:1; fill:none\" points=\"\n",
       "  1583.92,960.607 1576.44,947.641 1561.47,947.641 1553.98,960.607 1561.47,973.573 1576.44,973.573 1583.92,960.607 \n",
       "  \"/>\n",
       "<path clip-path=\"url(#clip262)\" d=\"\n",
       "M1066.7 1568.43 L1059.21 1555.46 L1044.24 1555.46 L1036.76 1568.43 L1044.24 1581.39 L1059.21 1581.39 L1066.7 1568.43 L1066.7 1568.43  Z\n",
       "  \" fill=\"#009af9\" fill-rule=\"evenodd\" fill-opacity=\"1\"/>\n",
       "<polyline clip-path=\"url(#clip262)\" style=\"stroke:#000000; stroke-linecap:butt; stroke-linejoin:round; stroke-width:4; stroke-opacity:1; fill:none\" points=\"\n",
       "  1066.7,1568.43 1059.21,1555.46 1044.24,1555.46 1036.76,1568.43 1044.24,1581.39 1059.21,1581.39 1066.7,1568.43 \n",
       "  \"/>\n",
       "<path clip-path=\"url(#clip262)\" d=\"\n",
       "M457.67 1134.94 L450.184 1121.97 L435.212 1121.97 L427.726 1134.94 L435.212 1147.91 L450.184 1147.91 L457.67 1134.94 L457.67 1134.94  Z\n",
       "  \" fill=\"#009af9\" fill-rule=\"evenodd\" fill-opacity=\"1\"/>\n",
       "<polyline clip-path=\"url(#clip262)\" style=\"stroke:#000000; stroke-linecap:butt; stroke-linejoin:round; stroke-width:4; stroke-opacity:1; fill:none\" points=\"\n",
       "  457.67,1134.94 450.184,1121.97 435.212,1121.97 427.726,1134.94 435.212,1147.91 450.184,1147.91 457.67,1134.94 \n",
       "  \"/>\n",
       "<path clip-path=\"url(#clip262)\" d=\"\n",
       "M936.121 1572.31 L928.635 1559.34 L913.663 1559.34 L906.177 1572.31 L913.663 1585.28 L928.635 1585.28 L936.121 1572.31 L936.121 1572.31  Z\n",
       "  \" fill=\"#009af9\" fill-rule=\"evenodd\" fill-opacity=\"1\"/>\n",
       "<polyline clip-path=\"url(#clip262)\" style=\"stroke:#000000; stroke-linecap:butt; stroke-linejoin:round; stroke-width:4; stroke-opacity:1; fill:none\" points=\"\n",
       "  936.121,1572.31 928.635,1559.34 913.663,1559.34 906.177,1572.31 913.663,1585.28 928.635,1585.28 936.121,1572.31 \n",
       "  \"/>\n",
       "<path clip-path=\"url(#clip262)\" d=\"\n",
       "M336.497 1045.81 L329.011 1032.85 L314.04 1032.85 L306.554 1045.81 L314.04 1058.78 L329.011 1058.78 L336.497 1045.81 L336.497 1045.81  Z\n",
       "  \" fill=\"#009af9\" fill-rule=\"evenodd\" fill-opacity=\"1\"/>\n",
       "<polyline clip-path=\"url(#clip262)\" style=\"stroke:#000000; stroke-linecap:butt; stroke-linejoin:round; stroke-width:4; stroke-opacity:1; fill:none\" points=\"\n",
       "  336.497,1045.81 329.011,1032.85 314.04,1032.85 306.554,1045.81 314.04,1058.78 329.011,1058.78 336.497,1045.81 \n",
       "  \"/>\n",
       "<path clip-path=\"url(#clip262)\" d=\"\n",
       "M565.108 1381.43 L557.622 1368.46 L542.65 1368.46 L535.164 1381.43 L542.65 1394.4 L557.622 1394.4 L565.108 1381.43 L565.108 1381.43  Z\n",
       "  \" fill=\"#009af9\" fill-rule=\"evenodd\" fill-opacity=\"1\"/>\n",
       "<polyline clip-path=\"url(#clip262)\" style=\"stroke:#000000; stroke-linecap:butt; stroke-linejoin:round; stroke-width:4; stroke-opacity:1; fill:none\" points=\"\n",
       "  565.108,1381.43 557.622,1368.46 542.65,1368.46 535.164,1381.43 542.65,1394.4 557.622,1394.4 565.108,1381.43 \n",
       "  \"/>\n",
       "<path clip-path=\"url(#clip262)\" d=\"\n",
       "M1079.39 444.495 L1071.9 431.529 L1056.93 431.529 L1049.45 444.495 L1056.93 457.461 L1071.9 457.461 L1079.39 444.495 L1079.39 444.495  Z\n",
       "  \" fill=\"#009af9\" fill-rule=\"evenodd\" fill-opacity=\"1\"/>\n",
       "<polyline clip-path=\"url(#clip262)\" style=\"stroke:#000000; stroke-linecap:butt; stroke-linejoin:round; stroke-width:4; stroke-opacity:1; fill:none\" points=\"\n",
       "  1079.39,444.495 1071.9,431.529 1056.93,431.529 1049.45,444.495 1056.93,457.461 1071.9,457.461 1079.39,444.495 \n",
       "  \"/>\n",
       "<path clip-path=\"url(#clip262)\" d=\"\n",
       "M964.698 562.1 L957.212 549.134 L942.24 549.134 L934.754 562.1 L942.24 575.066 L957.212 575.066 L964.698 562.1 L964.698 562.1  Z\n",
       "  \" fill=\"#009af9\" fill-rule=\"evenodd\" fill-opacity=\"1\"/>\n",
       "<polyline clip-path=\"url(#clip262)\" style=\"stroke:#000000; stroke-linecap:butt; stroke-linejoin:round; stroke-width:4; stroke-opacity:1; fill:none\" points=\"\n",
       "  964.698,562.1 957.212,549.134 942.24,549.134 934.754,562.1 942.24,575.066 957.212,575.066 964.698,562.1 \n",
       "  \"/>\n",
       "<path clip-path=\"url(#clip262)\" d=\"\n",
       "M1257.98 634.228 L1250.49 621.262 L1235.52 621.262 L1228.03 634.228 L1235.52 647.194 L1250.49 647.194 L1257.98 634.228 L1257.98 634.228  Z\n",
       "  \" fill=\"#009af9\" fill-rule=\"evenodd\" fill-opacity=\"1\"/>\n",
       "<polyline clip-path=\"url(#clip262)\" style=\"stroke:#000000; stroke-linecap:butt; stroke-linejoin:round; stroke-width:4; stroke-opacity:1; fill:none\" points=\"\n",
       "  1257.98,634.228 1250.49,621.262 1235.52,621.262 1228.03,634.228 1235.52,647.194 1250.49,647.194 1257.98,634.228 \n",
       "  \"/>\n",
       "<path clip-path=\"url(#clip262)\" d=\"\n",
       "M464.716 603.565 L457.23 590.599 L442.259 590.599 L434.773 603.565 L442.259 616.531 L457.23 616.531 L464.716 603.565 L464.716 603.565  Z\n",
       "  \" fill=\"#009af9\" fill-rule=\"evenodd\" fill-opacity=\"1\"/>\n",
       "<polyline clip-path=\"url(#clip262)\" style=\"stroke:#000000; stroke-linecap:butt; stroke-linejoin:round; stroke-width:4; stroke-opacity:1; fill:none\" points=\"\n",
       "  464.716,603.565 457.23,590.599 442.259,590.599 434.773,603.565 442.259,616.531 457.23,616.531 464.716,603.565 \n",
       "  \"/>\n",
       "<path clip-path=\"url(#clip262)\" d=\"\n",
       "M1345.58 761.374 L1338.09 748.408 L1323.12 748.408 L1315.63 761.374 L1323.12 774.34 L1338.09 774.34 L1345.58 761.374 L1345.58 761.374  Z\n",
       "  \" fill=\"#009af9\" fill-rule=\"evenodd\" fill-opacity=\"1\"/>\n",
       "<polyline clip-path=\"url(#clip262)\" style=\"stroke:#000000; stroke-linecap:butt; stroke-linejoin:round; stroke-width:4; stroke-opacity:1; fill:none\" points=\"\n",
       "  1345.58,761.374 1338.09,748.408 1323.12,748.408 1315.63,761.374 1323.12,774.34 1338.09,774.34 1345.58,761.374 \n",
       "  \"/>\n",
       "<path clip-path=\"url(#clip262)\" d=\"\n",
       "M744.807 987.604 L737.321 974.638 L722.349 974.638 L714.863 987.604 L722.349 1000.57 L737.321 1000.57 L744.807 987.604 L744.807 987.604  Z\n",
       "  \" fill=\"#009af9\" fill-rule=\"evenodd\" fill-opacity=\"1\"/>\n",
       "<polyline clip-path=\"url(#clip262)\" style=\"stroke:#000000; stroke-linecap:butt; stroke-linejoin:round; stroke-width:4; stroke-opacity:1; fill:none\" points=\"\n",
       "  744.807,987.604 737.321,974.638 722.349,974.638 714.863,987.604 722.349,1000.57 737.321,1000.57 744.807,987.604 \n",
       "  \"/>\n",
       "<path clip-path=\"url(#clip262)\" d=\"\n",
       "M377.908 762.617 L370.422 749.651 L355.45 749.651 L347.964 762.617 L355.45 775.583 L370.422 775.583 L377.908 762.617 L377.908 762.617  Z\n",
       "  \" fill=\"#009af9\" fill-rule=\"evenodd\" fill-opacity=\"1\"/>\n",
       "<polyline clip-path=\"url(#clip262)\" style=\"stroke:#000000; stroke-linecap:butt; stroke-linejoin:round; stroke-width:4; stroke-opacity:1; fill:none\" points=\"\n",
       "  377.908,762.617 370.422,749.651 355.45,749.651 347.964,762.617 355.45,775.583 370.422,775.583 377.908,762.617 \n",
       "  \"/>\n",
       "<path clip-path=\"url(#clip262)\" d=\"\n",
       "M1016.26 776.617 L1008.77 763.651 L993.798 763.651 L986.312 776.617 L993.798 789.583 L1008.77 789.583 L1016.26 776.617 L1016.26 776.617  Z\n",
       "  \" fill=\"#009af9\" fill-rule=\"evenodd\" fill-opacity=\"1\"/>\n",
       "<polyline clip-path=\"url(#clip262)\" style=\"stroke:#000000; stroke-linecap:butt; stroke-linejoin:round; stroke-width:4; stroke-opacity:1; fill:none\" points=\"\n",
       "  1016.26,776.617 1008.77,763.651 993.798,763.651 986.312,776.617 993.798,789.583 1008.77,789.583 1016.26,776.617 \n",
       "  \"/>\n",
       "<path clip-path=\"url(#clip262)\" d=\"\n",
       "M690.412 398.647 L682.926 385.681 L667.954 385.681 L660.468 398.647 L667.954 411.613 L682.926 411.613 L690.412 398.647 L690.412 398.647  Z\n",
       "  \" fill=\"#009af9\" fill-rule=\"evenodd\" fill-opacity=\"1\"/>\n",
       "<polyline clip-path=\"url(#clip262)\" style=\"stroke:#000000; stroke-linecap:butt; stroke-linejoin:round; stroke-width:4; stroke-opacity:1; fill:none\" points=\"\n",
       "  690.412,398.647 682.926,385.681 667.954,385.681 660.468,398.647 667.954,411.613 682.926,411.613 690.412,398.647 \n",
       "  \"/>\n",
       "<path clip-path=\"url(#clip262)\" d=\"\n",
       "M1157.5 339.098 L1150.01 326.132 L1135.04 326.132 L1127.55 339.098 L1135.04 352.064 L1150.01 352.064 L1157.5 339.098 L1157.5 339.098  Z\n",
       "  \" fill=\"#009af9\" fill-rule=\"evenodd\" fill-opacity=\"1\"/>\n",
       "<polyline clip-path=\"url(#clip262)\" style=\"stroke:#000000; stroke-linecap:butt; stroke-linejoin:round; stroke-width:4; stroke-opacity:1; fill:none\" points=\"\n",
       "  1157.5,339.098 1150.01,326.132 1135.04,326.132 1127.55,339.098 1135.04,352.064 1150.01,352.064 1157.5,339.098 \n",
       "  \"/>\n",
       "<path clip-path=\"url(#clip262)\" d=\"\n",
       "M1429.47 1028.14 L1421.98 1015.18 L1407.01 1015.18 L1399.53 1028.14 L1407.01 1041.11 L1421.98 1041.11 L1429.47 1028.14 L1429.47 1028.14  Z\n",
       "  \" fill=\"#009af9\" fill-rule=\"evenodd\" fill-opacity=\"1\"/>\n",
       "<polyline clip-path=\"url(#clip262)\" style=\"stroke:#000000; stroke-linecap:butt; stroke-linejoin:round; stroke-width:4; stroke-opacity:1; fill:none\" points=\"\n",
       "  1429.47,1028.14 1421.98,1015.18 1407.01,1015.18 1399.53,1028.14 1407.01,1041.11 1421.98,1041.11 1429.47,1028.14 \n",
       "  \"/>\n",
       "<path clip-path=\"url(#clip262)\" d=\"\n",
       "M691.551 767.65 L684.065 754.684 L669.093 754.684 L661.607 767.65 L669.093 780.616 L684.065 780.616 L691.551 767.65 L691.551 767.65  Z\n",
       "  \" fill=\"#009af9\" fill-rule=\"evenodd\" fill-opacity=\"1\"/>\n",
       "<polyline clip-path=\"url(#clip262)\" style=\"stroke:#000000; stroke-linecap:butt; stroke-linejoin:round; stroke-width:4; stroke-opacity:1; fill:none\" points=\"\n",
       "  691.551,767.65 684.065,754.684 669.093,754.684 661.607,767.65 669.093,780.616 684.065,780.616 691.551,767.65 \n",
       "  \"/>\n",
       "<path clip-path=\"url(#clip262)\" d=\"\n",
       "M683.089 497.598 L675.603 484.632 L660.631 484.632 L653.145 497.598 L660.631 510.564 L675.603 510.564 L683.089 497.598 L683.089 497.598  Z\n",
       "  \" fill=\"#009af9\" fill-rule=\"evenodd\" fill-opacity=\"1\"/>\n",
       "<polyline clip-path=\"url(#clip262)\" style=\"stroke:#000000; stroke-linecap:butt; stroke-linejoin:round; stroke-width:4; stroke-opacity:1; fill:none\" points=\"\n",
       "  683.089,497.598 675.603,484.632 660.631,484.632 653.145,497.598 660.631,510.564 675.603,510.564 683.089,497.598 \n",
       "  \"/>\n",
       "<path clip-path=\"url(#clip262)\" d=\"\n",
       "M694.47 1459.73 L686.984 1446.76 L672.012 1446.76 L664.526 1459.73 L672.012 1472.7 L686.984 1472.7 L694.47 1459.73 L694.47 1459.73  Z\n",
       "  \" fill=\"#009af9\" fill-rule=\"evenodd\" fill-opacity=\"1\"/>\n",
       "<polyline clip-path=\"url(#clip262)\" style=\"stroke:#000000; stroke-linecap:butt; stroke-linejoin:round; stroke-width:4; stroke-opacity:1; fill:none\" points=\"\n",
       "  694.47,1459.73 686.984,1446.76 672.012,1446.76 664.526,1459.73 672.012,1472.7 686.984,1472.7 694.47,1459.73 \n",
       "  \"/>\n",
       "<path clip-path=\"url(#clip262)\" d=\"\n",
       "M1573.28 829.513 L1565.8 816.547 L1550.82 816.547 L1543.34 829.513 L1550.82 842.479 L1565.8 842.479 L1573.28 829.513 L1573.28 829.513  Z\n",
       "  \" fill=\"#009af9\" fill-rule=\"evenodd\" fill-opacity=\"1\"/>\n",
       "<polyline clip-path=\"url(#clip262)\" style=\"stroke:#000000; stroke-linecap:butt; stroke-linejoin:round; stroke-width:4; stroke-opacity:1; fill:none\" points=\"\n",
       "  1573.28,829.513 1565.8,816.547 1550.82,816.547 1543.34,829.513 1550.82,842.479 1565.8,842.479 1573.28,829.513 \n",
       "  \"/>\n",
       "<path clip-path=\"url(#clip262)\" d=\"\n",
       "M1412.63 1182.29 L1405.14 1169.33 L1390.17 1169.33 L1382.69 1182.29 L1390.17 1195.26 L1405.14 1195.26 L1412.63 1182.29 L1412.63 1182.29  Z\n",
       "  \" fill=\"#009af9\" fill-rule=\"evenodd\" fill-opacity=\"1\"/>\n",
       "<polyline clip-path=\"url(#clip262)\" style=\"stroke:#000000; stroke-linecap:butt; stroke-linejoin:round; stroke-width:4; stroke-opacity:1; fill:none\" points=\"\n",
       "  1412.63,1182.29 1405.14,1169.33 1390.17,1169.33 1382.69,1182.29 1390.17,1195.26 1405.14,1195.26 1412.63,1182.29 \n",
       "  \"/>\n",
       "<path clip-path=\"url(#clip262)\" d=\"\n",
       "M603.652 889.425 L596.166 876.459 L581.194 876.459 L573.708 889.425 L581.194 902.391 L596.166 902.391 L603.652 889.425 L603.652 889.425  Z\n",
       "  \" fill=\"#009af9\" fill-rule=\"evenodd\" fill-opacity=\"1\"/>\n",
       "<polyline clip-path=\"url(#clip262)\" style=\"stroke:#000000; stroke-linecap:butt; stroke-linejoin:round; stroke-width:4; stroke-opacity:1; fill:none\" points=\"\n",
       "  603.652,889.425 596.166,876.459 581.194,876.459 573.708,889.425 581.194,902.391 596.166,902.391 603.652,889.425 \n",
       "  \"/>\n",
       "<path clip-path=\"url(#clip262)\" d=\"\n",
       "M1106.43 617.742 L1098.94 604.776 L1083.97 604.776 L1076.48 617.742 L1083.97 630.708 L1098.94 630.708 L1106.43 617.742 L1106.43 617.742  Z\n",
       "  \" fill=\"#009af9\" fill-rule=\"evenodd\" fill-opacity=\"1\"/>\n",
       "<polyline clip-path=\"url(#clip262)\" style=\"stroke:#000000; stroke-linecap:butt; stroke-linejoin:round; stroke-width:4; stroke-opacity:1; fill:none\" points=\"\n",
       "  1106.43,617.742 1098.94,604.776 1083.97,604.776 1076.48,617.742 1083.97,630.708 1098.94,630.708 1106.43,617.742 \n",
       "  \"/>\n",
       "<path clip-path=\"url(#clip262)\" d=\"\n",
       "M873.585 1431.65 L866.099 1418.68 L851.127 1418.68 L843.641 1431.65 L851.127 1444.62 L866.099 1444.62 L873.585 1431.65 L873.585 1431.65  Z\n",
       "  \" fill=\"#009af9\" fill-rule=\"evenodd\" fill-opacity=\"1\"/>\n",
       "<polyline clip-path=\"url(#clip262)\" style=\"stroke:#000000; stroke-linecap:butt; stroke-linejoin:round; stroke-width:4; stroke-opacity:1; fill:none\" points=\"\n",
       "  873.585,1431.65 866.099,1418.68 851.127,1418.68 843.641,1431.65 851.127,1444.62 866.099,1444.62 873.585,1431.65 \n",
       "  \"/>\n",
       "<path clip-path=\"url(#clip262)\" d=\"\n",
       "M1609.34 669.247 L1601.86 656.281 L1586.88 656.281 L1579.4 669.247 L1586.88 682.213 L1601.86 682.213 L1609.34 669.247 L1609.34 669.247  Z\n",
       "  \" fill=\"#009af9\" fill-rule=\"evenodd\" fill-opacity=\"1\"/>\n",
       "<polyline clip-path=\"url(#clip262)\" style=\"stroke:#000000; stroke-linecap:butt; stroke-linejoin:round; stroke-width:4; stroke-opacity:1; fill:none\" points=\"\n",
       "  1609.34,669.247 1601.86,656.281 1586.88,656.281 1579.4,669.247 1586.88,682.213 1601.86,682.213 1609.34,669.247 \n",
       "  \"/>\n",
       "<path clip-path=\"url(#clip262)\" d=\"\n",
       "M593.283 618.785 L585.797 605.819 L570.825 605.819 L563.339 618.785 L570.825 631.751 L585.797 631.751 L593.283 618.785 L593.283 618.785  Z\n",
       "  \" fill=\"#009af9\" fill-rule=\"evenodd\" fill-opacity=\"1\"/>\n",
       "<polyline clip-path=\"url(#clip262)\" style=\"stroke:#000000; stroke-linecap:butt; stroke-linejoin:round; stroke-width:4; stroke-opacity:1; fill:none\" points=\"\n",
       "  593.283,618.785 585.797,605.819 570.825,605.819 563.339,618.785 570.825,631.751 585.797,631.751 593.283,618.785 \n",
       "  \"/>\n",
       "<path clip-path=\"url(#clip262)\" d=\"\n",
       "M838.321 1288.47 L830.835 1275.5 L815.863 1275.5 L808.377 1288.47 L815.863 1301.44 L830.835 1301.44 L838.321 1288.47 L838.321 1288.47  Z\n",
       "  \" fill=\"#009af9\" fill-rule=\"evenodd\" fill-opacity=\"1\"/>\n",
       "<polyline clip-path=\"url(#clip262)\" style=\"stroke:#000000; stroke-linecap:butt; stroke-linejoin:round; stroke-width:4; stroke-opacity:1; fill:none\" points=\"\n",
       "  838.321,1288.47 830.835,1275.5 815.863,1275.5 808.377,1288.47 815.863,1301.44 830.835,1301.44 838.321,1288.47 \n",
       "  \"/>\n",
       "<path clip-path=\"url(#clip262)\" d=\"\n",
       "M970.077 319.46 L962.591 306.494 L947.619 306.494 L940.133 319.46 L947.619 332.426 L962.591 332.426 L970.077 319.46 L970.077 319.46  Z\n",
       "  \" fill=\"#009af9\" fill-rule=\"evenodd\" fill-opacity=\"1\"/>\n",
       "<polyline clip-path=\"url(#clip262)\" style=\"stroke:#000000; stroke-linecap:butt; stroke-linejoin:round; stroke-width:4; stroke-opacity:1; fill:none\" points=\"\n",
       "  970.077,319.46 962.591,306.494 947.619,306.494 940.133,319.46 947.619,332.426 962.591,332.426 970.077,319.46 \n",
       "  \"/>\n",
       "<path clip-path=\"url(#clip262)\" d=\"\n",
       "M1174.12 798.257 L1166.64 785.291 L1151.66 785.291 L1144.18 798.257 L1151.66 811.223 L1166.64 811.223 L1174.12 798.257 L1174.12 798.257  Z\n",
       "  \" fill=\"#009af9\" fill-rule=\"evenodd\" fill-opacity=\"1\"/>\n",
       "<polyline clip-path=\"url(#clip262)\" style=\"stroke:#000000; stroke-linecap:butt; stroke-linejoin:round; stroke-width:4; stroke-opacity:1; fill:none\" points=\"\n",
       "  1174.12,798.257 1166.64,785.291 1151.66,785.291 1144.18,798.257 1151.66,811.223 1166.64,811.223 1174.12,798.257 \n",
       "  \"/>\n",
       "<path clip-path=\"url(#clip262)\" d=\"\n",
       "M1333.24 398.904 L1325.75 385.938 L1310.78 385.938 L1303.3 398.904 L1310.78 411.87 L1325.75 411.87 L1333.24 398.904 L1333.24 398.904  Z\n",
       "  \" fill=\"#009af9\" fill-rule=\"evenodd\" fill-opacity=\"1\"/>\n",
       "<polyline clip-path=\"url(#clip262)\" style=\"stroke:#000000; stroke-linecap:butt; stroke-linejoin:round; stroke-width:4; stroke-opacity:1; fill:none\" points=\"\n",
       "  1333.24,398.904 1325.75,385.938 1310.78,385.938 1303.3,398.904 1310.78,411.87 1325.75,411.87 1333.24,398.904 \n",
       "  \"/>\n",
       "<path clip-path=\"url(#clip262)\" d=\"\n",
       "M942.764 418.777 L935.278 405.811 L920.306 405.811 L912.82 418.777 L920.306 431.743 L935.278 431.743 L942.764 418.777 L942.764 418.777  Z\n",
       "  \" fill=\"#009af9\" fill-rule=\"evenodd\" fill-opacity=\"1\"/>\n",
       "<polyline clip-path=\"url(#clip262)\" style=\"stroke:#000000; stroke-linecap:butt; stroke-linejoin:round; stroke-width:4; stroke-opacity:1; fill:none\" points=\"\n",
       "  942.764,418.777 935.278,405.811 920.306,405.811 912.82,418.777 920.306,431.743 935.278,431.743 942.764,418.777 \n",
       "  \"/>\n",
       "<path clip-path=\"url(#clip262)\" d=\"\n",
       "M1293.51 1473.62 L1286.02 1460.65 L1271.05 1460.65 L1263.57 1473.62 L1271.05 1486.58 L1286.02 1486.58 L1293.51 1473.62 L1293.51 1473.62  Z\n",
       "  \" fill=\"#009af9\" fill-rule=\"evenodd\" fill-opacity=\"1\"/>\n",
       "<polyline clip-path=\"url(#clip262)\" style=\"stroke:#000000; stroke-linecap:butt; stroke-linejoin:round; stroke-width:4; stroke-opacity:1; fill:none\" points=\"\n",
       "  1293.51,1473.62 1286.02,1460.65 1271.05,1460.65 1263.57,1473.62 1271.05,1486.58 1286.02,1486.58 1293.51,1473.62 \n",
       "  \"/>\n",
       "<path clip-path=\"url(#clip262)\" d=\"\n",
       "M1426 612.679 L1418.52 599.713 L1403.55 599.713 L1396.06 612.679 L1403.55 625.645 L1418.52 625.645 L1426 612.679 L1426 612.679  Z\n",
       "  \" fill=\"#009af9\" fill-rule=\"evenodd\" fill-opacity=\"1\"/>\n",
       "<polyline clip-path=\"url(#clip262)\" style=\"stroke:#000000; stroke-linecap:butt; stroke-linejoin:round; stroke-width:4; stroke-opacity:1; fill:none\" points=\"\n",
       "  1426,612.679 1418.52,599.713 1403.55,599.713 1396.06,612.679 1403.55,625.645 1418.52,625.645 1426,612.679 \n",
       "  \"/>\n",
       "<path clip-path=\"url(#clip262)\" d=\"\n",
       "M1204.71 475.281 L1197.23 462.315 L1182.25 462.315 L1174.77 475.281 L1182.25 488.247 L1197.23 488.247 L1204.71 475.281 L1204.71 475.281  Z\n",
       "  \" fill=\"#009af9\" fill-rule=\"evenodd\" fill-opacity=\"1\"/>\n",
       "<polyline clip-path=\"url(#clip262)\" style=\"stroke:#000000; stroke-linecap:butt; stroke-linejoin:round; stroke-width:4; stroke-opacity:1; fill:none\" points=\"\n",
       "  1204.71,475.281 1197.23,462.315 1182.25,462.315 1174.77,475.281 1182.25,488.247 1197.23,488.247 1204.71,475.281 \n",
       "  \"/>\n",
       "<path clip-path=\"url(#clip262)\" d=\"\n",
       "M1147.79 1191.65 L1140.31 1178.69 L1125.33 1178.69 L1117.85 1191.65 L1125.33 1204.62 L1140.31 1204.62 L1147.79 1191.65 L1147.79 1191.65  Z\n",
       "  \" fill=\"#009af9\" fill-rule=\"evenodd\" fill-opacity=\"1\"/>\n",
       "<polyline clip-path=\"url(#clip262)\" style=\"stroke:#000000; stroke-linecap:butt; stroke-linejoin:round; stroke-width:4; stroke-opacity:1; fill:none\" points=\"\n",
       "  1147.79,1191.65 1140.31,1178.69 1125.33,1178.69 1117.85,1191.65 1125.33,1204.62 1140.31,1204.62 1147.79,1191.65 \n",
       "  \"/>\n",
       "<path clip-path=\"url(#clip262)\" d=\"\n",
       "M1652.61 755.426 L1645.12 742.46 L1630.15 742.46 L1622.66 755.426 L1630.15 768.392 L1645.12 768.392 L1652.61 755.426 L1652.61 755.426  Z\n",
       "  \" fill=\"#009af9\" fill-rule=\"evenodd\" fill-opacity=\"1\"/>\n",
       "<polyline clip-path=\"url(#clip262)\" style=\"stroke:#000000; stroke-linecap:butt; stroke-linejoin:round; stroke-width:4; stroke-opacity:1; fill:none\" points=\"\n",
       "  1652.61,755.426 1645.12,742.46 1630.15,742.46 1622.66,755.426 1630.15,768.392 1645.12,768.392 1652.61,755.426 \n",
       "  \"/>\n",
       "<path clip-path=\"url(#clip262)\" d=\"\n",
       "M1504.32 717.745 L1496.83 704.779 L1481.86 704.779 L1474.38 717.745 L1481.86 730.711 L1496.83 730.711 L1504.32 717.745 L1504.32 717.745  Z\n",
       "  \" fill=\"#009af9\" fill-rule=\"evenodd\" fill-opacity=\"1\"/>\n",
       "<polyline clip-path=\"url(#clip262)\" style=\"stroke:#000000; stroke-linecap:butt; stroke-linejoin:round; stroke-width:4; stroke-opacity:1; fill:none\" points=\"\n",
       "  1504.32,717.745 1496.83,704.779 1481.86,704.779 1474.38,717.745 1481.86,730.711 1496.83,730.711 1504.32,717.745 \n",
       "  \"/>\n",
       "<path clip-path=\"url(#clip262)\" d=\"\n",
       "M461.126 850.953 L453.64 837.987 L438.668 837.987 L431.182 850.953 L438.668 863.919 L453.64 863.919 L461.126 850.953 L461.126 850.953  Z\n",
       "  \" fill=\"#009af9\" fill-rule=\"evenodd\" fill-opacity=\"1\"/>\n",
       "<polyline clip-path=\"url(#clip262)\" style=\"stroke:#000000; stroke-linecap:butt; stroke-linejoin:round; stroke-width:4; stroke-opacity:1; fill:none\" points=\"\n",
       "  461.126,850.953 453.64,837.987 438.668,837.987 431.182,850.953 438.668,863.919 453.64,863.919 461.126,850.953 \n",
       "  \"/>\n",
       "<path clip-path=\"url(#clip262)\" d=\"\n",
       "M1407.97 1427.64 L1400.49 1414.67 L1385.52 1414.67 L1378.03 1427.64 L1385.52 1440.6 L1400.49 1440.6 L1407.97 1427.64 L1407.97 1427.64  Z\n",
       "  \" fill=\"#009af9\" fill-rule=\"evenodd\" fill-opacity=\"1\"/>\n",
       "<polyline clip-path=\"url(#clip262)\" style=\"stroke:#000000; stroke-linecap:butt; stroke-linejoin:round; stroke-width:4; stroke-opacity:1; fill:none\" points=\"\n",
       "  1407.97,1427.64 1400.49,1414.67 1385.52,1414.67 1378.03,1427.64 1385.52,1440.6 1400.49,1440.6 1407.97,1427.64 \n",
       "  \"/>\n",
       "<path clip-path=\"url(#clip262)\" d=\"\n",
       "M743.855 619.875 L736.369 606.909 L721.397 606.909 L713.911 619.875 L721.397 632.841 L736.369 632.841 L743.855 619.875 L743.855 619.875  Z\n",
       "  \" fill=\"#009af9\" fill-rule=\"evenodd\" fill-opacity=\"1\"/>\n",
       "<polyline clip-path=\"url(#clip262)\" style=\"stroke:#000000; stroke-linecap:butt; stroke-linejoin:round; stroke-width:4; stroke-opacity:1; fill:none\" points=\"\n",
       "  743.855,619.875 736.369,606.909 721.397,606.909 713.911,619.875 721.397,632.841 736.369,632.841 743.855,619.875 \n",
       "  \"/>\n",
       "<path clip-path=\"url(#clip262)\" d=\"\n",
       "M1306.31 1293.57 L1298.82 1280.6 L1283.85 1280.6 L1276.37 1293.57 L1283.85 1306.53 L1298.82 1306.53 L1306.31 1293.57 L1306.31 1293.57  Z\n",
       "  \" fill=\"#009af9\" fill-rule=\"evenodd\" fill-opacity=\"1\"/>\n",
       "<polyline clip-path=\"url(#clip262)\" style=\"stroke:#000000; stroke-linecap:butt; stroke-linejoin:round; stroke-width:4; stroke-opacity:1; fill:none\" points=\"\n",
       "  1306.31,1293.57 1298.82,1280.6 1283.85,1280.6 1276.37,1293.57 1283.85,1306.53 1298.82,1306.53 1306.31,1293.57 \n",
       "  \"/>\n",
       "<path clip-path=\"url(#clip262)\" d=\"\n",
       "M999.679 1246.56 L992.193 1233.6 L977.221 1233.6 L969.735 1246.56 L977.221 1259.53 L992.193 1259.53 L999.679 1246.56 L999.679 1246.56  Z\n",
       "  \" fill=\"#009af9\" fill-rule=\"evenodd\" fill-opacity=\"1\"/>\n",
       "<polyline clip-path=\"url(#clip262)\" style=\"stroke:#000000; stroke-linecap:butt; stroke-linejoin:round; stroke-width:4; stroke-opacity:1; fill:none\" points=\"\n",
       "  999.679,1246.56 992.193,1233.6 977.221,1233.6 969.735,1246.56 977.221,1259.53 992.193,1259.53 999.679,1246.56 \n",
       "  \"/>\n",
       "<path clip-path=\"url(#clip262)\" d=\"\n",
       "M1494.64 519.243 L1487.16 506.277 L1472.19 506.277 L1464.7 519.243 L1472.19 532.209 L1487.16 532.209 L1494.64 519.243 L1494.64 519.243  Z\n",
       "  \" fill=\"#009af9\" fill-rule=\"evenodd\" fill-opacity=\"1\"/>\n",
       "<polyline clip-path=\"url(#clip262)\" style=\"stroke:#000000; stroke-linecap:butt; stroke-linejoin:round; stroke-width:4; stroke-opacity:1; fill:none\" points=\"\n",
       "  1494.64,519.243 1487.16,506.277 1472.19,506.277 1464.7,519.243 1472.19,532.209 1487.16,532.209 1494.64,519.243 \n",
       "  \"/>\n",
       "<path clip-path=\"url(#clip262)\" d=\"\n",
       "M1246.54 937.606 L1239.05 924.64 L1224.08 924.64 L1216.59 937.606 L1224.08 950.572 L1239.05 950.572 L1246.54 937.606 L1246.54 937.606  Z\n",
       "  \" fill=\"#009af9\" fill-rule=\"evenodd\" fill-opacity=\"1\"/>\n",
       "<polyline clip-path=\"url(#clip262)\" style=\"stroke:#000000; stroke-linecap:butt; stroke-linejoin:round; stroke-width:4; stroke-opacity:1; fill:none\" points=\"\n",
       "  1246.54,937.606 1239.05,924.64 1224.08,924.64 1216.59,937.606 1224.08,950.572 1239.05,950.572 1246.54,937.606 \n",
       "  \"/>\n",
       "<path clip-path=\"url(#clip262)\" d=\"\n",
       "M1480.91 1325.39 L1473.42 1312.43 L1458.45 1312.43 L1450.96 1325.39 L1458.45 1338.36 L1473.42 1338.36 L1480.91 1325.39 L1480.91 1325.39  Z\n",
       "  \" fill=\"#009af9\" fill-rule=\"evenodd\" fill-opacity=\"1\"/>\n",
       "<polyline clip-path=\"url(#clip262)\" style=\"stroke:#000000; stroke-linecap:butt; stroke-linejoin:round; stroke-width:4; stroke-opacity:1; fill:none\" points=\"\n",
       "  1480.91,1325.39 1473.42,1312.43 1458.45,1312.43 1450.96,1325.39 1458.45,1338.36 1473.42,1338.36 1480.91,1325.39 \n",
       "  \"/>\n",
       "<path clip-path=\"url(#clip262)\" d=\"\n",
       "M686.441 1314.56 L678.955 1301.59 L663.983 1301.59 L656.497 1314.56 L663.983 1327.53 L678.955 1327.53 L686.441 1314.56 L686.441 1314.56  Z\n",
       "  \" fill=\"#009af9\" fill-rule=\"evenodd\" fill-opacity=\"1\"/>\n",
       "<polyline clip-path=\"url(#clip262)\" style=\"stroke:#000000; stroke-linecap:butt; stroke-linejoin:round; stroke-width:4; stroke-opacity:1; fill:none\" points=\"\n",
       "  686.441,1314.56 678.955,1301.59 663.983,1301.59 656.497,1314.56 663.983,1327.53 678.955,1327.53 686.441,1314.56 \n",
       "  \"/>\n",
       "<circle clip-path=\"url(#clip262)\" style=\"fill:#009af9; stroke:none; fill-opacity:1\" cx=\"999.906\" cy=\"1000.97\" r=\"2\"/>\n",
       "<circle clip-path=\"url(#clip262)\" style=\"fill:#009af9; stroke:none; fill-opacity:1\" cx=\"1593.67\" cy=\"1335.3\" r=\"2\"/>\n",
       "<circle clip-path=\"url(#clip262)\" style=\"fill:#009af9; stroke:none; fill-opacity:1\" cx=\"1135.88\" cy=\"1666.94\" r=\"2\"/>\n",
       "<circle clip-path=\"url(#clip262)\" style=\"fill:#009af9; stroke:none; fill-opacity:1\" cx=\"401.334\" cy=\"680.404\" r=\"2\"/>\n",
       "<circle clip-path=\"url(#clip262)\" style=\"fill:#009af9; stroke:none; fill-opacity:1\" cx=\"1680.54\" cy=\"952.61\" r=\"2\"/>\n",
       "<circle clip-path=\"url(#clip262)\" style=\"fill:#009af9; stroke:none; fill-opacity:1\" cx=\"333.433\" cy=\"855.086\" r=\"2\"/>\n",
       "<circle clip-path=\"url(#clip262)\" style=\"fill:#009af9; stroke:none; fill-opacity:1\" cx=\"508.259\" cy=\"1249.23\" r=\"2\"/>\n",
       "<circle clip-path=\"url(#clip262)\" style=\"fill:#009af9; stroke:none; fill-opacity:1\" cx=\"841.112\" cy=\"1662.21\" r=\"2\"/>\n",
       "<circle clip-path=\"url(#clip262)\" style=\"fill:#009af9; stroke:none; fill-opacity:1\" cx=\"1038.26\" cy=\"1680.54\" r=\"2\"/>\n",
       "<circle clip-path=\"url(#clip262)\" style=\"fill:#009af9; stroke:none; fill-opacity:1\" cx=\"577.494\" cy=\"462.347\" r=\"2\"/>\n",
       "<circle clip-path=\"url(#clip262)\" style=\"fill:#009af9; stroke:none; fill-opacity:1\" cx=\"1678.77\" cy=\"1048.53\" r=\"2\"/>\n",
       "<circle clip-path=\"url(#clip262)\" style=\"fill:#009af9; stroke:none; fill-opacity:1\" cx=\"1394.02\" cy=\"1554.46\" r=\"2\"/>\n",
       "<circle clip-path=\"url(#clip262)\" style=\"fill:#009af9; stroke:none; fill-opacity:1\" cx=\"505.155\" cy=\"1473.39\" r=\"2\"/>\n",
       "<circle clip-path=\"url(#clip262)\" style=\"fill:#009af9; stroke:none; fill-opacity:1\" cx=\"1641.9\" cy=\"1242.79\" r=\"2\"/>\n",
       "<circle clip-path=\"url(#clip262)\" style=\"fill:#009af9; stroke:none; fill-opacity:1\" cx=\"1475.12\" cy=\"1493.32\" r=\"2\"/>\n",
       "<circle clip-path=\"url(#clip262)\" style=\"fill:#009af9; stroke:none; fill-opacity:1\" cx=\"781.205\" cy=\"1546.48\" r=\"2\"/>\n",
       "<circle clip-path=\"url(#clip262)\" style=\"fill:#009af9; stroke:none; fill-opacity:1\" cx=\"1539.47\" cy=\"1416.87\" r=\"2\"/>\n",
       "<circle clip-path=\"url(#clip262)\" style=\"fill:#009af9; stroke:none; fill-opacity:1\" cx=\"1154.53\" cy=\"1368.46\" r=\"2\"/>\n",
       "<circle clip-path=\"url(#clip262)\" style=\"fill:#009af9; stroke:none; fill-opacity:1\" cx=\"1249.24\" cy=\"1091.9\" r=\"2\"/>\n",
       "<circle clip-path=\"url(#clip262)\" style=\"fill:#009af9; stroke:none; fill-opacity:1\" cx=\"653.836\" cy=\"1585.04\" r=\"2\"/>\n",
       "<circle clip-path=\"url(#clip262)\" style=\"fill:#009af9; stroke:none; fill-opacity:1\" cx=\"861.888\" cy=\"689.175\" r=\"2\"/>\n",
       "<circle clip-path=\"url(#clip262)\" style=\"fill:#009af9; stroke:none; fill-opacity:1\" cx=\"578.713\" cy=\"1530.82\" r=\"2\"/>\n",
       "<circle clip-path=\"url(#clip262)\" style=\"fill:#009af9; stroke:none; fill-opacity:1\" cx=\"1314.3\" cy=\"1600.37\" r=\"2\"/>\n",
       "<circle clip-path=\"url(#clip262)\" style=\"fill:#009af9; stroke:none; fill-opacity:1\" cx=\"319.46\" cy=\"948.536\" r=\"2\"/>\n",
       "<circle clip-path=\"url(#clip262)\" style=\"fill:#009af9; stroke:none; fill-opacity:1\" cx=\"440.007\" cy=\"1390.29\" r=\"2\"/>\n",
       "<circle clip-path=\"url(#clip262)\" style=\"fill:#009af9; stroke:none; fill-opacity:1\" cx=\"1408.89\" cy=\"453.733\" r=\"2\"/>\n",
       "<circle clip-path=\"url(#clip262)\" style=\"fill:#009af9; stroke:none; fill-opacity:1\" cx=\"807.731\" cy=\"482.979\" r=\"2\"/>\n",
       "<circle clip-path=\"url(#clip262)\" style=\"fill:#009af9; stroke:none; fill-opacity:1\" cx=\"1666.22\" cy=\"1144.81\" r=\"2\"/>\n",
       "<circle clip-path=\"url(#clip262)\" style=\"fill:#009af9; stroke:none; fill-opacity:1\" cx=\"1541.14\" cy=\"591.35\" r=\"2\"/>\n",
       "<circle clip-path=\"url(#clip262)\" style=\"fill:#009af9; stroke:none; fill-opacity:1\" cx=\"1050.51\" cy=\"325.074\" r=\"2\"/>\n",
       "<circle clip-path=\"url(#clip262)\" style=\"fill:#009af9; stroke:none; fill-opacity:1\" cx=\"331.236\" cy=\"1137.76\" r=\"2\"/>\n",
       "<circle clip-path=\"url(#clip262)\" style=\"fill:#009af9; stroke:none; fill-opacity:1\" cx=\"1230.46\" cy=\"1641.6\" r=\"2\"/>\n",
       "<circle clip-path=\"url(#clip262)\" style=\"fill:#009af9; stroke:none; fill-opacity:1\" cx=\"360.007\" cy=\"1229.19\" r=\"2\"/>\n",
       "<circle clip-path=\"url(#clip262)\" style=\"fill:#009af9; stroke:none; fill-opacity:1\" cx=\"1174.08\" cy=\"1541.88\" r=\"2\"/>\n",
       "<circle clip-path=\"url(#clip262)\" style=\"fill:#009af9; stroke:none; fill-opacity:1\" cx=\"1413.9\" cy=\"881.613\" r=\"2\"/>\n",
       "<circle clip-path=\"url(#clip262)\" style=\"fill:#009af9; stroke:none; fill-opacity:1\" cx=\"741.285\" cy=\"1635.66\" r=\"2\"/>\n",
       "<circle clip-path=\"url(#clip262)\" style=\"fill:#009af9; stroke:none; fill-opacity:1\" cx=\"397.572\" cy=\"1310.14\" r=\"2\"/>\n",
       "<circle clip-path=\"url(#clip262)\" style=\"fill:#009af9; stroke:none; fill-opacity:1\" cx=\"850.886\" cy=\"336.905\" r=\"2\"/>\n",
       "<circle clip-path=\"url(#clip262)\" style=\"fill:#009af9; stroke:none; fill-opacity:1\" cx=\"558.517\" cy=\"1044.39\" r=\"2\"/>\n",
       "<circle clip-path=\"url(#clip262)\" style=\"fill:#009af9; stroke:none; fill-opacity:1\" cx=\"1544.64\" cy=\"1219.21\" r=\"2\"/>\n",
       "<circle clip-path=\"url(#clip262)\" style=\"fill:#009af9; stroke:none; fill-opacity:1\" cx=\"1015.04\" cy=\"1420.11\" r=\"2\"/>\n",
       "<circle clip-path=\"url(#clip262)\" style=\"fill:#009af9; stroke:none; fill-opacity:1\" cx=\"509.089\" cy=\"529.694\" r=\"2\"/>\n",
       "<circle clip-path=\"url(#clip262)\" style=\"fill:#009af9; stroke:none; fill-opacity:1\" cx=\"1667.33\" cy=\"855.892\" r=\"2\"/>\n",
       "<circle clip-path=\"url(#clip262)\" style=\"fill:#009af9; stroke:none; fill-opacity:1\" cx=\"940.613\" cy=\"1679.96\" r=\"2\"/>\n",
       "<circle clip-path=\"url(#clip262)\" style=\"fill:#009af9; stroke:none; fill-opacity:1\" cx=\"827.637\" cy=\"1124.16\" r=\"2\"/>\n",
       "<circle clip-path=\"url(#clip262)\" style=\"fill:#009af9; stroke:none; fill-opacity:1\" cx=\"826.31\" cy=\"858.201\" r=\"2\"/>\n",
       "<circle clip-path=\"url(#clip262)\" style=\"fill:#009af9; stroke:none; fill-opacity:1\" cx=\"1320.88\" cy=\"510.117\" r=\"2\"/>\n",
       "<circle clip-path=\"url(#clip262)\" style=\"fill:#009af9; stroke:none; fill-opacity:1\" cx=\"425.007\" cy=\"987.018\" r=\"2\"/>\n",
       "<circle clip-path=\"url(#clip262)\" style=\"fill:#009af9; stroke:none; fill-opacity:1\" cx=\"651.075\" cy=\"1162.41\" r=\"2\"/>\n",
       "<circle clip-path=\"url(#clip262)\" style=\"fill:#009af9; stroke:none; fill-opacity:1\" cx=\"1231.18\" cy=\"363.43\" r=\"2\"/>\n",
       "<circle clip-path=\"url(#clip262)\" style=\"fill:#009af9; stroke:none; fill-opacity:1\" cx=\"764.093\" cy=\"367.586\" r=\"2\"/>\n",
       "<circle clip-path=\"url(#clip262)\" style=\"fill:#009af9; stroke:none; fill-opacity:1\" cx=\"512.053\" cy=\"732.423\" r=\"2\"/>\n",
       "<circle clip-path=\"url(#clip262)\" style=\"fill:#009af9; stroke:none; fill-opacity:1\" cx=\"1561.55\" cy=\"1090.69\" r=\"2\"/>\n",
       "<circle clip-path=\"url(#clip262)\" style=\"fill:#009af9; stroke:none; fill-opacity:1\" cx=\"1568.95\" cy=\"960.607\" r=\"2\"/>\n",
       "<circle clip-path=\"url(#clip262)\" style=\"fill:#009af9; stroke:none; fill-opacity:1\" cx=\"1051.73\" cy=\"1568.43\" r=\"2\"/>\n",
       "<circle clip-path=\"url(#clip262)\" style=\"fill:#009af9; stroke:none; fill-opacity:1\" cx=\"442.698\" cy=\"1134.94\" r=\"2\"/>\n",
       "<circle clip-path=\"url(#clip262)\" style=\"fill:#009af9; stroke:none; fill-opacity:1\" cx=\"921.149\" cy=\"1572.31\" r=\"2\"/>\n",
       "<circle clip-path=\"url(#clip262)\" style=\"fill:#009af9; stroke:none; fill-opacity:1\" cx=\"321.525\" cy=\"1045.81\" r=\"2\"/>\n",
       "<circle clip-path=\"url(#clip262)\" style=\"fill:#009af9; stroke:none; fill-opacity:1\" cx=\"550.136\" cy=\"1381.43\" r=\"2\"/>\n",
       "<circle clip-path=\"url(#clip262)\" style=\"fill:#009af9; stroke:none; fill-opacity:1\" cx=\"1064.42\" cy=\"444.495\" r=\"2\"/>\n",
       "<circle clip-path=\"url(#clip262)\" style=\"fill:#009af9; stroke:none; fill-opacity:1\" cx=\"949.726\" cy=\"562.1\" r=\"2\"/>\n",
       "<circle clip-path=\"url(#clip262)\" style=\"fill:#009af9; stroke:none; fill-opacity:1\" cx=\"1243\" cy=\"634.228\" r=\"2\"/>\n",
       "<circle clip-path=\"url(#clip262)\" style=\"fill:#009af9; stroke:none; fill-opacity:1\" cx=\"449.744\" cy=\"603.565\" r=\"2\"/>\n",
       "<circle clip-path=\"url(#clip262)\" style=\"fill:#009af9; stroke:none; fill-opacity:1\" cx=\"1330.61\" cy=\"761.374\" r=\"2\"/>\n",
       "<circle clip-path=\"url(#clip262)\" style=\"fill:#009af9; stroke:none; fill-opacity:1\" cx=\"729.835\" cy=\"987.604\" r=\"2\"/>\n",
       "<circle clip-path=\"url(#clip262)\" style=\"fill:#009af9; stroke:none; fill-opacity:1\" cx=\"362.936\" cy=\"762.617\" r=\"2\"/>\n",
       "<circle clip-path=\"url(#clip262)\" style=\"fill:#009af9; stroke:none; fill-opacity:1\" cx=\"1001.28\" cy=\"776.617\" r=\"2\"/>\n",
       "<circle clip-path=\"url(#clip262)\" style=\"fill:#009af9; stroke:none; fill-opacity:1\" cx=\"675.44\" cy=\"398.647\" r=\"2\"/>\n",
       "<circle clip-path=\"url(#clip262)\" style=\"fill:#009af9; stroke:none; fill-opacity:1\" cx=\"1142.52\" cy=\"339.098\" r=\"2\"/>\n",
       "<circle clip-path=\"url(#clip262)\" style=\"fill:#009af9; stroke:none; fill-opacity:1\" cx=\"1414.5\" cy=\"1028.14\" r=\"2\"/>\n",
       "<circle clip-path=\"url(#clip262)\" style=\"fill:#009af9; stroke:none; fill-opacity:1\" cx=\"676.579\" cy=\"767.65\" r=\"2\"/>\n",
       "<circle clip-path=\"url(#clip262)\" style=\"fill:#009af9; stroke:none; fill-opacity:1\" cx=\"668.117\" cy=\"497.598\" r=\"2\"/>\n",
       "<circle clip-path=\"url(#clip262)\" style=\"fill:#009af9; stroke:none; fill-opacity:1\" cx=\"679.498\" cy=\"1459.73\" r=\"2\"/>\n",
       "<circle clip-path=\"url(#clip262)\" style=\"fill:#009af9; stroke:none; fill-opacity:1\" cx=\"1558.31\" cy=\"829.513\" r=\"2\"/>\n",
       "<circle clip-path=\"url(#clip262)\" style=\"fill:#009af9; stroke:none; fill-opacity:1\" cx=\"1397.66\" cy=\"1182.29\" r=\"2\"/>\n",
       "<circle clip-path=\"url(#clip262)\" style=\"fill:#009af9; stroke:none; fill-opacity:1\" cx=\"588.68\" cy=\"889.425\" r=\"2\"/>\n",
       "<circle clip-path=\"url(#clip262)\" style=\"fill:#009af9; stroke:none; fill-opacity:1\" cx=\"1091.46\" cy=\"617.742\" r=\"2\"/>\n",
       "<circle clip-path=\"url(#clip262)\" style=\"fill:#009af9; stroke:none; fill-opacity:1\" cx=\"858.613\" cy=\"1431.65\" r=\"2\"/>\n",
       "<circle clip-path=\"url(#clip262)\" style=\"fill:#009af9; stroke:none; fill-opacity:1\" cx=\"1594.37\" cy=\"669.247\" r=\"2\"/>\n",
       "<circle clip-path=\"url(#clip262)\" style=\"fill:#009af9; stroke:none; fill-opacity:1\" cx=\"578.311\" cy=\"618.785\" r=\"2\"/>\n",
       "<circle clip-path=\"url(#clip262)\" style=\"fill:#009af9; stroke:none; fill-opacity:1\" cx=\"823.349\" cy=\"1288.47\" r=\"2\"/>\n",
       "<circle clip-path=\"url(#clip262)\" style=\"fill:#009af9; stroke:none; fill-opacity:1\" cx=\"955.105\" cy=\"319.46\" r=\"2\"/>\n",
       "<circle clip-path=\"url(#clip262)\" style=\"fill:#009af9; stroke:none; fill-opacity:1\" cx=\"1159.15\" cy=\"798.257\" r=\"2\"/>\n",
       "<circle clip-path=\"url(#clip262)\" style=\"fill:#009af9; stroke:none; fill-opacity:1\" cx=\"1318.27\" cy=\"398.904\" r=\"2\"/>\n",
       "<circle clip-path=\"url(#clip262)\" style=\"fill:#009af9; stroke:none; fill-opacity:1\" cx=\"927.792\" cy=\"418.777\" r=\"2\"/>\n",
       "<circle clip-path=\"url(#clip262)\" style=\"fill:#009af9; stroke:none; fill-opacity:1\" cx=\"1278.54\" cy=\"1473.62\" r=\"2\"/>\n",
       "<circle clip-path=\"url(#clip262)\" style=\"fill:#009af9; stroke:none; fill-opacity:1\" cx=\"1411.03\" cy=\"612.679\" r=\"2\"/>\n",
       "<circle clip-path=\"url(#clip262)\" style=\"fill:#009af9; stroke:none; fill-opacity:1\" cx=\"1189.74\" cy=\"475.281\" r=\"2\"/>\n",
       "<circle clip-path=\"url(#clip262)\" style=\"fill:#009af9; stroke:none; fill-opacity:1\" cx=\"1132.82\" cy=\"1191.65\" r=\"2\"/>\n",
       "<circle clip-path=\"url(#clip262)\" style=\"fill:#009af9; stroke:none; fill-opacity:1\" cx=\"1637.63\" cy=\"755.426\" r=\"2\"/>\n",
       "<circle clip-path=\"url(#clip262)\" style=\"fill:#009af9; stroke:none; fill-opacity:1\" cx=\"1489.35\" cy=\"717.745\" r=\"2\"/>\n",
       "<circle clip-path=\"url(#clip262)\" style=\"fill:#009af9; stroke:none; fill-opacity:1\" cx=\"446.154\" cy=\"850.953\" r=\"2\"/>\n",
       "<circle clip-path=\"url(#clip262)\" style=\"fill:#009af9; stroke:none; fill-opacity:1\" cx=\"1393\" cy=\"1427.64\" r=\"2\"/>\n",
       "<circle clip-path=\"url(#clip262)\" style=\"fill:#009af9; stroke:none; fill-opacity:1\" cx=\"728.883\" cy=\"619.875\" r=\"2\"/>\n",
       "<circle clip-path=\"url(#clip262)\" style=\"fill:#009af9; stroke:none; fill-opacity:1\" cx=\"1291.34\" cy=\"1293.57\" r=\"2\"/>\n",
       "<circle clip-path=\"url(#clip262)\" style=\"fill:#009af9; stroke:none; fill-opacity:1\" cx=\"984.707\" cy=\"1246.56\" r=\"2\"/>\n",
       "<circle clip-path=\"url(#clip262)\" style=\"fill:#009af9; stroke:none; fill-opacity:1\" cx=\"1479.67\" cy=\"519.243\" r=\"2\"/>\n",
       "<circle clip-path=\"url(#clip262)\" style=\"fill:#009af9; stroke:none; fill-opacity:1\" cx=\"1231.57\" cy=\"937.606\" r=\"2\"/>\n",
       "<circle clip-path=\"url(#clip262)\" style=\"fill:#009af9; stroke:none; fill-opacity:1\" cx=\"1465.94\" cy=\"1325.39\" r=\"2\"/>\n",
       "<circle clip-path=\"url(#clip262)\" style=\"fill:#009af9; stroke:none; fill-opacity:1\" cx=\"671.469\" cy=\"1314.56\" r=\"2\"/>\n",
       "</svg>\n"
      ]
     },
     "execution_count": 231,
     "metadata": {},
     "output_type": "execute_result"
    }
   ],
   "source": [
    "G = SimpleDiGraph(100)\n",
    "for i = 1:100\n",
    "  add_edge!(G, 1, i);\n",
    "end\n",
    "plot(G, curves=false)"
   ]
  },
  {
   "cell_type": "markdown",
   "id": "b4c7581b",
   "metadata": {},
   "source": [
    "### G.4.2 Distributions.jl\n",
    "\n",
    "We use the Distributions.jl package (version 0.24) to represent, fit, and sample from probability distributions:\n"
   ]
  },
  {
   "cell_type": "code",
   "execution_count": 189,
   "id": "c25df1d9",
   "metadata": {},
   "outputs": [],
   "source": [
    "using Distributions\n",
    "using StatsPlots"
   ]
  },
  {
   "cell_type": "code",
   "execution_count": 190,
   "id": "133a6bed",
   "metadata": {},
   "outputs": [
    {
     "data": {
      "text/plain": [
       "Categorical{Float64, Vector{Float64}}(support=Base.OneTo(3), p=[0.3, 0.5, 0.2])"
      ]
     },
     "execution_count": 190,
     "metadata": {},
     "output_type": "execute_result"
    }
   ],
   "source": [
    "dist = Categorical([0.3, 0.5, 0.2]) # create a categorical distribution"
   ]
  },
  {
   "cell_type": "code",
   "execution_count": 191,
   "id": "58666034",
   "metadata": {},
   "outputs": [
    {
     "data": {
      "text/plain": [
       "2"
      ]
     },
     "execution_count": 191,
     "metadata": {},
     "output_type": "execute_result"
    }
   ],
   "source": [
    "data = rand(dist)  # generate a sample"
   ]
  },
  {
   "cell_type": "code",
   "execution_count": 192,
   "id": "c275e140",
   "metadata": {},
   "outputs": [],
   "source": [
    "data = rand(dist, 20);  # generate 20 samples"
   ]
  },
  {
   "cell_type": "code",
   "execution_count": 193,
   "id": "65548b39",
   "metadata": {},
   "outputs": [
    {
     "data": {
      "image/svg+xml": [
       "<?xml version=\"1.0\" encoding=\"utf-8\"?>\n",
       "<svg xmlns=\"http://www.w3.org/2000/svg\" xmlns:xlink=\"http://www.w3.org/1999/xlink\" width=\"500\" height=\"500\" viewBox=\"0 0 2000 2000\">\n",
       "<defs>\n",
       "  <clipPath id=\"clip040\">\n",
       "    <rect x=\"0\" y=\"0\" width=\"2000\" height=\"2000\"/>\n",
       "  </clipPath>\n",
       "</defs>\n",
       "<path clip-path=\"url(#clip040)\" d=\"\n",
       "M0 2000 L2000 2000 L2000 0 L0 0  Z\n",
       "  \" fill=\"#ffffff\" fill-rule=\"evenodd\" fill-opacity=\"1\"/>\n",
       "<defs>\n",
       "  <clipPath id=\"clip041\">\n",
       "    <rect x=\"400\" y=\"200\" width=\"1401\" height=\"1401\"/>\n",
       "  </clipPath>\n",
       "</defs>\n",
       "<path clip-path=\"url(#clip040)\" d=\"\n",
       "M151.765 1865.17 L1952.76 1865.17 L1952.76 47.2441 L151.765 47.2441  Z\n",
       "  \" fill=\"#ffffff\" fill-rule=\"evenodd\" fill-opacity=\"1\"/>\n",
       "<defs>\n",
       "  <clipPath id=\"clip042\">\n",
       "    <rect x=\"151\" y=\"47\" width=\"1802\" height=\"1819\"/>\n",
       "  </clipPath>\n",
       "</defs>\n",
       "<polyline clip-path=\"url(#clip042)\" style=\"stroke:#000000; stroke-linecap:butt; stroke-linejoin:round; stroke-width:2; stroke-opacity:0.1; fill:none\" points=\"\n",
       "  560.431,1865.17 560.431,47.2441 \n",
       "  \"/>\n",
       "<polyline clip-path=\"url(#clip042)\" style=\"stroke:#000000; stroke-linecap:butt; stroke-linejoin:round; stroke-width:2; stroke-opacity:0.1; fill:none\" points=\"\n",
       "  1007.55,1865.17 1007.55,47.2441 \n",
       "  \"/>\n",
       "<polyline clip-path=\"url(#clip042)\" style=\"stroke:#000000; stroke-linecap:butt; stroke-linejoin:round; stroke-width:2; stroke-opacity:0.1; fill:none\" points=\"\n",
       "  1454.67,1865.17 1454.67,47.2441 \n",
       "  \"/>\n",
       "<polyline clip-path=\"url(#clip042)\" style=\"stroke:#000000; stroke-linecap:butt; stroke-linejoin:round; stroke-width:2; stroke-opacity:0.1; fill:none\" points=\"\n",
       "  1901.78,1865.17 1901.78,47.2441 \n",
       "  \"/>\n",
       "<polyline clip-path=\"url(#clip040)\" style=\"stroke:#000000; stroke-linecap:butt; stroke-linejoin:round; stroke-width:4; stroke-opacity:1; fill:none\" points=\"\n",
       "  151.765,1865.17 1952.76,1865.17 \n",
       "  \"/>\n",
       "<polyline clip-path=\"url(#clip040)\" style=\"stroke:#000000; stroke-linecap:butt; stroke-linejoin:round; stroke-width:4; stroke-opacity:1; fill:none\" points=\"\n",
       "  560.431,1865.17 560.431,1846.27 \n",
       "  \"/>\n",
       "<polyline clip-path=\"url(#clip040)\" style=\"stroke:#000000; stroke-linecap:butt; stroke-linejoin:round; stroke-width:4; stroke-opacity:1; fill:none\" points=\"\n",
       "  1007.55,1865.17 1007.55,1846.27 \n",
       "  \"/>\n",
       "<polyline clip-path=\"url(#clip040)\" style=\"stroke:#000000; stroke-linecap:butt; stroke-linejoin:round; stroke-width:4; stroke-opacity:1; fill:none\" points=\"\n",
       "  1454.67,1865.17 1454.67,1846.27 \n",
       "  \"/>\n",
       "<polyline clip-path=\"url(#clip040)\" style=\"stroke:#000000; stroke-linecap:butt; stroke-linejoin:round; stroke-width:4; stroke-opacity:1; fill:none\" points=\"\n",
       "  1901.78,1865.17 1901.78,1846.27 \n",
       "  \"/>\n",
       "<path clip-path=\"url(#clip040)\" d=\"M550.709 1889.81 L569.065 1889.81 L569.065 1893.74 L554.991 1893.74 L554.991 1902.22 Q556.009 1901.87 557.028 1901.71 Q558.046 1901.52 559.065 1901.52 Q564.852 1901.52 568.232 1904.69 Q571.611 1907.86 571.611 1913.28 Q571.611 1918.86 568.139 1921.96 Q564.667 1925.04 558.347 1925.04 Q556.171 1925.04 553.903 1924.67 Q551.658 1924.3 549.25 1923.56 L549.25 1918.86 Q551.334 1919.99 553.556 1920.55 Q555.778 1921.1 558.255 1921.1 Q562.259 1921.1 564.597 1919 Q566.935 1916.89 566.935 1913.28 Q566.935 1909.67 564.597 1907.56 Q562.259 1905.46 558.255 1905.46 Q556.38 1905.46 554.505 1905.87 Q552.653 1906.29 550.709 1907.17 L550.709 1889.81 Z\" fill=\"#000000\" fill-rule=\"evenodd\" fill-opacity=\"1\" /><path clip-path=\"url(#clip040)\" d=\"M982.236 1920.43 L989.875 1920.43 L989.875 1894.07 L981.565 1895.73 L981.565 1891.47 L989.829 1889.81 L994.505 1889.81 L994.505 1920.43 L1002.14 1920.43 L1002.14 1924.37 L982.236 1924.37 L982.236 1920.43 Z\" fill=\"#000000\" fill-rule=\"evenodd\" fill-opacity=\"1\" /><path clip-path=\"url(#clip040)\" d=\"M1021.59 1892.89 Q1017.98 1892.89 1016.15 1896.45 Q1014.34 1899.99 1014.34 1907.12 Q1014.34 1914.23 1016.15 1917.79 Q1017.98 1921.34 1021.59 1921.34 Q1025.22 1921.34 1027.03 1917.79 Q1028.86 1914.23 1028.86 1907.12 Q1028.86 1899.99 1027.03 1896.45 Q1025.22 1892.89 1021.59 1892.89 M1021.59 1889.18 Q1027.4 1889.18 1030.45 1893.79 Q1033.53 1898.37 1033.53 1907.12 Q1033.53 1915.85 1030.45 1920.46 Q1027.4 1925.04 1021.59 1925.04 Q1015.78 1925.04 1012.7 1920.46 Q1009.64 1915.85 1009.64 1907.12 Q1009.64 1898.37 1012.7 1893.79 Q1015.78 1889.18 1021.59 1889.18 Z\" fill=\"#000000\" fill-rule=\"evenodd\" fill-opacity=\"1\" /><path clip-path=\"url(#clip040)\" d=\"M1429.85 1920.43 L1437.49 1920.43 L1437.49 1894.07 L1429.18 1895.73 L1429.18 1891.47 L1437.44 1889.81 L1442.12 1889.81 L1442.12 1920.43 L1449.76 1920.43 L1449.76 1924.37 L1429.85 1924.37 L1429.85 1920.43 Z\" fill=\"#000000\" fill-rule=\"evenodd\" fill-opacity=\"1\" /><path clip-path=\"url(#clip040)\" d=\"M1459.25 1889.81 L1477.61 1889.81 L1477.61 1893.74 L1463.53 1893.74 L1463.53 1902.22 Q1464.55 1901.87 1465.57 1901.71 Q1466.59 1901.52 1467.61 1901.52 Q1473.39 1901.52 1476.77 1904.69 Q1480.15 1907.86 1480.15 1913.28 Q1480.15 1918.86 1476.68 1921.96 Q1473.21 1925.04 1466.89 1925.04 Q1464.71 1925.04 1462.44 1924.67 Q1460.2 1924.3 1457.79 1923.56 L1457.79 1918.86 Q1459.87 1919.99 1462.1 1920.55 Q1464.32 1921.1 1466.8 1921.1 Q1470.8 1921.1 1473.14 1919 Q1475.48 1916.89 1475.48 1913.28 Q1475.48 1909.67 1473.14 1907.56 Q1470.8 1905.46 1466.8 1905.46 Q1464.92 1905.46 1463.05 1905.87 Q1461.19 1906.29 1459.25 1907.17 L1459.25 1889.81 Z\" fill=\"#000000\" fill-rule=\"evenodd\" fill-opacity=\"1\" /><path clip-path=\"url(#clip040)\" d=\"M1880.56 1920.43 L1896.88 1920.43 L1896.88 1924.37 L1874.93 1924.37 L1874.93 1920.43 Q1877.59 1917.68 1882.18 1913.05 Q1886.78 1908.4 1887.97 1907.05 Q1890.21 1904.53 1891.09 1902.79 Q1891.99 1901.03 1891.99 1899.34 Q1891.99 1896.59 1890.05 1894.85 Q1888.13 1893.12 1885.03 1893.12 Q1882.83 1893.12 1880.37 1893.88 Q1877.94 1894.65 1875.16 1896.2 L1875.16 1891.47 Q1877.99 1890.34 1880.44 1889.76 Q1882.9 1889.18 1884.93 1889.18 Q1890.3 1889.18 1893.5 1891.87 Q1896.69 1894.55 1896.69 1899.04 Q1896.69 1901.17 1895.88 1903.09 Q1895.09 1904.99 1892.99 1907.59 Q1892.41 1908.26 1889.31 1911.47 Q1886.21 1914.67 1880.56 1920.43 Z\" fill=\"#000000\" fill-rule=\"evenodd\" fill-opacity=\"1\" /><path clip-path=\"url(#clip040)\" d=\"M1916.69 1892.89 Q1913.08 1892.89 1911.25 1896.45 Q1909.45 1899.99 1909.45 1907.12 Q1909.45 1914.23 1911.25 1917.79 Q1913.08 1921.34 1916.69 1921.34 Q1920.33 1921.34 1922.13 1917.79 Q1923.96 1914.23 1923.96 1907.12 Q1923.96 1899.99 1922.13 1896.45 Q1920.33 1892.89 1916.69 1892.89 M1916.69 1889.18 Q1922.5 1889.18 1925.56 1893.79 Q1928.64 1898.37 1928.64 1907.12 Q1928.64 1915.85 1925.56 1920.46 Q1922.5 1925.04 1916.69 1925.04 Q1910.88 1925.04 1907.8 1920.46 Q1904.75 1915.85 1904.75 1907.12 Q1904.75 1898.37 1907.8 1893.79 Q1910.88 1889.18 1916.69 1889.18 Z\" fill=\"#000000\" fill-rule=\"evenodd\" fill-opacity=\"1\" /><polyline clip-path=\"url(#clip042)\" style=\"stroke:#000000; stroke-linecap:butt; stroke-linejoin:round; stroke-width:2; stroke-opacity:0.1; fill:none\" points=\"\n",
       "  151.765,1813.72 1952.76,1813.72 \n",
       "  \"/>\n",
       "<polyline clip-path=\"url(#clip042)\" style=\"stroke:#000000; stroke-linecap:butt; stroke-linejoin:round; stroke-width:2; stroke-opacity:0.1; fill:none\" points=\"\n",
       "  151.765,1384.96 1952.76,1384.96 \n",
       "  \"/>\n",
       "<polyline clip-path=\"url(#clip042)\" style=\"stroke:#000000; stroke-linecap:butt; stroke-linejoin:round; stroke-width:2; stroke-opacity:0.1; fill:none\" points=\"\n",
       "  151.765,956.206 1952.76,956.206 \n",
       "  \"/>\n",
       "<polyline clip-path=\"url(#clip042)\" style=\"stroke:#000000; stroke-linecap:butt; stroke-linejoin:round; stroke-width:2; stroke-opacity:0.1; fill:none\" points=\"\n",
       "  151.765,527.45 1952.76,527.45 \n",
       "  \"/>\n",
       "<polyline clip-path=\"url(#clip042)\" style=\"stroke:#000000; stroke-linecap:butt; stroke-linejoin:round; stroke-width:2; stroke-opacity:0.1; fill:none\" points=\"\n",
       "  151.765,98.6948 1952.76,98.6948 \n",
       "  \"/>\n",
       "<polyline clip-path=\"url(#clip040)\" style=\"stroke:#000000; stroke-linecap:butt; stroke-linejoin:round; stroke-width:4; stroke-opacity:1; fill:none\" points=\"\n",
       "  151.765,1865.17 151.765,47.2441 \n",
       "  \"/>\n",
       "<polyline clip-path=\"url(#clip040)\" style=\"stroke:#000000; stroke-linecap:butt; stroke-linejoin:round; stroke-width:4; stroke-opacity:1; fill:none\" points=\"\n",
       "  151.765,1813.72 170.663,1813.72 \n",
       "  \"/>\n",
       "<polyline clip-path=\"url(#clip040)\" style=\"stroke:#000000; stroke-linecap:butt; stroke-linejoin:round; stroke-width:4; stroke-opacity:1; fill:none\" points=\"\n",
       "  151.765,1384.96 170.663,1384.96 \n",
       "  \"/>\n",
       "<polyline clip-path=\"url(#clip040)\" style=\"stroke:#000000; stroke-linecap:butt; stroke-linejoin:round; stroke-width:4; stroke-opacity:1; fill:none\" points=\"\n",
       "  151.765,956.206 170.663,956.206 \n",
       "  \"/>\n",
       "<polyline clip-path=\"url(#clip040)\" style=\"stroke:#000000; stroke-linecap:butt; stroke-linejoin:round; stroke-width:4; stroke-opacity:1; fill:none\" points=\"\n",
       "  151.765,527.45 170.663,527.45 \n",
       "  \"/>\n",
       "<polyline clip-path=\"url(#clip040)\" style=\"stroke:#000000; stroke-linecap:butt; stroke-linejoin:round; stroke-width:4; stroke-opacity:1; fill:none\" points=\"\n",
       "  151.765,98.6948 170.663,98.6948 \n",
       "  \"/>\n",
       "<path clip-path=\"url(#clip040)\" d=\"M55.3995 1827.06 L63.0384 1827.06 L63.0384 1800.7 L54.7282 1802.36 L54.7282 1798.1 L62.9921 1796.44 L67.668 1796.44 L67.668 1827.06 L75.3068 1827.06 L75.3068 1831 L55.3995 1831 L55.3995 1827.06 Z\" fill=\"#000000\" fill-rule=\"evenodd\" fill-opacity=\"1\" /><path clip-path=\"url(#clip040)\" d=\"M84.7512 1825.12 L89.6354 1825.12 L89.6354 1831 L84.7512 1831 L84.7512 1825.12 Z\" fill=\"#000000\" fill-rule=\"evenodd\" fill-opacity=\"1\" /><path clip-path=\"url(#clip040)\" d=\"M109.821 1799.52 Q106.209 1799.52 104.381 1803.08 Q102.575 1806.62 102.575 1813.75 Q102.575 1820.86 104.381 1824.42 Q106.209 1827.96 109.821 1827.96 Q113.455 1827.96 115.26 1824.42 Q117.089 1820.86 117.089 1813.75 Q117.089 1806.62 115.26 1803.08 Q113.455 1799.52 109.821 1799.52 M109.821 1795.81 Q115.631 1795.81 118.686 1800.42 Q121.765 1805 121.765 1813.75 Q121.765 1822.48 118.686 1827.09 Q115.631 1831.67 109.821 1831.67 Q104.01 1831.67 100.932 1827.09 Q97.8761 1822.48 97.8761 1813.75 Q97.8761 1805 100.932 1800.42 Q104.01 1795.81 109.821 1795.81 Z\" fill=\"#000000\" fill-rule=\"evenodd\" fill-opacity=\"1\" /><path clip-path=\"url(#clip040)\" d=\"M56.3949 1398.31 L64.0337 1398.31 L64.0337 1371.94 L55.7236 1373.61 L55.7236 1369.35 L63.9874 1367.68 L68.6633 1367.68 L68.6633 1398.31 L76.3022 1398.31 L76.3022 1402.24 L56.3949 1402.24 L56.3949 1398.31 Z\" fill=\"#000000\" fill-rule=\"evenodd\" fill-opacity=\"1\" /><path clip-path=\"url(#clip040)\" d=\"M85.7466 1396.36 L90.6308 1396.36 L90.6308 1402.24 L85.7466 1402.24 L85.7466 1396.36 Z\" fill=\"#000000\" fill-rule=\"evenodd\" fill-opacity=\"1\" /><path clip-path=\"url(#clip040)\" d=\"M100.862 1367.68 L119.219 1367.68 L119.219 1371.62 L105.145 1371.62 L105.145 1380.09 Q106.163 1379.74 107.182 1379.58 Q108.2 1379.39 109.219 1379.39 Q115.006 1379.39 118.385 1382.57 Q121.765 1385.74 121.765 1391.15 Q121.765 1396.73 118.293 1399.83 Q114.82 1402.91 108.501 1402.91 Q106.325 1402.91 104.057 1402.54 Q101.811 1402.17 99.4039 1401.43 L99.4039 1396.73 Q101.487 1397.87 103.709 1398.42 Q105.932 1398.98 108.408 1398.98 Q112.413 1398.98 114.751 1396.87 Q117.089 1394.76 117.089 1391.15 Q117.089 1387.54 114.751 1385.44 Q112.413 1383.33 108.408 1383.33 Q106.534 1383.33 104.659 1383.75 Q102.807 1384.16 100.862 1385.04 L100.862 1367.68 Z\" fill=\"#000000\" fill-rule=\"evenodd\" fill-opacity=\"1\" /><path clip-path=\"url(#clip040)\" d=\"M58.6171 969.551 L74.9365 969.551 L74.9365 973.486 L52.9921 973.486 L52.9921 969.551 Q55.6541 966.796 60.2375 962.167 Q64.8439 957.514 66.0245 956.171 Q68.2698 953.648 69.1494 951.912 Q70.0522 950.153 70.0522 948.463 Q70.0522 945.708 68.1078 943.972 Q66.1865 942.236 63.0847 942.236 Q60.8856 942.236 58.4319 943 Q56.0014 943.764 53.2236 945.315 L53.2236 940.593 Q56.0477 939.458 58.5014 938.88 Q60.955 938.301 62.9921 938.301 Q68.3624 938.301 71.5568 940.986 Q74.7513 943.671 74.7513 948.162 Q74.7513 950.292 73.9411 952.213 Q73.1541 954.111 71.0476 956.704 Q70.4689 957.375 67.367 960.593 Q64.2652 963.787 58.6171 969.551 Z\" fill=\"#000000\" fill-rule=\"evenodd\" fill-opacity=\"1\" /><path clip-path=\"url(#clip040)\" d=\"M84.7512 967.606 L89.6354 967.606 L89.6354 973.486 L84.7512 973.486 L84.7512 967.606 Z\" fill=\"#000000\" fill-rule=\"evenodd\" fill-opacity=\"1\" /><path clip-path=\"url(#clip040)\" d=\"M109.821 942.005 Q106.209 942.005 104.381 945.569 Q102.575 949.111 102.575 956.241 Q102.575 963.347 104.381 966.912 Q106.209 970.454 109.821 970.454 Q113.455 970.454 115.26 966.912 Q117.089 963.347 117.089 956.241 Q117.089 949.111 115.26 945.569 Q113.455 942.005 109.821 942.005 M109.821 938.301 Q115.631 938.301 118.686 942.907 Q121.765 947.491 121.765 956.241 Q121.765 964.968 118.686 969.574 Q115.631 974.157 109.821 974.157 Q104.01 974.157 100.932 969.574 Q97.8761 964.968 97.8761 956.241 Q97.8761 947.491 100.932 942.907 Q104.01 938.301 109.821 938.301 Z\" fill=\"#000000\" fill-rule=\"evenodd\" fill-opacity=\"1\" /><path clip-path=\"url(#clip040)\" d=\"M59.6125 540.795 L75.9318 540.795 L75.9318 544.73 L53.9875 544.73 L53.9875 540.795 Q56.6495 538.041 61.2328 533.411 Q65.8393 528.758 67.0198 527.416 Q69.2652 524.893 70.1448 523.156 Q71.0476 521.397 71.0476 519.707 Q71.0476 516.953 69.1032 515.217 Q67.1819 513.481 64.08 513.481 Q61.881 513.481 59.4273 514.244 Q56.9967 515.008 54.219 516.559 L54.219 511.837 Q57.043 510.703 59.4967 510.124 Q61.9504 509.545 63.9874 509.545 Q69.3578 509.545 72.5522 512.231 Q75.7466 514.916 75.7466 519.406 Q75.7466 521.536 74.9365 523.457 Q74.1494 525.355 72.0429 527.948 Q71.4642 528.619 68.3624 531.837 Q65.2606 535.031 59.6125 540.795 Z\" fill=\"#000000\" fill-rule=\"evenodd\" fill-opacity=\"1\" /><path clip-path=\"url(#clip040)\" d=\"M85.7466 538.851 L90.6308 538.851 L90.6308 544.73 L85.7466 544.73 L85.7466 538.851 Z\" fill=\"#000000\" fill-rule=\"evenodd\" fill-opacity=\"1\" /><path clip-path=\"url(#clip040)\" d=\"M100.862 510.17 L119.219 510.17 L119.219 514.106 L105.145 514.106 L105.145 522.578 Q106.163 522.23 107.182 522.068 Q108.2 521.883 109.219 521.883 Q115.006 521.883 118.385 525.055 Q121.765 528.226 121.765 533.642 Q121.765 539.221 118.293 542.323 Q114.82 545.402 108.501 545.402 Q106.325 545.402 104.057 545.031 Q101.811 544.661 99.4039 543.92 L99.4039 539.221 Q101.487 540.355 103.709 540.911 Q105.932 541.467 108.408 541.467 Q112.413 541.467 114.751 539.36 Q117.089 537.254 117.089 533.642 Q117.089 530.031 114.751 527.925 Q112.413 525.818 108.408 525.818 Q106.534 525.818 104.659 526.235 Q102.807 526.652 100.862 527.531 L100.862 510.17 Z\" fill=\"#000000\" fill-rule=\"evenodd\" fill-opacity=\"1\" /><path clip-path=\"url(#clip040)\" d=\"M68.7559 97.3406 Q72.1124 98.0582 73.9874 100.327 Q75.8855 102.595 75.8855 105.929 Q75.8855 111.044 72.367 113.845 Q68.8485 116.646 62.3671 116.646 Q60.1912 116.646 57.8764 116.206 Q55.5847 115.79 53.131 114.933 L53.131 110.419 Q55.0754 111.553 57.3903 112.132 Q59.7051 112.711 62.2282 112.711 Q66.6263 112.711 68.918 110.975 Q71.2328 109.239 71.2328 105.929 Q71.2328 102.873 69.08 101.16 Q66.9504 99.4239 63.131 99.4239 L59.1032 99.4239 L59.1032 95.5814 L63.3161 95.5814 Q66.7652 95.5814 68.5939 94.2156 Q70.4226 92.8267 70.4226 90.2342 Q70.4226 87.5721 68.5245 86.1601 Q66.6495 84.7249 63.131 84.7249 Q61.2097 84.7249 59.0106 85.1416 Q56.8115 85.5583 54.1727 86.4379 L54.1727 82.2712 Q56.8347 81.5305 59.1495 81.1601 Q61.4875 80.7898 63.5476 80.7898 Q68.8717 80.7898 71.9735 83.2203 Q75.0753 85.6277 75.0753 89.7481 Q75.0753 92.6184 73.4318 94.6091 Q71.7883 96.5767 68.7559 97.3406 Z\" fill=\"#000000\" fill-rule=\"evenodd\" fill-opacity=\"1\" /><path clip-path=\"url(#clip040)\" d=\"M84.7512 110.095 L89.6354 110.095 L89.6354 115.975 L84.7512 115.975 L84.7512 110.095 Z\" fill=\"#000000\" fill-rule=\"evenodd\" fill-opacity=\"1\" /><path clip-path=\"url(#clip040)\" d=\"M109.821 84.4935 Q106.209 84.4935 104.381 88.0583 Q102.575 91.5999 102.575 98.7295 Q102.575 105.836 104.381 109.401 Q106.209 112.942 109.821 112.942 Q113.455 112.942 115.26 109.401 Q117.089 105.836 117.089 98.7295 Q117.089 91.5999 115.26 88.0583 Q113.455 84.4935 109.821 84.4935 M109.821 80.7898 Q115.631 80.7898 118.686 85.3962 Q121.765 89.9795 121.765 98.7295 Q121.765 107.456 118.686 112.063 Q115.631 116.646 109.821 116.646 Q104.01 116.646 100.932 112.063 Q97.8761 107.456 97.8761 98.7295 Q97.8761 89.9795 100.932 85.3962 Q104.01 80.7898 109.821 80.7898 Z\" fill=\"#000000\" fill-rule=\"evenodd\" fill-opacity=\"1\" /><polyline clip-path=\"url(#clip042)\" style=\"stroke:#009af9; stroke-linecap:butt; stroke-linejoin:round; stroke-width:4; stroke-opacity:1; fill:none\" points=\"\n",
       "  202.736,98.6948 292.16,956.206 381.584,956.206 471.007,1813.72 560.431,956.206 649.854,956.206 739.278,1813.72 828.701,1813.72 918.125,956.206 1007.55,1813.72 \n",
       "  1096.97,956.206 1186.4,1813.72 1275.82,98.6948 1365.24,98.6948 1454.67,1813.72 1544.09,1813.72 1633.51,956.206 1722.94,1813.72 1812.36,98.6948 1901.78,1813.72 \n",
       "  \n",
       "  \"/>\n",
       "<path clip-path=\"url(#clip040)\" d=\"\n",
       "M1640.18 211.522 L1892.72 211.522 L1892.72 107.842 L1640.18 107.842  Z\n",
       "  \" fill=\"#ffffff\" fill-rule=\"evenodd\" fill-opacity=\"1\"/>\n",
       "<polyline clip-path=\"url(#clip040)\" style=\"stroke:#000000; stroke-linecap:butt; stroke-linejoin:round; stroke-width:4; stroke-opacity:1; fill:none\" points=\"\n",
       "  1640.18,211.522 1892.72,211.522 1892.72,107.842 1640.18,107.842 1640.18,211.522 \n",
       "  \"/>\n",
       "<polyline clip-path=\"url(#clip040)\" style=\"stroke:#009af9; stroke-linecap:butt; stroke-linejoin:round; stroke-width:4; stroke-opacity:1; fill:none\" points=\"\n",
       "  1660.19,159.682 1780.26,159.682 \n",
       "  \"/>\n",
       "<path clip-path=\"url(#clip040)\" d=\"M1814.11 179.369 Q1812.31 183.999 1810.59 185.411 Q1808.88 186.823 1806.01 186.823 L1802.61 186.823 L1802.61 183.258 L1805.11 183.258 Q1806.87 183.258 1807.84 182.424 Q1808.81 181.591 1809.99 178.489 L1810.76 176.545 L1800.27 151.036 L1804.78 151.036 L1812.89 171.313 L1820.99 151.036 L1825.5 151.036 L1814.11 179.369 Z\" fill=\"#000000\" fill-rule=\"evenodd\" fill-opacity=\"1\" /><path clip-path=\"url(#clip040)\" d=\"M1832.79 173.026 L1840.43 173.026 L1840.43 146.661 L1832.12 148.327 L1832.12 144.068 L1840.39 142.402 L1845.06 142.402 L1845.06 173.026 L1852.7 173.026 L1852.7 176.962 L1832.79 176.962 L1832.79 173.026 Z\" fill=\"#000000\" fill-rule=\"evenodd\" fill-opacity=\"1\" /></svg>\n"
      ]
     },
     "execution_count": 193,
     "metadata": {},
     "output_type": "execute_result"
    }
   ],
   "source": [
    "plot(data)"
   ]
  },
  {
   "cell_type": "code",
   "execution_count": 194,
   "id": "850e5f81",
   "metadata": {},
   "outputs": [
    {
     "data": {
      "image/svg+xml": [
       "<?xml version=\"1.0\" encoding=\"utf-8\"?>\n",
       "<svg xmlns=\"http://www.w3.org/2000/svg\" xmlns:xlink=\"http://www.w3.org/1999/xlink\" width=\"500\" height=\"500\" viewBox=\"0 0 2000 2000\">\n",
       "<defs>\n",
       "  <clipPath id=\"clip080\">\n",
       "    <rect x=\"0\" y=\"0\" width=\"2000\" height=\"2000\"/>\n",
       "  </clipPath>\n",
       "</defs>\n",
       "<path clip-path=\"url(#clip080)\" d=\"\n",
       "M0 2000 L2000 2000 L2000 0 L0 0  Z\n",
       "  \" fill=\"#ffffff\" fill-rule=\"evenodd\" fill-opacity=\"1\"/>\n",
       "<defs>\n",
       "  <clipPath id=\"clip081\">\n",
       "    <rect x=\"400\" y=\"200\" width=\"1401\" height=\"1401\"/>\n",
       "  </clipPath>\n",
       "</defs>\n",
       "<path clip-path=\"url(#clip080)\" d=\"\n",
       "M152.598 1865.17 L1952.76 1865.17 L1952.76 47.2441 L152.598 47.2441  Z\n",
       "  \" fill=\"#ffffff\" fill-rule=\"evenodd\" fill-opacity=\"1\"/>\n",
       "<defs>\n",
       "  <clipPath id=\"clip082\">\n",
       "    <rect x=\"152\" y=\"47\" width=\"1801\" height=\"1819\"/>\n",
       "  </clipPath>\n",
       "</defs>\n",
       "<polyline clip-path=\"url(#clip082)\" style=\"stroke:#000000; stroke-linecap:butt; stroke-linejoin:round; stroke-width:2; stroke-opacity:0.1; fill:none\" points=\"\n",
       "  203.546,1865.17 203.546,47.2441 \n",
       "  \"/>\n",
       "<polyline clip-path=\"url(#clip082)\" style=\"stroke:#000000; stroke-linecap:butt; stroke-linejoin:round; stroke-width:2; stroke-opacity:0.1; fill:none\" points=\"\n",
       "  628.112,1865.17 628.112,47.2441 \n",
       "  \"/>\n",
       "<polyline clip-path=\"url(#clip082)\" style=\"stroke:#000000; stroke-linecap:butt; stroke-linejoin:round; stroke-width:2; stroke-opacity:0.1; fill:none\" points=\"\n",
       "  1052.68,1865.17 1052.68,47.2441 \n",
       "  \"/>\n",
       "<polyline clip-path=\"url(#clip082)\" style=\"stroke:#000000; stroke-linecap:butt; stroke-linejoin:round; stroke-width:2; stroke-opacity:0.1; fill:none\" points=\"\n",
       "  1477.24,1865.17 1477.24,47.2441 \n",
       "  \"/>\n",
       "<polyline clip-path=\"url(#clip082)\" style=\"stroke:#000000; stroke-linecap:butt; stroke-linejoin:round; stroke-width:2; stroke-opacity:0.1; fill:none\" points=\"\n",
       "  1901.81,1865.17 1901.81,47.2441 \n",
       "  \"/>\n",
       "<polyline clip-path=\"url(#clip080)\" style=\"stroke:#000000; stroke-linecap:butt; stroke-linejoin:round; stroke-width:4; stroke-opacity:1; fill:none\" points=\"\n",
       "  152.598,1865.17 1952.76,1865.17 \n",
       "  \"/>\n",
       "<polyline clip-path=\"url(#clip080)\" style=\"stroke:#000000; stroke-linecap:butt; stroke-linejoin:round; stroke-width:4; stroke-opacity:1; fill:none\" points=\"\n",
       "  203.546,1865.17 203.546,1846.27 \n",
       "  \"/>\n",
       "<polyline clip-path=\"url(#clip080)\" style=\"stroke:#000000; stroke-linecap:butt; stroke-linejoin:round; stroke-width:4; stroke-opacity:1; fill:none\" points=\"\n",
       "  628.112,1865.17 628.112,1846.27 \n",
       "  \"/>\n",
       "<polyline clip-path=\"url(#clip080)\" style=\"stroke:#000000; stroke-linecap:butt; stroke-linejoin:round; stroke-width:4; stroke-opacity:1; fill:none\" points=\"\n",
       "  1052.68,1865.17 1052.68,1846.27 \n",
       "  \"/>\n",
       "<polyline clip-path=\"url(#clip080)\" style=\"stroke:#000000; stroke-linecap:butt; stroke-linejoin:round; stroke-width:4; stroke-opacity:1; fill:none\" points=\"\n",
       "  1477.24,1865.17 1477.24,1846.27 \n",
       "  \"/>\n",
       "<polyline clip-path=\"url(#clip080)\" style=\"stroke:#000000; stroke-linecap:butt; stroke-linejoin:round; stroke-width:4; stroke-opacity:1; fill:none\" points=\"\n",
       "  1901.81,1865.17 1901.81,1846.27 \n",
       "  \"/>\n",
       "<path clip-path=\"url(#clip080)\" d=\"M170.699 1920.43 L178.338 1920.43 L178.338 1894.07 L170.028 1895.73 L170.028 1891.47 L178.292 1889.81 L182.967 1889.81 L182.967 1920.43 L190.606 1920.43 L190.606 1924.37 L170.699 1924.37 L170.699 1920.43 Z\" fill=\"#000000\" fill-rule=\"evenodd\" fill-opacity=\"1\" /><path clip-path=\"url(#clip080)\" d=\"M200.051 1918.49 L204.935 1918.49 L204.935 1924.37 L200.051 1924.37 L200.051 1918.49 Z\" fill=\"#000000\" fill-rule=\"evenodd\" fill-opacity=\"1\" /><path clip-path=\"url(#clip080)\" d=\"M225.12 1892.89 Q221.509 1892.89 219.68 1896.45 Q217.875 1899.99 217.875 1907.12 Q217.875 1914.23 219.68 1917.79 Q221.509 1921.34 225.12 1921.34 Q228.754 1921.34 230.56 1917.79 Q232.389 1914.23 232.389 1907.12 Q232.389 1899.99 230.56 1896.45 Q228.754 1892.89 225.12 1892.89 M225.12 1889.18 Q230.93 1889.18 233.986 1893.79 Q237.064 1898.37 237.064 1907.12 Q237.064 1915.85 233.986 1920.46 Q230.93 1925.04 225.12 1925.04 Q219.31 1925.04 216.231 1920.46 Q213.176 1915.85 213.176 1907.12 Q213.176 1898.37 216.231 1893.79 Q219.31 1889.18 225.12 1889.18 Z\" fill=\"#000000\" fill-rule=\"evenodd\" fill-opacity=\"1\" /><path clip-path=\"url(#clip080)\" d=\"M595.762 1920.43 L603.401 1920.43 L603.401 1894.07 L595.091 1895.73 L595.091 1891.47 L603.355 1889.81 L608.031 1889.81 L608.031 1920.43 L615.67 1920.43 L615.67 1924.37 L595.762 1924.37 L595.762 1920.43 Z\" fill=\"#000000\" fill-rule=\"evenodd\" fill-opacity=\"1\" /><path clip-path=\"url(#clip080)\" d=\"M625.114 1918.49 L629.998 1918.49 L629.998 1924.37 L625.114 1924.37 L625.114 1918.49 Z\" fill=\"#000000\" fill-rule=\"evenodd\" fill-opacity=\"1\" /><path clip-path=\"url(#clip080)\" d=\"M640.23 1889.81 L658.586 1889.81 L658.586 1893.74 L644.512 1893.74 L644.512 1902.22 Q645.53 1901.87 646.549 1901.71 Q647.567 1901.52 648.586 1901.52 Q654.373 1901.52 657.753 1904.69 Q661.132 1907.86 661.132 1913.28 Q661.132 1918.86 657.66 1921.96 Q654.188 1925.04 647.868 1925.04 Q645.693 1925.04 643.424 1924.67 Q641.179 1924.3 638.771 1923.56 L638.771 1918.86 Q640.855 1919.99 643.077 1920.55 Q645.299 1921.1 647.776 1921.1 Q651.78 1921.1 654.118 1919 Q656.456 1916.89 656.456 1913.28 Q656.456 1909.67 654.118 1907.56 Q651.78 1905.46 647.776 1905.46 Q645.901 1905.46 644.026 1905.87 Q642.174 1906.29 640.23 1907.17 L640.23 1889.81 Z\" fill=\"#000000\" fill-rule=\"evenodd\" fill-opacity=\"1\" /><path clip-path=\"url(#clip080)\" d=\"M1023.92 1920.43 L1040.24 1920.43 L1040.24 1924.37 L1018.29 1924.37 L1018.29 1920.43 Q1020.95 1917.68 1025.54 1913.05 Q1030.14 1908.4 1031.32 1907.05 Q1033.57 1904.53 1034.45 1902.79 Q1035.35 1901.03 1035.35 1899.34 Q1035.35 1896.59 1033.41 1894.85 Q1031.49 1893.12 1028.38 1893.12 Q1026.18 1893.12 1023.73 1893.88 Q1021.3 1894.65 1018.52 1896.2 L1018.52 1891.47 Q1021.35 1890.34 1023.8 1889.76 Q1026.25 1889.18 1028.29 1889.18 Q1033.66 1889.18 1036.86 1891.87 Q1040.05 1894.55 1040.05 1899.04 Q1040.05 1901.17 1039.24 1903.09 Q1038.45 1904.99 1036.35 1907.59 Q1035.77 1908.26 1032.67 1911.47 Q1029.56 1914.67 1023.92 1920.43 Z\" fill=\"#000000\" fill-rule=\"evenodd\" fill-opacity=\"1\" /><path clip-path=\"url(#clip080)\" d=\"M1050.05 1918.49 L1054.93 1918.49 L1054.93 1924.37 L1050.05 1924.37 L1050.05 1918.49 Z\" fill=\"#000000\" fill-rule=\"evenodd\" fill-opacity=\"1\" /><path clip-path=\"url(#clip080)\" d=\"M1075.12 1892.89 Q1071.51 1892.89 1069.68 1896.45 Q1067.87 1899.99 1067.87 1907.12 Q1067.87 1914.23 1069.68 1917.79 Q1071.51 1921.34 1075.12 1921.34 Q1078.75 1921.34 1080.56 1917.79 Q1082.39 1914.23 1082.39 1907.12 Q1082.39 1899.99 1080.56 1896.45 Q1078.75 1892.89 1075.12 1892.89 M1075.12 1889.18 Q1080.93 1889.18 1083.98 1893.79 Q1087.06 1898.37 1087.06 1907.12 Q1087.06 1915.85 1083.98 1920.46 Q1080.93 1925.04 1075.12 1925.04 Q1069.31 1925.04 1066.23 1920.46 Q1063.17 1915.85 1063.17 1907.12 Q1063.17 1898.37 1066.23 1893.79 Q1069.31 1889.18 1075.12 1889.18 Z\" fill=\"#000000\" fill-rule=\"evenodd\" fill-opacity=\"1\" /><path clip-path=\"url(#clip080)\" d=\"M1448.98 1920.43 L1465.3 1920.43 L1465.3 1924.37 L1443.35 1924.37 L1443.35 1920.43 Q1446.02 1917.68 1450.6 1913.05 Q1455.21 1908.4 1456.39 1907.05 Q1458.63 1904.53 1459.51 1902.79 Q1460.41 1901.03 1460.41 1899.34 Q1460.41 1896.59 1458.47 1894.85 Q1456.55 1893.12 1453.45 1893.12 Q1451.25 1893.12 1448.79 1893.88 Q1446.36 1894.65 1443.59 1896.2 L1443.59 1891.47 Q1446.41 1890.34 1448.86 1889.76 Q1451.32 1889.18 1453.35 1889.18 Q1458.72 1889.18 1461.92 1891.87 Q1465.11 1894.55 1465.11 1899.04 Q1465.11 1901.17 1464.3 1903.09 Q1463.52 1904.99 1461.41 1907.59 Q1460.83 1908.26 1457.73 1911.47 Q1454.63 1914.67 1448.98 1920.43 Z\" fill=\"#000000\" fill-rule=\"evenodd\" fill-opacity=\"1\" /><path clip-path=\"url(#clip080)\" d=\"M1475.11 1918.49 L1480 1918.49 L1480 1924.37 L1475.11 1924.37 L1475.11 1918.49 Z\" fill=\"#000000\" fill-rule=\"evenodd\" fill-opacity=\"1\" /><path clip-path=\"url(#clip080)\" d=\"M1490.23 1889.81 L1508.58 1889.81 L1508.58 1893.74 L1494.51 1893.74 L1494.51 1902.22 Q1495.53 1901.87 1496.55 1901.71 Q1497.57 1901.52 1498.59 1901.52 Q1504.37 1901.52 1507.75 1904.69 Q1511.13 1907.86 1511.13 1913.28 Q1511.13 1918.86 1507.66 1921.96 Q1504.19 1925.04 1497.87 1925.04 Q1495.69 1925.04 1493.42 1924.67 Q1491.18 1924.3 1488.77 1923.56 L1488.77 1918.86 Q1490.85 1919.99 1493.08 1920.55 Q1495.3 1921.1 1497.77 1921.1 Q1501.78 1921.1 1504.12 1919 Q1506.46 1916.89 1506.46 1913.28 Q1506.46 1909.67 1504.12 1907.56 Q1501.78 1905.46 1497.77 1905.46 Q1495.9 1905.46 1494.02 1905.87 Q1492.17 1906.29 1490.23 1907.17 L1490.23 1889.81 Z\" fill=\"#000000\" fill-rule=\"evenodd\" fill-opacity=\"1\" /><path clip-path=\"url(#clip080)\" d=\"M1883.12 1905.73 Q1886.47 1906.45 1888.35 1908.72 Q1890.25 1910.99 1890.25 1914.32 Q1890.25 1919.44 1886.73 1922.24 Q1883.21 1925.04 1876.73 1925.04 Q1874.55 1925.04 1872.24 1924.6 Q1869.94 1924.18 1867.49 1923.33 L1867.49 1918.81 Q1869.44 1919.95 1871.75 1920.53 Q1874.07 1921.1 1876.59 1921.1 Q1880.99 1921.1 1883.28 1919.37 Q1885.59 1917.63 1885.59 1914.32 Q1885.59 1911.27 1883.44 1909.55 Q1881.31 1907.82 1877.49 1907.82 L1873.46 1907.82 L1873.46 1903.97 L1877.68 1903.97 Q1881.13 1903.97 1882.95 1902.61 Q1884.78 1901.22 1884.78 1898.63 Q1884.78 1895.97 1882.88 1894.55 Q1881.01 1893.12 1877.49 1893.12 Q1875.57 1893.12 1873.37 1893.53 Q1871.17 1893.95 1868.53 1894.83 L1868.53 1890.66 Q1871.19 1889.92 1873.51 1889.55 Q1875.85 1889.18 1877.91 1889.18 Q1883.23 1889.18 1886.33 1891.61 Q1889.44 1894.02 1889.44 1898.14 Q1889.44 1901.01 1887.79 1903 Q1886.15 1904.97 1883.12 1905.73 Z\" fill=\"#000000\" fill-rule=\"evenodd\" fill-opacity=\"1\" /><path clip-path=\"url(#clip080)\" d=\"M1899.11 1918.49 L1904 1918.49 L1904 1924.37 L1899.11 1924.37 L1899.11 1918.49 Z\" fill=\"#000000\" fill-rule=\"evenodd\" fill-opacity=\"1\" /><path clip-path=\"url(#clip080)\" d=\"M1924.18 1892.89 Q1920.57 1892.89 1918.74 1896.45 Q1916.94 1899.99 1916.94 1907.12 Q1916.94 1914.23 1918.74 1917.79 Q1920.57 1921.34 1924.18 1921.34 Q1927.81 1921.34 1929.62 1917.79 Q1931.45 1914.23 1931.45 1907.12 Q1931.45 1899.99 1929.62 1896.45 Q1927.81 1892.89 1924.18 1892.89 M1924.18 1889.18 Q1929.99 1889.18 1933.05 1893.79 Q1936.12 1898.37 1936.12 1907.12 Q1936.12 1915.85 1933.05 1920.46 Q1929.99 1925.04 1924.18 1925.04 Q1918.37 1925.04 1915.29 1920.46 Q1912.24 1915.85 1912.24 1907.12 Q1912.24 1898.37 1915.29 1893.79 Q1918.37 1889.18 1924.18 1889.18 Z\" fill=\"#000000\" fill-rule=\"evenodd\" fill-opacity=\"1\" /><polyline clip-path=\"url(#clip082)\" style=\"stroke:#000000; stroke-linecap:butt; stroke-linejoin:round; stroke-width:2; stroke-opacity:0.1; fill:none\" points=\"\n",
       "  152.598,1813.72 1952.76,1813.72 \n",
       "  \"/>\n",
       "<polyline clip-path=\"url(#clip082)\" style=\"stroke:#000000; stroke-linecap:butt; stroke-linejoin:round; stroke-width:2; stroke-opacity:0.1; fill:none\" points=\"\n",
       "  152.598,1470.71 1952.76,1470.71 \n",
       "  \"/>\n",
       "<polyline clip-path=\"url(#clip082)\" style=\"stroke:#000000; stroke-linecap:butt; stroke-linejoin:round; stroke-width:2; stroke-opacity:0.1; fill:none\" points=\"\n",
       "  152.598,1127.71 1952.76,1127.71 \n",
       "  \"/>\n",
       "<polyline clip-path=\"url(#clip082)\" style=\"stroke:#000000; stroke-linecap:butt; stroke-linejoin:round; stroke-width:2; stroke-opacity:0.1; fill:none\" points=\"\n",
       "  152.598,784.704 1952.76,784.704 \n",
       "  \"/>\n",
       "<polyline clip-path=\"url(#clip082)\" style=\"stroke:#000000; stroke-linecap:butt; stroke-linejoin:round; stroke-width:2; stroke-opacity:0.1; fill:none\" points=\"\n",
       "  152.598,441.699 1952.76,441.699 \n",
       "  \"/>\n",
       "<polyline clip-path=\"url(#clip082)\" style=\"stroke:#000000; stroke-linecap:butt; stroke-linejoin:round; stroke-width:2; stroke-opacity:0.1; fill:none\" points=\"\n",
       "  152.598,98.6948 1952.76,98.6948 \n",
       "  \"/>\n",
       "<polyline clip-path=\"url(#clip080)\" style=\"stroke:#000000; stroke-linecap:butt; stroke-linejoin:round; stroke-width:4; stroke-opacity:1; fill:none\" points=\"\n",
       "  152.598,1865.17 152.598,47.2441 \n",
       "  \"/>\n",
       "<polyline clip-path=\"url(#clip080)\" style=\"stroke:#000000; stroke-linecap:butt; stroke-linejoin:round; stroke-width:4; stroke-opacity:1; fill:none\" points=\"\n",
       "  152.598,1813.72 171.496,1813.72 \n",
       "  \"/>\n",
       "<polyline clip-path=\"url(#clip080)\" style=\"stroke:#000000; stroke-linecap:butt; stroke-linejoin:round; stroke-width:4; stroke-opacity:1; fill:none\" points=\"\n",
       "  152.598,1470.71 171.496,1470.71 \n",
       "  \"/>\n",
       "<polyline clip-path=\"url(#clip080)\" style=\"stroke:#000000; stroke-linecap:butt; stroke-linejoin:round; stroke-width:4; stroke-opacity:1; fill:none\" points=\"\n",
       "  152.598,1127.71 171.496,1127.71 \n",
       "  \"/>\n",
       "<polyline clip-path=\"url(#clip080)\" style=\"stroke:#000000; stroke-linecap:butt; stroke-linejoin:round; stroke-width:4; stroke-opacity:1; fill:none\" points=\"\n",
       "  152.598,784.704 171.496,784.704 \n",
       "  \"/>\n",
       "<polyline clip-path=\"url(#clip080)\" style=\"stroke:#000000; stroke-linecap:butt; stroke-linejoin:round; stroke-width:4; stroke-opacity:1; fill:none\" points=\"\n",
       "  152.598,441.699 171.496,441.699 \n",
       "  \"/>\n",
       "<polyline clip-path=\"url(#clip080)\" style=\"stroke:#000000; stroke-linecap:butt; stroke-linejoin:round; stroke-width:4; stroke-opacity:1; fill:none\" points=\"\n",
       "  152.598,98.6948 171.496,98.6948 \n",
       "  \"/>\n",
       "<path clip-path=\"url(#clip080)\" d=\"M65.4226 1799.52 Q61.8115 1799.52 59.9828 1803.08 Q58.1773 1806.62 58.1773 1813.75 Q58.1773 1820.86 59.9828 1824.42 Q61.8115 1827.96 65.4226 1827.96 Q69.0569 1827.96 70.8624 1824.42 Q72.6911 1820.86 72.6911 1813.75 Q72.6911 1806.62 70.8624 1803.08 Q69.0569 1799.52 65.4226 1799.52 M65.4226 1795.81 Q71.2328 1795.81 74.2883 1800.42 Q77.367 1805 77.367 1813.75 Q77.367 1822.48 74.2883 1827.09 Q71.2328 1831.67 65.4226 1831.67 Q59.6125 1831.67 56.5338 1827.09 Q53.4782 1822.48 53.4782 1813.75 Q53.4782 1805 56.5338 1800.42 Q59.6125 1795.81 65.4226 1795.81 Z\" fill=\"#000000\" fill-rule=\"evenodd\" fill-opacity=\"1\" /><path clip-path=\"url(#clip080)\" d=\"M85.5845 1825.12 L90.4688 1825.12 L90.4688 1831 L85.5845 1831 L85.5845 1825.12 Z\" fill=\"#000000\" fill-rule=\"evenodd\" fill-opacity=\"1\" /><path clip-path=\"url(#clip080)\" d=\"M110.654 1799.52 Q107.043 1799.52 105.214 1803.08 Q103.409 1806.62 103.409 1813.75 Q103.409 1820.86 105.214 1824.42 Q107.043 1827.96 110.654 1827.96 Q114.288 1827.96 116.094 1824.42 Q117.922 1820.86 117.922 1813.75 Q117.922 1806.62 116.094 1803.08 Q114.288 1799.52 110.654 1799.52 M110.654 1795.81 Q116.464 1795.81 119.52 1800.42 Q122.598 1805 122.598 1813.75 Q122.598 1822.48 119.52 1827.09 Q116.464 1831.67 110.654 1831.67 Q104.844 1831.67 101.765 1827.09 Q98.7095 1822.48 98.7095 1813.75 Q98.7095 1805 101.765 1800.42 Q104.844 1795.81 110.654 1795.81 Z\" fill=\"#000000\" fill-rule=\"evenodd\" fill-opacity=\"1\" /><path clip-path=\"url(#clip080)\" d=\"M66.6495 1456.51 Q63.0384 1456.51 61.2097 1460.08 Q59.4041 1463.62 59.4041 1470.75 Q59.4041 1477.85 61.2097 1481.42 Q63.0384 1484.96 66.6495 1484.96 Q70.2837 1484.96 72.0892 1481.42 Q73.9179 1477.85 73.9179 1470.75 Q73.9179 1463.62 72.0892 1460.08 Q70.2837 1456.51 66.6495 1456.51 M66.6495 1452.81 Q72.4596 1452.81 75.5152 1457.41 Q78.5938 1462 78.5938 1470.75 Q78.5938 1479.47 75.5152 1484.08 Q72.4596 1488.66 66.6495 1488.66 Q60.8393 1488.66 57.7606 1484.08 Q54.7051 1479.47 54.7051 1470.75 Q54.7051 1462 57.7606 1457.41 Q60.8393 1452.81 66.6495 1452.81 Z\" fill=\"#000000\" fill-rule=\"evenodd\" fill-opacity=\"1\" /><path clip-path=\"url(#clip080)\" d=\"M86.8114 1482.11 L91.6956 1482.11 L91.6956 1487.99 L86.8114 1487.99 L86.8114 1482.11 Z\" fill=\"#000000\" fill-rule=\"evenodd\" fill-opacity=\"1\" /><path clip-path=\"url(#clip080)\" d=\"M102.691 1484.06 L110.33 1484.06 L110.33 1457.69 L102.02 1459.36 L102.02 1455.1 L110.283 1453.43 L114.959 1453.43 L114.959 1484.06 L122.598 1484.06 L122.598 1487.99 L102.691 1487.99 L102.691 1484.06 Z\" fill=\"#000000\" fill-rule=\"evenodd\" fill-opacity=\"1\" /><path clip-path=\"url(#clip080)\" d=\"M67.0198 1113.51 Q63.4087 1113.51 61.58 1117.07 Q59.7745 1120.61 59.7745 1127.74 Q59.7745 1134.85 61.58 1138.41 Q63.4087 1141.96 67.0198 1141.96 Q70.6541 1141.96 72.4596 1138.41 Q74.2883 1134.85 74.2883 1127.74 Q74.2883 1120.61 72.4596 1117.07 Q70.6541 1113.51 67.0198 1113.51 M67.0198 1109.8 Q72.83 1109.8 75.8855 1114.41 Q78.9642 1118.99 78.9642 1127.74 Q78.9642 1136.47 75.8855 1141.08 Q72.83 1145.66 67.0198 1145.66 Q61.2097 1145.66 58.131 1141.08 Q55.0754 1136.47 55.0754 1127.74 Q55.0754 1118.99 58.131 1114.41 Q61.2097 1109.8 67.0198 1109.8 Z\" fill=\"#000000\" fill-rule=\"evenodd\" fill-opacity=\"1\" /><path clip-path=\"url(#clip080)\" d=\"M87.1818 1139.11 L92.066 1139.11 L92.066 1144.99 L87.1818 1144.99 L87.1818 1139.11 Z\" fill=\"#000000\" fill-rule=\"evenodd\" fill-opacity=\"1\" /><path clip-path=\"url(#clip080)\" d=\"M106.279 1141.05 L122.598 1141.05 L122.598 1144.99 L100.654 1144.99 L100.654 1141.05 Q103.316 1138.3 107.899 1133.67 Q112.506 1129.02 113.686 1127.67 Q115.932 1125.15 116.811 1123.41 Q117.714 1121.66 117.714 1119.97 Q117.714 1117.21 115.77 1115.47 Q113.848 1113.74 110.746 1113.74 Q108.547 1113.74 106.094 1114.5 Q103.663 1115.27 100.885 1116.82 L100.885 1112.09 Q103.709 1110.96 106.163 1110.38 Q108.617 1109.8 110.654 1109.8 Q116.024 1109.8 119.219 1112.49 Q122.413 1115.17 122.413 1119.66 Q122.413 1121.79 121.603 1123.72 Q120.816 1125.61 118.709 1128.21 Q118.131 1128.88 115.029 1132.09 Q111.927 1135.29 106.279 1141.05 Z\" fill=\"#000000\" fill-rule=\"evenodd\" fill-opacity=\"1\" /><path clip-path=\"url(#clip080)\" d=\"M66.0708 770.502 Q62.4597 770.502 60.631 774.067 Q58.8254 777.609 58.8254 784.738 Q58.8254 791.845 60.631 795.41 Q62.4597 798.951 66.0708 798.951 Q69.705 798.951 71.5105 795.41 Q73.3392 791.845 73.3392 784.738 Q73.3392 777.609 71.5105 774.067 Q69.705 770.502 66.0708 770.502 M66.0708 766.799 Q71.8809 766.799 74.9365 771.405 Q78.0151 775.989 78.0151 784.738 Q78.0151 793.465 74.9365 798.072 Q71.8809 802.655 66.0708 802.655 Q60.2606 802.655 57.1819 798.072 Q54.1264 793.465 54.1264 784.738 Q54.1264 775.989 57.1819 771.405 Q60.2606 766.799 66.0708 766.799 Z\" fill=\"#000000\" fill-rule=\"evenodd\" fill-opacity=\"1\" /><path clip-path=\"url(#clip080)\" d=\"M86.2327 796.104 L91.1169 796.104 L91.1169 801.984 L86.2327 801.984 L86.2327 796.104 Z\" fill=\"#000000\" fill-rule=\"evenodd\" fill-opacity=\"1\" /><path clip-path=\"url(#clip080)\" d=\"M115.469 783.35 Q118.825 784.067 120.7 786.336 Q122.598 788.604 122.598 791.937 Q122.598 797.053 119.08 799.854 Q115.561 802.655 109.08 802.655 Q106.904 802.655 104.589 802.215 Q102.297 801.799 99.8437 800.942 L99.8437 796.428 Q101.788 797.562 104.103 798.141 Q106.418 798.72 108.941 798.72 Q113.339 798.72 115.631 796.984 Q117.945 795.248 117.945 791.937 Q117.945 788.882 115.793 787.169 Q113.663 785.433 109.844 785.433 L105.816 785.433 L105.816 781.59 L110.029 781.59 Q113.478 781.59 115.307 780.225 Q117.135 778.836 117.135 776.243 Q117.135 773.581 115.237 772.169 Q113.362 770.734 109.844 770.734 Q107.922 770.734 105.723 771.151 Q103.524 771.567 100.885 772.447 L100.885 768.28 Q103.547 767.539 105.862 767.169 Q108.2 766.799 110.26 766.799 Q115.584 766.799 118.686 769.229 Q121.788 771.637 121.788 775.757 Q121.788 778.627 120.145 780.618 Q118.501 782.586 115.469 783.35 Z\" fill=\"#000000\" fill-rule=\"evenodd\" fill-opacity=\"1\" /><path clip-path=\"url(#clip080)\" d=\"M64.9365 427.498 Q61.3254 427.498 59.4967 431.063 Q57.6912 434.604 57.6912 441.734 Q57.6912 448.84 59.4967 452.405 Q61.3254 455.947 64.9365 455.947 Q68.5707 455.947 70.3763 452.405 Q72.205 448.84 72.205 441.734 Q72.205 434.604 70.3763 431.063 Q68.5707 427.498 64.9365 427.498 M64.9365 423.794 Q70.7467 423.794 73.8022 428.401 Q76.8809 432.984 76.8809 441.734 Q76.8809 450.461 73.8022 455.067 Q70.7467 459.651 64.9365 459.651 Q59.1264 459.651 56.0477 455.067 Q52.9921 450.461 52.9921 441.734 Q52.9921 432.984 56.0477 428.401 Q59.1264 423.794 64.9365 423.794 Z\" fill=\"#000000\" fill-rule=\"evenodd\" fill-opacity=\"1\" /><path clip-path=\"url(#clip080)\" d=\"M85.0984 453.1 L89.9827 453.1 L89.9827 458.979 L85.0984 458.979 L85.0984 453.1 Z\" fill=\"#000000\" fill-rule=\"evenodd\" fill-opacity=\"1\" /><path clip-path=\"url(#clip080)\" d=\"M113.015 428.493 L101.209 446.942 L113.015 446.942 L113.015 428.493 M111.788 424.419 L117.668 424.419 L117.668 446.942 L122.598 446.942 L122.598 450.831 L117.668 450.831 L117.668 458.979 L113.015 458.979 L113.015 450.831 L97.4132 450.831 L97.4132 446.317 L111.788 424.419 Z\" fill=\"#000000\" fill-rule=\"evenodd\" fill-opacity=\"1\" /><path clip-path=\"url(#clip080)\" d=\"M66.418 84.4935 Q62.8069 84.4935 60.9782 88.0583 Q59.1726 91.5999 59.1726 98.7295 Q59.1726 105.836 60.9782 109.401 Q62.8069 112.942 66.418 112.942 Q70.0522 112.942 71.8578 109.401 Q73.6865 105.836 73.6865 98.7295 Q73.6865 91.5999 71.8578 88.0583 Q70.0522 84.4935 66.418 84.4935 M66.418 80.7898 Q72.2281 80.7898 75.2837 85.3962 Q78.3624 89.9795 78.3624 98.7295 Q78.3624 107.456 75.2837 112.063 Q72.2281 116.646 66.418 116.646 Q60.6078 116.646 57.5291 112.063 Q54.4736 107.456 54.4736 98.7295 Q54.4736 89.9795 57.5291 85.3962 Q60.6078 80.7898 66.418 80.7898 Z\" fill=\"#000000\" fill-rule=\"evenodd\" fill-opacity=\"1\" /><path clip-path=\"url(#clip080)\" d=\"M86.5799 110.095 L91.4641 110.095 L91.4641 115.975 L86.5799 115.975 L86.5799 110.095 Z\" fill=\"#000000\" fill-rule=\"evenodd\" fill-opacity=\"1\" /><path clip-path=\"url(#clip080)\" d=\"M101.696 81.4148 L120.052 81.4148 L120.052 85.3499 L105.978 85.3499 L105.978 93.8221 Q106.996 93.4749 108.015 93.3129 Q109.033 93.1277 110.052 93.1277 Q115.839 93.1277 119.219 96.2989 Q122.598 99.4702 122.598 104.887 Q122.598 110.466 119.126 113.567 Q115.654 116.646 109.334 116.646 Q107.159 116.646 104.89 116.276 Q102.645 115.905 100.237 115.165 L100.237 110.466 Q102.321 111.6 104.543 112.155 Q106.765 112.711 109.242 112.711 Q113.246 112.711 115.584 110.604 Q117.922 108.498 117.922 104.887 Q117.922 101.276 115.584 99.1693 Q113.246 97.0628 109.242 97.0628 Q107.367 97.0628 105.492 97.4795 Q103.64 97.8962 101.696 98.7758 L101.696 81.4148 Z\" fill=\"#000000\" fill-rule=\"evenodd\" fill-opacity=\"1\" /><polyline clip-path=\"url(#clip082)\" style=\"stroke:#009af9; stroke-linecap:butt; stroke-linejoin:round; stroke-width:4; stroke-opacity:1; fill:none\" points=\"\n",
       "  203.546,1813.72 203.546,784.704 \n",
       "  \"/>\n",
       "<polyline clip-path=\"url(#clip082)\" style=\"stroke:#009af9; stroke-linecap:butt; stroke-linejoin:round; stroke-width:4; stroke-opacity:1; fill:none\" points=\"\n",
       "  1052.68,1813.72 1052.68,98.6948 \n",
       "  \"/>\n",
       "<polyline clip-path=\"url(#clip082)\" style=\"stroke:#009af9; stroke-linecap:butt; stroke-linejoin:round; stroke-width:4; stroke-opacity:1; fill:none\" points=\"\n",
       "  1901.81,1813.72 1901.81,1127.71 \n",
       "  \"/>\n",
       "<path clip-path=\"url(#clip080)\" d=\"\n",
       "M1640.3 211.522 L1892.75 211.522 L1892.75 107.842 L1640.3 107.842  Z\n",
       "  \" fill=\"#ffffff\" fill-rule=\"evenodd\" fill-opacity=\"1\"/>\n",
       "<polyline clip-path=\"url(#clip080)\" style=\"stroke:#000000; stroke-linecap:butt; stroke-linejoin:round; stroke-width:4; stroke-opacity:1; fill:none\" points=\"\n",
       "  1640.3,211.522 1892.75,211.522 1892.75,107.842 1640.3,107.842 1640.3,211.522 \n",
       "  \"/>\n",
       "<polyline clip-path=\"url(#clip080)\" style=\"stroke:#009af9; stroke-linecap:butt; stroke-linejoin:round; stroke-width:4; stroke-opacity:1; fill:none\" points=\"\n",
       "  1660.3,159.682 1780.32,159.682 \n",
       "  \"/>\n",
       "<path clip-path=\"url(#clip080)\" d=\"M1814.16 179.369 Q1812.35 183.999 1810.64 185.411 Q1808.93 186.823 1806.06 186.823 L1802.65 186.823 L1802.65 183.258 L1805.15 183.258 Q1806.91 183.258 1807.89 182.424 Q1808.86 181.591 1810.04 178.489 L1810.8 176.545 L1800.32 151.036 L1804.83 151.036 L1812.93 171.313 L1821.03 151.036 L1825.55 151.036 L1814.16 179.369 Z\" fill=\"#000000\" fill-rule=\"evenodd\" fill-opacity=\"1\" /><path clip-path=\"url(#clip080)\" d=\"M1832.84 173.026 L1840.48 173.026 L1840.48 146.661 L1832.17 148.327 L1832.17 144.068 L1840.43 142.402 L1845.11 142.402 L1845.11 173.026 L1852.75 173.026 L1852.75 176.962 L1832.84 176.962 L1832.84 173.026 Z\" fill=\"#000000\" fill-rule=\"evenodd\" fill-opacity=\"1\" /></svg>\n"
      ]
     },
     "execution_count": 194,
     "metadata": {},
     "output_type": "execute_result"
    }
   ],
   "source": [
    "plot(Categorical([0.3, 0.5, 0.2]))"
   ]
  },
  {
   "cell_type": "code",
   "execution_count": 195,
   "id": "de429e87",
   "metadata": {},
   "outputs": [],
   "source": [
    "μ, σ = 5.0, 2.5;  # define parameters of a normal distribution"
   ]
  },
  {
   "cell_type": "code",
   "execution_count": 196,
   "id": "0cd7b27f",
   "metadata": {},
   "outputs": [
    {
     "data": {
      "text/plain": [
       "Normal{Float64}(μ=5.0, σ=2.5)"
      ]
     },
     "execution_count": 196,
     "metadata": {},
     "output_type": "execute_result"
    }
   ],
   "source": [
    "dist = Normal(μ, σ)  # create a normal distribution"
   ]
  },
  {
   "cell_type": "code",
   "execution_count": 197,
   "id": "039eba61",
   "metadata": {},
   "outputs": [],
   "source": [
    "data = rand(dist, 1000);  # generate many samples"
   ]
  },
  {
   "cell_type": "code",
   "execution_count": 198,
   "id": "ea326906",
   "metadata": {},
   "outputs": [
    {
     "data": {
      "image/svg+xml": [
       "<?xml version=\"1.0\" encoding=\"utf-8\"?>\n",
       "<svg xmlns=\"http://www.w3.org/2000/svg\" xmlns:xlink=\"http://www.w3.org/1999/xlink\" width=\"500\" height=\"500\" viewBox=\"0 0 2000 2000\">\n",
       "<defs>\n",
       "  <clipPath id=\"clip120\">\n",
       "    <rect x=\"0\" y=\"0\" width=\"2000\" height=\"2000\"/>\n",
       "  </clipPath>\n",
       "</defs>\n",
       "<path clip-path=\"url(#clip120)\" d=\"\n",
       "M0 2000 L2000 2000 L2000 0 L0 0  Z\n",
       "  \" fill=\"#ffffff\" fill-rule=\"evenodd\" fill-opacity=\"1\"/>\n",
       "<defs>\n",
       "  <clipPath id=\"clip121\">\n",
       "    <rect x=\"400\" y=\"200\" width=\"1401\" height=\"1401\"/>\n",
       "  </clipPath>\n",
       "</defs>\n",
       "<path clip-path=\"url(#clip120)\" d=\"\n",
       "M182.274 1865.17 L1952.76 1865.17 L1952.76 47.2441 L182.274 47.2441  Z\n",
       "  \" fill=\"#ffffff\" fill-rule=\"evenodd\" fill-opacity=\"1\"/>\n",
       "<defs>\n",
       "  <clipPath id=\"clip122\">\n",
       "    <rect x=\"182\" y=\"47\" width=\"1771\" height=\"1819\"/>\n",
       "  </clipPath>\n",
       "</defs>\n",
       "<polyline clip-path=\"url(#clip122)\" style=\"stroke:#000000; stroke-linecap:butt; stroke-linejoin:round; stroke-width:2; stroke-opacity:0.1; fill:none\" points=\"\n",
       "  393.843,1865.17 393.843,47.2441 \n",
       "  \"/>\n",
       "<polyline clip-path=\"url(#clip122)\" style=\"stroke:#000000; stroke-linecap:butt; stroke-linejoin:round; stroke-width:2; stroke-opacity:0.1; fill:none\" points=\"\n",
       "  618.4,1865.17 618.4,47.2441 \n",
       "  \"/>\n",
       "<polyline clip-path=\"url(#clip122)\" style=\"stroke:#000000; stroke-linecap:butt; stroke-linejoin:round; stroke-width:2; stroke-opacity:0.1; fill:none\" points=\"\n",
       "  842.957,1865.17 842.957,47.2441 \n",
       "  \"/>\n",
       "<polyline clip-path=\"url(#clip122)\" style=\"stroke:#000000; stroke-linecap:butt; stroke-linejoin:round; stroke-width:2; stroke-opacity:0.1; fill:none\" points=\"\n",
       "  1067.51,1865.17 1067.51,47.2441 \n",
       "  \"/>\n",
       "<polyline clip-path=\"url(#clip122)\" style=\"stroke:#000000; stroke-linecap:butt; stroke-linejoin:round; stroke-width:2; stroke-opacity:0.1; fill:none\" points=\"\n",
       "  1292.07,1865.17 1292.07,47.2441 \n",
       "  \"/>\n",
       "<polyline clip-path=\"url(#clip122)\" style=\"stroke:#000000; stroke-linecap:butt; stroke-linejoin:round; stroke-width:2; stroke-opacity:0.1; fill:none\" points=\"\n",
       "  1516.63,1865.17 1516.63,47.2441 \n",
       "  \"/>\n",
       "<polyline clip-path=\"url(#clip122)\" style=\"stroke:#000000; stroke-linecap:butt; stroke-linejoin:round; stroke-width:2; stroke-opacity:0.1; fill:none\" points=\"\n",
       "  1741.19,1865.17 1741.19,47.2441 \n",
       "  \"/>\n",
       "<polyline clip-path=\"url(#clip120)\" style=\"stroke:#000000; stroke-linecap:butt; stroke-linejoin:round; stroke-width:4; stroke-opacity:1; fill:none\" points=\"\n",
       "  182.274,1865.17 1952.76,1865.17 \n",
       "  \"/>\n",
       "<polyline clip-path=\"url(#clip120)\" style=\"stroke:#000000; stroke-linecap:butt; stroke-linejoin:round; stroke-width:4; stroke-opacity:1; fill:none\" points=\"\n",
       "  393.843,1865.17 393.843,1846.27 \n",
       "  \"/>\n",
       "<polyline clip-path=\"url(#clip120)\" style=\"stroke:#000000; stroke-linecap:butt; stroke-linejoin:round; stroke-width:4; stroke-opacity:1; fill:none\" points=\"\n",
       "  618.4,1865.17 618.4,1846.27 \n",
       "  \"/>\n",
       "<polyline clip-path=\"url(#clip120)\" style=\"stroke:#000000; stroke-linecap:butt; stroke-linejoin:round; stroke-width:4; stroke-opacity:1; fill:none\" points=\"\n",
       "  842.957,1865.17 842.957,1846.27 \n",
       "  \"/>\n",
       "<polyline clip-path=\"url(#clip120)\" style=\"stroke:#000000; stroke-linecap:butt; stroke-linejoin:round; stroke-width:4; stroke-opacity:1; fill:none\" points=\"\n",
       "  1067.51,1865.17 1067.51,1846.27 \n",
       "  \"/>\n",
       "<polyline clip-path=\"url(#clip120)\" style=\"stroke:#000000; stroke-linecap:butt; stroke-linejoin:round; stroke-width:4; stroke-opacity:1; fill:none\" points=\"\n",
       "  1292.07,1865.17 1292.07,1846.27 \n",
       "  \"/>\n",
       "<polyline clip-path=\"url(#clip120)\" style=\"stroke:#000000; stroke-linecap:butt; stroke-linejoin:round; stroke-width:4; stroke-opacity:1; fill:none\" points=\"\n",
       "  1516.63,1865.17 1516.63,1846.27 \n",
       "  \"/>\n",
       "<polyline clip-path=\"url(#clip120)\" style=\"stroke:#000000; stroke-linecap:butt; stroke-linejoin:round; stroke-width:4; stroke-opacity:1; fill:none\" points=\"\n",
       "  1741.19,1865.17 1741.19,1846.27 \n",
       "  \"/>\n",
       "<path clip-path=\"url(#clip120)\" d=\"M340.868 1907.54 L370.544 1907.54 L370.544 1911.47 L340.868 1911.47 L340.868 1907.54 Z\" fill=\"#000000\" fill-rule=\"evenodd\" fill-opacity=\"1\" /><path clip-path=\"url(#clip120)\" d=\"M384.664 1920.43 L400.984 1920.43 L400.984 1924.37 L379.039 1924.37 L379.039 1920.43 Q381.701 1917.68 386.285 1913.05 Q390.891 1908.4 392.072 1907.05 Q394.317 1904.53 395.197 1902.79 Q396.099 1901.03 396.099 1899.34 Q396.099 1896.59 394.155 1894.85 Q392.234 1893.12 389.132 1893.12 Q386.933 1893.12 384.479 1893.88 Q382.049 1894.65 379.271 1896.2 L379.271 1891.47 Q382.095 1890.34 384.549 1889.76 Q387.002 1889.18 389.039 1889.18 Q394.41 1889.18 397.604 1891.87 Q400.798 1894.55 400.798 1899.04 Q400.798 1901.17 399.988 1903.09 Q399.201 1904.99 397.095 1907.59 Q396.516 1908.26 393.414 1911.47 Q390.312 1914.67 384.664 1920.43 Z\" fill=\"#000000\" fill-rule=\"evenodd\" fill-opacity=\"1\" /><path clip-path=\"url(#clip120)\" d=\"M410.798 1918.49 L415.683 1918.49 L415.683 1924.37 L410.798 1924.37 L410.798 1918.49 Z\" fill=\"#000000\" fill-rule=\"evenodd\" fill-opacity=\"1\" /><path clip-path=\"url(#clip120)\" d=\"M425.914 1889.81 L444.27 1889.81 L444.27 1893.74 L430.196 1893.74 L430.196 1902.22 Q431.215 1901.87 432.234 1901.71 Q433.252 1901.52 434.271 1901.52 Q440.058 1901.52 443.437 1904.69 Q446.817 1907.86 446.817 1913.28 Q446.817 1918.86 443.345 1921.96 Q439.872 1925.04 433.553 1925.04 Q431.377 1925.04 429.109 1924.67 Q426.863 1924.3 424.456 1923.56 L424.456 1918.86 Q426.539 1919.99 428.761 1920.55 Q430.984 1921.1 433.46 1921.1 Q437.465 1921.1 439.803 1919 Q442.141 1916.89 442.141 1913.28 Q442.141 1909.67 439.803 1907.56 Q437.465 1905.46 433.46 1905.46 Q431.585 1905.46 429.71 1905.87 Q427.859 1906.29 425.914 1907.17 L425.914 1889.81 Z\" fill=\"#000000\" fill-rule=\"evenodd\" fill-opacity=\"1\" /><path clip-path=\"url(#clip120)\" d=\"M595.784 1892.89 Q592.173 1892.89 590.345 1896.45 Q588.539 1899.99 588.539 1907.12 Q588.539 1914.23 590.345 1917.79 Q592.173 1921.34 595.784 1921.34 Q599.419 1921.34 601.224 1917.79 Q603.053 1914.23 603.053 1907.12 Q603.053 1899.99 601.224 1896.45 Q599.419 1892.89 595.784 1892.89 M595.784 1889.18 Q601.595 1889.18 604.65 1893.79 Q607.729 1898.37 607.729 1907.12 Q607.729 1915.85 604.65 1920.46 Q601.595 1925.04 595.784 1925.04 Q589.974 1925.04 586.896 1920.46 Q583.84 1915.85 583.84 1907.12 Q583.84 1898.37 586.896 1893.79 Q589.974 1889.18 595.784 1889.18 Z\" fill=\"#000000\" fill-rule=\"evenodd\" fill-opacity=\"1\" /><path clip-path=\"url(#clip120)\" d=\"M615.946 1918.49 L620.831 1918.49 L620.831 1924.37 L615.946 1924.37 L615.946 1918.49 Z\" fill=\"#000000\" fill-rule=\"evenodd\" fill-opacity=\"1\" /><path clip-path=\"url(#clip120)\" d=\"M641.016 1892.89 Q637.405 1892.89 635.576 1896.45 Q633.77 1899.99 633.77 1907.12 Q633.77 1914.23 635.576 1917.79 Q637.405 1921.34 641.016 1921.34 Q644.65 1921.34 646.455 1917.79 Q648.284 1914.23 648.284 1907.12 Q648.284 1899.99 646.455 1896.45 Q644.65 1892.89 641.016 1892.89 M641.016 1889.18 Q646.826 1889.18 649.881 1893.79 Q652.96 1898.37 652.96 1907.12 Q652.96 1915.85 649.881 1920.46 Q646.826 1925.04 641.016 1925.04 Q635.205 1925.04 632.127 1920.46 Q629.071 1915.85 629.071 1907.12 Q629.071 1898.37 632.127 1893.79 Q635.205 1889.18 641.016 1889.18 Z\" fill=\"#000000\" fill-rule=\"evenodd\" fill-opacity=\"1\" /><path clip-path=\"url(#clip120)\" d=\"M814.694 1920.43 L831.013 1920.43 L831.013 1924.37 L809.069 1924.37 L809.069 1920.43 Q811.731 1917.68 816.314 1913.05 Q820.921 1908.4 822.101 1907.05 Q824.346 1904.53 825.226 1902.79 Q826.129 1901.03 826.129 1899.34 Q826.129 1896.59 824.184 1894.85 Q822.263 1893.12 819.161 1893.12 Q816.962 1893.12 814.509 1893.88 Q812.078 1894.65 809.3 1896.2 L809.3 1891.47 Q812.124 1890.34 814.578 1889.76 Q817.032 1889.18 819.069 1889.18 Q824.439 1889.18 827.633 1891.87 Q830.828 1894.55 830.828 1899.04 Q830.828 1901.17 830.018 1903.09 Q829.231 1904.99 827.124 1907.59 Q826.546 1908.26 823.444 1911.47 Q820.342 1914.67 814.694 1920.43 Z\" fill=\"#000000\" fill-rule=\"evenodd\" fill-opacity=\"1\" /><path clip-path=\"url(#clip120)\" d=\"M840.828 1918.49 L845.712 1918.49 L845.712 1924.37 L840.828 1924.37 L840.828 1918.49 Z\" fill=\"#000000\" fill-rule=\"evenodd\" fill-opacity=\"1\" /><path clip-path=\"url(#clip120)\" d=\"M855.944 1889.81 L874.3 1889.81 L874.3 1893.74 L860.226 1893.74 L860.226 1902.22 Q861.244 1901.87 862.263 1901.71 Q863.281 1901.52 864.3 1901.52 Q870.087 1901.52 873.467 1904.69 Q876.846 1907.86 876.846 1913.28 Q876.846 1918.86 873.374 1921.96 Q869.902 1925.04 863.582 1925.04 Q861.406 1925.04 859.138 1924.67 Q856.893 1924.3 854.485 1923.56 L854.485 1918.86 Q856.569 1919.99 858.791 1920.55 Q861.013 1921.1 863.49 1921.1 Q867.494 1921.1 869.832 1919 Q872.17 1916.89 872.17 1913.28 Q872.17 1909.67 869.832 1907.56 Q867.494 1905.46 863.49 1905.46 Q861.615 1905.46 859.74 1905.87 Q857.888 1906.29 855.944 1907.17 L855.944 1889.81 Z\" fill=\"#000000\" fill-rule=\"evenodd\" fill-opacity=\"1\" /><path clip-path=\"url(#clip120)\" d=\"M1034.68 1889.81 L1053.04 1889.81 L1053.04 1893.74 L1038.96 1893.74 L1038.96 1902.22 Q1039.98 1901.87 1041 1901.71 Q1042.02 1901.52 1043.04 1901.52 Q1048.82 1901.52 1052.2 1904.69 Q1055.58 1907.86 1055.58 1913.28 Q1055.58 1918.86 1052.11 1921.96 Q1048.64 1925.04 1042.32 1925.04 Q1040.14 1925.04 1037.87 1924.67 Q1035.63 1924.3 1033.22 1923.56 L1033.22 1918.86 Q1035.3 1919.99 1037.53 1920.55 Q1039.75 1921.1 1042.23 1921.1 Q1046.23 1921.1 1048.57 1919 Q1050.91 1916.89 1050.91 1913.28 Q1050.91 1909.67 1048.57 1907.56 Q1046.23 1905.46 1042.23 1905.46 Q1040.35 1905.46 1038.48 1905.87 Q1036.62 1906.29 1034.68 1907.17 L1034.68 1889.81 Z\" fill=\"#000000\" fill-rule=\"evenodd\" fill-opacity=\"1\" /><path clip-path=\"url(#clip120)\" d=\"M1064.8 1918.49 L1069.68 1918.49 L1069.68 1924.37 L1064.8 1924.37 L1064.8 1918.49 Z\" fill=\"#000000\" fill-rule=\"evenodd\" fill-opacity=\"1\" /><path clip-path=\"url(#clip120)\" d=\"M1089.86 1892.89 Q1086.25 1892.89 1084.42 1896.45 Q1082.62 1899.99 1082.62 1907.12 Q1082.62 1914.23 1084.42 1917.79 Q1086.25 1921.34 1089.86 1921.34 Q1093.5 1921.34 1095.3 1917.79 Q1097.13 1914.23 1097.13 1907.12 Q1097.13 1899.99 1095.3 1896.45 Q1093.5 1892.89 1089.86 1892.89 M1089.86 1889.18 Q1095.67 1889.18 1098.73 1893.79 Q1101.81 1898.37 1101.81 1907.12 Q1101.81 1915.85 1098.73 1920.46 Q1095.67 1925.04 1089.86 1925.04 Q1084.05 1925.04 1080.98 1920.46 Q1077.92 1915.85 1077.92 1907.12 Q1077.92 1898.37 1080.98 1893.79 Q1084.05 1889.18 1089.86 1889.18 Z\" fill=\"#000000\" fill-rule=\"evenodd\" fill-opacity=\"1\" /><path clip-path=\"url(#clip120)\" d=\"M1258.39 1889.81 L1280.61 1889.81 L1280.61 1891.8 L1268.07 1924.37 L1263.18 1924.37 L1274.99 1893.74 L1258.39 1893.74 L1258.39 1889.81 Z\" fill=\"#000000\" fill-rule=\"evenodd\" fill-opacity=\"1\" /><path clip-path=\"url(#clip120)\" d=\"M1289.73 1918.49 L1294.62 1918.49 L1294.62 1924.37 L1289.73 1924.37 L1289.73 1918.49 Z\" fill=\"#000000\" fill-rule=\"evenodd\" fill-opacity=\"1\" /><path clip-path=\"url(#clip120)\" d=\"M1304.85 1889.81 L1323.21 1889.81 L1323.21 1893.74 L1309.13 1893.74 L1309.13 1902.22 Q1310.15 1901.87 1311.17 1901.71 Q1312.19 1901.52 1313.21 1901.52 Q1318.99 1901.52 1322.37 1904.69 Q1325.75 1907.86 1325.75 1913.28 Q1325.75 1918.86 1322.28 1921.96 Q1318.81 1925.04 1312.49 1925.04 Q1310.31 1925.04 1308.04 1924.67 Q1305.8 1924.3 1303.39 1923.56 L1303.39 1918.86 Q1305.48 1919.99 1307.7 1920.55 Q1309.92 1921.1 1312.4 1921.1 Q1316.4 1921.1 1318.74 1919 Q1321.08 1916.89 1321.08 1913.28 Q1321.08 1909.67 1318.74 1907.56 Q1316.4 1905.46 1312.4 1905.46 Q1310.52 1905.46 1308.65 1905.87 Q1306.79 1906.29 1304.85 1907.17 L1304.85 1889.81 Z\" fill=\"#000000\" fill-rule=\"evenodd\" fill-opacity=\"1\" /><path clip-path=\"url(#clip120)\" d=\"M1468.7 1920.43 L1476.34 1920.43 L1476.34 1894.07 L1468.03 1895.73 L1468.03 1891.47 L1476.29 1889.81 L1480.97 1889.81 L1480.97 1920.43 L1488.61 1920.43 L1488.61 1924.37 L1468.7 1924.37 L1468.7 1920.43 Z\" fill=\"#000000\" fill-rule=\"evenodd\" fill-opacity=\"1\" /><path clip-path=\"url(#clip120)\" d=\"M1508.05 1892.89 Q1504.44 1892.89 1502.61 1896.45 Q1500.81 1899.99 1500.81 1907.12 Q1500.81 1914.23 1502.61 1917.79 Q1504.44 1921.34 1508.05 1921.34 Q1511.69 1921.34 1513.49 1917.79 Q1515.32 1914.23 1515.32 1907.12 Q1515.32 1899.99 1513.49 1896.45 Q1511.69 1892.89 1508.05 1892.89 M1508.05 1889.18 Q1513.86 1889.18 1516.92 1893.79 Q1520 1898.37 1520 1907.12 Q1520 1915.85 1516.92 1920.46 Q1513.86 1925.04 1508.05 1925.04 Q1502.24 1925.04 1499.16 1920.46 Q1496.11 1915.85 1496.11 1907.12 Q1496.11 1898.37 1499.16 1893.79 Q1502.24 1889.18 1508.05 1889.18 Z\" fill=\"#000000\" fill-rule=\"evenodd\" fill-opacity=\"1\" /><path clip-path=\"url(#clip120)\" d=\"M1528.22 1918.49 L1533.1 1918.49 L1533.1 1924.37 L1528.22 1924.37 L1528.22 1918.49 Z\" fill=\"#000000\" fill-rule=\"evenodd\" fill-opacity=\"1\" /><path clip-path=\"url(#clip120)\" d=\"M1553.28 1892.89 Q1549.67 1892.89 1547.85 1896.45 Q1546.04 1899.99 1546.04 1907.12 Q1546.04 1914.23 1547.85 1917.79 Q1549.67 1921.34 1553.28 1921.34 Q1556.92 1921.34 1558.72 1917.79 Q1560.55 1914.23 1560.55 1907.12 Q1560.55 1899.99 1558.72 1896.45 Q1556.92 1892.89 1553.28 1892.89 M1553.28 1889.18 Q1559.09 1889.18 1562.15 1893.79 Q1565.23 1898.37 1565.23 1907.12 Q1565.23 1915.85 1562.15 1920.46 Q1559.09 1925.04 1553.28 1925.04 Q1547.47 1925.04 1544.4 1920.46 Q1541.34 1915.85 1541.34 1907.12 Q1541.34 1898.37 1544.4 1893.79 Q1547.47 1889.18 1553.28 1889.18 Z\" fill=\"#000000\" fill-rule=\"evenodd\" fill-opacity=\"1\" /><path clip-path=\"url(#clip120)\" d=\"M1693.76 1920.43 L1701.4 1920.43 L1701.4 1894.07 L1693.09 1895.73 L1693.09 1891.47 L1701.35 1889.81 L1706.03 1889.81 L1706.03 1920.43 L1713.66 1920.43 L1713.66 1924.37 L1693.76 1924.37 L1693.76 1920.43 Z\" fill=\"#000000\" fill-rule=\"evenodd\" fill-opacity=\"1\" /><path clip-path=\"url(#clip120)\" d=\"M1727.14 1920.43 L1743.46 1920.43 L1743.46 1924.37 L1721.51 1924.37 L1721.51 1920.43 Q1724.17 1917.68 1728.76 1913.05 Q1733.36 1908.4 1734.54 1907.05 Q1736.79 1904.53 1737.67 1902.79 Q1738.57 1901.03 1738.57 1899.34 Q1738.57 1896.59 1736.63 1894.85 Q1734.71 1893.12 1731.6 1893.12 Q1729.41 1893.12 1726.95 1893.88 Q1724.52 1894.65 1721.74 1896.2 L1721.74 1891.47 Q1724.57 1890.34 1727.02 1889.76 Q1729.47 1889.18 1731.51 1889.18 Q1736.88 1889.18 1740.08 1891.87 Q1743.27 1894.55 1743.27 1899.04 Q1743.27 1901.17 1742.46 1903.09 Q1741.67 1904.99 1739.57 1907.59 Q1738.99 1908.26 1735.89 1911.47 Q1732.78 1914.67 1727.14 1920.43 Z\" fill=\"#000000\" fill-rule=\"evenodd\" fill-opacity=\"1\" /><path clip-path=\"url(#clip120)\" d=\"M1753.27 1918.49 L1758.15 1918.49 L1758.15 1924.37 L1753.27 1924.37 L1753.27 1918.49 Z\" fill=\"#000000\" fill-rule=\"evenodd\" fill-opacity=\"1\" /><path clip-path=\"url(#clip120)\" d=\"M1768.39 1889.81 L1786.74 1889.81 L1786.74 1893.74 L1772.67 1893.74 L1772.67 1902.22 Q1773.69 1901.87 1774.71 1901.71 Q1775.72 1901.52 1776.74 1901.52 Q1782.53 1901.52 1785.91 1904.69 Q1789.29 1907.86 1789.29 1913.28 Q1789.29 1918.86 1785.82 1921.96 Q1782.34 1925.04 1776.03 1925.04 Q1773.85 1925.04 1771.58 1924.67 Q1769.34 1924.3 1766.93 1923.56 L1766.93 1918.86 Q1769.01 1919.99 1771.23 1920.55 Q1773.46 1921.1 1775.93 1921.1 Q1779.94 1921.1 1782.28 1919 Q1784.61 1916.89 1784.61 1913.28 Q1784.61 1909.67 1782.28 1907.56 Q1779.94 1905.46 1775.93 1905.46 Q1774.06 1905.46 1772.18 1905.87 Q1770.33 1906.29 1768.39 1907.17 L1768.39 1889.81 Z\" fill=\"#000000\" fill-rule=\"evenodd\" fill-opacity=\"1\" /><polyline clip-path=\"url(#clip122)\" style=\"stroke:#000000; stroke-linecap:butt; stroke-linejoin:round; stroke-width:2; stroke-opacity:0.1; fill:none\" points=\"\n",
       "  182.274,1815.42 1952.76,1815.42 \n",
       "  \"/>\n",
       "<polyline clip-path=\"url(#clip122)\" style=\"stroke:#000000; stroke-linecap:butt; stroke-linejoin:round; stroke-width:2; stroke-opacity:0.1; fill:none\" points=\"\n",
       "  182.274,1277.45 1952.76,1277.45 \n",
       "  \"/>\n",
       "<polyline clip-path=\"url(#clip122)\" style=\"stroke:#000000; stroke-linecap:butt; stroke-linejoin:round; stroke-width:2; stroke-opacity:0.1; fill:none\" points=\"\n",
       "  182.274,739.482 1952.76,739.482 \n",
       "  \"/>\n",
       "<polyline clip-path=\"url(#clip122)\" style=\"stroke:#000000; stroke-linecap:butt; stroke-linejoin:round; stroke-width:2; stroke-opacity:0.1; fill:none\" points=\"\n",
       "  182.274,201.512 1952.76,201.512 \n",
       "  \"/>\n",
       "<polyline clip-path=\"url(#clip120)\" style=\"stroke:#000000; stroke-linecap:butt; stroke-linejoin:round; stroke-width:4; stroke-opacity:1; fill:none\" points=\"\n",
       "  182.274,1865.17 182.274,47.2441 \n",
       "  \"/>\n",
       "<polyline clip-path=\"url(#clip120)\" style=\"stroke:#000000; stroke-linecap:butt; stroke-linejoin:round; stroke-width:4; stroke-opacity:1; fill:none\" points=\"\n",
       "  182.274,1815.42 201.172,1815.42 \n",
       "  \"/>\n",
       "<polyline clip-path=\"url(#clip120)\" style=\"stroke:#000000; stroke-linecap:butt; stroke-linejoin:round; stroke-width:4; stroke-opacity:1; fill:none\" points=\"\n",
       "  182.274,1277.45 201.172,1277.45 \n",
       "  \"/>\n",
       "<polyline clip-path=\"url(#clip120)\" style=\"stroke:#000000; stroke-linecap:butt; stroke-linejoin:round; stroke-width:4; stroke-opacity:1; fill:none\" points=\"\n",
       "  182.274,739.482 201.172,739.482 \n",
       "  \"/>\n",
       "<polyline clip-path=\"url(#clip120)\" style=\"stroke:#000000; stroke-linecap:butt; stroke-linejoin:round; stroke-width:4; stroke-opacity:1; fill:none\" points=\"\n",
       "  182.274,201.512 201.172,201.512 \n",
       "  \"/>\n",
       "<path clip-path=\"url(#clip120)\" d=\"M64.9365 1801.22 Q61.3254 1801.22 59.4967 1804.78 Q57.6912 1808.33 57.6912 1815.46 Q57.6912 1822.56 59.4967 1826.13 Q61.3254 1829.67 64.9365 1829.67 Q68.5707 1829.67 70.3763 1826.13 Q72.205 1822.56 72.205 1815.46 Q72.205 1808.33 70.3763 1804.78 Q68.5707 1801.22 64.9365 1801.22 M64.9365 1797.52 Q70.7467 1797.52 73.8022 1802.12 Q76.8809 1806.71 76.8809 1815.46 Q76.8809 1824.18 73.8022 1828.79 Q70.7467 1833.37 64.9365 1833.37 Q59.1264 1833.37 56.0477 1828.79 Q52.9921 1824.18 52.9921 1815.46 Q52.9921 1806.71 56.0477 1802.12 Q59.1264 1797.52 64.9365 1797.52 Z\" fill=\"#000000\" fill-rule=\"evenodd\" fill-opacity=\"1\" /><path clip-path=\"url(#clip120)\" d=\"M85.0984 1826.82 L89.9827 1826.82 L89.9827 1832.7 L85.0984 1832.7 L85.0984 1826.82 Z\" fill=\"#000000\" fill-rule=\"evenodd\" fill-opacity=\"1\" /><path clip-path=\"url(#clip120)\" d=\"M110.168 1801.22 Q106.557 1801.22 104.728 1804.78 Q102.922 1808.33 102.922 1815.46 Q102.922 1822.56 104.728 1826.13 Q106.557 1829.67 110.168 1829.67 Q113.802 1829.67 115.608 1826.13 Q117.436 1822.56 117.436 1815.46 Q117.436 1808.33 115.608 1804.78 Q113.802 1801.22 110.168 1801.22 M110.168 1797.52 Q115.978 1797.52 119.033 1802.12 Q122.112 1806.71 122.112 1815.46 Q122.112 1824.18 119.033 1828.79 Q115.978 1833.37 110.168 1833.37 Q104.358 1833.37 101.279 1828.79 Q98.2234 1824.18 98.2234 1815.46 Q98.2234 1806.71 101.279 1802.12 Q104.358 1797.52 110.168 1797.52 Z\" fill=\"#000000\" fill-rule=\"evenodd\" fill-opacity=\"1\" /><path clip-path=\"url(#clip120)\" d=\"M140.33 1801.22 Q136.719 1801.22 134.89 1804.78 Q133.084 1808.33 133.084 1815.46 Q133.084 1822.56 134.89 1826.13 Q136.719 1829.67 140.33 1829.67 Q143.964 1829.67 145.769 1826.13 Q147.598 1822.56 147.598 1815.46 Q147.598 1808.33 145.769 1804.78 Q143.964 1801.22 140.33 1801.22 M140.33 1797.52 Q146.14 1797.52 149.195 1802.12 Q152.274 1806.71 152.274 1815.46 Q152.274 1824.18 149.195 1828.79 Q146.14 1833.37 140.33 1833.37 Q134.519 1833.37 131.441 1828.79 Q128.385 1824.18 128.385 1815.46 Q128.385 1806.71 131.441 1802.12 Q134.519 1797.52 140.33 1797.52 Z\" fill=\"#000000\" fill-rule=\"evenodd\" fill-opacity=\"1\" /><path clip-path=\"url(#clip120)\" d=\"M65.9319 1263.25 Q62.3208 1263.25 60.4921 1266.81 Q58.6865 1270.36 58.6865 1277.49 Q58.6865 1284.59 60.4921 1288.16 Q62.3208 1291.7 65.9319 1291.7 Q69.5661 1291.7 71.3717 1288.16 Q73.2004 1284.59 73.2004 1277.49 Q73.2004 1270.36 71.3717 1266.81 Q69.5661 1263.25 65.9319 1263.25 M65.9319 1259.55 Q71.742 1259.55 74.7976 1264.15 Q77.8763 1268.74 77.8763 1277.49 Q77.8763 1286.21 74.7976 1290.82 Q71.742 1295.4 65.9319 1295.4 Q60.1217 1295.4 57.043 1290.82 Q53.9875 1286.21 53.9875 1277.49 Q53.9875 1268.74 57.043 1264.15 Q60.1217 1259.55 65.9319 1259.55 Z\" fill=\"#000000\" fill-rule=\"evenodd\" fill-opacity=\"1\" /><path clip-path=\"url(#clip120)\" d=\"M86.0938 1288.85 L90.978 1288.85 L90.978 1294.73 L86.0938 1294.73 L86.0938 1288.85 Z\" fill=\"#000000\" fill-rule=\"evenodd\" fill-opacity=\"1\" /><path clip-path=\"url(#clip120)\" d=\"M111.163 1263.25 Q107.552 1263.25 105.723 1266.81 Q103.918 1270.36 103.918 1277.49 Q103.918 1284.59 105.723 1288.16 Q107.552 1291.7 111.163 1291.7 Q114.797 1291.7 116.603 1288.16 Q118.432 1284.59 118.432 1277.49 Q118.432 1270.36 116.603 1266.81 Q114.797 1263.25 111.163 1263.25 M111.163 1259.55 Q116.973 1259.55 120.029 1264.15 Q123.107 1268.74 123.107 1277.49 Q123.107 1286.21 120.029 1290.82 Q116.973 1295.4 111.163 1295.4 Q105.353 1295.4 102.274 1290.82 Q99.2187 1286.21 99.2187 1277.49 Q99.2187 1268.74 102.274 1264.15 Q105.353 1259.55 111.163 1259.55 Z\" fill=\"#000000\" fill-rule=\"evenodd\" fill-opacity=\"1\" /><path clip-path=\"url(#clip120)\" d=\"M131.371 1260.17 L149.728 1260.17 L149.728 1264.11 L135.654 1264.11 L135.654 1272.58 Q136.672 1272.23 137.691 1272.07 Q138.709 1271.88 139.728 1271.88 Q145.515 1271.88 148.894 1275.06 Q152.274 1278.23 152.274 1283.64 Q152.274 1289.22 148.802 1292.32 Q145.33 1295.4 139.01 1295.4 Q136.834 1295.4 134.566 1295.03 Q132.32 1294.66 129.913 1293.92 L129.913 1289.22 Q131.996 1290.36 134.219 1290.91 Q136.441 1291.47 138.918 1291.47 Q142.922 1291.47 145.26 1289.36 Q147.598 1287.25 147.598 1283.64 Q147.598 1280.03 145.26 1277.93 Q142.922 1275.82 138.918 1275.82 Q137.043 1275.82 135.168 1276.24 Q133.316 1276.65 131.371 1277.53 L131.371 1260.17 Z\" fill=\"#000000\" fill-rule=\"evenodd\" fill-opacity=\"1\" /><path clip-path=\"url(#clip120)\" d=\"M64.9365 725.28 Q61.3254 725.28 59.4967 728.845 Q57.6912 732.387 57.6912 739.516 Q57.6912 746.623 59.4967 750.188 Q61.3254 753.729 64.9365 753.729 Q68.5707 753.729 70.3763 750.188 Q72.205 746.623 72.205 739.516 Q72.205 732.387 70.3763 728.845 Q68.5707 725.28 64.9365 725.28 M64.9365 721.577 Q70.7467 721.577 73.8022 726.183 Q76.8809 730.767 76.8809 739.516 Q76.8809 748.243 73.8022 752.85 Q70.7467 757.433 64.9365 757.433 Q59.1264 757.433 56.0477 752.85 Q52.9921 748.243 52.9921 739.516 Q52.9921 730.767 56.0477 726.183 Q59.1264 721.577 64.9365 721.577 Z\" fill=\"#000000\" fill-rule=\"evenodd\" fill-opacity=\"1\" /><path clip-path=\"url(#clip120)\" d=\"M85.0984 750.882 L89.9827 750.882 L89.9827 756.762 L85.0984 756.762 L85.0984 750.882 Z\" fill=\"#000000\" fill-rule=\"evenodd\" fill-opacity=\"1\" /><path clip-path=\"url(#clip120)\" d=\"M100.978 752.827 L108.617 752.827 L108.617 726.461 L100.307 728.128 L100.307 723.868 L108.571 722.202 L113.246 722.202 L113.246 752.827 L120.885 752.827 L120.885 756.762 L100.978 756.762 L100.978 752.827 Z\" fill=\"#000000\" fill-rule=\"evenodd\" fill-opacity=\"1\" /><path clip-path=\"url(#clip120)\" d=\"M140.33 725.28 Q136.719 725.28 134.89 728.845 Q133.084 732.387 133.084 739.516 Q133.084 746.623 134.89 750.188 Q136.719 753.729 140.33 753.729 Q143.964 753.729 145.769 750.188 Q147.598 746.623 147.598 739.516 Q147.598 732.387 145.769 728.845 Q143.964 725.28 140.33 725.28 M140.33 721.577 Q146.14 721.577 149.195 726.183 Q152.274 730.767 152.274 739.516 Q152.274 748.243 149.195 752.85 Q146.14 757.433 140.33 757.433 Q134.519 757.433 131.441 752.85 Q128.385 748.243 128.385 739.516 Q128.385 730.767 131.441 726.183 Q134.519 721.577 140.33 721.577 Z\" fill=\"#000000\" fill-rule=\"evenodd\" fill-opacity=\"1\" /><path clip-path=\"url(#clip120)\" d=\"M65.9319 187.311 Q62.3208 187.311 60.4921 190.876 Q58.6865 194.417 58.6865 201.547 Q58.6865 208.653 60.4921 212.218 Q62.3208 215.76 65.9319 215.76 Q69.5661 215.76 71.3717 212.218 Q73.2004 208.653 73.2004 201.547 Q73.2004 194.417 71.3717 190.876 Q69.5661 187.311 65.9319 187.311 M65.9319 183.607 Q71.742 183.607 74.7976 188.214 Q77.8763 192.797 77.8763 201.547 Q77.8763 210.274 74.7976 214.88 Q71.742 219.464 65.9319 219.464 Q60.1217 219.464 57.043 214.88 Q53.9875 210.274 53.9875 201.547 Q53.9875 192.797 57.043 188.214 Q60.1217 183.607 65.9319 183.607 Z\" fill=\"#000000\" fill-rule=\"evenodd\" fill-opacity=\"1\" /><path clip-path=\"url(#clip120)\" d=\"M86.0938 212.913 L90.978 212.913 L90.978 218.792 L86.0938 218.792 L86.0938 212.913 Z\" fill=\"#000000\" fill-rule=\"evenodd\" fill-opacity=\"1\" /><path clip-path=\"url(#clip120)\" d=\"M101.973 214.857 L109.612 214.857 L109.612 188.491 L101.302 190.158 L101.302 185.899 L109.566 184.232 L114.242 184.232 L114.242 214.857 L121.881 214.857 L121.881 218.792 L101.973 218.792 L101.973 214.857 Z\" fill=\"#000000\" fill-rule=\"evenodd\" fill-opacity=\"1\" /><path clip-path=\"url(#clip120)\" d=\"M131.371 184.232 L149.728 184.232 L149.728 188.167 L135.654 188.167 L135.654 196.64 Q136.672 196.292 137.691 196.13 Q138.709 195.945 139.728 195.945 Q145.515 195.945 148.894 199.116 Q152.274 202.288 152.274 207.704 Q152.274 213.283 148.802 216.385 Q145.33 219.464 139.01 219.464 Q136.834 219.464 134.566 219.093 Q132.32 218.723 129.913 217.982 L129.913 213.283 Q131.996 214.417 134.219 214.973 Q136.441 215.528 138.918 215.528 Q142.922 215.528 145.26 213.422 Q147.598 211.315 147.598 207.704 Q147.598 204.093 145.26 201.987 Q142.922 199.88 138.918 199.88 Q137.043 199.88 135.168 200.297 Q133.316 200.714 131.371 201.593 L131.371 184.232 Z\" fill=\"#000000\" fill-rule=\"evenodd\" fill-opacity=\"1\" /><polyline clip-path=\"url(#clip122)\" style=\"stroke:#009af9; stroke-linecap:butt; stroke-linejoin:round; stroke-width:4; stroke-opacity:1; fill:none\" points=\"\n",
       "  232.382,1813.72 237.819,1813.56 243.256,1813.38 293.531,1810.9 343.805,1805.89 374.018,1800.84 404.231,1793.53 429.776,1784.99 455.32,1773.65 469.195,1766.08 \n",
       "  483.069,1757.37 496.943,1747.37 510.818,1735.95 523.608,1724.05 536.399,1710.7 549.19,1695.79 561.981,1679.2 575.694,1659.42 589.407,1637.43 603.121,1613.09 \n",
       "  616.834,1586.28 632.722,1551.98 648.61,1514.06 664.498,1472.4 680.386,1426.93 694.505,1383.3 708.625,1336.68 722.744,1287.11 736.864,1234.72 749.245,1186.56 \n",
       "  761.627,1136.48 774.008,1084.63 786.39,1031.22 813.388,910.402 840.386,785.962 867.545,660.482 894.703,538.522 902.21,505.977 909.717,474.104 917.224,442.989 \n",
       "  924.731,412.72 932.238,383.386 939.745,355.071 947.251,327.859 954.758,301.833 961.901,278.242 969.043,255.863 976.186,234.757 983.329,214.986 990.471,196.607 \n",
       "  997.614,179.672 1004.76,164.231 1011.9,150.33 1019.33,137.553 1026.75,126.527 1034.18,117.286 1041.61,109.861 1049.03,104.276 1056.46,100.55 1063.89,98.6948 \n",
       "  1071.31,98.7159 1077.56,100.189 1083.82,102.988 1090.07,107.107 1096.32,112.537 1102.57,119.264 1108.82,127.274 1115.07,136.548 1121.33,147.064 1128.96,161.553 \n",
       "  1136.59,177.809 1144.22,195.777 1151.86,215.398 1159.49,236.606 1167.12,259.332 1174.75,283.501 1182.39,309.037 1196.37,359.093 1210.35,412.935 1217.34,441.105 \n",
       "  1224.34,470.014 1231.33,499.591 1238.32,529.765 1264.15,645.238 1289.98,764.339 1316.15,885.264 1342.31,1003.38 1356.97,1067.33 1371.64,1129.18 1386.3,1188.59 \n",
       "  1400.96,1245.3 1414.25,1294.16 1427.53,1340.5 1440.82,1384.24 1454.1,1425.31 1469.32,1469.05 1484.53,1509.29 1499.74,1546.1 1514.95,1579.56 1529.03,1607.68 \n",
       "  1543.12,1633.16 1557.2,1656.15 1571.29,1676.78 1585.17,1694.97 1599.06,1711.17 1612.95,1725.54 1626.83,1738.22 1640.31,1749.06 1653.8,1758.59 1667.28,1766.92 \n",
       "  1680.76,1774.18 1708.4,1786.18 1736.04,1795 1766.33,1801.87 1796.61,1806.6 1840.6,1810.84 1884.6,1813.13 1893.62,1813.44 1902.65,1813.72 \n",
       "  \"/>\n",
       "<path clip-path=\"url(#clip120)\" d=\"\n",
       "M1644.59 211.522 L1893.74 211.522 L1893.74 107.842 L1644.59 107.842  Z\n",
       "  \" fill=\"#ffffff\" fill-rule=\"evenodd\" fill-opacity=\"1\"/>\n",
       "<polyline clip-path=\"url(#clip120)\" style=\"stroke:#000000; stroke-linecap:butt; stroke-linejoin:round; stroke-width:4; stroke-opacity:1; fill:none\" points=\"\n",
       "  1644.59,211.522 1893.74,211.522 1893.74,107.842 1644.59,107.842 1644.59,211.522 \n",
       "  \"/>\n",
       "<polyline clip-path=\"url(#clip120)\" style=\"stroke:#009af9; stroke-linecap:butt; stroke-linejoin:round; stroke-width:4; stroke-opacity:1; fill:none\" points=\"\n",
       "  1664.26,159.682 1782.29,159.682 \n",
       "  \"/>\n",
       "<path clip-path=\"url(#clip120)\" d=\"M1815.81 179.369 Q1814 183.999 1812.29 185.411 Q1810.58 186.823 1807.71 186.823 L1804.3 186.823 L1804.3 183.258 L1806.8 183.258 Q1808.56 183.258 1809.53 182.424 Q1810.51 181.591 1811.69 178.489 L1812.45 176.545 L1801.97 151.036 L1806.48 151.036 L1814.58 171.313 L1822.68 151.036 L1827.2 151.036 L1815.81 179.369 Z\" fill=\"#000000\" fill-rule=\"evenodd\" fill-opacity=\"1\" /><path clip-path=\"url(#clip120)\" d=\"M1834.49 173.026 L1842.13 173.026 L1842.13 146.661 L1833.82 148.327 L1833.82 144.068 L1842.08 142.402 L1846.76 142.402 L1846.76 173.026 L1854.4 173.026 L1854.4 176.962 L1834.49 176.962 L1834.49 173.026 Z\" fill=\"#000000\" fill-rule=\"evenodd\" fill-opacity=\"1\" /></svg>\n"
      ]
     },
     "execution_count": 198,
     "metadata": {},
     "output_type": "execute_result"
    }
   ],
   "source": [
    "plot(Normal(μ, σ))"
   ]
  },
  {
   "cell_type": "code",
   "execution_count": 199,
   "id": "85d91ebb",
   "metadata": {},
   "outputs": [
    {
     "data": {
      "text/plain": [
       "Normal{Float64}(μ=4.852532410655999, σ=2.4905321591521457)"
      ]
     },
     "execution_count": 199,
     "metadata": {},
     "output_type": "execute_result"
    }
   ],
   "source": [
    "Distributions.fit(Normal, data) # fit a normal distribution to the samples"
   ]
  },
  {
   "cell_type": "code",
   "execution_count": 200,
   "id": "96616c34",
   "metadata": {},
   "outputs": [
    {
     "data": {
      "text/plain": [
       "FullNormal(\n",
       "dim: 2\n",
       "μ: [1.0, 2.0]\n",
       "Σ: [1.0 0.5; 0.5 2.0]\n",
       ")\n"
      ]
     },
     "execution_count": 200,
     "metadata": {},
     "output_type": "execute_result"
    }
   ],
   "source": [
    "μ = [1.0, 2.0];\n",
    "Σ = [1.0 0.5; 0.5 2.0];\n",
    "dist = MvNormal(μ, Σ)  # create a multivariate normal distribution"
   ]
  },
  {
   "cell_type": "code",
   "execution_count": 201,
   "id": "15798906",
   "metadata": {},
   "outputs": [
    {
     "data": {
      "image/svg+xml": [
       "<?xml version=\"1.0\" encoding=\"utf-8\"?>\n",
       "<svg xmlns=\"http://www.w3.org/2000/svg\" xmlns:xlink=\"http://www.w3.org/1999/xlink\" width=\"500\" height=\"500\" viewBox=\"0 0 2000 2000\">\n",
       "<defs>\n",
       "  <clipPath id=\"clip160\">\n",
       "    <rect x=\"0\" y=\"0\" width=\"2000\" height=\"2000\"/>\n",
       "  </clipPath>\n",
       "</defs>\n",
       "<path clip-path=\"url(#clip160)\" d=\"\n",
       "M0 2000 L2000 2000 L2000 0 L0 0  Z\n",
       "  \" fill=\"#ffffff\" fill-rule=\"evenodd\" fill-opacity=\"1\"/>\n",
       "<defs>\n",
       "  <clipPath id=\"clip161\">\n",
       "    <rect x=\"400\" y=\"200\" width=\"1401\" height=\"1401\"/>\n",
       "  </clipPath>\n",
       "</defs>\n",
       "<path clip-path=\"url(#clip160)\" d=\"\n",
       "M144.867 1865.17 L1752.76 1865.17 L1752.76 47.2441 L144.867 47.2441  Z\n",
       "  \" fill=\"#ffffff\" fill-rule=\"evenodd\" fill-opacity=\"1\"/>\n",
       "<defs>\n",
       "  <clipPath id=\"clip162\">\n",
       "    <rect x=\"144\" y=\"47\" width=\"1609\" height=\"1819\"/>\n",
       "  </clipPath>\n",
       "</defs>\n",
       "<polyline clip-path=\"url(#clip162)\" style=\"stroke:#000000; stroke-linecap:butt; stroke-linejoin:round; stroke-width:2; stroke-opacity:0.1; fill:none\" points=\"\n",
       "  345.853,1865.17 345.853,47.2441 \n",
       "  \"/>\n",
       "<polyline clip-path=\"url(#clip162)\" style=\"stroke:#000000; stroke-linecap:butt; stroke-linejoin:round; stroke-width:2; stroke-opacity:0.1; fill:none\" points=\"\n",
       "  647.332,1865.17 647.332,47.2441 \n",
       "  \"/>\n",
       "<polyline clip-path=\"url(#clip162)\" style=\"stroke:#000000; stroke-linecap:butt; stroke-linejoin:round; stroke-width:2; stroke-opacity:0.1; fill:none\" points=\"\n",
       "  948.811,1865.17 948.811,47.2441 \n",
       "  \"/>\n",
       "<polyline clip-path=\"url(#clip162)\" style=\"stroke:#000000; stroke-linecap:butt; stroke-linejoin:round; stroke-width:2; stroke-opacity:0.1; fill:none\" points=\"\n",
       "  1250.29,1865.17 1250.29,47.2441 \n",
       "  \"/>\n",
       "<polyline clip-path=\"url(#clip162)\" style=\"stroke:#000000; stroke-linecap:butt; stroke-linejoin:round; stroke-width:2; stroke-opacity:0.1; fill:none\" points=\"\n",
       "  1551.77,1865.17 1551.77,47.2441 \n",
       "  \"/>\n",
       "<polyline clip-path=\"url(#clip160)\" style=\"stroke:#000000; stroke-linecap:butt; stroke-linejoin:round; stroke-width:4; stroke-opacity:1; fill:none\" points=\"\n",
       "  144.867,1865.17 1752.76,1865.17 \n",
       "  \"/>\n",
       "<polyline clip-path=\"url(#clip160)\" style=\"stroke:#000000; stroke-linecap:butt; stroke-linejoin:round; stroke-width:4; stroke-opacity:1; fill:none\" points=\"\n",
       "  345.853,1865.17 345.853,1846.27 \n",
       "  \"/>\n",
       "<polyline clip-path=\"url(#clip160)\" style=\"stroke:#000000; stroke-linecap:butt; stroke-linejoin:round; stroke-width:4; stroke-opacity:1; fill:none\" points=\"\n",
       "  647.332,1865.17 647.332,1846.27 \n",
       "  \"/>\n",
       "<polyline clip-path=\"url(#clip160)\" style=\"stroke:#000000; stroke-linecap:butt; stroke-linejoin:round; stroke-width:4; stroke-opacity:1; fill:none\" points=\"\n",
       "  948.811,1865.17 948.811,1846.27 \n",
       "  \"/>\n",
       "<polyline clip-path=\"url(#clip160)\" style=\"stroke:#000000; stroke-linecap:butt; stroke-linejoin:round; stroke-width:4; stroke-opacity:1; fill:none\" points=\"\n",
       "  1250.29,1865.17 1250.29,1846.27 \n",
       "  \"/>\n",
       "<polyline clip-path=\"url(#clip160)\" style=\"stroke:#000000; stroke-linecap:butt; stroke-linejoin:round; stroke-width:4; stroke-opacity:1; fill:none\" points=\"\n",
       "  1551.77,1865.17 1551.77,1846.27 \n",
       "  \"/>\n",
       "<path clip-path=\"url(#clip160)\" d=\"M314.916 1907.54 L344.591 1907.54 L344.591 1911.47 L314.916 1911.47 L314.916 1907.54 Z\" fill=\"#000000\" fill-rule=\"evenodd\" fill-opacity=\"1\" /><path clip-path=\"url(#clip160)\" d=\"M365.263 1905.22 Q362.114 1905.22 360.263 1907.38 Q358.434 1909.53 358.434 1913.28 Q358.434 1917.01 360.263 1919.18 Q362.114 1921.34 365.263 1921.34 Q368.411 1921.34 370.239 1919.18 Q372.091 1917.01 372.091 1913.28 Q372.091 1909.53 370.239 1907.38 Q368.411 1905.22 365.263 1905.22 M374.545 1890.57 L374.545 1894.83 Q372.786 1894 370.98 1893.56 Q369.198 1893.12 367.438 1893.12 Q362.809 1893.12 360.355 1896.24 Q357.925 1899.37 357.577 1905.69 Q358.943 1903.67 361.003 1902.61 Q363.063 1901.52 365.54 1901.52 Q370.749 1901.52 373.758 1904.69 Q376.79 1907.84 376.79 1913.28 Q376.79 1918.6 373.642 1921.82 Q370.494 1925.04 365.263 1925.04 Q359.267 1925.04 356.096 1920.46 Q352.925 1915.85 352.925 1907.12 Q352.925 1898.93 356.814 1894.07 Q360.702 1889.18 367.253 1889.18 Q369.013 1889.18 370.795 1889.53 Q372.6 1889.88 374.545 1890.57 Z\" fill=\"#000000\" fill-rule=\"evenodd\" fill-opacity=\"1\" /><path clip-path=\"url(#clip160)\" d=\"M616.8 1907.54 L646.476 1907.54 L646.476 1911.47 L616.8 1911.47 L616.8 1907.54 Z\" fill=\"#000000\" fill-rule=\"evenodd\" fill-opacity=\"1\" /><path clip-path=\"url(#clip160)\" d=\"M670.735 1905.73 Q674.091 1906.45 675.966 1908.72 Q677.864 1910.99 677.864 1914.32 Q677.864 1919.44 674.346 1922.24 Q670.827 1925.04 664.346 1925.04 Q662.17 1925.04 659.855 1924.6 Q657.564 1924.18 655.11 1923.33 L655.11 1918.81 Q657.054 1919.95 659.369 1920.53 Q661.684 1921.1 664.207 1921.1 Q668.605 1921.1 670.897 1919.37 Q673.212 1917.63 673.212 1914.32 Q673.212 1911.27 671.059 1909.55 Q668.929 1907.82 665.11 1907.82 L661.082 1907.82 L661.082 1903.97 L665.295 1903.97 Q668.744 1903.97 670.573 1902.61 Q672.401 1901.22 672.401 1898.63 Q672.401 1895.97 670.503 1894.55 Q668.628 1893.12 665.11 1893.12 Q663.189 1893.12 660.989 1893.53 Q658.79 1893.95 656.152 1894.83 L656.152 1890.66 Q658.814 1889.92 661.128 1889.55 Q663.466 1889.18 665.526 1889.18 Q670.851 1889.18 673.952 1891.61 Q677.054 1894.02 677.054 1898.14 Q677.054 1901.01 675.411 1903 Q673.767 1904.97 670.735 1905.73 Z\" fill=\"#000000\" fill-rule=\"evenodd\" fill-opacity=\"1\" /><path clip-path=\"url(#clip160)\" d=\"M948.811 1892.89 Q945.2 1892.89 943.372 1896.45 Q941.566 1899.99 941.566 1907.12 Q941.566 1914.23 943.372 1917.79 Q945.2 1921.34 948.811 1921.34 Q952.446 1921.34 954.251 1917.79 Q956.08 1914.23 956.08 1907.12 Q956.08 1899.99 954.251 1896.45 Q952.446 1892.89 948.811 1892.89 M948.811 1889.18 Q954.622 1889.18 957.677 1893.79 Q960.756 1898.37 960.756 1907.12 Q960.756 1915.85 957.677 1920.46 Q954.622 1925.04 948.811 1925.04 Q943.001 1925.04 939.923 1920.46 Q936.867 1915.85 936.867 1907.12 Q936.867 1898.37 939.923 1893.79 Q943.001 1889.18 948.811 1889.18 Z\" fill=\"#000000\" fill-rule=\"evenodd\" fill-opacity=\"1\" /><path clip-path=\"url(#clip160)\" d=\"M1254.54 1905.73 Q1257.89 1906.45 1259.77 1908.72 Q1261.67 1910.99 1261.67 1914.32 Q1261.67 1919.44 1258.15 1922.24 Q1254.63 1925.04 1248.15 1925.04 Q1245.97 1925.04 1243.66 1924.6 Q1241.37 1924.18 1238.91 1923.33 L1238.91 1918.81 Q1240.86 1919.95 1243.17 1920.53 Q1245.49 1921.1 1248.01 1921.1 Q1252.41 1921.1 1254.7 1919.37 Q1257.02 1917.63 1257.02 1914.32 Q1257.02 1911.27 1254.86 1909.55 Q1252.73 1907.82 1248.91 1907.82 L1244.89 1907.82 L1244.89 1903.97 L1249.1 1903.97 Q1252.55 1903.97 1254.38 1902.61 Q1256.2 1901.22 1256.2 1898.63 Q1256.2 1895.97 1254.31 1894.55 Q1252.43 1893.12 1248.91 1893.12 Q1246.99 1893.12 1244.79 1893.53 Q1242.59 1893.95 1239.95 1894.83 L1239.95 1890.66 Q1242.62 1889.92 1244.93 1889.55 Q1247.27 1889.18 1249.33 1889.18 Q1254.65 1889.18 1257.76 1891.61 Q1260.86 1894.02 1260.86 1898.14 Q1260.86 1901.01 1259.21 1903 Q1257.57 1904.97 1254.54 1905.73 Z\" fill=\"#000000\" fill-rule=\"evenodd\" fill-opacity=\"1\" /><path clip-path=\"url(#clip160)\" d=\"M1552.17 1905.22 Q1549.03 1905.22 1547.17 1907.38 Q1545.35 1909.53 1545.35 1913.28 Q1545.35 1917.01 1547.17 1919.18 Q1549.03 1921.34 1552.17 1921.34 Q1555.32 1921.34 1557.15 1919.18 Q1559 1917.01 1559 1913.28 Q1559 1909.53 1557.15 1907.38 Q1555.32 1905.22 1552.17 1905.22 M1561.46 1890.57 L1561.46 1894.83 Q1559.7 1894 1557.89 1893.56 Q1556.11 1893.12 1554.35 1893.12 Q1549.72 1893.12 1547.27 1896.24 Q1544.84 1899.37 1544.49 1905.69 Q1545.86 1903.67 1547.92 1902.61 Q1549.98 1901.52 1552.45 1901.52 Q1557.66 1901.52 1560.67 1904.69 Q1563.7 1907.84 1563.7 1913.28 Q1563.7 1918.6 1560.55 1921.82 Q1557.41 1925.04 1552.17 1925.04 Q1546.18 1925.04 1543.01 1920.46 Q1539.84 1915.85 1539.84 1907.12 Q1539.84 1898.93 1543.73 1894.07 Q1547.61 1889.18 1554.17 1889.18 Q1555.92 1889.18 1557.71 1889.53 Q1559.51 1889.88 1561.46 1890.57 Z\" fill=\"#000000\" fill-rule=\"evenodd\" fill-opacity=\"1\" /><polyline clip-path=\"url(#clip162)\" style=\"stroke:#000000; stroke-linecap:butt; stroke-linejoin:round; stroke-width:2; stroke-opacity:0.1; fill:none\" points=\"\n",
       "  144.867,1637.93 1752.76,1637.93 \n",
       "  \"/>\n",
       "<polyline clip-path=\"url(#clip162)\" style=\"stroke:#000000; stroke-linecap:butt; stroke-linejoin:round; stroke-width:2; stroke-opacity:0.1; fill:none\" points=\"\n",
       "  144.867,1297.07 1752.76,1297.07 \n",
       "  \"/>\n",
       "<polyline clip-path=\"url(#clip162)\" style=\"stroke:#000000; stroke-linecap:butt; stroke-linejoin:round; stroke-width:2; stroke-opacity:0.1; fill:none\" points=\"\n",
       "  144.867,956.206 1752.76,956.206 \n",
       "  \"/>\n",
       "<polyline clip-path=\"url(#clip162)\" style=\"stroke:#000000; stroke-linecap:butt; stroke-linejoin:round; stroke-width:2; stroke-opacity:0.1; fill:none\" points=\"\n",
       "  144.867,615.345 1752.76,615.345 \n",
       "  \"/>\n",
       "<polyline clip-path=\"url(#clip162)\" style=\"stroke:#000000; stroke-linecap:butt; stroke-linejoin:round; stroke-width:2; stroke-opacity:0.1; fill:none\" points=\"\n",
       "  144.867,274.485 1752.76,274.485 \n",
       "  \"/>\n",
       "<polyline clip-path=\"url(#clip160)\" style=\"stroke:#000000; stroke-linecap:butt; stroke-linejoin:round; stroke-width:4; stroke-opacity:1; fill:none\" points=\"\n",
       "  144.867,1865.17 144.867,47.2441 \n",
       "  \"/>\n",
       "<polyline clip-path=\"url(#clip160)\" style=\"stroke:#000000; stroke-linecap:butt; stroke-linejoin:round; stroke-width:4; stroke-opacity:1; fill:none\" points=\"\n",
       "  144.867,1637.93 161.674,1637.93 \n",
       "  \"/>\n",
       "<polyline clip-path=\"url(#clip160)\" style=\"stroke:#000000; stroke-linecap:butt; stroke-linejoin:round; stroke-width:4; stroke-opacity:1; fill:none\" points=\"\n",
       "  144.867,1297.07 161.674,1297.07 \n",
       "  \"/>\n",
       "<polyline clip-path=\"url(#clip160)\" style=\"stroke:#000000; stroke-linecap:butt; stroke-linejoin:round; stroke-width:4; stroke-opacity:1; fill:none\" points=\"\n",
       "  144.867,956.206 161.674,956.206 \n",
       "  \"/>\n",
       "<polyline clip-path=\"url(#clip160)\" style=\"stroke:#000000; stroke-linecap:butt; stroke-linejoin:round; stroke-width:4; stroke-opacity:1; fill:none\" points=\"\n",
       "  144.867,615.345 161.674,615.345 \n",
       "  \"/>\n",
       "<polyline clip-path=\"url(#clip160)\" style=\"stroke:#000000; stroke-linecap:butt; stroke-linejoin:round; stroke-width:4; stroke-opacity:1; fill:none\" points=\"\n",
       "  144.867,274.485 161.674,274.485 \n",
       "  \"/>\n",
       "<path clip-path=\"url(#clip160)\" d=\"M52.9921 1638.38 L82.6679 1638.38 L82.6679 1642.31 L52.9921 1642.31 L52.9921 1638.38 Z\" fill=\"#000000\" fill-rule=\"evenodd\" fill-opacity=\"1\" /><path clip-path=\"url(#clip160)\" d=\"M103.339 1636.06 Q100.191 1636.06 98.3391 1638.22 Q96.5104 1640.37 96.5104 1644.12 Q96.5104 1647.85 98.3391 1650.02 Q100.191 1652.18 103.339 1652.18 Q106.487 1652.18 108.316 1650.02 Q110.168 1647.85 110.168 1644.12 Q110.168 1640.37 108.316 1638.22 Q106.487 1636.06 103.339 1636.06 M112.621 1621.41 L112.621 1625.67 Q110.862 1624.84 109.057 1624.4 Q107.274 1623.96 105.515 1623.96 Q100.885 1623.96 98.4317 1627.08 Q96.0012 1630.21 95.6539 1636.53 Q97.0197 1634.51 99.0798 1633.45 Q101.14 1632.36 103.617 1632.36 Q108.825 1632.36 111.834 1635.53 Q114.867 1638.68 114.867 1644.12 Q114.867 1649.44 111.719 1652.66 Q108.571 1655.88 103.339 1655.88 Q97.3437 1655.88 94.1725 1651.3 Q91.0012 1646.69 91.0012 1637.96 Q91.0012 1629.77 94.89 1624.91 Q98.7789 1620.02 105.33 1620.02 Q107.089 1620.02 108.871 1620.37 Q110.677 1620.72 112.621 1621.41 Z\" fill=\"#000000\" fill-rule=\"evenodd\" fill-opacity=\"1\" /><path clip-path=\"url(#clip160)\" d=\"M53.8023 1297.52 L83.4781 1297.52 L83.4781 1301.45 L53.8023 1301.45 L53.8023 1297.52 Z\" fill=\"#000000\" fill-rule=\"evenodd\" fill-opacity=\"1\" /><path clip-path=\"url(#clip160)\" d=\"M107.737 1295.71 Q111.094 1296.43 112.969 1298.7 Q114.867 1300.97 114.867 1304.3 Q114.867 1309.42 111.348 1312.22 Q107.83 1315.02 101.348 1315.02 Q99.1724 1315.02 96.8576 1314.58 Q94.566 1314.16 92.1123 1313.31 L92.1123 1308.79 Q94.0567 1309.93 96.3715 1310.5 Q98.6863 1311.08 101.209 1311.08 Q105.608 1311.08 107.899 1309.35 Q110.214 1307.61 110.214 1304.3 Q110.214 1301.24 108.061 1299.53 Q105.932 1297.8 102.112 1297.8 L98.0845 1297.8 L98.0845 1293.95 L102.297 1293.95 Q105.746 1293.95 107.575 1292.59 Q109.404 1291.2 109.404 1288.61 Q109.404 1285.94 107.506 1284.53 Q105.631 1283.1 102.112 1283.1 Q100.191 1283.1 97.9919 1283.51 Q95.7928 1283.93 93.1539 1284.81 L93.1539 1280.64 Q95.816 1279.9 98.1308 1279.53 Q100.469 1279.16 102.529 1279.16 Q107.853 1279.16 110.955 1281.59 Q114.057 1284 114.057 1288.12 Q114.057 1290.99 112.413 1292.98 Q110.77 1294.95 107.737 1295.71 Z\" fill=\"#000000\" fill-rule=\"evenodd\" fill-opacity=\"1\" /><path clip-path=\"url(#clip160)\" d=\"M102.922 942.005 Q99.3113 942.005 97.4826 945.569 Q95.6771 949.111 95.6771 956.241 Q95.6771 963.347 97.4826 966.912 Q99.3113 970.454 102.922 970.454 Q106.557 970.454 108.362 966.912 Q110.191 963.347 110.191 956.241 Q110.191 949.111 108.362 945.569 Q106.557 942.005 102.922 942.005 M102.922 938.301 Q108.733 938.301 111.788 942.907 Q114.867 947.491 114.867 956.241 Q114.867 964.968 111.788 969.574 Q108.733 974.157 102.922 974.157 Q97.1123 974.157 94.0336 969.574 Q90.978 964.968 90.978 956.241 Q90.978 947.491 94.0336 942.907 Q97.1123 938.301 102.922 938.301 Z\" fill=\"#000000\" fill-rule=\"evenodd\" fill-opacity=\"1\" /><path clip-path=\"url(#clip160)\" d=\"M107.737 613.991 Q111.094 614.709 112.969 616.977 Q114.867 619.246 114.867 622.579 Q114.867 627.695 111.348 630.496 Q107.83 633.297 101.348 633.297 Q99.1724 633.297 96.8576 632.857 Q94.566 632.44 92.1123 631.584 L92.1123 627.07 Q94.0567 628.204 96.3715 628.783 Q98.6863 629.361 101.209 629.361 Q105.608 629.361 107.899 627.625 Q110.214 625.889 110.214 622.579 Q110.214 619.523 108.061 617.811 Q105.932 616.074 102.112 616.074 L98.0845 616.074 L98.0845 612.232 L102.297 612.232 Q105.746 612.232 107.575 610.866 Q109.404 609.477 109.404 606.885 Q109.404 604.223 107.506 602.811 Q105.631 601.375 102.112 601.375 Q100.191 601.375 97.9919 601.792 Q95.7928 602.209 93.1539 603.088 L93.1539 598.922 Q95.816 598.181 98.1308 597.811 Q100.469 597.44 102.529 597.44 Q107.853 597.44 110.955 599.871 Q114.057 602.278 114.057 606.399 Q114.057 609.269 112.413 611.26 Q110.77 613.227 107.737 613.991 Z\" fill=\"#000000\" fill-rule=\"evenodd\" fill-opacity=\"1\" /><path clip-path=\"url(#clip160)\" d=\"M103.339 272.621 Q100.191 272.621 98.3391 274.774 Q96.5104 276.927 96.5104 280.677 Q96.5104 284.403 98.3391 286.579 Q100.191 288.732 103.339 288.732 Q106.487 288.732 108.316 286.579 Q110.168 284.403 110.168 280.677 Q110.168 276.927 108.316 274.774 Q106.487 272.621 103.339 272.621 M112.621 257.968 L112.621 262.228 Q110.862 261.394 109.057 260.955 Q107.274 260.515 105.515 260.515 Q100.885 260.515 98.4317 263.64 Q96.0012 266.765 95.6539 273.084 Q97.0197 271.07 99.0798 270.005 Q101.14 268.917 103.617 268.917 Q108.825 268.917 111.834 272.089 Q114.867 275.237 114.867 280.677 Q114.867 286.001 111.719 289.218 Q108.571 292.436 103.339 292.436 Q97.3437 292.436 94.1725 287.853 Q91.0012 283.246 91.0012 274.519 Q91.0012 266.325 94.89 261.464 Q98.7789 256.58 105.33 256.58 Q107.089 256.58 108.871 256.927 Q110.677 257.274 112.621 257.968 Z\" fill=\"#000000\" fill-rule=\"evenodd\" fill-opacity=\"1\" /><path clip-path=\"url(#clip162)\" d=\"\n",
       "M144.867 1865.17 L144.867 1865.17 L161.108 1865.17 L177.349 1865.17 L193.591 1865.17 L209.832 1865.17 L226.073 1865.17 L242.315 1865.17 L258.556 1865.17 L274.797 1865.17 \n",
       "  L291.039 1865.17 L307.28 1865.17 L323.521 1865.17 L339.762 1865.17 L356.004 1865.17 L372.245 1865.17 L388.486 1865.17 L404.728 1865.17 L420.969 1865.17 L437.21 1865.17 \n",
       "  L453.452 1865.17 L469.693 1865.17 L485.934 1865.17 L502.175 1865.17 L518.417 1865.17 L534.658 1865.17 L550.899 1865.17 L567.141 1865.17 L583.382 1865.17 L599.623 1865.17 \n",
       "  L615.865 1865.17 L632.106 1865.17 L648.347 1865.17 L664.589 1865.17 L680.83 1865.17 L697.071 1865.17 L713.312 1865.17 L729.554 1865.17 L745.795 1865.17 L762.036 1865.17 \n",
       "  L778.278 1865.17 L794.519 1865.17 L810.76 1865.17 L827.002 1865.17 L843.243 1865.17 L859.484 1865.17 L875.725 1865.17 L891.967 1865.17 L908.208 1865.17 L924.449 1865.17 \n",
       "  L940.691 1865.17 L956.932 1865.17 L973.173 1865.17 L989.415 1865.17 L1005.66 1865.17 L1021.9 1865.17 L1038.14 1865.17 L1054.38 1865.17 L1070.62 1865.17 L1086.86 1865.17 \n",
       "  L1103.1 1865.17 L1119.35 1865.17 L1135.59 1865.17 L1151.83 1865.17 L1168.07 1865.17 L1184.31 1865.17 L1200.55 1865.17 L1216.79 1865.17 L1233.03 1865.17 L1249.28 1865.17 \n",
       "  L1265.52 1865.17 L1281.76 1865.17 L1298 1865.17 L1314.24 1865.17 L1330.48 1865.17 L1346.72 1865.17 L1362.96 1865.17 L1379.21 1865.17 L1395.45 1865.17 L1411.69 1865.17 \n",
       "  L1427.93 1865.17 L1444.17 1865.17 L1460.41 1865.17 L1476.65 1865.17 L1492.9 1865.17 L1509.14 1865.17 L1525.38 1865.17 L1541.62 1865.17 L1557.86 1865.17 L1574.1 1865.17 \n",
       "  L1590.34 1865.17 L1606.58 1865.17 L1622.83 1865.17 L1639.07 1865.17 L1655.31 1865.17 L1671.55 1865.17 L1687.79 1865.17 L1704.03 1865.17 L1720.27 1865.17 L1736.51 1865.17 \n",
       "  L1752.76 1865.17 L1752.76 1865.17 L1752.76 1865.17 L1752.76 1865.17 L1752.76 1846.81 L1752.76 1828.44 L1752.76 1810.08 L1752.76 1791.72 L1752.76 1773.35 L1752.76 1754.99 \n",
       "  L1752.76 1736.63 L1752.76 1718.26 L1752.76 1699.9 L1752.76 1681.54 L1752.76 1663.18 L1752.76 1644.81 L1752.76 1626.45 L1752.76 1608.09 L1752.76 1589.72 L1752.76 1571.36 \n",
       "  L1752.76 1553 L1752.76 1534.64 L1752.76 1516.27 L1752.76 1497.91 L1752.76 1479.55 L1752.76 1461.18 L1752.76 1442.82 L1752.76 1424.46 L1752.76 1406.1 L1752.76 1387.73 \n",
       "  L1752.76 1369.37 L1752.76 1351.01 L1752.76 1332.64 L1752.76 1314.28 L1752.76 1295.92 L1752.76 1277.56 L1752.76 1259.19 L1752.76 1240.83 L1752.76 1222.47 L1752.76 1204.1 \n",
       "  L1752.76 1185.74 L1752.76 1167.38 L1752.76 1149.02 L1752.76 1130.65 L1752.76 1112.29 L1752.76 1093.93 L1752.76 1075.56 L1752.76 1057.2 L1752.76 1038.84 L1752.76 1020.48 \n",
       "  L1752.76 1002.11 L1752.76 983.75 L1752.76 965.387 L1752.76 947.025 L1752.76 928.662 L1752.76 910.299 L1752.76 891.936 L1752.76 873.573 L1752.76 855.21 L1752.76 836.847 \n",
       "  L1752.76 818.484 L1752.76 800.122 L1752.76 781.759 L1752.76 763.396 L1752.76 745.033 L1752.76 726.67 L1752.76 708.307 L1752.76 689.944 L1752.76 671.582 L1752.76 653.219 \n",
       "  L1752.76 634.856 L1752.76 616.493 L1752.76 598.13 L1752.76 579.767 L1752.76 561.404 L1752.76 543.041 L1752.76 524.679 L1752.76 506.316 L1752.76 487.953 L1752.76 469.59 \n",
       "  L1752.76 451.227 L1752.76 432.864 L1752.76 414.501 L1752.76 396.139 L1752.76 377.776 L1752.76 359.413 L1752.76 341.05 L1752.76 322.687 L1752.76 304.324 L1752.76 285.961 \n",
       "  L1752.76 267.598 L1752.76 249.236 L1752.76 230.873 L1752.76 212.51 L1752.76 194.147 L1752.76 175.784 L1752.76 157.421 L1752.76 139.058 L1752.76 120.696 L1752.76 102.333 \n",
       "  L1752.76 83.9698 L1752.76 65.607 L1752.76 47.2441 L1752.76 47.2441 L1752.76 47.2441 L1752.76 47.2441 L1736.51 47.2441 L1720.27 47.2441 L1704.03 47.2441 L1687.79 47.2441 \n",
       "  L1671.55 47.2441 L1655.31 47.2441 L1639.07 47.2441 L1622.83 47.2441 L1606.58 47.2441 L1590.34 47.2441 L1574.1 47.2441 L1557.86 47.2441 L1541.62 47.2441 L1525.38 47.2441 \n",
       "  L1509.14 47.2441 L1492.9 47.2441 L1476.65 47.2441 L1460.41 47.2441 L1444.17 47.2441 L1427.93 47.2441 L1411.69 47.2441 L1395.45 47.2441 L1379.21 47.2441 L1362.96 47.2441 \n",
       "  L1346.72 47.2441 L1330.48 47.2441 L1314.24 47.2441 L1298 47.2441 L1281.76 47.2441 L1265.52 47.2441 L1249.28 47.2441 L1233.03 47.2441 L1216.79 47.2441 L1200.55 47.2441 \n",
       "  L1184.31 47.2441 L1168.07 47.2441 L1151.83 47.2441 L1135.59 47.2441 L1119.35 47.2441 L1103.1 47.2441 L1086.86 47.2441 L1070.62 47.2441 L1054.38 47.2441 L1038.14 47.2441 \n",
       "  L1021.9 47.2441 L1005.66 47.2441 L989.415 47.2441 L973.173 47.2441 L956.932 47.2441 L940.691 47.2441 L924.449 47.2441 L908.208 47.2441 L891.967 47.2441 L875.725 47.2441 \n",
       "  L859.484 47.2441 L843.243 47.2441 L827.002 47.2441 L810.76 47.2441 L794.519 47.2441 L778.278 47.2441 L762.036 47.2441 L745.795 47.2441 L729.554 47.2441 L713.312 47.2441 \n",
       "  L697.071 47.2441 L680.83 47.2441 L664.589 47.2441 L648.347 47.2441 L632.106 47.2441 L615.865 47.2441 L599.623 47.2441 L583.382 47.2441 L567.141 47.2441 L550.899 47.2441 \n",
       "  L534.658 47.2441 L518.417 47.2441 L502.175 47.2441 L485.934 47.2441 L469.693 47.2441 L453.452 47.2441 L437.21 47.2441 L420.969 47.2441 L404.728 47.2441 L388.486 47.2441 \n",
       "  L372.245 47.2441 L356.004 47.2441 L339.762 47.2441 L323.521 47.2441 L307.28 47.2441 L291.039 47.2441 L274.797 47.2441 L258.556 47.2441 L242.315 47.2441 L226.073 47.2441 \n",
       "  L209.832 47.2441 L193.591 47.2441 L177.349 47.2441 L161.108 47.2441 L144.867 47.2441 L144.867 47.2441 L144.867 47.2441 L144.867 47.2441 L144.867 65.607 L144.867 83.9698 \n",
       "  L144.867 102.333 L144.867 120.696 L144.867 139.058 L144.867 157.421 L144.867 175.784 L144.867 194.147 L144.867 212.51 L144.867 230.873 L144.867 249.236 L144.867 267.598 \n",
       "  L144.867 285.961 L144.867 304.324 L144.867 322.687 L144.867 341.05 L144.867 359.413 L144.867 377.776 L144.867 396.139 L144.867 414.501 L144.867 432.864 L144.867 451.227 \n",
       "  L144.867 469.59 L144.867 487.953 L144.867 506.316 L144.867 524.679 L144.867 543.041 L144.867 561.404 L144.867 579.767 L144.867 598.13 L144.867 616.493 L144.867 634.856 \n",
       "  L144.867 653.219 L144.867 671.582 L144.867 689.944 L144.867 708.307 L144.867 726.67 L144.867 745.033 L144.867 763.396 L144.867 781.759 L144.867 800.122 L144.867 818.484 \n",
       "  L144.867 836.847 L144.867 855.21 L144.867 873.573 L144.867 891.936 L144.867 910.299 L144.867 928.662 L144.867 947.025 L144.867 965.387 L144.867 983.75 L144.867 1002.11 \n",
       "  L144.867 1020.48 L144.867 1038.84 L144.867 1057.2 L144.867 1075.56 L144.867 1093.93 L144.867 1112.29 L144.867 1130.65 L144.867 1149.02 L144.867 1167.38 L144.867 1185.74 \n",
       "  L144.867 1204.1 L144.867 1222.47 L144.867 1240.83 L144.867 1259.19 L144.867 1277.56 L144.867 1295.92 L144.867 1314.28 L144.867 1332.64 L144.867 1351.01 L144.867 1369.37 \n",
       "  L144.867 1387.73 L144.867 1406.1 L144.867 1424.46 L144.867 1442.82 L144.867 1461.18 L144.867 1479.55 L144.867 1497.91 L144.867 1516.27 L144.867 1534.64 L144.867 1553 \n",
       "  L144.867 1571.36 L144.867 1589.72 L144.867 1608.09 L144.867 1626.45 L144.867 1644.81 L144.867 1663.18 L144.867 1681.54 L144.867 1699.9 L144.867 1718.26 L144.867 1736.63 \n",
       "  L144.867 1754.99 L144.867 1773.35 L144.867 1791.72 L144.867 1810.08 L144.867 1828.44 L144.867 1846.81 L144.867 1865.17 L144.867 1865.17 L144.867 1865.17  Z\n",
       "  \" fill=\"#440154\" fill-rule=\"evenodd\" fill-opacity=\"1\"/>\n",
       "<path clip-path=\"url(#clip162)\" d=\"\n",
       "M859.484 1798.91 L875.725 1802.73 L891.967 1802.11 L908.208 1797.27 L918.137 1791.72 L924.449 1788.4 L940.691 1775.67 L942.951 1773.35 L956.932 1759.2 L960.323 1754.99 \n",
       "  L973.173 1738.78 L974.648 1736.63 L987.013 1718.26 L989.415 1714.59 L998.146 1699.9 L1005.66 1686.37 L1008.21 1681.54 L1017.54 1663.18 L1021.9 1654 L1026.22 1644.81 \n",
       "  L1034.3 1626.45 L1038.14 1617.13 L1041.96 1608.09 L1049.22 1589.72 L1054.38 1575.36 L1055.91 1571.36 L1062.67 1553 L1068.67 1534.64 L1070.62 1528.37 L1074.76 1516.27 \n",
       "  L1080.54 1497.91 L1085.7 1479.55 L1086.86 1475.22 L1091.16 1461.18 L1096.29 1442.82 L1100.88 1424.46 L1103.1 1414.97 L1105.54 1406.1 L1110.26 1387.73 L1114.5 1369.37 \n",
       "  L1118.32 1351.01 L1119.35 1345.81 L1122.5 1332.64 L1126.55 1314.28 L1130.21 1295.92 L1133.51 1277.56 L1135.59 1265.06 L1136.81 1259.19 L1140.42 1240.83 L1143.7 1222.47 \n",
       "  L1146.67 1204.1 L1149.36 1185.74 L1151.82 1167.38 L1151.83 1167.31 L1154.86 1149.02 L1157.62 1130.65 L1160.13 1112.29 L1162.42 1093.93 L1164.5 1075.56 L1166.4 1057.2 \n",
       "  L1168.07 1039.51 L1168.15 1038.84 L1170.33 1020.48 L1172.3 1002.11 L1174.09 983.75 L1175.71 965.387 L1177.17 947.025 L1178.49 928.662 L1179.68 910.299 L1180.73 891.936 \n",
       "  L1181.67 873.573 L1182.49 855.21 L1183.21 836.847 L1183.82 818.484 L1184.31 800.888 L1184.34 800.122 L1184.9 781.759 L1185.32 763.396 L1185.61 745.033 L1185.76 726.67 \n",
       "  L1185.78 708.307 L1185.65 689.944 L1185.39 671.582 L1184.97 653.219 L1184.41 634.856 L1184.31 632.395 L1183.84 616.493 L1183.16 598.13 L1182.34 579.767 L1181.37 561.404 \n",
       "  L1180.23 543.041 L1178.92 524.679 L1177.41 506.316 L1175.69 487.953 L1173.73 469.59 L1171.5 451.227 L1168.99 432.864 L1168.07 426.708 L1166.52 414.501 L1163.92 396.139 \n",
       "  L1160.98 377.776 L1157.65 359.413 L1153.88 341.05 L1151.83 331.894 L1149.94 322.687 L1145.79 304.324 L1141.07 285.961 L1135.67 267.598 L1135.59 267.316 L1130.11 249.236 \n",
       "  L1123.72 230.873 L1119.35 219.528 L1116.5 212.51 L1108.37 194.147 L1103.1 183.443 L1098.84 175.784 L1087.57 157.421 L1086.86 156.33 L1073.04 139.058 L1070.62 136.214 \n",
       "  L1054.38 122.274 L1051.43 120.696 L1038.14 113.505 L1021.9 109.68 L1005.66 110.302 L989.415 115.145 L979.485 120.696 L973.173 124.01 L956.932 136.746 L954.671 139.058 \n",
       "  L940.691 153.21 L937.3 157.421 L924.449 173.636 L922.974 175.784 L910.609 194.147 L908.208 197.822 L899.477 212.51 L891.967 226.037 L889.412 230.873 L880.085 249.236 \n",
       "  L875.725 258.412 L871.404 267.598 L863.318 285.961 L859.484 295.287 L855.665 304.324 L848.4 322.687 L843.243 337.048 L841.713 341.05 L834.954 359.413 L828.948 377.776 \n",
       "  L827.002 384.041 L822.865 396.139 L817.083 414.501 L811.927 432.864 L810.76 437.196 L806.463 451.227 L801.33 469.59 L796.738 487.953 L794.519 497.445 L792.084 506.316 \n",
       "  L787.359 524.679 L783.12 543.041 L779.307 561.404 L778.278 566.603 L775.122 579.767 L771.069 598.13 L767.417 616.493 L764.116 634.856 L762.036 647.352 L760.817 653.219 \n",
       "  L757.198 671.582 L753.924 689.944 L750.955 708.307 L748.259 726.67 L745.804 745.033 L745.795 745.106 L742.765 763.396 L740.004 781.759 L737.493 800.122 L735.207 818.484 \n",
       "  L733.125 836.847 L731.226 855.21 L729.554 872.905 L729.47 873.573 L727.294 891.936 L725.319 910.299 L723.53 928.662 L721.911 947.025 L720.448 965.387 L719.13 983.75 \n",
       "  L717.946 1002.11 L716.89 1020.48 L715.952 1038.84 L715.128 1057.2 L714.412 1075.56 L713.801 1093.93 L713.312 1111.52 L713.283 1112.29 L712.722 1130.65 L712.298 1149.02 \n",
       "  L712.011 1167.38 L711.86 1185.74 L711.845 1204.1 L711.969 1222.47 L712.236 1240.83 L712.65 1259.19 L713.217 1277.56 L713.312 1280.02 L713.787 1295.92 L714.465 1314.28 \n",
       "  L715.283 1332.64 L716.253 1351.01 L717.388 1369.37 L718.702 1387.73 L720.211 1406.1 L721.936 1424.46 L723.897 1442.82 L726.121 1461.18 L728.636 1479.55 L729.554 1485.7 \n",
       "  L731.103 1497.91 L733.698 1516.27 L736.639 1534.64 L739.971 1553 L743.743 1571.36 L745.795 1580.52 L747.686 1589.72 L751.83 1608.09 L756.557 1626.45 L761.95 1644.81 \n",
       "  L762.036 1645.1 L767.511 1663.18 L773.902 1681.54 L778.278 1692.88 L781.122 1699.9 L789.255 1718.26 L794.519 1728.97 L798.783 1736.63 L810.056 1754.99 L810.76 1756.08 \n",
       "  L824.587 1773.35 L827.002 1776.2 L843.243 1790.14 L846.195 1791.72 L859.484 1798.91  Z\n",
       "  \" fill=\"#48196b\" fill-rule=\"evenodd\" fill-opacity=\"1\"/>\n",
       "<path clip-path=\"url(#clip162)\" d=\"\n",
       "M875.725 1687.56 L891.967 1689.66 L908.208 1686.74 L919.027 1681.54 L924.449 1679.09 L940.691 1667.02 L944.455 1663.18 L956.932 1650.53 L961.411 1644.81 L973.173 1629.52 \n",
       "  L975.185 1626.45 L986.928 1608.09 L989.415 1604.08 L997.423 1589.72 L1005.66 1573.89 L1006.89 1571.36 L1015.66 1553 L1021.9 1538.79 L1023.69 1534.64 L1031.33 1516.27 \n",
       "  L1038.14 1498.12 L1038.22 1497.91 L1045.13 1479.55 L1051.34 1461.18 L1054.38 1451.63 L1057.35 1442.82 L1063.17 1424.46 L1068.42 1406.1 L1070.62 1397.95 L1073.65 1387.73 \n",
       "  L1078.74 1369.37 L1083.34 1351.01 L1086.86 1335.68 L1087.65 1332.64 L1092.26 1314.28 L1096.43 1295.92 L1100.22 1277.56 L1103.1 1262.4 L1103.82 1259.19 L1107.73 1240.83 \n",
       "  L1111.29 1222.47 L1114.52 1204.1 L1117.48 1185.74 L1119.35 1173.26 L1120.41 1167.38 L1123.54 1149.02 L1126.39 1130.65 L1129 1112.29 L1131.37 1093.93 L1133.54 1075.56 \n",
       "  L1135.52 1057.2 L1135.59 1056.59 L1137.84 1038.84 L1139.96 1020.48 L1141.89 1002.11 L1143.63 983.75 L1145.2 965.387 L1146.61 947.025 L1147.88 928.662 L1149.01 910.299 \n",
       "  L1150.01 891.936 L1150.87 873.573 L1151.62 855.21 L1151.83 849.231 L1152.37 836.847 L1153.03 818.484 L1153.53 800.122 L1153.89 781.759 L1154.09 763.396 L1154.15 745.033 \n",
       "  L1154.04 726.67 L1153.79 708.307 L1153.36 689.944 L1152.77 671.582 L1152 653.219 L1151.83 649.901 L1151.19 634.856 L1150.25 616.493 L1149.13 598.13 L1147.81 579.767 \n",
       "  L1146.28 561.404 L1144.51 543.041 L1142.48 524.679 L1140.17 506.316 L1137.54 487.953 L1135.59 475.739 L1134.69 469.59 L1131.77 451.227 L1128.44 432.864 L1124.66 414.501 \n",
       "  L1120.36 396.139 L1119.35 392.096 L1115.8 377.776 L1110.69 359.413 L1104.84 341.05 L1103.1 335.989 L1098.27 322.687 L1090.73 304.324 L1086.86 295.732 L1081.81 285.961 \n",
       "  L1071.19 267.598 L1070.62 266.66 L1057.08 249.236 L1054.38 245.993 L1038.14 232.455 L1034.75 230.873 L1021.9 224.855 L1005.66 222.747 L989.415 225.674 L978.595 230.873 \n",
       "  L973.173 233.325 L956.932 245.39 L953.168 249.236 L940.691 261.879 L936.212 267.598 L924.449 282.889 L922.438 285.961 L910.695 304.324 L908.208 308.33 L900.2 322.687 \n",
       "  L891.967 338.525 L890.729 341.05 L881.96 359.413 L875.725 373.625 L873.935 377.776 L866.294 396.139 L859.484 414.291 L859.403 414.501 L852.496 432.864 L846.278 451.227 \n",
       "  L843.243 460.778 L840.275 469.59 L834.455 487.953 L829.201 506.316 L827.002 514.458 L823.974 524.679 L818.887 543.041 L814.285 561.404 L810.76 576.729 L809.968 579.767 \n",
       "  L805.362 598.13 L801.189 616.493 L797.398 634.856 L794.519 650.011 L793.805 653.219 L789.892 671.582 L786.336 689.944 L783.098 708.307 L780.143 726.67 L778.278 739.149 \n",
       "  L777.215 745.033 L774.083 763.396 L771.23 781.759 L768.628 800.122 L766.252 818.484 L764.082 836.847 L762.098 855.21 L762.036 855.817 L759.78 873.573 L757.659 891.936 \n",
       "  L755.736 910.299 L753.995 928.662 L752.423 947.025 L751.009 965.387 L749.741 983.75 L748.613 1002.11 L747.618 1020.48 L746.748 1038.84 L746.001 1057.2 L745.795 1063.18 \n",
       "  L745.249 1075.56 L744.593 1093.93 L744.088 1112.29 L743.734 1130.65 L743.53 1149.02 L743.477 1167.38 L743.578 1185.74 L743.838 1204.1 L744.26 1222.47 L744.853 1240.83 \n",
       "  L745.625 1259.19 L745.795 1262.51 L746.431 1277.56 L747.371 1295.92 L748.493 1314.28 L749.811 1332.64 L751.344 1351.01 L753.113 1369.37 L755.141 1387.73 L757.455 1406.1 \n",
       "  L760.087 1424.46 L762.036 1436.67 L762.928 1442.82 L765.853 1461.18 L769.182 1479.55 L772.965 1497.91 L777.262 1516.27 L778.278 1520.32 L781.82 1534.64 L786.934 1553 \n",
       "  L792.784 1571.36 L794.519 1576.42 L799.358 1589.72 L806.892 1608.09 L810.76 1616.68 L815.817 1626.45 L826.429 1644.81 L827.002 1645.75 L840.545 1663.18 L843.243 1666.42 \n",
       "  L859.484 1679.96 L862.877 1681.54 L875.725 1687.56  Z\n",
       "  \" fill=\"#462f7c\" fill-rule=\"evenodd\" fill-opacity=\"1\"/>\n",
       "<path clip-path=\"url(#clip162)\" d=\"\n",
       "M875.725 1609.6 L891.967 1614.19 L908.208 1612.95 L919.983 1608.09 L924.449 1606.35 L940.691 1594.83 L945.692 1589.72 L956.932 1578.33 L962.26 1571.36 L973.173 1556.82 \n",
       "  L975.579 1553 L986.838 1534.64 L989.415 1530.31 L996.844 1516.27 L1005.66 1498.39 L1005.88 1497.91 L1014.19 1479.55 L1021.75 1461.18 L1021.9 1460.83 L1029 1442.82 \n",
       "  L1035.59 1424.46 L1038.14 1417 L1041.92 1406.1 L1047.89 1387.73 L1053.31 1369.37 L1054.38 1365.62 L1058.76 1351.01 L1063.85 1332.64 L1068.48 1314.28 L1070.62 1305.27 \n",
       "  L1073.05 1295.92 L1077.53 1277.56 L1081.62 1259.19 L1085.36 1240.83 L1086.86 1233.01 L1089.15 1222.47 L1092.88 1204.1 L1096.28 1185.74 L1099.39 1167.38 L1102.24 1149.02 \n",
       "  L1103.1 1143.16 L1105.24 1130.65 L1108.15 1112.29 L1110.81 1093.93 L1113.23 1075.56 L1115.44 1057.2 L1117.46 1038.84 L1119.3 1020.48 L1119.35 1020 L1121.36 1002.11 \n",
       "  L1123.22 983.75 L1124.9 965.387 L1126.4 947.025 L1127.73 928.662 L1128.91 910.299 L1129.93 891.936 L1130.8 873.573 L1131.53 855.21 L1132.12 836.847 L1132.57 818.484 \n",
       "  L1132.88 800.122 L1133.05 781.759 L1133.07 763.396 L1132.95 745.033 L1132.67 726.67 L1132.24 708.307 L1131.63 689.944 L1130.85 671.582 L1129.87 653.219 L1128.69 634.856 \n",
       "  L1127.29 616.493 L1125.64 598.13 L1123.73 579.767 L1121.53 561.404 L1119.35 545.386 L1119.05 543.041 L1116.5 524.679 L1113.57 506.316 L1110.23 487.953 L1106.43 469.59 \n",
       "  L1103.1 455.252 L1102.16 451.227 L1097.49 432.864 L1092.15 414.501 L1086.86 398.478 L1086.02 396.139 L1078.9 377.776 L1070.66 359.413 L1070.62 359.324 L1060.18 341.05 \n",
       "  L1054.38 331.915 L1046.45 322.687 L1038.14 313.617 L1024.22 304.324 L1021.9 302.813 L1005.66 298.226 L989.415 299.464 L977.64 304.324 L973.173 306.063 L956.932 317.58 \n",
       "  L951.931 322.687 L940.691 334.085 L935.363 341.05 L924.449 355.594 L922.044 359.413 L910.784 377.776 L908.208 382.105 L900.779 396.139 L891.967 414.024 L891.747 414.501 \n",
       "  L883.431 432.864 L875.869 451.227 L875.725 451.582 L868.62 469.59 L862.029 487.953 L859.484 495.413 L855.701 506.316 L849.738 524.679 L844.311 543.041 L843.243 546.797 \n",
       "  L838.859 561.404 L833.776 579.767 L829.144 598.13 L827.002 607.145 L824.572 616.493 L820.088 634.856 L816 653.219 L812.263 671.582 L810.76 679.404 L808.471 689.944 \n",
       "  L804.745 708.307 L801.342 726.67 L798.229 745.033 L795.378 763.396 L794.519 769.256 L792.38 781.759 L789.471 800.122 L786.817 818.484 L784.393 836.847 L782.181 855.21 \n",
       "  L780.162 873.573 L778.322 891.936 L778.278 892.41 L776.264 910.299 L774.398 928.662 L772.721 947.025 L771.222 965.387 L769.89 983.75 L768.717 1002.11 L767.697 1020.48 \n",
       "  L766.824 1038.84 L766.094 1057.2 L765.505 1075.56 L765.055 1093.93 L764.745 1112.29 L764.577 1130.65 L764.551 1149.02 L764.674 1167.38 L764.95 1185.74 L765.386 1204.1 \n",
       "  L765.99 1222.47 L766.774 1240.83 L767.75 1259.19 L768.931 1277.56 L770.335 1295.92 L771.981 1314.28 L773.891 1332.64 L776.092 1351.01 L778.278 1367.03 L778.574 1369.37 \n",
       "  L781.128 1387.73 L784.051 1406.1 L787.388 1424.46 L791.19 1442.82 L794.519 1457.16 L795.459 1461.18 L800.128 1479.55 L805.474 1497.91 L810.76 1513.93 L811.603 1516.27 \n",
       "  L818.725 1534.64 L826.959 1553 L827.002 1553.09 L837.441 1571.36 L843.243 1580.5 L851.17 1589.72 L859.484 1598.8 L873.405 1608.09 L875.725 1609.6  Z\n",
       "  \" fill=\"#404387\" fill-rule=\"evenodd\" fill-opacity=\"1\"/>\n",
       "<path clip-path=\"url(#clip162)\" d=\"\n",
       "M891.967 1554.22 L908.208 1554.65 L912.913 1553 L924.449 1549.18 L940.691 1538.08 L944.065 1534.64 L956.932 1521.58 L960.907 1516.27 L973.173 1499.56 L974.177 1497.91 \n",
       "  L985.142 1479.55 L989.415 1472.09 L994.93 1461.18 L1003.7 1442.82 L1005.66 1438.58 L1011.72 1424.46 L1019.05 1406.1 L1021.9 1398.62 L1025.93 1387.73 L1032.31 1369.37 \n",
       "  L1038.14 1351.08 L1038.16 1351.01 L1043.94 1332.64 L1049.22 1314.28 L1054.06 1295.92 L1054.38 1294.65 L1058.96 1277.56 L1063.48 1259.19 L1067.62 1240.83 L1070.62 1226.49 \n",
       "  L1071.54 1222.47 L1075.53 1204.1 L1079.18 1185.74 L1082.53 1167.38 L1085.61 1149.02 L1086.86 1141.02 L1088.7 1130.65 L1091.73 1112.29 L1094.49 1093.93 L1097.02 1075.56 \n",
       "  L1099.32 1057.2 L1101.43 1038.84 L1103.1 1022.86 L1103.39 1020.48 L1105.47 1002.11 L1107.33 983.75 L1109 965.387 L1110.49 947.025 L1111.8 928.662 L1112.94 910.299 \n",
       "  L1113.92 891.936 L1114.74 873.573 L1115.41 855.21 L1115.92 836.847 L1116.28 818.484 L1116.48 800.122 L1116.52 781.759 L1116.4 763.396 L1116.11 745.033 L1115.63 726.67 \n",
       "  L1114.97 708.307 L1114.11 689.944 L1113.03 671.582 L1111.72 653.219 L1110.16 634.856 L1108.32 616.493 L1106.19 598.13 L1103.73 579.767 L1103.1 575.574 L1101.07 561.404 \n",
       "  L1098.08 543.041 L1094.64 524.679 L1090.71 506.316 L1086.86 490.435 L1086.23 487.953 L1081.16 469.59 L1075.33 451.227 L1070.62 438.019 L1068.51 432.864 L1060.25 414.501 \n",
       "  L1054.38 402.869 L1050.02 396.139 L1038.14 379.511 L1036.28 377.776 L1021.9 365.067 L1008.57 359.413 L1005.66 358.194 L989.415 357.764 L984.71 359.413 L973.173 363.23 \n",
       "  L956.932 374.332 L953.558 377.776 L940.691 390.831 L936.715 396.139 L924.449 412.852 L923.446 414.501 L912.481 432.864 L908.208 440.319 L902.692 451.227 L893.925 469.59 \n",
       "  L891.967 473.828 L885.903 487.953 L878.572 506.316 L875.725 513.795 L871.696 524.679 L865.311 543.041 L859.484 561.33 L859.46 561.404 L853.684 579.767 L848.404 598.13 \n",
       "  L843.565 616.493 L843.243 617.758 L838.66 634.856 L834.142 653.219 L830.002 671.582 L827.002 685.919 L826.083 689.944 L822.092 708.307 L818.439 726.67 L815.091 745.033 \n",
       "  L812.017 763.396 L810.76 771.393 L808.924 781.759 L805.897 800.122 L803.132 818.484 L800.606 836.847 L798.299 855.21 L796.194 873.573 L794.519 889.551 L794.228 891.936 \n",
       "  L792.156 910.299 L790.291 928.662 L788.621 947.025 L787.136 965.387 L785.825 983.75 L784.683 1002.11 L783.702 1020.48 L782.88 1038.84 L782.213 1057.2 L781.701 1075.56 \n",
       "  L781.343 1093.93 L781.142 1112.29 L781.1 1130.65 L781.223 1149.02 L781.517 1167.38 L781.989 1185.74 L782.651 1204.1 L783.514 1222.47 L784.592 1240.83 L785.902 1259.19 \n",
       "  L787.463 1277.56 L789.298 1295.92 L791.432 1314.28 L793.896 1332.64 L794.519 1336.84 L796.549 1351.01 L799.544 1369.37 L802.981 1387.73 L806.912 1406.1 L810.76 1421.98 \n",
       "  L811.391 1424.46 L816.461 1442.82 L822.29 1461.18 L827.002 1474.39 L829.114 1479.55 L837.368 1497.91 L843.243 1509.54 L847.606 1516.27 L859.484 1532.9 L861.342 1534.64 \n",
       "  L875.725 1547.34 L889.053 1553 L891.967 1554.22  Z\n",
       "  \" fill=\"#38568b\" fill-rule=\"evenodd\" fill-opacity=\"1\"/>\n",
       "<path clip-path=\"url(#clip162)\" d=\"\n",
       "M891.967 1502.79 L908.208 1504.96 L924.449 1500.46 L928.29 1497.91 L940.691 1489.92 L950.862 1479.55 L956.932 1473.39 L965.845 1461.18 L973.173 1450.93 L977.914 1442.82 \n",
       "  L988.216 1424.46 L989.415 1422.27 L997.169 1406.1 L1005.36 1387.73 L1005.66 1387.05 L1012.77 1369.37 L1019.59 1351.01 L1021.9 1344.52 L1025.98 1332.64 L1031.9 1314.28 \n",
       "  L1037.35 1295.92 L1038.14 1293.15 L1042.64 1277.56 L1047.53 1259.19 L1052.04 1240.83 L1054.38 1230.7 L1056.37 1222.47 L1060.56 1204.1 L1064.4 1185.74 L1067.94 1167.38 \n",
       "  L1070.62 1152.34 L1071.26 1149.02 L1074.63 1130.65 L1077.72 1112.29 L1080.54 1093.93 L1083.12 1075.56 L1085.48 1057.2 L1086.86 1045.58 L1087.76 1038.84 L1090.01 1020.48 \n",
       "  L1092.04 1002.11 L1093.87 983.75 L1095.5 965.387 L1096.94 947.025 L1098.21 928.662 L1099.3 910.299 L1100.22 891.936 L1100.98 873.573 L1101.57 855.21 L1102 836.847 \n",
       "  L1102.26 818.484 L1102.35 800.122 L1102.26 781.759 L1101.98 763.396 L1101.51 745.033 L1100.84 726.67 L1099.94 708.307 L1098.82 689.944 L1097.43 671.582 L1095.78 653.219 \n",
       "  L1093.82 634.856 L1091.53 616.493 L1088.87 598.13 L1086.86 585.875 L1085.85 579.767 L1082.46 561.404 L1078.55 543.041 L1074.05 524.679 L1070.62 512.185 L1068.83 506.316 \n",
       "  L1062.66 487.953 L1055.52 469.59 L1054.38 466.879 L1046.24 451.227 L1038.14 437.456 L1034.3 432.864 L1021.9 419.165 L1014.12 414.501 L1005.66 409.617 L989.415 407.453 \n",
       "  L973.173 411.95 L969.333 414.501 L956.932 422.49 L946.761 432.864 L940.691 439.027 L931.778 451.227 L924.449 461.478 L919.709 469.59 L909.407 487.953 L908.208 490.139 \n",
       "  L900.454 506.316 L892.264 524.679 L891.967 525.36 L884.849 543.041 L878.03 561.404 L875.725 567.893 L871.643 579.767 L865.724 598.13 L860.275 616.493 L859.484 619.261 \n",
       "  L854.987 634.856 L850.088 653.219 L845.582 671.582 L843.243 681.713 L841.251 689.944 L837.063 708.307 L833.219 726.67 L829.685 745.033 L827.002 760.076 L826.358 763.396 \n",
       "  L822.989 781.759 L819.906 800.122 L817.083 818.484 L814.5 836.847 L812.138 855.21 L810.76 866.828 L809.862 873.573 L807.61 891.936 L805.578 910.299 L803.753 928.662 \n",
       "  L802.124 947.025 L800.681 965.387 L799.416 983.75 L798.324 1002.11 L797.4 1020.48 L796.643 1038.84 L796.05 1057.2 L795.623 1075.56 L795.365 1093.93 L795.277 1112.29 \n",
       "  L795.368 1130.65 L795.642 1149.02 L796.111 1167.38 L796.786 1185.74 L797.679 1204.1 L798.807 1222.47 L800.189 1240.83 L801.847 1259.19 L803.807 1277.56 L806.097 1295.92 \n",
       "  L808.751 1314.28 L810.76 1326.54 L811.77 1332.64 L815.164 1351.01 L819.076 1369.37 L823.569 1387.73 L827.002 1400.23 L828.788 1406.1 L834.965 1424.46 L842.105 1442.82 \n",
       "  L843.243 1445.53 L851.382 1461.18 L859.484 1474.96 L863.321 1479.55 L875.725 1493.25 L883.505 1497.91 L891.967 1502.79  Z\n",
       "  \" fill=\"#30678d\" fill-rule=\"evenodd\" fill-opacity=\"1\"/>\n",
       "<path clip-path=\"url(#clip162)\" d=\"\n",
       "M875.725 1443.81 L891.967 1456.3 L908.208 1460.28 L924.449 1457.01 L940.691 1446.95 L944.739 1442.82 L956.932 1430.44 L961.216 1424.46 L973.173 1407.39 L973.907 1406.1 \n",
       "  L984.099 1387.73 L989.415 1377.71 L993.253 1369.37 L1001.32 1351.01 L1005.66 1340.63 L1008.72 1332.64 L1015.42 1314.28 L1021.62 1295.92 L1021.9 1295.07 L1027.42 1277.56 \n",
       "  L1032.77 1259.19 L1037.71 1240.83 L1038.14 1239.17 L1042.48 1222.47 L1046.89 1204.1 L1050.96 1185.74 L1054.38 1169.06 L1054.74 1167.38 L1058.48 1149.02 L1061.92 1130.65 \n",
       "  L1065.07 1112.29 L1067.96 1093.93 L1070.62 1075.56 L1070.62 1075.56 L1073.31 1057.2 L1075.76 1038.84 L1077.98 1020.48 L1079.97 1002.11 L1081.77 983.75 L1083.36 965.387 \n",
       "  L1084.77 947.025 L1086 928.662 L1086.86 913.556 L1087.07 910.299 L1088.04 891.936 L1088.82 873.573 L1089.39 855.21 L1089.76 836.847 L1089.92 818.484 L1089.88 800.122 \n",
       "  L1089.62 781.759 L1089.13 763.396 L1088.41 745.033 L1087.43 726.67 L1086.86 718.07 L1086.24 708.307 L1084.81 689.944 L1083.07 671.582 L1081.01 653.219 L1078.57 634.856 \n",
       "  L1075.74 616.493 L1072.45 598.13 L1070.62 589.042 L1068.63 579.767 L1064.17 561.404 L1059.01 543.041 L1054.38 528.517 L1052.93 524.679 L1045.26 506.316 L1038.14 491.447 \n",
       "  L1035.87 487.953 L1022.67 469.59 L1021.9 468.604 L1005.66 456.112 L989.415 452.127 L973.173 455.407 L956.932 465.463 L952.884 469.59 L940.691 481.974 L936.407 487.953 \n",
       "  L924.449 505.02 L923.715 506.316 L913.524 524.679 L908.208 534.7 L904.369 543.041 L896.299 561.404 L891.967 571.784 L888.907 579.767 L882.206 598.13 L876.005 616.493 \n",
       "  L875.725 617.345 L870.206 634.856 L864.857 653.219 L859.915 671.582 L859.484 673.245 L855.142 689.944 L850.73 708.307 L846.664 726.67 L843.243 743.353 L842.883 745.033 \n",
       "  L839.139 763.396 L835.704 781.759 L832.552 800.122 L829.658 818.484 L827.002 836.847 L827.002 836.854 L824.308 855.21 L821.861 873.573 L819.646 891.936 L817.648 910.299 \n",
       "  L815.856 928.662 L814.259 947.025 L812.851 965.387 L811.624 983.75 L810.76 998.856 L810.552 1002.11 L809.578 1020.48 L808.806 1038.84 L808.235 1057.2 L807.866 1075.56 \n",
       "  L807.702 1093.93 L807.746 1112.29 L808.007 1130.65 L808.493 1149.02 L809.216 1167.38 L810.188 1185.74 L810.76 1194.34 L811.382 1204.1 L812.814 1222.47 L814.549 1240.83 \n",
       "  L816.616 1259.19 L819.05 1277.56 L821.888 1295.92 L825.175 1314.28 L827.002 1323.37 L828.997 1332.64 L833.454 1351.01 L838.608 1369.37 L843.243 1383.9 L844.695 1387.73 \n",
       "  L852.36 1406.1 L859.484 1420.96 L861.752 1424.46 L874.956 1442.82 L875.725 1443.81  Z\n",
       "  \" fill=\"#29788e\" fill-rule=\"evenodd\" fill-opacity=\"1\"/>\n",
       "<path clip-path=\"url(#clip162)\" d=\"\n",
       "M891.967 1412.79 L908.208 1418.94 L924.449 1416.89 L940.691 1407.38 L941.948 1406.1 L956.932 1390.87 L959.131 1387.73 L971.759 1369.37 L973.173 1367.28 L981.906 1351.01 \n",
       "  L989.415 1336.3 L991.022 1332.64 L998.824 1314.28 L1005.66 1297.08 L1006.08 1295.92 L1012.52 1277.56 L1018.5 1259.19 L1021.9 1248.15 L1024.06 1240.83 L1029.19 1222.47 \n",
       "  L1033.93 1204.1 L1038.14 1186.54 L1038.33 1185.74 L1042.54 1167.38 L1046.41 1149.02 L1049.98 1130.65 L1053.26 1112.29 L1054.38 1105.62 L1056.42 1093.93 L1059.37 1075.56 \n",
       "  L1062.06 1057.2 L1064.51 1038.84 L1066.72 1020.48 L1068.73 1002.11 L1070.52 983.75 L1070.62 982.599 L1072.24 965.387 L1073.75 947.025 L1075.05 928.662 L1076.13 910.299 \n",
       "  L1077.01 891.936 L1077.68 873.573 L1078.14 855.21 L1078.39 836.847 L1078.42 818.484 L1078.22 800.122 L1077.79 781.759 L1077.11 763.396 L1076.17 745.033 L1074.94 726.67 \n",
       "  L1073.41 708.307 L1071.55 689.944 L1070.62 682.081 L1069.35 671.582 L1066.74 653.219 L1063.67 634.856 L1060.09 616.493 L1055.94 598.13 L1054.38 591.937 L1050.86 579.767 \n",
       "  L1044.78 561.404 L1038.14 544.085 L1037.62 543.041 L1027.57 524.679 L1021.9 515.52 L1012.82 506.316 L1005.66 499.622 L989.415 493.47 L973.173 495.521 L956.932 505.034 \n",
       "  L955.674 506.316 L940.691 521.541 L938.492 524.679 L925.864 543.041 L924.449 545.134 L915.717 561.404 L908.208 576.11 L906.6 579.767 L898.799 598.13 L891.967 615.333 \n",
       "  L891.546 616.493 L885.098 634.856 L879.12 653.219 L875.725 664.259 L873.567 671.582 L868.437 689.944 L863.693 708.307 L859.484 725.875 L859.293 726.67 L855.085 745.033 \n",
       "  L851.212 763.396 L847.646 781.759 L844.359 800.122 L843.243 806.787 L841.205 818.484 L838.254 836.847 L835.564 855.21 L833.117 873.573 L830.899 891.936 L828.898 910.299 \n",
       "  L827.102 928.662 L827.002 929.813 L825.379 947.025 L823.869 965.387 L822.574 983.75 L821.49 1002.11 L820.613 1020.48 L819.945 1038.84 L819.485 1057.2 L819.237 1075.56 \n",
       "  L819.207 1093.93 L819.403 1112.29 L819.834 1130.65 L820.514 1149.02 L821.458 1167.38 L822.683 1185.74 L824.213 1204.1 L826.071 1222.47 L827.002 1230.33 L828.277 1240.83 \n",
       "  L830.884 1259.19 L833.95 1277.56 L837.53 1295.92 L841.684 1314.28 L843.243 1320.48 L846.767 1332.64 L852.843 1351.01 L859.484 1368.33 L860.003 1369.37 L870.053 1387.73 \n",
       "  L875.725 1396.89 L884.799 1406.1 L891.967 1412.79  Z\n",
       "  \" fill=\"#23888d\" fill-rule=\"evenodd\" fill-opacity=\"1\"/>\n",
       "<path clip-path=\"url(#clip162)\" d=\"\n",
       "M891.967 1370.82 L908.208 1379.48 L924.449 1378.86 L940.691 1370.02 L941.332 1369.37 L956.932 1353.51 L958.642 1351.01 L970.956 1332.64 L973.173 1329.27 L980.883 1314.28 \n",
       "  L989.415 1296.83 L989.796 1295.92 L997.231 1277.56 L1004.18 1259.19 L1005.66 1255.14 L1010.37 1240.83 L1016.04 1222.47 L1021.31 1204.1 L1021.9 1201.97 L1026.15 1185.74 \n",
       "  L1030.61 1167.38 L1034.73 1149.02 L1038.14 1132.69 L1038.56 1130.65 L1042.16 1112.29 L1045.46 1093.93 L1048.48 1075.56 L1051.24 1057.2 L1053.76 1038.84 L1054.38 1033.91 \n",
       "  L1056.13 1020.48 L1058.28 1002.11 L1060.19 983.75 L1061.86 965.387 L1063.32 947.025 L1064.56 928.662 L1065.58 910.299 L1066.38 891.936 L1066.96 873.573 L1067.32 855.21 \n",
       "  L1067.45 836.847 L1067.34 818.484 L1066.98 800.122 L1066.35 781.759 L1065.44 763.396 L1064.22 745.033 L1062.67 726.67 L1060.77 708.307 L1058.46 689.944 L1055.73 671.582 \n",
       "  L1054.38 663.688 L1052.4 653.219 L1048.39 634.856 L1043.69 616.493 L1038.21 598.13 L1038.14 597.909 L1030.66 579.767 L1021.9 561.693 L1021.69 561.404 L1006.94 543.041 \n",
       "  L1005.66 541.592 L989.415 532.927 L973.173 533.547 L956.932 542.389 L956.291 543.041 L940.691 558.901 L938.981 561.404 L926.667 579.767 L924.449 583.142 L916.739 598.13 \n",
       "  L908.208 615.579 L907.827 616.493 L900.392 634.856 L893.444 653.219 L891.967 657.277 L887.252 671.582 L881.585 689.944 L876.312 708.307 L875.725 710.439 L871.475 726.67 \n",
       "  L867.015 745.033 L862.889 763.396 L859.484 779.722 L859.061 781.759 L855.463 800.122 L852.165 818.484 L849.144 836.847 L846.382 855.21 L843.863 873.573 L843.243 878.505 \n",
       "  L841.496 891.936 L839.347 910.299 L837.437 928.662 L835.758 947.025 L834.302 965.387 L833.066 983.75 L832.046 1002.11 L831.244 1020.48 L830.66 1038.84 L830.301 1057.2 \n",
       "  L830.171 1075.56 L830.282 1093.93 L830.643 1112.29 L831.271 1130.65 L832.183 1149.02 L833.401 1167.38 L834.949 1185.74 L836.856 1204.1 L839.159 1222.47 L841.895 1240.83 \n",
       "  L843.243 1248.72 L845.222 1259.19 L849.232 1277.56 L853.932 1295.92 L859.412 1314.28 L859.484 1314.5 L866.959 1332.64 L875.725 1350.72 L875.934 1351.01 L890.678 1369.37 \n",
       "  L891.967 1370.82  Z\n",
       "  \" fill=\"#1e988a\" fill-rule=\"evenodd\" fill-opacity=\"1\"/>\n",
       "<path clip-path=\"url(#clip162)\" d=\"\n",
       "M908.208 1340.93 L924.449 1342.01 L940.691 1333.96 L941.986 1332.64 L956.932 1317.44 L959.028 1314.28 L970.954 1295.92 L973.173 1292.43 L980.458 1277.56 L989.009 1259.19 \n",
       "  L989.415 1258.3 L996.064 1240.83 L1002.62 1222.47 L1005.66 1213.52 L1008.53 1204.1 L1013.82 1185.74 L1018.74 1167.38 L1021.9 1154.82 L1023.28 1149.02 L1027.39 1130.65 \n",
       "  L1031.18 1112.29 L1034.67 1093.93 L1037.88 1075.56 L1038.14 1073.97 L1040.83 1057.2 L1043.51 1038.84 L1045.93 1020.48 L1048.09 1002.11 L1050.02 983.75 L1051.7 965.387 \n",
       "  L1053.15 947.025 L1054.38 928.662 L1054.38 928.597 L1055.39 910.299 L1056.15 891.936 L1056.66 873.573 L1056.91 855.21 L1056.9 836.847 L1056.62 818.484 L1056.05 800.122 \n",
       "  L1055.18 781.759 L1054.38 769.405 L1053.97 763.396 L1052.38 745.033 L1050.37 726.67 L1047.92 708.307 L1044.97 689.944 L1041.46 671.582 L1038.14 656.687 L1037.21 653.219 \n",
       "  L1031.61 634.856 L1025 616.493 L1021.9 608.861 L1015.64 598.13 L1005.66 583.202 L1001.19 579.767 L989.415 571.482 L973.173 570.4 L956.932 578.448 L955.637 579.767 \n",
       "  L940.691 594.969 L938.595 598.13 L926.669 616.493 L924.449 619.986 L917.165 634.856 L908.614 653.219 L908.208 654.115 L901.558 671.582 L895.005 689.944 L891.967 698.895 \n",
       "  L889.092 708.307 L883.8 726.67 L878.881 745.033 L875.725 757.593 L874.343 763.396 L870.231 781.759 L866.442 800.122 L862.953 818.484 L859.743 836.847 L859.484 838.44 \n",
       "  L856.788 855.21 L854.108 873.573 L851.693 891.936 L849.528 910.299 L847.607 928.662 L845.922 947.025 L844.469 965.387 L843.246 983.75 L843.243 983.815 L842.237 1002.11 \n",
       "  L841.476 1020.48 L840.965 1038.84 L840.71 1057.2 L840.718 1075.56 L841 1093.93 L841.57 1112.29 L842.443 1130.65 L843.243 1143.01 L843.651 1149.02 L845.245 1167.38 \n",
       "  L847.248 1185.74 L849.701 1204.1 L852.654 1222.47 L856.164 1240.83 L859.484 1255.73 L860.416 1259.19 L866.009 1277.56 L872.62 1295.92 L875.725 1303.55 L881.978 1314.28 \n",
       "  L891.967 1329.21 L896.432 1332.64 L908.208 1340.93  Z\n",
       "  \" fill=\"#22a784\" fill-rule=\"evenodd\" fill-opacity=\"1\"/>\n",
       "<path clip-path=\"url(#clip162)\" d=\"\n",
       "M908.208 1302.34 L924.449 1305.52 L940.691 1298.42 L943.145 1295.92 L956.932 1281.89 L959.706 1277.56 L971.188 1259.19 L973.173 1255.94 L980.165 1240.83 L988.246 1222.47 \n",
       "  L989.415 1219.72 L994.934 1204.1 L1001.04 1185.74 L1005.66 1170.98 L1006.66 1167.38 L1011.52 1149.02 L1016.03 1130.65 L1020.2 1112.29 L1021.9 1104.32 L1023.97 1093.93 \n",
       "  L1027.36 1075.56 L1030.45 1057.2 L1033.26 1038.84 L1035.79 1020.48 L1038.07 1002.11 L1038.14 1001.5 L1040.06 983.75 L1041.78 965.387 L1043.23 947.025 L1044.43 928.662 \n",
       "  L1045.36 910.299 L1046.03 891.936 L1046.42 873.573 L1046.53 855.21 L1046.34 836.847 L1045.85 818.484 L1045.01 800.122 L1043.82 781.759 L1042.25 763.396 L1040.25 745.033 \n",
       "  L1038.14 729.21 L1037.75 726.67 L1034.42 708.307 L1030.4 689.944 L1025.61 671.582 L1021.9 659.347 L1019.37 653.219 L1010.64 634.856 L1005.66 625.774 L996.505 616.493 \n",
       "  L989.415 610.072 L973.173 606.893 L956.932 613.995 L954.477 616.493 L940.691 630.524 L937.917 634.856 L926.435 653.219 L924.449 656.469 L917.457 671.582 L909.376 689.944 \n",
       "  L908.208 692.696 L902.688 708.307 L896.587 726.67 L891.967 741.436 L890.961 745.033 L886.102 763.396 L881.597 781.759 L877.42 800.122 L875.725 808.096 L873.649 818.484 \n",
       "  L870.262 836.847 L867.172 855.21 L864.365 873.573 L861.828 891.936 L859.552 910.299 L859.484 910.91 L857.565 928.662 L855.846 947.025 L854.39 965.387 L853.195 983.75 \n",
       "  L852.263 1002.11 L851.596 1020.48 L851.203 1038.84 L851.093 1057.2 L851.279 1075.56 L851.778 1093.93 L852.609 1112.29 L853.799 1130.65 L855.376 1149.02 L857.375 1167.38 \n",
       "  L859.484 1183.2 L859.875 1185.74 L863.203 1204.1 L867.22 1222.47 L872.015 1240.83 L875.725 1253.06 L878.253 1259.19 L886.982 1277.56 L891.967 1286.64 L901.117 1295.92 \n",
       "  L908.208 1302.34  Z\n",
       "  \" fill=\"#35b778\" fill-rule=\"evenodd\" fill-opacity=\"1\"/>\n",
       "<path clip-path=\"url(#clip162)\" d=\"\n",
       "M908.208 1262.65 L924.449 1268.54 L940.691 1262.62 L944.063 1259.19 L956.932 1246.09 L960.16 1240.83 L971.141 1222.47 L973.173 1218.98 L979.605 1204.1 L987.155 1185.74 \n",
       "  L989.415 1180 L993.504 1167.38 L999.097 1149.02 L1004.33 1130.65 L1005.66 1125.7 L1008.83 1112.29 L1012.86 1093.93 L1016.57 1075.56 L1019.96 1057.2 L1021.9 1045.76 \n",
       "  L1022.99 1038.84 L1025.6 1020.48 L1027.92 1002.11 L1029.95 983.75 L1031.7 965.387 L1033.17 947.025 L1034.35 928.662 L1035.24 910.299 L1035.82 891.936 L1036.1 873.573 \n",
       "  L1036.04 855.21 L1035.62 836.847 L1034.82 818.484 L1033.61 800.122 L1031.95 781.759 L1029.79 763.396 L1027.08 745.033 L1023.76 726.67 L1021.9 717.928 L1019.24 708.307 \n",
       "  L1013.21 689.944 L1005.94 671.582 L1005.66 670.953 L992.396 653.219 L989.415 649.759 L973.173 643.868 L956.932 649.789 L953.56 653.219 L940.691 666.323 L937.463 671.582 \n",
       "  L926.481 689.944 L924.449 693.432 L918.018 708.307 L910.468 726.67 L908.208 732.411 L904.119 745.033 L898.526 763.396 L893.296 781.759 L891.967 786.71 L888.788 800.122 \n",
       "  L884.76 818.484 L881.056 836.847 L877.661 855.21 L875.725 866.655 L874.634 873.573 L872.022 891.936 L869.703 910.299 L867.67 928.662 L865.921 947.025 L864.454 965.387 \n",
       "  L863.274 983.75 L862.385 1002.11 L861.798 1020.48 L861.526 1038.84 L861.587 1057.2 L862.002 1075.56 L862.798 1093.93 L864.008 1112.29 L865.67 1130.65 L867.829 1149.02 \n",
       "  L870.539 1167.38 L873.863 1185.74 L875.725 1194.48 L878.387 1204.1 L884.41 1222.47 L891.687 1240.83 L891.967 1241.46 L905.227 1259.19 L908.208 1262.65  Z\n",
       "  \" fill=\"#53c567\" fill-rule=\"evenodd\" fill-opacity=\"1\"/>\n",
       "<path clip-path=\"url(#clip162)\" d=\"\n",
       "M924.449 1230.04 L940.691 1225.7 L943.872 1222.47 L956.932 1209.16 L959.88 1204.1 L970.279 1185.74 L973.173 1180.47 L978.391 1167.38 L985.335 1149.02 L989.415 1137.65 \n",
       "  L991.455 1130.65 L996.472 1112.29 L1001.13 1093.93 L1005.45 1075.56 L1005.66 1074.61 L1008.95 1057.2 L1012.1 1038.84 L1014.92 1020.48 L1017.43 1002.11 L1019.63 983.75 \n",
       "  L1021.51 965.387 L1021.9 960.729 L1022.95 947.025 L1024.05 928.662 L1024.82 910.299 L1025.25 891.936 L1025.33 873.573 L1025.04 855.21 L1024.35 836.847 L1023.23 818.484 \n",
       "  L1021.9 802.813 L1021.62 800.122 L1019.14 781.759 L1015.96 763.396 L1011.96 745.033 L1007.04 726.67 L1005.66 722.208 L998.949 708.307 L989.415 692.072 L986.211 689.944 \n",
       "  L973.173 682.368 L956.932 686.712 L953.751 689.944 L940.691 703.253 L937.743 708.307 L927.343 726.67 L924.449 731.938 L919.231 745.033 L912.287 763.396 L908.208 774.761 \n",
       "  L906.167 781.759 L901.15 800.122 L896.492 818.484 L892.174 836.847 L891.967 837.802 L888.671 855.21 L885.525 873.573 L882.7 891.936 L880.191 910.299 L877.996 928.662 \n",
       "  L876.117 947.025 L875.725 951.683 L874.669 965.387 L873.575 983.75 L872.806 1002.11 L872.375 1020.48 L872.295 1038.84 L872.587 1057.2 L873.274 1075.56 L874.388 1093.93 \n",
       "  L875.725 1109.6 L876.005 1112.29 L878.478 1130.65 L881.665 1149.02 L885.66 1167.38 L890.578 1185.74 L891.967 1190.2 L898.674 1204.1 L908.208 1220.34 L911.412 1222.47 \n",
       "  L924.449 1230.04  Z\n",
       "  \" fill=\"#79d151\" fill-rule=\"evenodd\" fill-opacity=\"1\"/>\n",
       "<path clip-path=\"url(#clip162)\" d=\"\n",
       "M924.449 1188.47 L940.691 1186.42 L941.359 1185.74 L956.932 1169.86 L958.289 1167.38 L967.974 1149.02 L973.173 1138.83 L976.117 1130.65 L982.351 1112.29 L988.217 1093.93 \n",
       "  L989.415 1089.91 L992.813 1075.56 L996.796 1057.2 L1000.42 1038.84 L1003.68 1020.48 L1005.66 1007.99 L1006.45 1002.11 L1008.58 983.75 L1010.36 965.387 L1011.78 947.025 \n",
       "  L1012.83 928.662 L1013.49 910.299 L1013.74 891.936 L1013.55 873.573 L1012.88 855.21 L1011.69 836.847 L1009.93 818.484 L1007.54 800.122 L1005.66 788.767 L1004 781.759 \n",
       "  L998.585 763.396 L991.705 745.033 L989.415 739.886 L976.372 726.67 L973.173 723.943 L956.932 725.991 L956.264 726.67 L940.691 742.553 L939.334 745.033 L929.649 763.396 \n",
       "  L924.449 773.587 L921.506 781.759 L915.272 800.122 L909.406 818.484 L908.208 822.501 L904.809 836.847 L900.826 855.21 L897.204 873.573 L893.938 891.936 L891.967 904.424 \n",
       "  L891.171 910.299 L889.038 928.662 L887.258 947.025 L885.839 965.387 L884.791 983.75 L884.132 1002.11 L883.884 1020.48 L884.077 1038.84 L884.745 1057.2 L885.932 1075.56 \n",
       "  L887.69 1093.93 L890.082 1112.29 L891.967 1123.65 L893.62 1130.65 L899.037 1149.02 L905.917 1167.38 L908.208 1172.53 L921.251 1185.74 L924.449 1188.47  Z\n",
       "  \" fill=\"#a5da35\" fill-rule=\"evenodd\" fill-opacity=\"1\"/>\n",
       "<path clip-path=\"url(#clip162)\" d=\"\n",
       "M924.449 1140.44 L940.691 1142.31 L952.189 1130.65 L956.932 1125.81 L963.408 1112.29 L971.875 1093.93 L973.173 1090.95 L977.678 1075.56 L982.643 1057.2 L987.206 1038.84 \n",
       "  L989.415 1028.98 L990.888 1020.48 L993.651 1002.11 L996.003 983.75 L997.928 965.387 L999.405 947.025 L1000.41 928.662 L1000.89 910.299 L1000.82 891.936 L1000.12 873.573 \n",
       "  L998.719 855.21 L996.533 836.847 L993.448 818.484 L989.415 800.496 L989.262 800.122 L979.736 781.759 L973.173 771.976 L956.932 770.103 L945.433 781.759 L940.691 786.604 \n",
       "  L934.215 800.122 L925.747 818.484 L924.449 821.464 L919.945 836.847 L914.98 855.21 L910.416 873.573 L908.208 883.429 L906.735 891.936 L903.971 910.299 L901.62 928.662 \n",
       "  L899.695 947.025 L898.217 965.387 L897.217 983.75 L896.73 1002.11 L896.807 1020.48 L897.507 1038.84 L898.904 1057.2 L901.089 1075.56 L904.175 1093.93 L908.208 1111.92 \n",
       "  L908.361 1112.29 L917.887 1130.65 L924.449 1140.44  Z\n",
       "  \" fill=\"#d2e11b\" fill-rule=\"evenodd\" fill-opacity=\"1\"/>\n",
       "<path clip-path=\"url(#clip162)\" d=\"\n",
       "M924.449 1076.41 L940.691 1087.96 L952.952 1075.56 L956.932 1071.49 L962.449 1057.2 L969.082 1038.84 L973.173 1026.54 L974.444 1020.48 L977.734 1002.11 L980.489 983.75 \n",
       "  L982.666 965.387 L984.203 947.025 L985.022 928.662 L985.019 910.299 L984.062 891.936 L981.978 873.573 L978.546 855.21 L973.474 836.847 L973.173 836.005 L956.932 824.454 \n",
       "  L944.671 836.847 L940.691 840.926 L935.174 855.21 L928.541 873.573 L924.449 885.874 L923.179 891.936 L919.889 910.299 L917.133 928.662 L914.957 947.025 L913.42 965.387 \n",
       "  L912.601 983.75 L912.603 1002.11 L913.561 1020.48 L915.644 1038.84 L919.077 1057.2 L924.148 1075.56 L924.449 1076.41  Z\n",
       "  \" fill=\"#fde724\" fill-rule=\"evenodd\" fill-opacity=\"1\"/>\n",
       "<polyline clip-path=\"url(#clip162)\" style=\"stroke:#440154; stroke-linecap:butt; stroke-linejoin:round; stroke-width:4; stroke-opacity:1; fill:none\" points=\"\n",
       "  144.867,1865.17 144.867,1865.17 161.108,1865.17 177.349,1865.17 193.591,1865.17 209.832,1865.17 226.073,1865.17 242.315,1865.17 258.556,1865.17 274.797,1865.17 \n",
       "  291.039,1865.17 307.28,1865.17 323.521,1865.17 339.762,1865.17 356.004,1865.17 372.245,1865.17 388.486,1865.17 404.728,1865.17 420.969,1865.17 437.21,1865.17 \n",
       "  453.452,1865.17 469.693,1865.17 485.934,1865.17 502.175,1865.17 518.417,1865.17 534.658,1865.17 550.899,1865.17 567.141,1865.17 583.382,1865.17 599.623,1865.17 \n",
       "  615.865,1865.17 632.106,1865.17 648.347,1865.17 664.589,1865.17 680.83,1865.17 697.071,1865.17 713.312,1865.17 729.554,1865.17 745.795,1865.17 762.036,1865.17 \n",
       "  778.278,1865.17 794.519,1865.17 810.76,1865.17 827.002,1865.17 843.243,1865.17 859.484,1865.17 875.725,1865.17 891.967,1865.17 908.208,1865.17 924.449,1865.17 \n",
       "  940.691,1865.17 956.932,1865.17 973.173,1865.17 989.415,1865.17 1005.66,1865.17 1021.9,1865.17 1038.14,1865.17 1054.38,1865.17 1070.62,1865.17 1086.86,1865.17 \n",
       "  1103.1,1865.17 1119.35,1865.17 1135.59,1865.17 1151.83,1865.17 1168.07,1865.17 1184.31,1865.17 1200.55,1865.17 1216.79,1865.17 1233.03,1865.17 1249.28,1865.17 \n",
       "  1265.52,1865.17 1281.76,1865.17 1298,1865.17 1314.24,1865.17 1330.48,1865.17 1346.72,1865.17 1362.96,1865.17 1379.21,1865.17 1395.45,1865.17 1411.69,1865.17 \n",
       "  1427.93,1865.17 1444.17,1865.17 1460.41,1865.17 1476.65,1865.17 1492.9,1865.17 1509.14,1865.17 1525.38,1865.17 1541.62,1865.17 1557.86,1865.17 1574.1,1865.17 \n",
       "  1590.34,1865.17 1606.58,1865.17 1622.83,1865.17 1639.07,1865.17 1655.31,1865.17 1671.55,1865.17 1687.79,1865.17 1704.03,1865.17 1720.27,1865.17 1736.51,1865.17 \n",
       "  1752.76,1865.17 1752.76,1846.81 1752.76,1828.44 1752.76,1810.08 1752.76,1791.72 1752.76,1773.35 1752.76,1754.99 \n",
       "  1752.76,1736.63 1752.76,1718.26 1752.76,1699.9 1752.76,1681.54 1752.76,1663.18 1752.76,1644.81 1752.76,1626.45 1752.76,1608.09 1752.76,1589.72 1752.76,1571.36 \n",
       "  1752.76,1553 1752.76,1534.64 1752.76,1516.27 1752.76,1497.91 1752.76,1479.55 1752.76,1461.18 1752.76,1442.82 1752.76,1424.46 1752.76,1406.1 1752.76,1387.73 \n",
       "  1752.76,1369.37 1752.76,1351.01 1752.76,1332.64 1752.76,1314.28 1752.76,1295.92 1752.76,1277.56 1752.76,1259.19 1752.76,1240.83 1752.76,1222.47 1752.76,1204.1 \n",
       "  1752.76,1185.74 1752.76,1167.38 1752.76,1149.02 1752.76,1130.65 1752.76,1112.29 1752.76,1093.93 1752.76,1075.56 1752.76,1057.2 1752.76,1038.84 1752.76,1020.48 \n",
       "  1752.76,1002.11 1752.76,983.75 1752.76,965.387 1752.76,947.025 1752.76,928.662 1752.76,910.299 1752.76,891.936 1752.76,873.573 1752.76,855.21 1752.76,836.847 \n",
       "  1752.76,818.484 1752.76,800.122 1752.76,781.759 1752.76,763.396 1752.76,745.033 1752.76,726.67 1752.76,708.307 1752.76,689.944 1752.76,671.582 1752.76,653.219 \n",
       "  1752.76,634.856 1752.76,616.493 1752.76,598.13 1752.76,579.767 1752.76,561.404 1752.76,543.041 1752.76,524.679 1752.76,506.316 1752.76,487.953 1752.76,469.59 \n",
       "  1752.76,451.227 1752.76,432.864 1752.76,414.501 1752.76,396.139 1752.76,377.776 1752.76,359.413 1752.76,341.05 1752.76,322.687 1752.76,304.324 1752.76,285.961 \n",
       "  1752.76,267.598 1752.76,249.236 1752.76,230.873 1752.76,212.51 1752.76,194.147 1752.76,175.784 1752.76,157.421 1752.76,139.058 1752.76,120.696 1752.76,102.333 \n",
       "  1752.76,83.9698 1752.76,65.607 1752.76,47.2441 1736.51,47.2441 1720.27,47.2441 1704.03,47.2441 1687.79,47.2441 \n",
       "  1671.55,47.2441 1655.31,47.2441 1639.07,47.2441 1622.83,47.2441 1606.58,47.2441 1590.34,47.2441 1574.1,47.2441 1557.86,47.2441 1541.62,47.2441 1525.38,47.2441 \n",
       "  1509.14,47.2441 1492.9,47.2441 1476.65,47.2441 1460.41,47.2441 1444.17,47.2441 1427.93,47.2441 1411.69,47.2441 1395.45,47.2441 1379.21,47.2441 1362.96,47.2441 \n",
       "  1346.72,47.2441 1330.48,47.2441 1314.24,47.2441 1298,47.2441 1281.76,47.2441 1265.52,47.2441 1249.28,47.2441 1233.03,47.2441 1216.79,47.2441 1200.55,47.2441 \n",
       "  1184.31,47.2441 1168.07,47.2441 1151.83,47.2441 1135.59,47.2441 1119.35,47.2441 1103.1,47.2441 1086.86,47.2441 1070.62,47.2441 1054.38,47.2441 1038.14,47.2441 \n",
       "  1021.9,47.2441 1005.66,47.2441 989.415,47.2441 973.173,47.2441 956.932,47.2441 940.691,47.2441 924.449,47.2441 908.208,47.2441 891.967,47.2441 875.725,47.2441 \n",
       "  859.484,47.2441 843.243,47.2441 827.002,47.2441 810.76,47.2441 794.519,47.2441 778.278,47.2441 762.036,47.2441 745.795,47.2441 729.554,47.2441 713.312,47.2441 \n",
       "  697.071,47.2441 680.83,47.2441 664.589,47.2441 648.347,47.2441 632.106,47.2441 615.865,47.2441 599.623,47.2441 583.382,47.2441 567.141,47.2441 550.899,47.2441 \n",
       "  534.658,47.2441 518.417,47.2441 502.175,47.2441 485.934,47.2441 469.693,47.2441 453.452,47.2441 437.21,47.2441 420.969,47.2441 404.728,47.2441 388.486,47.2441 \n",
       "  372.245,47.2441 356.004,47.2441 339.762,47.2441 323.521,47.2441 307.28,47.2441 291.039,47.2441 274.797,47.2441 258.556,47.2441 242.315,47.2441 226.073,47.2441 \n",
       "  209.832,47.2441 193.591,47.2441 177.349,47.2441 161.108,47.2441 144.867,47.2441 144.867,65.607 144.867,83.9698 \n",
       "  144.867,102.333 144.867,120.696 144.867,139.058 144.867,157.421 144.867,175.784 144.867,194.147 144.867,212.51 144.867,230.873 144.867,249.236 144.867,267.598 \n",
       "  144.867,285.961 144.867,304.324 144.867,322.687 144.867,341.05 144.867,359.413 144.867,377.776 144.867,396.139 144.867,414.501 144.867,432.864 144.867,451.227 \n",
       "  144.867,469.59 144.867,487.953 144.867,506.316 144.867,524.679 144.867,543.041 144.867,561.404 144.867,579.767 144.867,598.13 144.867,616.493 144.867,634.856 \n",
       "  144.867,653.219 144.867,671.582 144.867,689.944 144.867,708.307 144.867,726.67 144.867,745.033 144.867,763.396 144.867,781.759 144.867,800.122 144.867,818.484 \n",
       "  144.867,836.847 144.867,855.21 144.867,873.573 144.867,891.936 144.867,910.299 144.867,928.662 144.867,947.025 144.867,965.387 144.867,983.75 144.867,1002.11 \n",
       "  144.867,1020.48 144.867,1038.84 144.867,1057.2 144.867,1075.56 144.867,1093.93 144.867,1112.29 144.867,1130.65 144.867,1149.02 144.867,1167.38 144.867,1185.74 \n",
       "  144.867,1204.1 144.867,1222.47 144.867,1240.83 144.867,1259.19 144.867,1277.56 144.867,1295.92 144.867,1314.28 144.867,1332.64 144.867,1351.01 144.867,1369.37 \n",
       "  144.867,1387.73 144.867,1406.1 144.867,1424.46 144.867,1442.82 144.867,1461.18 144.867,1479.55 144.867,1497.91 144.867,1516.27 144.867,1534.64 144.867,1553 \n",
       "  144.867,1571.36 144.867,1589.72 144.867,1608.09 144.867,1626.45 144.867,1644.81 144.867,1663.18 144.867,1681.54 144.867,1699.9 144.867,1718.26 144.867,1736.63 \n",
       "  144.867,1754.99 144.867,1773.35 144.867,1791.72 144.867,1810.08 144.867,1828.44 144.867,1846.81 144.867,1865.17 \n",
       "  \"/>\n",
       "<polyline clip-path=\"url(#clip162)\" style=\"stroke:#440154; stroke-linecap:butt; stroke-linejoin:round; stroke-width:4; stroke-opacity:1; fill:none\" points=\"\n",
       "  859.484,1798.91 875.725,1802.73 891.967,1802.11 908.208,1797.27 918.137,1791.72 924.449,1788.4 940.691,1775.67 942.951,1773.35 956.932,1759.2 960.323,1754.99 \n",
       "  973.173,1738.78 974.648,1736.63 987.013,1718.26 989.415,1714.59 998.146,1699.9 1005.66,1686.37 1008.21,1681.54 1017.54,1663.18 1021.9,1654 1026.22,1644.81 \n",
       "  1034.3,1626.45 1038.14,1617.13 1041.96,1608.09 1049.22,1589.72 1054.38,1575.36 1055.91,1571.36 1062.67,1553 1068.67,1534.64 1070.62,1528.37 1074.76,1516.27 \n",
       "  1080.54,1497.91 1085.7,1479.55 1086.86,1475.22 1091.16,1461.18 1096.29,1442.82 1100.88,1424.46 1103.1,1414.97 1105.54,1406.1 1110.26,1387.73 1114.5,1369.37 \n",
       "  1118.32,1351.01 1119.35,1345.81 1122.5,1332.64 1126.55,1314.28 1130.21,1295.92 1133.51,1277.56 1135.59,1265.06 1136.81,1259.19 1140.42,1240.83 1143.7,1222.47 \n",
       "  1146.67,1204.1 1149.36,1185.74 1151.82,1167.38 1151.83,1167.31 1154.86,1149.02 1157.62,1130.65 1160.13,1112.29 1162.42,1093.93 1164.5,1075.56 1166.4,1057.2 \n",
       "  1168.07,1039.51 1168.15,1038.84 1170.33,1020.48 1172.3,1002.11 1174.09,983.75 1175.71,965.387 1177.17,947.025 1178.49,928.662 1179.68,910.299 1180.73,891.936 \n",
       "  1181.67,873.573 1182.49,855.21 1183.21,836.847 1183.82,818.484 1184.31,800.888 1184.34,800.122 1184.9,781.759 1185.32,763.396 1185.61,745.033 1185.76,726.67 \n",
       "  1185.78,708.307 1185.65,689.944 1185.39,671.582 1184.97,653.219 1184.41,634.856 1184.31,632.395 1183.84,616.493 1183.16,598.13 1182.34,579.767 1181.37,561.404 \n",
       "  1180.23,543.041 1178.92,524.679 1177.41,506.316 1175.69,487.953 1173.73,469.59 1171.5,451.227 1168.99,432.864 1168.07,426.708 1166.52,414.501 1163.92,396.139 \n",
       "  1160.98,377.776 1157.65,359.413 1153.88,341.05 1151.83,331.894 1149.94,322.687 1145.79,304.324 1141.07,285.961 1135.67,267.598 1135.59,267.316 1130.11,249.236 \n",
       "  1123.72,230.873 1119.35,219.528 1116.5,212.51 1108.37,194.147 1103.1,183.443 1098.84,175.784 1087.57,157.421 1086.86,156.33 1073.04,139.058 1070.62,136.214 \n",
       "  1054.38,122.274 1051.43,120.696 1038.14,113.505 1021.9,109.68 1005.66,110.302 989.415,115.145 979.485,120.696 973.173,124.01 956.932,136.746 954.671,139.058 \n",
       "  940.691,153.21 937.3,157.421 924.449,173.636 922.974,175.784 910.609,194.147 908.208,197.822 899.477,212.51 891.967,226.037 889.412,230.873 880.085,249.236 \n",
       "  875.725,258.412 871.404,267.598 863.318,285.961 859.484,295.287 855.665,304.324 848.4,322.687 843.243,337.048 841.713,341.05 834.954,359.413 828.948,377.776 \n",
       "  827.002,384.041 822.865,396.139 817.083,414.501 811.927,432.864 810.76,437.196 806.463,451.227 801.33,469.59 796.738,487.953 794.519,497.445 792.084,506.316 \n",
       "  787.359,524.679 783.12,543.041 779.307,561.404 778.278,566.603 775.122,579.767 771.069,598.13 767.417,616.493 764.116,634.856 762.036,647.352 760.817,653.219 \n",
       "  757.198,671.582 753.924,689.944 750.955,708.307 748.259,726.67 745.804,745.033 745.795,745.106 742.765,763.396 740.004,781.759 737.493,800.122 735.207,818.484 \n",
       "  733.125,836.847 731.226,855.21 729.554,872.905 729.47,873.573 727.294,891.936 725.319,910.299 723.53,928.662 721.911,947.025 720.448,965.387 719.13,983.75 \n",
       "  717.946,1002.11 716.89,1020.48 715.952,1038.84 715.128,1057.2 714.412,1075.56 713.801,1093.93 713.312,1111.52 713.283,1112.29 712.722,1130.65 712.298,1149.02 \n",
       "  712.011,1167.38 711.86,1185.74 711.845,1204.1 711.969,1222.47 712.236,1240.83 712.65,1259.19 713.217,1277.56 713.312,1280.02 713.787,1295.92 714.465,1314.28 \n",
       "  715.283,1332.64 716.253,1351.01 717.388,1369.37 718.702,1387.73 720.211,1406.1 721.936,1424.46 723.897,1442.82 726.121,1461.18 728.636,1479.55 729.554,1485.7 \n",
       "  731.103,1497.91 733.698,1516.27 736.639,1534.64 739.971,1553 743.743,1571.36 745.795,1580.52 747.686,1589.72 751.83,1608.09 756.557,1626.45 761.95,1644.81 \n",
       "  762.036,1645.1 767.511,1663.18 773.902,1681.54 778.278,1692.88 781.122,1699.9 789.255,1718.26 794.519,1728.97 798.783,1736.63 810.056,1754.99 810.76,1756.08 \n",
       "  824.587,1773.35 827.002,1776.2 843.243,1790.14 846.195,1791.72 859.484,1798.91 \n",
       "  \"/>\n",
       "<polyline clip-path=\"url(#clip162)\" style=\"stroke:#440154; stroke-linecap:butt; stroke-linejoin:round; stroke-width:4; stroke-opacity:1; fill:none\" points=\"\n",
       "  875.725,1687.56 891.967,1689.66 908.208,1686.74 919.027,1681.54 924.449,1679.09 940.691,1667.02 944.455,1663.18 956.932,1650.53 961.411,1644.81 973.173,1629.52 \n",
       "  975.185,1626.45 986.928,1608.09 989.415,1604.08 997.423,1589.72 1005.66,1573.89 1006.89,1571.36 1015.66,1553 1021.9,1538.79 1023.69,1534.64 1031.33,1516.27 \n",
       "  1038.14,1498.12 1038.22,1497.91 1045.13,1479.55 1051.34,1461.18 1054.38,1451.63 1057.35,1442.82 1063.17,1424.46 1068.42,1406.1 1070.62,1397.95 1073.65,1387.73 \n",
       "  1078.74,1369.37 1083.34,1351.01 1086.86,1335.68 1087.65,1332.64 1092.26,1314.28 1096.43,1295.92 1100.22,1277.56 1103.1,1262.4 1103.82,1259.19 1107.73,1240.83 \n",
       "  1111.29,1222.47 1114.52,1204.1 1117.48,1185.74 1119.35,1173.26 1120.41,1167.38 1123.54,1149.02 1126.39,1130.65 1129,1112.29 1131.37,1093.93 1133.54,1075.56 \n",
       "  1135.52,1057.2 1135.59,1056.59 1137.84,1038.84 1139.96,1020.48 1141.89,1002.11 1143.63,983.75 1145.2,965.387 1146.61,947.025 1147.88,928.662 1149.01,910.299 \n",
       "  1150.01,891.936 1150.87,873.573 1151.62,855.21 1151.83,849.231 1152.37,836.847 1153.03,818.484 1153.53,800.122 1153.89,781.759 1154.09,763.396 1154.15,745.033 \n",
       "  1154.04,726.67 1153.79,708.307 1153.36,689.944 1152.77,671.582 1152,653.219 1151.83,649.901 1151.19,634.856 1150.25,616.493 1149.13,598.13 1147.81,579.767 \n",
       "  1146.28,561.404 1144.51,543.041 1142.48,524.679 1140.17,506.316 1137.54,487.953 1135.59,475.739 1134.69,469.59 1131.77,451.227 1128.44,432.864 1124.66,414.501 \n",
       "  1120.36,396.139 1119.35,392.096 1115.8,377.776 1110.69,359.413 1104.84,341.05 1103.1,335.989 1098.27,322.687 1090.73,304.324 1086.86,295.732 1081.81,285.961 \n",
       "  1071.19,267.598 1070.62,266.66 1057.08,249.236 1054.38,245.993 1038.14,232.455 1034.75,230.873 1021.9,224.855 1005.66,222.747 989.415,225.674 978.595,230.873 \n",
       "  973.173,233.325 956.932,245.39 953.168,249.236 940.691,261.879 936.212,267.598 924.449,282.889 922.438,285.961 910.695,304.324 908.208,308.33 900.2,322.687 \n",
       "  891.967,338.525 890.729,341.05 881.96,359.413 875.725,373.625 873.935,377.776 866.294,396.139 859.484,414.291 859.403,414.501 852.496,432.864 846.278,451.227 \n",
       "  843.243,460.778 840.275,469.59 834.455,487.953 829.201,506.316 827.002,514.458 823.974,524.679 818.887,543.041 814.285,561.404 810.76,576.729 809.968,579.767 \n",
       "  805.362,598.13 801.189,616.493 797.398,634.856 794.519,650.011 793.805,653.219 789.892,671.582 786.336,689.944 783.098,708.307 780.143,726.67 778.278,739.149 \n",
       "  777.215,745.033 774.083,763.396 771.23,781.759 768.628,800.122 766.252,818.484 764.082,836.847 762.098,855.21 762.036,855.817 759.78,873.573 757.659,891.936 \n",
       "  755.736,910.299 753.995,928.662 752.423,947.025 751.009,965.387 749.741,983.75 748.613,1002.11 747.618,1020.48 746.748,1038.84 746.001,1057.2 745.795,1063.18 \n",
       "  745.249,1075.56 744.593,1093.93 744.088,1112.29 743.734,1130.65 743.53,1149.02 743.477,1167.38 743.578,1185.74 743.838,1204.1 744.26,1222.47 744.853,1240.83 \n",
       "  745.625,1259.19 745.795,1262.51 746.431,1277.56 747.371,1295.92 748.493,1314.28 749.811,1332.64 751.344,1351.01 753.113,1369.37 755.141,1387.73 757.455,1406.1 \n",
       "  760.087,1424.46 762.036,1436.67 762.928,1442.82 765.853,1461.18 769.182,1479.55 772.965,1497.91 777.262,1516.27 778.278,1520.32 781.82,1534.64 786.934,1553 \n",
       "  792.784,1571.36 794.519,1576.42 799.358,1589.72 806.892,1608.09 810.76,1616.68 815.817,1626.45 826.429,1644.81 827.002,1645.75 840.545,1663.18 843.243,1666.42 \n",
       "  859.484,1679.96 862.877,1681.54 875.725,1687.56 \n",
       "  \"/>\n",
       "<polyline clip-path=\"url(#clip162)\" style=\"stroke:#440154; stroke-linecap:butt; stroke-linejoin:round; stroke-width:4; stroke-opacity:1; fill:none\" points=\"\n",
       "  875.725,1609.6 891.967,1614.19 908.208,1612.95 919.983,1608.09 924.449,1606.35 940.691,1594.83 945.692,1589.72 956.932,1578.33 962.26,1571.36 973.173,1556.82 \n",
       "  975.579,1553 986.838,1534.64 989.415,1530.31 996.844,1516.27 1005.66,1498.39 1005.88,1497.91 1014.19,1479.55 1021.75,1461.18 1021.9,1460.83 1029,1442.82 \n",
       "  1035.59,1424.46 1038.14,1417 1041.92,1406.1 1047.89,1387.73 1053.31,1369.37 1054.38,1365.62 1058.76,1351.01 1063.85,1332.64 1068.48,1314.28 1070.62,1305.27 \n",
       "  1073.05,1295.92 1077.53,1277.56 1081.62,1259.19 1085.36,1240.83 1086.86,1233.01 1089.15,1222.47 1092.88,1204.1 1096.28,1185.74 1099.39,1167.38 1102.24,1149.02 \n",
       "  1103.1,1143.16 1105.24,1130.65 1108.15,1112.29 1110.81,1093.93 1113.23,1075.56 1115.44,1057.2 1117.46,1038.84 1119.3,1020.48 1119.35,1020 1121.36,1002.11 \n",
       "  1123.22,983.75 1124.9,965.387 1126.4,947.025 1127.73,928.662 1128.91,910.299 1129.93,891.936 1130.8,873.573 1131.53,855.21 1132.12,836.847 1132.57,818.484 \n",
       "  1132.88,800.122 1133.05,781.759 1133.07,763.396 1132.95,745.033 1132.67,726.67 1132.24,708.307 1131.63,689.944 1130.85,671.582 1129.87,653.219 1128.69,634.856 \n",
       "  1127.29,616.493 1125.64,598.13 1123.73,579.767 1121.53,561.404 1119.35,545.386 1119.05,543.041 1116.5,524.679 1113.57,506.316 1110.23,487.953 1106.43,469.59 \n",
       "  1103.1,455.252 1102.16,451.227 1097.49,432.864 1092.15,414.501 1086.86,398.478 1086.02,396.139 1078.9,377.776 1070.66,359.413 1070.62,359.324 1060.18,341.05 \n",
       "  1054.38,331.915 1046.45,322.687 1038.14,313.617 1024.22,304.324 1021.9,302.813 1005.66,298.226 989.415,299.464 977.64,304.324 973.173,306.063 956.932,317.58 \n",
       "  951.931,322.687 940.691,334.085 935.363,341.05 924.449,355.594 922.044,359.413 910.784,377.776 908.208,382.105 900.779,396.139 891.967,414.024 891.747,414.501 \n",
       "  883.431,432.864 875.869,451.227 875.725,451.582 868.62,469.59 862.029,487.953 859.484,495.413 855.701,506.316 849.738,524.679 844.311,543.041 843.243,546.797 \n",
       "  838.859,561.404 833.776,579.767 829.144,598.13 827.002,607.145 824.572,616.493 820.088,634.856 816,653.219 812.263,671.582 810.76,679.404 808.471,689.944 \n",
       "  804.745,708.307 801.342,726.67 798.229,745.033 795.378,763.396 794.519,769.256 792.38,781.759 789.471,800.122 786.817,818.484 784.393,836.847 782.181,855.21 \n",
       "  780.162,873.573 778.322,891.936 778.278,892.41 776.264,910.299 774.398,928.662 772.721,947.025 771.222,965.387 769.89,983.75 768.717,1002.11 767.697,1020.48 \n",
       "  766.824,1038.84 766.094,1057.2 765.505,1075.56 765.055,1093.93 764.745,1112.29 764.577,1130.65 764.551,1149.02 764.674,1167.38 764.95,1185.74 765.386,1204.1 \n",
       "  765.99,1222.47 766.774,1240.83 767.75,1259.19 768.931,1277.56 770.335,1295.92 771.981,1314.28 773.891,1332.64 776.092,1351.01 778.278,1367.03 778.574,1369.37 \n",
       "  781.128,1387.73 784.051,1406.1 787.388,1424.46 791.19,1442.82 794.519,1457.16 795.459,1461.18 800.128,1479.55 805.474,1497.91 810.76,1513.93 811.603,1516.27 \n",
       "  818.725,1534.64 826.959,1553 827.002,1553.09 837.441,1571.36 843.243,1580.5 851.17,1589.72 859.484,1598.8 873.405,1608.09 875.725,1609.6 \n",
       "  \"/>\n",
       "<polyline clip-path=\"url(#clip162)\" style=\"stroke:#440154; stroke-linecap:butt; stroke-linejoin:round; stroke-width:4; stroke-opacity:1; fill:none\" points=\"\n",
       "  891.967,1554.22 908.208,1554.65 912.913,1553 924.449,1549.18 940.691,1538.08 944.065,1534.64 956.932,1521.58 960.907,1516.27 973.173,1499.56 974.177,1497.91 \n",
       "  985.142,1479.55 989.415,1472.09 994.93,1461.18 1003.7,1442.82 1005.66,1438.58 1011.72,1424.46 1019.05,1406.1 1021.9,1398.62 1025.93,1387.73 1032.31,1369.37 \n",
       "  1038.14,1351.08 1038.16,1351.01 1043.94,1332.64 1049.22,1314.28 1054.06,1295.92 1054.38,1294.65 1058.96,1277.56 1063.48,1259.19 1067.62,1240.83 1070.62,1226.49 \n",
       "  1071.54,1222.47 1075.53,1204.1 1079.18,1185.74 1082.53,1167.38 1085.61,1149.02 1086.86,1141.02 1088.7,1130.65 1091.73,1112.29 1094.49,1093.93 1097.02,1075.56 \n",
       "  1099.32,1057.2 1101.43,1038.84 1103.1,1022.86 1103.39,1020.48 1105.47,1002.11 1107.33,983.75 1109,965.387 1110.49,947.025 1111.8,928.662 1112.94,910.299 \n",
       "  1113.92,891.936 1114.74,873.573 1115.41,855.21 1115.92,836.847 1116.28,818.484 1116.48,800.122 1116.52,781.759 1116.4,763.396 1116.11,745.033 1115.63,726.67 \n",
       "  1114.97,708.307 1114.11,689.944 1113.03,671.582 1111.72,653.219 1110.16,634.856 1108.32,616.493 1106.19,598.13 1103.73,579.767 1103.1,575.574 1101.07,561.404 \n",
       "  1098.08,543.041 1094.64,524.679 1090.71,506.316 1086.86,490.435 1086.23,487.953 1081.16,469.59 1075.33,451.227 1070.62,438.019 1068.51,432.864 1060.25,414.501 \n",
       "  1054.38,402.869 1050.02,396.139 1038.14,379.511 1036.28,377.776 1021.9,365.067 1008.57,359.413 1005.66,358.194 989.415,357.764 984.71,359.413 973.173,363.23 \n",
       "  956.932,374.332 953.558,377.776 940.691,390.831 936.715,396.139 924.449,412.852 923.446,414.501 912.481,432.864 908.208,440.319 902.692,451.227 893.925,469.59 \n",
       "  891.967,473.828 885.903,487.953 878.572,506.316 875.725,513.795 871.696,524.679 865.311,543.041 859.484,561.33 859.46,561.404 853.684,579.767 848.404,598.13 \n",
       "  843.565,616.493 843.243,617.758 838.66,634.856 834.142,653.219 830.002,671.582 827.002,685.919 826.083,689.944 822.092,708.307 818.439,726.67 815.091,745.033 \n",
       "  812.017,763.396 810.76,771.393 808.924,781.759 805.897,800.122 803.132,818.484 800.606,836.847 798.299,855.21 796.194,873.573 794.519,889.551 794.228,891.936 \n",
       "  792.156,910.299 790.291,928.662 788.621,947.025 787.136,965.387 785.825,983.75 784.683,1002.11 783.702,1020.48 782.88,1038.84 782.213,1057.2 781.701,1075.56 \n",
       "  781.343,1093.93 781.142,1112.29 781.1,1130.65 781.223,1149.02 781.517,1167.38 781.989,1185.74 782.651,1204.1 783.514,1222.47 784.592,1240.83 785.902,1259.19 \n",
       "  787.463,1277.56 789.298,1295.92 791.432,1314.28 793.896,1332.64 794.519,1336.84 796.549,1351.01 799.544,1369.37 802.981,1387.73 806.912,1406.1 810.76,1421.98 \n",
       "  811.391,1424.46 816.461,1442.82 822.29,1461.18 827.002,1474.39 829.114,1479.55 837.368,1497.91 843.243,1509.54 847.606,1516.27 859.484,1532.9 861.342,1534.64 \n",
       "  875.725,1547.34 889.053,1553 891.967,1554.22 \n",
       "  \"/>\n",
       "<polyline clip-path=\"url(#clip162)\" style=\"stroke:#440154; stroke-linecap:butt; stroke-linejoin:round; stroke-width:4; stroke-opacity:1; fill:none\" points=\"\n",
       "  891.967,1502.79 908.208,1504.96 924.449,1500.46 928.29,1497.91 940.691,1489.92 950.862,1479.55 956.932,1473.39 965.845,1461.18 973.173,1450.93 977.914,1442.82 \n",
       "  988.216,1424.46 989.415,1422.27 997.169,1406.1 1005.36,1387.73 1005.66,1387.05 1012.77,1369.37 1019.59,1351.01 1021.9,1344.52 1025.98,1332.64 1031.9,1314.28 \n",
       "  1037.35,1295.92 1038.14,1293.15 1042.64,1277.56 1047.53,1259.19 1052.04,1240.83 1054.38,1230.7 1056.37,1222.47 1060.56,1204.1 1064.4,1185.74 1067.94,1167.38 \n",
       "  1070.62,1152.34 1071.26,1149.02 1074.63,1130.65 1077.72,1112.29 1080.54,1093.93 1083.12,1075.56 1085.48,1057.2 1086.86,1045.58 1087.76,1038.84 1090.01,1020.48 \n",
       "  1092.04,1002.11 1093.87,983.75 1095.5,965.387 1096.94,947.025 1098.21,928.662 1099.3,910.299 1100.22,891.936 1100.98,873.573 1101.57,855.21 1102,836.847 \n",
       "  1102.26,818.484 1102.35,800.122 1102.26,781.759 1101.98,763.396 1101.51,745.033 1100.84,726.67 1099.94,708.307 1098.82,689.944 1097.43,671.582 1095.78,653.219 \n",
       "  1093.82,634.856 1091.53,616.493 1088.87,598.13 1086.86,585.875 1085.85,579.767 1082.46,561.404 1078.55,543.041 1074.05,524.679 1070.62,512.185 1068.83,506.316 \n",
       "  1062.66,487.953 1055.52,469.59 1054.38,466.879 1046.24,451.227 1038.14,437.456 1034.3,432.864 1021.9,419.165 1014.12,414.501 1005.66,409.617 989.415,407.453 \n",
       "  973.173,411.95 969.333,414.501 956.932,422.49 946.761,432.864 940.691,439.027 931.778,451.227 924.449,461.478 919.709,469.59 909.407,487.953 908.208,490.139 \n",
       "  900.454,506.316 892.264,524.679 891.967,525.36 884.849,543.041 878.03,561.404 875.725,567.893 871.643,579.767 865.724,598.13 860.275,616.493 859.484,619.261 \n",
       "  854.987,634.856 850.088,653.219 845.582,671.582 843.243,681.713 841.251,689.944 837.063,708.307 833.219,726.67 829.685,745.033 827.002,760.076 826.358,763.396 \n",
       "  822.989,781.759 819.906,800.122 817.083,818.484 814.5,836.847 812.138,855.21 810.76,866.828 809.862,873.573 807.61,891.936 805.578,910.299 803.753,928.662 \n",
       "  802.124,947.025 800.681,965.387 799.416,983.75 798.324,1002.11 797.4,1020.48 796.643,1038.84 796.05,1057.2 795.623,1075.56 795.365,1093.93 795.277,1112.29 \n",
       "  795.368,1130.65 795.642,1149.02 796.111,1167.38 796.786,1185.74 797.679,1204.1 798.807,1222.47 800.189,1240.83 801.847,1259.19 803.807,1277.56 806.097,1295.92 \n",
       "  808.751,1314.28 810.76,1326.54 811.77,1332.64 815.164,1351.01 819.076,1369.37 823.569,1387.73 827.002,1400.23 828.788,1406.1 834.965,1424.46 842.105,1442.82 \n",
       "  843.243,1445.53 851.382,1461.18 859.484,1474.96 863.321,1479.55 875.725,1493.25 883.505,1497.91 891.967,1502.79 \n",
       "  \"/>\n",
       "<polyline clip-path=\"url(#clip162)\" style=\"stroke:#440154; stroke-linecap:butt; stroke-linejoin:round; stroke-width:4; stroke-opacity:1; fill:none\" points=\"\n",
       "  875.725,1443.81 891.967,1456.3 908.208,1460.28 924.449,1457.01 940.691,1446.95 944.739,1442.82 956.932,1430.44 961.216,1424.46 973.173,1407.39 973.907,1406.1 \n",
       "  984.099,1387.73 989.415,1377.71 993.253,1369.37 1001.32,1351.01 1005.66,1340.63 1008.72,1332.64 1015.42,1314.28 1021.62,1295.92 1021.9,1295.07 1027.42,1277.56 \n",
       "  1032.77,1259.19 1037.71,1240.83 1038.14,1239.17 1042.48,1222.47 1046.89,1204.1 1050.96,1185.74 1054.38,1169.06 1054.74,1167.38 1058.48,1149.02 1061.92,1130.65 \n",
       "  1065.07,1112.29 1067.96,1093.93 1070.62,1075.56 1070.62,1075.56 1073.31,1057.2 1075.76,1038.84 1077.98,1020.48 1079.97,1002.11 1081.77,983.75 1083.36,965.387 \n",
       "  1084.77,947.025 1086,928.662 1086.86,913.556 1087.07,910.299 1088.04,891.936 1088.82,873.573 1089.39,855.21 1089.76,836.847 1089.92,818.484 1089.88,800.122 \n",
       "  1089.62,781.759 1089.13,763.396 1088.41,745.033 1087.43,726.67 1086.86,718.07 1086.24,708.307 1084.81,689.944 1083.07,671.582 1081.01,653.219 1078.57,634.856 \n",
       "  1075.74,616.493 1072.45,598.13 1070.62,589.042 1068.63,579.767 1064.17,561.404 1059.01,543.041 1054.38,528.517 1052.93,524.679 1045.26,506.316 1038.14,491.447 \n",
       "  1035.87,487.953 1022.67,469.59 1021.9,468.604 1005.66,456.112 989.415,452.127 973.173,455.407 956.932,465.463 952.884,469.59 940.691,481.974 936.407,487.953 \n",
       "  924.449,505.02 923.715,506.316 913.524,524.679 908.208,534.7 904.369,543.041 896.299,561.404 891.967,571.784 888.907,579.767 882.206,598.13 876.005,616.493 \n",
       "  875.725,617.345 870.206,634.856 864.857,653.219 859.915,671.582 859.484,673.245 855.142,689.944 850.73,708.307 846.664,726.67 843.243,743.353 842.883,745.033 \n",
       "  839.139,763.396 835.704,781.759 832.552,800.122 829.658,818.484 827.002,836.847 827.002,836.854 824.308,855.21 821.861,873.573 819.646,891.936 817.648,910.299 \n",
       "  815.856,928.662 814.259,947.025 812.851,965.387 811.624,983.75 810.76,998.856 810.552,1002.11 809.578,1020.48 808.806,1038.84 808.235,1057.2 807.866,1075.56 \n",
       "  807.702,1093.93 807.746,1112.29 808.007,1130.65 808.493,1149.02 809.216,1167.38 810.188,1185.74 810.76,1194.34 811.382,1204.1 812.814,1222.47 814.549,1240.83 \n",
       "  816.616,1259.19 819.05,1277.56 821.888,1295.92 825.175,1314.28 827.002,1323.37 828.997,1332.64 833.454,1351.01 838.608,1369.37 843.243,1383.9 844.695,1387.73 \n",
       "  852.36,1406.1 859.484,1420.96 861.752,1424.46 874.956,1442.82 875.725,1443.81 \n",
       "  \"/>\n",
       "<polyline clip-path=\"url(#clip162)\" style=\"stroke:#440154; stroke-linecap:butt; stroke-linejoin:round; stroke-width:4; stroke-opacity:1; fill:none\" points=\"\n",
       "  891.967,1412.79 908.208,1418.94 924.449,1416.89 940.691,1407.38 941.948,1406.1 956.932,1390.87 959.131,1387.73 971.759,1369.37 973.173,1367.28 981.906,1351.01 \n",
       "  989.415,1336.3 991.022,1332.64 998.824,1314.28 1005.66,1297.08 1006.08,1295.92 1012.52,1277.56 1018.5,1259.19 1021.9,1248.15 1024.06,1240.83 1029.19,1222.47 \n",
       "  1033.93,1204.1 1038.14,1186.54 1038.33,1185.74 1042.54,1167.38 1046.41,1149.02 1049.98,1130.65 1053.26,1112.29 1054.38,1105.62 1056.42,1093.93 1059.37,1075.56 \n",
       "  1062.06,1057.2 1064.51,1038.84 1066.72,1020.48 1068.73,1002.11 1070.52,983.75 1070.62,982.599 1072.24,965.387 1073.75,947.025 1075.05,928.662 1076.13,910.299 \n",
       "  1077.01,891.936 1077.68,873.573 1078.14,855.21 1078.39,836.847 1078.42,818.484 1078.22,800.122 1077.79,781.759 1077.11,763.396 1076.17,745.033 1074.94,726.67 \n",
       "  1073.41,708.307 1071.55,689.944 1070.62,682.081 1069.35,671.582 1066.74,653.219 1063.67,634.856 1060.09,616.493 1055.94,598.13 1054.38,591.937 1050.86,579.767 \n",
       "  1044.78,561.404 1038.14,544.085 1037.62,543.041 1027.57,524.679 1021.9,515.52 1012.82,506.316 1005.66,499.622 989.415,493.47 973.173,495.521 956.932,505.034 \n",
       "  955.674,506.316 940.691,521.541 938.492,524.679 925.864,543.041 924.449,545.134 915.717,561.404 908.208,576.11 906.6,579.767 898.799,598.13 891.967,615.333 \n",
       "  891.546,616.493 885.098,634.856 879.12,653.219 875.725,664.259 873.567,671.582 868.437,689.944 863.693,708.307 859.484,725.875 859.293,726.67 855.085,745.033 \n",
       "  851.212,763.396 847.646,781.759 844.359,800.122 843.243,806.787 841.205,818.484 838.254,836.847 835.564,855.21 833.117,873.573 830.899,891.936 828.898,910.299 \n",
       "  827.102,928.662 827.002,929.813 825.379,947.025 823.869,965.387 822.574,983.75 821.49,1002.11 820.613,1020.48 819.945,1038.84 819.485,1057.2 819.237,1075.56 \n",
       "  819.207,1093.93 819.403,1112.29 819.834,1130.65 820.514,1149.02 821.458,1167.38 822.683,1185.74 824.213,1204.1 826.071,1222.47 827.002,1230.33 828.277,1240.83 \n",
       "  830.884,1259.19 833.95,1277.56 837.53,1295.92 841.684,1314.28 843.243,1320.48 846.767,1332.64 852.843,1351.01 859.484,1368.33 860.003,1369.37 870.053,1387.73 \n",
       "  875.725,1396.89 884.799,1406.1 891.967,1412.79 \n",
       "  \"/>\n",
       "<polyline clip-path=\"url(#clip162)\" style=\"stroke:#440154; stroke-linecap:butt; stroke-linejoin:round; stroke-width:4; stroke-opacity:1; fill:none\" points=\"\n",
       "  891.967,1370.82 908.208,1379.48 924.449,1378.86 940.691,1370.02 941.332,1369.37 956.932,1353.51 958.642,1351.01 970.956,1332.64 973.173,1329.27 980.883,1314.28 \n",
       "  989.415,1296.83 989.796,1295.92 997.231,1277.56 1004.18,1259.19 1005.66,1255.14 1010.37,1240.83 1016.04,1222.47 1021.31,1204.1 1021.9,1201.97 1026.15,1185.74 \n",
       "  1030.61,1167.38 1034.73,1149.02 1038.14,1132.69 1038.56,1130.65 1042.16,1112.29 1045.46,1093.93 1048.48,1075.56 1051.24,1057.2 1053.76,1038.84 1054.38,1033.91 \n",
       "  1056.13,1020.48 1058.28,1002.11 1060.19,983.75 1061.86,965.387 1063.32,947.025 1064.56,928.662 1065.58,910.299 1066.38,891.936 1066.96,873.573 1067.32,855.21 \n",
       "  1067.45,836.847 1067.34,818.484 1066.98,800.122 1066.35,781.759 1065.44,763.396 1064.22,745.033 1062.67,726.67 1060.77,708.307 1058.46,689.944 1055.73,671.582 \n",
       "  1054.38,663.688 1052.4,653.219 1048.39,634.856 1043.69,616.493 1038.21,598.13 1038.14,597.909 1030.66,579.767 1021.9,561.693 1021.69,561.404 1006.94,543.041 \n",
       "  1005.66,541.592 989.415,532.927 973.173,533.547 956.932,542.389 956.291,543.041 940.691,558.901 938.981,561.404 926.667,579.767 924.449,583.142 916.739,598.13 \n",
       "  908.208,615.579 907.827,616.493 900.392,634.856 893.444,653.219 891.967,657.277 887.252,671.582 881.585,689.944 876.312,708.307 875.725,710.439 871.475,726.67 \n",
       "  867.015,745.033 862.889,763.396 859.484,779.722 859.061,781.759 855.463,800.122 852.165,818.484 849.144,836.847 846.382,855.21 843.863,873.573 843.243,878.505 \n",
       "  841.496,891.936 839.347,910.299 837.437,928.662 835.758,947.025 834.302,965.387 833.066,983.75 832.046,1002.11 831.244,1020.48 830.66,1038.84 830.301,1057.2 \n",
       "  830.171,1075.56 830.282,1093.93 830.643,1112.29 831.271,1130.65 832.183,1149.02 833.401,1167.38 834.949,1185.74 836.856,1204.1 839.159,1222.47 841.895,1240.83 \n",
       "  843.243,1248.72 845.222,1259.19 849.232,1277.56 853.932,1295.92 859.412,1314.28 859.484,1314.5 866.959,1332.64 875.725,1350.72 875.934,1351.01 890.678,1369.37 \n",
       "  891.967,1370.82 \n",
       "  \"/>\n",
       "<polyline clip-path=\"url(#clip162)\" style=\"stroke:#440154; stroke-linecap:butt; stroke-linejoin:round; stroke-width:4; stroke-opacity:1; fill:none\" points=\"\n",
       "  908.208,1340.93 924.449,1342.01 940.691,1333.96 941.986,1332.64 956.932,1317.44 959.028,1314.28 970.954,1295.92 973.173,1292.43 980.458,1277.56 989.009,1259.19 \n",
       "  989.415,1258.3 996.064,1240.83 1002.62,1222.47 1005.66,1213.52 1008.53,1204.1 1013.82,1185.74 1018.74,1167.38 1021.9,1154.82 1023.28,1149.02 1027.39,1130.65 \n",
       "  1031.18,1112.29 1034.67,1093.93 1037.88,1075.56 1038.14,1073.97 1040.83,1057.2 1043.51,1038.84 1045.93,1020.48 1048.09,1002.11 1050.02,983.75 1051.7,965.387 \n",
       "  1053.15,947.025 1054.38,928.662 1054.38,928.597 1055.39,910.299 1056.15,891.936 1056.66,873.573 1056.91,855.21 1056.9,836.847 1056.62,818.484 1056.05,800.122 \n",
       "  1055.18,781.759 1054.38,769.405 1053.97,763.396 1052.38,745.033 1050.37,726.67 1047.92,708.307 1044.97,689.944 1041.46,671.582 1038.14,656.687 1037.21,653.219 \n",
       "  1031.61,634.856 1025,616.493 1021.9,608.861 1015.64,598.13 1005.66,583.202 1001.19,579.767 989.415,571.482 973.173,570.4 956.932,578.448 955.637,579.767 \n",
       "  940.691,594.969 938.595,598.13 926.669,616.493 924.449,619.986 917.165,634.856 908.614,653.219 908.208,654.115 901.558,671.582 895.005,689.944 891.967,698.895 \n",
       "  889.092,708.307 883.8,726.67 878.881,745.033 875.725,757.593 874.343,763.396 870.231,781.759 866.442,800.122 862.953,818.484 859.743,836.847 859.484,838.44 \n",
       "  856.788,855.21 854.108,873.573 851.693,891.936 849.528,910.299 847.607,928.662 845.922,947.025 844.469,965.387 843.246,983.75 843.243,983.815 842.237,1002.11 \n",
       "  841.476,1020.48 840.965,1038.84 840.71,1057.2 840.718,1075.56 841,1093.93 841.57,1112.29 842.443,1130.65 843.243,1143.01 843.651,1149.02 845.245,1167.38 \n",
       "  847.248,1185.74 849.701,1204.1 852.654,1222.47 856.164,1240.83 859.484,1255.73 860.416,1259.19 866.009,1277.56 872.62,1295.92 875.725,1303.55 881.978,1314.28 \n",
       "  891.967,1329.21 896.432,1332.64 908.208,1340.93 \n",
       "  \"/>\n",
       "<polyline clip-path=\"url(#clip162)\" style=\"stroke:#440154; stroke-linecap:butt; stroke-linejoin:round; stroke-width:4; stroke-opacity:1; fill:none\" points=\"\n",
       "  908.208,1302.34 924.449,1305.52 940.691,1298.42 943.145,1295.92 956.932,1281.89 959.706,1277.56 971.188,1259.19 973.173,1255.94 980.165,1240.83 988.246,1222.47 \n",
       "  989.415,1219.72 994.934,1204.1 1001.04,1185.74 1005.66,1170.98 1006.66,1167.38 1011.52,1149.02 1016.03,1130.65 1020.2,1112.29 1021.9,1104.32 1023.97,1093.93 \n",
       "  1027.36,1075.56 1030.45,1057.2 1033.26,1038.84 1035.79,1020.48 1038.07,1002.11 1038.14,1001.5 1040.06,983.75 1041.78,965.387 1043.23,947.025 1044.43,928.662 \n",
       "  1045.36,910.299 1046.03,891.936 1046.42,873.573 1046.53,855.21 1046.34,836.847 1045.85,818.484 1045.01,800.122 1043.82,781.759 1042.25,763.396 1040.25,745.033 \n",
       "  1038.14,729.21 1037.75,726.67 1034.42,708.307 1030.4,689.944 1025.61,671.582 1021.9,659.347 1019.37,653.219 1010.64,634.856 1005.66,625.774 996.505,616.493 \n",
       "  989.415,610.072 973.173,606.893 956.932,613.995 954.477,616.493 940.691,630.524 937.917,634.856 926.435,653.219 924.449,656.469 917.457,671.582 909.376,689.944 \n",
       "  908.208,692.696 902.688,708.307 896.587,726.67 891.967,741.436 890.961,745.033 886.102,763.396 881.597,781.759 877.42,800.122 875.725,808.096 873.649,818.484 \n",
       "  870.262,836.847 867.172,855.21 864.365,873.573 861.828,891.936 859.552,910.299 859.484,910.91 857.565,928.662 855.846,947.025 854.39,965.387 853.195,983.75 \n",
       "  852.263,1002.11 851.596,1020.48 851.203,1038.84 851.093,1057.2 851.279,1075.56 851.778,1093.93 852.609,1112.29 853.799,1130.65 855.376,1149.02 857.375,1167.38 \n",
       "  859.484,1183.2 859.875,1185.74 863.203,1204.1 867.22,1222.47 872.015,1240.83 875.725,1253.06 878.253,1259.19 886.982,1277.56 891.967,1286.64 901.117,1295.92 \n",
       "  908.208,1302.34 \n",
       "  \"/>\n",
       "<polyline clip-path=\"url(#clip162)\" style=\"stroke:#440154; stroke-linecap:butt; stroke-linejoin:round; stroke-width:4; stroke-opacity:1; fill:none\" points=\"\n",
       "  908.208,1262.65 924.449,1268.54 940.691,1262.62 944.063,1259.19 956.932,1246.09 960.16,1240.83 971.141,1222.47 973.173,1218.98 979.605,1204.1 987.155,1185.74 \n",
       "  989.415,1180 993.504,1167.38 999.097,1149.02 1004.33,1130.65 1005.66,1125.7 1008.83,1112.29 1012.86,1093.93 1016.57,1075.56 1019.96,1057.2 1021.9,1045.76 \n",
       "  1022.99,1038.84 1025.6,1020.48 1027.92,1002.11 1029.95,983.75 1031.7,965.387 1033.17,947.025 1034.35,928.662 1035.24,910.299 1035.82,891.936 1036.1,873.573 \n",
       "  1036.04,855.21 1035.62,836.847 1034.82,818.484 1033.61,800.122 1031.95,781.759 1029.79,763.396 1027.08,745.033 1023.76,726.67 1021.9,717.928 1019.24,708.307 \n",
       "  1013.21,689.944 1005.94,671.582 1005.66,670.953 992.396,653.219 989.415,649.759 973.173,643.868 956.932,649.789 953.56,653.219 940.691,666.323 937.463,671.582 \n",
       "  926.481,689.944 924.449,693.432 918.018,708.307 910.468,726.67 908.208,732.411 904.119,745.033 898.526,763.396 893.296,781.759 891.967,786.71 888.788,800.122 \n",
       "  884.76,818.484 881.056,836.847 877.661,855.21 875.725,866.655 874.634,873.573 872.022,891.936 869.703,910.299 867.67,928.662 865.921,947.025 864.454,965.387 \n",
       "  863.274,983.75 862.385,1002.11 861.798,1020.48 861.526,1038.84 861.587,1057.2 862.002,1075.56 862.798,1093.93 864.008,1112.29 865.67,1130.65 867.829,1149.02 \n",
       "  870.539,1167.38 873.863,1185.74 875.725,1194.48 878.387,1204.1 884.41,1222.47 891.687,1240.83 891.967,1241.46 905.227,1259.19 908.208,1262.65 \n",
       "  \"/>\n",
       "<polyline clip-path=\"url(#clip162)\" style=\"stroke:#440154; stroke-linecap:butt; stroke-linejoin:round; stroke-width:4; stroke-opacity:1; fill:none\" points=\"\n",
       "  924.449,1230.04 940.691,1225.7 943.872,1222.47 956.932,1209.16 959.88,1204.1 970.279,1185.74 973.173,1180.47 978.391,1167.38 985.335,1149.02 989.415,1137.65 \n",
       "  991.455,1130.65 996.472,1112.29 1001.13,1093.93 1005.45,1075.56 1005.66,1074.61 1008.95,1057.2 1012.1,1038.84 1014.92,1020.48 1017.43,1002.11 1019.63,983.75 \n",
       "  1021.51,965.387 1021.9,960.729 1022.95,947.025 1024.05,928.662 1024.82,910.299 1025.25,891.936 1025.33,873.573 1025.04,855.21 1024.35,836.847 1023.23,818.484 \n",
       "  1021.9,802.813 1021.62,800.122 1019.14,781.759 1015.96,763.396 1011.96,745.033 1007.04,726.67 1005.66,722.208 998.949,708.307 989.415,692.072 986.211,689.944 \n",
       "  973.173,682.368 956.932,686.712 953.751,689.944 940.691,703.253 937.743,708.307 927.343,726.67 924.449,731.938 919.231,745.033 912.287,763.396 908.208,774.761 \n",
       "  906.167,781.759 901.15,800.122 896.492,818.484 892.174,836.847 891.967,837.802 888.671,855.21 885.525,873.573 882.7,891.936 880.191,910.299 877.996,928.662 \n",
       "  876.117,947.025 875.725,951.683 874.669,965.387 873.575,983.75 872.806,1002.11 872.375,1020.48 872.295,1038.84 872.587,1057.2 873.274,1075.56 874.388,1093.93 \n",
       "  875.725,1109.6 876.005,1112.29 878.478,1130.65 881.665,1149.02 885.66,1167.38 890.578,1185.74 891.967,1190.2 898.674,1204.1 908.208,1220.34 911.412,1222.47 \n",
       "  924.449,1230.04 \n",
       "  \"/>\n",
       "<polyline clip-path=\"url(#clip162)\" style=\"stroke:#440154; stroke-linecap:butt; stroke-linejoin:round; stroke-width:4; stroke-opacity:1; fill:none\" points=\"\n",
       "  924.449,1188.47 940.691,1186.42 941.359,1185.74 956.932,1169.86 958.289,1167.38 967.974,1149.02 973.173,1138.83 976.117,1130.65 982.351,1112.29 988.217,1093.93 \n",
       "  989.415,1089.91 992.813,1075.56 996.796,1057.2 1000.42,1038.84 1003.68,1020.48 1005.66,1007.99 1006.45,1002.11 1008.58,983.75 1010.36,965.387 1011.78,947.025 \n",
       "  1012.83,928.662 1013.49,910.299 1013.74,891.936 1013.55,873.573 1012.88,855.21 1011.69,836.847 1009.93,818.484 1007.54,800.122 1005.66,788.767 1004,781.759 \n",
       "  998.585,763.396 991.705,745.033 989.415,739.886 976.372,726.67 973.173,723.943 956.932,725.991 956.264,726.67 940.691,742.553 939.334,745.033 929.649,763.396 \n",
       "  924.449,773.587 921.506,781.759 915.272,800.122 909.406,818.484 908.208,822.501 904.809,836.847 900.826,855.21 897.204,873.573 893.938,891.936 891.967,904.424 \n",
       "  891.171,910.299 889.038,928.662 887.258,947.025 885.839,965.387 884.791,983.75 884.132,1002.11 883.884,1020.48 884.077,1038.84 884.745,1057.2 885.932,1075.56 \n",
       "  887.69,1093.93 890.082,1112.29 891.967,1123.65 893.62,1130.65 899.037,1149.02 905.917,1167.38 908.208,1172.53 921.251,1185.74 924.449,1188.47 \n",
       "  \"/>\n",
       "<polyline clip-path=\"url(#clip162)\" style=\"stroke:#440154; stroke-linecap:butt; stroke-linejoin:round; stroke-width:4; stroke-opacity:1; fill:none\" points=\"\n",
       "  924.449,1140.44 940.691,1142.31 952.189,1130.65 956.932,1125.81 963.408,1112.29 971.875,1093.93 973.173,1090.95 977.678,1075.56 982.643,1057.2 987.206,1038.84 \n",
       "  989.415,1028.98 990.888,1020.48 993.651,1002.11 996.003,983.75 997.928,965.387 999.405,947.025 1000.41,928.662 1000.89,910.299 1000.82,891.936 1000.12,873.573 \n",
       "  998.719,855.21 996.533,836.847 993.448,818.484 989.415,800.496 989.262,800.122 979.736,781.759 973.173,771.976 956.932,770.103 945.433,781.759 940.691,786.604 \n",
       "  934.215,800.122 925.747,818.484 924.449,821.464 919.945,836.847 914.98,855.21 910.416,873.573 908.208,883.429 906.735,891.936 903.971,910.299 901.62,928.662 \n",
       "  899.695,947.025 898.217,965.387 897.217,983.75 896.73,1002.11 896.807,1020.48 897.507,1038.84 898.904,1057.2 901.089,1075.56 904.175,1093.93 908.208,1111.92 \n",
       "  908.361,1112.29 917.887,1130.65 924.449,1140.44 \n",
       "  \"/>\n",
       "<polyline clip-path=\"url(#clip162)\" style=\"stroke:#440154; stroke-linecap:butt; stroke-linejoin:round; stroke-width:4; stroke-opacity:1; fill:none\" points=\"\n",
       "  924.449,1076.41 940.691,1087.96 952.952,1075.56 956.932,1071.49 962.449,1057.2 969.082,1038.84 973.173,1026.54 974.444,1020.48 977.734,1002.11 980.489,983.75 \n",
       "  982.666,965.387 984.203,947.025 985.022,928.662 985.019,910.299 984.062,891.936 981.978,873.573 978.546,855.21 973.474,836.847 973.173,836.005 956.932,824.454 \n",
       "  944.671,836.847 940.691,840.926 935.174,855.21 928.541,873.573 924.449,885.874 923.179,891.936 919.889,910.299 917.133,928.662 914.957,947.025 913.42,965.387 \n",
       "  912.601,983.75 912.603,1002.11 913.561,1020.48 915.644,1038.84 919.077,1057.2 924.148,1075.56 924.449,1076.41 \n",
       "  \"/>\n",
       "<defs>\n",
       "  <clipPath id=\"clip163\">\n",
       "    <rect x=\"1792\" y=\"47\" width=\"61\" height=\"1819\"/>\n",
       "  </clipPath>\n",
       "</defs>\n",
       "<path clip-path=\"url(#clip163)\" d=\"\n",
       "M1792.76 1865.17 L1852.76 1865.17 L1852.76 1751.55 L1792.76 1751.55  Z\n",
       "  \" fill=\"#440154\" fill-rule=\"evenodd\" fill-opacity=\"1\"/>\n",
       "<path clip-path=\"url(#clip163)\" d=\"\n",
       "M1792.76 1751.55 L1852.76 1751.55 L1852.76 1637.93 L1792.76 1637.93  Z\n",
       "  \" fill=\"#48196b\" fill-rule=\"evenodd\" fill-opacity=\"1\"/>\n",
       "<path clip-path=\"url(#clip163)\" d=\"\n",
       "M1792.76 1637.93 L1852.76 1637.93 L1852.76 1524.31 L1792.76 1524.31  Z\n",
       "  \" fill=\"#462f7c\" fill-rule=\"evenodd\" fill-opacity=\"1\"/>\n",
       "<path clip-path=\"url(#clip163)\" d=\"\n",
       "M1792.76 1524.31 L1852.76 1524.31 L1852.76 1410.69 L1792.76 1410.69  Z\n",
       "  \" fill=\"#404387\" fill-rule=\"evenodd\" fill-opacity=\"1\"/>\n",
       "<path clip-path=\"url(#clip163)\" d=\"\n",
       "M1792.76 1410.69 L1852.76 1410.69 L1852.76 1297.07 L1792.76 1297.07  Z\n",
       "  \" fill=\"#38568b\" fill-rule=\"evenodd\" fill-opacity=\"1\"/>\n",
       "<path clip-path=\"url(#clip163)\" d=\"\n",
       "M1792.76 1297.07 L1852.76 1297.07 L1852.76 1183.45 L1792.76 1183.45  Z\n",
       "  \" fill=\"#30678d\" fill-rule=\"evenodd\" fill-opacity=\"1\"/>\n",
       "<path clip-path=\"url(#clip163)\" d=\"\n",
       "M1792.76 1183.45 L1852.76 1183.45 L1852.76 1069.83 L1792.76 1069.83  Z\n",
       "  \" fill=\"#29788e\" fill-rule=\"evenodd\" fill-opacity=\"1\"/>\n",
       "<path clip-path=\"url(#clip163)\" d=\"\n",
       "M1792.76 1069.83 L1852.76 1069.83 L1852.76 956.206 L1792.76 956.206  Z\n",
       "  \" fill=\"#23888d\" fill-rule=\"evenodd\" fill-opacity=\"1\"/>\n",
       "<path clip-path=\"url(#clip163)\" d=\"\n",
       "M1792.76 956.206 L1852.76 956.206 L1852.76 842.586 L1792.76 842.586  Z\n",
       "  \" fill=\"#1e988a\" fill-rule=\"evenodd\" fill-opacity=\"1\"/>\n",
       "<path clip-path=\"url(#clip163)\" d=\"\n",
       "M1792.76 842.586 L1852.76 842.586 L1852.76 728.966 L1792.76 728.966  Z\n",
       "  \" fill=\"#22a784\" fill-rule=\"evenodd\" fill-opacity=\"1\"/>\n",
       "<path clip-path=\"url(#clip163)\" d=\"\n",
       "M1792.76 728.966 L1852.76 728.966 L1852.76 615.345 L1792.76 615.345  Z\n",
       "  \" fill=\"#35b778\" fill-rule=\"evenodd\" fill-opacity=\"1\"/>\n",
       "<path clip-path=\"url(#clip163)\" d=\"\n",
       "M1792.76 615.345 L1852.76 615.345 L1852.76 501.725 L1792.76 501.725  Z\n",
       "  \" fill=\"#53c567\" fill-rule=\"evenodd\" fill-opacity=\"1\"/>\n",
       "<path clip-path=\"url(#clip163)\" d=\"\n",
       "M1792.76 501.725 L1852.76 501.725 L1852.76 388.105 L1792.76 388.105  Z\n",
       "  \" fill=\"#79d151\" fill-rule=\"evenodd\" fill-opacity=\"1\"/>\n",
       "<path clip-path=\"url(#clip163)\" d=\"\n",
       "M1792.76 388.105 L1852.76 388.105 L1852.76 274.485 L1792.76 274.485  Z\n",
       "  \" fill=\"#a5da35\" fill-rule=\"evenodd\" fill-opacity=\"1\"/>\n",
       "<path clip-path=\"url(#clip163)\" d=\"\n",
       "M1792.76 274.485 L1852.76 274.485 L1852.76 160.864 L1792.76 160.864  Z\n",
       "  \" fill=\"#d2e11b\" fill-rule=\"evenodd\" fill-opacity=\"1\"/>\n",
       "<path clip-path=\"url(#clip163)\" d=\"\n",
       "M1792.76 160.864 L1852.76 160.864 L1852.76 47.2441 L1792.76 47.2441  Z\n",
       "  \" fill=\"#fde724\" fill-rule=\"evenodd\" fill-opacity=\"1\"/>\n",
       "<path clip-path=\"url(#clip160)\" d=\"M1894.7 1499.94 Q1891.09 1499.94 1889.26 1503.5 Q1887.45 1507.04 1887.45 1514.17 Q1887.45 1521.28 1889.26 1524.84 Q1891.09 1528.38 1894.7 1528.38 Q1898.33 1528.38 1900.14 1524.84 Q1901.97 1521.28 1901.97 1514.17 Q1901.97 1507.04 1900.14 1503.5 Q1898.33 1499.94 1894.7 1499.94 M1894.7 1496.23 Q1900.51 1496.23 1903.57 1500.84 Q1906.64 1505.42 1906.64 1514.17 Q1906.64 1522.9 1903.57 1527.5 Q1900.51 1532.09 1894.7 1532.09 Q1888.89 1532.09 1885.81 1527.5 Q1882.76 1522.9 1882.76 1514.17 Q1882.76 1505.42 1885.81 1500.84 Q1888.89 1496.23 1894.7 1496.23 Z\" fill=\"#000000\" fill-rule=\"evenodd\" fill-opacity=\"1\" /><path clip-path=\"url(#clip160)\" d=\"M1914.86 1525.54 L1919.75 1525.54 L1919.75 1531.42 L1914.86 1531.42 L1914.86 1525.54 Z\" fill=\"#000000\" fill-rule=\"evenodd\" fill-opacity=\"1\" /><path clip-path=\"url(#clip160)\" d=\"M1939.93 1499.94 Q1936.32 1499.94 1934.49 1503.5 Q1932.69 1507.04 1932.69 1514.17 Q1932.69 1521.28 1934.49 1524.84 Q1936.32 1528.38 1939.93 1528.38 Q1943.57 1528.38 1945.37 1524.84 Q1947.2 1521.28 1947.2 1514.17 Q1947.2 1507.04 1945.37 1503.5 Q1943.57 1499.94 1939.93 1499.94 M1939.93 1496.23 Q1945.74 1496.23 1948.8 1500.84 Q1951.88 1505.42 1951.88 1514.17 Q1951.88 1522.9 1948.8 1527.5 Q1945.74 1532.09 1939.93 1532.09 Q1934.12 1532.09 1931.04 1527.5 Q1927.99 1522.9 1927.99 1514.17 Q1927.99 1505.42 1931.04 1500.84 Q1934.12 1496.23 1939.93 1496.23 Z\" fill=\"#000000\" fill-rule=\"evenodd\" fill-opacity=\"1\" /><path clip-path=\"url(#clip160)\" d=\"M1960.9 1527.48 L1968.54 1527.48 L1968.54 1501.12 L1960.23 1502.78 L1960.23 1498.52 L1968.5 1496.86 L1973.17 1496.86 L1973.17 1527.48 L1980.81 1527.48 L1980.81 1531.42 L1960.9 1531.42 L1960.9 1527.48 Z\" fill=\"#000000\" fill-rule=\"evenodd\" fill-opacity=\"1\" /><path clip-path=\"url(#clip160)\" d=\"M1894.7 1152.53 Q1891.09 1152.53 1889.26 1156.1 Q1887.45 1159.64 1887.45 1166.77 Q1887.45 1173.88 1889.26 1177.44 Q1891.09 1180.98 1894.7 1180.98 Q1898.33 1180.98 1900.14 1177.44 Q1901.97 1173.88 1901.97 1166.77 Q1901.97 1159.64 1900.14 1156.1 Q1898.33 1152.53 1894.7 1152.53 M1894.7 1148.83 Q1900.51 1148.83 1903.57 1153.44 Q1906.64 1158.02 1906.64 1166.77 Q1906.64 1175.5 1903.57 1180.1 Q1900.51 1184.69 1894.7 1184.69 Q1888.89 1184.69 1885.81 1180.1 Q1882.76 1175.5 1882.76 1166.77 Q1882.76 1158.02 1885.81 1153.44 Q1888.89 1148.83 1894.7 1148.83 Z\" fill=\"#000000\" fill-rule=\"evenodd\" fill-opacity=\"1\" /><path clip-path=\"url(#clip160)\" d=\"M1914.86 1178.13 L1919.75 1178.13 L1919.75 1184.01 L1914.86 1184.01 L1914.86 1178.13 Z\" fill=\"#000000\" fill-rule=\"evenodd\" fill-opacity=\"1\" /><path clip-path=\"url(#clip160)\" d=\"M1939.93 1152.53 Q1936.32 1152.53 1934.49 1156.1 Q1932.69 1159.64 1932.69 1166.77 Q1932.69 1173.88 1934.49 1177.44 Q1936.32 1180.98 1939.93 1180.98 Q1943.57 1180.98 1945.37 1177.44 Q1947.2 1173.88 1947.2 1166.77 Q1947.2 1159.64 1945.37 1156.1 Q1943.57 1152.53 1939.93 1152.53 M1939.93 1148.83 Q1945.74 1148.83 1948.8 1153.44 Q1951.88 1158.02 1951.88 1166.77 Q1951.88 1175.5 1948.8 1180.1 Q1945.74 1184.69 1939.93 1184.69 Q1934.12 1184.69 1931.04 1180.1 Q1927.99 1175.5 1927.99 1166.77 Q1927.99 1158.02 1931.04 1153.44 Q1934.12 1148.83 1939.93 1148.83 Z\" fill=\"#000000\" fill-rule=\"evenodd\" fill-opacity=\"1\" /><path clip-path=\"url(#clip160)\" d=\"M1964.12 1180.08 L1980.44 1180.08 L1980.44 1184.01 L1958.5 1184.01 L1958.5 1180.08 Q1961.16 1177.32 1965.74 1172.69 Q1970.35 1168.04 1971.53 1166.7 Q1973.77 1164.18 1974.65 1162.44 Q1975.56 1160.68 1975.56 1158.99 Q1975.56 1156.24 1973.61 1154.5 Q1971.69 1152.76 1968.59 1152.76 Q1966.39 1152.76 1963.94 1153.53 Q1961.51 1154.29 1958.73 1155.84 L1958.73 1151.12 Q1961.55 1149.99 1964.01 1149.41 Q1966.46 1148.83 1968.5 1148.83 Q1973.87 1148.83 1977.06 1151.51 Q1980.26 1154.2 1980.26 1158.69 Q1980.26 1160.82 1979.45 1162.74 Q1978.66 1164.64 1976.55 1167.23 Q1975.97 1167.9 1972.87 1171.12 Q1969.77 1174.32 1964.12 1180.08 Z\" fill=\"#000000\" fill-rule=\"evenodd\" fill-opacity=\"1\" /><path clip-path=\"url(#clip160)\" d=\"M1894.7 805.131 Q1891.09 805.131 1889.26 808.695 Q1887.45 812.237 1887.45 819.367 Q1887.45 826.473 1889.26 830.038 Q1891.09 833.58 1894.7 833.58 Q1898.33 833.58 1900.14 830.038 Q1901.97 826.473 1901.97 819.367 Q1901.97 812.237 1900.14 808.695 Q1898.33 805.131 1894.7 805.131 M1894.7 801.427 Q1900.51 801.427 1903.57 806.033 Q1906.64 810.617 1906.64 819.367 Q1906.64 828.093 1903.57 832.7 Q1900.51 837.283 1894.7 837.283 Q1888.89 837.283 1885.81 832.7 Q1882.76 828.093 1882.76 819.367 Q1882.76 810.617 1885.81 806.033 Q1888.89 801.427 1894.7 801.427 Z\" fill=\"#000000\" fill-rule=\"evenodd\" fill-opacity=\"1\" /><path clip-path=\"url(#clip160)\" d=\"M1914.86 830.732 L1919.75 830.732 L1919.75 836.612 L1914.86 836.612 L1914.86 830.732 Z\" fill=\"#000000\" fill-rule=\"evenodd\" fill-opacity=\"1\" /><path clip-path=\"url(#clip160)\" d=\"M1939.93 805.131 Q1936.32 805.131 1934.49 808.695 Q1932.69 812.237 1932.69 819.367 Q1932.69 826.473 1934.49 830.038 Q1936.32 833.58 1939.93 833.58 Q1943.57 833.58 1945.37 830.038 Q1947.2 826.473 1947.2 819.367 Q1947.2 812.237 1945.37 808.695 Q1943.57 805.131 1939.93 805.131 M1939.93 801.427 Q1945.74 801.427 1948.8 806.033 Q1951.88 810.617 1951.88 819.367 Q1951.88 828.093 1948.8 832.7 Q1945.74 837.283 1939.93 837.283 Q1934.12 837.283 1931.04 832.7 Q1927.99 828.093 1927.99 819.367 Q1927.99 810.617 1931.04 806.033 Q1934.12 801.427 1939.93 801.427 Z\" fill=\"#000000\" fill-rule=\"evenodd\" fill-opacity=\"1\" /><path clip-path=\"url(#clip160)\" d=\"M1974.26 817.978 Q1977.62 818.695 1979.49 820.964 Q1981.39 823.232 1981.39 826.566 Q1981.39 831.681 1977.87 834.482 Q1974.35 837.283 1967.87 837.283 Q1965.7 837.283 1963.38 836.843 Q1961.09 836.427 1958.64 835.57 L1958.64 831.056 Q1960.58 832.191 1962.89 832.769 Q1965.21 833.348 1967.73 833.348 Q1972.13 833.348 1974.42 831.612 Q1976.74 829.876 1976.74 826.566 Q1976.74 823.51 1974.58 821.797 Q1972.45 820.061 1968.64 820.061 L1964.61 820.061 L1964.61 816.219 L1968.82 816.219 Q1972.27 816.219 1974.1 814.853 Q1975.93 813.464 1975.93 810.871 Q1975.93 808.209 1974.03 806.797 Q1972.15 805.362 1968.64 805.362 Q1966.71 805.362 1964.51 805.779 Q1962.32 806.195 1959.68 807.075 L1959.68 802.908 Q1962.34 802.168 1964.65 801.797 Q1966.99 801.427 1969.05 801.427 Q1974.38 801.427 1977.48 803.857 Q1980.58 806.265 1980.58 810.385 Q1980.58 813.256 1978.94 815.246 Q1977.29 817.214 1974.26 817.978 Z\" fill=\"#000000\" fill-rule=\"evenodd\" fill-opacity=\"1\" /><path clip-path=\"url(#clip160)\" d=\"M1894.7 457.728 Q1891.09 457.728 1889.26 461.293 Q1887.45 464.835 1887.45 471.964 Q1887.45 479.071 1889.26 482.635 Q1891.09 486.177 1894.7 486.177 Q1898.33 486.177 1900.14 482.635 Q1901.97 479.071 1901.97 471.964 Q1901.97 464.835 1900.14 461.293 Q1898.33 457.728 1894.7 457.728 M1894.7 454.025 Q1900.51 454.025 1903.57 458.631 Q1906.64 463.214 1906.64 471.964 Q1906.64 480.691 1903.57 485.298 Q1900.51 489.881 1894.7 489.881 Q1888.89 489.881 1885.81 485.298 Q1882.76 480.691 1882.76 471.964 Q1882.76 463.214 1885.81 458.631 Q1888.89 454.025 1894.7 454.025 Z\" fill=\"#000000\" fill-rule=\"evenodd\" fill-opacity=\"1\" /><path clip-path=\"url(#clip160)\" d=\"M1914.86 483.33 L1919.75 483.33 L1919.75 489.21 L1914.86 489.21 L1914.86 483.33 Z\" fill=\"#000000\" fill-rule=\"evenodd\" fill-opacity=\"1\" /><path clip-path=\"url(#clip160)\" d=\"M1939.93 457.728 Q1936.32 457.728 1934.49 461.293 Q1932.69 464.835 1932.69 471.964 Q1932.69 479.071 1934.49 482.635 Q1936.32 486.177 1939.93 486.177 Q1943.57 486.177 1945.37 482.635 Q1947.2 479.071 1947.2 471.964 Q1947.2 464.835 1945.37 461.293 Q1943.57 457.728 1939.93 457.728 M1939.93 454.025 Q1945.74 454.025 1948.8 458.631 Q1951.88 463.214 1951.88 471.964 Q1951.88 480.691 1948.8 485.298 Q1945.74 489.881 1939.93 489.881 Q1934.12 489.881 1931.04 485.298 Q1927.99 480.691 1927.99 471.964 Q1927.99 463.214 1931.04 458.631 Q1934.12 454.025 1939.93 454.025 Z\" fill=\"#000000\" fill-rule=\"evenodd\" fill-opacity=\"1\" /><path clip-path=\"url(#clip160)\" d=\"M1972.94 458.724 L1961.14 477.173 L1972.94 477.173 L1972.94 458.724 M1971.71 454.65 L1977.59 454.65 L1977.59 477.173 L1982.52 477.173 L1982.52 481.061 L1977.59 481.061 L1977.59 489.21 L1972.94 489.21 L1972.94 481.061 L1957.34 481.061 L1957.34 476.548 L1971.71 454.65 Z\" fill=\"#000000\" fill-rule=\"evenodd\" fill-opacity=\"1\" /><path clip-path=\"url(#clip160)\" d=\"M1894.7 110.326 Q1891.09 110.326 1889.26 113.891 Q1887.45 117.432 1887.45 124.562 Q1887.45 131.668 1889.26 135.233 Q1891.09 138.775 1894.7 138.775 Q1898.33 138.775 1900.14 135.233 Q1901.97 131.668 1901.97 124.562 Q1901.97 117.432 1900.14 113.891 Q1898.33 110.326 1894.7 110.326 M1894.7 106.622 Q1900.51 106.622 1903.57 111.229 Q1906.64 115.812 1906.64 124.562 Q1906.64 133.289 1903.57 137.895 Q1900.51 142.478 1894.7 142.478 Q1888.89 142.478 1885.81 137.895 Q1882.76 133.289 1882.76 124.562 Q1882.76 115.812 1885.81 111.229 Q1888.89 106.622 1894.7 106.622 Z\" fill=\"#000000\" fill-rule=\"evenodd\" fill-opacity=\"1\" /><path clip-path=\"url(#clip160)\" d=\"M1914.86 135.928 L1919.75 135.928 L1919.75 141.807 L1914.86 141.807 L1914.86 135.928 Z\" fill=\"#000000\" fill-rule=\"evenodd\" fill-opacity=\"1\" /><path clip-path=\"url(#clip160)\" d=\"M1939.93 110.326 Q1936.32 110.326 1934.49 113.891 Q1932.69 117.432 1932.69 124.562 Q1932.69 131.668 1934.49 135.233 Q1936.32 138.775 1939.93 138.775 Q1943.57 138.775 1945.37 135.233 Q1947.2 131.668 1947.2 124.562 Q1947.2 117.432 1945.37 113.891 Q1943.57 110.326 1939.93 110.326 M1939.93 106.622 Q1945.74 106.622 1948.8 111.229 Q1951.88 115.812 1951.88 124.562 Q1951.88 133.289 1948.8 137.895 Q1945.74 142.478 1939.93 142.478 Q1934.12 142.478 1931.04 137.895 Q1927.99 133.289 1927.99 124.562 Q1927.99 115.812 1931.04 111.229 Q1934.12 106.622 1939.93 106.622 Z\" fill=\"#000000\" fill-rule=\"evenodd\" fill-opacity=\"1\" /><path clip-path=\"url(#clip160)\" d=\"M1960.14 107.247 L1978.5 107.247 L1978.5 111.182 L1964.42 111.182 L1964.42 119.654 Q1965.44 119.307 1966.46 119.145 Q1967.48 118.96 1968.5 118.96 Q1974.28 118.96 1977.66 122.131 Q1981.04 125.303 1981.04 130.719 Q1981.04 136.298 1977.57 139.4 Q1974.1 142.478 1967.78 142.478 Q1965.6 142.478 1963.33 142.108 Q1961.09 141.738 1958.68 140.997 L1958.68 136.298 Q1960.76 137.432 1962.99 137.988 Q1965.21 138.543 1967.69 138.543 Q1971.69 138.543 1974.03 136.437 Q1976.37 134.33 1976.37 130.719 Q1976.37 127.108 1974.03 125.002 Q1971.69 122.895 1967.69 122.895 Q1965.81 122.895 1963.94 123.312 Q1962.08 123.729 1960.14 124.608 L1960.14 107.247 Z\" fill=\"#000000\" fill-rule=\"evenodd\" fill-opacity=\"1\" /><polyline clip-path=\"url(#clip160)\" style=\"stroke:#000000; stroke-linecap:butt; stroke-linejoin:round; stroke-width:4; stroke-opacity:1; fill:none\" points=\"\n",
       "  1852.76,1865.17 1852.76,1517.77 1872.76,1517.77 1852.76,1517.77 1852.76,1170.36 1872.76,1170.36 1852.76,1170.36 1852.76,822.961 1872.76,822.961 1852.76,822.961 \n",
       "  1852.76,475.558 1872.76,475.558 1852.76,475.558 1852.76,128.156 1872.76,128.156 1852.76,128.156 1852.76,47.2441 \n",
       "  \"/>\n",
       "</svg>\n"
      ]
     },
     "execution_count": 201,
     "metadata": {},
     "output_type": "execute_result"
    }
   ],
   "source": [
    "# https://discourse.julialang.org/t/how-to-plot-a-multivariate-normal-distribution/35486/6\n",
    "using Distributions\n",
    "using Plots\n",
    "\n",
    "μ = [0, 0]\n",
    "Σ = [1  0.9;\n",
    "     0.9 10]\n",
    "p = MvNormal(μ, Σ)\n",
    "\n",
    "X = range(-8, 8, length=100)\n",
    "Y = range(-8, 8, length=100)\n",
    "Z = [pdf(p, [x,y]) for y in Y, x in X] # Note x-y \"for\" ordering\n",
    "contourf(X, Y, Z, color=:viridis)"
   ]
  },
  {
   "cell_type": "code",
   "execution_count": 202,
   "id": "b3692768",
   "metadata": {},
   "outputs": [
    {
     "data": {
      "text/plain": [
       "2×3 Matrix{Float64}:\n",
       " 0.831352  0.702428  1.97572\n",
       " 0.814927  2.51655   2.82028"
      ]
     },
     "execution_count": 202,
     "metadata": {},
     "output_type": "execute_result"
    }
   ],
   "source": [
    "rand(dist, 3)  # generate three samples"
   ]
  },
  {
   "cell_type": "code",
   "execution_count": 203,
   "id": "90cb8f11",
   "metadata": {},
   "outputs": [
    {
     "data": {
      "text/plain": [
       "Dirichlet{Float64, Vector{Float64}, Float64}(alpha=[1.0, 1.0, 1.0])"
      ]
     },
     "execution_count": 203,
     "metadata": {},
     "output_type": "execute_result"
    }
   ],
   "source": [
    "dist = Dirichlet(ones(3))"
   ]
  },
  {
   "cell_type": "code",
   "execution_count": 204,
   "id": "85c34e7c",
   "metadata": {},
   "outputs": [
    {
     "data": {
      "text/plain": [
       "3-element Vector{Float64}:\n",
       " 0.05946447717755491\n",
       " 0.09032413644387441\n",
       " 0.8502113863785706"
      ]
     },
     "execution_count": 204,
     "metadata": {},
     "output_type": "execute_result"
    }
   ],
   "source": [
    "rand(dist)"
   ]
  },
  {
   "cell_type": "markdown",
   "id": "9e81039d",
   "metadata": {},
   "source": [
    "#### Plot Dirichlet Distribution using TernaryPlots"
   ]
  },
  {
   "cell_type": "code",
   "execution_count": 205,
   "id": "6127fdb4",
   "metadata": {},
   "outputs": [
    {
     "data": {
      "image/svg+xml": [
       "<?xml version=\"1.0\" encoding=\"utf-8\"?>\n",
       "<svg xmlns=\"http://www.w3.org/2000/svg\" xmlns:xlink=\"http://www.w3.org/1999/xlink\" width=\"580\" height=\"550\" viewBox=\"0 0 2320 2200\">\n",
       "<defs>\n",
       "  <clipPath id=\"clip200\">\n",
       "    <rect x=\"0\" y=\"0\" width=\"2320\" height=\"2200\"/>\n",
       "  </clipPath>\n",
       "</defs>\n",
       "<path clip-path=\"url(#clip200)\" d=\"\n",
       "M0 2200 L2320 2200 L2320 0 L0 0  Z\n",
       "  \" fill=\"#ffffff\" fill-rule=\"evenodd\" fill-opacity=\"1\"/>\n",
       "<defs>\n",
       "  <clipPath id=\"clip201\">\n",
       "    <rect x=\"464\" y=\"112\" width=\"1625\" height=\"1625\"/>\n",
       "  </clipPath>\n",
       "</defs>\n",
       "<path clip-path=\"url(#clip200)\" d=\"\n",
       "M239.139 1982.51 L2272.76 1982.51 L2272.76 149.02 L239.139 149.02  Z\n",
       "  \" fill=\"#ffffff\" fill-rule=\"evenodd\" fill-opacity=\"1\"/>\n",
       "<defs>\n",
       "  <clipPath id=\"clip202\">\n",
       "    <rect x=\"239\" y=\"149\" width=\"2035\" height=\"1834\"/>\n",
       "  </clipPath>\n",
       "</defs>\n",
       "<path clip-path=\"url(#clip200)\" d=\"M1169.95 44.2197 Q1172.58 45.1109 1175.05 48.0275 Q1177.56 50.9442 1180.07 56.0483 L1188.38 72.576 L1179.59 72.576 L1171.85 57.061 Q1168.85 50.9847 1166.02 48.9997 Q1163.22 47.0148 1158.36 47.0148 L1149.45 47.0148 L1149.45 72.576 L1141.27 72.576 L1141.27 12.096 L1159.74 12.096 Q1170.11 12.096 1175.21 16.4305 Q1180.32 20.7649 1180.32 29.5149 Q1180.32 35.2267 1177.64 38.994 Q1175.01 42.7613 1169.95 44.2197 M1149.45 18.8205 L1149.45 40.2903 L1159.74 40.2903 Q1165.65 40.2903 1168.65 37.5762 Q1171.69 34.8216 1171.69 29.5149 Q1171.69 24.2082 1168.65 21.5346 Q1165.65 18.8205 1159.74 18.8205 L1149.45 18.8205 Z\" fill=\"#000000\" fill-rule=\"evenodd\" fill-opacity=\"1\" /><path clip-path=\"url(#clip200)\" d=\"M1212.44 32.4315 Q1206.45 32.4315 1202.96 37.1306 Q1199.48 41.7891 1199.48 49.9314 Q1199.48 58.0738 1202.92 62.7728 Q1206.41 67.4314 1212.44 67.4314 Q1218.4 67.4314 1221.88 62.7323 Q1225.36 58.0333 1225.36 49.9314 Q1225.36 41.8701 1221.88 37.1711 Q1218.4 32.4315 1212.44 32.4315 M1212.44 26.1121 Q1222.16 26.1121 1227.71 32.4315 Q1233.26 38.7509 1233.26 49.9314 Q1233.26 61.0714 1227.71 67.4314 Q1222.16 73.7508 1212.44 73.7508 Q1202.68 73.7508 1197.13 67.4314 Q1191.62 61.0714 1191.62 49.9314 Q1191.62 38.7509 1197.13 32.4315 Q1202.68 26.1121 1212.44 26.1121 Z\" fill=\"#000000\" fill-rule=\"evenodd\" fill-opacity=\"1\" /><path clip-path=\"url(#clip200)\" d=\"M1278.27 28.9478 L1278.27 35.9153 Q1275.11 34.1734 1271.91 33.3227 Q1268.75 32.4315 1265.51 32.4315 Q1258.26 32.4315 1254.25 37.0496 Q1250.24 41.6271 1250.24 49.9314 Q1250.24 58.2358 1254.25 62.8538 Q1258.26 67.4314 1265.51 67.4314 Q1268.75 67.4314 1271.91 66.5807 Q1275.11 65.6895 1278.27 63.9476 L1278.27 70.8341 Q1275.15 72.2924 1271.79 73.0216 Q1268.46 73.7508 1264.7 73.7508 Q1254.45 73.7508 1248.41 67.3098 Q1242.38 60.8689 1242.38 49.9314 Q1242.38 38.832 1248.45 32.472 Q1254.57 26.1121 1265.18 26.1121 Q1268.63 26.1121 1271.91 26.8413 Q1275.19 27.5299 1278.27 28.9478 Z\" fill=\"#000000\" fill-rule=\"evenodd\" fill-opacity=\"1\" /><path clip-path=\"url(#clip200)\" d=\"M1290.95 9.54393 L1298.44 9.54393 L1298.44 46.7717 L1320.68 27.2059 L1330.2 27.2059 L1306.14 48.4326 L1331.21 72.576 L1321.49 72.576 L1298.44 50.4176 L1298.44 72.576 L1290.95 72.576 L1290.95 9.54393 Z\" fill=\"#000000\" fill-rule=\"evenodd\" fill-opacity=\"1\" /><path clip-path=\"url(#clip200)\" d=\"M1368.2 28.5427 L1368.2 35.5912 Q1365.04 33.9709 1361.64 33.1607 Q1358.23 32.3505 1354.59 32.3505 Q1349.04 32.3505 1346.24 34.0519 Q1343.49 35.7533 1343.49 39.156 Q1343.49 41.7486 1345.47 43.2475 Q1347.46 44.7058 1353.45 46.0426 L1356 46.6097 Q1363.94 48.3111 1367.27 51.4303 Q1370.63 54.509 1370.63 60.0587 Q1370.63 66.3781 1365.61 70.0644 Q1360.62 73.7508 1351.87 73.7508 Q1348.23 73.7508 1344.26 73.0216 Q1340.33 72.3329 1335.95 70.9151 L1335.95 63.2184 Q1340.08 65.3654 1344.1 66.4591 Q1348.11 67.5124 1352.04 67.5124 Q1357.3 67.5124 1360.14 65.73 Q1362.97 63.9071 1362.97 60.6258 Q1362.97 57.5877 1360.91 55.9673 Q1358.88 54.3469 1351.95 52.8481 L1349.36 52.2405 Q1342.43 50.7821 1339.36 47.7845 Q1336.28 44.7463 1336.28 39.4801 Q1336.28 33.0797 1340.81 29.5959 Q1345.35 26.1121 1353.7 26.1121 Q1357.83 26.1121 1361.47 26.7198 Q1365.12 27.3274 1368.2 28.5427 Z\" fill=\"#000000\" fill-rule=\"evenodd\" fill-opacity=\"1\" /><polyline clip-path=\"url(#clip202)\" style=\"stroke:#000000; stroke-linecap:butt; stroke-linejoin:round; stroke-width:4; stroke-opacity:1; fill:none\" points=\"\n",
       "  1606.79,1860.45 905.104,1860.45 \n",
       "  \"/>\n",
       "<polyline clip-path=\"url(#clip202)\" style=\"stroke:#000000; stroke-linecap:butt; stroke-linejoin:round; stroke-width:4; stroke-opacity:1; fill:none\" points=\"\n",
       "  939.904,1877.85 905.104,1860.45 939.904,1843.05 \n",
       "  \"/>\n",
       "<polyline clip-path=\"url(#clip202)\" style=\"stroke:#000000; stroke-linecap:butt; stroke-linejoin:round; stroke-width:4; stroke-opacity:1; fill:none\" points=\"\n",
       "  905.104,1860.45 1606.79,1860.45 \n",
       "  \"/>\n",
       "<polyline clip-path=\"url(#clip202)\" style=\"stroke:#000000; stroke-linecap:butt; stroke-linejoin:round; stroke-width:4; stroke-opacity:1; fill:none\" points=\"\n",
       "  1659.42,516.333 2010.26,1124.01 \n",
       "  \"/>\n",
       "<polyline clip-path=\"url(#clip202)\" style=\"stroke:#000000; stroke-linecap:butt; stroke-linejoin:round; stroke-width:4; stroke-opacity:1; fill:none\" points=\"\n",
       "  2007.93,1085.18 2010.26,1124.01 1977.79,1102.58 \n",
       "  \"/>\n",
       "<polyline clip-path=\"url(#clip202)\" style=\"stroke:#000000; stroke-linecap:butt; stroke-linejoin:round; stroke-width:4; stroke-opacity:1; fill:none\" points=\"\n",
       "  2010.26,1124.01 1659.42,516.333 \n",
       "  \"/>\n",
       "<polyline clip-path=\"url(#clip202)\" style=\"stroke:#000000; stroke-linecap:butt; stroke-linejoin:round; stroke-width:4; stroke-opacity:1; fill:none\" points=\"\n",
       "  501.633,1124.01 852.477,516.333 \n",
       "  \"/>\n",
       "<polyline clip-path=\"url(#clip202)\" style=\"stroke:#000000; stroke-linecap:butt; stroke-linejoin:round; stroke-width:4; stroke-opacity:1; fill:none\" points=\"\n",
       "  820.008,537.771 852.477,516.333 850.146,555.171 \n",
       "  \"/>\n",
       "<polyline clip-path=\"url(#clip202)\" style=\"stroke:#000000; stroke-linecap:butt; stroke-linejoin:round; stroke-width:4; stroke-opacity:1; fill:none\" points=\"\n",
       "  852.477,516.333 501.633,1124.01 \n",
       "  \"/>\n",
       "<path clip-path=\"url(#clip200)\" d=\"M1204.87 1902.36 L1204.87 1910.34 Q1200.21 1908.11 1196.08 1907.02 Q1191.94 1905.93 1188.09 1905.93 Q1181.41 1905.93 1177.77 1908.52 Q1174.16 1911.11 1174.16 1915.89 Q1174.16 1919.9 1176.55 1921.97 Q1178.98 1923.99 1185.7 1925.25 L1190.65 1926.26 Q1199.8 1928 1204.14 1932.42 Q1208.51 1936.79 1208.51 1944.17 Q1208.51 1952.96 1202.6 1957.49 Q1196.72 1962.03 1185.34 1962.03 Q1181.05 1962.03 1176.19 1961.06 Q1171.36 1960.09 1166.18 1958.18 L1166.18 1949.76 Q1171.16 1952.55 1175.94 1953.97 Q1180.72 1955.39 1185.34 1955.39 Q1192.35 1955.39 1196.16 1952.63 Q1199.96 1949.88 1199.96 1944.77 Q1199.96 1940.32 1197.21 1937.81 Q1194.5 1935.3 1188.26 1934.04 L1183.27 1933.07 Q1174.12 1931.24 1170.03 1927.36 Q1165.94 1923.47 1165.94 1916.54 Q1165.94 1908.52 1171.57 1903.9 Q1177.24 1899.28 1187.16 1899.28 Q1191.42 1899.28 1195.83 1900.05 Q1200.25 1900.82 1204.87 1902.36 Z\" fill=\"#000000\" fill-rule=\"evenodd\" fill-opacity=\"1\" /><path clip-path=\"url(#clip200)\" d=\"M1220.95 1915.49 L1228.4 1915.49 L1228.4 1960.86 L1220.95 1960.86 L1220.95 1915.49 M1220.95 1897.82 L1228.4 1897.82 L1228.4 1907.26 L1220.95 1907.26 L1220.95 1897.82 Z\" fill=\"#000000\" fill-rule=\"evenodd\" fill-opacity=\"1\" /><path clip-path=\"url(#clip200)\" d=\"M1268.87 1905.93 Q1259.96 1905.93 1254.69 1912.57 Q1249.47 1919.21 1249.47 1930.68 Q1249.47 1942.1 1254.69 1948.74 Q1259.96 1955.39 1268.87 1955.39 Q1277.78 1955.39 1282.97 1948.74 Q1288.19 1942.1 1288.19 1930.68 Q1288.19 1919.21 1282.97 1912.57 Q1277.78 1905.93 1268.87 1905.93 M1268.87 1899.28 Q1281.59 1899.28 1289.21 1907.83 Q1296.82 1916.34 1296.82 1930.68 Q1296.82 1944.98 1289.21 1953.52 Q1281.59 1962.03 1268.87 1962.03 Q1256.11 1962.03 1248.45 1953.52 Q1240.84 1945.02 1240.84 1930.68 Q1240.84 1916.34 1248.45 1907.83 Q1256.11 1899.28 1268.87 1899.28 Z\" fill=\"#000000\" fill-rule=\"evenodd\" fill-opacity=\"1\" /><path clip-path=\"url(#clip200)\" d=\"M1317.4 1953.97 L1345.96 1953.97 L1345.96 1960.86 L1307.56 1960.86 L1307.56 1953.97 Q1312.21 1949.15 1320.24 1941.05 Q1328.3 1932.91 1330.36 1930.56 Q1334.29 1926.14 1335.83 1923.1 Q1337.41 1920.02 1337.41 1917.07 Q1337.41 1912.25 1334.01 1909.21 Q1330.65 1906.17 1325.22 1906.17 Q1321.37 1906.17 1317.08 1907.51 Q1312.82 1908.84 1307.96 1911.56 L1307.96 1903.29 Q1312.9 1901.31 1317.2 1900.3 Q1321.49 1899.28 1325.06 1899.28 Q1334.45 1899.28 1340.04 1903.98 Q1345.63 1908.68 1345.63 1916.54 Q1345.63 1920.27 1344.22 1923.63 Q1342.84 1926.95 1339.15 1931.49 Q1338.14 1932.66 1332.71 1938.29 Q1327.28 1943.88 1317.4 1953.97 Z\" fill=\"#000000\" fill-rule=\"evenodd\" fill-opacity=\"1\" /><path clip-path=\"url(#clip200)\" d=\"M1877.23 657.525 L1845.61 662.962 L1856.73 682.222 L1877.23 657.525 M1881.9 649.495 L1886.54 657.529 L1845.68 707.73 L1841.43 700.363 L1852.11 687.834 L1838.48 664.224 L1822.29 667.211 L1817.98 659.738 L1881.9 649.495 Z\" fill=\"#000000\" fill-rule=\"evenodd\" fill-opacity=\"1\" /><path clip-path=\"url(#clip200)\" d=\"M1904.53 683.581 L1908.25 690.037 L1853.66 721.553 L1849.94 715.097 L1904.53 683.581 Z\" fill=\"#000000\" fill-rule=\"evenodd\" fill-opacity=\"1\" /><path clip-path=\"url(#clip200)\" d=\"M1871.48 738.632 L1885.76 763.365 L1879.79 766.808 L1860.59 733.551 L1866.56 730.107 Q1873.06 731.731 1884.09 734.627 Q1895.17 737.537 1898.24 738.151 Q1904.02 739.346 1907.43 739.16 Q1910.88 738.989 1913.44 737.511 Q1917.62 735.1 1918.55 730.634 Q1919.5 726.204 1916.78 721.503 Q1914.86 718.17 1911.55 715.12 Q1908.27 712.104 1903.49 709.252 L1910.65 705.12 Q1914.84 708.407 1917.86 711.62 Q1920.88 714.832 1922.67 717.919 Q1927.36 726.058 1926.09 733.249 Q1924.82 740.44 1918.01 744.369 Q1914.78 746.232 1911.16 746.686 Q1907.6 747.154 1901.82 746.23 Q1900.3 745.94 1892.71 744.055 Q1885.15 742.149 1871.48 738.632 Z\" fill=\"#000000\" fill-rule=\"evenodd\" fill-opacity=\"1\" /><path clip-path=\"url(#clip200)\" d=\"M1947.86 774.846 Q1943.41 767.128 1935.02 765.889 Q1926.65 764.685 1916.72 770.417 Q1906.83 776.129 1903.69 783.976 Q1900.57 791.859 1905.03 799.577 Q1909.48 807.295 1917.83 808.463 Q1926.19 809.667 1936.09 803.955 Q1946.02 798.223 1949.16 790.376 Q1952.32 782.564 1947.86 774.846 M1953.61 771.524 Q1959.97 782.54 1956.38 793.409 Q1952.82 804.258 1940.4 811.428 Q1928.02 818.578 1916.81 816.256 Q1905.63 813.914 1899.27 802.898 Q1892.89 791.848 1896.43 780.964 Q1899.99 770.115 1912.41 762.945 Q1924.83 755.775 1936 758.117 Q1947.23 760.473 1953.61 771.524 Z\" fill=\"#000000\" fill-rule=\"evenodd\" fill-opacity=\"1\" /><path clip-path=\"url(#clip200)\" d=\"M1961.67 843.4 Q1963.52 849.115 1961.72 853.941 Q1959.94 858.803 1954.89 861.72 Q1947.14 866.196 1939.81 863.314 Q1932.49 860.433 1926.82 850.61 Q1924.92 847.312 1923.56 843.419 Q1922.18 839.581 1921.33 835.113 L1928.17 831.164 Q1928.16 835.103 1929.31 839.117 Q1930.45 843.132 1932.66 846.956 Q1936.51 853.621 1941.15 855.576 Q1945.8 857.565 1950.82 854.668 Q1955.45 851.995 1956.16 847.233 Q1956.93 842.487 1953.59 836.698 L1950.06 830.594 L1955.89 827.232 L1959.57 833.616 Q1962.59 838.844 1966.26 840.42 Q1969.97 841.976 1973.9 839.708 Q1977.93 837.379 1978.41 833.266 Q1978.94 829.169 1975.87 823.836 Q1974.18 820.925 1971.63 817.956 Q1969.07 814.988 1965.43 811.759 L1971.75 808.113 Q1975.2 811.499 1977.78 814.683 Q1980.39 817.902 1982.19 821.025 Q1986.85 829.093 1985.88 835.921 Q1984.95 842.729 1978.7 846.334 Q1974.35 848.845 1969.9 848.097 Q1965.48 847.327 1961.67 843.4 Z\" fill=\"#000000\" fill-rule=\"evenodd\" fill-opacity=\"1\" /><path clip-path=\"url(#clip200)\" d=\"M536.512 811.415 L542.609 800.856 L585.969 808.068 L558.083 774.053 L564.18 763.493 L616.557 793.733 L612.567 800.645 L566.575 774.091 L594.7 808.338 L590.589 815.46 L546.867 808.226 L592.859 834.779 L588.889 841.655 L536.512 811.415 Z\" fill=\"#000000\" fill-rule=\"evenodd\" fill-opacity=\"1\" /><path clip-path=\"url(#clip200)\" d=\"M619.343 742.485 Q612.326 738.434 606.786 739.118 Q601.266 739.767 598.248 744.994 Q595.251 750.186 597.429 755.326 Q599.627 760.431 606.643 764.481 Q613.624 768.512 619.144 767.863 Q624.684 767.18 627.682 761.987 Q630.7 756.76 628.502 751.656 Q626.324 746.516 619.343 742.485 M638.295 744.821 Q648.329 750.613 650.633 757.884 Q652.972 765.175 647.665 774.367 Q645.7 777.77 643.432 780.483 Q641.199 783.216 638.506 785.45 L632.226 781.825 Q635.411 779.874 637.748 777.528 Q640.084 775.182 641.745 772.305 Q645.411 765.955 643.901 760.874 Q642.427 755.813 635.726 751.944 L632.534 750.101 Q634.852 754.106 634.769 758.22 Q634.685 762.335 632.173 766.685 Q628.001 773.912 619.941 775.153 Q611.881 776.393 602.795 771.147 Q593.674 765.881 590.718 758.281 Q587.762 750.68 591.934 743.453 Q594.446 739.103 597.968 736.973 Q601.489 734.844 606.117 734.849 L600.153 731.406 L603.88 724.951 L638.295 744.821 Z\" fill=\"#000000\" fill-rule=\"evenodd\" fill-opacity=\"1\" /><path clip-path=\"url(#clip200)\" d=\"M615.713 685.334 Q611.257 693.052 614.378 700.935 Q617.518 708.782 627.446 714.514 Q637.339 720.226 645.706 719.022 Q654.092 717.783 658.548 710.065 Q663.004 702.347 659.843 694.535 Q656.703 686.688 646.81 680.976 Q636.882 675.244 628.515 676.448 Q620.169 677.616 615.713 685.334 M609.96 682.013 Q616.32 670.997 627.53 668.675 Q638.705 666.333 651.124 673.504 Q663.508 680.653 667.102 691.522 Q670.662 702.371 664.302 713.387 Q657.921 724.438 646.726 726.815 Q635.551 729.157 623.132 721.987 Q610.713 714.817 607.154 703.968 Q603.58 693.064 609.96 682.013 Z\" fill=\"#000000\" fill-rule=\"evenodd\" fill-opacity=\"1\" /><polyline clip-path=\"url(#clip202)\" style=\"stroke:#000000; stroke-linecap:butt; stroke-linejoin:round; stroke-width:2; stroke-opacity:0.5; fill:none\" points=\"\n",
       "  729.681,1720.11 554.259,1416.27 \n",
       "  \"/>\n",
       "<polyline clip-path=\"url(#clip202)\" style=\"stroke:#000000; stroke-linecap:butt; stroke-linejoin:round; stroke-width:2; stroke-opacity:0.5; fill:none\" points=\"\n",
       "  1080.53,1720.11 729.681,1112.43 \n",
       "  \"/>\n",
       "<polyline clip-path=\"url(#clip202)\" style=\"stroke:#000000; stroke-linecap:butt; stroke-linejoin:round; stroke-width:2; stroke-opacity:0.5; fill:none\" points=\"\n",
       "  1431.37,1720.11 905.104,808.591 \n",
       "  \"/>\n",
       "<polyline clip-path=\"url(#clip202)\" style=\"stroke:#000000; stroke-linecap:butt; stroke-linejoin:round; stroke-width:2; stroke-opacity:0.5; fill:none\" points=\"\n",
       "  1782.21,1720.11 1080.53,504.751 \n",
       "  \"/>\n",
       "<polyline clip-path=\"url(#clip202)\" style=\"stroke:#000000; stroke-linecap:butt; stroke-linejoin:round; stroke-width:2; stroke-opacity:0.5; fill:none\" points=\"\n",
       "  729.681,1720.11 1431.37,504.751 \n",
       "  \"/>\n",
       "<polyline clip-path=\"url(#clip202)\" style=\"stroke:#000000; stroke-linecap:butt; stroke-linejoin:round; stroke-width:2; stroke-opacity:0.5; fill:none\" points=\"\n",
       "  1080.53,1720.11 1606.79,808.591 \n",
       "  \"/>\n",
       "<polyline clip-path=\"url(#clip202)\" style=\"stroke:#000000; stroke-linecap:butt; stroke-linejoin:round; stroke-width:2; stroke-opacity:0.5; fill:none\" points=\"\n",
       "  1431.37,1720.11 1782.21,1112.43 \n",
       "  \"/>\n",
       "<polyline clip-path=\"url(#clip202)\" style=\"stroke:#000000; stroke-linecap:butt; stroke-linejoin:round; stroke-width:2; stroke-opacity:0.5; fill:none\" points=\"\n",
       "  1782.21,1720.11 1957.64,1416.27 \n",
       "  \"/>\n",
       "<polyline clip-path=\"url(#clip202)\" style=\"stroke:#000000; stroke-linecap:butt; stroke-linejoin:round; stroke-width:2; stroke-opacity:0.5; fill:none\" points=\"\n",
       "  554.259,1416.27 1957.64,1416.27 \n",
       "  \"/>\n",
       "<polyline clip-path=\"url(#clip202)\" style=\"stroke:#000000; stroke-linecap:butt; stroke-linejoin:round; stroke-width:2; stroke-opacity:0.5; fill:none\" points=\"\n",
       "  729.681,1112.43 1782.21,1112.43 \n",
       "  \"/>\n",
       "<polyline clip-path=\"url(#clip202)\" style=\"stroke:#000000; stroke-linecap:butt; stroke-linejoin:round; stroke-width:2; stroke-opacity:0.5; fill:none\" points=\"\n",
       "  905.104,808.591 1606.79,808.591 \n",
       "  \"/>\n",
       "<polyline clip-path=\"url(#clip202)\" style=\"stroke:#000000; stroke-linecap:butt; stroke-linejoin:round; stroke-width:2; stroke-opacity:0.5; fill:none\" points=\"\n",
       "  1080.53,504.751 1431.37,504.751 \n",
       "  \"/>\n",
       "<polyline clip-path=\"url(#clip202)\" style=\"stroke:#000000; stroke-linecap:butt; stroke-linejoin:round; stroke-width:4; stroke-opacity:1; fill:none\" points=\"\n",
       "  729.681,1720.11 716.525,1697.32 \n",
       "  \"/>\n",
       "<polyline clip-path=\"url(#clip202)\" style=\"stroke:#000000; stroke-linecap:butt; stroke-linejoin:round; stroke-width:4; stroke-opacity:1; fill:none\" points=\"\n",
       "  1080.53,1720.11 1067.37,1697.32 \n",
       "  \"/>\n",
       "<polyline clip-path=\"url(#clip202)\" style=\"stroke:#000000; stroke-linecap:butt; stroke-linejoin:round; stroke-width:4; stroke-opacity:1; fill:none\" points=\"\n",
       "  1431.37,1720.11 1418.21,1697.32 \n",
       "  \"/>\n",
       "<polyline clip-path=\"url(#clip202)\" style=\"stroke:#000000; stroke-linecap:butt; stroke-linejoin:round; stroke-width:4; stroke-opacity:1; fill:none\" points=\"\n",
       "  1782.21,1720.11 1769.06,1697.32 \n",
       "  \"/>\n",
       "<path clip-path=\"url(#clip200)\" d=\"M729.537 1758.49 Q725.023 1758.49 722.738 1762.95 Q720.481 1767.38 720.481 1776.29 Q720.481 1785.17 722.738 1789.63 Q725.023 1794.06 729.537 1794.06 Q734.08 1794.06 736.337 1789.63 Q738.623 1785.17 738.623 1776.29 Q738.623 1767.38 736.337 1762.95 Q734.08 1758.49 729.537 1758.49 M729.537 1753.86 Q736.8 1753.86 740.619 1759.62 Q744.468 1765.35 744.468 1776.29 Q744.468 1787.2 740.619 1792.96 Q736.8 1798.68 729.537 1798.68 Q722.275 1798.68 718.426 1792.96 Q714.607 1787.2 714.607 1776.29 Q714.607 1765.35 718.426 1759.62 Q722.275 1753.86 729.537 1753.86 Z\" fill=\"#000000\" fill-rule=\"evenodd\" fill-opacity=\"1\" /><path clip-path=\"url(#clip200)\" d=\"M754.74 1790.5 L760.845 1790.5 L760.845 1797.85 L754.74 1797.85 L754.74 1790.5 Z\" fill=\"#000000\" fill-rule=\"evenodd\" fill-opacity=\"1\" /><path clip-path=\"url(#clip200)\" d=\"M786.076 1777.33 Q781.91 1777.33 779.508 1779.56 Q777.135 1781.79 777.135 1785.69 Q777.135 1789.6 779.508 1791.83 Q781.91 1794.06 786.076 1794.06 Q790.243 1794.06 792.645 1791.83 Q795.046 1789.57 795.046 1785.69 Q795.046 1781.79 792.645 1779.56 Q790.272 1777.33 786.076 1777.33 M780.232 1774.84 Q776.47 1773.92 774.358 1771.34 Q772.274 1768.77 772.274 1765.06 Q772.274 1759.88 775.949 1756.87 Q779.653 1753.86 786.076 1753.86 Q792.529 1753.86 796.204 1756.87 Q799.878 1759.88 799.878 1765.06 Q799.878 1768.77 797.766 1771.34 Q795.683 1773.92 791.95 1774.84 Q796.175 1775.83 798.518 1778.69 Q800.891 1781.56 800.891 1785.69 Q800.891 1791.97 797.043 1795.33 Q793.223 1798.68 786.076 1798.68 Q778.929 1798.68 775.081 1795.33 Q771.262 1791.97 771.262 1785.69 Q771.262 1781.56 773.634 1778.69 Q776.007 1775.83 780.232 1774.84 M778.09 1765.61 Q778.09 1768.97 780.174 1770.85 Q782.286 1772.73 786.076 1772.73 Q789.838 1772.73 791.95 1770.85 Q794.091 1768.97 794.091 1765.61 Q794.091 1762.26 791.95 1760.37 Q789.838 1758.49 786.076 1758.49 Q782.286 1758.49 780.174 1760.37 Q778.09 1762.26 778.09 1765.61 Z\" fill=\"#000000\" fill-rule=\"evenodd\" fill-opacity=\"1\" /><path clip-path=\"url(#clip200)\" d=\"M1080.22 1758.49 Q1075.71 1758.49 1073.42 1762.95 Q1071.17 1767.38 1071.17 1776.29 Q1071.17 1785.17 1073.42 1789.63 Q1075.71 1794.06 1080.22 1794.06 Q1084.77 1794.06 1087.02 1789.63 Q1089.31 1785.17 1089.31 1776.29 Q1089.31 1767.38 1087.02 1762.95 Q1084.77 1758.49 1080.22 1758.49 M1080.22 1753.86 Q1087.49 1753.86 1091.3 1759.62 Q1095.15 1765.35 1095.15 1776.29 Q1095.15 1787.2 1091.3 1792.96 Q1087.49 1798.68 1080.22 1798.68 Q1072.96 1798.68 1069.11 1792.96 Q1065.29 1787.2 1065.29 1776.29 Q1065.29 1765.35 1069.11 1759.62 Q1072.96 1753.86 1080.22 1753.86 Z\" fill=\"#000000\" fill-rule=\"evenodd\" fill-opacity=\"1\" /><path clip-path=\"url(#clip200)\" d=\"M1105.42 1790.5 L1111.53 1790.5 L1111.53 1797.85 L1105.42 1797.85 L1105.42 1790.5 Z\" fill=\"#000000\" fill-rule=\"evenodd\" fill-opacity=\"1\" /><path clip-path=\"url(#clip200)\" d=\"M1137.48 1773.92 Q1133.55 1773.92 1131.23 1776.61 Q1128.95 1779.3 1128.95 1783.99 Q1128.95 1788.64 1131.23 1791.36 Q1133.55 1794.06 1137.48 1794.06 Q1141.42 1794.06 1143.71 1791.36 Q1146.02 1788.64 1146.02 1783.99 Q1146.02 1779.3 1143.71 1776.61 Q1141.42 1773.92 1137.48 1773.92 M1149.09 1755.6 L1149.09 1760.92 Q1146.89 1759.88 1144.63 1759.33 Q1142.4 1758.78 1140.2 1758.78 Q1134.42 1758.78 1131.35 1762.69 Q1128.31 1766.6 1127.88 1774.49 Q1129.59 1771.98 1132.16 1770.65 Q1134.74 1769.29 1137.83 1769.29 Q1144.34 1769.29 1148.1 1773.25 Q1151.89 1777.19 1151.89 1783.99 Q1151.89 1790.64 1147.96 1794.66 Q1144.02 1798.68 1137.48 1798.68 Q1129.99 1798.68 1126.03 1792.96 Q1122.06 1787.2 1122.06 1776.29 Q1122.06 1766.05 1126.92 1759.97 Q1131.78 1753.86 1139.97 1753.86 Q1142.17 1753.86 1144.4 1754.3 Q1146.66 1754.73 1149.09 1755.6 Z\" fill=\"#000000\" fill-rule=\"evenodd\" fill-opacity=\"1\" /><path clip-path=\"url(#clip200)\" d=\"M1430.86 1758.49 Q1426.35 1758.49 1424.06 1762.95 Q1421.81 1767.38 1421.81 1776.29 Q1421.81 1785.17 1424.06 1789.63 Q1426.35 1794.06 1430.86 1794.06 Q1435.41 1794.06 1437.66 1789.63 Q1439.95 1785.17 1439.95 1776.29 Q1439.95 1767.38 1437.66 1762.95 Q1435.41 1758.49 1430.86 1758.49 M1430.86 1753.86 Q1438.13 1753.86 1441.95 1759.62 Q1445.79 1765.35 1445.79 1776.29 Q1445.79 1787.2 1441.95 1792.96 Q1438.13 1798.68 1430.86 1798.68 Q1423.6 1798.68 1419.75 1792.96 Q1415.93 1787.2 1415.93 1776.29 Q1415.93 1765.35 1419.75 1759.62 Q1423.6 1753.86 1430.86 1753.86 Z\" fill=\"#000000\" fill-rule=\"evenodd\" fill-opacity=\"1\" /><path clip-path=\"url(#clip200)\" d=\"M1456.07 1790.5 L1462.17 1790.5 L1462.17 1797.85 L1456.07 1797.85 L1456.07 1790.5 Z\" fill=\"#000000\" fill-rule=\"evenodd\" fill-opacity=\"1\" /><path clip-path=\"url(#clip200)\" d=\"M1490.96 1759.74 L1476.21 1782.8 L1490.96 1782.8 L1490.96 1759.74 M1489.43 1754.65 L1496.78 1754.65 L1496.78 1782.8 L1502.94 1782.8 L1502.94 1787.66 L1496.78 1787.66 L1496.78 1797.85 L1490.96 1797.85 L1490.96 1787.66 L1471.46 1787.66 L1471.46 1782.02 L1489.43 1754.65 Z\" fill=\"#000000\" fill-rule=\"evenodd\" fill-opacity=\"1\" /><path clip-path=\"url(#clip200)\" d=\"M1783.01 1758.49 Q1778.5 1758.49 1776.21 1762.95 Q1773.95 1767.38 1773.95 1776.29 Q1773.95 1785.17 1776.21 1789.63 Q1778.5 1794.06 1783.01 1794.06 Q1787.55 1794.06 1789.81 1789.63 Q1792.1 1785.17 1792.1 1776.29 Q1792.1 1767.38 1789.81 1762.95 Q1787.55 1758.49 1783.01 1758.49 M1783.01 1753.86 Q1790.27 1753.86 1794.09 1759.62 Q1797.94 1765.35 1797.94 1776.29 Q1797.94 1787.2 1794.09 1792.96 Q1790.27 1798.68 1783.01 1798.68 Q1775.75 1798.68 1771.9 1792.96 Q1768.08 1787.2 1768.08 1776.29 Q1768.08 1765.35 1771.9 1759.62 Q1775.75 1753.86 1783.01 1753.86 Z\" fill=\"#000000\" fill-rule=\"evenodd\" fill-opacity=\"1\" /><path clip-path=\"url(#clip200)\" d=\"M1808.21 1790.5 L1814.32 1790.5 L1814.32 1797.85 L1808.21 1797.85 L1808.21 1790.5 Z\" fill=\"#000000\" fill-rule=\"evenodd\" fill-opacity=\"1\" /><path clip-path=\"url(#clip200)\" d=\"M1832.08 1792.93 L1852.48 1792.93 L1852.48 1797.85 L1825.05 1797.85 L1825.05 1792.93 Q1828.38 1789.48 1834.11 1783.7 Q1839.87 1777.88 1841.34 1776.2 Q1844.15 1773.05 1845.25 1770.88 Q1846.38 1768.68 1846.38 1766.57 Q1846.38 1763.12 1843.95 1760.95 Q1841.55 1758.78 1837.67 1758.78 Q1834.92 1758.78 1831.85 1759.74 Q1828.81 1760.69 1825.34 1762.63 L1825.34 1756.73 Q1828.87 1755.31 1831.94 1754.59 Q1835.01 1753.86 1837.55 1753.86 Q1844.27 1753.86 1848.26 1757.22 Q1852.25 1760.58 1852.25 1766.19 Q1852.25 1768.85 1851.24 1771.25 Q1850.26 1773.63 1847.62 1776.87 Q1846.9 1777.71 1843.02 1781.73 Q1839.14 1785.72 1832.08 1792.93 Z\" fill=\"#000000\" fill-rule=\"evenodd\" fill-opacity=\"1\" /><polyline clip-path=\"url(#clip202)\" style=\"stroke:#000000; stroke-linecap:butt; stroke-linejoin:round; stroke-width:4; stroke-opacity:1; fill:none\" points=\"\n",
       "  554.259,1416.27 580.573,1416.27 \n",
       "  \"/>\n",
       "<polyline clip-path=\"url(#clip202)\" style=\"stroke:#000000; stroke-linecap:butt; stroke-linejoin:round; stroke-width:4; stroke-opacity:1; fill:none\" points=\"\n",
       "  729.681,1112.43 755.995,1112.43 \n",
       "  \"/>\n",
       "<polyline clip-path=\"url(#clip202)\" style=\"stroke:#000000; stroke-linecap:butt; stroke-linejoin:round; stroke-width:4; stroke-opacity:1; fill:none\" points=\"\n",
       "  905.104,808.591 931.417,808.591 \n",
       "  \"/>\n",
       "<polyline clip-path=\"url(#clip202)\" style=\"stroke:#000000; stroke-linecap:butt; stroke-linejoin:round; stroke-width:4; stroke-opacity:1; fill:none\" points=\"\n",
       "  1080.53,504.751 1106.84,504.751 \n",
       "  \"/>\n",
       "<path clip-path=\"url(#clip200)\" d=\"M485.828 1369.74 Q483.571 1365.83 478.569 1366.08 Q473.607 1366.34 465.889 1370.8 Q458.196 1375.24 455.466 1379.42 Q452.775 1383.61 455.031 1387.52 Q457.303 1391.46 462.265 1391.2 Q467.267 1390.95 474.96 1386.51 Q482.678 1382.05 485.369 1377.86 Q488.1 1373.68 485.828 1369.74 M489.838 1367.43 Q493.469 1373.72 490.392 1379.9 Q487.355 1386.1 477.883 1391.57 Q468.436 1397.03 461.525 1396.57 Q454.653 1396.13 451.022 1389.84 Q447.391 1383.55 450.428 1377.35 Q453.505 1371.16 462.952 1365.71 Q472.424 1360.24 479.296 1360.69 Q486.206 1361.14 489.838 1367.43 Z\" fill=\"#000000\" fill-rule=\"evenodd\" fill-opacity=\"1\" /><path clip-path=\"url(#clip200)\" d=\"M470.715 1407.57 L473.768 1412.86 L467.403 1416.53 L464.35 1411.25 L470.715 1407.57 Z\" fill=\"#000000\" fill-rule=\"evenodd\" fill-opacity=\"1\" /><path clip-path=\"url(#clip200)\" d=\"M480.546 1429.46 L490.745 1447.13 L486.485 1449.58 L472.77 1425.83 L477.03 1423.37 Q481.676 1424.53 489.552 1426.6 Q497.468 1428.68 499.659 1429.12 Q503.794 1429.97 506.223 1429.84 Q508.692 1429.71 510.521 1428.66 Q513.503 1426.94 514.167 1423.75 Q514.846 1420.58 512.907 1417.22 Q511.532 1414.84 509.172 1412.66 Q506.826 1410.51 503.411 1408.47 L508.523 1405.52 Q511.516 1407.87 513.676 1410.16 Q515.836 1412.46 517.109 1414.66 Q520.465 1420.48 519.555 1425.61 Q518.645 1430.75 513.784 1433.56 Q511.478 1434.89 508.892 1435.21 Q506.345 1435.55 502.222 1434.89 Q501.134 1434.68 495.712 1433.33 Q490.315 1431.97 480.546 1429.46 Z\" fill=\"#000000\" fill-rule=\"evenodd\" fill-opacity=\"1\" /><path clip-path=\"url(#clip200)\" d=\"M660.599 1064.78 Q658.342 1060.87 653.34 1061.12 Q648.378 1061.37 640.66 1065.83 Q632.967 1070.27 630.237 1074.45 Q627.546 1078.65 629.802 1082.56 Q632.074 1086.49 637.036 1086.23 Q642.038 1085.98 649.731 1081.54 Q657.449 1077.09 660.14 1072.89 Q662.871 1068.71 660.599 1064.78 M664.609 1062.46 Q668.24 1068.75 665.163 1074.94 Q662.126 1081.13 652.654 1086.6 Q643.207 1092.06 636.296 1091.6 Q629.424 1091.16 625.793 1084.87 Q622.162 1078.58 625.199 1072.38 Q628.276 1066.2 637.723 1060.74 Q647.195 1055.27 654.067 1055.72 Q660.977 1056.17 664.609 1062.46 Z\" fill=\"#000000\" fill-rule=\"evenodd\" fill-opacity=\"1\" /><path clip-path=\"url(#clip200)\" d=\"M645.486 1102.6 L648.539 1107.89 L642.174 1111.56 L639.121 1106.28 L645.486 1102.6 Z\" fill=\"#000000\" fill-rule=\"evenodd\" fill-opacity=\"1\" /><path clip-path=\"url(#clip200)\" d=\"M689.571 1117.44 L662.221 1116.2 L669.599 1128.97 L689.571 1117.44 M693.214 1113.57 L696.889 1119.93 L672.507 1134.01 L675.589 1139.35 L671.379 1141.78 L668.297 1136.44 L659.477 1141.53 L656.569 1136.5 L665.389 1131.41 L655.638 1114.52 L660.525 1111.69 L693.214 1113.57 Z\" fill=\"#000000\" fill-rule=\"evenodd\" fill-opacity=\"1\" /><path clip-path=\"url(#clip200)\" d=\"M836.123 761.111 Q833.866 757.202 828.864 757.451 Q823.901 757.71 816.183 762.166 Q808.49 766.607 805.76 770.79 Q803.069 774.983 805.326 778.892 Q807.597 782.826 812.56 782.567 Q817.562 782.319 825.255 777.877 Q832.973 773.421 835.664 769.228 Q838.394 765.045 836.123 761.111 M840.132 758.797 Q843.763 765.086 840.686 771.273 Q837.649 777.47 828.177 782.939 Q818.73 788.393 811.819 787.94 Q804.948 787.496 801.316 781.207 Q797.685 774.917 800.723 768.72 Q803.799 762.533 813.246 757.079 Q822.719 751.61 829.59 752.053 Q836.501 752.507 840.132 758.797 Z\" fill=\"#000000\" fill-rule=\"evenodd\" fill-opacity=\"1\" /><path clip-path=\"url(#clip200)\" d=\"M821.009 798.938 L824.062 804.226 L817.697 807.9 L814.644 802.613 L821.009 798.938 Z\" fill=\"#000000\" fill-rule=\"evenodd\" fill-opacity=\"1\" /><path clip-path=\"url(#clip200)\" d=\"M851.398 818.413 Q849.43 815.005 845.942 814.346 Q842.469 813.712 838.409 816.056 Q834.375 818.385 833.162 821.724 Q831.989 825.075 833.957 828.483 Q835.925 831.891 839.398 832.525 Q842.911 833.169 846.945 830.84 Q851.005 828.496 852.178 825.146 Q853.365 821.821 851.398 818.413 M873.061 819.304 L868.45 821.966 Q868.253 819.54 867.601 817.311 Q866.963 815.107 865.863 813.202 Q862.97 808.19 858.053 807.487 Q853.151 806.809 846.093 810.383 Q849.127 810.603 851.567 812.168 Q854.033 813.718 855.581 816.399 Q858.836 822.037 857.284 827.277 Q855.771 832.527 849.882 835.927 Q844.119 839.255 838.668 837.858 Q833.217 836.461 829.948 830.797 Q826.201 824.307 829.18 818.01 Q832.185 811.698 841.632 806.243 Q850.502 801.122 858.195 802.294 Q865.913 803.451 870.007 810.542 Q871.107 812.447 871.845 814.593 Q872.598 816.765 873.061 819.304 Z\" fill=\"#000000\" fill-rule=\"evenodd\" fill-opacity=\"1\" /><path clip-path=\"url(#clip200)\" d=\"M1011.62 457.409 Q1009.37 453.5 1004.37 453.748 Q999.403 454.007 991.685 458.463 Q983.992 462.905 981.262 467.088 Q978.571 471.281 980.827 475.19 Q983.099 479.124 988.061 478.865 Q993.063 478.617 1000.76 474.175 Q1008.47 469.719 1011.17 465.526 Q1013.9 461.343 1011.62 457.409 M1015.63 455.094 Q1019.27 461.384 1016.19 467.571 Q1013.15 473.768 1003.68 479.237 Q994.232 484.691 987.321 484.237 Q980.449 483.794 976.818 477.505 Q973.187 471.215 976.224 465.018 Q979.301 458.831 988.748 453.377 Q998.22 447.908 1005.09 448.351 Q1012 448.805 1015.63 455.094 Z\" fill=\"#000000\" fill-rule=\"evenodd\" fill-opacity=\"1\" /><path clip-path=\"url(#clip200)\" d=\"M996.511 495.236 L999.563 500.524 L993.199 504.198 L990.146 498.911 L996.511 495.236 Z\" fill=\"#000000\" fill-rule=\"evenodd\" fill-opacity=\"1\" /><path clip-path=\"url(#clip200)\" d=\"M1023.58 515.792 Q1021.5 512.183 1018.37 511.218 Q1015.25 510.277 1011.87 512.23 Q1008.49 514.183 1007.74 517.352 Q1007.01 520.546 1009.1 524.154 Q1011.18 527.762 1014.31 528.728 Q1017.47 529.68 1020.82 527.741 Q1024.21 525.788 1024.94 522.594 Q1025.68 519.425 1023.58 515.792 M1022.81 509.486 Q1021.73 505.765 1022.91 502.648 Q1024.1 499.557 1027.3 497.705 Q1031.79 495.115 1036.23 496.793 Q1040.69 498.496 1043.9 504.059 Q1047.13 509.647 1046.36 514.334 Q1045.59 519.021 1041.11 521.61 Q1037.9 523.462 1034.61 522.921 Q1031.34 522.404 1028.67 519.634 Q1029.93 523.785 1028.62 527.247 Q1027.33 530.734 1023.75 532.803 Q1018.31 535.942 1013.48 534.288 Q1008.66 532.658 1005.09 526.469 Q1001.51 520.279 1002.5 515.268 Q1003.49 510.282 1008.93 507.143 Q1012.51 505.074 1016.18 505.697 Q1019.85 506.319 1022.81 509.486 M1029.74 503.016 Q1026.83 504.695 1026.24 507.439 Q1025.67 510.209 1027.57 513.491 Q1029.45 516.749 1032.13 517.638 Q1034.83 518.552 1037.74 516.874 Q1040.64 515.195 1041.2 512.401 Q1041.77 509.631 1039.89 506.373 Q1038 503.091 1035.31 502.202 Q1032.64 501.338 1029.74 503.016 Z\" fill=\"#000000\" fill-rule=\"evenodd\" fill-opacity=\"1\" /><polyline clip-path=\"url(#clip202)\" style=\"stroke:#000000; stroke-linecap:butt; stroke-linejoin:round; stroke-width:4; stroke-opacity:1; fill:none\" points=\"\n",
       "  1431.37,504.751 1418.21,527.539 \n",
       "  \"/>\n",
       "<polyline clip-path=\"url(#clip202)\" style=\"stroke:#000000; stroke-linecap:butt; stroke-linejoin:round; stroke-width:4; stroke-opacity:1; fill:none\" points=\"\n",
       "  1606.79,808.591 1593.64,831.379 \n",
       "  \"/>\n",
       "<polyline clip-path=\"url(#clip202)\" style=\"stroke:#000000; stroke-linecap:butt; stroke-linejoin:round; stroke-width:4; stroke-opacity:1; fill:none\" points=\"\n",
       "  1782.21,1112.43 1769.06,1135.22 \n",
       "  \"/>\n",
       "<polyline clip-path=\"url(#clip202)\" style=\"stroke:#000000; stroke-linecap:butt; stroke-linejoin:round; stroke-width:4; stroke-opacity:1; fill:none\" points=\"\n",
       "  1957.64,1416.27 1944.48,1439.06 \n",
       "  \"/>\n",
       "<path clip-path=\"url(#clip200)\" d=\"M1437.45 449.324 Q1435.19 453.233 1437.9 457.441 Q1440.61 461.609 1448.33 466.065 Q1456.02 470.506 1461.01 470.78 Q1465.99 471.013 1468.24 467.104 Q1470.51 463.17 1467.81 459.002 Q1465.09 454.794 1457.4 450.353 Q1449.68 445.897 1444.7 445.663 Q1439.72 445.39 1437.45 449.324 M1433.44 447.009 Q1437.07 440.719 1443.96 440.291 Q1450.85 439.822 1460.32 445.291 Q1469.77 450.745 1472.83 456.957 Q1475.88 463.129 1472.25 469.419 Q1468.62 475.709 1461.73 476.177 Q1454.84 476.606 1445.39 471.151 Q1435.92 465.683 1432.87 459.51 Q1429.8 453.299 1433.44 447.009 Z\" fill=\"#000000\" fill-rule=\"evenodd\" fill-opacity=\"1\" /><path clip-path=\"url(#clip200)\" d=\"M1477.76 443.499 L1480.81 438.212 L1487.18 441.886 L1484.13 447.174 L1477.76 443.499 Z\" fill=\"#000000\" fill-rule=\"evenodd\" fill-opacity=\"1\" /><path clip-path=\"url(#clip200)\" d=\"M1491.8 424.041 L1502 406.375 L1506.26 408.834 L1492.55 432.59 L1488.29 430.13 Q1486.97 425.527 1484.82 417.672 Q1482.66 409.777 1481.95 407.66 Q1480.62 403.652 1479.29 401.615 Q1477.95 399.538 1476.12 398.482 Q1473.14 396.761 1470.04 397.78 Q1466.96 398.775 1465.02 402.133 Q1463.65 404.514 1462.94 407.647 Q1462.25 410.756 1462.19 414.732 L1457.08 411.781 Q1457.62 408.015 1458.53 404.997 Q1459.43 401.979 1460.71 399.774 Q1464.06 393.96 1468.97 392.18 Q1473.87 390.401 1478.73 393.207 Q1481.04 394.538 1482.61 396.616 Q1484.17 398.654 1485.66 402.555 Q1486.03 403.601 1487.57 408.97 Q1489.09 414.324 1491.8 424.041 Z\" fill=\"#000000\" fill-rule=\"evenodd\" fill-opacity=\"1\" /><path clip-path=\"url(#clip200)\" d=\"M1612.22 754.291 Q1609.96 758.2 1612.68 762.408 Q1615.38 766.576 1623.1 771.032 Q1630.79 775.474 1635.78 775.747 Q1640.76 775.981 1643.01 772.072 Q1645.28 768.138 1642.58 763.97 Q1639.86 759.762 1632.17 755.32 Q1624.45 750.864 1619.47 750.631 Q1614.49 750.357 1612.22 754.291 M1608.21 751.977 Q1611.84 745.687 1618.73 745.258 Q1625.62 744.79 1635.09 750.259 Q1644.54 755.713 1647.6 761.925 Q1650.65 768.097 1647.02 774.387 Q1643.39 780.676 1636.51 781.145 Q1629.61 781.573 1620.16 776.119 Q1610.69 770.65 1607.64 764.478 Q1604.58 758.266 1608.21 751.977 Z\" fill=\"#000000\" fill-rule=\"evenodd\" fill-opacity=\"1\" /><path clip-path=\"url(#clip200)\" d=\"M1652.53 748.466 L1655.58 743.179 L1661.95 746.854 L1658.9 752.141 L1652.53 748.466 Z\" fill=\"#000000\" fill-rule=\"evenodd\" fill-opacity=\"1\" /><path clip-path=\"url(#clip200)\" d=\"M1643.34 702.867 L1655.94 727.177 L1663.31 714.398 L1643.34 702.867 M1638.17 701.649 L1641.84 695.284 L1666.22 709.361 L1669.3 704.023 L1673.51 706.454 L1670.43 711.791 L1679.25 716.884 L1676.34 721.921 L1667.52 716.828 L1657.77 733.718 L1652.89 730.896 L1638.17 701.649 Z\" fill=\"#000000\" fill-rule=\"evenodd\" fill-opacity=\"1\" /><path clip-path=\"url(#clip200)\" d=\"M1787.74 1057.96 Q1785.48 1061.86 1788.2 1066.07 Q1790.9 1070.24 1798.62 1074.7 Q1806.32 1079.14 1811.3 1079.41 Q1816.28 1079.65 1818.54 1075.74 Q1820.81 1071.8 1818.1 1067.63 Q1815.39 1063.43 1807.69 1058.98 Q1799.98 1054.53 1795 1054.3 Q1790.01 1054.02 1787.74 1057.96 M1783.73 1055.64 Q1787.36 1049.35 1794.26 1048.92 Q1801.14 1048.45 1810.62 1053.92 Q1820.06 1059.38 1823.13 1065.59 Q1826.18 1071.76 1822.55 1078.05 Q1818.91 1084.34 1812.03 1084.81 Q1805.13 1085.24 1795.69 1079.78 Q1786.21 1074.31 1783.16 1068.14 Q1780.1 1061.93 1783.73 1055.64 Z\" fill=\"#000000\" fill-rule=\"evenodd\" fill-opacity=\"1\" /><path clip-path=\"url(#clip200)\" d=\"M1828.06 1052.13 L1831.11 1046.84 L1837.47 1050.52 L1834.42 1055.81 L1828.06 1052.13 Z\" fill=\"#000000\" fill-rule=\"evenodd\" fill-opacity=\"1\" /><path clip-path=\"url(#clip200)\" d=\"M1829.73 1016.08 Q1827.76 1019.48 1828.93 1022.83 Q1830.12 1026.16 1834.18 1028.5 Q1838.21 1030.83 1841.71 1030.21 Q1845.2 1029.55 1847.17 1026.15 Q1849.14 1022.74 1847.95 1019.41 Q1846.75 1016.05 1842.72 1013.72 Q1838.66 1011.38 1835.17 1012.03 Q1831.69 1012.67 1829.73 1016.08 M1819.67 996.87 L1824.28 999.532 Q1822.28 1000.92 1820.67 1002.6 Q1819.08 1004.25 1817.98 1006.15 Q1815.09 1011.17 1816.94 1015.78 Q1818.8 1020.36 1825.42 1024.69 Q1824.1 1021.95 1824.23 1019.05 Q1824.34 1016.14 1825.89 1013.46 Q1829.15 1007.82 1834.46 1006.55 Q1839.76 1005.23 1845.65 1008.63 Q1851.42 1011.96 1852.93 1017.38 Q1854.45 1022.8 1851.18 1028.46 Q1847.43 1034.95 1840.49 1035.52 Q1833.52 1036.07 1824.07 1030.62 Q1815.2 1025.5 1812.37 1018.25 Q1809.51 1010.99 1813.61 1003.9 Q1814.71 1001.99 1816.19 1000.28 Q1817.7 998.541 1819.67 996.87 Z\" fill=\"#000000\" fill-rule=\"evenodd\" fill-opacity=\"1\" /><path clip-path=\"url(#clip200)\" d=\"M1963.24 1361.66 Q1960.98 1365.57 1963.7 1369.77 Q1966.41 1373.94 1974.12 1378.4 Q1981.82 1382.84 1986.8 1383.11 Q1991.78 1383.35 1994.04 1379.44 Q1996.31 1375.5 1993.6 1371.34 Q1990.89 1367.13 1983.19 1362.69 Q1975.48 1358.23 1970.5 1358 Q1965.51 1357.72 1963.24 1361.66 M1959.23 1359.34 Q1962.86 1353.05 1969.76 1352.62 Q1976.65 1352.16 1986.12 1357.63 Q1995.56 1363.08 1998.63 1369.29 Q2001.68 1375.46 1998.05 1381.75 Q1994.42 1388.04 1987.53 1388.51 Q1980.63 1388.94 1971.19 1383.49 Q1961.71 1378.02 1958.66 1371.84 Q1955.6 1365.63 1959.23 1359.34 Z\" fill=\"#000000\" fill-rule=\"evenodd\" fill-opacity=\"1\" /><path clip-path=\"url(#clip200)\" d=\"M2003.56 1355.83 L2006.61 1350.55 L2012.97 1354.22 L2009.92 1359.51 L2003.56 1355.83 Z\" fill=\"#000000\" fill-rule=\"evenodd\" fill-opacity=\"1\" /><path clip-path=\"url(#clip200)\" d=\"M2007.82 1322.11 Q2005.74 1325.72 2006.47 1328.91 Q2007.21 1332.08 2010.6 1334.04 Q2013.98 1335.99 2017.09 1335.05 Q2020.22 1334.08 2022.31 1330.47 Q2024.39 1326.87 2023.66 1323.67 Q2022.91 1320.46 2019.55 1318.53 Q2016.17 1316.57 2013.04 1317.54 Q2009.92 1318.48 2007.82 1322.11 M2002.75 1325.93 Q2000.06 1328.72 1996.78 1329.27 Q1993.51 1329.78 1990.3 1327.93 Q1985.81 1325.34 1985.04 1320.65 Q1984.29 1315.94 1987.5 1310.38 Q1990.73 1304.79 1995.17 1303.11 Q1999.61 1301.44 2004.1 1304.02 Q2007.31 1305.88 2008.48 1308.99 Q2009.67 1312.09 2008.61 1315.78 Q2011.57 1312.61 2015.22 1312.02 Q2018.89 1311.39 2022.47 1313.46 Q2027.91 1316.6 2028.89 1321.61 Q2029.89 1326.6 2026.32 1332.79 Q2022.74 1338.98 2017.91 1340.63 Q2013.1 1342.26 2007.66 1339.12 Q2004.07 1337.05 2002.78 1333.57 Q2001.49 1330.08 2002.75 1325.93 M1993.68 1323.17 Q1996.59 1324.85 1999.26 1323.98 Q2001.94 1323.09 2003.84 1319.81 Q2005.72 1316.55 2005.15 1313.78 Q2004.59 1310.99 2001.68 1309.31 Q1998.78 1307.63 1996.08 1308.55 Q1993.39 1309.44 1991.51 1312.69 Q1989.62 1315.98 1990.19 1318.75 Q1990.78 1321.49 1993.68 1323.17 Z\" fill=\"#000000\" fill-rule=\"evenodd\" fill-opacity=\"1\" /><polyline clip-path=\"url(#clip202)\" style=\"stroke:#000000; stroke-linecap:butt; stroke-linejoin:round; stroke-width:4; stroke-opacity:1; fill:none\" points=\"\n",
       "  2133.06,1720.11 378.837,1720.11 \n",
       "  \"/>\n",
       "<polyline clip-path=\"url(#clip202)\" style=\"stroke:#000000; stroke-linecap:butt; stroke-linejoin:round; stroke-width:4; stroke-opacity:1; fill:none\" points=\"\n",
       "  378.837,1720.11 1255.95,200.911 \n",
       "  \"/>\n",
       "<polyline clip-path=\"url(#clip202)\" style=\"stroke:#000000; stroke-linecap:butt; stroke-linejoin:round; stroke-width:4; stroke-opacity:1; fill:none\" points=\"\n",
       "  1255.95,200.911 2133.06,1720.11 \n",
       "  \"/>\n",
       "<circle clip-path=\"url(#clip202)\" cx=\"1179.68\" cy=\"399.067\" r=\"14\" fill=\"#009af9\" fill-rule=\"evenodd\" fill-opacity=\"1\" stroke=\"#000000\" stroke-opacity=\"1\" stroke-width=\"4.4\"/>\n",
       "<circle clip-path=\"url(#clip202)\" cx=\"1167.35\" cy=\"354.365\" r=\"14\" fill=\"#009af9\" fill-rule=\"evenodd\" fill-opacity=\"1\" stroke=\"#000000\" stroke-opacity=\"1\" stroke-width=\"4.4\"/>\n",
       "<circle clip-path=\"url(#clip202)\" cx=\"1255.95\" cy=\"576.795\" r=\"14\" fill=\"#009af9\" fill-rule=\"evenodd\" fill-opacity=\"1\" stroke=\"#000000\" stroke-opacity=\"1\" stroke-width=\"4.4\"/>\n",
       "<circle clip-path=\"url(#clip202)\" cx=\"1151.74\" cy=\"381.41\" r=\"14\" fill=\"#009af9\" fill-rule=\"evenodd\" fill-opacity=\"1\" stroke=\"#000000\" stroke-opacity=\"1\" stroke-width=\"4.4\"/>\n",
       "<circle clip-path=\"url(#clip202)\" cx=\"1139.6\" cy=\"402.437\" r=\"14\" fill=\"#009af9\" fill-rule=\"evenodd\" fill-opacity=\"1\" stroke=\"#000000\" stroke-opacity=\"1\" stroke-width=\"4.4\"/>\n",
       "<circle clip-path=\"url(#clip202)\" cx=\"1324.07\" cy=\"731.893\" r=\"14\" fill=\"#009af9\" fill-rule=\"evenodd\" fill-opacity=\"1\" stroke=\"#000000\" stroke-opacity=\"1\" stroke-width=\"4.4\"/>\n",
       "<circle clip-path=\"url(#clip202)\" cx=\"1133.15\" cy=\"413.599\" r=\"14\" fill=\"#009af9\" fill-rule=\"evenodd\" fill-opacity=\"1\" stroke=\"#000000\" stroke-opacity=\"1\" stroke-width=\"4.4\"/>\n",
       "<circle clip-path=\"url(#clip202)\" cx=\"1264.72\" cy=\"702.247\" r=\"14\" fill=\"#009af9\" fill-rule=\"evenodd\" fill-opacity=\"1\" stroke=\"#000000\" stroke-opacity=\"1\" stroke-width=\"4.4\"/>\n",
       "<circle clip-path=\"url(#clip202)\" cx=\"1074.81\" cy=\"514.659\" r=\"14\" fill=\"#009af9\" fill-rule=\"evenodd\" fill-opacity=\"1\" stroke=\"#000000\" stroke-opacity=\"1\" stroke-width=\"4.4\"/>\n",
       "<circle clip-path=\"url(#clip202)\" cx=\"1211.65\" cy=\"738.002\" r=\"14\" fill=\"#009af9\" fill-rule=\"evenodd\" fill-opacity=\"1\" stroke=\"#000000\" stroke-opacity=\"1\" stroke-width=\"4.4\"/>\n",
       "<circle clip-path=\"url(#clip202)\" cx=\"1096.47\" cy=\"477.129\" r=\"14\" fill=\"#009af9\" fill-rule=\"evenodd\" fill-opacity=\"1\" stroke=\"#000000\" stroke-opacity=\"1\" stroke-width=\"4.4\"/>\n",
       "<circle clip-path=\"url(#clip202)\" cx=\"1307.45\" cy=\"871.314\" r=\"14\" fill=\"#009af9\" fill-rule=\"evenodd\" fill-opacity=\"1\" stroke=\"#000000\" stroke-opacity=\"1\" stroke-width=\"4.4\"/>\n",
       "<circle clip-path=\"url(#clip202)\" cx=\"1062.06\" cy=\"536.734\" r=\"14\" fill=\"#009af9\" fill-rule=\"evenodd\" fill-opacity=\"1\" stroke=\"#000000\" stroke-opacity=\"1\" stroke-width=\"4.4\"/>\n",
       "<circle clip-path=\"url(#clip202)\" cx=\"1085.4\" cy=\"496.311\" r=\"14\" fill=\"#009af9\" fill-rule=\"evenodd\" fill-opacity=\"1\" stroke=\"#000000\" stroke-opacity=\"1\" stroke-width=\"4.4\"/>\n",
       "<circle clip-path=\"url(#clip202)\" cx=\"1021.47\" cy=\"607.034\" r=\"14\" fill=\"#009af9\" fill-rule=\"evenodd\" fill-opacity=\"1\" stroke=\"#000000\" stroke-opacity=\"1\" stroke-width=\"4.4\"/>\n",
       "<circle clip-path=\"url(#clip202)\" cx=\"991.871\" cy=\"658.304\" r=\"14\" fill=\"#009af9\" fill-rule=\"evenodd\" fill-opacity=\"1\" stroke=\"#000000\" stroke-opacity=\"1\" stroke-width=\"4.4\"/>\n",
       "<circle clip-path=\"url(#clip202)\" cx=\"1196.37\" cy=\"907.907\" r=\"14\" fill=\"#009af9\" fill-rule=\"evenodd\" fill-opacity=\"1\" stroke=\"#000000\" stroke-opacity=\"1\" stroke-width=\"4.4\"/>\n",
       "<circle clip-path=\"url(#clip202)\" cx=\"1000.12\" cy=\"675.661\" r=\"14\" fill=\"#009af9\" fill-rule=\"evenodd\" fill-opacity=\"1\" stroke=\"#000000\" stroke-opacity=\"1\" stroke-width=\"4.4\"/>\n",
       "<circle clip-path=\"url(#clip202)\" cx=\"1319.74\" cy=\"1112.43\" r=\"14\" fill=\"#009af9\" fill-rule=\"evenodd\" fill-opacity=\"1\" stroke=\"#000000\" stroke-opacity=\"1\" stroke-width=\"4.4\"/>\n",
       "<circle clip-path=\"url(#clip202)\" cx=\"1020.43\" cy=\"608.844\" r=\"14\" fill=\"#009af9\" fill-rule=\"evenodd\" fill-opacity=\"1\" stroke=\"#000000\" stroke-opacity=\"1\" stroke-width=\"4.4\"/>\n",
       "<circle clip-path=\"url(#clip202)\" cx=\"999.016\" cy=\"645.929\" r=\"14\" fill=\"#009af9\" fill-rule=\"evenodd\" fill-opacity=\"1\" stroke=\"#000000\" stroke-opacity=\"1\" stroke-width=\"4.4\"/>\n",
       "<circle clip-path=\"url(#clip202)\" cx=\"1073.91\" cy=\"745.53\" r=\"14\" fill=\"#009af9\" fill-rule=\"evenodd\" fill-opacity=\"1\" stroke=\"#000000\" stroke-opacity=\"1\" stroke-width=\"4.4\"/>\n",
       "<circle clip-path=\"url(#clip202)\" cx=\"1255.95\" cy=\"1029.57\" r=\"14\" fill=\"#009af9\" fill-rule=\"evenodd\" fill-opacity=\"1\" stroke=\"#000000\" stroke-opacity=\"1\" stroke-width=\"4.4\"/>\n",
       "<circle clip-path=\"url(#clip202)\" cx=\"1019.13\" cy=\"732.631\" r=\"14\" fill=\"#009af9\" fill-rule=\"evenodd\" fill-opacity=\"1\" stroke=\"#000000\" stroke-opacity=\"1\" stroke-width=\"4.4\"/>\n",
       "<circle clip-path=\"url(#clip202)\" cx=\"1080.53\" cy=\"823.059\" r=\"14\" fill=\"#009af9\" fill-rule=\"evenodd\" fill-opacity=\"1\" stroke=\"#000000\" stroke-opacity=\"1\" stroke-width=\"4.4\"/>\n",
       "<circle clip-path=\"url(#clip202)\" cx=\"1239.4\" cy=\"1146.83\" r=\"14\" fill=\"#009af9\" fill-rule=\"evenodd\" fill-opacity=\"1\" stroke=\"#000000\" stroke-opacity=\"1\" stroke-width=\"4.4\"/>\n",
       "<circle clip-path=\"url(#clip202)\" cx=\"951.644\" cy=\"727.98\" r=\"14\" fill=\"#009af9\" fill-rule=\"evenodd\" fill-opacity=\"1\" stroke=\"#000000\" stroke-opacity=\"1\" stroke-width=\"4.4\"/>\n",
       "<circle clip-path=\"url(#clip202)\" cx=\"942.694\" cy=\"743.482\" r=\"14\" fill=\"#009af9\" fill-rule=\"evenodd\" fill-opacity=\"1\" stroke=\"#000000\" stroke-opacity=\"1\" stroke-width=\"4.4\"/>\n",
       "<circle clip-path=\"url(#clip202)\" cx=\"1106.84\" cy=\"1036.47\" r=\"14\" fill=\"#009af9\" fill-rule=\"evenodd\" fill-opacity=\"1\" stroke=\"#000000\" stroke-opacity=\"1\" stroke-width=\"4.4\"/>\n",
       "<circle clip-path=\"url(#clip202)\" cx=\"1164.93\" cy=\"1075.17\" r=\"14\" fill=\"#009af9\" fill-rule=\"evenodd\" fill-opacity=\"1\" stroke=\"#000000\" stroke-opacity=\"1\" stroke-width=\"4.4\"/>\n",
       "<circle clip-path=\"url(#clip202)\" cx=\"969.733\" cy=\"888.549\" r=\"14\" fill=\"#009af9\" fill-rule=\"evenodd\" fill-opacity=\"1\" stroke=\"#000000\" stroke-opacity=\"1\" stroke-width=\"4.4\"/>\n",
       "<circle clip-path=\"url(#clip202)\" cx=\"1056.21\" cy=\"1028.2\" r=\"14\" fill=\"#009af9\" fill-rule=\"evenodd\" fill-opacity=\"1\" stroke=\"#000000\" stroke-opacity=\"1\" stroke-width=\"4.4\"/>\n",
       "<circle clip-path=\"url(#clip202)\" cx=\"1168.24\" cy=\"1264.35\" r=\"14\" fill=\"#009af9\" fill-rule=\"evenodd\" fill-opacity=\"1\" stroke=\"#000000\" stroke-opacity=\"1\" stroke-width=\"4.4\"/>\n",
       "<circle clip-path=\"url(#clip202)\" cx=\"972.437\" cy=\"937.493\" r=\"14\" fill=\"#009af9\" fill-rule=\"evenodd\" fill-opacity=\"1\" stroke=\"#000000\" stroke-opacity=\"1\" stroke-width=\"4.4\"/>\n",
       "<circle clip-path=\"url(#clip202)\" cx=\"901.371\" cy=\"879.702\" r=\"14\" fill=\"#009af9\" fill-rule=\"evenodd\" fill-opacity=\"1\" stroke=\"#000000\" stroke-opacity=\"1\" stroke-width=\"4.4\"/>\n",
       "<circle clip-path=\"url(#clip202)\" cx=\"992.815\" cy=\"960.511\" r=\"14\" fill=\"#009af9\" fill-rule=\"evenodd\" fill-opacity=\"1\" stroke=\"#000000\" stroke-opacity=\"1\" stroke-width=\"4.4\"/>\n",
       "<circle clip-path=\"url(#clip202)\" cx=\"1415.42\" cy=\"1582\" r=\"14\" fill=\"#009af9\" fill-rule=\"evenodd\" fill-opacity=\"1\" stroke=\"#000000\" stroke-opacity=\"1\" stroke-width=\"4.4\"/>\n",
       "<circle clip-path=\"url(#clip202)\" cx=\"948.507\" cy=\"952.68\" r=\"14\" fill=\"#009af9\" fill-rule=\"evenodd\" fill-opacity=\"1\" stroke=\"#000000\" stroke-opacity=\"1\" stroke-width=\"4.4\"/>\n",
       "<circle clip-path=\"url(#clip202)\" cx=\"990.987\" cy=\"1071.29\" r=\"14\" fill=\"#009af9\" fill-rule=\"evenodd\" fill-opacity=\"1\" stroke=\"#000000\" stroke-opacity=\"1\" stroke-width=\"4.4\"/>\n",
       "<circle clip-path=\"url(#clip202)\" cx=\"966.688\" cy=\"1089.8\" r=\"14\" fill=\"#009af9\" fill-rule=\"evenodd\" fill-opacity=\"1\" stroke=\"#000000\" stroke-opacity=\"1\" stroke-width=\"4.4\"/>\n",
       "<circle clip-path=\"url(#clip202)\" cx=\"1005.34\" cy=\"1100.03\" r=\"14\" fill=\"#009af9\" fill-rule=\"evenodd\" fill-opacity=\"1\" stroke=\"#000000\" stroke-opacity=\"1\" stroke-width=\"4.4\"/>\n",
       "<circle clip-path=\"url(#clip202)\" cx=\"1255.95\" cy=\"1686.35\" r=\"14\" fill=\"#009af9\" fill-rule=\"evenodd\" fill-opacity=\"1\" stroke=\"#000000\" stroke-opacity=\"1\" stroke-width=\"4.4\"/>\n",
       "<circle clip-path=\"url(#clip202)\" cx=\"876.168\" cy=\"952.68\" r=\"14\" fill=\"#009af9\" fill-rule=\"evenodd\" fill-opacity=\"1\" stroke=\"#000000\" stroke-opacity=\"1\" stroke-width=\"4.4\"/>\n",
       "<circle clip-path=\"url(#clip202)\" cx=\"918.598\" cy=\"1119.11\" r=\"14\" fill=\"#009af9\" fill-rule=\"evenodd\" fill-opacity=\"1\" stroke=\"#000000\" stroke-opacity=\"1\" stroke-width=\"4.4\"/>\n",
       "<circle clip-path=\"url(#clip202)\" cx=\"868.505\" cy=\"1094.53\" r=\"14\" fill=\"#009af9\" fill-rule=\"evenodd\" fill-opacity=\"1\" stroke=\"#000000\" stroke-opacity=\"1\" stroke-width=\"4.4\"/>\n",
       "<circle clip-path=\"url(#clip202)\" cx=\"978.494\" cy=\"1208.54\" r=\"14\" fill=\"#009af9\" fill-rule=\"evenodd\" fill-opacity=\"1\" stroke=\"#000000\" stroke-opacity=\"1\" stroke-width=\"4.4\"/>\n",
       "<circle clip-path=\"url(#clip202)\" cx=\"919.279\" cy=\"1121.64\" r=\"14\" fill=\"#009af9\" fill-rule=\"evenodd\" fill-opacity=\"1\" stroke=\"#000000\" stroke-opacity=\"1\" stroke-width=\"4.4\"/>\n",
       "<circle clip-path=\"url(#clip202)\" cx=\"873.209\" cy=\"919.078\" r=\"14\" fill=\"#009af9\" fill-rule=\"evenodd\" fill-opacity=\"1\" stroke=\"#000000\" stroke-opacity=\"1\" stroke-width=\"4.4\"/>\n",
       "<circle clip-path=\"url(#clip202)\" cx=\"1028.55\" cy=\"1213.71\" r=\"14\" fill=\"#009af9\" fill-rule=\"evenodd\" fill-opacity=\"1\" stroke=\"#000000\" stroke-opacity=\"1\" stroke-width=\"4.4\"/>\n",
       "<circle clip-path=\"url(#clip202)\" cx=\"915.322\" cy=\"1203.88\" r=\"14\" fill=\"#009af9\" fill-rule=\"evenodd\" fill-opacity=\"1\" stroke=\"#000000\" stroke-opacity=\"1\" stroke-width=\"4.4\"/>\n",
       "<circle clip-path=\"url(#clip202)\" cx=\"867.995\" cy=\"1194.23\" r=\"14\" fill=\"#009af9\" fill-rule=\"evenodd\" fill-opacity=\"1\" stroke=\"#000000\" stroke-opacity=\"1\" stroke-width=\"4.4\"/>\n",
       "<circle clip-path=\"url(#clip202)\" cx=\"884.863\" cy=\"1252.66\" r=\"14\" fill=\"#009af9\" fill-rule=\"evenodd\" fill-opacity=\"1\" stroke=\"#000000\" stroke-opacity=\"1\" stroke-width=\"4.4\"/>\n",
       "<circle clip-path=\"url(#clip202)\" cx=\"779.257\" cy=\"1356.82\" r=\"14\" fill=\"#009af9\" fill-rule=\"evenodd\" fill-opacity=\"1\" stroke=\"#000000\" stroke-opacity=\"1\" stroke-width=\"4.4\"/>\n",
       "<circle clip-path=\"url(#clip202)\" cx=\"1098.73\" cy=\"1648.45\" r=\"14\" fill=\"#009af9\" fill-rule=\"evenodd\" fill-opacity=\"1\" stroke=\"#000000\" stroke-opacity=\"1\" stroke-width=\"4.4\"/>\n",
       "<circle clip-path=\"url(#clip202)\" cx=\"789.983\" cy=\"1356.14\" r=\"14\" fill=\"#009af9\" fill-rule=\"evenodd\" fill-opacity=\"1\" stroke=\"#000000\" stroke-opacity=\"1\" stroke-width=\"4.4\"/>\n",
       "<circle clip-path=\"url(#clip202)\" cx=\"969.544\" cy=\"1658.1\" r=\"14\" fill=\"#009af9\" fill-rule=\"evenodd\" fill-opacity=\"1\" stroke=\"#000000\" stroke-opacity=\"1\" stroke-width=\"4.4\"/>\n",
       "<circle clip-path=\"url(#clip202)\" cx=\"804.619\" cy=\"1277.63\" r=\"14\" fill=\"#009af9\" fill-rule=\"evenodd\" fill-opacity=\"1\" stroke=\"#000000\" stroke-opacity=\"1\" stroke-width=\"4.4\"/>\n",
       "<circle clip-path=\"url(#clip202)\" cx=\"735.465\" cy=\"1436.3\" r=\"14\" fill=\"#009af9\" fill-rule=\"evenodd\" fill-opacity=\"1\" stroke=\"#000000\" stroke-opacity=\"1\" stroke-width=\"4.4\"/>\n",
       "<circle clip-path=\"url(#clip202)\" cx=\"876.429\" cy=\"1442.56\" r=\"14\" fill=\"#009af9\" fill-rule=\"evenodd\" fill-opacity=\"1\" stroke=\"#000000\" stroke-opacity=\"1\" stroke-width=\"4.4\"/>\n",
       "<circle clip-path=\"url(#clip202)\" cx=\"779.072\" cy=\"1292.37\" r=\"14\" fill=\"#009af9\" fill-rule=\"evenodd\" fill-opacity=\"1\" stroke=\"#000000\" stroke-opacity=\"1\" stroke-width=\"4.4\"/>\n",
       "<circle clip-path=\"url(#clip202)\" cx=\"649.435\" cy=\"1251.42\" r=\"14\" fill=\"#009af9\" fill-rule=\"evenodd\" fill-opacity=\"1\" stroke=\"#000000\" stroke-opacity=\"1\" stroke-width=\"4.4\"/>\n",
       "<circle clip-path=\"url(#clip202)\" cx=\"774.397\" cy=\"1392.44\" r=\"14\" fill=\"#009af9\" fill-rule=\"evenodd\" fill-opacity=\"1\" stroke=\"#000000\" stroke-opacity=\"1\" stroke-width=\"4.4\"/>\n",
       "<circle clip-path=\"url(#clip202)\" cx=\"817.392\" cy=\"1354.38\" r=\"14\" fill=\"#009af9\" fill-rule=\"evenodd\" fill-opacity=\"1\" stroke=\"#000000\" stroke-opacity=\"1\" stroke-width=\"4.4\"/>\n",
       "<circle clip-path=\"url(#clip202)\" cx=\"724.083\" cy=\"1542.33\" r=\"14\" fill=\"#009af9\" fill-rule=\"evenodd\" fill-opacity=\"1\" stroke=\"#000000\" stroke-opacity=\"1\" stroke-width=\"4.4\"/>\n",
       "<circle clip-path=\"url(#clip202)\" cx=\"724.083\" cy=\"1542.33\" r=\"14\" fill=\"#009af9\" fill-rule=\"evenodd\" fill-opacity=\"1\" stroke=\"#000000\" stroke-opacity=\"1\" stroke-width=\"4.4\"/>\n",
       "<circle clip-path=\"url(#clip202)\" cx=\"905.104\" cy=\"1720.11\" r=\"14\" fill=\"#009af9\" fill-rule=\"evenodd\" fill-opacity=\"1\" stroke=\"#000000\" stroke-opacity=\"1\" stroke-width=\"4.4\"/>\n",
       "<circle clip-path=\"url(#clip202)\" cx=\"746.388\" cy=\"1343.93\" r=\"14\" fill=\"#009af9\" fill-rule=\"evenodd\" fill-opacity=\"1\" stroke=\"#000000\" stroke-opacity=\"1\" stroke-width=\"4.4\"/>\n",
       "<circle clip-path=\"url(#clip202)\" cx=\"808.062\" cy=\"1720.11\" r=\"14\" fill=\"#009af9\" fill-rule=\"evenodd\" fill-opacity=\"1\" stroke=\"#000000\" stroke-opacity=\"1\" stroke-width=\"4.4\"/>\n",
       "<circle clip-path=\"url(#clip202)\" cx=\"830.956\" cy=\"1720.11\" r=\"14\" fill=\"#009af9\" fill-rule=\"evenodd\" fill-opacity=\"1\" stroke=\"#000000\" stroke-opacity=\"1\" stroke-width=\"4.4\"/>\n",
       "<circle clip-path=\"url(#clip202)\" cx=\"772.307\" cy=\"1407.75\" r=\"14\" fill=\"#009af9\" fill-rule=\"evenodd\" fill-opacity=\"1\" stroke=\"#000000\" stroke-opacity=\"1\" stroke-width=\"4.4\"/>\n",
       "<circle clip-path=\"url(#clip202)\" cx=\"784.907\" cy=\"1410.64\" r=\"14\" fill=\"#009af9\" fill-rule=\"evenodd\" fill-opacity=\"1\" stroke=\"#000000\" stroke-opacity=\"1\" stroke-width=\"4.4\"/>\n",
       "<circle clip-path=\"url(#clip202)\" cx=\"723.124\" cy=\"1379.36\" r=\"14\" fill=\"#009af9\" fill-rule=\"evenodd\" fill-opacity=\"1\" stroke=\"#000000\" stroke-opacity=\"1\" stroke-width=\"4.4\"/>\n",
       "<circle clip-path=\"url(#clip202)\" cx=\"739.518\" cy=\"1578.13\" r=\"14\" fill=\"#009af9\" fill-rule=\"evenodd\" fill-opacity=\"1\" stroke=\"#000000\" stroke-opacity=\"1\" stroke-width=\"4.4\"/>\n",
       "<circle clip-path=\"url(#clip202)\" cx=\"723.124\" cy=\"1578.13\" r=\"14\" fill=\"#009af9\" fill-rule=\"evenodd\" fill-opacity=\"1\" stroke=\"#000000\" stroke-opacity=\"1\" stroke-width=\"4.4\"/>\n",
       "<circle clip-path=\"url(#clip202)\" cx=\"707.754\" cy=\"1647.07\" r=\"14\" fill=\"#009af9\" fill-rule=\"evenodd\" fill-opacity=\"1\" stroke=\"#000000\" stroke-opacity=\"1\" stroke-width=\"4.4\"/>\n",
       "<circle clip-path=\"url(#clip202)\" cx=\"589.681\" cy=\"1442.56\" r=\"14\" fill=\"#009af9\" fill-rule=\"evenodd\" fill-opacity=\"1\" stroke=\"#000000\" stroke-opacity=\"1\" stroke-width=\"4.4\"/>\n",
       "<circle clip-path=\"url(#clip202)\" cx=\"716.806\" cy=\"1580.73\" r=\"14\" fill=\"#009af9\" fill-rule=\"evenodd\" fill-opacity=\"1\" stroke=\"#000000\" stroke-opacity=\"1\" stroke-width=\"4.4\"/>\n",
       "<circle clip-path=\"url(#clip202)\" cx=\"570.966\" cy=\"1445.21\" r=\"14\" fill=\"#009af9\" fill-rule=\"evenodd\" fill-opacity=\"1\" stroke=\"#000000\" stroke-opacity=\"1\" stroke-width=\"4.4\"/>\n",
       "<circle clip-path=\"url(#clip202)\" cx=\"466.548\" cy=\"1703.23\" r=\"14\" fill=\"#009af9\" fill-rule=\"evenodd\" fill-opacity=\"1\" stroke=\"#000000\" stroke-opacity=\"1\" stroke-width=\"4.4\"/>\n",
       "<circle clip-path=\"url(#clip202)\" cx=\"485.154\" cy=\"1535.97\" r=\"14\" fill=\"#009af9\" fill-rule=\"evenodd\" fill-opacity=\"1\" stroke=\"#000000\" stroke-opacity=\"1\" stroke-width=\"4.4\"/>\n",
       "<circle clip-path=\"url(#clip202)\" cx=\"542.221\" cy=\"1645.64\" r=\"14\" fill=\"#009af9\" fill-rule=\"evenodd\" fill-opacity=\"1\" stroke=\"#000000\" stroke-opacity=\"1\" stroke-width=\"4.4\"/>\n",
       "<circle clip-path=\"url(#clip202)\" cx=\"378.837\" cy=\"1720.11\" r=\"14\" fill=\"#009af9\" fill-rule=\"evenodd\" fill-opacity=\"1\" stroke=\"#000000\" stroke-opacity=\"1\" stroke-width=\"4.4\"/>\n",
       "<circle clip-path=\"url(#clip202)\" cx=\"378.837\" cy=\"1720.11\" r=\"14\" fill=\"#009af9\" fill-rule=\"evenodd\" fill-opacity=\"1\" stroke=\"#000000\" stroke-opacity=\"1\" stroke-width=\"4.4\"/>\n",
       "<circle clip-path=\"url(#clip202)\" cx=\"378.837\" cy=\"1720.11\" r=\"14\" fill=\"#009af9\" fill-rule=\"evenodd\" fill-opacity=\"1\" stroke=\"#000000\" stroke-opacity=\"1\" stroke-width=\"4.4\"/>\n",
       "<circle clip-path=\"url(#clip202)\" cx=\"378.837\" cy=\"1720.11\" r=\"14\" fill=\"#009af9\" fill-rule=\"evenodd\" fill-opacity=\"1\" stroke=\"#000000\" stroke-opacity=\"1\" stroke-width=\"4.4\"/>\n",
       "<circle clip-path=\"url(#clip202)\" cx=\"378.837\" cy=\"1720.11\" r=\"14\" fill=\"#009af9\" fill-rule=\"evenodd\" fill-opacity=\"1\" stroke=\"#000000\" stroke-opacity=\"1\" stroke-width=\"4.4\"/>\n",
       "<circle clip-path=\"url(#clip202)\" cx=\"378.837\" cy=\"1720.11\" r=\"14\" fill=\"#009af9\" fill-rule=\"evenodd\" fill-opacity=\"1\" stroke=\"#000000\" stroke-opacity=\"1\" stroke-width=\"4.4\"/>\n",
       "<circle clip-path=\"url(#clip202)\" cx=\"483.447\" cy=\"1650.42\" r=\"14\" fill=\"#009af9\" fill-rule=\"evenodd\" fill-opacity=\"1\" stroke=\"#000000\" stroke-opacity=\"1\" stroke-width=\"4.4\"/>\n",
       "<circle clip-path=\"url(#clip202)\" cx=\"378.837\" cy=\"1720.11\" r=\"14\" fill=\"#009af9\" fill-rule=\"evenodd\" fill-opacity=\"1\" stroke=\"#000000\" stroke-opacity=\"1\" stroke-width=\"4.4\"/>\n",
       "<circle clip-path=\"url(#clip202)\" cx=\"378.837\" cy=\"1720.11\" r=\"14\" fill=\"#009af9\" fill-rule=\"evenodd\" fill-opacity=\"1\" stroke=\"#000000\" stroke-opacity=\"1\" stroke-width=\"4.4\"/>\n",
       "<circle clip-path=\"url(#clip202)\" cx=\"378.837\" cy=\"1720.11\" r=\"14\" fill=\"#009af9\" fill-rule=\"evenodd\" fill-opacity=\"1\" stroke=\"#000000\" stroke-opacity=\"1\" stroke-width=\"4.4\"/>\n",
       "<circle clip-path=\"url(#clip202)\" cx=\"378.837\" cy=\"1720.11\" r=\"14\" fill=\"#009af9\" fill-rule=\"evenodd\" fill-opacity=\"1\" stroke=\"#000000\" stroke-opacity=\"1\" stroke-width=\"4.4\"/>\n",
       "<circle clip-path=\"url(#clip202)\" cx=\"427.566\" cy=\"1720.11\" r=\"14\" fill=\"#009af9\" fill-rule=\"evenodd\" fill-opacity=\"1\" stroke=\"#000000\" stroke-opacity=\"1\" stroke-width=\"4.4\"/>\n",
       "<circle clip-path=\"url(#clip202)\" cx=\"378.837\" cy=\"1720.11\" r=\"14\" fill=\"#009af9\" fill-rule=\"evenodd\" fill-opacity=\"1\" stroke=\"#000000\" stroke-opacity=\"1\" stroke-width=\"4.4\"/>\n",
       "<circle clip-path=\"url(#clip202)\" cx=\"1255.95\" cy=\"200.911\" r=\"14\" fill=\"#009af9\" fill-rule=\"evenodd\" fill-opacity=\"1\" stroke=\"#000000\" stroke-opacity=\"1\" stroke-width=\"4.4\"/>\n",
       "<circle clip-path=\"url(#clip202)\" cx=\"1599.06\" cy=\"795.203\" r=\"14\" fill=\"#009af9\" fill-rule=\"evenodd\" fill-opacity=\"1\" stroke=\"#000000\" stroke-opacity=\"1\" stroke-width=\"4.4\"/>\n",
       "<circle clip-path=\"url(#clip202)\" cx=\"2049.46\" cy=\"1575.32\" r=\"14\" fill=\"#009af9\" fill-rule=\"evenodd\" fill-opacity=\"1\" stroke=\"#000000\" stroke-opacity=\"1\" stroke-width=\"4.4\"/>\n",
       "<circle clip-path=\"url(#clip202)\" cx=\"2133.06\" cy=\"1720.11\" r=\"14\" fill=\"#009af9\" fill-rule=\"evenodd\" fill-opacity=\"1\" stroke=\"#000000\" stroke-opacity=\"1\" stroke-width=\"4.4\"/>\n",
       "<circle clip-path=\"url(#clip202)\" cx=\"1660.04\" cy=\"900.821\" r=\"14\" fill=\"#009af9\" fill-rule=\"evenodd\" fill-opacity=\"1\" stroke=\"#000000\" stroke-opacity=\"1\" stroke-width=\"4.4\"/>\n",
       "<circle clip-path=\"url(#clip202)\" cx=\"2133.06\" cy=\"1720.11\" r=\"14\" fill=\"#009af9\" fill-rule=\"evenodd\" fill-opacity=\"1\" stroke=\"#000000\" stroke-opacity=\"1\" stroke-width=\"4.4\"/>\n",
       "<circle clip-path=\"url(#clip202)\" cx=\"2133.06\" cy=\"1720.11\" r=\"14\" fill=\"#009af9\" fill-rule=\"evenodd\" fill-opacity=\"1\" stroke=\"#000000\" stroke-opacity=\"1\" stroke-width=\"4.4\"/>\n",
       "<circle clip-path=\"url(#clip202)\" cx=\"1607.85\" cy=\"810.426\" r=\"14\" fill=\"#009af9\" fill-rule=\"evenodd\" fill-opacity=\"1\" stroke=\"#000000\" stroke-opacity=\"1\" stroke-width=\"4.4\"/>\n",
       "<circle clip-path=\"url(#clip202)\" cx=\"2133.06\" cy=\"1720.11\" r=\"14\" fill=\"#009af9\" fill-rule=\"evenodd\" fill-opacity=\"1\" stroke=\"#000000\" stroke-opacity=\"1\" stroke-width=\"4.4\"/>\n",
       "<circle clip-path=\"url(#clip202)\" cx=\"2133.06\" cy=\"1720.11\" r=\"14\" fill=\"#009af9\" fill-rule=\"evenodd\" fill-opacity=\"1\" stroke=\"#000000\" stroke-opacity=\"1\" stroke-width=\"4.4\"/>\n",
       "<circle clip-path=\"url(#clip202)\" cx=\"2133.06\" cy=\"1720.11\" r=\"14\" fill=\"#009af9\" fill-rule=\"evenodd\" fill-opacity=\"1\" stroke=\"#000000\" stroke-opacity=\"1\" stroke-width=\"4.4\"/>\n",
       "<circle clip-path=\"url(#clip202)\" cx=\"1730.94\" cy=\"1023.63\" r=\"14\" fill=\"#009af9\" fill-rule=\"evenodd\" fill-opacity=\"1\" stroke=\"#000000\" stroke-opacity=\"1\" stroke-width=\"4.4\"/>\n",
       "<circle clip-path=\"url(#clip202)\" cx=\"2133.06\" cy=\"1720.11\" r=\"14\" fill=\"#009af9\" fill-rule=\"evenodd\" fill-opacity=\"1\" stroke=\"#000000\" stroke-opacity=\"1\" stroke-width=\"4.4\"/>\n",
       "<circle clip-path=\"url(#clip202)\" cx=\"1255.95\" cy=\"200.911\" r=\"14\" fill=\"#009af9\" fill-rule=\"evenodd\" fill-opacity=\"1\" stroke=\"#000000\" stroke-opacity=\"1\" stroke-width=\"4.4\"/>\n",
       "<circle clip-path=\"url(#clip202)\" cx=\"1255.95\" cy=\"200.911\" r=\"14\" fill=\"#009af9\" fill-rule=\"evenodd\" fill-opacity=\"1\" stroke=\"#000000\" stroke-opacity=\"1\" stroke-width=\"4.4\"/>\n",
       "<circle clip-path=\"url(#clip202)\" cx=\"1255.95\" cy=\"200.911\" r=\"14\" fill=\"#009af9\" fill-rule=\"evenodd\" fill-opacity=\"1\" stroke=\"#000000\" stroke-opacity=\"1\" stroke-width=\"4.4\"/>\n",
       "<circle clip-path=\"url(#clip202)\" cx=\"1255.95\" cy=\"200.911\" r=\"14\" fill=\"#009af9\" fill-rule=\"evenodd\" fill-opacity=\"1\" stroke=\"#000000\" stroke-opacity=\"1\" stroke-width=\"4.4\"/>\n",
       "<circle clip-path=\"url(#clip202)\" cx=\"1255.95\" cy=\"200.911\" r=\"14\" fill=\"#009af9\" fill-rule=\"evenodd\" fill-opacity=\"1\" stroke=\"#000000\" stroke-opacity=\"1\" stroke-width=\"4.4\"/>\n",
       "<circle clip-path=\"url(#clip202)\" cx=\"1255.95\" cy=\"200.911\" r=\"14\" fill=\"#009af9\" fill-rule=\"evenodd\" fill-opacity=\"1\" stroke=\"#000000\" stroke-opacity=\"1\" stroke-width=\"4.4\"/>\n",
       "<circle clip-path=\"url(#clip202)\" cx=\"1255.95\" cy=\"200.911\" r=\"14\" fill=\"#009af9\" fill-rule=\"evenodd\" fill-opacity=\"1\" stroke=\"#000000\" stroke-opacity=\"1\" stroke-width=\"4.4\"/>\n",
       "<circle clip-path=\"url(#clip202)\" cx=\"1255.95\" cy=\"200.911\" r=\"14\" fill=\"#009af9\" fill-rule=\"evenodd\" fill-opacity=\"1\" stroke=\"#000000\" stroke-opacity=\"1\" stroke-width=\"4.4\"/>\n",
       "<circle clip-path=\"url(#clip202)\" cx=\"1255.95\" cy=\"200.911\" r=\"14\" fill=\"#009af9\" fill-rule=\"evenodd\" fill-opacity=\"1\" stroke=\"#000000\" stroke-opacity=\"1\" stroke-width=\"4.4\"/>\n",
       "<circle clip-path=\"url(#clip202)\" cx=\"2097.97\" cy=\"1659.34\" r=\"14\" fill=\"#009af9\" fill-rule=\"evenodd\" fill-opacity=\"1\" stroke=\"#000000\" stroke-opacity=\"1\" stroke-width=\"4.4\"/>\n",
       "<circle clip-path=\"url(#clip202)\" cx=\"1255.95\" cy=\"200.911\" r=\"14\" fill=\"#009af9\" fill-rule=\"evenodd\" fill-opacity=\"1\" stroke=\"#000000\" stroke-opacity=\"1\" stroke-width=\"4.4\"/>\n",
       "<circle clip-path=\"url(#clip202)\" cx=\"1255.95\" cy=\"200.911\" r=\"14\" fill=\"#009af9\" fill-rule=\"evenodd\" fill-opacity=\"1\" stroke=\"#000000\" stroke-opacity=\"1\" stroke-width=\"4.4\"/>\n",
       "<circle clip-path=\"url(#clip202)\" cx=\"1255.95\" cy=\"200.911\" r=\"14\" fill=\"#009af9\" fill-rule=\"evenodd\" fill-opacity=\"1\" stroke=\"#000000\" stroke-opacity=\"1\" stroke-width=\"4.4\"/>\n",
       "<circle clip-path=\"url(#clip202)\" cx=\"2029.04\" cy=\"1539.95\" r=\"14\" fill=\"#009af9\" fill-rule=\"evenodd\" fill-opacity=\"1\" stroke=\"#000000\" stroke-opacity=\"1\" stroke-width=\"4.4\"/>\n",
       "<circle clip-path=\"url(#clip202)\" cx=\"1360.16\" cy=\"381.41\" r=\"14\" fill=\"#009af9\" fill-rule=\"evenodd\" fill-opacity=\"1\" stroke=\"#000000\" stroke-opacity=\"1\" stroke-width=\"4.4\"/>\n",
       "<circle clip-path=\"url(#clip202)\" cx=\"1501.54\" cy=\"626.287\" r=\"14\" fill=\"#009af9\" fill-rule=\"evenodd\" fill-opacity=\"1\" stroke=\"#000000\" stroke-opacity=\"1\" stroke-width=\"4.4\"/>\n",
       "<circle clip-path=\"url(#clip202)\" cx=\"1568.69\" cy=\"742.588\" r=\"14\" fill=\"#009af9\" fill-rule=\"evenodd\" fill-opacity=\"1\" stroke=\"#000000\" stroke-opacity=\"1\" stroke-width=\"4.4\"/>\n",
       "<circle clip-path=\"url(#clip202)\" cx=\"1568.58\" cy=\"742.408\" r=\"14\" fill=\"#009af9\" fill-rule=\"evenodd\" fill-opacity=\"1\" stroke=\"#000000\" stroke-opacity=\"1\" stroke-width=\"4.4\"/>\n",
       "<circle clip-path=\"url(#clip202)\" cx=\"1763.96\" cy=\"1080.81\" r=\"14\" fill=\"#009af9\" fill-rule=\"evenodd\" fill-opacity=\"1\" stroke=\"#000000\" stroke-opacity=\"1\" stroke-width=\"4.4\"/>\n",
       "<circle clip-path=\"url(#clip202)\" cx=\"2133.06\" cy=\"1720.11\" r=\"14\" fill=\"#009af9\" fill-rule=\"evenodd\" fill-opacity=\"1\" stroke=\"#000000\" stroke-opacity=\"1\" stroke-width=\"4.4\"/>\n",
       "<circle clip-path=\"url(#clip202)\" cx=\"2133.06\" cy=\"1720.11\" r=\"14\" fill=\"#009af9\" fill-rule=\"evenodd\" fill-opacity=\"1\" stroke=\"#000000\" stroke-opacity=\"1\" stroke-width=\"4.4\"/>\n",
       "<circle clip-path=\"url(#clip202)\" cx=\"2133.06\" cy=\"1720.11\" r=\"14\" fill=\"#009af9\" fill-rule=\"evenodd\" fill-opacity=\"1\" stroke=\"#000000\" stroke-opacity=\"1\" stroke-width=\"4.4\"/>\n",
       "<circle clip-path=\"url(#clip202)\" cx=\"2133.06\" cy=\"1720.11\" r=\"14\" fill=\"#009af9\" fill-rule=\"evenodd\" fill-opacity=\"1\" stroke=\"#000000\" stroke-opacity=\"1\" stroke-width=\"4.4\"/>\n",
       "<circle clip-path=\"url(#clip202)\" cx=\"2133.06\" cy=\"1720.11\" r=\"14\" fill=\"#009af9\" fill-rule=\"evenodd\" fill-opacity=\"1\" stroke=\"#000000\" stroke-opacity=\"1\" stroke-width=\"4.4\"/>\n",
       "<circle clip-path=\"url(#clip202)\" cx=\"2133.06\" cy=\"1720.11\" r=\"14\" fill=\"#009af9\" fill-rule=\"evenodd\" fill-opacity=\"1\" stroke=\"#000000\" stroke-opacity=\"1\" stroke-width=\"4.4\"/>\n",
       "<circle clip-path=\"url(#clip202)\" cx=\"2133.06\" cy=\"1720.11\" r=\"14\" fill=\"#009af9\" fill-rule=\"evenodd\" fill-opacity=\"1\" stroke=\"#000000\" stroke-opacity=\"1\" stroke-width=\"4.4\"/>\n",
       "<circle clip-path=\"url(#clip202)\" cx=\"2124.7\" cy=\"1705.64\" r=\"14\" fill=\"#009af9\" fill-rule=\"evenodd\" fill-opacity=\"1\" stroke=\"#000000\" stroke-opacity=\"1\" stroke-width=\"4.4\"/>\n",
       "<circle clip-path=\"url(#clip202)\" cx=\"2133.06\" cy=\"1720.11\" r=\"14\" fill=\"#009af9\" fill-rule=\"evenodd\" fill-opacity=\"1\" stroke=\"#000000\" stroke-opacity=\"1\" stroke-width=\"4.4\"/>\n",
       "<circle clip-path=\"url(#clip202)\" cx=\"2133.06\" cy=\"1720.11\" r=\"14\" fill=\"#009af9\" fill-rule=\"evenodd\" fill-opacity=\"1\" stroke=\"#000000\" stroke-opacity=\"1\" stroke-width=\"4.4\"/>\n",
       "<circle clip-path=\"url(#clip202)\" cx=\"2133.06\" cy=\"1720.11\" r=\"14\" fill=\"#009af9\" fill-rule=\"evenodd\" fill-opacity=\"1\" stroke=\"#000000\" stroke-opacity=\"1\" stroke-width=\"4.4\"/>\n",
       "<circle clip-path=\"url(#clip202)\" cx=\"2133.06\" cy=\"1720.11\" r=\"14\" fill=\"#009af9\" fill-rule=\"evenodd\" fill-opacity=\"1\" stroke=\"#000000\" stroke-opacity=\"1\" stroke-width=\"4.4\"/>\n",
       "<circle clip-path=\"url(#clip202)\" cx=\"2133.06\" cy=\"1720.11\" r=\"14\" fill=\"#009af9\" fill-rule=\"evenodd\" fill-opacity=\"1\" stroke=\"#000000\" stroke-opacity=\"1\" stroke-width=\"4.4\"/>\n",
       "<circle clip-path=\"url(#clip202)\" cx=\"2133.06\" cy=\"1720.11\" r=\"14\" fill=\"#009af9\" fill-rule=\"evenodd\" fill-opacity=\"1\" stroke=\"#000000\" stroke-opacity=\"1\" stroke-width=\"4.4\"/>\n",
       "<circle clip-path=\"url(#clip202)\" cx=\"1255.95\" cy=\"200.911\" r=\"14\" fill=\"#009af9\" fill-rule=\"evenodd\" fill-opacity=\"1\" stroke=\"#000000\" stroke-opacity=\"1\" stroke-width=\"4.4\"/>\n",
       "<circle clip-path=\"url(#clip202)\" cx=\"1255.95\" cy=\"200.911\" r=\"14\" fill=\"#009af9\" fill-rule=\"evenodd\" fill-opacity=\"1\" stroke=\"#000000\" stroke-opacity=\"1\" stroke-width=\"4.4\"/>\n",
       "<circle clip-path=\"url(#clip202)\" cx=\"1255.95\" cy=\"200.911\" r=\"14\" fill=\"#009af9\" fill-rule=\"evenodd\" fill-opacity=\"1\" stroke=\"#000000\" stroke-opacity=\"1\" stroke-width=\"4.4\"/>\n",
       "<circle clip-path=\"url(#clip202)\" cx=\"1255.95\" cy=\"200.911\" r=\"14\" fill=\"#009af9\" fill-rule=\"evenodd\" fill-opacity=\"1\" stroke=\"#000000\" stroke-opacity=\"1\" stroke-width=\"4.4\"/>\n",
       "<circle clip-path=\"url(#clip202)\" cx=\"1255.95\" cy=\"200.911\" r=\"14\" fill=\"#009af9\" fill-rule=\"evenodd\" fill-opacity=\"1\" stroke=\"#000000\" stroke-opacity=\"1\" stroke-width=\"4.4\"/>\n",
       "<circle clip-path=\"url(#clip202)\" cx=\"1255.95\" cy=\"200.911\" r=\"14\" fill=\"#009af9\" fill-rule=\"evenodd\" fill-opacity=\"1\" stroke=\"#000000\" stroke-opacity=\"1\" stroke-width=\"4.4\"/>\n",
       "<circle clip-path=\"url(#clip202)\" cx=\"1255.95\" cy=\"200.911\" r=\"14\" fill=\"#009af9\" fill-rule=\"evenodd\" fill-opacity=\"1\" stroke=\"#000000\" stroke-opacity=\"1\" stroke-width=\"4.4\"/>\n",
       "<circle clip-path=\"url(#clip202)\" cx=\"1255.95\" cy=\"200.911\" r=\"14\" fill=\"#009af9\" fill-rule=\"evenodd\" fill-opacity=\"1\" stroke=\"#000000\" stroke-opacity=\"1\" stroke-width=\"4.4\"/>\n",
       "<circle clip-path=\"url(#clip202)\" cx=\"1255.95\" cy=\"200.911\" r=\"14\" fill=\"#009af9\" fill-rule=\"evenodd\" fill-opacity=\"1\" stroke=\"#000000\" stroke-opacity=\"1\" stroke-width=\"4.4\"/>\n",
       "<circle clip-path=\"url(#clip202)\" cx=\"1255.95\" cy=\"200.911\" r=\"14\" fill=\"#009af9\" fill-rule=\"evenodd\" fill-opacity=\"1\" stroke=\"#000000\" stroke-opacity=\"1\" stroke-width=\"4.4\"/>\n",
       "<circle clip-path=\"url(#clip202)\" cx=\"1255.95\" cy=\"200.911\" r=\"14\" fill=\"#009af9\" fill-rule=\"evenodd\" fill-opacity=\"1\" stroke=\"#000000\" stroke-opacity=\"1\" stroke-width=\"4.4\"/>\n",
       "<circle clip-path=\"url(#clip202)\" cx=\"1255.95\" cy=\"200.911\" r=\"14\" fill=\"#009af9\" fill-rule=\"evenodd\" fill-opacity=\"1\" stroke=\"#000000\" stroke-opacity=\"1\" stroke-width=\"4.4\"/>\n",
       "<circle clip-path=\"url(#clip202)\" cx=\"1255.95\" cy=\"200.911\" r=\"14\" fill=\"#009af9\" fill-rule=\"evenodd\" fill-opacity=\"1\" stroke=\"#000000\" stroke-opacity=\"1\" stroke-width=\"4.4\"/>\n",
       "<circle clip-path=\"url(#clip202)\" cx=\"1255.95\" cy=\"200.911\" r=\"14\" fill=\"#009af9\" fill-rule=\"evenodd\" fill-opacity=\"1\" stroke=\"#000000\" stroke-opacity=\"1\" stroke-width=\"4.4\"/>\n",
       "<circle clip-path=\"url(#clip202)\" cx=\"1255.95\" cy=\"200.911\" r=\"14\" fill=\"#009af9\" fill-rule=\"evenodd\" fill-opacity=\"1\" stroke=\"#000000\" stroke-opacity=\"1\" stroke-width=\"4.4\"/>\n",
       "<circle clip-path=\"url(#clip202)\" cx=\"1255.95\" cy=\"200.911\" r=\"14\" fill=\"#009af9\" fill-rule=\"evenodd\" fill-opacity=\"1\" stroke=\"#000000\" stroke-opacity=\"1\" stroke-width=\"4.4\"/>\n",
       "<circle clip-path=\"url(#clip202)\" cx=\"1255.95\" cy=\"200.911\" r=\"14\" fill=\"#009af9\" fill-rule=\"evenodd\" fill-opacity=\"1\" stroke=\"#000000\" stroke-opacity=\"1\" stroke-width=\"4.4\"/>\n",
       "<circle clip-path=\"url(#clip202)\" cx=\"1255.95\" cy=\"200.911\" r=\"14\" fill=\"#009af9\" fill-rule=\"evenodd\" fill-opacity=\"1\" stroke=\"#000000\" stroke-opacity=\"1\" stroke-width=\"4.4\"/>\n",
       "<circle clip-path=\"url(#clip202)\" cx=\"1255.95\" cy=\"200.911\" r=\"14\" fill=\"#009af9\" fill-rule=\"evenodd\" fill-opacity=\"1\" stroke=\"#000000\" stroke-opacity=\"1\" stroke-width=\"4.4\"/>\n",
       "<circle clip-path=\"url(#clip202)\" cx=\"1255.95\" cy=\"200.911\" r=\"14\" fill=\"#009af9\" fill-rule=\"evenodd\" fill-opacity=\"1\" stroke=\"#000000\" stroke-opacity=\"1\" stroke-width=\"4.4\"/>\n",
       "<circle clip-path=\"url(#clip202)\" cx=\"1255.95\" cy=\"200.911\" r=\"14\" fill=\"#009af9\" fill-rule=\"evenodd\" fill-opacity=\"1\" stroke=\"#000000\" stroke-opacity=\"1\" stroke-width=\"4.4\"/>\n",
       "<circle clip-path=\"url(#clip202)\" cx=\"1255.95\" cy=\"200.911\" r=\"14\" fill=\"#009af9\" fill-rule=\"evenodd\" fill-opacity=\"1\" stroke=\"#000000\" stroke-opacity=\"1\" stroke-width=\"4.4\"/>\n",
       "<circle clip-path=\"url(#clip202)\" cx=\"1255.95\" cy=\"200.911\" r=\"14\" fill=\"#009af9\" fill-rule=\"evenodd\" fill-opacity=\"1\" stroke=\"#000000\" stroke-opacity=\"1\" stroke-width=\"4.4\"/>\n",
       "<circle clip-path=\"url(#clip202)\" cx=\"1255.95\" cy=\"200.911\" r=\"14\" fill=\"#009af9\" fill-rule=\"evenodd\" fill-opacity=\"1\" stroke=\"#000000\" stroke-opacity=\"1\" stroke-width=\"4.4\"/>\n",
       "<circle clip-path=\"url(#clip202)\" cx=\"1255.95\" cy=\"200.911\" r=\"14\" fill=\"#009af9\" fill-rule=\"evenodd\" fill-opacity=\"1\" stroke=\"#000000\" stroke-opacity=\"1\" stroke-width=\"4.4\"/>\n",
       "<circle clip-path=\"url(#clip202)\" cx=\"1255.95\" cy=\"200.911\" r=\"14\" fill=\"#009af9\" fill-rule=\"evenodd\" fill-opacity=\"1\" stroke=\"#000000\" stroke-opacity=\"1\" stroke-width=\"4.4\"/>\n",
       "<circle clip-path=\"url(#clip202)\" cx=\"1255.95\" cy=\"200.911\" r=\"14\" fill=\"#009af9\" fill-rule=\"evenodd\" fill-opacity=\"1\" stroke=\"#000000\" stroke-opacity=\"1\" stroke-width=\"4.4\"/>\n",
       "<circle clip-path=\"url(#clip202)\" cx=\"1255.95\" cy=\"200.911\" r=\"14\" fill=\"#009af9\" fill-rule=\"evenodd\" fill-opacity=\"1\" stroke=\"#000000\" stroke-opacity=\"1\" stroke-width=\"4.4\"/>\n",
       "<circle clip-path=\"url(#clip202)\" cx=\"1255.95\" cy=\"200.911\" r=\"14\" fill=\"#009af9\" fill-rule=\"evenodd\" fill-opacity=\"1\" stroke=\"#000000\" stroke-opacity=\"1\" stroke-width=\"4.4\"/>\n",
       "<circle clip-path=\"url(#clip202)\" cx=\"1255.95\" cy=\"200.911\" r=\"14\" fill=\"#009af9\" fill-rule=\"evenodd\" fill-opacity=\"1\" stroke=\"#000000\" stroke-opacity=\"1\" stroke-width=\"4.4\"/>\n",
       "<circle clip-path=\"url(#clip202)\" cx=\"1255.95\" cy=\"200.911\" r=\"14\" fill=\"#009af9\" fill-rule=\"evenodd\" fill-opacity=\"1\" stroke=\"#000000\" stroke-opacity=\"1\" stroke-width=\"4.4\"/>\n",
       "<circle clip-path=\"url(#clip202)\" cx=\"1255.95\" cy=\"200.911\" r=\"14\" fill=\"#009af9\" fill-rule=\"evenodd\" fill-opacity=\"1\" stroke=\"#000000\" stroke-opacity=\"1\" stroke-width=\"4.4\"/>\n",
       "<circle clip-path=\"url(#clip202)\" cx=\"1255.95\" cy=\"200.911\" r=\"14\" fill=\"#009af9\" fill-rule=\"evenodd\" fill-opacity=\"1\" stroke=\"#000000\" stroke-opacity=\"1\" stroke-width=\"4.4\"/>\n",
       "<circle clip-path=\"url(#clip202)\" cx=\"1255.95\" cy=\"200.911\" r=\"14\" fill=\"#009af9\" fill-rule=\"evenodd\" fill-opacity=\"1\" stroke=\"#000000\" stroke-opacity=\"1\" stroke-width=\"4.4\"/>\n",
       "<circle clip-path=\"url(#clip202)\" cx=\"1255.95\" cy=\"200.911\" r=\"14\" fill=\"#009af9\" fill-rule=\"evenodd\" fill-opacity=\"1\" stroke=\"#000000\" stroke-opacity=\"1\" stroke-width=\"4.4\"/>\n",
       "<circle clip-path=\"url(#clip202)\" cx=\"1255.95\" cy=\"200.911\" r=\"14\" fill=\"#009af9\" fill-rule=\"evenodd\" fill-opacity=\"1\" stroke=\"#000000\" stroke-opacity=\"1\" stroke-width=\"4.4\"/>\n",
       "<circle clip-path=\"url(#clip202)\" cx=\"1255.95\" cy=\"200.911\" r=\"14\" fill=\"#009af9\" fill-rule=\"evenodd\" fill-opacity=\"1\" stroke=\"#000000\" stroke-opacity=\"1\" stroke-width=\"4.4\"/>\n",
       "<circle clip-path=\"url(#clip202)\" cx=\"1255.95\" cy=\"200.911\" r=\"14\" fill=\"#009af9\" fill-rule=\"evenodd\" fill-opacity=\"1\" stroke=\"#000000\" stroke-opacity=\"1\" stroke-width=\"4.4\"/>\n",
       "</svg>\n"
      ]
     },
     "execution_count": 205,
     "metadata": {},
     "output_type": "execute_result"
    }
   ],
   "source": [
    "push!(LOAD_PATH, \"src\")\n",
    "using Plots\n",
    "using TernaryPlots\n",
    "using CSV\n",
    "using DataFrames\n",
    "\n",
    "\n",
    "#Downloading Global whole-rock geochemical database compilation from zenodo.org\n",
    "path = \"https://zenodo.org/record/3359791/files/major.csv?download=1\"\n",
    "df = CSV.read(download(path), DataFrame)\n",
    "df = coalesce.(df,0)\n",
    "filter!(row -> row[:sio2] >= 0, df)\n",
    "filter!(row -> row[:al2o3] >= 0, df)\n",
    "filter!(row -> row[:mgo] >= 0, df)\n",
    "filter!(row -> (row[:sio2] .+ row[:al2o3] .+ row[:mgo]) >= 0.9, df)\n",
    "filter!(row -> (row[:sio2] .+ row[:al2o3] .+ row[:mgo]) <= 1.1, df)\n",
    "compos = [df.sio2 df.al2o3 df.mgo]\n",
    "a = [zeros(eltype(compos), size(compos, 1)) zeros(eltype(compos), size(compos, 1))]\n",
    "\n",
    "for i in 1:size(compos,1)\n",
    "    a[i,:] = collect(tern2cart(compos[i,:]))'\n",
    "end\n",
    "\n",
    "ternary_axes(\n",
    "    title=\"Rocks\",\n",
    "    xguide=\"SiO2\",\n",
    "    yguide=\"Al2O3\",\n",
    "    zguide=\"MgO\",\n",
    ")\n",
    "\n",
    "p = scatter!(a[:,1],a[:,2], legend=false)"
   ]
  },
  {
   "cell_type": "markdown",
   "id": "642663c4",
   "metadata": {},
   "source": [
    "# G.4.3 JuMP.jl\n",
    "\n",
    "We use the JuMP.jl package (version 1.0.0 #//) to specify optimization problems that\n",
    "we can then solve using a variety of solvers, such as those included in GLPK.jl\n",
    "and Ipopt.jl:"
   ]
  },
  {
   "cell_type": "code",
   "execution_count": 206,
   "id": "c8fdee99",
   "metadata": {},
   "outputs": [
    {
     "data": {
      "text/plain": [
       "A JuMP Model\n",
       "Feasibility problem with:\n",
       "Variables: 0\n",
       "Model mode: AUTOMATIC\n",
       "CachingOptimizer state: EMPTY_OPTIMIZER\n",
       "Solver name: GLPK"
      ]
     },
     "execution_count": 206,
     "metadata": {},
     "output_type": "execute_result"
    }
   ],
   "source": [
    "using JuMP\n",
    "using GLPK\n",
    "model = Model(GLPK.Optimizer)"
   ]
  },
  {
   "cell_type": "code",
   "execution_count": 207,
   "id": "f17dcd41",
   "metadata": {},
   "outputs": [
    {
     "data": {
      "text/plain": [
       "3-element Vector{VariableRef}:\n",
       " x[1]\n",
       " x[2]\n",
       " x[3]"
      ]
     },
     "execution_count": 207,
     "metadata": {},
     "output_type": "execute_result"
    }
   ],
   "source": [
    "@variable(model, x[1:3]) # define variables x[1], x[2], and x[3]"
   ]
  },
  {
   "cell_type": "code",
   "execution_count": 208,
   "id": "3505d02e",
   "metadata": {},
   "outputs": [
    {
     "data": {
      "text/latex": [
       "$$ x_{1} + 0 x_{2} + x_{3} $$"
      ],
      "text/plain": [
       "x[1] + 0 x[2] + x[3]"
      ]
     },
     "execution_count": 208,
     "metadata": {},
     "output_type": "execute_result"
    }
   ],
   "source": [
    "@objective(model, Max, sum(x) - x[2])  # define maximization objective #//"
   ]
  },
  {
   "cell_type": "code",
   "execution_count": 209,
   "id": "ee9f575d",
   "metadata": {},
   "outputs": [
    {
     "data": {
      "text/latex": [
       "$$ x_{1} + x_{2} \\leq 3.0 $$"
      ],
      "text/plain": [
       "x[1] + x[2] ≤ 3.0"
      ]
     },
     "execution_count": 209,
     "metadata": {},
     "output_type": "execute_result"
    }
   ],
   "source": [
    "@constraint(model, x[1] + x[2] ≤ 3)  # add constraint"
   ]
  },
  {
   "cell_type": "code",
   "execution_count": 210,
   "id": "6ecf6a71",
   "metadata": {},
   "outputs": [
    {
     "data": {
      "text/latex": [
       "$$ x_{2} + x_{3} \\leq 2.0 $$"
      ],
      "text/plain": [
       "x[2] + x[3] ≤ 2.0"
      ]
     },
     "execution_count": 210,
     "metadata": {},
     "output_type": "execute_result"
    }
   ],
   "source": [
    "@constraint(model, x[2] + x[3] ≤ 2)  # add another constraint"
   ]
  },
  {
   "cell_type": "code",
   "execution_count": 211,
   "id": "20f93b9a",
   "metadata": {},
   "outputs": [
    {
     "data": {
      "text/latex": [
       "$$ x_{2} \\geq 0.0 $$"
      ],
      "text/plain": [
       "x[2] ≥ 0.0"
      ]
     },
     "execution_count": 211,
     "metadata": {},
     "output_type": "execute_result"
    }
   ],
   "source": [
    "@constraint(model, x[2] ≥ 0)  # add another constraint"
   ]
  },
  {
   "cell_type": "code",
   "execution_count": 212,
   "id": "a416d404",
   "metadata": {},
   "outputs": [],
   "source": [
    "optimize!(model)  # solve"
   ]
  },
  {
   "cell_type": "code",
   "execution_count": 213,
   "id": "97e6eeec",
   "metadata": {},
   "outputs": [
    {
     "data": {
      "text/plain": [
       "3-element Vector{Float64}:\n",
       " 3.0\n",
       " 0.0\n",
       " 2.0"
      ]
     },
     "execution_count": 213,
     "metadata": {},
     "output_type": "execute_result"
    }
   ],
   "source": [
    "value.(x)  # extract optimal values for elements in x"
   ]
  },
  {
   "cell_type": "markdown",
   "id": "9fc8ba8f",
   "metadata": {},
   "source": [
    "## G.5 Convenience Functions\n",
    "\n",
    "There are a few functions that allow us to specify the algorithms in this book more compactly. The following functions are useful when working with dictionaries and named tuples:"
   ]
  },
  {
   "cell_type": "code",
   "execution_count": 214,
   "id": "f3ab986a",
   "metadata": {},
   "outputs": [],
   "source": [
    "Base.Dict{Symbol,V}(a::NamedTuple) where V =\n",
    "  Dict{Symbol,V}(n=>v for (n,v) in zip(keys(a), values(a)))\n",
    "Base.convert(::Type{Dict{Symbol,V}}, a::NamedTuple) where V =\n",
    "  Dict{Symbol,V}(a)\n",
    "Base.isequal(a::Dict{Symbol,<:Any}, nt::NamedTuple) =\n",
    "  length(a) == length(nt) &&\n",
    "  all(a[n] == v for (n,v) in zip(keys(nt), values(nt)))"
   ]
  },
  {
   "cell_type": "code",
   "execution_count": 215,
   "id": "9c2ead97",
   "metadata": {},
   "outputs": [
    {
     "data": {
      "text/plain": [
       "Dict{Symbol, Integer} with 3 entries:\n",
       "  :a => 1\n",
       "  :b => 2\n",
       "  :c => 3"
      ]
     },
     "execution_count": 215,
     "metadata": {},
     "output_type": "execute_result"
    }
   ],
   "source": [
    "a = Dict{Symbol,Integer}((a=1, b=2, c=3))"
   ]
  },
  {
   "cell_type": "code",
   "execution_count": 216,
   "id": "b88e90f2",
   "metadata": {},
   "outputs": [
    {
     "data": {
      "text/plain": [
       "true"
      ]
     },
     "execution_count": 216,
     "metadata": {},
     "output_type": "execute_result"
    }
   ],
   "source": [
    "isequal(a, (a=1, b=2, c=3))"
   ]
  },
  {
   "cell_type": "code",
   "execution_count": 217,
   "id": "28797d1c",
   "metadata": {},
   "outputs": [
    {
     "data": {
      "text/plain": [
       "true"
      ]
     },
     "execution_count": 217,
     "metadata": {},
     "output_type": "execute_result"
    }
   ],
   "source": [
    "isequal(a, (a=1, c=3, b=2))"
   ]
  },
  {
   "cell_type": "code",
   "execution_count": 218,
   "id": "e29af4e7",
   "metadata": {},
   "outputs": [
    {
     "data": {
      "text/plain": [
       "Dict{Dict{Symbol, Integer}, Float64} with 2 entries:\n",
       "  Dict(:a=>1, :b=>1) => 0.2\n",
       "  Dict(:a=>1, :b=>2) => 0.8"
      ]
     },
     "execution_count": 218,
     "metadata": {},
     "output_type": "execute_result"
    }
   ],
   "source": [
    "Dict{Dict{Symbol,Integer},Float64}((a=1, b=1)=>0.2, (a=1, b=2)=>0.8)"
   ]
  },
  {
   "cell_type": "markdown",
   "id": "2daa3f06",
   "metadata": {},
   "source": [
    "We define SetCategorical to represent distributions over discrete sets:"
   ]
  },
  {
   "cell_type": "code",
   "execution_count": 219,
   "id": "3516f276",
   "metadata": {},
   "outputs": [],
   "source": [
    "struct SetCategorical{S}\n",
    "    elements::Vector{S} # Set elements (could be repeated)\n",
    "    distr::Categorical  # Categorical distribution over set elements\n",
    "    function SetCategorical(elements::AbstractVector{S}) where S\n",
    "        weights = ones(length(elements))\n",
    "        return new{S}(elements, Categorical(normalize(weights, 1)))\n",
    "    end\n",
    "    function SetCategorical(\n",
    "            elements::AbstractVector{S},\n",
    "            weights::AbstractVector{Float64}\n",
    "            ) where S\n",
    "        ℓ₁ = norm(weights,1)\n",
    "        if ℓ₁ < 1e-6 || isinf(ℓ₁)\n",
    "            return SetCategorical(elements)\n",
    "        end\n",
    "        distr = Categorical(normalize(weights, 1))\n",
    "        return new{S}(elements, distr)\n",
    "    end\n",
    "end\n",
    "Distributions.rand(D::SetCategorical) = D.elements[rand(D.distr)]\n",
    "Distributions.rand(D::SetCategorical, n::Int) = D.elements[rand(D.distr, n)]\n",
    "function Distributions.pdf(D::SetCategorical, x)\n",
    "    sum(e == x ? w : 0.0 for (e,w) in zip(D.elements, D.distr.p))\n",
    "end"
   ]
  },
  {
   "cell_type": "code",
   "execution_count": 237,
   "id": "188ff56d",
   "metadata": {},
   "outputs": [],
   "source": [
    "L = SetCategorical([\"up\", \"down\", \"left\", \"right\"],[0.4, 0.2, 0.3, 0.1]);"
   ]
  },
  {
   "cell_type": "code",
   "execution_count": 238,
   "id": "5062b6b6",
   "metadata": {},
   "outputs": [
    {
     "data": {
      "text/plain": [
       "\"down\""
      ]
     },
     "execution_count": 238,
     "metadata": {},
     "output_type": "execute_result"
    }
   ],
   "source": [
    "rand(L)"
   ]
  },
  {
   "cell_type": "code",
   "execution_count": 239,
   "id": "ac65a9ae",
   "metadata": {},
   "outputs": [
    {
     "data": {
      "text/plain": [
       "5-element Vector{String}:\n",
       " \"up\"\n",
       " \"down\"\n",
       " \"up\"\n",
       " \"left\"\n",
       " \"up\""
      ]
     },
     "execution_count": 239,
     "metadata": {},
     "output_type": "execute_result"
    }
   ],
   "source": [
    "rand(L, 5)"
   ]
  },
  {
   "cell_type": "code",
   "execution_count": 240,
   "id": "a03059c6",
   "metadata": {},
   "outputs": [
    {
     "data": {
      "text/plain": [
       "0.3999999999999999"
      ]
     },
     "execution_count": 240,
     "metadata": {},
     "output_type": "execute_result"
    }
   ],
   "source": [
    "pdf(L, \"up\")"
   ]
  },
  {
   "cell_type": "markdown",
   "id": "d3c0c2e1",
   "metadata": {},
   "source": [
    "EOF"
   ]
  }
 ],
 "metadata": {
  "kernelspec": {
   "display_name": "Julia 1.7.2",
   "language": "julia",
   "name": "julia-1.7"
  },
  "language_info": {
   "file_extension": ".jl",
   "mimetype": "application/julia",
   "name": "julia",
   "version": "1.7.2"
  }
 },
 "nbformat": 4,
 "nbformat_minor": 5
}
