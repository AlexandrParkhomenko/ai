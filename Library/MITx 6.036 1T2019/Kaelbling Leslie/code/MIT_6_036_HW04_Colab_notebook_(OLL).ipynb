{
  "nbformat": 4,
  "nbformat_minor": 0,
  "metadata": {
    "colab": {
      "name": "MIT 6.036 HW04 Colab notebook (OLL)",
      "provenance": [],
      "collapsed_sections": []
    },
    "kernelspec": {
      "name": "python3",
      "display_name": "Python 3"
    }
  },
  "cells": [
    {
      "cell_type": "markdown",
      "metadata": {
        "id": "Wmv3jlgr4_Ji"
      },
      "source": [
        "# MIT 6.036 Spring 2019: Homework 4\n",
        "This homework does not include provided Python code. Instead, we\n",
        "encourage you to write your own code to help you answer some of these\n",
        "problems, and/or test and debug the code components we do ask for.\n",
        "Some of the problems below are simple enough that hand calculation\n",
        "should be possible; your hand solutions can serve as test cases for\n",
        "your code.  You may also find that including utilities written in\n",
        "previous labs (like a `sd` or signed distance function) will be\n",
        "helpful, as you build up additional functions and utilities for\n",
        "calculation of margins, different loss functions, gradients, and other\n",
        "functions needed for margin maximization and gradient descent."
      ]
    },
    {
      "cell_type": "code",
      "metadata": {
        "id": "N622h8-D5i-M"
      },
      "source": [
        "import numpy as np"
      ],
      "execution_count": null,
      "outputs": []
    },
    {
      "cell_type": "markdown",
      "metadata": {
        "id": "jUS51a8m5rEI"
      },
      "source": [
        "## 6) Implementing gradient descent\n",
        "In this section we will implement generic versions of gradient descent and apply these to the SVM objective.\n",
        "\n",
        "<b>Note: </b> If you need a refresher on gradient descent,\n",
        "you may want to reference\n",
        "<a href=\"https://openlearninglibrary.mit.edu/courses/course-v1:MITx+6.036+1T2019/courseware/Week4/gradient_descent/2\">this week's notes</a>.\n",
        "\n",
        "### 6.1) Implementing Gradient Descent\n",
        "We want to find the $x$ that minimizes the value of the *objective\n",
        "function* $f(x)$, for an arbitrary scalar function $f$.  The function\n",
        "$f$ will be implemented as a Python function of one argument, that\n",
        "will be a numpy column vector.  For efficiency, we will work with\n",
        "Python functions that return not just the value of $f$ at $f(x)$ but\n",
        "also return the gradient vector at $x$, that is, $\\nabla_x f(x)$.\n",
        "\n",
        "We will now implement a generic gradient descent function, `gd`, that\n",
        "has the following input arguments:\n",
        "\n",
        "* `f`: a function whose input is an `x`, a column vector, and\n",
        "  returns a scalar.\n",
        "* `df`: a function whose input is an `x`, a column vector, and\n",
        "  returns a column vector representing the gradient of `f` at `x`.\n",
        "* `x0`: an initial value of $x$, `x0`, which is a column vector.\n",
        "* `step_size_fn`: a function that is given the iteration index (an\n",
        "  integer) and returns a step size.\n",
        "* `max_iter`: the number of iterations to perform\n",
        "\n",
        "Our function `gd` returns a tuple:\n",
        "\n",
        "* `x`: the value at the final step\n",
        "* `fs`: the list of values of `f` found during all the iterations (including `f(x0)`)\n",
        "* `xs`: the list of values of `x` found during all the iterations (including `x0`)\n",
        "\n",
        "**Hint:** This is a short function!\n",
        "\n",
        "**Hint 2:** If you do `temp_x = x` where `x` is a vector\n",
        "(numpy array), then `temp_x` is just another name for the same vector\n",
        "as `x` and changing an entry in one will change an entry in the other.\n",
        "You should either use `x.copy()` or remember to change entries back after modification.\n",
        "\n",
        "Some utilities you may find useful are included below."
      ]
    },
    {
      "cell_type": "code",
      "metadata": {
        "id": "fYOF0HS34YOj"
      },
      "source": [
        "def rv(value_list):\n",
        "    return np.array([value_list])\n",
        "\n",
        "def cv(value_list):\n",
        "    return np.transpose(rv(value_list))\n",
        "\n",
        "def f1(x):\n",
        "    return float((2 * x + 3)**2)\n",
        "\n",
        "def df1(x):\n",
        "    return 2 * 2 * (2 * x + 3)\n",
        "\n",
        "def f2(v):\n",
        "    x = float(v[0]); y = float(v[1])\n",
        "    return (x - 2.) * (x - 3.) * (x + 3.) * (x + 1.) + (x + y -1)**2\n",
        "\n",
        "def df2(v):\n",
        "    x = float(v[0]); y = float(v[1])\n",
        "    return cv([(-3. + x) * (-2. + x) * (1. + x) + \\\n",
        "               (-3. + x) * (-2. + x) * (3. + x) + \\\n",
        "               (-3. + x) * (1. + x) * (3. + x) + \\\n",
        "               (-2. + x) * (1. + x) * (3. + x) + \\\n",
        "               2 * (-1. + x + y),\n",
        "               2 * (-1. + x + y)])"
      ],
      "execution_count": null,
      "outputs": []
    },
    {
      "cell_type": "markdown",
      "metadata": {
        "id": "s03NFuxG6kvt"
      },
      "source": [
        "The main function to implement is `gd`, defined below."
      ]
    },
    {
      "cell_type": "code",
      "metadata": {
        "id": "mNsLE3bg6jt9"
      },
      "source": [
        "def gd(f, df, x0, step_size_fn, max_iter):\n",
        "    pass"
      ],
      "execution_count": null,
      "outputs": []
    },
    {
      "cell_type": "markdown",
      "metadata": {
        "id": "jXu60n-H5_Hz"
      },
      "source": [
        "To evaluate results, we also use a simple `package_ans` function,\n",
        "which checks the final `x`, as well as the first and last values in\n",
        "`fs`, `xs`."
      ]
    },
    {
      "cell_type": "code",
      "metadata": {
        "id": "GJcClaqN4nE6"
      },
      "source": [
        "def package_ans(gd_vals):\n",
        "    x, fs, xs = gd_vals\n",
        "    return [x.tolist(), [fs[0], fs[-1]], [xs[0].tolist(), xs[-1].tolist()]]"
      ],
      "execution_count": null,
      "outputs": []
    },
    {
      "cell_type": "markdown",
      "metadata": {
        "id": "aN_XbacQ6Rue"
      },
      "source": [
        "The test cases are provided below, but you should feel free (and are encouraged!) to write more of your own."
      ]
    },
    {
      "cell_type": "code",
      "metadata": {
        "id": "jq0OJLEf6Dan"
      },
      "source": [
        "# Test case 1\n",
        "ans=package_ans(gd(f1, df1, cv([0.]), lambda i: 0.1, 1000))\n",
        "\n",
        "# Test case 2\n",
        "ans=package_ans(gd(f2, df2, cv([0., 0.]), lambda i: 0.01, 1000))"
      ],
      "execution_count": null,
      "outputs": []
    },
    {
      "cell_type": "markdown",
      "metadata": {
        "id": "pbuSt5hY645k"
      },
      "source": [
        "### 6.2) Numerical Gradient\n",
        "Getting the analytic gradient correct for complicated functions is\n",
        "tricky.  A very handy method of verifying the analytic gradient or\n",
        "even substituting for it is to estimate the gradient at a point by\n",
        "means of *finite differences*.\n",
        "\n",
        "Assume that we are given a function $f(x)$ that takes a column vector\n",
        "as its argument and returns a scalar value.  In gradient descent, we\n",
        "will want to estimate the gradient of $f$ at a particular $x_0.$\n",
        "\n",
        "The $i^{th}$ component of $\\nabla_x f(x_0)$ can be estimated as\n",
        "$$\\frac{f(x_0+\\delta^{i}) - f(x_0-\\delta^{i})}{2\\delta}$$\n",
        "where $\\delta^{i}$ is a column vector whose $i^{th}$ coordinate is\n",
        "$\\delta$, a small constant such as 0.001, and whose other components\n",
        "are zero.\n",
        "Note that adding or subtracting $\\delta^{i}$ is the same as\n",
        "incrementing or decrementing the $i^{th}$ component of $x_0$ by\n",
        "$\\delta$, leaving the other components of $x_0$ unchanged.  Using\n",
        "these results, we can estimate the $i^{th}$ component of the gradient.\n",
        "\n",
        "For example, if $x_0 = (1,1,\\dots,1)^T$ and $\\delta = 0.01$,\n",
        "we may approximate the first component of $\\nabla_x f(x_0)$ as\n",
        "$$\\frac{f((1,1,1,\\dots)^T+(0.01,0,0,\\dots)^T) - f((1,1,1,\\dots)^T-(0.01,0,0,\\dots)^T)}{2\\cdot 0.01}.$$\n",
        "(We add the transpose so that these are column vectors.)\n",
        "**This process should be done for each dimension independently,\n",
        "and together the results of each computation are compiled to give the\n",
        "estimated gradient, which is $d$ dimensional.**\n",
        "\n",
        "Implement this as a function `num_grad` that takes as arguments the\n",
        "objective function `f` and a value of `delta`, and returns a new\n",
        "**function** that takes an `x` (a column vector of parameters) and\n",
        "returns a gradient column vector.\n",
        "\n",
        "**Note:** As in the previous part, make sure you do not modify your input vector."
      ]
    },
    {
      "cell_type": "code",
      "metadata": {
        "id": "WPVwGZ-l6XvW"
      },
      "source": [
        "def num_grad(f, delta=0.001):\n",
        "    def df(x):\n",
        "        pass\n",
        "    return df"
      ],
      "execution_count": null,
      "outputs": []
    },
    {
      "cell_type": "markdown",
      "metadata": {
        "id": "kElTR0bL7cbG"
      },
      "source": [
        "The test cases are shown below; these use the functions defined in the previous exercise.\n"
      ]
    },
    {
      "cell_type": "code",
      "metadata": {
        "id": "3D7BHu4S7Z8D"
      },
      "source": [
        "x = cv([0.])\n",
        "ans=(num_grad(f1)(x).tolist(), x.tolist())\n",
        "\n",
        "x = cv([0.1])\n",
        "ans=(num_grad(f1)(x).tolist(), x.tolist())\n",
        "\n",
        "x = cv([0., 0.])\n",
        "ans=(num_grad(f2)(x).tolist(), x.tolist())\n",
        "\n",
        "x = cv([0.1, -0.1])\n",
        "ans=(num_grad(f2)(x).tolist(), x.tolist())"
      ],
      "execution_count": null,
      "outputs": []
    },
    {
      "cell_type": "markdown",
      "metadata": {
        "id": "WASaSsYu75sG"
      },
      "source": [
        "A faster (one function evaluation per entry), though sometimes less\n",
        "accurate, estimate is to use:\n",
        "$$\\frac{f(x_0+\\delta^{i}) - f(x_0)}{\\delta}$$\n",
        "for the $i^{th}$ component of $\\nabla_x f(x_0).$"
      ]
    },
    {
      "cell_type": "markdown",
      "metadata": {
        "id": "E31sdqyG78jD"
      },
      "source": [
        "### 6.3) Using the Numerical Gradient\n",
        "Recall that our generic gradient descent function takes both a function\n",
        "`f` that returns the value of our function at a given point, and `df`,\n",
        "a function that returns a gradient at a given point.  Write a function\n",
        "`minimize` that takes only a function `f` and uses this function and\n",
        "numerical gradient descent to return the local minimum.  We have\n",
        "provided you with our implementations of `num_grad` and `gd`, so you\n",
        "should not redefine them in the code box below.\n",
        "You may use the default of `delta=0.001` for `num_grad`.\n",
        "\n",
        "**Hint:** Your definition of `minimize` should call `num_grad` exactly\n",
        "once, to return a function that is called many times.\n",
        "You should return the same outputs as `gd`."
      ]
    },
    {
      "cell_type": "code",
      "metadata": {
        "id": "CStwqDem76Bx"
      },
      "source": [
        "def minimize(f, x0, step_size_fn, max_iter):\n",
        "    pass"
      ],
      "execution_count": null,
      "outputs": []
    },
    {
      "cell_type": "markdown",
      "metadata": {
        "id": "4gl0FTby8EQq"
      },
      "source": [
        "The test cases are below."
      ]
    },
    {
      "cell_type": "code",
      "metadata": {
        "id": "UxBLWJFm8DnV"
      },
      "source": [
        "ans = package_ans(minimize(f1, cv([0.]), lambda i: 0.1, 1000))\n",
        "\n",
        "ans = package_ans(minimize(f2, cv([0., 0.]), lambda i: 0.01, 1000))"
      ],
      "execution_count": null,
      "outputs": []
    },
    {
      "cell_type": "markdown",
      "metadata": {
        "id": "BH-1e98V8LtM"
      },
      "source": [
        "## 7) Applying gradient descent to SVM objective\n",
        "\n",
        "**Note:** In this section,\n",
        "you will code many individual functions, each of which depends on previous ones.\n",
        "We **strongly recommend** that you test each of the components on your own to debug.\n",
        "\n",
        "### 7.1) Calculating the SVM objective\n",
        "\n",
        "Implement the single-argument hinge function, which computes $L_h$,\n",
        "and use that to implement hinge loss for a data point and separator.\n",
        "Using the latter function, implement the SVM objective.\n",
        "Note that these functions should work for matrix/vector arguments,\n",
        "so that we can compute the objective for a whole dataset with one call.\n",
        "<pre> x is d x n, y is 1 x n, th is d x 1, th0 is 1 x 1, lam is a scalar </pre>\n",
        "\n",
        "Hint: Look at `np.where` for implementing `hinge`."
      ]
    },
    {
      "cell_type": "code",
      "metadata": {
        "id": "F_6E78BF8e2W"
      },
      "source": [
        "def hinge(v):\n",
        "    pass\n",
        "\n",
        "# x is dxn, y is 1xn, th is dx1, th0 is 1x1\n",
        "def hinge_loss(x, y, th, th0):\n",
        "    pass\n",
        "\n",
        "# x is dxn, y is 1xn, th is dx1, th0 is 1x1, lam is a scalar\n",
        "def svm_obj(x, y, th, th0, lam):\n",
        "    pass"
      ],
      "execution_count": null,
      "outputs": []
    },
    {
      "cell_type": "code",
      "metadata": {
        "id": "muPDf4etYsoy"
      },
      "source": [
        "# add your tests here"
      ],
      "execution_count": null,
      "outputs": []
    },
    {
      "cell_type": "markdown",
      "metadata": {
        "id": "QY1NJEOP8jCC"
      },
      "source": [
        "In the test cases for this problem, we'll use the following\n",
        "`super_simple_separable` test dataset and test separator for some of\n",
        "the tests.  A couple of the test cases are also shown below."
      ]
    },
    {
      "cell_type": "code",
      "metadata": {
        "id": "POFvK7zW8iYK"
      },
      "source": [
        "def super_simple_separable():\n",
        "    X = np.array([[2, 3, 9, 12],\n",
        "                  [5, 2, 6, 5]])\n",
        "    y = np.array([[1, -1, 1, -1]])\n",
        "    return X, y\n",
        "\n",
        "sep_e_separator = np.array([[-0.40338351], [1.1849563]]), np.array([[-2.26910091]])\n",
        "\n",
        "# Test case 1\n",
        "x_1, y_1 = super_simple_separable()\n",
        "th1, th1_0 = sep_e_separator\n",
        "ans = svm_obj(x_1, y_1, th1, th1_0, .1)\n",
        "\n",
        "# Test case 2\n",
        "ans = svm_obj(x_1, y_1, th1, th1_0, 0.0)"
      ],
      "execution_count": null,
      "outputs": []
    },
    {
      "cell_type": "markdown",
      "metadata": {
        "id": "ZjBB0R4u8tF1"
      },
      "source": [
        "### 7.2) Calculating the SVM gradient\n",
        "\n",
        "Define a function `svm_obj_grad` that returns the gradient of the SVM\n",
        "objective function with respect to $\\theta$ and $\\theta_0$ in a single\n",
        "column vector.  The last component of the gradient vector should be\n",
        "the partial derivative with respect to $\\theta_0$.  Look at\n",
        "`np.vstack` as a simple way of stacking two matrices/vectors\n",
        "vertically.  We have broken it down into pieces that mimic steps in\n",
        "the chain rule; this leads to code that is a bit inefficient but\n",
        "easier to write and debug.  We can worry about efficiency later."
      ]
    },
    {
      "cell_type": "code",
      "metadata": {
        "id": "lAtDiGVK8vnt"
      },
      "source": [
        "# Returns the gradient of hinge(v) with respect to v.\n",
        "def d_hinge(v):\n",
        "    return None\n",
        "\n",
        "# Returns the gradient of hinge_loss(x, y, th, th0) with respect to th\n",
        "def d_hinge_loss_th(x, y, th, th0):\n",
        "    return None\n",
        "\n",
        "# Returns the gradient of hinge_loss(x, y, th, th0) with respect to th0\n",
        "def d_hinge_loss_th0(x, y, th, th0):\n",
        "    return None\n",
        "\n",
        "# Returns the gradient of svm_obj(x, y, th, th0) with respect to th\n",
        "def d_svm_obj_th(x, y, th, th0, lam):\n",
        "    return None\n",
        "\n",
        "# Returns the gradient of svm_obj(x, y, th, th0) with respect to th0\n",
        "def d_svm_obj_th0(x, y, th, th0, lam):\n",
        "    return None\n",
        "\n",
        "# Returns the full gradient as a single vector\n",
        "def svm_obj_grad(X, y, th, th0, lam):\n",
        "    return None"
      ],
      "execution_count": null,
      "outputs": []
    },
    {
      "cell_type": "code",
      "metadata": {
        "id": "OPjFac-nY1Z4"
      },
      "source": [
        "# add your tests here"
      ],
      "execution_count": null,
      "outputs": []
    },
    {
      "cell_type": "markdown",
      "metadata": {
        "id": "LDP6H_2P80vm"
      },
      "source": [
        "Some test cases that may be of use are shown below."
      ]
    },
    {
      "cell_type": "code",
      "metadata": {
        "id": "xNuF6-c38yji"
      },
      "source": [
        "X1 = np.array([[1, 2, 3, 9, 10]])\n",
        "y1 = np.array([[1, 1, 1, -1, -1]])\n",
        "th1, th10 = np.array([[-0.31202807]]), np.array([[1.834     ]])\n",
        "X2 = np.array([[2, 3, 9, 12],\n",
        "               [5, 2, 6, 5]])\n",
        "y2 = np.array([[1, -1, 1, -1]])\n",
        "th2, th20=np.array([[ -3.,  15.]]).T, np.array([[ 2.]])"
      ],
      "execution_count": null,
      "outputs": []
    },
    {
      "cell_type": "code",
      "metadata": {
        "id": "tZ9Q6k935tLY"
      },
      "source": [
        "d_hinge(np.array([[ 71.]])).tolist()\n",
        "d_hinge(np.array([[ -23.]])).tolist()\n",
        "d_hinge(np.array([[ 71, -23.]])).tolist()"
      ],
      "execution_count": null,
      "outputs": []
    },
    {
      "cell_type": "code",
      "metadata": {
        "id": "5fcjaWEo5uWo"
      },
      "source": [
        "d_hinge_loss_th(X2[:,0:1], y2[:,0:1], th2, th20).tolist()\n",
        "d_hinge_loss_th(X2, y2, th2, th20).tolist()\n",
        "d_hinge_loss_th0(X2[:,0:1], y2[:,0:1], th2, th20).tolist()\n",
        "d_hinge_loss_th0(X2, y2, th2, th20).tolist()"
      ],
      "execution_count": null,
      "outputs": []
    },
    {
      "cell_type": "code",
      "metadata": {
        "id": "FkjrEb5y5xBU"
      },
      "source": [
        "d_svm_obj_th(X2[:,0:1], y2[:,0:1], th2, th20, 0.01).tolist()\n",
        "d_svm_obj_th(X2, y2, th2, th20, 0.01).tolist()\n",
        "d_svm_obj_th0(X2[:,0:1], y2[:,0:1], th2, th20, 0.01).tolist()\n",
        "d_svm_obj_th0(X2, y2, th2, th20, 0.01).tolist()"
      ],
      "execution_count": null,
      "outputs": []
    },
    {
      "cell_type": "code",
      "metadata": {
        "id": "BB7axWab58Lp"
      },
      "source": [
        "svm_obj_grad(X2, y2, th2, th20, 0.01).tolist()\n",
        "svm_obj_grad(X2[:,0:1], y2[:,0:1], th2, th20, 0.01).tolist()"
      ],
      "execution_count": null,
      "outputs": []
    },
    {
      "cell_type": "markdown",
      "metadata": {
        "id": "3vf6OFEU89pC"
      },
      "source": [
        "### 7.3) Batch SVM minimize\n",
        "\n",
        "Putting it all together, use the functions you built earlier to write\n",
        "a gradient descent minimizer for the SVM objective.  You do not need\n",
        "to paste in your previous definitions; you can just call the ones\n",
        "defined by the staff.  You will need to call `gd`, which is already\n",
        "defined for you as well; your function `batch_svm_min` should return\n",
        "the values that `gd` does.\n",
        "\n",
        "* Initialize all the separator parameters to zero,\n",
        "* use the step size function provided below, and\n",
        "* specify 10 iterations."
      ]
    },
    {
      "cell_type": "code",
      "metadata": {
        "id": "dIqWIYnq8_Nb"
      },
      "source": [
        "def batch_svm_min(data, labels, lam):\n",
        "    def svm_min_step_size_fn(i):\n",
        "       return 2/(i+1)**0.5\n",
        "    pass"
      ],
      "execution_count": null,
      "outputs": []
    },
    {
      "cell_type": "markdown",
      "metadata": {
        "id": "JH4xd7C-9BIm"
      },
      "source": [
        "Test cases are shown below, where an additional separable test\n",
        "data set has been specified."
      ]
    },
    {
      "cell_type": "code",
      "metadata": {
        "id": "HgOC_i879Acd"
      },
      "source": [
        "def separable_medium():\n",
        "    X = np.array([[2, -1, 1, 1],\n",
        "                  [-2, 2, 2, -1]])\n",
        "    y = np.array([[1, -1, 1, -1]])\n",
        "    return X, y\n",
        "sep_m_separator = np.array([[ 2.69231855], [ 0.67624906]]), np.array([[-3.02402521]])\n",
        "\n",
        "x_1, y_1 = super_simple_separable()\n",
        "ans = package_ans(batch_svm_min(x_1, y_1, 0.0001))\n",
        "\n",
        "x_1, y_1 = separable_medium()\n",
        "ans = package_ans(batch_svm_min(x_1, y_1, 0.0001))"
      ],
      "execution_count": null,
      "outputs": []
    },
    {
      "cell_type": "markdown",
      "metadata": {
        "id": "4tFslLvo5X9w"
      },
      "source": [
        "### 7.4) Numerical SVM objective (Optional)\n",
        "\n",
        "Recall from the previous question that we were able to closely approximate gradients\n",
        "with numerical estimates.\n",
        "We may apply the same technique to optimize the SVM objective.\n",
        "\n",
        "Using your definition of `minimize` and `num_grad` from the previous problem,\n",
        "implement a function that optimizes the SVM objective through numeric approximations.\n",
        "\n",
        "How well does this function perform, compared to the analytical result?\n",
        "Consider both accuracy and runtime."
      ]
    },
    {
      "cell_type": "code",
      "metadata": {
        "id": "bLt1LwN05b3k"
      },
      "source": [
        "# your code here"
      ],
      "execution_count": null,
      "outputs": []
    }
  ]
}